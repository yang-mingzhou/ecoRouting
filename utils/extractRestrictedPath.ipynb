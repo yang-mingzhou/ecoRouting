{
 "cells": [
  {
   "cell_type": "code",
   "execution_count": 234,
   "metadata": {},
   "outputs": [],
   "source": [
    "import osmnx as ox\n",
    "import geopandas as gpd\n",
    "import os\n",
    "import pandas as pd\n",
    "from utils.osmgraph import GraphFunctions\n",
    "from utils.spaitalShape import Point, OdPair, Box\n",
    "import numpy as np\n",
    "import plotly.graph_objects as go\n",
    "import plotly\n",
    "from shapely.geometry import MultiPoint"
   ]
  },
  {
   "cell_type": "code",
   "execution_count": 18,
   "metadata": {},
   "outputs": [
    {
     "data": {
      "text/plain": [
       "'0.16.1'"
      ]
     },
     "execution_count": 18,
     "metadata": {},
     "output_type": "execute_result"
    }
   ],
   "source": [
    "ox.__version__"
   ]
  },
  {
   "cell_type": "code",
   "execution_count": 19,
   "metadata": {},
   "outputs": [],
   "source": [
    "roadRestrictionFilefolder = 'data/restrictionByMnDoT/'"
   ]
  },
  {
   "cell_type": "code",
   "execution_count": 45,
   "metadata": {},
   "outputs": [
    {
     "name": "stderr",
     "output_type": "stream",
     "text": [
      "c:\\Users\\mingzhou\\anaconda3\\lib\\site-packages\\ipykernel\\ipkernel.py:287: DeprecationWarning: `should_run_async` will not call `transform_cell` automatically in the future. Please pass the result to `transformed_cell` argument and any exception that happen during thetransform in `preprocessing_exc_tuple` in IPython 7.17 and above.\n",
      "  and should_run_async(code)\n"
     ]
    }
   ],
   "source": [
    "#read gdfs\n",
    "gdf = None\n",
    "for root, dirs, files in os.walk(roadRestrictionFilefolder):\n",
    "    for file in files:\n",
    "        if file[-5] == '7' or file[-5] == '5':\n",
    "            filepath = os.path.join(root, file)\n",
    "            if gdf is None:\n",
    "                gdf = ox.geometries.geometries_from_xml(filepath)\n",
    "            else:\n",
    "                gdf = gpd.GeoDataFrame(pd.concat([gdf, ox.geometries.geometries_from_xml(filepath)], ignore_index=True), crs=gdf.crs)   \n",
    "roadRestriction = gdf.dropna(subset=['length_m']).reset_index(drop=True)         "
   ]
  },
  {
   "cell_type": "code",
   "execution_count": 46,
   "metadata": {},
   "outputs": [
    {
     "name": "stderr",
     "output_type": "stream",
     "text": [
      "c:\\Users\\mingzhou\\anaconda3\\lib\\site-packages\\ipykernel\\ipkernel.py:287: DeprecationWarning: `should_run_async` will not call `transform_cell` automatically in the future. Please pass the result to `transformed_cell` argument and any exception that happen during thetransform in `preprocessing_exc_tuple` in IPython 7.17 and above.\n",
      "  and should_run_async(code)\n"
     ]
    },
    {
     "data": {
      "text/html": [
       "<div>\n",
       "<style scoped>\n",
       "    .dataframe tbody tr th:only-of-type {\n",
       "        vertical-align: middle;\n",
       "    }\n",
       "\n",
       "    .dataframe tbody tr th {\n",
       "        vertical-align: top;\n",
       "    }\n",
       "\n",
       "    .dataframe thead th {\n",
       "        text-align: right;\n",
       "    }\n",
       "</style>\n",
       "<table border=\"1\" class=\"dataframe\">\n",
       "  <thead>\n",
       "    <tr style=\"text-align: right;\">\n",
       "      <th></th>\n",
       "      <th>unique_id</th>\n",
       "      <th>osmid</th>\n",
       "      <th>element_type</th>\n",
       "      <th>nodes</th>\n",
       "      <th>DELETE</th>\n",
       "      <th>sort</th>\n",
       "      <th>from_tm</th>\n",
       "      <th>to_tm</th>\n",
       "      <th>sll_zone</th>\n",
       "      <th>name</th>\n",
       "      <th>from_rp</th>\n",
       "      <th>to_rp</th>\n",
       "      <th>description</th>\n",
       "      <th>posting_ton</th>\n",
       "      <th>length_m</th>\n",
       "      <th>geometry</th>\n",
       "      <th>sll_znoe</th>\n",
       "      <th>id</th>\n",
       "    </tr>\n",
       "  </thead>\n",
       "  <tbody>\n",
       "    <tr>\n",
       "      <th>0</th>\n",
       "      <td>way/-97459856</td>\n",
       "      <td>-97459856</td>\n",
       "      <td>way</td>\n",
       "      <td>[-99379200, -99380400, -99378360, -99378840, -...</td>\n",
       "      <td>5</td>\n",
       "      <td>0300000000000117-I</td>\n",
       "      <td>0.00000000000</td>\n",
       "      <td>1.79800000000</td>\n",
       "      <td>CENTRAL</td>\n",
       "      <td>MN 117 (7 ton)</td>\n",
       "      <td>0+00.000</td>\n",
       "      <td>1+00.797</td>\n",
       "      <td>MN 117 from ND-MN state line to Jct. MN 27</td>\n",
       "      <td>7</td>\n",
       "      <td>2894.31901029000</td>\n",
       "      <td>LINESTRING (-96.63923 45.76899, -96.63373 45.7...</td>\n",
       "      <td>NaN</td>\n",
       "      <td>NaN</td>\n",
       "    </tr>\n",
       "    <tr>\n",
       "      <th>1</th>\n",
       "      <td>way/-97461512</td>\n",
       "      <td>-97461512</td>\n",
       "      <td>way</td>\n",
       "      <td>[-111202800, -111203280, -111203400, -11120244...</td>\n",
       "      <td>13</td>\n",
       "      <td>0300000000000007-I</td>\n",
       "      <td>0.00000000000</td>\n",
       "      <td>24.08600000000</td>\n",
       "      <td>CENTRAL</td>\n",
       "      <td>MN 7 (7 ton)</td>\n",
       "      <td>0+00.000</td>\n",
       "      <td>24+00.173</td>\n",
       "      <td>MN 7 from Jct. MN 28 to Golf Club Road</td>\n",
       "      <td>7</td>\n",
       "      <td>38762.59877150000</td>\n",
       "      <td>LINESTRING (-96.70002 45.55872, -96.70002 45.5...</td>\n",
       "      <td>NaN</td>\n",
       "      <td>NaN</td>\n",
       "    </tr>\n",
       "    <tr>\n",
       "      <th>2</th>\n",
       "      <td>way/-97460072</td>\n",
       "      <td>-97460072</td>\n",
       "      <td>way</td>\n",
       "      <td>[-111470112, -111468672, -111470832, -11146771...</td>\n",
       "      <td>23</td>\n",
       "      <td>0300000000000022-I</td>\n",
       "      <td>157.15400000000</td>\n",
       "      <td>162.61500000000</td>\n",
       "      <td>CENTRAL</td>\n",
       "      <td>MN 22 (7 ton)</td>\n",
       "      <td>156+00.901</td>\n",
       "      <td>162+00.372</td>\n",
       "      <td>MN 22 from MN 55 (Eden Valley) to Stearns CSAH-9</td>\n",
       "      <td>7</td>\n",
       "      <td>8788.95858247000</td>\n",
       "      <td>LINESTRING (-94.54656 45.32252, -94.54657 45.3...</td>\n",
       "      <td>NaN</td>\n",
       "      <td>NaN</td>\n",
       "    </tr>\n",
       "    <tr>\n",
       "      <th>3</th>\n",
       "      <td>way/-97345512</td>\n",
       "      <td>-97345512</td>\n",
       "      <td>way</td>\n",
       "      <td>[-112343096, -112333616, -112333736, -11233385...</td>\n",
       "      <td>1</td>\n",
       "      <td>0300000000000210-I</td>\n",
       "      <td>218.62500000000</td>\n",
       "      <td>227.85500000000</td>\n",
       "      <td>NORTH-CENTRAL</td>\n",
       "      <td>MN 210 (7 ton)</td>\n",
       "      <td>218+00.558</td>\n",
       "      <td>227+000.790</td>\n",
       "      <td>MN 210 from MN 45 (Carlton) to west MN 23 (Dul...</td>\n",
       "      <td>7</td>\n",
       "      <td>14853.70816620000</td>\n",
       "      <td>LINESTRING (-92.42485 46.66397, -92.42266 46.6...</td>\n",
       "      <td>NaN</td>\n",
       "      <td>NaN</td>\n",
       "    </tr>\n",
       "    <tr>\n",
       "      <th>4</th>\n",
       "      <td>way/-97345728</td>\n",
       "      <td>-97345728</td>\n",
       "      <td>way</td>\n",
       "      <td>[-114610464, -114611064, -114610584, -11461070...</td>\n",
       "      <td>16</td>\n",
       "      <td>0300000000000123-I</td>\n",
       "      <td>0.00000000000</td>\n",
       "      <td>8.04100000000</td>\n",
       "      <td>NORTH-CENTRAL</td>\n",
       "      <td>MN 123 (7 ton)</td>\n",
       "      <td>0+00.000</td>\n",
       "      <td>8+00.054</td>\n",
       "      <td>MN 123 from south Jct. MN 23 (Sandstone) to no...</td>\n",
       "      <td>7</td>\n",
       "      <td>12941.01403050000</td>\n",
       "      <td>LINESTRING (-92.87985 46.12517, -92.87555 46.1...</td>\n",
       "      <td>NaN</td>\n",
       "      <td>NaN</td>\n",
       "    </tr>\n",
       "  </tbody>\n",
       "</table>\n",
       "</div>"
      ],
      "text/plain": [
       "       unique_id     osmid element_type  \\\n",
       "0  way/-97459856 -97459856          way   \n",
       "1  way/-97461512 -97461512          way   \n",
       "2  way/-97460072 -97460072          way   \n",
       "3  way/-97345512 -97345512          way   \n",
       "4  way/-97345728 -97345728          way   \n",
       "\n",
       "                                               nodes DELETE  \\\n",
       "0  [-99379200, -99380400, -99378360, -99378840, -...      5   \n",
       "1  [-111202800, -111203280, -111203400, -11120244...     13   \n",
       "2  [-111470112, -111468672, -111470832, -11146771...     23   \n",
       "3  [-112343096, -112333616, -112333736, -11233385...      1   \n",
       "4  [-114610464, -114611064, -114610584, -11461070...     16   \n",
       "\n",
       "                 sort          from_tm            to_tm       sll_zone  \\\n",
       "0  0300000000000117-I    0.00000000000    1.79800000000        CENTRAL   \n",
       "1  0300000000000007-I    0.00000000000   24.08600000000        CENTRAL   \n",
       "2  0300000000000022-I  157.15400000000  162.61500000000        CENTRAL   \n",
       "3  0300000000000210-I  218.62500000000  227.85500000000  NORTH-CENTRAL   \n",
       "4  0300000000000123-I    0.00000000000    8.04100000000  NORTH-CENTRAL   \n",
       "\n",
       "             name     from_rp        to_rp  \\\n",
       "0  MN 117 (7 ton)    0+00.000     1+00.797   \n",
       "1    MN 7 (7 ton)    0+00.000    24+00.173   \n",
       "2   MN 22 (7 ton)  156+00.901   162+00.372   \n",
       "3  MN 210 (7 ton)  218+00.558  227+000.790   \n",
       "4  MN 123 (7 ton)    0+00.000     8+00.054   \n",
       "\n",
       "                                         description posting_ton  \\\n",
       "0         MN 117 from ND-MN state line to Jct. MN 27           7   \n",
       "1             MN 7 from Jct. MN 28 to Golf Club Road           7   \n",
       "2   MN 22 from MN 55 (Eden Valley) to Stearns CSAH-9           7   \n",
       "3  MN 210 from MN 45 (Carlton) to west MN 23 (Dul...           7   \n",
       "4  MN 123 from south Jct. MN 23 (Sandstone) to no...           7   \n",
       "\n",
       "            length_m                                           geometry  \\\n",
       "0   2894.31901029000  LINESTRING (-96.63923 45.76899, -96.63373 45.7...   \n",
       "1  38762.59877150000  LINESTRING (-96.70002 45.55872, -96.70002 45.5...   \n",
       "2   8788.95858247000  LINESTRING (-94.54656 45.32252, -94.54657 45.3...   \n",
       "3  14853.70816620000  LINESTRING (-92.42485 46.66397, -92.42266 46.6...   \n",
       "4  12941.01403050000  LINESTRING (-92.87985 46.12517, -92.87555 46.1...   \n",
       "\n",
       "  sll_znoe   id  \n",
       "0      NaN  NaN  \n",
       "1      NaN  NaN  \n",
       "2      NaN  NaN  \n",
       "3      NaN  NaN  \n",
       "4      NaN  NaN  "
      ]
     },
     "execution_count": 46,
     "metadata": {},
     "output_type": "execute_result"
    }
   ],
   "source": [
    "roadRestriction.head()"
   ]
  },
  {
   "cell_type": "code",
   "execution_count": 48,
   "metadata": {},
   "outputs": [
    {
     "name": "stdout",
     "output_type": "stream",
     "text": [
      "-94.65258355209289,-91.7879164479071,43.96958146789451,45.995818532105496\n"
     ]
    },
    {
     "name": "stderr",
     "output_type": "stream",
     "text": [
      "c:\\Users\\mingzhou\\anaconda3\\lib\\site-packages\\ipykernel\\ipkernel.py:287: DeprecationWarning: `should_run_async` will not call `transform_cell` automatically in the future. Please pass the result to `transformed_cell` argument and any exception that happen during thetransform in `preprocessing_exc_tuple` in IPython 7.17 and above.\n",
      "  and should_run_async(code)\n"
     ]
    }
   ],
   "source": [
    "distance = 70\n",
    "distance = distance*1609.34 # mile->km\n",
    "bbox = ox.utils_geo.bbox_from_point((44.9827, -93.22025), dist=distance, project_utm = False, return_crs = False)\n",
    "boundingBox = Box(bbox[-1], bbox[-2], bbox[-3], bbox[-4])\n",
    "print(boundingBox)"
   ]
  },
  {
   "cell_type": "code",
   "execution_count": 49,
   "metadata": {},
   "outputs": [
    {
     "name": "stdout",
     "output_type": "stream",
     "text": [
      "Graphs/GraphDataInBbox-94.65258355209289,-91.7879164479071,43.96958146789451,45.995818532105496\n",
      "reloading graph..\n"
     ]
    }
   ],
   "source": [
    "osmGraphInBbox = GraphFunctions.extractGraphOf(boundingBox)"
   ]
  },
  {
   "cell_type": "code",
   "execution_count": 51,
   "metadata": {},
   "outputs": [],
   "source": [
    "nodes, edges = osmGraphInBbox.graphToGdfs()"
   ]
  },
  {
   "cell_type": "code",
   "execution_count": 55,
   "metadata": {},
   "outputs": [
    {
     "name": "stderr",
     "output_type": "stream",
     "text": [
      "c:\\Users\\mingzhou\\anaconda3\\lib\\site-packages\\ipykernel\\ipkernel.py:287: DeprecationWarning: `should_run_async` will not call `transform_cell` automatically in the future. Please pass the result to `transformed_cell` argument and any exception that happen during thetransform in `preprocessing_exc_tuple` in IPython 7.17 and above.\n",
      "  and should_run_async(code)\n"
     ]
    },
    {
     "data": {
      "text/plain": [
       "223490"
      ]
     },
     "execution_count": 55,
     "metadata": {},
     "output_type": "execute_result"
    }
   ],
   "source": [
    "len(nodes)"
   ]
  },
  {
   "cell_type": "code",
   "execution_count": 56,
   "metadata": {},
   "outputs": [
    {
     "name": "stderr",
     "output_type": "stream",
     "text": [
      "c:\\Users\\mingzhou\\anaconda3\\lib\\site-packages\\ipykernel\\ipkernel.py:287: DeprecationWarning: `should_run_async` will not call `transform_cell` automatically in the future. Please pass the result to `transformed_cell` argument and any exception that happen during thetransform in `preprocessing_exc_tuple` in IPython 7.17 and above.\n",
      "  and should_run_async(code)\n"
     ]
    },
    {
     "data": {
      "text/plain": [
       "570087"
      ]
     },
     "execution_count": 56,
     "metadata": {},
     "output_type": "execute_result"
    }
   ],
   "source": [
    "len(edges)"
   ]
  },
  {
   "cell_type": "code",
   "execution_count": 196,
   "metadata": {},
   "outputs": [
    {
     "data": {
      "text/plain": [
       "28"
      ]
     },
     "execution_count": 196,
     "metadata": {},
     "output_type": "execute_result"
    }
   ],
   "source": [
    "len(roadRestriction)"
   ]
  },
  {
   "cell_type": "code",
   "execution_count": 198,
   "metadata": {},
   "outputs": [
    {
     "name": "stderr",
     "output_type": "stream",
     "text": [
      "c:\\Users\\mingzhou\\anaconda3\\lib\\site-packages\\ipykernel\\ipkernel.py:287: DeprecationWarning:\n",
      "\n",
      "`should_run_async` will not call `transform_cell` automatically in the future. Please pass the result to `transformed_cell` argument and any exception that happen during thetransform in `preprocessing_exc_tuple` in IPython 7.17 and above.\n",
      "\n"
     ]
    },
    {
     "data": {
      "text/plain": [
       "geopandas.geodataframe.GeoDataFrame"
      ]
     },
     "execution_count": 198,
     "metadata": {},
     "output_type": "execute_result"
    }
   ],
   "source": [
    "type(roadRestriction)"
   ]
  },
  {
   "cell_type": "code",
   "execution_count": 199,
   "metadata": {},
   "outputs": [
    {
     "name": "stderr",
     "output_type": "stream",
     "text": [
      "c:\\Users\\mingzhou\\anaconda3\\lib\\site-packages\\ipykernel\\ipkernel.py:287: DeprecationWarning:\n",
      "\n",
      "`should_run_async` will not call `transform_cell` automatically in the future. Please pass the result to `transformed_cell` argument and any exception that happen during thetransform in `preprocessing_exc_tuple` in IPython 7.17 and above.\n",
      "\n"
     ]
    }
   ],
   "source": [
    "def isCoveredByBbox(arraylike):\n",
    "    return arraylike['geometry'].covered_by(boundingBox.polygon())"
   ]
  },
  {
   "cell_type": "code",
   "execution_count": 200,
   "metadata": {},
   "outputs": [
    {
     "name": "stderr",
     "output_type": "stream",
     "text": [
      "c:\\Users\\mingzhou\\anaconda3\\lib\\site-packages\\ipykernel\\ipkernel.py:287: DeprecationWarning:\n",
      "\n",
      "`should_run_async` will not call `transform_cell` automatically in the future. Please pass the result to `transformed_cell` argument and any exception that happen during thetransform in `preprocessing_exc_tuple` in IPython 7.17 and above.\n",
      "\n"
     ]
    }
   ],
   "source": [
    "roadRestriction['isCovered']  = roadRestriction.apply(isCoveredByBbox, axis=1)"
   ]
  },
  {
   "cell_type": "code",
   "execution_count": 202,
   "metadata": {},
   "outputs": [
    {
     "name": "stderr",
     "output_type": "stream",
     "text": [
      "c:\\Users\\mingzhou\\anaconda3\\lib\\site-packages\\ipykernel\\ipkernel.py:287: DeprecationWarning:\n",
      "\n",
      "`should_run_async` will not call `transform_cell` automatically in the future. Please pass the result to `transformed_cell` argument and any exception that happen during thetransform in `preprocessing_exc_tuple` in IPython 7.17 and above.\n",
      "\n"
     ]
    }
   ],
   "source": [
    "roadRestrictionCovered = roadRestriction[roadRestriction['isCovered']]"
   ]
  },
  {
   "cell_type": "code",
   "execution_count": 203,
   "metadata": {},
   "outputs": [
    {
     "name": "stderr",
     "output_type": "stream",
     "text": [
      "c:\\Users\\mingzhou\\anaconda3\\lib\\site-packages\\ipykernel\\ipkernel.py:287: DeprecationWarning:\n",
      "\n",
      "`should_run_async` will not call `transform_cell` automatically in the future. Please pass the result to `transformed_cell` argument and any exception that happen during thetransform in `preprocessing_exc_tuple` in IPython 7.17 and above.\n",
      "\n"
     ]
    },
    {
     "data": {
      "text/plain": [
       "10"
      ]
     },
     "execution_count": 203,
     "metadata": {},
     "output_type": "execute_result"
    }
   ],
   "source": [
    "len(roadRestrictionCovered)"
   ]
  },
  {
   "cell_type": "code",
   "execution_count": 214,
   "metadata": {},
   "outputs": [
    {
     "name": "stderr",
     "output_type": "stream",
     "text": [
      "c:\\Users\\mingzhou\\anaconda3\\lib\\site-packages\\ipykernel\\ipkernel.py:287: DeprecationWarning:\n",
      "\n",
      "`should_run_async` will not call `transform_cell` automatically in the future. Please pass the result to `transformed_cell` argument and any exception that happen during thetransform in `preprocessing_exc_tuple` in IPython 7.17 and above.\n",
      "\n"
     ]
    }
   ],
   "source": [
    "roadRestrictionCovered = roadRestrictionCovered.drop(labels='nodes', axis=1)"
   ]
  },
  {
   "cell_type": "code",
   "execution_count": 218,
   "metadata": {},
   "outputs": [],
   "source": [
    "roadRestrictionCovered.to_file(\"statistical data/roadRestriction.geojson\", driver='GeoJSON')"
   ]
  },
  {
   "cell_type": "code",
   "execution_count": 208,
   "metadata": {},
   "outputs": [],
   "source": [
    "pathListInBbox = list(roadRestrictionCovered['geometry'])"
   ]
  },
  {
   "cell_type": "code",
   "execution_count": 209,
   "metadata": {},
   "outputs": [
    {
     "data": {
      "text/plain": [
       "10"
      ]
     },
     "execution_count": 209,
     "metadata": {},
     "output_type": "execute_result"
    }
   ],
   "source": [
    "len(pathListInBbox)"
   ]
  },
  {
   "cell_type": "code",
   "execution_count": 210,
   "metadata": {},
   "outputs": [
    {
     "data": {
      "text/plain": [
       "53"
      ]
     },
     "execution_count": 210,
     "metadata": {},
     "output_type": "execute_result"
    }
   ],
   "source": [
    "len(list(pathListInBbox[0].coords))"
   ]
  },
  {
   "cell_type": "code",
   "execution_count": 490,
   "metadata": {},
   "outputs": [],
   "source": [
    "bridgeRestrictionDF = pd.read_excel('data/Bridge_Restrictions.xlsx')"
   ]
  },
  {
   "cell_type": "code",
   "execution_count": 77,
   "metadata": {},
   "outputs": [
    {
     "data": {
      "text/html": [
       "<div>\n",
       "<style scoped>\n",
       "    .dataframe tbody tr th:only-of-type {\n",
       "        vertical-align: middle;\n",
       "    }\n",
       "\n",
       "    .dataframe tbody tr th {\n",
       "        vertical-align: top;\n",
       "    }\n",
       "\n",
       "    .dataframe thead th {\n",
       "        text-align: right;\n",
       "    }\n",
       "</style>\n",
       "<table border=\"1\" class=\"dataframe\">\n",
       "  <thead>\n",
       "    <tr style=\"text-align: right;\">\n",
       "      <th></th>\n",
       "      <th>BRKEY</th>\n",
       "      <th>ON_UNDER</th>\n",
       "      <th>FACILITY</th>\n",
       "      <th>ROADWAY_NAME</th>\n",
       "      <th>FEATURE_INTERSECTED</th>\n",
       "      <th>DISTRICT</th>\n",
       "      <th>COUNTY</th>\n",
       "      <th>CITY - TOWNSHIP</th>\n",
       "      <th>LOCATION DESC</th>\n",
       "      <th>OWNER</th>\n",
       "      <th>...</th>\n",
       "      <th>PERMIT_CODE_48K_DESC</th>\n",
       "      <th>PERMIT_CODE_60K_CODE</th>\n",
       "      <th>PERMIT_CODE_60K_DESC</th>\n",
       "      <th>PERMIT_CODE_72K_CODE</th>\n",
       "      <th>PERMIT_CODE_72K_DESC</th>\n",
       "      <th>VEHICLE_POSTED_CAPACITY</th>\n",
       "      <th>SEMI_POSTED_CAPACITY</th>\n",
       "      <th>DOUBLE_POSTED_CAPACITY</th>\n",
       "      <th>LATITUDE</th>\n",
       "      <th>LONGITUDE</th>\n",
       "    </tr>\n",
       "  </thead>\n",
       "  <tbody>\n",
       "    <tr>\n",
       "      <th>0</th>\n",
       "      <td>01002</td>\n",
       "      <td>1</td>\n",
       "      <td>MN 200</td>\n",
       "      <td>MN 200</td>\n",
       "      <td>HILL LAKE CHANNEL</td>\n",
       "      <td>01</td>\n",
       "      <td>AITKIN</td>\n",
       "      <td>HILL LAKE (TOWNSHIP OF)</td>\n",
       "      <td>0.8 MI E OF JCT TH 169</td>\n",
       "      <td>STATE HIGHWAY AGENCY</td>\n",
       "      <td>...</td>\n",
       "      <td>NO RESTRICTION</td>\n",
       "      <td>1</td>\n",
       "      <td>NO RESTRICTION</td>\n",
       "      <td>1</td>\n",
       "      <td>NO RESTRICTION</td>\n",
       "      <td>NaN</td>\n",
       "      <td>NaN</td>\n",
       "      <td>NaN</td>\n",
       "      <td>46.987514</td>\n",
       "      <td>-93.588928</td>\n",
       "    </tr>\n",
       "    <tr>\n",
       "      <th>1</th>\n",
       "      <td>01004</td>\n",
       "      <td>1</td>\n",
       "      <td>US 169</td>\n",
       "      <td>US 169</td>\n",
       "      <td>MISSISSIPPI RIVER</td>\n",
       "      <td>03</td>\n",
       "      <td>AITKIN</td>\n",
       "      <td>MORRISON (TOWNSHIP OF)</td>\n",
       "      <td>2.9 MI N OF N JCT TH 210</td>\n",
       "      <td>STATE HIGHWAY AGENCY</td>\n",
       "      <td>...</td>\n",
       "      <td>NO RESTRICTION</td>\n",
       "      <td>1</td>\n",
       "      <td>NO RESTRICTION</td>\n",
       "      <td>1</td>\n",
       "      <td>NO RESTRICTION</td>\n",
       "      <td>NaN</td>\n",
       "      <td>NaN</td>\n",
       "      <td>NaN</td>\n",
       "      <td>46.651128</td>\n",
       "      <td>-93.612747</td>\n",
       "    </tr>\n",
       "    <tr>\n",
       "      <th>2</th>\n",
       "      <td>01005</td>\n",
       "      <td>1</td>\n",
       "      <td>MN 210</td>\n",
       "      <td>MN 210</td>\n",
       "      <td>RIPPLE RIVER</td>\n",
       "      <td>03</td>\n",
       "      <td>AITKIN</td>\n",
       "      <td>AITKIN</td>\n",
       "      <td>0.2 MI E OF W JCT TH 169</td>\n",
       "      <td>STATE HIGHWAY AGENCY</td>\n",
       "      <td>...</td>\n",
       "      <td>NO RESTRICTION</td>\n",
       "      <td>1</td>\n",
       "      <td>NO RESTRICTION</td>\n",
       "      <td>1</td>\n",
       "      <td>NO RESTRICTION</td>\n",
       "      <td>NaN</td>\n",
       "      <td>NaN</td>\n",
       "      <td>NaN</td>\n",
       "      <td>46.533364</td>\n",
       "      <td>-93.702469</td>\n",
       "    </tr>\n",
       "    <tr>\n",
       "      <th>3</th>\n",
       "      <td>01006</td>\n",
       "      <td>1</td>\n",
       "      <td>MN 210</td>\n",
       "      <td>MN 210</td>\n",
       "      <td>RICE RIVER</td>\n",
       "      <td>03</td>\n",
       "      <td>AITKIN</td>\n",
       "      <td>MORRISON (TOWNSHIP OF)</td>\n",
       "      <td>7.4 MI NE OF JCT TH 169</td>\n",
       "      <td>STATE HIGHWAY AGENCY</td>\n",
       "      <td>...</td>\n",
       "      <td>NO RESTRICTION</td>\n",
       "      <td>1</td>\n",
       "      <td>NO RESTRICTION</td>\n",
       "      <td>1</td>\n",
       "      <td>NO RESTRICTION</td>\n",
       "      <td>NaN</td>\n",
       "      <td>NaN</td>\n",
       "      <td>NaN</td>\n",
       "      <td>46.598764</td>\n",
       "      <td>-93.612883</td>\n",
       "    </tr>\n",
       "    <tr>\n",
       "      <th>4</th>\n",
       "      <td>01007</td>\n",
       "      <td>1</td>\n",
       "      <td>MN 210</td>\n",
       "      <td>MN 210</td>\n",
       "      <td>BNSF RR</td>\n",
       "      <td>01</td>\n",
       "      <td>AITKIN</td>\n",
       "      <td>MCGREGOR</td>\n",
       "      <td>0.5 MI E OF W JCT TH 65</td>\n",
       "      <td>STATE HIGHWAY AGENCY</td>\n",
       "      <td>...</td>\n",
       "      <td>NO RESTRICTION</td>\n",
       "      <td>1</td>\n",
       "      <td>NO RESTRICTION</td>\n",
       "      <td>1</td>\n",
       "      <td>NO RESTRICTION</td>\n",
       "      <td>NaN</td>\n",
       "      <td>NaN</td>\n",
       "      <td>NaN</td>\n",
       "      <td>46.609233</td>\n",
       "      <td>-93.307086</td>\n",
       "    </tr>\n",
       "  </tbody>\n",
       "</table>\n",
       "<p>5 rows × 25 columns</p>\n",
       "</div>"
      ],
      "text/plain": [
       "   BRKEY ON_UNDER FACILITY ROADWAY_NAME FEATURE_INTERSECTED DISTRICT  COUNTY  \\\n",
       "0  01002        1   MN 200       MN 200   HILL LAKE CHANNEL       01  AITKIN   \n",
       "1  01004        1   US 169       US 169   MISSISSIPPI RIVER       03  AITKIN   \n",
       "2  01005        1   MN 210       MN 210        RIPPLE RIVER       03  AITKIN   \n",
       "3  01006        1   MN 210       MN 210          RICE RIVER       03  AITKIN   \n",
       "4  01007        1   MN 210       MN 210             BNSF RR       01  AITKIN   \n",
       "\n",
       "           CITY - TOWNSHIP             LOCATION DESC                 OWNER  \\\n",
       "0  HILL LAKE (TOWNSHIP OF)    0.8 MI E OF JCT TH 169  STATE HIGHWAY AGENCY   \n",
       "1   MORRISON (TOWNSHIP OF)  2.9 MI N OF N JCT TH 210  STATE HIGHWAY AGENCY   \n",
       "2                   AITKIN  0.2 MI E OF W JCT TH 169  STATE HIGHWAY AGENCY   \n",
       "3   MORRISON (TOWNSHIP OF)   7.4 MI NE OF JCT TH 169  STATE HIGHWAY AGENCY   \n",
       "4                 MCGREGOR   0.5 MI E OF W JCT TH 65  STATE HIGHWAY AGENCY   \n",
       "\n",
       "   ...  PERMIT_CODE_48K_DESC  PERMIT_CODE_60K_CODE  PERMIT_CODE_60K_DESC  \\\n",
       "0  ...        NO RESTRICTION                     1        NO RESTRICTION   \n",
       "1  ...        NO RESTRICTION                     1        NO RESTRICTION   \n",
       "2  ...        NO RESTRICTION                     1        NO RESTRICTION   \n",
       "3  ...        NO RESTRICTION                     1        NO RESTRICTION   \n",
       "4  ...        NO RESTRICTION                     1        NO RESTRICTION   \n",
       "\n",
       "   PERMIT_CODE_72K_CODE PERMIT_CODE_72K_DESC VEHICLE_POSTED_CAPACITY  \\\n",
       "0                     1       NO RESTRICTION                     NaN   \n",
       "1                     1       NO RESTRICTION                     NaN   \n",
       "2                     1       NO RESTRICTION                     NaN   \n",
       "3                     1       NO RESTRICTION                     NaN   \n",
       "4                     1       NO RESTRICTION                     NaN   \n",
       "\n",
       "  SEMI_POSTED_CAPACITY DOUBLE_POSTED_CAPACITY   LATITUDE  LONGITUDE  \n",
       "0                  NaN                    NaN  46.987514 -93.588928  \n",
       "1                  NaN                    NaN  46.651128 -93.612747  \n",
       "2                  NaN                    NaN  46.533364 -93.702469  \n",
       "3                  NaN                    NaN  46.598764 -93.612883  \n",
       "4                  NaN                    NaN  46.609233 -93.307086  \n",
       "\n",
       "[5 rows x 25 columns]"
      ]
     },
     "execution_count": 77,
     "metadata": {},
     "output_type": "execute_result"
    }
   ],
   "source": [
    "bridgeRestrictionDF.head()"
   ]
  },
  {
   "cell_type": "code",
   "execution_count": 491,
   "metadata": {},
   "outputs": [
    {
     "name": "stderr",
     "output_type": "stream",
     "text": [
      "c:\\Users\\mingzhou\\anaconda3\\lib\\site-packages\\ipykernel\\ipkernel.py:287: DeprecationWarning:\n",
      "\n",
      "`should_run_async` will not call `transform_cell` automatically in the future. Please pass the result to `transformed_cell` argument and any exception that happen during thetransform in `preprocessing_exc_tuple` in IPython 7.17 and above.\n",
      "\n"
     ]
    }
   ],
   "source": [
    "bridgeRestrictionDF['LATITUDE'] = bridgeRestrictionDF['LATITUDE'].fillna(method='ffill')"
   ]
  },
  {
   "cell_type": "code",
   "execution_count": 492,
   "metadata": {},
   "outputs": [],
   "source": [
    "bridgeRestrictionDF['LONGITUDE'] = bridgeRestrictionDF['LONGITUDE'].fillna(method='ffill')"
   ]
  },
  {
   "cell_type": "code",
   "execution_count": 493,
   "metadata": {},
   "outputs": [
    {
     "data": {
      "text/plain": [
       "0         NaN\n",
       "1         NaN\n",
       "2         NaN\n",
       "3         NaN\n",
       "4         NaN\n",
       "         ... \n",
       "24381     NaN\n",
       "24382    18.0\n",
       "24383    18.0\n",
       "24384     NaN\n",
       "24385    17.4\n",
       "Name: VERTICAL_CLR_RD1_FEET, Length: 24386, dtype: float64"
      ]
     },
     "execution_count": 493,
     "metadata": {},
     "output_type": "execute_result"
    }
   ],
   "source": [
    "bridgeRestrictionDF['VERTICAL_CLR_RD1_FEET']"
   ]
  },
  {
   "cell_type": "code",
   "execution_count": 494,
   "metadata": {},
   "outputs": [],
   "source": [
    "values = {\"VERTICAL_CLR_RD1_FEET\": 100, \"VERTICAL_CLR_RD2_FEET\": 100, \"HORIZONTAL_CLR_RD1_FEET\": 100, \"HORIZONTAL_CLR_RD2_FEET\": 100}\n",
    "bridgeRestrictionDF = bridgeRestrictionDF.fillna(value=values)"
   ]
  },
  {
   "cell_type": "code",
   "execution_count": 498,
   "metadata": {},
   "outputs": [
    {
     "data": {
      "text/plain": [
       "BRKEY                          19555\n",
       "ON_UNDER                           2\n",
       "FACILITY                         NaN\n",
       "ROADWAY_NAME                 77th St\n",
       "FEATURE_INTERSECTED              NaN\n",
       "DISTRICT                         NaN\n",
       "COUNTY                           NaN\n",
       "CITY - TOWNSHIP                  NaN\n",
       "LOCATION DESC                    NaN\n",
       "OWNER                            NaN\n",
       "VERTICAL_CLR_RD1_FEET           11.8\n",
       "VERTICAL_CLR_RD2_FEET          100.0\n",
       "HORIZONTAL_CLR_RD1_FEET         19.8\n",
       "HORIZONTAL_CLR_RD2_FEET        100.0\n",
       "PERMIT_CODE_48K_CODE             NaN\n",
       "PERMIT_CODE_48K_DESC             NaN\n",
       "PERMIT_CODE_60K_CODE             NaN\n",
       "PERMIT_CODE_60K_DESC             NaN\n",
       "PERMIT_CODE_72K_CODE             NaN\n",
       "PERMIT_CODE_72K_DESC             NaN\n",
       "VEHICLE_POSTED_CAPACITY          NaN\n",
       "SEMI_POSTED_CAPACITY             NaN\n",
       "DOUBLE_POSTED_CAPACITY           NaN\n",
       "LATITUDE                   44.838061\n",
       "LONGITUDE                 -93.016022\n",
       "Name: 2094, dtype: object"
      ]
     },
     "execution_count": 498,
     "metadata": {},
     "output_type": "execute_result"
    }
   ],
   "source": [
    "bridgeRestrictionDF.loc[2094]"
   ]
  },
  {
   "cell_type": "code",
   "execution_count": 499,
   "metadata": {},
   "outputs": [],
   "source": [
    "bridgeRestriction = bridgeRestrictionDF[(bridgeRestrictionDF['PERMIT_CODE_72K_CODE']=='X') \n",
    "                    | ((bridgeRestrictionDF['VERTICAL_CLR_RD1_FEET'] < 13.5) & (bridgeRestrictionDF['VERTICAL_CLR_RD1_FEET'] >0.1 ))\n",
    "                    | ((bridgeRestrictionDF['VERTICAL_CLR_RD2_FEET'] < 13.5) & (bridgeRestrictionDF['VERTICAL_CLR_RD2_FEET'] >0.1 ))\n",
    "                    | ((bridgeRestrictionDF['HORIZONTAL_CLR_RD1_FEET'] < 8.5) & (bridgeRestrictionDF['HORIZONTAL_CLR_RD1_FEET'] >0.1 ))\n",
    "                    | ((bridgeRestrictionDF['HORIZONTAL_CLR_RD2_FEET'] < 8.5) & (bridgeRestrictionDF['HORIZONTAL_CLR_RD2_FEET'] >0.1 ))]"
   ]
  },
  {
   "cell_type": "code",
   "execution_count": 500,
   "metadata": {},
   "outputs": [
    {
     "name": "stderr",
     "output_type": "stream",
     "text": [
      "c:\\Users\\mingzhou\\anaconda3\\lib\\site-packages\\ipykernel\\ipkernel.py:287: DeprecationWarning:\n",
      "\n",
      "`should_run_async` will not call `transform_cell` automatically in the future. Please pass the result to `transformed_cell` argument and any exception that happen during thetransform in `preprocessing_exc_tuple` in IPython 7.17 and above.\n",
      "\n"
     ]
    },
    {
     "data": {
      "text/plain": [
       "BRKEY                          19555\n",
       "ON_UNDER                           2\n",
       "FACILITY                         NaN\n",
       "ROADWAY_NAME                 77th St\n",
       "FEATURE_INTERSECTED              NaN\n",
       "DISTRICT                         NaN\n",
       "COUNTY                           NaN\n",
       "CITY - TOWNSHIP                  NaN\n",
       "LOCATION DESC                    NaN\n",
       "OWNER                            NaN\n",
       "VERTICAL_CLR_RD1_FEET           11.8\n",
       "VERTICAL_CLR_RD2_FEET          100.0\n",
       "HORIZONTAL_CLR_RD1_FEET         19.8\n",
       "HORIZONTAL_CLR_RD2_FEET        100.0\n",
       "PERMIT_CODE_48K_CODE             NaN\n",
       "PERMIT_CODE_48K_DESC             NaN\n",
       "PERMIT_CODE_60K_CODE             NaN\n",
       "PERMIT_CODE_60K_DESC             NaN\n",
       "PERMIT_CODE_72K_CODE             NaN\n",
       "PERMIT_CODE_72K_DESC             NaN\n",
       "VEHICLE_POSTED_CAPACITY          NaN\n",
       "SEMI_POSTED_CAPACITY             NaN\n",
       "DOUBLE_POSTED_CAPACITY           NaN\n",
       "LATITUDE                   44.838061\n",
       "LONGITUDE                 -93.016022\n",
       "Name: 2094, dtype: object"
      ]
     },
     "execution_count": 500,
     "metadata": {},
     "output_type": "execute_result"
    }
   ],
   "source": [
    "bridgeRestriction.loc[2094]"
   ]
  },
  {
   "cell_type": "code",
   "execution_count": 501,
   "metadata": {},
   "outputs": [
    {
     "data": {
      "text/plain": [
       "957"
      ]
     },
     "execution_count": 501,
     "metadata": {},
     "output_type": "execute_result"
    }
   ],
   "source": [
    "len(bridgeRestriction)"
   ]
  },
  {
   "cell_type": "code",
   "execution_count": 502,
   "metadata": {},
   "outputs": [],
   "source": [
    "def isInBbox(arraylike):\n",
    "    point = Point(arraylike['LONGITUDE'], arraylike['LATITUDE'])\n",
    "    if point.isContained(boundingBox):\n",
    "        return True\n",
    "    return False"
   ]
  },
  {
   "cell_type": "code",
   "execution_count": 503,
   "metadata": {},
   "outputs": [
    {
     "name": "stderr",
     "output_type": "stream",
     "text": [
      "<ipython-input-503-71c82ce07507>:1: SettingWithCopyWarning:\n",
      "\n",
      "\n",
      "A value is trying to be set on a copy of a slice from a DataFrame.\n",
      "Try using .loc[row_indexer,col_indexer] = value instead\n",
      "\n",
      "See the caveats in the documentation: https://pandas.pydata.org/pandas-docs/stable/user_guide/indexing.html#returning-a-view-versus-a-copy\n",
      "\n"
     ]
    }
   ],
   "source": [
    "bridgeRestriction['inBbox'] = bridgeRestriction.apply(isInBbox, axis=1)"
   ]
  },
  {
   "cell_type": "code",
   "execution_count": 504,
   "metadata": {},
   "outputs": [
    {
     "data": {
      "text/html": [
       "<div>\n",
       "<style scoped>\n",
       "    .dataframe tbody tr th:only-of-type {\n",
       "        vertical-align: middle;\n",
       "    }\n",
       "\n",
       "    .dataframe tbody tr th {\n",
       "        vertical-align: top;\n",
       "    }\n",
       "\n",
       "    .dataframe thead th {\n",
       "        text-align: right;\n",
       "    }\n",
       "</style>\n",
       "<table border=\"1\" class=\"dataframe\">\n",
       "  <thead>\n",
       "    <tr style=\"text-align: right;\">\n",
       "      <th></th>\n",
       "      <th>BRKEY</th>\n",
       "      <th>ON_UNDER</th>\n",
       "      <th>FACILITY</th>\n",
       "      <th>ROADWAY_NAME</th>\n",
       "      <th>FEATURE_INTERSECTED</th>\n",
       "      <th>DISTRICT</th>\n",
       "      <th>COUNTY</th>\n",
       "      <th>CITY - TOWNSHIP</th>\n",
       "      <th>LOCATION DESC</th>\n",
       "      <th>OWNER</th>\n",
       "      <th>...</th>\n",
       "      <th>PERMIT_CODE_60K_CODE</th>\n",
       "      <th>PERMIT_CODE_60K_DESC</th>\n",
       "      <th>PERMIT_CODE_72K_CODE</th>\n",
       "      <th>PERMIT_CODE_72K_DESC</th>\n",
       "      <th>VEHICLE_POSTED_CAPACITY</th>\n",
       "      <th>SEMI_POSTED_CAPACITY</th>\n",
       "      <th>DOUBLE_POSTED_CAPACITY</th>\n",
       "      <th>LATITUDE</th>\n",
       "      <th>LONGITUDE</th>\n",
       "      <th>inBbox</th>\n",
       "    </tr>\n",
       "  </thead>\n",
       "  <tbody>\n",
       "    <tr>\n",
       "      <th>12</th>\n",
       "      <td>01502</td>\n",
       "      <td>1</td>\n",
       "      <td>CSAH 22</td>\n",
       "      <td>CSAH 22 (400TH ST)</td>\n",
       "      <td>WAKEFIELD BROOK</td>\n",
       "      <td>03</td>\n",
       "      <td>AITKIN</td>\n",
       "      <td>AITKIN (TOWNSHIP OF)</td>\n",
       "      <td>1.2 MI W OF JCT CSAH 24</td>\n",
       "      <td>COUNTY HIGHWAY AGENCY</td>\n",
       "      <td>...</td>\n",
       "      <td>1</td>\n",
       "      <td>NO RESTRICTION</td>\n",
       "      <td>X</td>\n",
       "      <td>DENIED</td>\n",
       "      <td>NaN</td>\n",
       "      <td>NaN</td>\n",
       "      <td>NaN</td>\n",
       "      <td>46.593289</td>\n",
       "      <td>-93.777664</td>\n",
       "      <td>False</td>\n",
       "    </tr>\n",
       "    <tr>\n",
       "      <th>165</th>\n",
       "      <td>02502</td>\n",
       "      <td>1</td>\n",
       "      <td>CSAH 28</td>\n",
       "      <td>CSAH 28</td>\n",
       "      <td>SEELYE BROOK</td>\n",
       "      <td>METRO</td>\n",
       "      <td>ANOKA</td>\n",
       "      <td>ST FRANCIS</td>\n",
       "      <td>0.1 MI W OF JCT CR 71</td>\n",
       "      <td>COUNTY HIGHWAY AGENCY</td>\n",
       "      <td>...</td>\n",
       "      <td>X</td>\n",
       "      <td>DENIED</td>\n",
       "      <td>X</td>\n",
       "      <td>DENIED</td>\n",
       "      <td>32.0</td>\n",
       "      <td>NaN</td>\n",
       "      <td>NaN</td>\n",
       "      <td>45.402922</td>\n",
       "      <td>-93.417939</td>\n",
       "      <td>True</td>\n",
       "    </tr>\n",
       "    <tr>\n",
       "      <th>288</th>\n",
       "      <td>02J26</td>\n",
       "      <td>1</td>\n",
       "      <td>MSAS 143</td>\n",
       "      <td>LAKES PKWY NE</td>\n",
       "      <td>LAKE CHANNEL</td>\n",
       "      <td>METRO</td>\n",
       "      <td>ANOKA</td>\n",
       "      <td>BLAINE</td>\n",
       "      <td>0.9 MI E OF JCT CSAH 52</td>\n",
       "      <td>CITY OR MUNICIPAL HIGHWA</td>\n",
       "      <td>...</td>\n",
       "      <td>X</td>\n",
       "      <td>DENIED</td>\n",
       "      <td>X</td>\n",
       "      <td>DENIED</td>\n",
       "      <td>NaN</td>\n",
       "      <td>NaN</td>\n",
       "      <td>NaN</td>\n",
       "      <td>45.192647</td>\n",
       "      <td>-93.195672</td>\n",
       "      <td>True</td>\n",
       "    </tr>\n",
       "    <tr>\n",
       "      <th>290</th>\n",
       "      <td>02J28</td>\n",
       "      <td>1</td>\n",
       "      <td>MUN 1053</td>\n",
       "      <td>EDISON ST</td>\n",
       "      <td>LAKE CHANNEL</td>\n",
       "      <td>METRO</td>\n",
       "      <td>ANOKA</td>\n",
       "      <td>BLAINE</td>\n",
       "      <td>0.1 MI S OF LAKE BLVD</td>\n",
       "      <td>CITY OR MUNICIPAL HIGHWA</td>\n",
       "      <td>...</td>\n",
       "      <td>X</td>\n",
       "      <td>DENIED</td>\n",
       "      <td>X</td>\n",
       "      <td>DENIED</td>\n",
       "      <td>NaN</td>\n",
       "      <td>NaN</td>\n",
       "      <td>NaN</td>\n",
       "      <td>45.180892</td>\n",
       "      <td>-93.195700</td>\n",
       "      <td>True</td>\n",
       "    </tr>\n",
       "    <tr>\n",
       "      <th>324</th>\n",
       "      <td>03504</td>\n",
       "      <td>1</td>\n",
       "      <td>T 676</td>\n",
       "      <td>150TH AVE</td>\n",
       "      <td>BUFFALO RIVER</td>\n",
       "      <td>04</td>\n",
       "      <td>BECKER</td>\n",
       "      <td>CUBA (TOWNSHIP OF)</td>\n",
       "      <td>1.0 MI N OF JCT CSAH 12</td>\n",
       "      <td>TOWN OR TOWNSHIP HIGHWAY</td>\n",
       "      <td>...</td>\n",
       "      <td>1</td>\n",
       "      <td>NO RESTRICTION</td>\n",
       "      <td>X</td>\n",
       "      <td>DENIED</td>\n",
       "      <td>NaN</td>\n",
       "      <td>NaN</td>\n",
       "      <td>NaN</td>\n",
       "      <td>46.948506</td>\n",
       "      <td>-96.090844</td>\n",
       "      <td>False</td>\n",
       "    </tr>\n",
       "  </tbody>\n",
       "</table>\n",
       "<p>5 rows × 26 columns</p>\n",
       "</div>"
      ],
      "text/plain": [
       "     BRKEY ON_UNDER  FACILITY        ROADWAY_NAME FEATURE_INTERSECTED  \\\n",
       "12   01502        1   CSAH 22  CSAH 22 (400TH ST)     WAKEFIELD BROOK   \n",
       "165  02502        1   CSAH 28             CSAH 28        SEELYE BROOK   \n",
       "288  02J26        1  MSAS 143       LAKES PKWY NE        LAKE CHANNEL   \n",
       "290  02J28        1  MUN 1053           EDISON ST        LAKE CHANNEL   \n",
       "324  03504        1     T 676           150TH AVE       BUFFALO RIVER   \n",
       "\n",
       "    DISTRICT  COUNTY       CITY - TOWNSHIP            LOCATION DESC  \\\n",
       "12        03  AITKIN  AITKIN (TOWNSHIP OF)  1.2 MI W OF JCT CSAH 24   \n",
       "165    METRO   ANOKA            ST FRANCIS    0.1 MI W OF JCT CR 71   \n",
       "288    METRO   ANOKA                BLAINE  0.9 MI E OF JCT CSAH 52   \n",
       "290    METRO   ANOKA                BLAINE    0.1 MI S OF LAKE BLVD   \n",
       "324       04  BECKER    CUBA (TOWNSHIP OF)  1.0 MI N OF JCT CSAH 12   \n",
       "\n",
       "                        OWNER  ...  PERMIT_CODE_60K_CODE  \\\n",
       "12      COUNTY HIGHWAY AGENCY  ...                     1   \n",
       "165     COUNTY HIGHWAY AGENCY  ...                     X   \n",
       "288  CITY OR MUNICIPAL HIGHWA  ...                     X   \n",
       "290  CITY OR MUNICIPAL HIGHWA  ...                     X   \n",
       "324  TOWN OR TOWNSHIP HIGHWAY  ...                     1   \n",
       "\n",
       "     PERMIT_CODE_60K_DESC  PERMIT_CODE_72K_CODE  PERMIT_CODE_72K_DESC  \\\n",
       "12         NO RESTRICTION                     X                DENIED   \n",
       "165                DENIED                     X                DENIED   \n",
       "288                DENIED                     X                DENIED   \n",
       "290                DENIED                     X                DENIED   \n",
       "324        NO RESTRICTION                     X                DENIED   \n",
       "\n",
       "    VEHICLE_POSTED_CAPACITY SEMI_POSTED_CAPACITY DOUBLE_POSTED_CAPACITY  \\\n",
       "12                      NaN                  NaN                    NaN   \n",
       "165                    32.0                  NaN                    NaN   \n",
       "288                     NaN                  NaN                    NaN   \n",
       "290                     NaN                  NaN                    NaN   \n",
       "324                     NaN                  NaN                    NaN   \n",
       "\n",
       "      LATITUDE  LONGITUDE inBbox  \n",
       "12   46.593289 -93.777664  False  \n",
       "165  45.402922 -93.417939   True  \n",
       "288  45.192647 -93.195672   True  \n",
       "290  45.180892 -93.195700   True  \n",
       "324  46.948506 -96.090844  False  \n",
       "\n",
       "[5 rows x 26 columns]"
      ]
     },
     "execution_count": 504,
     "metadata": {},
     "output_type": "execute_result"
    }
   ],
   "source": [
    "bridgeRestriction.head()"
   ]
  },
  {
   "cell_type": "code",
   "execution_count": 505,
   "metadata": {},
   "outputs": [
    {
     "name": "stdout",
     "output_type": "stream",
     "text": [
      "-94.65258355209289,-91.7879164479071,43.96958146789451,45.995818532105496\n"
     ]
    },
    {
     "name": "stderr",
     "output_type": "stream",
     "text": [
      "c:\\Users\\mingzhou\\anaconda3\\lib\\site-packages\\ipykernel\\ipkernel.py:287: DeprecationWarning:\n",
      "\n",
      "`should_run_async` will not call `transform_cell` automatically in the future. Please pass the result to `transformed_cell` argument and any exception that happen during thetransform in `preprocessing_exc_tuple` in IPython 7.17 and above.\n",
      "\n"
     ]
    }
   ],
   "source": [
    "print(boundingBox)"
   ]
  },
  {
   "cell_type": "code",
   "execution_count": 506,
   "metadata": {},
   "outputs": [],
   "source": [
    "bridgeRestriction = bridgeRestriction[bridgeRestriction['inBbox']]"
   ]
  },
  {
   "cell_type": "code",
   "execution_count": 507,
   "metadata": {},
   "outputs": [
    {
     "data": {
      "text/plain": [
       "326"
      ]
     },
     "execution_count": 507,
     "metadata": {},
     "output_type": "execute_result"
    }
   ],
   "source": [
    "len(bridgeRestriction)"
   ]
  },
  {
   "cell_type": "code",
   "execution_count": 508,
   "metadata": {},
   "outputs": [
    {
     "data": {
      "text/html": [
       "<div>\n",
       "<style scoped>\n",
       "    .dataframe tbody tr th:only-of-type {\n",
       "        vertical-align: middle;\n",
       "    }\n",
       "\n",
       "    .dataframe tbody tr th {\n",
       "        vertical-align: top;\n",
       "    }\n",
       "\n",
       "    .dataframe thead th {\n",
       "        text-align: right;\n",
       "    }\n",
       "</style>\n",
       "<table border=\"1\" class=\"dataframe\">\n",
       "  <thead>\n",
       "    <tr style=\"text-align: right;\">\n",
       "      <th></th>\n",
       "      <th>VERTICAL_CLR_RD1_FEET</th>\n",
       "      <th>VERTICAL_CLR_RD2_FEET</th>\n",
       "      <th>HORIZONTAL_CLR_RD1_FEET</th>\n",
       "      <th>HORIZONTAL_CLR_RD2_FEET</th>\n",
       "      <th>VEHICLE_POSTED_CAPACITY</th>\n",
       "      <th>SEMI_POSTED_CAPACITY</th>\n",
       "      <th>DOUBLE_POSTED_CAPACITY</th>\n",
       "      <th>LATITUDE</th>\n",
       "      <th>LONGITUDE</th>\n",
       "    </tr>\n",
       "  </thead>\n",
       "  <tbody>\n",
       "    <tr>\n",
       "      <th>count</th>\n",
       "      <td>326.000000</td>\n",
       "      <td>326.000000</td>\n",
       "      <td>326.000000</td>\n",
       "      <td>326.000000</td>\n",
       "      <td>185.000000</td>\n",
       "      <td>137.000000</td>\n",
       "      <td>137.000000</td>\n",
       "      <td>326.000000</td>\n",
       "      <td>326.000000</td>\n",
       "    </tr>\n",
       "    <tr>\n",
       "      <th>mean</th>\n",
       "      <td>75.748466</td>\n",
       "      <td>95.103988</td>\n",
       "      <td>28.976687</td>\n",
       "      <td>94.776380</td>\n",
       "      <td>25.281081</td>\n",
       "      <td>35.591241</td>\n",
       "      <td>35.605839</td>\n",
       "      <td>44.760189</td>\n",
       "      <td>-93.330674</td>\n",
       "    </tr>\n",
       "    <tr>\n",
       "      <th>std</th>\n",
       "      <td>39.341081</td>\n",
       "      <td>20.294527</td>\n",
       "      <td>12.947608</td>\n",
       "      <td>19.799816</td>\n",
       "      <td>9.188658</td>\n",
       "      <td>6.648258</td>\n",
       "      <td>6.669022</td>\n",
       "      <td>0.504273</td>\n",
       "      <td>0.607174</td>\n",
       "    </tr>\n",
       "    <tr>\n",
       "      <th>min</th>\n",
       "      <td>7.600000</td>\n",
       "      <td>0.000000</td>\n",
       "      <td>1.000000</td>\n",
       "      <td>0.000000</td>\n",
       "      <td>3.000000</td>\n",
       "      <td>14.000000</td>\n",
       "      <td>14.000000</td>\n",
       "      <td>43.974286</td>\n",
       "      <td>-94.639983</td>\n",
       "    </tr>\n",
       "    <tr>\n",
       "      <th>25%</th>\n",
       "      <td>13.400000</td>\n",
       "      <td>100.000000</td>\n",
       "      <td>22.325000</td>\n",
       "      <td>100.000000</td>\n",
       "      <td>20.000000</td>\n",
       "      <td>32.000000</td>\n",
       "      <td>32.000000</td>\n",
       "      <td>44.325854</td>\n",
       "      <td>-93.702982</td>\n",
       "    </tr>\n",
       "    <tr>\n",
       "      <th>50%</th>\n",
       "      <td>100.000000</td>\n",
       "      <td>100.000000</td>\n",
       "      <td>28.000000</td>\n",
       "      <td>100.000000</td>\n",
       "      <td>26.000000</td>\n",
       "      <td>40.000000</td>\n",
       "      <td>40.000000</td>\n",
       "      <td>44.837477</td>\n",
       "      <td>-93.275997</td>\n",
       "    </tr>\n",
       "    <tr>\n",
       "      <th>75%</th>\n",
       "      <td>100.000000</td>\n",
       "      <td>100.000000</td>\n",
       "      <td>32.000000</td>\n",
       "      <td>100.000000</td>\n",
       "      <td>32.000000</td>\n",
       "      <td>40.000000</td>\n",
       "      <td>40.000000</td>\n",
       "      <td>44.993133</td>\n",
       "      <td>-93.004648</td>\n",
       "    </tr>\n",
       "    <tr>\n",
       "      <th>max</th>\n",
       "      <td>100.000000</td>\n",
       "      <td>100.000000</td>\n",
       "      <td>100.000000</td>\n",
       "      <td>100.000000</td>\n",
       "      <td>40.000000</td>\n",
       "      <td>40.000000</td>\n",
       "      <td>40.000000</td>\n",
       "      <td>45.976231</td>\n",
       "      <td>-91.805811</td>\n",
       "    </tr>\n",
       "  </tbody>\n",
       "</table>\n",
       "</div>"
      ],
      "text/plain": [
       "       VERTICAL_CLR_RD1_FEET  VERTICAL_CLR_RD2_FEET  HORIZONTAL_CLR_RD1_FEET  \\\n",
       "count             326.000000             326.000000               326.000000   \n",
       "mean               75.748466              95.103988                28.976687   \n",
       "std                39.341081              20.294527                12.947608   \n",
       "min                 7.600000               0.000000                 1.000000   \n",
       "25%                13.400000             100.000000                22.325000   \n",
       "50%               100.000000             100.000000                28.000000   \n",
       "75%               100.000000             100.000000                32.000000   \n",
       "max               100.000000             100.000000               100.000000   \n",
       "\n",
       "       HORIZONTAL_CLR_RD2_FEET  VEHICLE_POSTED_CAPACITY  SEMI_POSTED_CAPACITY  \\\n",
       "count               326.000000               185.000000            137.000000   \n",
       "mean                 94.776380                25.281081             35.591241   \n",
       "std                  19.799816                 9.188658              6.648258   \n",
       "min                   0.000000                 3.000000             14.000000   \n",
       "25%                 100.000000                20.000000             32.000000   \n",
       "50%                 100.000000                26.000000             40.000000   \n",
       "75%                 100.000000                32.000000             40.000000   \n",
       "max                 100.000000                40.000000             40.000000   \n",
       "\n",
       "       DOUBLE_POSTED_CAPACITY    LATITUDE   LONGITUDE  \n",
       "count              137.000000  326.000000  326.000000  \n",
       "mean                35.605839   44.760189  -93.330674  \n",
       "std                  6.669022    0.504273    0.607174  \n",
       "min                 14.000000   43.974286  -94.639983  \n",
       "25%                 32.000000   44.325854  -93.702982  \n",
       "50%                 40.000000   44.837477  -93.275997  \n",
       "75%                 40.000000   44.993133  -93.004648  \n",
       "max                 40.000000   45.976231  -91.805811  "
      ]
     },
     "execution_count": 508,
     "metadata": {},
     "output_type": "execute_result"
    }
   ],
   "source": [
    "bridgeRestriction.describe(include=[np.number])"
   ]
  },
  {
   "cell_type": "code",
   "execution_count": 510,
   "metadata": {},
   "outputs": [
    {
     "name": "stderr",
     "output_type": "stream",
     "text": [
      "c:\\Users\\mingzhou\\anaconda3\\lib\\site-packages\\ipykernel\\ipkernel.py:287: DeprecationWarning:\n",
      "\n",
      "`should_run_async` will not call `transform_cell` automatically in the future. Please pass the result to `transformed_cell` argument and any exception that happen during thetransform in `preprocessing_exc_tuple` in IPython 7.17 and above.\n",
      "\n"
     ]
    },
    {
     "data": {
      "text/plain": [
       "165      1\n",
       "288      1\n",
       "290      1\n",
       "509      1\n",
       "510      1\n",
       "        ..\n",
       "24342    2\n",
       "24344    2\n",
       "24356    2\n",
       "24374    1\n",
       "24375    1\n",
       "Name: ON_UNDER, Length: 326, dtype: object"
      ]
     },
     "execution_count": 510,
     "metadata": {},
     "output_type": "execute_result"
    }
   ],
   "source": [
    "bridgeRestriction['ON_UNDER']"
   ]
  },
  {
   "cell_type": "code",
   "execution_count": 514,
   "metadata": {},
   "outputs": [
    {
     "name": "stderr",
     "output_type": "stream",
     "text": [
      "c:\\Users\\mingzhou\\anaconda3\\lib\\site-packages\\ipykernel\\ipkernel.py:287: DeprecationWarning:\n",
      "\n",
      "`should_run_async` will not call `transform_cell` automatically in the future. Please pass the result to `transformed_cell` argument and any exception that happen during thetransform in `preprocessing_exc_tuple` in IPython 7.17 and above.\n",
      "\n"
     ]
    },
    {
     "data": {
      "text/plain": [
       "326"
      ]
     },
     "execution_count": 514,
     "metadata": {},
     "output_type": "execute_result"
    }
   ],
   "source": [
    "len(bridgeRestriction)"
   ]
  },
  {
   "cell_type": "code",
   "execution_count": 515,
   "metadata": {},
   "outputs": [
    {
     "data": {
      "text/html": [
       "<div>\n",
       "<style scoped>\n",
       "    .dataframe tbody tr th:only-of-type {\n",
       "        vertical-align: middle;\n",
       "    }\n",
       "\n",
       "    .dataframe tbody tr th {\n",
       "        vertical-align: top;\n",
       "    }\n",
       "\n",
       "    .dataframe thead th {\n",
       "        text-align: right;\n",
       "    }\n",
       "</style>\n",
       "<table border=\"1\" class=\"dataframe\">\n",
       "  <thead>\n",
       "    <tr style=\"text-align: right;\">\n",
       "      <th></th>\n",
       "      <th>BRKEY</th>\n",
       "      <th>ON_UNDER</th>\n",
       "      <th>FACILITY</th>\n",
       "      <th>ROADWAY_NAME</th>\n",
       "      <th>FEATURE_INTERSECTED</th>\n",
       "      <th>DISTRICT</th>\n",
       "      <th>COUNTY</th>\n",
       "      <th>CITY - TOWNSHIP</th>\n",
       "      <th>LOCATION DESC</th>\n",
       "      <th>OWNER</th>\n",
       "      <th>...</th>\n",
       "      <th>PERMIT_CODE_60K_CODE</th>\n",
       "      <th>PERMIT_CODE_60K_DESC</th>\n",
       "      <th>PERMIT_CODE_72K_CODE</th>\n",
       "      <th>PERMIT_CODE_72K_DESC</th>\n",
       "      <th>VEHICLE_POSTED_CAPACITY</th>\n",
       "      <th>SEMI_POSTED_CAPACITY</th>\n",
       "      <th>DOUBLE_POSTED_CAPACITY</th>\n",
       "      <th>LATITUDE</th>\n",
       "      <th>LONGITUDE</th>\n",
       "      <th>inBbox</th>\n",
       "    </tr>\n",
       "  </thead>\n",
       "  <tbody>\n",
       "    <tr>\n",
       "      <th>2094</th>\n",
       "      <td>19555</td>\n",
       "      <td>2</td>\n",
       "      <td>NaN</td>\n",
       "      <td>77th St</td>\n",
       "      <td>NaN</td>\n",
       "      <td>NaN</td>\n",
       "      <td>NaN</td>\n",
       "      <td>NaN</td>\n",
       "      <td>NaN</td>\n",
       "      <td>NaN</td>\n",
       "      <td>...</td>\n",
       "      <td>NaN</td>\n",
       "      <td>NaN</td>\n",
       "      <td>NaN</td>\n",
       "      <td>NaN</td>\n",
       "      <td>NaN</td>\n",
       "      <td>NaN</td>\n",
       "      <td>NaN</td>\n",
       "      <td>44.838061</td>\n",
       "      <td>-93.016022</td>\n",
       "      <td>True</td>\n",
       "    </tr>\n",
       "    <tr>\n",
       "      <th>2156</th>\n",
       "      <td>19821</td>\n",
       "      <td>C</td>\n",
       "      <td>NaN</td>\n",
       "      <td>I 35 SB ON RAMP FROM I 494</td>\n",
       "      <td>NaN</td>\n",
       "      <td>NaN</td>\n",
       "      <td>NaN</td>\n",
       "      <td>NaN</td>\n",
       "      <td>NaN</td>\n",
       "      <td>NaN</td>\n",
       "      <td>...</td>\n",
       "      <td>NaN</td>\n",
       "      <td>NaN</td>\n",
       "      <td>NaN</td>\n",
       "      <td>NaN</td>\n",
       "      <td>NaN</td>\n",
       "      <td>NaN</td>\n",
       "      <td>NaN</td>\n",
       "      <td>44.858094</td>\n",
       "      <td>-93.146122</td>\n",
       "      <td>True</td>\n",
       "    </tr>\n",
       "    <tr>\n",
       "      <th>2698</th>\n",
       "      <td>2266</td>\n",
       "      <td>2</td>\n",
       "      <td>NaN</td>\n",
       "      <td>MUN 27</td>\n",
       "      <td>NaN</td>\n",
       "      <td>NaN</td>\n",
       "      <td>NaN</td>\n",
       "      <td>NaN</td>\n",
       "      <td>NaN</td>\n",
       "      <td>NaN</td>\n",
       "      <td>...</td>\n",
       "      <td>NaN</td>\n",
       "      <td>NaN</td>\n",
       "      <td>NaN</td>\n",
       "      <td>NaN</td>\n",
       "      <td>NaN</td>\n",
       "      <td>NaN</td>\n",
       "      <td>NaN</td>\n",
       "      <td>44.115097</td>\n",
       "      <td>-93.717742</td>\n",
       "      <td>True</td>\n",
       "    </tr>\n",
       "    <tr>\n",
       "      <th>3058</th>\n",
       "      <td>2441</td>\n",
       "      <td>2</td>\n",
       "      <td>NaN</td>\n",
       "      <td>W RIVER PKWY</td>\n",
       "      <td>NaN</td>\n",
       "      <td>NaN</td>\n",
       "      <td>NaN</td>\n",
       "      <td>NaN</td>\n",
       "      <td>NaN</td>\n",
       "      <td>NaN</td>\n",
       "      <td>...</td>\n",
       "      <td>NaN</td>\n",
       "      <td>NaN</td>\n",
       "      <td>NaN</td>\n",
       "      <td>NaN</td>\n",
       "      <td>NaN</td>\n",
       "      <td>NaN</td>\n",
       "      <td>NaN</td>\n",
       "      <td>44.963919</td>\n",
       "      <td>-93.222656</td>\n",
       "      <td>True</td>\n",
       "    </tr>\n",
       "    <tr>\n",
       "      <th>3683</th>\n",
       "      <td>27097</td>\n",
       "      <td>C</td>\n",
       "      <td>NaN</td>\n",
       "      <td>ALLEY</td>\n",
       "      <td>NaN</td>\n",
       "      <td>NaN</td>\n",
       "      <td>NaN</td>\n",
       "      <td>NaN</td>\n",
       "      <td>NaN</td>\n",
       "      <td>NaN</td>\n",
       "      <td>...</td>\n",
       "      <td>NaN</td>\n",
       "      <td>NaN</td>\n",
       "      <td>NaN</td>\n",
       "      <td>NaN</td>\n",
       "      <td>NaN</td>\n",
       "      <td>NaN</td>\n",
       "      <td>NaN</td>\n",
       "      <td>44.899792</td>\n",
       "      <td>-93.247231</td>\n",
       "      <td>True</td>\n",
       "    </tr>\n",
       "    <tr>\n",
       "      <th>...</th>\n",
       "      <td>...</td>\n",
       "      <td>...</td>\n",
       "      <td>...</td>\n",
       "      <td>...</td>\n",
       "      <td>...</td>\n",
       "      <td>...</td>\n",
       "      <td>...</td>\n",
       "      <td>...</td>\n",
       "      <td>...</td>\n",
       "      <td>...</td>\n",
       "      <td>...</td>\n",
       "      <td>...</td>\n",
       "      <td>...</td>\n",
       "      <td>...</td>\n",
       "      <td>...</td>\n",
       "      <td>...</td>\n",
       "      <td>...</td>\n",
       "      <td>...</td>\n",
       "      <td>...</td>\n",
       "      <td>...</td>\n",
       "      <td>...</td>\n",
       "    </tr>\n",
       "    <tr>\n",
       "      <th>24330</th>\n",
       "      <td>R0831</td>\n",
       "      <td>2</td>\n",
       "      <td>NaN</td>\n",
       "      <td>GLUMACK DR</td>\n",
       "      <td>NaN</td>\n",
       "      <td>NaN</td>\n",
       "      <td>NaN</td>\n",
       "      <td>NaN</td>\n",
       "      <td>NaN</td>\n",
       "      <td>NaN</td>\n",
       "      <td>...</td>\n",
       "      <td>NaN</td>\n",
       "      <td>NaN</td>\n",
       "      <td>NaN</td>\n",
       "      <td>NaN</td>\n",
       "      <td>NaN</td>\n",
       "      <td>NaN</td>\n",
       "      <td>NaN</td>\n",
       "      <td>44.881031</td>\n",
       "      <td>-93.205728</td>\n",
       "      <td>True</td>\n",
       "    </tr>\n",
       "    <tr>\n",
       "      <th>24336</th>\n",
       "      <td>R0834</td>\n",
       "      <td>2</td>\n",
       "      <td>NaN</td>\n",
       "      <td>TERMINAL 1 RD</td>\n",
       "      <td>NaN</td>\n",
       "      <td>NaN</td>\n",
       "      <td>NaN</td>\n",
       "      <td>NaN</td>\n",
       "      <td>NaN</td>\n",
       "      <td>NaN</td>\n",
       "      <td>...</td>\n",
       "      <td>NaN</td>\n",
       "      <td>NaN</td>\n",
       "      <td>NaN</td>\n",
       "      <td>NaN</td>\n",
       "      <td>NaN</td>\n",
       "      <td>NaN</td>\n",
       "      <td>NaN</td>\n",
       "      <td>44.883170</td>\n",
       "      <td>-93.210750</td>\n",
       "      <td>True</td>\n",
       "    </tr>\n",
       "    <tr>\n",
       "      <th>24342</th>\n",
       "      <td>R0837</td>\n",
       "      <td>2</td>\n",
       "      <td>NaN</td>\n",
       "      <td>GLUMACK RD</td>\n",
       "      <td>NaN</td>\n",
       "      <td>NaN</td>\n",
       "      <td>NaN</td>\n",
       "      <td>NaN</td>\n",
       "      <td>NaN</td>\n",
       "      <td>NaN</td>\n",
       "      <td>...</td>\n",
       "      <td>NaN</td>\n",
       "      <td>NaN</td>\n",
       "      <td>NaN</td>\n",
       "      <td>NaN</td>\n",
       "      <td>NaN</td>\n",
       "      <td>NaN</td>\n",
       "      <td>NaN</td>\n",
       "      <td>44.883420</td>\n",
       "      <td>-93.210420</td>\n",
       "      <td>True</td>\n",
       "    </tr>\n",
       "    <tr>\n",
       "      <th>24344</th>\n",
       "      <td>R0838</td>\n",
       "      <td>2</td>\n",
       "      <td>NaN</td>\n",
       "      <td>GLUMACK RD</td>\n",
       "      <td>NaN</td>\n",
       "      <td>NaN</td>\n",
       "      <td>NaN</td>\n",
       "      <td>NaN</td>\n",
       "      <td>NaN</td>\n",
       "      <td>NaN</td>\n",
       "      <td>...</td>\n",
       "      <td>NaN</td>\n",
       "      <td>NaN</td>\n",
       "      <td>NaN</td>\n",
       "      <td>NaN</td>\n",
       "      <td>NaN</td>\n",
       "      <td>NaN</td>\n",
       "      <td>NaN</td>\n",
       "      <td>44.882780</td>\n",
       "      <td>-93.210940</td>\n",
       "      <td>True</td>\n",
       "    </tr>\n",
       "    <tr>\n",
       "      <th>24356</th>\n",
       "      <td>R0859</td>\n",
       "      <td>2</td>\n",
       "      <td>NaN</td>\n",
       "      <td>OUTER SERVICE RD</td>\n",
       "      <td>NaN</td>\n",
       "      <td>NaN</td>\n",
       "      <td>NaN</td>\n",
       "      <td>NaN</td>\n",
       "      <td>NaN</td>\n",
       "      <td>NaN</td>\n",
       "      <td>...</td>\n",
       "      <td>NaN</td>\n",
       "      <td>NaN</td>\n",
       "      <td>NaN</td>\n",
       "      <td>NaN</td>\n",
       "      <td>NaN</td>\n",
       "      <td>NaN</td>\n",
       "      <td>NaN</td>\n",
       "      <td>44.882780</td>\n",
       "      <td>-93.213060</td>\n",
       "      <td>True</td>\n",
       "    </tr>\n",
       "  </tbody>\n",
       "</table>\n",
       "<p>86 rows × 26 columns</p>\n",
       "</div>"
      ],
      "text/plain": [
       "       BRKEY ON_UNDER FACILITY                ROADWAY_NAME  \\\n",
       "2094   19555        2      NaN                     77th St   \n",
       "2156   19821        C      NaN  I 35 SB ON RAMP FROM I 494   \n",
       "2698    2266        2      NaN                      MUN 27   \n",
       "3058    2441        2      NaN                W RIVER PKWY   \n",
       "3683   27097        C      NaN                       ALLEY   \n",
       "...      ...      ...      ...                         ...   \n",
       "24330  R0831        2      NaN                  GLUMACK DR   \n",
       "24336  R0834        2      NaN               TERMINAL 1 RD   \n",
       "24342  R0837        2      NaN                  GLUMACK RD   \n",
       "24344  R0838        2      NaN                  GLUMACK RD   \n",
       "24356  R0859        2      NaN            OUTER SERVICE RD   \n",
       "\n",
       "      FEATURE_INTERSECTED DISTRICT COUNTY CITY - TOWNSHIP LOCATION DESC OWNER  \\\n",
       "2094                  NaN      NaN    NaN             NaN           NaN   NaN   \n",
       "2156                  NaN      NaN    NaN             NaN           NaN   NaN   \n",
       "2698                  NaN      NaN    NaN             NaN           NaN   NaN   \n",
       "3058                  NaN      NaN    NaN             NaN           NaN   NaN   \n",
       "3683                  NaN      NaN    NaN             NaN           NaN   NaN   \n",
       "...                   ...      ...    ...             ...           ...   ...   \n",
       "24330                 NaN      NaN    NaN             NaN           NaN   NaN   \n",
       "24336                 NaN      NaN    NaN             NaN           NaN   NaN   \n",
       "24342                 NaN      NaN    NaN             NaN           NaN   NaN   \n",
       "24344                 NaN      NaN    NaN             NaN           NaN   NaN   \n",
       "24356                 NaN      NaN    NaN             NaN           NaN   NaN   \n",
       "\n",
       "       ...  PERMIT_CODE_60K_CODE  PERMIT_CODE_60K_DESC  PERMIT_CODE_72K_CODE  \\\n",
       "2094   ...                   NaN                   NaN                   NaN   \n",
       "2156   ...                   NaN                   NaN                   NaN   \n",
       "2698   ...                   NaN                   NaN                   NaN   \n",
       "3058   ...                   NaN                   NaN                   NaN   \n",
       "3683   ...                   NaN                   NaN                   NaN   \n",
       "...    ...                   ...                   ...                   ...   \n",
       "24330  ...                   NaN                   NaN                   NaN   \n",
       "24336  ...                   NaN                   NaN                   NaN   \n",
       "24342  ...                   NaN                   NaN                   NaN   \n",
       "24344  ...                   NaN                   NaN                   NaN   \n",
       "24356  ...                   NaN                   NaN                   NaN   \n",
       "\n",
       "       PERMIT_CODE_72K_DESC VEHICLE_POSTED_CAPACITY SEMI_POSTED_CAPACITY  \\\n",
       "2094                    NaN                     NaN                  NaN   \n",
       "2156                    NaN                     NaN                  NaN   \n",
       "2698                    NaN                     NaN                  NaN   \n",
       "3058                    NaN                     NaN                  NaN   \n",
       "3683                    NaN                     NaN                  NaN   \n",
       "...                     ...                     ...                  ...   \n",
       "24330                   NaN                     NaN                  NaN   \n",
       "24336                   NaN                     NaN                  NaN   \n",
       "24342                   NaN                     NaN                  NaN   \n",
       "24344                   NaN                     NaN                  NaN   \n",
       "24356                   NaN                     NaN                  NaN   \n",
       "\n",
       "      DOUBLE_POSTED_CAPACITY   LATITUDE  LONGITUDE inBbox  \n",
       "2094                     NaN  44.838061 -93.016022   True  \n",
       "2156                     NaN  44.858094 -93.146122   True  \n",
       "2698                     NaN  44.115097 -93.717742   True  \n",
       "3058                     NaN  44.963919 -93.222656   True  \n",
       "3683                     NaN  44.899792 -93.247231   True  \n",
       "...                      ...        ...        ...    ...  \n",
       "24330                    NaN  44.881031 -93.205728   True  \n",
       "24336                    NaN  44.883170 -93.210750   True  \n",
       "24342                    NaN  44.883420 -93.210420   True  \n",
       "24344                    NaN  44.882780 -93.210940   True  \n",
       "24356                    NaN  44.882780 -93.213060   True  \n",
       "\n",
       "[86 rows x 26 columns]"
      ]
     },
     "execution_count": 515,
     "metadata": {},
     "output_type": "execute_result"
    }
   ],
   "source": [
    "bridgeRestriction[bridgeRestriction['ON_UNDER']!='1']"
   ]
  },
  {
   "cell_type": "code",
   "execution_count": 517,
   "metadata": {},
   "outputs": [],
   "source": [
    "bridgeRestriction.to_csv(\"statistical data/bridgeRestriction.csv\", index=False)"
   ]
  },
  {
   "cell_type": "code",
   "execution_count": 521,
   "metadata": {},
   "outputs": [
    {
     "name": "stderr",
     "output_type": "stream",
     "text": [
      "c:\\Users\\mingzhou\\anaconda3\\lib\\site-packages\\ipykernel\\ipkernel.py:287: DeprecationWarning:\n",
      "\n",
      "`should_run_async` will not call `transform_cell` automatically in the future. Please pass the result to `transformed_cell` argument and any exception that happen during thetransform in `preprocessing_exc_tuple` in IPython 7.17 and above.\n",
      "\n"
     ]
    }
   ],
   "source": [
    "onbridge = bridgeRestriction[bridgeRestriction['ON_UNDER']=='1']"
   ]
  },
  {
   "cell_type": "code",
   "execution_count": 522,
   "metadata": {},
   "outputs": [
    {
     "name": "stderr",
     "output_type": "stream",
     "text": [
      "c:\\Users\\mingzhou\\anaconda3\\lib\\site-packages\\ipykernel\\ipkernel.py:287: DeprecationWarning:\n",
      "\n",
      "`should_run_async` will not call `transform_cell` automatically in the future. Please pass the result to `transformed_cell` argument and any exception that happen during thetransform in `preprocessing_exc_tuple` in IPython 7.17 and above.\n",
      "\n"
     ]
    }
   ],
   "source": [
    "underbridge = bridgeRestriction[bridgeRestriction['ON_UNDER']!='1']"
   ]
  },
  {
   "cell_type": "code",
   "execution_count": 524,
   "metadata": {},
   "outputs": [
    {
     "name": "stderr",
     "output_type": "stream",
     "text": [
      "c:\\Users\\mingzhou\\anaconda3\\lib\\site-packages\\ipykernel\\ipkernel.py:287: DeprecationWarning:\n",
      "\n",
      "`should_run_async` will not call `transform_cell` automatically in the future. Please pass the result to `transformed_cell` argument and any exception that happen during thetransform in `preprocessing_exc_tuple` in IPython 7.17 and above.\n",
      "\n"
     ]
    },
    {
     "data": {
      "text/plain": [
       "(240, 86)"
      ]
     },
     "execution_count": 524,
     "metadata": {},
     "output_type": "execute_result"
    }
   ],
   "source": [
    "len(onbridge), len(underbridge)"
   ]
  },
  {
   "cell_type": "code",
   "execution_count": 525,
   "metadata": {},
   "outputs": [
    {
     "name": "stderr",
     "output_type": "stream",
     "text": [
      "c:\\Users\\mingzhou\\anaconda3\\lib\\site-packages\\ipykernel\\ipkernel.py:287: DeprecationWarning:\n",
      "\n",
      "`should_run_async` will not call `transform_cell` automatically in the future. Please pass the result to `transformed_cell` argument and any exception that happen during thetransform in `preprocessing_exc_tuple` in IPython 7.17 and above.\n",
      "\n"
     ]
    }
   ],
   "source": [
    "onbridgePointList = list(zip(list(onbridge['LATITUDE']), list(onbridge['LONGITUDE'])))\n",
    "underbridgePointList = list(zip(list(underbridge['LATITUDE']), list(underbridge['LONGITUDE'])))"
   ]
  },
  {
   "cell_type": "code",
   "execution_count": 526,
   "metadata": {},
   "outputs": [
    {
     "name": "stdout",
     "output_type": "stream",
     "text": [
      "green\n"
     ]
    },
    {
     "name": "stderr",
     "output_type": "stream",
     "text": [
      "c:\\Users\\mingzhou\\anaconda3\\lib\\site-packages\\ipykernel\\ipkernel.py:287: DeprecationWarning:\n",
      "\n",
      "`should_run_async` will not call `transform_cell` automatically in the future. Please pass the result to `transformed_cell` argument and any exception that happen during thetransform in `preprocessing_exc_tuple` in IPython 7.17 and above.\n",
      "\n"
     ]
    }
   ],
   "source": [
    "GraphFunctions.plotPointList({'onbridge nodes':  onbridgePointList, 'underbridge nodes': underbridgePointList}, ['red', 'green'], 'test.html')"
   ]
  },
  {
   "cell_type": "code",
   "execution_count": 160,
   "metadata": {},
   "outputs": [
    {
     "name": "stdout",
     "output_type": "stream",
     "text": [
      "10\n",
      "53\n"
     ]
    },
    {
     "data": {
      "text/plain": [
       "(None, None)"
      ]
     },
     "execution_count": 160,
     "metadata": {},
     "output_type": "execute_result"
    }
   ],
   "source": [
    "trajList = []\n",
    "for i in pathListInBbox:\n",
    "    trajList.append(list(i.coords))\n",
    "print(len(trajList)), print(len(trajList[0]))"
   ]
  },
  {
   "cell_type": "code",
   "execution_count": 161,
   "metadata": {},
   "outputs": [
    {
     "name": "stdout",
     "output_type": "stream",
     "text": [
      "[(-94.54655583, 45.32252174), (-94.54656984, 45.32390502), (-94.54655619, 45.32427189), (-94.54657932, 45.32512165), (-94.54659109, 45.32598824), (-94.54659314, 45.32718583), (-94.5465619, 45.32811682), (-94.54655397, 45.3283355), (-94.54651701, 45.32935598), (-94.54641734, 45.33291583), (-94.5462951, 45.33468286), (-94.54624518, 45.33604311), (-94.54613328, 45.33994672), (-94.54650922, 45.36152701), (-94.54684036, 45.36723391), (-94.54677746, 45.36798637), (-94.54646379, 45.36833718), (-94.54643228, 45.36837194), (-94.54587602, 45.36864668), (-94.54515965, 45.36873289), (-94.53913402, 45.36884577), (-94.53904943, 45.36888183), (-94.53850917, 45.36911495), (-94.53812391, 45.36947598), (-94.53786733, 45.37015453), (-94.53780221, 45.37106455), (-94.53755982, 45.37186893), (-94.53708973, 45.37220832), (-94.53654328, 45.3723822), (-94.53559427, 45.3724122), (-94.53480911, 45.37243702), (-94.53421645, 45.3725845), (-94.53375401, 45.37288326), (-94.53346826, 45.37340019), (-94.53350677, 45.37410177), (-94.53380297, 45.37497542), (-94.53458921, 45.37645009), (-94.53445667, 45.37696495), (-94.53396981, 45.37785362), (-94.53326447, 45.37873623), (-94.53294739, 45.37932107), (-94.53279226, 45.38065536), (-94.53259944, 45.38096399), (-94.53215969, 45.38135245), (-94.53080836, 45.38268381), (-94.5302784, 45.38315768), (-94.52958023, 45.38353655), (-94.5292419, 45.38361239), (-94.52871167, 45.3837362), (-94.52619871, 45.38379963), (-94.51698845, 45.38382334), (-94.51646339, 45.38382393), (-94.51595325, 45.38384684)]\n"
     ]
    },
    {
     "name": "stderr",
     "output_type": "stream",
     "text": [
      "c:\\Users\\mingzhou\\anaconda3\\lib\\site-packages\\ipykernel\\ipkernel.py:287: DeprecationWarning:\n",
      "\n",
      "`should_run_async` will not call `transform_cell` automatically in the future. Please pass the result to `transformed_cell` argument and any exception that happen during thetransform in `preprocessing_exc_tuple` in IPython 7.17 and above.\n",
      "\n"
     ]
    }
   ],
   "source": [
    "print(trajList[0])"
   ]
  },
  {
   "cell_type": "code",
   "execution_count": 169,
   "metadata": {},
   "outputs": [
    {
     "name": "stdout",
     "output_type": "stream",
     "text": [
      "red\n",
      "red\n",
      "red\n",
      "red\n",
      "red\n",
      "red\n",
      "red\n",
      "red\n",
      "red\n"
     ]
    }
   ],
   "source": [
    "GraphFunctions.plotTrajList(trajList, 'red', 'restrictedPath', 'restrictedPath.html',1)"
   ]
  },
  {
   "cell_type": "code",
   "execution_count": 170,
   "metadata": {},
   "outputs": [],
   "source": [
    "GraphFunctions.extractElevation(nodes, edges, boundingBox)"
   ]
  },
  {
   "cell_type": "code",
   "execution_count": 171,
   "metadata": {},
   "outputs": [
    {
     "name": "stderr",
     "output_type": "stream",
     "text": [
      "c:\\Users\\mingzhou\\anaconda3\\lib\\site-packages\\ipykernel\\ipkernel.py:287: DeprecationWarning:\n",
      "\n",
      "`should_run_async` will not call `transform_cell` automatically in the future. Please pass the result to `transformed_cell` argument and any exception that happen during thetransform in `preprocessing_exc_tuple` in IPython 7.17 and above.\n",
      "\n"
     ]
    },
    {
     "data": {
      "text/plain": [
       "570087"
      ]
     },
     "execution_count": 171,
     "metadata": {},
     "output_type": "execute_result"
    }
   ],
   "source": [
    "len(edges)"
   ]
  },
  {
   "cell_type": "code",
   "execution_count": 172,
   "metadata": {},
   "outputs": [
    {
     "name": "stderr",
     "output_type": "stream",
     "text": [
      "c:\\Users\\mingzhou\\anaconda3\\lib\\site-packages\\ipykernel\\ipkernel.py:287: DeprecationWarning:\n",
      "\n",
      "`should_run_async` will not call `transform_cell` automatically in the future. Please pass the result to `transformed_cell` argument and any exception that happen during thetransform in `preprocessing_exc_tuple` in IPython 7.17 and above.\n",
      "\n"
     ]
    },
    {
     "data": {
      "text/html": [
       "<div>\n",
       "<style scoped>\n",
       "    .dataframe tbody tr th:only-of-type {\n",
       "        vertical-align: middle;\n",
       "    }\n",
       "\n",
       "    .dataframe tbody tr th {\n",
       "        vertical-align: top;\n",
       "    }\n",
       "\n",
       "    .dataframe thead th {\n",
       "        text-align: right;\n",
       "    }\n",
       "</style>\n",
       "<table border=\"1\" class=\"dataframe\">\n",
       "  <thead>\n",
       "    <tr style=\"text-align: right;\">\n",
       "      <th></th>\n",
       "      <th>osmid</th>\n",
       "      <th>oneway</th>\n",
       "      <th>lanes</th>\n",
       "      <th>ref</th>\n",
       "      <th>name</th>\n",
       "      <th>highway</th>\n",
       "      <th>maxspeed</th>\n",
       "      <th>access</th>\n",
       "      <th>length</th>\n",
       "      <th>geometry</th>\n",
       "      <th>...</th>\n",
       "      <th>tunnel</th>\n",
       "      <th>junction</th>\n",
       "      <th>service</th>\n",
       "      <th>width</th>\n",
       "      <th>area</th>\n",
       "      <th>u</th>\n",
       "      <th>v</th>\n",
       "      <th>key</th>\n",
       "      <th>uElevation</th>\n",
       "      <th>vElevation</th>\n",
       "    </tr>\n",
       "  </thead>\n",
       "  <tbody>\n",
       "    <tr>\n",
       "      <th>0</th>\n",
       "      <td>18276018</td>\n",
       "      <td>False</td>\n",
       "      <td>2</td>\n",
       "      <td>CR 23</td>\n",
       "      <td>County Road 23</td>\n",
       "      <td>tertiary</td>\n",
       "      <td>55 mph</td>\n",
       "      <td>yes</td>\n",
       "      <td>621.703</td>\n",
       "      <td>LINESTRING (-92.31899 44.19406, -92.31835 44.1...</td>\n",
       "      <td>...</td>\n",
       "      <td>NaN</td>\n",
       "      <td>NaN</td>\n",
       "      <td>NaN</td>\n",
       "      <td>NaN</td>\n",
       "      <td>NaN</td>\n",
       "      <td>187638945</td>\n",
       "      <td>188359345</td>\n",
       "      <td>0</td>\n",
       "      <td>328.57758</td>\n",
       "      <td>335.17166</td>\n",
       "    </tr>\n",
       "    <tr>\n",
       "      <th>1</th>\n",
       "      <td>18277445</td>\n",
       "      <td>False</td>\n",
       "      <td>2</td>\n",
       "      <td>CR 38</td>\n",
       "      <td>County Road 38</td>\n",
       "      <td>tertiary</td>\n",
       "      <td>55 mph</td>\n",
       "      <td>yes</td>\n",
       "      <td>924.434</td>\n",
       "      <td>LINESTRING (-92.31899 44.19406, -92.32066 44.1...</td>\n",
       "      <td>...</td>\n",
       "      <td>NaN</td>\n",
       "      <td>NaN</td>\n",
       "      <td>NaN</td>\n",
       "      <td>NaN</td>\n",
       "      <td>NaN</td>\n",
       "      <td>187638945</td>\n",
       "      <td>187638954</td>\n",
       "      <td>0</td>\n",
       "      <td>328.57758</td>\n",
       "      <td>328.04327</td>\n",
       "    </tr>\n",
       "    <tr>\n",
       "      <th>2</th>\n",
       "      <td>148007759</td>\n",
       "      <td>False</td>\n",
       "      <td>NaN</td>\n",
       "      <td>NaN</td>\n",
       "      <td>80th Avenue Northeast</td>\n",
       "      <td>residential</td>\n",
       "      <td>NaN</td>\n",
       "      <td>yes</td>\n",
       "      <td>1554.238</td>\n",
       "      <td>LINESTRING (-92.31899 44.19406, -92.31898 44.1...</td>\n",
       "      <td>...</td>\n",
       "      <td>NaN</td>\n",
       "      <td>NaN</td>\n",
       "      <td>NaN</td>\n",
       "      <td>NaN</td>\n",
       "      <td>NaN</td>\n",
       "      <td>187638945</td>\n",
       "      <td>188370223</td>\n",
       "      <td>0</td>\n",
       "      <td>328.57758</td>\n",
       "      <td>330.20117</td>\n",
       "    </tr>\n",
       "    <tr>\n",
       "      <th>3</th>\n",
       "      <td>18275726</td>\n",
       "      <td>False</td>\n",
       "      <td>NaN</td>\n",
       "      <td>NaN</td>\n",
       "      <td>T-181</td>\n",
       "      <td>residential</td>\n",
       "      <td>NaN</td>\n",
       "      <td>NaN</td>\n",
       "      <td>1603.761</td>\n",
       "      <td>LINESTRING (-92.33058 44.19410, -92.33060 44.1...</td>\n",
       "      <td>...</td>\n",
       "      <td>NaN</td>\n",
       "      <td>NaN</td>\n",
       "      <td>NaN</td>\n",
       "      <td>NaN</td>\n",
       "      <td>NaN</td>\n",
       "      <td>187638954</td>\n",
       "      <td>188359837</td>\n",
       "      <td>0</td>\n",
       "      <td>328.04327</td>\n",
       "      <td>322.98657</td>\n",
       "    </tr>\n",
       "    <tr>\n",
       "      <th>4</th>\n",
       "      <td>18277445</td>\n",
       "      <td>False</td>\n",
       "      <td>2</td>\n",
       "      <td>CR 38</td>\n",
       "      <td>County Road 38</td>\n",
       "      <td>tertiary</td>\n",
       "      <td>55 mph</td>\n",
       "      <td>yes</td>\n",
       "      <td>924.434</td>\n",
       "      <td>LINESTRING (-92.33058 44.19410, -92.32908 44.1...</td>\n",
       "      <td>...</td>\n",
       "      <td>NaN</td>\n",
       "      <td>NaN</td>\n",
       "      <td>NaN</td>\n",
       "      <td>NaN</td>\n",
       "      <td>NaN</td>\n",
       "      <td>187638954</td>\n",
       "      <td>187638945</td>\n",
       "      <td>0</td>\n",
       "      <td>328.04327</td>\n",
       "      <td>328.57758</td>\n",
       "    </tr>\n",
       "  </tbody>\n",
       "</table>\n",
       "<p>5 rows × 21 columns</p>\n",
       "</div>"
      ],
      "text/plain": [
       "       osmid oneway lanes    ref                   name      highway maxspeed  \\\n",
       "0   18276018  False     2  CR 23         County Road 23     tertiary   55 mph   \n",
       "1   18277445  False     2  CR 38         County Road 38     tertiary   55 mph   \n",
       "2  148007759  False   NaN    NaN  80th Avenue Northeast  residential      NaN   \n",
       "3   18275726  False   NaN    NaN                  T-181  residential      NaN   \n",
       "4   18277445  False     2  CR 38         County Road 38     tertiary   55 mph   \n",
       "\n",
       "  access    length                                           geometry  ...  \\\n",
       "0    yes   621.703  LINESTRING (-92.31899 44.19406, -92.31835 44.1...  ...   \n",
       "1    yes   924.434  LINESTRING (-92.31899 44.19406, -92.32066 44.1...  ...   \n",
       "2    yes  1554.238  LINESTRING (-92.31899 44.19406, -92.31898 44.1...  ...   \n",
       "3    NaN  1603.761  LINESTRING (-92.33058 44.19410, -92.33060 44.1...  ...   \n",
       "4    yes   924.434  LINESTRING (-92.33058 44.19410, -92.32908 44.1...  ...   \n",
       "\n",
       "  tunnel junction service width area          u          v  key  uElevation  \\\n",
       "0    NaN      NaN     NaN   NaN  NaN  187638945  188359345    0   328.57758   \n",
       "1    NaN      NaN     NaN   NaN  NaN  187638945  187638954    0   328.57758   \n",
       "2    NaN      NaN     NaN   NaN  NaN  187638945  188370223    0   328.57758   \n",
       "3    NaN      NaN     NaN   NaN  NaN  187638954  188359837    0   328.04327   \n",
       "4    NaN      NaN     NaN   NaN  NaN  187638954  187638945    0   328.04327   \n",
       "\n",
       "   vElevation  \n",
       "0   335.17166  \n",
       "1   328.04327  \n",
       "2   330.20117  \n",
       "3   322.98657  \n",
       "4   328.57758  \n",
       "\n",
       "[5 rows x 21 columns]"
      ]
     },
     "execution_count": 172,
     "metadata": {},
     "output_type": "execute_result"
    }
   ],
   "source": [
    "edges.head()"
   ]
  },
  {
   "cell_type": "code",
   "execution_count": 173,
   "metadata": {},
   "outputs": [
    {
     "name": "stderr",
     "output_type": "stream",
     "text": [
      "c:\\Users\\mingzhou\\anaconda3\\lib\\site-packages\\ipykernel\\ipkernel.py:287: DeprecationWarning:\n",
      "\n",
      "`should_run_async` will not call `transform_cell` automatically in the future. Please pass the result to `transformed_cell` argument and any exception that happen during thetransform in `preprocessing_exc_tuple` in IPython 7.17 and above.\n",
      "\n"
     ]
    },
    {
     "data": {
      "text/plain": [
       "geopandas.geoseries.GeoSeries"
      ]
     },
     "execution_count": 173,
     "metadata": {},
     "output_type": "execute_result"
    }
   ],
   "source": [
    "type(edges['geometry'])"
   ]
  },
  {
   "cell_type": "code",
   "execution_count": 180,
   "metadata": {},
   "outputs": [],
   "source": [
    "import shapely.geometry\n",
    "\n",
    "\n",
    "class Point:\n",
    "    def __init__(self, x, y):\n",
    "        '''\n",
    "        x: lon\n",
    "        y: lat\n",
    "        '''\n",
    "        self.x = x\n",
    "        self.y = y\n",
    "\n",
    "    def xy(self):\n",
    "        return (self.x, self.y)\n",
    "\n",
    "    def yx(self):\n",
    "        return (self.y, self.x)\n",
    "\n",
    "    def isContained(self, box):\n",
    "        return box.contains(self)\n",
    "    \n",
    "    def geom(self):\n",
    "        return shapely.geometry.Point(self.x, self.y)"
   ]
  },
  {
   "cell_type": "code",
   "execution_count": 185,
   "metadata": {},
   "outputs": [
    {
     "data": {
      "image/svg+xml": "<svg xmlns=\"http://www.w3.org/2000/svg\" xmlns:xlink=\"http://www.w3.org/1999/xlink\" width=\"100.0\" height=\"100.0\" viewBox=\"-93.318352 43.194058 2.0 2.0\" preserveAspectRatio=\"xMinYMin meet\"><g transform=\"matrix(1,0,0,-1,0,88.388116)\"><circle cx=\"-92.318352\" cy=\"44.194058\" r=\"0.06\" stroke=\"#555555\" stroke-width=\"0.02\" fill=\"#66cc99\" opacity=\"0.6\" /></g></svg>",
      "text/plain": [
       "<shapely.geometry.point.Point at 0x1b1e6b15640>"
      ]
     },
     "execution_count": 185,
     "metadata": {},
     "output_type": "execute_result"
    }
   ],
   "source": [
    "Point(-92.318352,44.194058).geom()"
   ]
  },
  {
   "cell_type": "code",
   "execution_count": 184,
   "metadata": {},
   "outputs": [
    {
     "data": {
      "text/plain": [
       "True"
      ]
     },
     "execution_count": 184,
     "metadata": {},
     "output_type": "execute_result"
    }
   ],
   "source": [
    "edges.loc[0,'geometry'].intersects(Point(-92.318352,44.194058).geom())"
   ]
  },
  {
   "cell_type": "code",
   "execution_count": 183,
   "metadata": {},
   "outputs": [
    {
     "name": "stdout",
     "output_type": "stream",
     "text": [
      "LINESTRING (-92.318986 44.194057, -92.318352 44.194058, -92.31758499999999 44.19406, -92.31612130000001 44.1940543, -92.3138074 44.1940431, -92.31350430000001 44.1940481, -92.31324410000001 44.1940622, -92.31291450000001 44.1941014, -92.3125744 44.1941766, -92.3123593 44.1942416, -92.31212480000001 44.1943306, -92.31167000000001 44.194553, -92.311426 44.194697)\n"
     ]
    },
    {
     "name": "stderr",
     "output_type": "stream",
     "text": [
      "c:\\Users\\mingzhou\\anaconda3\\lib\\site-packages\\ipykernel\\ipkernel.py:287: DeprecationWarning:\n",
      "\n",
      "`should_run_async` will not call `transform_cell` automatically in the future. Please pass the result to `transformed_cell` argument and any exception that happen during thetransform in `preprocessing_exc_tuple` in IPython 7.17 and above.\n",
      "\n"
     ]
    }
   ],
   "source": [
    "print(edges.loc[0,'geometry'])"
   ]
  },
  {
   "cell_type": "code",
   "execution_count": 187,
   "metadata": {},
   "outputs": [
    {
     "data": {
      "text/plain": [
       "240"
      ]
     },
     "execution_count": 187,
     "metadata": {},
     "output_type": "execute_result"
    }
   ],
   "source": [
    "len(restristedPointList)"
   ]
  },
  {
   "cell_type": "code",
   "execution_count": 191,
   "metadata": {},
   "outputs": [
    {
     "data": {
      "text/plain": [
       "(45.402922, -93.417939)"
      ]
     },
     "execution_count": 191,
     "metadata": {},
     "output_type": "execute_result"
    }
   ],
   "source": [
    "restristedPointList[0]"
   ]
  },
  {
   "cell_type": "code",
   "execution_count": 188,
   "metadata": {},
   "outputs": [
    {
     "data": {
      "text/plain": [
       "10"
      ]
     },
     "execution_count": 188,
     "metadata": {},
     "output_type": "execute_result"
    }
   ],
   "source": [
    "len(pathListInBbox)"
   ]
  },
  {
   "cell_type": "code",
   "execution_count": 190,
   "metadata": {},
   "outputs": [
    {
     "data": {
      "text/plain": [
       "shapely.geometry.linestring.LineString"
      ]
     },
     "execution_count": 190,
     "metadata": {},
     "output_type": "execute_result"
    }
   ],
   "source": [
    "type(pathListInBbox[0])"
   ]
  },
  {
   "cell_type": "code",
   "execution_count": 221,
   "metadata": {},
   "outputs": [
    {
     "name": "stderr",
     "output_type": "stream",
     "text": [
      "c:\\Users\\mingzhou\\anaconda3\\lib\\site-packages\\ipykernel\\ipkernel.py:287: DeprecationWarning:\n",
      "\n",
      "`should_run_async` will not call `transform_cell` automatically in the future. Please pass the result to `transformed_cell` argument and any exception that happen during thetransform in `preprocessing_exc_tuple` in IPython 7.17 and above.\n",
      "\n"
     ]
    },
    {
     "data": {
      "text/plain": [
       "(10, 240)"
      ]
     },
     "execution_count": 221,
     "metadata": {},
     "output_type": "execute_result"
    }
   ],
   "source": [
    "# save and read these two list\n",
    "roadRestriction = gpd.read_file(\"statistical data/roadRestriction.geojson\", drive='GeoJSON')\n",
    "bridgeRestriction = pd.read_csv(\"statistical data/bridgeRestriction.csv\")\n",
    "len(roadRestriction), len(bridgeRestriction)"
   ]
  },
  {
   "cell_type": "code",
   "execution_count": 222,
   "metadata": {},
   "outputs": [
    {
     "name": "stderr",
     "output_type": "stream",
     "text": [
      "c:\\Users\\mingzhou\\anaconda3\\lib\\site-packages\\ipykernel\\ipkernel.py:287: DeprecationWarning:\n",
      "\n",
      "`should_run_async` will not call `transform_cell` automatically in the future. Please pass the result to `transformed_cell` argument and any exception that happen during thetransform in `preprocessing_exc_tuple` in IPython 7.17 and above.\n",
      "\n"
     ]
    },
    {
     "data": {
      "text/html": [
       "<div>\n",
       "<style scoped>\n",
       "    .dataframe tbody tr th:only-of-type {\n",
       "        vertical-align: middle;\n",
       "    }\n",
       "\n",
       "    .dataframe tbody tr th {\n",
       "        vertical-align: top;\n",
       "    }\n",
       "\n",
       "    .dataframe thead th {\n",
       "        text-align: right;\n",
       "    }\n",
       "</style>\n",
       "<table border=\"1\" class=\"dataframe\">\n",
       "  <thead>\n",
       "    <tr style=\"text-align: right;\">\n",
       "      <th></th>\n",
       "      <th>unique_id</th>\n",
       "      <th>osmid</th>\n",
       "      <th>element_type</th>\n",
       "      <th>DELETE</th>\n",
       "      <th>sort</th>\n",
       "      <th>from_tm</th>\n",
       "      <th>to_tm</th>\n",
       "      <th>sll_zone</th>\n",
       "      <th>name</th>\n",
       "      <th>from_rp</th>\n",
       "      <th>to_rp</th>\n",
       "      <th>description</th>\n",
       "      <th>posting_ton</th>\n",
       "      <th>length_m</th>\n",
       "      <th>sll_znoe</th>\n",
       "      <th>id</th>\n",
       "      <th>isCovered</th>\n",
       "      <th>geometry</th>\n",
       "    </tr>\n",
       "  </thead>\n",
       "  <tbody>\n",
       "    <tr>\n",
       "      <th>0</th>\n",
       "      <td>way/-97460072</td>\n",
       "      <td>-97460072</td>\n",
       "      <td>way</td>\n",
       "      <td>23</td>\n",
       "      <td>0300000000000022-I</td>\n",
       "      <td>157.15400000000</td>\n",
       "      <td>162.61500000000</td>\n",
       "      <td>CENTRAL</td>\n",
       "      <td>MN 22 (7 ton)</td>\n",
       "      <td>156+00.901</td>\n",
       "      <td>162+00.372</td>\n",
       "      <td>MN 22 from MN 55 (Eden Valley) to Stearns CSAH-9</td>\n",
       "      <td>7</td>\n",
       "      <td>8788.95858247000</td>\n",
       "      <td>None</td>\n",
       "      <td>None</td>\n",
       "      <td>True</td>\n",
       "      <td>LINESTRING (-94.54656 45.32252, -94.54657 45.3...</td>\n",
       "    </tr>\n",
       "    <tr>\n",
       "      <th>1</th>\n",
       "      <td>way/-97510904</td>\n",
       "      <td>-97510904</td>\n",
       "      <td>way</td>\n",
       "      <td>25</td>\n",
       "      <td>0300000000000019-I</td>\n",
       "      <td>135.32300000000</td>\n",
       "      <td>137.83500000000</td>\n",
       "      <td>SOUTH</td>\n",
       "      <td>MN 19 (5 ton)</td>\n",
       "      <td>135+00.180</td>\n",
       "      <td>137+00.730</td>\n",
       "      <td>MN 19 from 1.1 mi. east of MN 93 to MN 169</td>\n",
       "      <td>5</td>\n",
       "      <td>4042.46739736000</td>\n",
       "      <td>None</td>\n",
       "      <td>None</td>\n",
       "      <td>True</td>\n",
       "      <td>LINESTRING (-93.88585 44.53323, -93.88573 44.5...</td>\n",
       "    </tr>\n",
       "    <tr>\n",
       "      <th>2</th>\n",
       "      <td>way/-97457912</td>\n",
       "      <td>-97457912</td>\n",
       "      <td>way</td>\n",
       "      <td>3</td>\n",
       "      <td>0300000000000019-I</td>\n",
       "      <td>118.90300000000</td>\n",
       "      <td>132.77100000000</td>\n",
       "      <td>SOUTH</td>\n",
       "      <td>MN 19 (7 ton)</td>\n",
       "      <td>118+00.770</td>\n",
       "      <td>132+00.680</td>\n",
       "      <td>MN 19 from E MN 5 (Gaylord) to 1.4 mi. west of...</td>\n",
       "      <td>7</td>\n",
       "      <td>22318.42842390000</td>\n",
       "      <td>None</td>\n",
       "      <td>None</td>\n",
       "      <td>True</td>\n",
       "      <td>LINESTRING (-94.19763 44.55840, -94.19763 44.5...</td>\n",
       "    </tr>\n",
       "    <tr>\n",
       "      <th>3</th>\n",
       "      <td>way/-97458128</td>\n",
       "      <td>-97458128</td>\n",
       "      <td>way</td>\n",
       "      <td>8</td>\n",
       "      <td>0300000000000099-I</td>\n",
       "      <td>32.17800000000</td>\n",
       "      <td>40.20600000000</td>\n",
       "      <td>SOUTH</td>\n",
       "      <td>MN 99 (7 ton)</td>\n",
       "      <td>32+00.579</td>\n",
       "      <td>40+00.618</td>\n",
       "      <td>MN 99 from MN 13 to MN 21</td>\n",
       "      <td>7</td>\n",
       "      <td>12919.75963730000</td>\n",
       "      <td>None</td>\n",
       "      <td>None</td>\n",
       "      <td>True</td>\n",
       "      <td>LINESTRING (-93.60549 44.38450, -93.60479 44.3...</td>\n",
       "    </tr>\n",
       "    <tr>\n",
       "      <th>4</th>\n",
       "      <td>way/-97457336</td>\n",
       "      <td>-97457336</td>\n",
       "      <td>way</td>\n",
       "      <td>11</td>\n",
       "      <td>0300000000000021-I</td>\n",
       "      <td>2.79000000000</td>\n",
       "      <td>19.06500000000</td>\n",
       "      <td>SOUTH</td>\n",
       "      <td>MN 21 (7 ton)</td>\n",
       "      <td>0+02.798</td>\n",
       "      <td>17+00.367</td>\n",
       "      <td>MN 21 from 0.26 miles north of Rice CSAH-46 to...</td>\n",
       "      <td>7</td>\n",
       "      <td>26192.25595430000</td>\n",
       "      <td>None</td>\n",
       "      <td>None</td>\n",
       "      <td>True</td>\n",
       "      <td>LINESTRING (-93.30778 44.33093, -93.30873 44.3...</td>\n",
       "    </tr>\n",
       "  </tbody>\n",
       "</table>\n",
       "</div>"
      ],
      "text/plain": [
       "       unique_id     osmid element_type DELETE                sort  \\\n",
       "0  way/-97460072 -97460072          way     23  0300000000000022-I   \n",
       "1  way/-97510904 -97510904          way     25  0300000000000019-I   \n",
       "2  way/-97457912 -97457912          way      3  0300000000000019-I   \n",
       "3  way/-97458128 -97458128          way      8  0300000000000099-I   \n",
       "4  way/-97457336 -97457336          way     11  0300000000000021-I   \n",
       "\n",
       "           from_tm            to_tm sll_zone           name     from_rp  \\\n",
       "0  157.15400000000  162.61500000000  CENTRAL  MN 22 (7 ton)  156+00.901   \n",
       "1  135.32300000000  137.83500000000    SOUTH  MN 19 (5 ton)  135+00.180   \n",
       "2  118.90300000000  132.77100000000    SOUTH  MN 19 (7 ton)  118+00.770   \n",
       "3   32.17800000000   40.20600000000    SOUTH  MN 99 (7 ton)   32+00.579   \n",
       "4    2.79000000000   19.06500000000    SOUTH  MN 21 (7 ton)    0+02.798   \n",
       "\n",
       "        to_rp                                        description posting_ton  \\\n",
       "0  162+00.372   MN 22 from MN 55 (Eden Valley) to Stearns CSAH-9           7   \n",
       "1  137+00.730         MN 19 from 1.1 mi. east of MN 93 to MN 169           5   \n",
       "2  132+00.680  MN 19 from E MN 5 (Gaylord) to 1.4 mi. west of...           7   \n",
       "3   40+00.618                          MN 99 from MN 13 to MN 21           7   \n",
       "4   17+00.367  MN 21 from 0.26 miles north of Rice CSAH-46 to...           7   \n",
       "\n",
       "            length_m sll_znoe    id  isCovered  \\\n",
       "0   8788.95858247000     None  None       True   \n",
       "1   4042.46739736000     None  None       True   \n",
       "2  22318.42842390000     None  None       True   \n",
       "3  12919.75963730000     None  None       True   \n",
       "4  26192.25595430000     None  None       True   \n",
       "\n",
       "                                            geometry  \n",
       "0  LINESTRING (-94.54656 45.32252, -94.54657 45.3...  \n",
       "1  LINESTRING (-93.88585 44.53323, -93.88573 44.5...  \n",
       "2  LINESTRING (-94.19763 44.55840, -94.19763 44.5...  \n",
       "3  LINESTRING (-93.60549 44.38450, -93.60479 44.3...  \n",
       "4  LINESTRING (-93.30778 44.33093, -93.30873 44.3...  "
      ]
     },
     "execution_count": 222,
     "metadata": {},
     "output_type": "execute_result"
    }
   ],
   "source": [
    "roadRestriction.head()"
   ]
  },
  {
   "cell_type": "code",
   "execution_count": 527,
   "metadata": {},
   "outputs": [
    {
     "name": "stderr",
     "output_type": "stream",
     "text": [
      "c:\\Users\\mingzhou\\anaconda3\\lib\\site-packages\\ipykernel\\ipkernel.py:287: DeprecationWarning:\n",
      "\n",
      "`should_run_async` will not call `transform_cell` automatically in the future. Please pass the result to `transformed_cell` argument and any exception that happen during thetransform in `preprocessing_exc_tuple` in IPython 7.17 and above.\n",
      "\n"
     ]
    },
    {
     "data": {
      "text/plain": [
       "326"
      ]
     },
     "execution_count": 527,
     "metadata": {},
     "output_type": "execute_result"
    }
   ],
   "source": [
    "len(bridgeRestriction)"
   ]
  },
  {
   "cell_type": "code",
   "execution_count": 528,
   "metadata": {},
   "outputs": [],
   "source": [
    "restristedPointList = MultiPoint(list(zip(list(bridgeRestriction['LONGITUDE']), list(bridgeRestriction['LATITUDE']))))"
   ]
  },
  {
   "cell_type": "code",
   "execution_count": 309,
   "metadata": {},
   "outputs": [
    {
     "name": "stderr",
     "output_type": "stream",
     "text": [
      "c:\\Users\\mingzhou\\anaconda3\\lib\\site-packages\\ipykernel\\ipkernel.py:287: DeprecationWarning:\n",
      "\n",
      "`should_run_async` will not call `transform_cell` automatically in the future. Please pass the result to `transformed_cell` argument and any exception that happen during thetransform in `preprocessing_exc_tuple` in IPython 7.17 and above.\n",
      "\n"
     ]
    },
    {
     "data": {
      "text/plain": [
       "10"
      ]
     },
     "execution_count": 309,
     "metadata": {},
     "output_type": "execute_result"
    }
   ],
   "source": [
    "len(pathListInBbox)"
   ]
  },
  {
   "cell_type": "code",
   "execution_count": 410,
   "metadata": {},
   "outputs": [
    {
     "data": {
      "text/plain": [
       "[(-93.14385298, 44.91120296),\n",
       " (-93.14399522, 44.91173556),\n",
       " (-93.14407279, 44.91204153),\n",
       " (-93.14409586, 44.91220077),\n",
       " (-93.14413911, 44.91253202),\n",
       " (-93.144128, 44.91353582),\n",
       " (-93.14417302, 44.91476452),\n",
       " (-93.14422154, 44.9153271),\n",
       " (-93.14426437, 44.91582666),\n",
       " (-93.14463086, 44.91940902),\n",
       " (-93.14480843, 44.9229511),\n",
       " (-93.14481073, 44.92370727),\n",
       " (-93.14490192, 44.92579563),\n",
       " (-93.14487477, 44.92602215),\n",
       " (-93.14481774, 44.92649789),\n",
       " (-93.14478936, 44.92660886),\n",
       " (-93.14474491, 44.92678605),\n",
       " (-93.14468615, 44.92701038),\n",
       " (-93.1446507, 44.92715075),\n",
       " (-93.14427025, 44.92798843),\n",
       " (-93.14373761, 44.92877227),\n",
       " (-93.14343477, 44.92912718),\n",
       " (-93.14309779, 44.92943628),\n",
       " (-93.14266106, 44.92979871),\n",
       " (-93.14240846, 44.92998038),\n",
       " (-93.1418958, 44.93029222),\n",
       " (-93.14136201, 44.9305625),\n",
       " (-93.14124477, 44.93061158),\n",
       " (-93.14053129, 44.93089697),\n",
       " (-93.14010244, 44.93103565),\n",
       " (-93.13968358, 44.93114334),\n",
       " (-93.13926466, 44.9312296),\n",
       " (-93.13871162, 44.93131363),\n",
       " (-93.13796927, 44.93137197),\n",
       " (-93.13745094, 44.9313996),\n",
       " (-93.13635186, 44.93140991),\n",
       " (-93.13310547, 44.93143618),\n",
       " (-93.13285476, 44.93143655),\n",
       " (-93.13185032, 44.93155023),\n",
       " (-93.13088755, 44.93170888),\n",
       " (-93.12984983, 44.93200714),\n",
       " (-93.12914611, 44.93237252),\n",
       " (-93.12886024, 44.93257591),\n",
       " (-93.1266388, 44.93415773),\n",
       " (-93.1254462, 44.93500973),\n",
       " (-93.12388991, 44.93601966),\n",
       " (-93.1236028, 44.936209),\n",
       " (-93.1227828, 44.93669602),\n",
       " (-93.1190225, 44.93856341),\n",
       " (-93.11853535, 44.93877545),\n",
       " (-93.11687341, 44.9393533),\n",
       " (-93.11591211, 44.93973687),\n",
       " (-93.11495238, 44.94011871),\n",
       " (-93.11492353, 44.94013019),\n",
       " (-93.11478771, 44.94018361),\n",
       " (-93.11274119, 44.94100482),\n",
       " (-93.11203911, 44.94134496),\n",
       " (-93.11201504, 44.94135662),\n",
       " (-93.11172498, 44.94149644),\n",
       " (-93.11070497, 44.94208256),\n",
       " (-93.10955696, 44.94284885),\n",
       " (-93.10780288, 44.9442137),\n",
       " (-93.10700641, 44.9448353),\n",
       " (-93.1068349, 44.94496689),\n",
       " (-93.10443973, 44.94658497),\n",
       " (-93.10430658, 44.94668011),\n",
       " (-93.10405561, 44.94686437),\n",
       " (-93.10350857, 44.94725726),\n",
       " (-93.10345815, 44.94729537),\n",
       " (-93.10336664, 44.94736585),\n",
       " (-93.10330662, 44.94742249),\n",
       " (-93.10296543, 44.94774307),\n",
       " (-93.10259709, 44.9482205),\n",
       " (-93.10257182, 44.94826554),\n",
       " (-93.10222876, 44.94888063),\n",
       " (-93.10207622, 44.94914817),\n",
       " (-93.10155858, 44.94990941),\n",
       " (-93.101271, 44.9501256),\n",
       " (-93.1008855, 44.9503285),\n",
       " (-93.1007075, 44.9503921),\n",
       " (-93.10065385, 44.95041127),\n",
       " (-93.10051928, 44.95045935),\n",
       " (-93.09938804, 44.95087022),\n",
       " (-93.09836133, 44.95132542),\n",
       " (-93.09810133, 44.95144548),\n",
       " (-93.09699537, 44.95198973),\n",
       " (-93.09584349, 44.95260425),\n",
       " (-93.09497511, 44.95303576)]"
      ]
     },
     "execution_count": 410,
     "metadata": {},
     "output_type": "execute_result"
    }
   ],
   "source": [
    "list(pathListInBbox[t].coords)"
   ]
  },
  {
   "cell_type": "code",
   "execution_count": 411,
   "metadata": {},
   "outputs": [
    {
     "data": {
      "text/plain": [
       "[(-93.14395816, 44.91068687),\n",
       " (-93.14399814, 44.91077083),\n",
       " (-93.14405596, 44.91089226),\n",
       " (-93.14429716, 44.91168566),\n",
       " (-93.14438062, 44.91203319),\n",
       " (-93.14442309, 44.91248669),\n",
       " (-93.14441796, 44.91281077),\n",
       " (-93.14455528, 44.91563275),\n",
       " (-93.14467178, 44.91677586),\n",
       " (-93.14493928, 44.91939961),\n",
       " (-93.14511767, 44.9229462),\n",
       " (-93.14510358, 44.92316678),\n",
       " (-93.14520764, 44.92580423),\n",
       " (-93.14512589, 44.92652001),\n",
       " (-93.14505805, 44.92678565),\n",
       " (-93.1450008, 44.92701078),\n",
       " (-93.14495061, 44.92720888),\n",
       " (-93.14456072, 44.92806458),\n",
       " (-93.14439886, 44.92830207),\n",
       " (-93.14399889, 44.92888897),\n",
       " (-93.14370454, 44.92916389),\n",
       " (-93.1436189, 44.92923832),\n",
       " (-93.14360038, 44.92925443),\n",
       " (-93.14358215, 44.92927029),\n",
       " (-93.14307187, 44.92971381),\n",
       " (-93.142473, 44.93014217),\n",
       " (-93.14202236, 44.9304803),\n",
       " (-93.14172093, 44.9306112),\n",
       " (-93.14111724, 44.93087302),\n",
       " (-93.14002068, 44.93120744),\n",
       " (-93.13901177, 44.93144273),\n",
       " (-93.1381171, 44.93157884),\n",
       " (-93.13757264, 44.93161102),\n",
       " (-93.13675767, 44.93163899),\n",
       " (-93.1363498, 44.93164848),\n",
       " (-93.13366549, 44.93163365),\n",
       " (-93.1331209, 44.93166036),\n",
       " (-93.13245577, 44.93169356),\n",
       " (-93.13097552, 44.93192032),\n",
       " (-93.13000037, 44.93220051),\n",
       " (-93.12956601, 44.93241255),\n",
       " (-93.12933236, 44.93257636),\n",
       " (-93.12708634, 44.93416173),\n",
       " (-93.12565881, 44.93516704),\n",
       " (-93.12380553, 44.93637532),\n",
       " (-93.12314749, 44.93675787),\n",
       " (-93.12296852, 44.93687135),\n",
       " (-93.11918882, 44.93874776),\n",
       " (-93.11868429, 44.93896885),\n",
       " (-93.1170176, 44.9395512),\n",
       " (-93.11622909, 44.93987271),\n",
       " (-93.11555442, 44.94013644),\n",
       " (-93.11554586, 44.94013978),\n",
       " (-93.1128984, 44.94119372),\n",
       " (-93.11260437, 44.94133515),\n",
       " (-93.11256085, 44.94135609),\n",
       " (-93.11191502, 44.94166729),\n",
       " (-93.11090811, 44.94224889),\n",
       " (-93.10977747, 44.94300166),\n",
       " (-93.10705854, 44.94509952),\n",
       " (-93.10465314, 44.9467423),\n",
       " (-93.10438927, 44.94693609),\n",
       " (-93.10420798, 44.94706556),\n",
       " (-93.10413053, 44.94712087),\n",
       " (-93.1037328, 44.94741197),\n",
       " (-93.10367965, 44.94745203),\n",
       " (-93.10361941, 44.94749493),\n",
       " (-93.10358375, 44.94752853),\n",
       " (-93.10352006, 44.94758856),\n",
       " (-93.10322552, 44.94786437),\n",
       " (-93.10287455, 44.94831929),\n",
       " (-93.10255017, 44.94890147),\n",
       " (-93.10239698, 44.94919043),\n",
       " (-93.10191672, 44.94989999),\n",
       " (-93.10181558, 44.95004411),\n",
       " (-93.10147412, 44.95029197),\n",
       " (-93.10105339, 44.95051289),\n",
       " (-93.10089208, 44.95056402),\n",
       " (-93.10083108, 44.95059192),\n",
       " (-93.10075728, 44.95062568),\n",
       " (-93.10037878, 44.95077284),\n",
       " (-93.09956518, 44.95105769),\n",
       " (-93.09855334, 44.95149967),\n",
       " (-93.09829526, 44.9516214),\n",
       " (-93.09715681, 44.95216251),\n",
       " (-93.09670258, 44.95238174),\n",
       " (-93.09596465, 44.9527294),\n",
       " (-93.09572219, 44.95284686),\n",
       " (-93.09495479, 44.95315189)]"
      ]
     },
     "execution_count": 411,
     "metadata": {},
     "output_type": "execute_result"
    }
   ],
   "source": [
    "list(pathListInBbox[9].coords)"
   ]
  },
  {
   "cell_type": "code",
   "execution_count": 409,
   "metadata": {},
   "outputs": [],
   "source": [
    "# remove the restricted paths (matched)\n",
    "t = 8\n",
    "pathListInBbox = list(roadRestrictionCovered['geometry'])\n",
    "path = pathListInBbox[t].coords\n",
    "x,y = zip(*path)\n",
    "matchedNodes = ox.distance.get_nearest_nodes(osmGraphInBbox.graph, x, y)\n",
    "matched = [matchedNodes[0]] \n",
    "for i in range(1, len(matchedNodes)):\n",
    "    if matchedNodes[i] != matchedNodes[i-1]:\n",
    "        matched.append(matchedNodes[i])"
   ]
  },
  {
   "cell_type": "code",
   "execution_count": 391,
   "metadata": {},
   "outputs": [],
   "source": [
    "matched[8]  = 187882750"
   ]
  },
  {
   "cell_type": "code",
   "execution_count": 412,
   "metadata": {},
   "outputs": [],
   "source": [
    "matched = [187852651,187852095,187882623,3071141242,187852589,187882521,1341826646,954746969,961086473]"
   ]
  },
  {
   "cell_type": "code",
   "execution_count": 418,
   "metadata": {},
   "outputs": [],
   "source": [
    "matched.reverse()"
   ]
  },
  {
   "cell_type": "code",
   "execution_count": 419,
   "metadata": {},
   "outputs": [
    {
     "data": {
      "text/plain": [
       "[961086473,\n",
       " 954746969,\n",
       " 1341826646,\n",
       " 187882521,\n",
       " 187852589,\n",
       " 3071141242,\n",
       " 187882623,\n",
       " 187852095,\n",
       " 187852651]"
      ]
     },
     "execution_count": 419,
     "metadata": {},
     "output_type": "execute_result"
    }
   ],
   "source": [
    "matched"
   ]
  },
  {
   "cell_type": "code",
   "execution_count": 420,
   "metadata": {},
   "outputs": [
    {
     "name": "stderr",
     "output_type": "stream",
     "text": [
      "c:\\Users\\mingzhou\\anaconda3\\lib\\site-packages\\ipykernel\\ipkernel.py:287: DeprecationWarning:\n",
      "\n",
      "`should_run_async` will not call `transform_cell` automatically in the future. Please pass the result to `transformed_cell` argument and any exception that happen during thetransform in `preprocessing_exc_tuple` in IPython 7.17 and above.\n",
      "\n"
     ]
    }
   ],
   "source": [
    "matchedNodesGdf = nodes.loc[matched,:]"
   ]
  },
  {
   "cell_type": "code",
   "execution_count": 421,
   "metadata": {},
   "outputs": [
    {
     "name": "stderr",
     "output_type": "stream",
     "text": [
      "c:\\Users\\mingzhou\\anaconda3\\lib\\site-packages\\ipykernel\\ipkernel.py:287: DeprecationWarning:\n",
      "\n",
      "`should_run_async` will not call `transform_cell` automatically in the future. Please pass the result to `transformed_cell` argument and any exception that happen during thetransform in `preprocessing_exc_tuple` in IPython 7.17 and above.\n",
      "\n"
     ]
    },
    {
     "data": {
      "text/html": [
       "<div>\n",
       "<style scoped>\n",
       "    .dataframe tbody tr th:only-of-type {\n",
       "        vertical-align: middle;\n",
       "    }\n",
       "\n",
       "    .dataframe tbody tr th {\n",
       "        vertical-align: top;\n",
       "    }\n",
       "\n",
       "    .dataframe thead th {\n",
       "        text-align: right;\n",
       "    }\n",
       "</style>\n",
       "<table border=\"1\" class=\"dataframe\">\n",
       "  <thead>\n",
       "    <tr style=\"text-align: right;\">\n",
       "      <th></th>\n",
       "      <th>y</th>\n",
       "      <th>x</th>\n",
       "      <th>osmid</th>\n",
       "      <th>highway</th>\n",
       "      <th>ref</th>\n",
       "      <th>geometry</th>\n",
       "      <th>indexId</th>\n",
       "      <th>elevation</th>\n",
       "    </tr>\n",
       "  </thead>\n",
       "  <tbody>\n",
       "    <tr>\n",
       "      <th>961086473</th>\n",
       "      <td>44.952407</td>\n",
       "      <td>-93.096553</td>\n",
       "      <td>961086473</td>\n",
       "      <td>NaN</td>\n",
       "      <td>NaN</td>\n",
       "      <td>POINT (-93.09655 44.95241)</td>\n",
       "      <td>961086473</td>\n",
       "      <td>235.73512</td>\n",
       "    </tr>\n",
       "    <tr>\n",
       "      <th>954746969</th>\n",
       "      <td>44.948304</td>\n",
       "      <td>-93.102934</td>\n",
       "      <td>954746969</td>\n",
       "      <td>NaN</td>\n",
       "      <td>NaN</td>\n",
       "      <td>POINT (-93.10293 44.94830)</td>\n",
       "      <td>954746969</td>\n",
       "      <td>237.07755</td>\n",
       "    </tr>\n",
       "    <tr>\n",
       "      <th>1341826646</th>\n",
       "      <td>44.944696</td>\n",
       "      <td>-93.107365</td>\n",
       "      <td>1341826646</td>\n",
       "      <td>NaN</td>\n",
       "      <td>NaN</td>\n",
       "      <td>POINT (-93.10736 44.94470)</td>\n",
       "      <td>1341826646</td>\n",
       "      <td>240.96887</td>\n",
       "    </tr>\n",
       "    <tr>\n",
       "      <th>187882521</th>\n",
       "      <td>44.938893</td>\n",
       "      <td>-93.118682</td>\n",
       "      <td>187882521</td>\n",
       "      <td>NaN</td>\n",
       "      <td>NaN</td>\n",
       "      <td>POINT (-93.11868 44.93889)</td>\n",
       "      <td>187882521</td>\n",
       "      <td>245.83780</td>\n",
       "    </tr>\n",
       "    <tr>\n",
       "      <th>187852589</th>\n",
       "      <td>44.931899</td>\n",
       "      <td>-93.130996</td>\n",
       "      <td>187852589</td>\n",
       "      <td>motorway_junction</td>\n",
       "      <td>104C</td>\n",
       "      <td>POINT (-93.13100 44.93190)</td>\n",
       "      <td>187852589</td>\n",
       "      <td>241.99921</td>\n",
       "    </tr>\n",
       "    <tr>\n",
       "      <th>3071141242</th>\n",
       "      <td>44.931310</td>\n",
       "      <td>-93.139579</td>\n",
       "      <td>3071141242</td>\n",
       "      <td>motorway_junction</td>\n",
       "      <td>104A</td>\n",
       "      <td>POINT (-93.13958 44.93131)</td>\n",
       "      <td>3071141242</td>\n",
       "      <td>258.26447</td>\n",
       "    </tr>\n",
       "    <tr>\n",
       "      <th>187882623</th>\n",
       "      <td>44.926292</td>\n",
       "      <td>-93.145099</td>\n",
       "      <td>187882623</td>\n",
       "      <td>NaN</td>\n",
       "      <td>NaN</td>\n",
       "      <td>POINT (-93.14510 44.92629)</td>\n",
       "      <td>187882623</td>\n",
       "      <td>248.26778</td>\n",
       "    </tr>\n",
       "    <tr>\n",
       "      <th>187852095</th>\n",
       "      <td>44.923114</td>\n",
       "      <td>-93.145050</td>\n",
       "      <td>187852095</td>\n",
       "      <td>NaN</td>\n",
       "      <td>NaN</td>\n",
       "      <td>POINT (-93.14505 44.92311)</td>\n",
       "      <td>187852095</td>\n",
       "      <td>244.27193</td>\n",
       "    </tr>\n",
       "    <tr>\n",
       "      <th>187852651</th>\n",
       "      <td>44.912080</td>\n",
       "      <td>-93.144276</td>\n",
       "      <td>187852651</td>\n",
       "      <td>NaN</td>\n",
       "      <td>NaN</td>\n",
       "      <td>POINT (-93.14428 44.91208)</td>\n",
       "      <td>187852651</td>\n",
       "      <td>231.05785</td>\n",
       "    </tr>\n",
       "  </tbody>\n",
       "</table>\n",
       "</div>"
      ],
      "text/plain": [
       "                    y          x       osmid            highway   ref  \\\n",
       "961086473   44.952407 -93.096553   961086473                NaN   NaN   \n",
       "954746969   44.948304 -93.102934   954746969                NaN   NaN   \n",
       "1341826646  44.944696 -93.107365  1341826646                NaN   NaN   \n",
       "187882521   44.938893 -93.118682   187882521                NaN   NaN   \n",
       "187852589   44.931899 -93.130996   187852589  motorway_junction  104C   \n",
       "3071141242  44.931310 -93.139579  3071141242  motorway_junction  104A   \n",
       "187882623   44.926292 -93.145099   187882623                NaN   NaN   \n",
       "187852095   44.923114 -93.145050   187852095                NaN   NaN   \n",
       "187852651   44.912080 -93.144276   187852651                NaN   NaN   \n",
       "\n",
       "                              geometry     indexId  elevation  \n",
       "961086473   POINT (-93.09655 44.95241)   961086473  235.73512  \n",
       "954746969   POINT (-93.10293 44.94830)   954746969  237.07755  \n",
       "1341826646  POINT (-93.10736 44.94470)  1341826646  240.96887  \n",
       "187882521   POINT (-93.11868 44.93889)   187882521  245.83780  \n",
       "187852589   POINT (-93.13100 44.93190)   187852589  241.99921  \n",
       "3071141242  POINT (-93.13958 44.93131)  3071141242  258.26447  \n",
       "187882623   POINT (-93.14510 44.92629)   187882623  248.26778  \n",
       "187852095   POINT (-93.14505 44.92311)   187852095  244.27193  \n",
       "187852651   POINT (-93.14428 44.91208)   187852651  231.05785  "
      ]
     },
     "execution_count": 421,
     "metadata": {},
     "output_type": "execute_result"
    }
   ],
   "source": [
    "matchedNodesGdf"
   ]
  },
  {
   "cell_type": "code",
   "execution_count": 422,
   "metadata": {},
   "outputs": [
    {
     "name": "stderr",
     "output_type": "stream",
     "text": [
      "c:\\Users\\mingzhou\\anaconda3\\lib\\site-packages\\ipykernel\\ipkernel.py:287: DeprecationWarning:\n",
      "\n",
      "`should_run_async` will not call `transform_cell` automatically in the future. Please pass the result to `transformed_cell` argument and any exception that happen during thetransform in `preprocessing_exc_tuple` in IPython 7.17 and above.\n",
      "\n"
     ]
    }
   ],
   "source": [
    "matchedPointList = list(zip(list(matchedNodesGdf['y']), list(matchedNodesGdf['x'])))\n",
    "GraphFunctions.plotPointList({'restrict nodes':  matchedPointList}, ['red'], 'test.html')"
   ]
  },
  {
   "cell_type": "code",
   "execution_count": 404,
   "metadata": {},
   "outputs": [],
   "source": [
    "matchedNodesGdf = matchedNodesGdf.loc[[187852651,187852095,187882623,3071141242,187852589,187882521,1341826646,954746969,961086473],:]"
   ]
  },
  {
   "cell_type": "code",
   "execution_count": 369,
   "metadata": {},
   "outputs": [],
   "source": [
    "matchedNodesGdf = matchedNodesGdf.drop([9098940569])"
   ]
  },
  {
   "cell_type": "code",
   "execution_count": 423,
   "metadata": {},
   "outputs": [],
   "source": [
    "matched = list(matchedNodesGdf.index)\n",
    "matchedProcessed = [matched[0]]\n",
    "for i in range(1, len(matched)):\n",
    "    if len(edges[(edges['u']==matched[i-1])&(edges['v']==matched[i])])>0:\n",
    "        matchedProcessed.append(matched[i])\n",
    "    else:\n",
    "        shortestpath = ox.distance.shortest_path(osmGraphInBbox.graph, matched[i-1], matched[i])\n",
    "        matchedProcessed = matchedProcessed + shortestpath[1:]\n",
    "route = []\n",
    "for i in range(1, len(matchedProcessed)):\n",
    "    route.append(edges[(edges['u']==matchedProcessed[i-1])&(edges['v']==matchedProcessed[i])].index[0])"
   ]
  },
  {
   "cell_type": "code",
   "execution_count": 424,
   "metadata": {},
   "outputs": [
    {
     "name": "stderr",
     "output_type": "stream",
     "text": [
      "c:\\Users\\mingzhou\\anaconda3\\lib\\site-packages\\ipykernel\\ipkernel.py:287: DeprecationWarning:\n",
      "\n",
      "`should_run_async` will not call `transform_cell` automatically in the future. Please pass the result to `transformed_cell` argument and any exception that happen during thetransform in `preprocessing_exc_tuple` in IPython 7.17 and above.\n",
      "\n"
     ]
    }
   ],
   "source": [
    "GraphFunctions.plotRoutes([route], edges, ['red'], 'matchedRoute.html')"
   ]
  },
  {
   "cell_type": "code",
   "execution_count": 425,
   "metadata": {},
   "outputs": [],
   "source": [
    "finalrouteList.append(route)"
   ]
  },
  {
   "cell_type": "code",
   "execution_count": 426,
   "metadata": {},
   "outputs": [],
   "source": [
    "GraphFunctions.plotRoutes(finalrouteList, edges, ['red' for _ in range(len(finalrouteList))], 'matchedRouteList.html')"
   ]
  },
  {
   "cell_type": "code",
   "execution_count": 427,
   "metadata": {},
   "outputs": [
    {
     "name": "stderr",
     "output_type": "stream",
     "text": [
      "c:\\Users\\mingzhou\\anaconda3\\lib\\site-packages\\ipykernel\\ipkernel.py:287: DeprecationWarning:\n",
      "\n",
      "`should_run_async` will not call `transform_cell` automatically in the future. Please pass the result to `transformed_cell` argument and any exception that happen during thetransform in `preprocessing_exc_tuple` in IPython 7.17 and above.\n",
      "\n",
      "C:\\Users\\mingzhou\\AppData\\Roaming\\Python\\Python38\\site-packages\\numpy\\lib\\npyio.py:1378: VisibleDeprecationWarning:\n",
      "\n",
      "Creating an ndarray from ragged nested sequences (which is a list-or-tuple of lists-or-tuples-or ndarrays with different lengths or shapes) is deprecated. If you meant to do this, you must specify 'dtype=object' when creating the ndarray.\n",
      "\n"
     ]
    }
   ],
   "source": [
    "np.savetxt(\"statistical data/matchedRestrictedRoute.txt\", finalrouteList, fmt=\"%s\", encoding=\"utf-8\")"
   ]
  },
  {
   "cell_type": "code",
   "execution_count": 438,
   "metadata": {},
   "outputs": [
    {
     "name": "stderr",
     "output_type": "stream",
     "text": [
      "c:\\Users\\mingzhou\\anaconda3\\lib\\site-packages\\ipykernel\\ipkernel.py:287: DeprecationWarning:\n",
      "\n",
      "`should_run_async` will not call `transform_cell` automatically in the future. Please pass the result to `transformed_cell` argument and any exception that happen during thetransform in `preprocessing_exc_tuple` in IPython 7.17 and above.\n",
      "\n"
     ]
    }
   ],
   "source": [
    "def read_file(filename):\n",
    "    blackSegSet = set()\n",
    "    with  open(filename, \"r\") as infile:\n",
    "        for line in infile:\n",
    "            line = line.lstrip(\"[\").rstrip(\"],\\n\")\n",
    "            lst = list(line.split(\", \"))\n",
    "            for v in lst:\n",
    "                blackSegSet.add(int(v))\n",
    "    return blackSegSet\n",
    "read_file(\"statistical data/matchedRestrictedRoute.txt\")"
   ]
  },
  {
   "cell_type": "code",
   "execution_count": 577,
   "metadata": {},
   "outputs": [
    {
     "data": {
      "text/plain": [
       "175"
      ]
     },
     "execution_count": 577,
     "metadata": {},
     "output_type": "execute_result"
    }
   ],
   "source": [
    "len(blackSegSet)"
   ]
  },
  {
   "cell_type": "code",
   "execution_count": 529,
   "metadata": {},
   "outputs": [
    {
     "name": "stderr",
     "output_type": "stream",
     "text": [
      "c:\\Users\\mingzhou\\anaconda3\\lib\\site-packages\\ipykernel\\ipkernel.py:287: DeprecationWarning:\n",
      "\n",
      "`should_run_async` will not call `transform_cell` automatically in the future. Please pass the result to `transformed_cell` argument and any exception that happen during thetransform in `preprocessing_exc_tuple` in IPython 7.17 and above.\n",
      "\n"
     ]
    },
    {
     "data": {
      "image/svg+xml": "<svg xmlns=\"http://www.w3.org/2000/svg\" xmlns:xlink=\"http://www.w3.org/1999/xlink\" width=\"100.0\" height=\"100.0\" viewBox=\"-94.75442988 43.859839120000004 3.0630657600000006 2.2308387599999904\" preserveAspectRatio=\"xMinYMin meet\"><g transform=\"matrix(1,0,0,-1,0,89.95051699999999)\"><g><path fill-rule=\"evenodd\" fill=\"#66cc99\" stroke=\"#555555\" stroke-width=\"0.06126131520000001\" opacity=\"0.6\" d=\"M -91.804811,43.992347 L -91.80481581527333,43.99224898285967 L -91.8048302147196,43.992151909677986 L -91.80485405966428,43.99205671532275 L -91.8048871204675,43.99196431656764 L -91.80492907873565,43.991875603263175 L -91.8049795303877,43.991791429766984 L -91.80503798954665,43.991712606715836 L -91.80510389321881,43.99163989321882 L -91.80517660671585,43.99157398954664 L -91.80525542976699,43.9915155303877 L -91.80533960326318,43.99146507873565 L -91.80542831656764,43.99142312046749 L -91.80552071532276,43.99139005966427 L -91.805615909678,43.9913662147196 L -91.80571298285967,43.99135181527333 L -91.805811,43.991347000000005 L -91.80590901714034,43.99135181527333 L -91.80600609032201,43.9913662147196 L -91.80610128467725,43.99139005966427 L -91.80619368343237,43.99142312046749 L -91.80628239673683,43.99146507873565 L -91.80636657023302,43.9915155303877 L -91.80644539328416,43.99157398954664 L -91.8065181067812,43.99163989321882 L -91.80658401045336,43.991712606715836 L -91.80664246961231,43.991791429766984 L -91.80669292126436,43.991875603263175 L -91.80673487953251,43.99196431656764 L -91.80676794033573,43.99205671532275 L -91.80679178528041,43.992151909677986 L -91.80680618472668,43.99224898285967 L -91.80681100000001,43.992347 L -91.80680618472668,43.992445017140334 L -91.80679178528041,43.99254209032202 L -91.80676794033573,43.99263728467726 L -91.80673487953251,43.992729683432366 L -91.80669292126436,43.99281839673683 L -91.80664246961231,43.99290257023302 L -91.80658401045336,43.99298139328417 L -91.8065181067812,43.99305410678119 L -91.80644539328416,43.99312001045337 L -91.80636657023302,43.9931784696123 L -91.80628239673683,43.993228921264354 L -91.80619368343237,43.99327087953252 L -91.80610128467725,43.993303940335736 L -91.80600609032201,43.99332778528041 L -91.80590901714034,43.99334218472667 L -91.805811,43.993347 L -91.80571298285967,43.99334218472667 L -91.805615909678,43.99332778528041 L -91.80552071532276,43.993303940335736 L -91.80542831656764,43.99327087953252 L -91.80533960326318,43.993228921264354 L -91.80525542976699,43.9931784696123 L -91.80517660671585,43.99312001045337 L -91.80510389321881,43.99305410678119 L -91.80503798954665,43.99298139328417 L -91.8049795303877,43.99290257023302 L -91.80492907873565,43.99281839673683 L -91.8048871204675,43.992729683432366 L -91.80485405966428,43.99263728467726 L -91.8048302147196,43.99254209032202 L -91.80481581527333,43.992445017140334 L -91.804811,43.992347 z\" /><path fill-rule=\"evenodd\" fill=\"#66cc99\" stroke=\"#555555\" stroke-width=\"0.06126131520000001\" opacity=\"0.6\" d=\"M -91.808775,44.006886 L -91.80877981527333,44.00678798285967 L -91.8087942147196,44.006690909677985 L -91.80881805966428,44.006595715322746 L -91.8088511204675,44.00650331656764 L -91.80889307873565,44.006414603263174 L -91.8089435303877,44.00633042976698 L -91.80900198954664,44.006251606715836 L -91.80906789321881,44.00617889321882 L -91.80914060671584,44.00611298954664 L -91.80921942976698,44.0060545303877 L -91.80930360326317,44.00600407873565 L -91.80939231656764,44.00596212046749 L -91.80948471532275,44.00592905966427 L -91.80957990967799,44.0059052147196 L -91.80967698285967,44.00589081527333 L -91.809775,44.005886000000004 L -91.80987301714033,44.00589081527333 L -91.80997009032201,44.0059052147196 L -91.81006528467725,44.00592905966427 L -91.81015768343237,44.00596212046749 L -91.81024639673683,44.00600407873565 L -91.81033057023302,44.0060545303877 L -91.81040939328416,44.00611298954664 L -91.8104821067812,44.00617889321882 L -91.81054801045336,44.006251606715836 L -91.81060646961231,44.00633042976698 L -91.81065692126435,44.006414603263174 L -91.81069887953251,44.00650331656764 L -91.81073194033573,44.006595715322746 L -91.8107557852804,44.006690909677985 L -91.81077018472668,44.00678798285967 L -91.810775,44.006886 L -91.81077018472668,44.00698401714033 L -91.8107557852804,44.00708109032202 L -91.81073194033573,44.00717628467726 L -91.81069887953251,44.007268683432365 L -91.81065692126435,44.00735739673683 L -91.81060646961231,44.00744157023302 L -91.81054801045336,44.00752039328417 L -91.8104821067812,44.00759310678119 L -91.81040939328416,44.00765901045337 L -91.81033057023302,44.0077174696123 L -91.81024639673683,44.00776792126435 L -91.81015768343237,44.007809879532516 L -91.81006528467725,44.007842940335735 L -91.80997009032201,44.007866785280406 L -91.80987301714033,44.00788118472667 L -91.809775,44.007886 L -91.80967698285967,44.00788118472667 L -91.80957990967799,44.007866785280406 L -91.80948471532275,44.007842940335735 L -91.80939231656764,44.007809879532516 L -91.80930360326317,44.00776792126435 L -91.80921942976698,44.0077174696123 L -91.80914060671584,44.00765901045337 L -91.80906789321881,44.00759310678119 L -91.80900198954664,44.00752039328417 L -91.8089435303877,44.00744157023302 L -91.80889307873565,44.00735739673683 L -91.8088511204675,44.007268683432365 L -91.80881805966428,44.00717628467726 L -91.8087942147196,44.00708109032202 L -91.80877981527333,44.00698401714033 L -91.808775,44.006886 z\" /><path fill-rule=\"evenodd\" fill=\"#66cc99\" stroke=\"#555555\" stroke-width=\"0.06126131520000001\" opacity=\"0.6\" d=\"M -91.826264,44.1081 L -91.82626881527332,44.10800198285967 L -91.8262832147196,44.107904909677984 L -91.82630705966427,44.107809715322745 L -91.82634012046749,44.10771731656764 L -91.82638207873565,44.10762860326317 L -91.82643253038769,44.10754442976698 L -91.82649098954664,44.107465606715834 L -91.82655689321881,44.107392893218815 L -91.82662960671584,44.107326989546635 L -91.82670842976698,44.1072685303877 L -91.82679260326317,44.10721807873565 L -91.82688131656764,44.107176120467486 L -91.82697371532275,44.10714305966427 L -91.82706890967799,44.107119214719596 L -91.82716598285967,44.10710481527333 L -91.827264,44.1071 L -91.82736201714033,44.10710481527333 L -91.82745909032201,44.107119214719596 L -91.82755428467725,44.10714305966427 L -91.82764668343236,44.107176120467486 L -91.82773539673683,44.10721807873565 L -91.82781957023302,44.1072685303877 L -91.82789839328416,44.107326989546635 L -91.82797110678119,44.107392893218815 L -91.82803701045336,44.107465606715834 L -91.82809546961231,44.10754442976698 L -91.82814592126435,44.10762860326317 L -91.8281878795325,44.10771731656764 L -91.82822094033573,44.107809715322745 L -91.8282447852804,44.107904909677984 L -91.82825918472668,44.10800198285967 L -91.828264,44.1081 L -91.82825918472668,44.10819801714033 L -91.8282447852804,44.10829509032202 L -91.82822094033573,44.108390284677256 L -91.8281878795325,44.108482683432364 L -91.82814592126435,44.10857139673683 L -91.82809546961231,44.10865557023302 L -91.82803701045336,44.108734393284166 L -91.82797110678119,44.108807106781185 L -91.82789839328416,44.108873010453365 L -91.82781957023302,44.1089314696123 L -91.82773539673683,44.10898192126435 L -91.82764668343236,44.109023879532515 L -91.82755428467725,44.10905694033573 L -91.82745909032201,44.109080785280405 L -91.82736201714033,44.10909518472667 L -91.827264,44.1091 L -91.82716598285967,44.10909518472667 L -91.82706890967799,44.109080785280405 L -91.82697371532275,44.10905694033573 L -91.82688131656764,44.109023879532515 L -91.82679260326317,44.10898192126435 L -91.82670842976698,44.1089314696123 L -91.82662960671584,44.108873010453365 L -91.82655689321881,44.108807106781185 L -91.82649098954664,44.108734393284166 L -91.82643253038769,44.10865557023302 L -91.82638207873565,44.10857139673683 L -91.82634012046749,44.108482683432364 L -91.82630705966427,44.108390284677256 L -91.8262832147196,44.10829509032202 L -91.82626881527332,44.10819801714033 L -91.826264,44.1081 z\" /><path fill-rule=\"evenodd\" fill=\"#66cc99\" stroke=\"#555555\" stroke-width=\"0.06126131520000001\" opacity=\"0.6\" d=\"M -91.858239,44.074108 L -91.85824381527333,44.07400998285967 L -91.8582582147196,44.073912909677986 L -91.85828205966428,44.07381771532275 L -91.8583151204675,44.07372531656764 L -91.85835707873565,44.073636603263175 L -91.8584075303877,44.073552429766984 L -91.85846598954664,44.07347360671584 L -91.85853189321881,44.07340089321882 L -91.85860460671584,44.07333498954664 L -91.85868342976698,44.0732765303877 L -91.85876760326317,44.07322607873565 L -91.85885631656764,44.07318412046749 L -91.85894871532275,44.07315105966427 L -91.859043909678,44.0731272147196 L -91.85914098285967,44.07311281527333 L -91.859239,44.073108000000005 L -91.85933701714033,44.07311281527333 L -91.85943409032201,44.0731272147196 L -91.85952928467725,44.07315105966427 L -91.85962168343237,44.07318412046749 L -91.85971039673683,44.07322607873565 L -91.85979457023302,44.0732765303877 L -91.85987339328416,44.07333498954664 L -91.8599461067812,44.07340089321882 L -91.86001201045336,44.07347360671584 L -91.86007046961231,44.073552429766984 L -91.86012092126435,44.073636603263175 L -91.86016287953251,44.07372531656764 L -91.86019594033573,44.07381771532275 L -91.8602197852804,44.073912909677986 L -91.86023418472668,44.07400998285967 L -91.860239,44.074108 L -91.86023418472668,44.074206017140334 L -91.8602197852804,44.07430309032202 L -91.86019594033573,44.07439828467726 L -91.86016287953251,44.074490683432366 L -91.86012092126435,44.07457939673683 L -91.86007046961231,44.07466357023302 L -91.86001201045336,44.07474239328417 L -91.8599461067812,44.07481510678119 L -91.85987339328416,44.07488101045337 L -91.85979457023302,44.0749394696123 L -91.85971039673683,44.074989921264354 L -91.85962168343237,44.07503187953252 L -91.85952928467725,44.075064940335736 L -91.85943409032201,44.07508878528041 L -91.85933701714033,44.07510318472667 L -91.859239,44.075108 L -91.85914098285967,44.07510318472667 L -91.859043909678,44.07508878528041 L -91.85894871532275,44.075064940335736 L -91.85885631656764,44.07503187953252 L -91.85876760326317,44.074989921264354 L -91.85868342976698,44.0749394696123 L -91.85860460671584,44.07488101045337 L -91.85853189321881,44.07481510678119 L -91.85846598954664,44.07474239328417 L -91.8584075303877,44.07466357023302 L -91.85835707873565,44.07457939673683 L -91.8583151204675,44.074490683432366 L -91.85828205966428,44.07439828467726 L -91.8582582147196,44.07430309032202 L -91.85824381527333,44.074206017140334 L -91.858239,44.074108 z\" /><path fill-rule=\"evenodd\" fill=\"#66cc99\" stroke=\"#555555\" stroke-width=\"0.06126131520000001\" opacity=\"0.6\" d=\"M -91.929992,44.157181 L -91.92999681527333,44.15708298285967 L -91.9300112147196,44.156985909677985 L -91.93003505966428,44.156890715322746 L -91.9300681204675,44.15679831656764 L -91.93011007873565,44.156709603263174 L -91.9301605303877,44.15662542976698 L -91.93021898954665,44.156546606715835 L -91.93028489321881,44.156473893218816 L -91.93035760671584,44.156407989546636 L -91.93043642976698,44.1563495303877 L -91.93052060326318,44.15629907873565 L -91.93060931656764,44.15625712046749 L -91.93070171532275,44.15622405966427 L -91.930796909678,44.1562002147196 L -91.93089398285967,44.15618581527333 L -91.930992,44.156181000000004 L -91.93109001714033,44.15618581527333 L -91.93118709032201,44.1562002147196 L -91.93128228467725,44.15622405966427 L -91.93137468343237,44.15625712046749 L -91.93146339673683,44.15629907873565 L -91.93154757023302,44.1563495303877 L -91.93162639328416,44.156407989546636 L -91.9316991067812,44.156473893218816 L -91.93176501045336,44.156546606715835 L -91.93182346961231,44.15662542976698 L -91.93187392126435,44.156709603263174 L -91.93191587953251,44.15679831656764 L -91.93194894033573,44.156890715322746 L -91.93197278528041,44.156985909677985 L -91.93198718472668,44.15708298285967 L -91.93199200000001,44.157181 L -91.93198718472668,44.15727901714033 L -91.93197278528041,44.15737609032202 L -91.93194894033573,44.15747128467726 L -91.93191587953251,44.157563683432365 L -91.93187392126435,44.15765239673683 L -91.93182346961231,44.15773657023302 L -91.93176501045336,44.15781539328417 L -91.9316991067812,44.157888106781186 L -91.93162639328416,44.157954010453366 L -91.93154757023302,44.1580124696123 L -91.93146339673683,44.15806292126435 L -91.93137468343237,44.158104879532516 L -91.93128228467725,44.158137940335735 L -91.93118709032201,44.158161785280406 L -91.93109001714033,44.15817618472667 L -91.930992,44.158181 L -91.93089398285967,44.15817618472667 L -91.930796909678,44.158161785280406 L -91.93070171532275,44.158137940335735 L -91.93060931656764,44.158104879532516 L -91.93052060326318,44.15806292126435 L -91.93043642976698,44.1580124696123 L -91.93035760671584,44.157954010453366 L -91.93028489321881,44.157888106781186 L -91.93021898954665,44.15781539328417 L -91.9301605303877,44.15773657023302 L -91.93011007873565,44.15765239673683 L -91.9300681204675,44.157563683432365 L -91.93003505966428,44.15747128467726 L -91.9300112147196,44.15737609032202 L -91.92999681527333,44.15727901714033 L -91.929992,44.157181 z\" /><path fill-rule=\"evenodd\" fill=\"#66cc99\" stroke=\"#555555\" stroke-width=\"0.06126131520000001\" opacity=\"0.6\" d=\"M -91.988472,44.085197 L -91.98847681527333,44.08509898285967 L -91.9884912147196,44.085001909677985 L -91.98851505966428,44.084906715322745 L -91.9885481204675,44.08481431656764 L -91.98859007873565,44.08472560326317 L -91.9886405303877,44.08464142976698 L -91.98869898954665,44.084562606715835 L -91.98876489321881,44.084489893218816 L -91.98883760671585,44.084423989546636 L -91.98891642976699,44.0843655303877 L -91.98900060326318,44.08431507873565 L -91.98908931656764,44.084273120467486 L -91.98918171532276,44.08424005966427 L -91.989276909678,44.084216214719596 L -91.98937398285968,44.08420181527333 L -91.989472,44.084197 L -91.98957001714034,44.08420181527333 L -91.98966709032202,44.084216214719596 L -91.98976228467725,44.08424005966427 L -91.98985468343237,44.084273120467486 L -91.98994339673683,44.08431507873565 L -91.99002757023302,44.0843655303877 L -91.99010639328417,44.084423989546636 L -91.9901791067812,44.084489893218816 L -91.99024501045336,44.084562606715835 L -91.99030346961231,44.08464142976698 L -91.99035392126436,44.08472560326317 L -91.99039587953251,44.08481431656764 L -91.99042894033573,44.084906715322745 L -91.99045278528041,44.085001909677985 L -91.99046718472668,44.08509898285967 L -91.99047200000001,44.085197 L -91.99046718472668,44.08529501714033 L -91.99045278528041,44.08539209032202 L -91.99042894033573,44.08548728467726 L -91.99039587953251,44.085579683432364 L -91.99035392126436,44.08566839673683 L -91.99030346961231,44.08575257023302 L -91.99024501045336,44.08583139328417 L -91.9901791067812,44.085904106781186 L -91.99010639328417,44.085970010453366 L -91.99002757023302,44.0860284696123 L -91.98994339673683,44.08607892126435 L -91.98985468343237,44.086120879532515 L -91.98976228467725,44.086153940335734 L -91.98966709032202,44.086177785280405 L -91.98957001714034,44.08619218472667 L -91.989472,44.086197 L -91.98937398285968,44.08619218472667 L -91.989276909678,44.086177785280405 L -91.98918171532276,44.086153940335734 L -91.98908931656764,44.086120879532515 L -91.98900060326318,44.08607892126435 L -91.98891642976699,44.0860284696123 L -91.98883760671585,44.085970010453366 L -91.98876489321881,44.085904106781186 L -91.98869898954665,44.08583139328417 L -91.9886405303877,44.08575257023302 L -91.98859007873565,44.08566839673683 L -91.9885481204675,44.085579683432364 L -91.98851505966428,44.08548728467726 L -91.9884912147196,44.08539209032202 L -91.98847681527333,44.08529501714033 L -91.988472,44.085197 z\" /><path fill-rule=\"evenodd\" fill=\"#66cc99\" stroke=\"#555555\" stroke-width=\"0.06126131520000001\" opacity=\"0.6\" d=\"M -92.00404999999999,44.150683 L -92.00405481527332,44.15058498285967 L -92.00406921471959,44.150487909677985 L -92.00409305966427,44.150392715322745 L -92.00412612046749,44.15030031656764 L -92.00416807873565,44.15021160326317 L -92.00421853038769,44.15012742976698 L -92.00427698954664,44.150048606715835 L -92.0043428932188,44.149975893218816 L -92.00441560671584,44.149909989546636 L -92.00449442976698,44.1498515303877 L -92.00457860326317,44.14980107873565 L -92.00466731656763,44.149759120467486 L -92.00475971532275,44.14972605966427 L -92.00485490967799,44.149702214719596 L -92.00495198285967,44.14968781527333 L -92.00505,44.149683 L -92.00514801714033,44.14968781527333 L -92.005245090322,44.149702214719596 L -92.00534028467725,44.14972605966427 L -92.00543268343236,44.149759120467486 L -92.00552139673682,44.14980107873565 L -92.00560557023302,44.1498515303877 L -92.00568439328416,44.149909989546636 L -92.00575710678119,44.149975893218816 L -92.00582301045335,44.150048606715835 L -92.0058814696123,44.15012742976698 L -92.00593192126435,44.15021160326317 L -92.0059738795325,44.15030031656764 L -92.00600694033572,44.150392715322745 L -92.0060307852804,44.150487909677985 L -92.00604518472667,44.15058498285967 L -92.00605,44.150683 L -92.00604518472667,44.15078101714033 L -92.0060307852804,44.15087809032202 L -92.00600694033572,44.15097328467726 L -92.0059738795325,44.151065683432364 L -92.00593192126435,44.15115439673683 L -92.0058814696123,44.15123857023302 L -92.00582301045335,44.15131739328417 L -92.00575710678119,44.151390106781186 L -92.00568439328416,44.151456010453366 L -92.00560557023302,44.1515144696123 L -92.00552139673682,44.15156492126435 L -92.00543268343236,44.151606879532515 L -92.00534028467725,44.151639940335734 L -92.005245090322,44.151663785280405 L -92.00514801714033,44.15167818472667 L -92.00505,44.151683 L -92.00495198285967,44.15167818472667 L -92.00485490967799,44.151663785280405 L -92.00475971532275,44.151639940335734 L -92.00466731656763,44.151606879532515 L -92.00457860326317,44.15156492126435 L -92.00449442976698,44.1515144696123 L -92.00441560671584,44.151456010453366 L -92.0043428932188,44.151390106781186 L -92.00427698954664,44.15131739328417 L -92.00421853038769,44.15123857023302 L -92.00416807873565,44.15115439673683 L -92.00412612046749,44.151065683432364 L -92.00409305966427,44.15097328467726 L -92.00406921471959,44.15087809032202 L -92.00405481527332,44.15078101714033 L -92.00404999999999,44.150683 z\" /><path fill-rule=\"evenodd\" fill=\"#66cc99\" stroke=\"#555555\" stroke-width=\"0.06126131520000001\" opacity=\"0.6\" d=\"M -92.012953,44.091756 L -92.01295781527332,44.091657982859665 L -92.0129722147196,44.09156090967798 L -92.01299605966427,44.09146571532274 L -92.0130291204675,44.09137331656763 L -92.01307107873565,44.09128460326317 L -92.01312153038769,44.09120042976698 L -92.01317998954664,44.09112160671583 L -92.01324589321881,44.09104889321881 L -92.01331860671584,44.09098298954663 L -92.01339742976698,44.090924530387696 L -92.01348160326317,44.090874078735645 L -92.01357031656764,44.09083212046748 L -92.01366271532275,44.09079905966426 L -92.01375790967799,44.09077521471959 L -92.01385498285967,44.09076081527333 L -92.013953,44.090756 L -92.01405101714033,44.09076081527333 L -92.01414809032201,44.09077521471959 L -92.01424328467725,44.09079905966426 L -92.01433568343236,44.09083212046748 L -92.01442439673683,44.090874078735645 L -92.01450857023302,44.090924530387696 L -92.01458739328416,44.09098298954663 L -92.01466010678119,44.09104889321881 L -92.01472601045336,44.09112160671583 L -92.01478446961231,44.09120042976698 L -92.01483492126435,44.09128460326317 L -92.01487687953251,44.09137331656763 L -92.01490994033573,44.09146571532274 L -92.0149337852804,44.09156090967798 L -92.01494818472668,44.091657982859665 L -92.014953,44.091756 L -92.01494818472668,44.09185401714033 L -92.0149337852804,44.09195109032201 L -92.01490994033573,44.09204628467725 L -92.01487687953251,44.09213868343236 L -92.01483492126435,44.092227396736824 L -92.01478446961231,44.092311570233015 L -92.01472601045336,44.09239039328416 L -92.01466010678119,44.09246310678118 L -92.01458739328416,44.09252901045336 L -92.01450857023302,44.0925874696123 L -92.01442439673683,44.09263792126435 L -92.01433568343236,44.09267987953251 L -92.01424328467725,44.09271294033573 L -92.01414809032201,44.0927367852804 L -92.01405101714033,44.092751184726666 L -92.013953,44.092755999999994 L -92.01385498285967,44.092751184726666 L -92.01375790967799,44.0927367852804 L -92.01366271532275,44.09271294033573 L -92.01357031656764,44.09267987953251 L -92.01348160326317,44.09263792126435 L -92.01339742976698,44.0925874696123 L -92.01331860671584,44.09252901045336 L -92.01324589321881,44.09246310678118 L -92.01317998954664,44.09239039328416 L -92.01312153038769,44.092311570233015 L -92.01307107873565,44.092227396736824 L -92.0130291204675,44.09213868343236 L -92.01299605966427,44.09204628467725 L -92.0129722147196,44.09195109032201 L -92.01295781527332,44.09185401714033 L -92.012953,44.091756 z\" /><path fill-rule=\"evenodd\" fill=\"#66cc99\" stroke=\"#555555\" stroke-width=\"0.06126131520000001\" opacity=\"0.6\" d=\"M -92.02478599999999,44.079211 L -92.02479081527332,44.07911298285967 L -92.02480521471959,44.079015909677985 L -92.02482905966427,44.078920715322745 L -92.02486212046749,44.07882831656764 L -92.02490407873564,44.07873960326317 L -92.02495453038769,44.07865542976698 L -92.02501298954664,44.078576606715835 L -92.0250788932188,44.078503893218816 L -92.02515160671584,44.078437989546636 L -92.02523042976698,44.0783795303877 L -92.02531460326317,44.07832907873565 L -92.02540331656763,44.078287120467486 L -92.02549571532275,44.07825405966427 L -92.02559090967799,44.078230214719596 L -92.02568798285967,44.07821581527333 L -92.025786,44.078211 L -92.02588401714033,44.07821581527333 L -92.025981090322,44.078230214719596 L -92.02607628467725,44.07825405966427 L -92.02616868343236,44.078287120467486 L -92.02625739673682,44.07832907873565 L -92.02634157023301,44.0783795303877 L -92.02642039328416,44.078437989546636 L -92.02649310678119,44.078503893218816 L -92.02655901045335,44.078576606715835 L -92.0266174696123,44.07865542976698 L -92.02666792126435,44.07873960326317 L -92.0267098795325,44.07882831656764 L -92.02674294033572,44.078920715322745 L -92.0267667852804,44.079015909677985 L -92.02678118472667,44.07911298285967 L -92.026786,44.079211 L -92.02678118472667,44.07930901714033 L -92.0267667852804,44.07940609032202 L -92.02674294033572,44.07950128467726 L -92.0267098795325,44.079593683432364 L -92.02666792126435,44.07968239673683 L -92.0266174696123,44.07976657023302 L -92.02655901045335,44.07984539328417 L -92.02649310678119,44.079918106781186 L -92.02642039328416,44.079984010453366 L -92.02634157023301,44.0800424696123 L -92.02625739673682,44.08009292126435 L -92.02616868343236,44.080134879532515 L -92.02607628467725,44.080167940335734 L -92.025981090322,44.080191785280405 L -92.02588401714033,44.08020618472667 L -92.025786,44.080211 L -92.02568798285967,44.08020618472667 L -92.02559090967799,44.080191785280405 L -92.02549571532275,44.080167940335734 L -92.02540331656763,44.080134879532515 L -92.02531460326317,44.08009292126435 L -92.02523042976698,44.0800424696123 L -92.02515160671584,44.079984010453366 L -92.0250788932188,44.079918106781186 L -92.02501298954664,44.07984539328417 L -92.02495453038769,44.07976657023302 L -92.02490407873564,44.07968239673683 L -92.02486212046749,44.079593683432364 L -92.02482905966427,44.07950128467726 L -92.02480521471959,44.07940609032202 L -92.02479081527332,44.07930901714033 L -92.02478599999999,44.079211 z\" /><path fill-rule=\"evenodd\" fill=\"#66cc99\" stroke=\"#555555\" stroke-width=\"0.06126131520000001\" opacity=\"0.6\" d=\"M -92.068528,43.975814 L -92.06853281527333,43.97571598285967 L -92.0685472147196,43.97561890967798 L -92.06857105966428,43.975523715322744 L -92.0686041204675,43.97543131656764 L -92.06864607873565,43.97534260326317 L -92.0686965303877,43.97525842976698 L -92.06875498954665,43.975179606715834 L -92.06882089321881,43.975106893218815 L -92.06889360671585,43.975040989546635 L -92.06897242976699,43.9749825303877 L -92.06905660326318,43.97493207873565 L -92.06914531656764,43.974890120467485 L -92.06923771532276,43.97485705966427 L -92.069332909678,43.974833214719595 L -92.06942998285967,43.97481881527333 L -92.069528,43.974814 L -92.06962601714034,43.97481881527333 L -92.06972309032201,43.974833214719595 L -92.06981828467725,43.97485705966427 L -92.06991068343237,43.974890120467485 L -92.06999939673683,43.97493207873565 L -92.07008357023302,43.9749825303877 L -92.07016239328416,43.975040989546635 L -92.0702351067812,43.975106893218815 L -92.07030101045336,43.975179606715834 L -92.07035946961231,43.97525842976698 L -92.07040992126436,43.97534260326317 L -92.07045187953251,43.97543131656764 L -92.07048494033573,43.975523715322744 L -92.07050878528041,43.97561890967798 L -92.07052318472668,43.97571598285967 L -92.07052800000001,43.975814 L -92.07052318472668,43.97591201714033 L -92.07050878528041,43.976009090322016 L -92.07048494033573,43.976104284677255 L -92.07045187953251,43.97619668343236 L -92.07040992126436,43.97628539673683 L -92.07035946961231,43.97636957023302 L -92.07030101045336,43.976448393284166 L -92.0702351067812,43.976521106781185 L -92.07016239328416,43.976587010453365 L -92.07008357023302,43.9766454696123 L -92.06999939673683,43.97669592126435 L -92.06991068343237,43.976737879532514 L -92.06981828467725,43.97677094033573 L -92.06972309032201,43.976794785280404 L -92.06962601714034,43.97680918472667 L -92.069528,43.976814 L -92.06942998285967,43.97680918472667 L -92.069332909678,43.976794785280404 L -92.06923771532276,43.97677094033573 L -92.06914531656764,43.976737879532514 L -92.06905660326318,43.97669592126435 L -92.06897242976699,43.9766454696123 L -92.06889360671585,43.976587010453365 L -92.06882089321881,43.976521106781185 L -92.06875498954665,43.976448393284166 L -92.0686965303877,43.97636957023302 L -92.06864607873565,43.97628539673683 L -92.0686041204675,43.97619668343236 L -92.06857105966428,43.976104284677255 L -92.0685472147196,43.976009090322016 L -92.06853281527333,43.97591201714033 L -92.068528,43.975814 z\" /><path fill-rule=\"evenodd\" fill=\"#66cc99\" stroke=\"#555555\" stroke-width=\"0.06126131520000001\" opacity=\"0.6\" d=\"M -92.08232199999999,44.380858 L -92.08232681527332,44.38075998285967 L -92.08234121471959,44.38066290967799 L -92.08236505966427,44.38056771532275 L -92.08239812046749,44.38047531656764 L -92.08244007873564,44.380386603263176 L -92.08249053038769,44.380302429766985 L -92.08254898954664,44.38022360671584 L -92.0826148932188,44.38015089321882 L -92.08268760671584,44.38008498954664 L -92.08276642976698,44.3800265303877 L -92.08285060326317,44.37997607873565 L -92.08293931656763,44.37993412046749 L -92.08303171532275,44.37990105966427 L -92.08312690967799,44.3798772147196 L -92.08322398285966,44.379862815273334 L -92.083322,44.379858000000006 L -92.08342001714033,44.379862815273334 L -92.083517090322,44.3798772147196 L -92.08361228467724,44.37990105966427 L -92.08370468343236,44.37993412046749 L -92.08379339673682,44.37997607873565 L -92.08387757023301,44.3800265303877 L -92.08395639328415,44.38008498954664 L -92.08402910678119,44.38015089321882 L -92.08409501045335,44.38022360671584 L -92.0841534696123,44.380302429766985 L -92.08420392126435,44.380386603263176 L -92.0842458795325,44.38047531656764 L -92.08427894033572,44.38056771532275 L -92.0843027852804,44.38066290967799 L -92.08431718472667,44.38075998285967 L -92.084322,44.380858 L -92.08431718472667,44.380956017140335 L -92.0843027852804,44.38105309032202 L -92.08427894033572,44.38114828467726 L -92.0842458795325,44.38124068343237 L -92.08420392126435,44.38132939673683 L -92.0841534696123,44.38141357023302 L -92.08409501045335,44.38149239328417 L -92.08402910678119,44.38156510678119 L -92.08395639328415,44.38163101045337 L -92.08387757023301,44.381689469612304 L -92.08379339673682,44.381739921264355 L -92.08370468343236,44.38178187953252 L -92.08361228467724,44.38181494033574 L -92.083517090322,44.38183878528041 L -92.08342001714033,44.38185318472667 L -92.083322,44.381858 L -92.08322398285966,44.38185318472667 L -92.08312690967799,44.38183878528041 L -92.08303171532275,44.38181494033574 L -92.08293931656763,44.38178187953252 L -92.08285060326317,44.381739921264355 L -92.08276642976698,44.381689469612304 L -92.08268760671584,44.38163101045337 L -92.0826148932188,44.38156510678119 L -92.08254898954664,44.38149239328417 L -92.08249053038769,44.38141357023302 L -92.08244007873564,44.38132939673683 L -92.08239812046749,44.38124068343237 L -92.08236505966427,44.38114828467726 L -92.08234121471959,44.38105309032202 L -92.08232681527332,44.380956017140335 L -92.08232199999999,44.380858 z\" /><path fill-rule=\"evenodd\" fill=\"#66cc99\" stroke=\"#555555\" stroke-width=\"0.06126131520000001\" opacity=\"0.6\" d=\"M -92.137925,44.191428 L -92.13792981527332,44.19132998285967 L -92.1379442147196,44.191232909677986 L -92.13796805966427,44.191137715322746 L -92.1380011204675,44.19104531656764 L -92.13804307873565,44.190956603263174 L -92.13809353038769,44.19087242976698 L -92.13815198954664,44.190793606715836 L -92.13821789321881,44.19072089321882 L -92.13829060671584,44.19065498954664 L -92.13836942976698,44.1905965303877 L -92.13845360326317,44.19054607873565 L -92.13854231656764,44.19050412046749 L -92.13863471532275,44.19047105966427 L -92.13872990967799,44.1904472147196 L -92.13882698285967,44.19043281527333 L -92.138925,44.190428000000004 L -92.13902301714033,44.19043281527333 L -92.13912009032201,44.1904472147196 L -92.13921528467725,44.19047105966427 L -92.13930768343236,44.19050412046749 L -92.13939639673683,44.19054607873565 L -92.13948057023302,44.1905965303877 L -92.13955939328416,44.19065498954664 L -92.13963210678119,44.19072089321882 L -92.13969801045336,44.190793606715836 L -92.13975646961231,44.19087242976698 L -92.13980692126435,44.190956603263174 L -92.13984887953251,44.19104531656764 L -92.13988194033573,44.191137715322746 L -92.1399057852804,44.191232909677986 L -92.13992018472668,44.19132998285967 L -92.139925,44.191428 L -92.13992018472668,44.19152601714033 L -92.1399057852804,44.19162309032202 L -92.13988194033573,44.19171828467726 L -92.13984887953251,44.191810683432365 L -92.13980692126435,44.19189939673683 L -92.13975646961231,44.19198357023302 L -92.13969801045336,44.19206239328417 L -92.13963210678119,44.19213510678119 L -92.13955939328416,44.19220101045337 L -92.13948057023302,44.1922594696123 L -92.13939639673683,44.19230992126435 L -92.13930768343236,44.19235187953252 L -92.13921528467725,44.192384940335735 L -92.13912009032201,44.192408785280406 L -92.13902301714033,44.19242318472667 L -92.138925,44.192428 L -92.13882698285967,44.19242318472667 L -92.13872990967799,44.192408785280406 L -92.13863471532275,44.192384940335735 L -92.13854231656764,44.19235187953252 L -92.13845360326317,44.19230992126435 L -92.13836942976698,44.1922594696123 L -92.13829060671584,44.19220101045337 L -92.13821789321881,44.19213510678119 L -92.13815198954664,44.19206239328417 L -92.13809353038769,44.19198357023302 L -92.13804307873565,44.19189939673683 L -92.1380011204675,44.191810683432365 L -92.13796805966427,44.19171828467726 L -92.1379442147196,44.19162309032202 L -92.13792981527332,44.19152601714033 L -92.137925,44.191428 z\" /><path fill-rule=\"evenodd\" fill=\"#66cc99\" stroke=\"#555555\" stroke-width=\"0.06126131520000001\" opacity=\"0.6\" d=\"M -92.16309199999999,44.317167 L -92.16309681527332,44.31706898285967 L -92.16311121471959,44.31697190967798 L -92.16313505966427,44.31687671532274 L -92.16316812046749,44.316784316567635 L -92.16321007873564,44.31669560326317 L -92.16326053038769,44.31661142976698 L -92.16331898954664,44.31653260671583 L -92.1633848932188,44.31645989321881 L -92.16345760671584,44.31639398954663 L -92.16353642976698,44.3163355303877 L -92.16362060326317,44.316285078735646 L -92.16370931656763,44.31624312046748 L -92.16380171532275,44.316210059664265 L -92.16389690967799,44.31618621471959 L -92.16399398285967,44.31617181527333 L -92.164092,44.316167 L -92.16419001714033,44.31617181527333 L -92.164287090322,44.31618621471959 L -92.16438228467725,44.316210059664265 L -92.16447468343236,44.31624312046748 L -92.16456339673682,44.316285078735646 L -92.16464757023302,44.3163355303877 L -92.16472639328416,44.31639398954663 L -92.16479910678119,44.31645989321881 L -92.16486501045335,44.31653260671583 L -92.1649234696123,44.31661142976698 L -92.16497392126435,44.31669560326317 L -92.1650158795325,44.316784316567635 L -92.16504894033572,44.31687671532274 L -92.1650727852804,44.31697190967798 L -92.16508718472667,44.31706898285967 L -92.165092,44.317167 L -92.16508718472667,44.31726501714033 L -92.1650727852804,44.317362090322014 L -92.16504894033572,44.31745728467725 L -92.1650158795325,44.31754968343236 L -92.16497392126435,44.317638396736825 L -92.1649234696123,44.317722570233016 L -92.16486501045335,44.317801393284164 L -92.16479910678119,44.31787410678118 L -92.16472639328416,44.31794001045336 L -92.16464757023302,44.3179984696123 L -92.16456339673682,44.31804892126435 L -92.16447468343236,44.31809087953251 L -92.16438228467725,44.31812394033573 L -92.164287090322,44.3181477852804 L -92.16419001714033,44.31816218472667 L -92.164092,44.318166999999995 L -92.16399398285967,44.31816218472667 L -92.16389690967799,44.3181477852804 L -92.16380171532275,44.31812394033573 L -92.16370931656763,44.31809087953251 L -92.16362060326317,44.31804892126435 L -92.16353642976698,44.3179984696123 L -92.16345760671584,44.31794001045336 L -92.1633848932188,44.31787410678118 L -92.16331898954664,44.317801393284164 L -92.16326053038769,44.317722570233016 L -92.16321007873564,44.317638396736825 L -92.16316812046749,44.31754968343236 L -92.16313505966427,44.31745728467725 L -92.16311121471959,44.317362090322014 L -92.16309681527332,44.31726501714033 L -92.16309199999999,44.317167 z\" /><path fill-rule=\"evenodd\" fill=\"#66cc99\" stroke=\"#555555\" stroke-width=\"0.06126131520000001\" opacity=\"0.6\" d=\"M -92.210844,44.251444 L -92.21084881527332,44.25134598285967 L -92.2108632147196,44.25124890967798 L -92.21088705966427,44.251153715322744 L -92.21092012046749,44.251061316567636 L -92.21096207873565,44.25097260326317 L -92.21101253038769,44.25088842976698 L -92.21107098954664,44.25080960671583 L -92.21113689321881,44.250736893218814 L -92.21120960671584,44.250670989546634 L -92.21128842976698,44.2506125303877 L -92.21137260326317,44.25056207873565 L -92.21146131656764,44.250520120467485 L -92.21155371532275,44.250487059664266 L -92.21164890967799,44.250463214719595 L -92.21174598285967,44.25044881527333 L -92.211844,44.250444 L -92.21194201714033,44.25044881527333 L -92.21203909032201,44.250463214719595 L -92.21213428467725,44.250487059664266 L -92.21222668343236,44.250520120467485 L -92.21231539673683,44.25056207873565 L -92.21239957023302,44.2506125303877 L -92.21247839328416,44.250670989546634 L -92.21255110678119,44.250736893218814 L -92.21261701045336,44.25080960671583 L -92.21267546961231,44.25088842976698 L -92.21272592126435,44.25097260326317 L -92.2127678795325,44.251061316567636 L -92.21280094033573,44.251153715322744 L -92.2128247852804,44.25124890967798 L -92.21283918472668,44.25134598285967 L -92.212844,44.251444 L -92.21283918472668,44.25154201714033 L -92.2128247852804,44.251639090322016 L -92.21280094033573,44.251734284677255 L -92.2127678795325,44.25182668343236 L -92.21272592126435,44.25191539673683 L -92.21267546961231,44.25199957023302 L -92.21261701045336,44.252078393284165 L -92.21255110678119,44.252151106781184 L -92.21247839328416,44.252217010453364 L -92.21239957023302,44.2522754696123 L -92.21231539673683,44.25232592126435 L -92.21222668343236,44.252367879532514 L -92.21213428467725,44.25240094033573 L -92.21203909032201,44.252424785280404 L -92.21194201714033,44.25243918472667 L -92.211844,44.252444 L -92.21174598285967,44.25243918472667 L -92.21164890967799,44.252424785280404 L -92.21155371532275,44.25240094033573 L -92.21146131656764,44.252367879532514 L -92.21137260326317,44.25232592126435 L -92.21128842976698,44.2522754696123 L -92.21120960671584,44.252217010453364 L -92.21113689321881,44.252151106781184 L -92.21107098954664,44.252078393284165 L -92.21101253038769,44.25199957023302 L -92.21096207873565,44.25191539673683 L -92.21092012046749,44.25182668343236 L -92.21088705966427,44.251734284677255 L -92.2108632147196,44.251639090322016 L -92.21084881527332,44.25154201714033 L -92.210844,44.251444 z\" /><path fill-rule=\"evenodd\" fill=\"#66cc99\" stroke=\"#555555\" stroke-width=\"0.06126131520000001\" opacity=\"0.6\" d=\"M -92.233603,44.227356 L -92.23360781527333,44.22725798285967 L -92.2336222147196,44.227160909677984 L -92.23364605966428,44.227065715322745 L -92.2336791204675,44.22697331656764 L -92.23372107873566,44.22688460326317 L -92.2337715303877,44.22680042976698 L -92.23382998954665,44.226721606715834 L -92.23389589321881,44.226648893218815 L -92.23396860671585,44.226582989546635 L -92.23404742976699,44.2265245303877 L -92.23413160326318,44.22647407873565 L -92.23422031656764,44.226432120467486 L -92.23431271532276,44.22639905966427 L -92.234407909678,44.226375214719596 L -92.23450498285968,44.22636081527333 L -92.234603,44.226356 L -92.23470101714034,44.22636081527333 L -92.23479809032202,44.226375214719596 L -92.23489328467726,44.22639905966427 L -92.23498568343237,44.226432120467486 L -92.23507439673683,44.22647407873565 L -92.23515857023303,44.2265245303877 L -92.23523739328417,44.226582989546635 L -92.2353101067812,44.226648893218815 L -92.23537601045336,44.226721606715834 L -92.23543446961231,44.22680042976698 L -92.23548492126436,44.22688460326317 L -92.23552687953251,44.22697331656764 L -92.23555994033573,44.227065715322745 L -92.23558378528041,44.227160909677984 L -92.23559818472668,44.22725798285967 L -92.23560300000001,44.227356 L -92.23559818472668,44.22745401714033 L -92.23558378528041,44.22755109032202 L -92.23555994033573,44.227646284677256 L -92.23552687953251,44.227738683432364 L -92.23548492126436,44.22782739673683 L -92.23543446961231,44.22791157023302 L -92.23537601045336,44.227990393284166 L -92.2353101067812,44.228063106781185 L -92.23523739328417,44.228129010453365 L -92.23515857023303,44.2281874696123 L -92.23507439673683,44.22823792126435 L -92.23498568343237,44.228279879532515 L -92.23489328467726,44.228312940335734 L -92.23479809032202,44.228336785280405 L -92.23470101714034,44.22835118472667 L -92.234603,44.228356 L -92.23450498285968,44.22835118472667 L -92.234407909678,44.228336785280405 L -92.23431271532276,44.228312940335734 L -92.23422031656764,44.228279879532515 L -92.23413160326318,44.22823792126435 L -92.23404742976699,44.2281874696123 L -92.23396860671585,44.228129010453365 L -92.23389589321881,44.228063106781185 L -92.23382998954665,44.227990393284166 L -92.2337715303877,44.22791157023302 L -92.23372107873566,44.22782739673683 L -92.2336791204675,44.227738683432364 L -92.23364605966428,44.227646284677256 L -92.2336222147196,44.22755109032202 L -92.23360781527333,44.22745401714033 L -92.233603,44.227356 z\" /><path fill-rule=\"evenodd\" fill=\"#66cc99\" stroke=\"#555555\" stroke-width=\"0.06126131520000001\" opacity=\"0.6\" d=\"M -92.24990799999999,44.431992 L -92.24991281527332,44.43189398285967 L -92.24992721471959,44.431796909677985 L -92.24995105966427,44.431701715322745 L -92.24998412046749,44.43160931656764 L -92.25002607873564,44.43152060326317 L -92.25007653038769,44.43143642976698 L -92.25013498954664,44.431357606715835 L -92.2502008932188,44.431284893218816 L -92.25027360671584,44.431218989546636 L -92.25035242976698,44.4311605303877 L -92.25043660326317,44.43111007873565 L -92.25052531656763,44.431068120467486 L -92.25061771532275,44.43103505966427 L -92.25071290967799,44.4310112147196 L -92.25080998285966,44.43099681527333 L -92.250908,44.430992 L -92.25100601714033,44.43099681527333 L -92.251103090322,44.4310112147196 L -92.25119828467724,44.43103505966427 L -92.25129068343236,44.431068120467486 L -92.25137939673682,44.43111007873565 L -92.25146357023301,44.4311605303877 L -92.25154239328415,44.431218989546636 L -92.25161510678119,44.431284893218816 L -92.25168101045335,44.431357606715835 L -92.2517394696123,44.43143642976698 L -92.25178992126435,44.43152060326317 L -92.2518318795325,44.43160931656764 L -92.25186494033572,44.431701715322745 L -92.2518887852804,44.431796909677985 L -92.25190318472667,44.43189398285967 L -92.251908,44.431992 L -92.25190318472667,44.43209001714033 L -92.2518887852804,44.43218709032202 L -92.25186494033572,44.43228228467726 L -92.2518318795325,44.432374683432364 L -92.25178992126435,44.43246339673683 L -92.2517394696123,44.43254757023302 L -92.25168101045335,44.43262639328417 L -92.25161510678119,44.432699106781186 L -92.25154239328415,44.432765010453366 L -92.25146357023301,44.4328234696123 L -92.25137939673682,44.43287392126435 L -92.25129068343236,44.432915879532516 L -92.25119828467724,44.432948940335734 L -92.251103090322,44.432972785280406 L -92.25100601714033,44.43298718472667 L -92.250908,44.432992 L -92.25080998285966,44.43298718472667 L -92.25071290967799,44.432972785280406 L -92.25061771532275,44.432948940335734 L -92.25052531656763,44.432915879532516 L -92.25043660326317,44.43287392126435 L -92.25035242976698,44.4328234696123 L -92.25027360671584,44.432765010453366 L -92.2502008932188,44.432699106781186 L -92.25013498954664,44.43262639328417 L -92.25007653038769,44.43254757023302 L -92.25002607873564,44.43246339673683 L -92.24998412046749,44.432374683432364 L -92.24995105966427,44.43228228467726 L -92.24992721471959,44.43218709032202 L -92.24991281527332,44.43209001714033 L -92.24990799999999,44.431992 z\" /><path fill-rule=\"evenodd\" fill=\"#66cc99\" stroke=\"#555555\" stroke-width=\"0.06126131520000001\" opacity=\"0.6\" d=\"M -92.278533,44.079072 L -92.27853781527332,44.078973982859665 L -92.2785522147196,44.07887690967798 L -92.27857605966427,44.07878171532274 L -92.2786091204675,44.07868931656763 L -92.27865107873565,44.07860060326317 L -92.27870153038769,44.07851642976698 L -92.27875998954664,44.07843760671583 L -92.27882589321881,44.07836489321881 L -92.27889860671584,44.07829898954663 L -92.27897742976698,44.078240530387696 L -92.27906160326317,44.078190078735645 L -92.27915031656764,44.07814812046748 L -92.27924271532275,44.07811505966426 L -92.27933790967799,44.07809121471959 L -92.27943498285967,44.07807681527333 L -92.279533,44.078072 L -92.27963101714033,44.07807681527333 L -92.27972809032201,44.07809121471959 L -92.27982328467725,44.07811505966426 L -92.27991568343236,44.07814812046748 L -92.28000439673683,44.078190078735645 L -92.28008857023302,44.078240530387696 L -92.28016739328416,44.07829898954663 L -92.28024010678119,44.07836489321881 L -92.28030601045336,44.07843760671583 L -92.28036446961231,44.07851642976698 L -92.28041492126435,44.07860060326317 L -92.28045687953251,44.07868931656763 L -92.28048994033573,44.07878171532274 L -92.2805137852804,44.07887690967798 L -92.28052818472668,44.078973982859665 L -92.280533,44.079072 L -92.28052818472668,44.07917001714033 L -92.2805137852804,44.07926709032201 L -92.28048994033573,44.07936228467725 L -92.28045687953251,44.07945468343236 L -92.28041492126435,44.079543396736824 L -92.28036446961231,44.079627570233015 L -92.28030601045336,44.07970639328416 L -92.28024010678119,44.07977910678118 L -92.28016739328416,44.07984501045336 L -92.28008857023302,44.0799034696123 L -92.28000439673683,44.07995392126435 L -92.27991568343236,44.07999587953251 L -92.27982328467725,44.08002894033573 L -92.27972809032201,44.0800527852804 L -92.27963101714033,44.080067184726666 L -92.279533,44.080071999999994 L -92.27943498285967,44.080067184726666 L -92.27933790967799,44.0800527852804 L -92.27924271532275,44.08002894033573 L -92.27915031656764,44.07999587953251 L -92.27906160326317,44.07995392126435 L -92.27897742976698,44.0799034696123 L -92.27889860671584,44.07984501045336 L -92.27882589321881,44.07977910678118 L -92.27875998954664,44.07970639328416 L -92.27870153038769,44.079627570233015 L -92.27865107873565,44.079543396736824 L -92.2786091204675,44.07945468343236 L -92.27857605966427,44.07936228467725 L -92.2785522147196,44.07926709032201 L -92.27853781527332,44.07917001714033 L -92.278533,44.079072 z\" /><path fill-rule=\"evenodd\" fill=\"#66cc99\" stroke=\"#555555\" stroke-width=\"0.06126131520000001\" opacity=\"0.6\" d=\"M -92.31796899999999,44.107739 L -92.31797381527332,44.10764098285967 L -92.31798821471959,44.107543909677986 L -92.31801205966427,44.10744871532275 L -92.31804512046749,44.10735631656764 L -92.31808707873564,44.107267603263175 L -92.31813753038769,44.107183429766984 L -92.31819598954664,44.107104606715836 L -92.3182618932188,44.10703189321882 L -92.31833460671584,44.10696598954664 L -92.31841342976698,44.1069075303877 L -92.31849760326317,44.10685707873565 L -92.31858631656763,44.10681512046749 L -92.31867871532275,44.10678205966427 L -92.31877390967799,44.1067582147196 L -92.31887098285966,44.10674381527333 L -92.318969,44.106739000000005 L -92.31906701714033,44.10674381527333 L -92.319164090322,44.1067582147196 L -92.31925928467724,44.10678205966427 L -92.31935168343236,44.10681512046749 L -92.31944039673682,44.10685707873565 L -92.31952457023301,44.1069075303877 L -92.31960339328415,44.10696598954664 L -92.31967610678119,44.10703189321882 L -92.31974201045335,44.107104606715836 L -92.3198004696123,44.107183429766984 L -92.31985092126435,44.107267603263175 L -92.3198928795325,44.10735631656764 L -92.31992594033572,44.10744871532275 L -92.3199497852804,44.107543909677986 L -92.31996418472667,44.10764098285967 L -92.319969,44.107739 L -92.31996418472667,44.107837017140334 L -92.3199497852804,44.10793409032202 L -92.31992594033572,44.10802928467726 L -92.3198928795325,44.108121683432366 L -92.31985092126435,44.10821039673683 L -92.3198004696123,44.10829457023302 L -92.31974201045335,44.10837339328417 L -92.31967610678119,44.10844610678119 L -92.31960339328415,44.10851201045337 L -92.31952457023301,44.1085704696123 L -92.31944039673682,44.108620921264354 L -92.31935168343236,44.10866287953252 L -92.31925928467724,44.108695940335735 L -92.319164090322,44.10871978528041 L -92.31906701714033,44.10873418472667 L -92.318969,44.108739 L -92.31887098285966,44.10873418472667 L -92.31877390967799,44.10871978528041 L -92.31867871532275,44.108695940335735 L -92.31858631656763,44.10866287953252 L -92.31849760326317,44.108620921264354 L -92.31841342976698,44.1085704696123 L -92.31833460671584,44.10851201045337 L -92.3182618932188,44.10844610678119 L -92.31819598954664,44.10837339328417 L -92.31813753038769,44.10829457023302 L -92.31808707873564,44.10821039673683 L -92.31804512046749,44.108121683432366 L -92.31801205966427,44.10802928467726 L -92.31798821471959,44.10793409032202 L -92.31797381527332,44.107837017140334 L -92.31796899999999,44.107739 z\" /><path fill-rule=\"evenodd\" fill=\"#66cc99\" stroke=\"#555555\" stroke-width=\"0.06126131520000001\" opacity=\"0.6\" d=\"M -92.338042,44.116192 L -92.33804681527333,44.11609398285967 L -92.3380612147196,44.11599690967798 L -92.33808505966428,44.11590171532274 L -92.3381181204675,44.115809316567635 L -92.33816007873565,44.11572060326317 L -92.3382105303877,44.11563642976698 L -92.33826898954665,44.11555760671583 L -92.33833489321881,44.11548489321881 L -92.33840760671585,44.11541898954663 L -92.33848642976699,44.1153605303877 L -92.33857060326318,44.11531007873565 L -92.33865931656764,44.11526812046748 L -92.33875171532276,44.115235059664265 L -92.338846909678,44.115211214719594 L -92.33894398285967,44.11519681527333 L -92.339042,44.115192 L -92.33914001714034,44.11519681527333 L -92.33923709032202,44.115211214719594 L -92.33933228467725,44.115235059664265 L -92.33942468343237,44.11526812046748 L -92.33951339673683,44.11531007873565 L -92.33959757023302,44.1153605303877 L -92.33967639328417,44.11541898954663 L -92.3397491067812,44.11548489321881 L -92.33981501045336,44.11555760671583 L -92.33987346961231,44.11563642976698 L -92.33992392126436,44.11572060326317 L -92.33996587953251,44.115809316567635 L -92.33999894033573,44.11590171532274 L -92.34002278528041,44.11599690967798 L -92.34003718472668,44.11609398285967 L -92.34004200000001,44.116192 L -92.34003718472668,44.11629001714033 L -92.34002278528041,44.116387090322014 L -92.33999894033573,44.116482284677254 L -92.33996587953251,44.11657468343236 L -92.33992392126436,44.116663396736826 L -92.33987346961231,44.11674757023302 L -92.33981501045336,44.116826393284164 L -92.3397491067812,44.11689910678118 L -92.33967639328417,44.11696501045336 L -92.33959757023302,44.1170234696123 L -92.33951339673683,44.11707392126435 L -92.33942468343237,44.11711587953251 L -92.33933228467725,44.11714894033573 L -92.33923709032202,44.1171727852804 L -92.33914001714034,44.11718718472667 L -92.339042,44.117191999999996 L -92.33894398285967,44.11718718472667 L -92.338846909678,44.1171727852804 L -92.33875171532276,44.11714894033573 L -92.33865931656764,44.11711587953251 L -92.33857060326318,44.11707392126435 L -92.33848642976699,44.1170234696123 L -92.33840760671585,44.11696501045336 L -92.33833489321881,44.11689910678118 L -92.33826898954665,44.116826393284164 L -92.3382105303877,44.11674757023302 L -92.33816007873565,44.116663396736826 L -92.3381181204675,44.11657468343236 L -92.33808505966428,44.116482284677254 L -92.3380612147196,44.116387090322014 L -92.33804681527333,44.11629001714033 L -92.338042,44.116192 z\" /><path fill-rule=\"evenodd\" fill=\"#66cc99\" stroke=\"#555555\" stroke-width=\"0.06126131520000001\" opacity=\"0.6\" d=\"M -92.41543899999999,44.52925 L -92.41544381527332,44.529151982859666 L -92.41545821471959,44.52905490967798 L -92.41548205966427,44.52895971532274 L -92.41551512046749,44.528867316567634 L -92.41555707873565,44.52877860326317 L -92.41560753038769,44.52869442976698 L -92.41566598954664,44.52861560671583 L -92.4157318932188,44.52854289321881 L -92.41580460671584,44.52847698954663 L -92.41588342976698,44.5284185303877 L -92.41596760326317,44.528368078735646 L -92.41605631656763,44.52832612046748 L -92.41614871532275,44.528293059664264 L -92.41624390967799,44.52826921471959 L -92.41634098285967,44.52825481527333 L -92.416439,44.52825 L -92.41653701714033,44.52825481527333 L -92.416634090322,44.52826921471959 L -92.41672928467725,44.528293059664264 L -92.41682168343236,44.52832612046748 L -92.41691039673682,44.528368078735646 L -92.41699457023302,44.5284185303877 L -92.41707339328416,44.52847698954663 L -92.41714610678119,44.52854289321881 L -92.41721201045335,44.52861560671583 L -92.4172704696123,44.52869442976698 L -92.41732092126435,44.52877860326317 L -92.4173628795325,44.528867316567634 L -92.41739594033572,44.52895971532274 L -92.4174197852804,44.52905490967798 L -92.41743418472667,44.529151982859666 L -92.417439,44.52925 L -92.41743418472667,44.52934801714033 L -92.4174197852804,44.529445090322014 L -92.41739594033572,44.52954028467725 L -92.4173628795325,44.52963268343236 L -92.41732092126435,44.529721396736825 L -92.4172704696123,44.529805570233016 L -92.41721201045335,44.52988439328416 L -92.41714610678119,44.52995710678118 L -92.41707339328416,44.53002301045336 L -92.41699457023302,44.5300814696123 L -92.41691039673682,44.53013192126435 L -92.41682168343236,44.53017387953251 L -92.41672928467725,44.53020694033573 L -92.416634090322,44.5302307852804 L -92.41653701714033,44.53024518472667 L -92.416439,44.530249999999995 L -92.41634098285967,44.53024518472667 L -92.41624390967799,44.5302307852804 L -92.41614871532275,44.53020694033573 L -92.41605631656763,44.53017387953251 L -92.41596760326317,44.53013192126435 L -92.41588342976698,44.5300814696123 L -92.41580460671584,44.53002301045336 L -92.4157318932188,44.52995710678118 L -92.41566598954664,44.52988439328416 L -92.41560753038769,44.529805570233016 L -92.41555707873565,44.529721396736825 L -92.41551512046749,44.52963268343236 L -92.41548205966427,44.52954028467725 L -92.41545821471959,44.529445090322014 L -92.41544381527332,44.52934801714033 L -92.41543899999999,44.52925 z\" /><path fill-rule=\"evenodd\" fill=\"#66cc99\" stroke=\"#555555\" stroke-width=\"0.06126131520000001\" opacity=\"0.6\" d=\"M -92.46330393667232,44.021236 L -92.463306,44.021278 L -92.46330118472667,44.021376017140334 L -92.4632867852804,44.02147309032202 L -92.46326294033572,44.02156828467726 L -92.46325039196452,44.021603355025384 L -92.4632527852804,44.021612909677984 L -92.46326718472667,44.02170998285967 L -92.463272,44.021808 L -92.46326718472667,44.02190601714033 L -92.4632527852804,44.022003090322016 L -92.46322894033572,44.022098284677256 L -92.4631958795325,44.02219068343236 L -92.46315392126435,44.02227939673683 L -92.4631034696123,44.02236357023302 L -92.46304501045336,44.022442393284166 L -92.46297910678119,44.022515106781185 L -92.46290639328416,44.022581010453365 L -92.46282757023302,44.0226394696123 L -92.46274339673683,44.02268992126435 L -92.46265468343236,44.022731879532515 L -92.46256228467725,44.02276494033573 L -92.46246709032201,44.022788785280405 L -92.46237001714033,44.02280318472667 L -92.462272,44.022808 L -92.46217398285967,44.02280318472667 L -92.46207690967799,44.022788785280405 L -92.46198171532275,44.02276494033573 L -92.46188931656764,44.022731879532515 L -92.46180060326317,44.02268992126435 L -92.46171642976698,44.0226394696123 L -92.46163760671584,44.022581010453365 L -92.4615648932188,44.022515106781185 L -92.46149898954664,44.022442393284166 L -92.46144053038769,44.02236357023302 L -92.46139007873565,44.02227939673683 L -92.46134812046749,44.02219068343236 L -92.46131505966427,44.022098284677256 L -92.4612912147196,44.022003090322016 L -92.46127681527332,44.02190601714033 L -92.461272,44.021808 L -92.46127681527332,44.02170998285967 L -92.4612912147196,44.021612909677984 L -92.46130680050211,44.021550687746355 L -92.46129305966427,44.02151228467726 L -92.4612692147196,44.02141709032202 L -92.46125481527332,44.02132001714033 L -92.46124999999999,44.021222 L -92.46125481527332,44.02112398285967 L -92.4612692147196,44.021026909677985 L -92.46129305966427,44.020931715322746 L -92.46132612046749,44.02083931656764 L -92.46136807873565,44.020750603263174 L -92.46141853038769,44.02066642976698 L -92.46147698954664,44.020587606715836 L -92.4615428932188,44.02051489321882 L -92.46161560671584,44.02044898954664 L -92.46169442976698,44.0203905303877 L -92.46177860326317,44.02034007873565 L -92.4618226267842,44.02031925716089 L -92.46183460326317,44.02031207873565 L -92.46192331656763,44.02027012046749 L -92.46201571532275,44.02023705966427 L -92.46211090967799,44.0202132147196 L -92.46220798285967,44.02019881527333 L -92.462306,44.020194000000004 L -92.46240401714033,44.02019881527333 L -92.46250109032201,44.0202132147196 L -92.46259628467725,44.02023705966427 L -92.46268868343236,44.02027012046749 L -92.46277739673683,44.02031207873565 L -92.46286157023302,44.0203625303877 L -92.46294039328416,44.020420989546636 L -92.46301310678119,44.020486893218816 L -92.46307901045336,44.020559606715835 L -92.4631374696123,44.02063842976698 L -92.46318792126435,44.020722603263174 L -92.4632298795325,44.02081131656764 L -92.46326294033572,44.020903715322746 L -92.4632867852804,44.020998909677985 L -92.46330118472667,44.02109598285967 L -92.463306,44.021194 L -92.46330393667232,44.021236 z\" /><path fill-rule=\"evenodd\" fill=\"#66cc99\" stroke=\"#555555\" stroke-width=\"0.06126131520000001\" opacity=\"0.6\" d=\"M -92.461508,44.129647 L -92.46151281527332,44.12954898285967 L -92.4615272147196,44.12945190967798 L -92.46155105966427,44.12935671532274 L -92.46158412046749,44.129264316567635 L -92.46162607873565,44.12917560326317 L -92.46167653038769,44.12909142976698 L -92.46173498954664,44.12901260671583 L -92.46180089321881,44.12893989321881 L -92.46187360671584,44.12887398954663 L -92.46195242976698,44.1288155303877 L -92.46203660326317,44.12876507873565 L -92.46212531656764,44.128723120467484 L -92.46221771532275,44.128690059664265 L -92.46231290967799,44.128666214719594 L -92.46240998285967,44.12865181527333 L -92.462508,44.128647 L -92.46260601714033,44.12865181527333 L -92.46270309032201,44.128666214719594 L -92.46279828467725,44.128690059664265 L -92.46289068343236,44.128723120467484 L -92.46297939673683,44.12876507873565 L -92.46306357023302,44.1288155303877 L -92.46314239328416,44.12887398954663 L -92.46321510678119,44.12893989321881 L -92.46328101045336,44.12901260671583 L -92.46333946961231,44.12909142976698 L -92.46338992126435,44.12917560326317 L -92.46343187953251,44.129264316567635 L -92.46346494033573,44.12935671532274 L -92.4634887852804,44.12945190967798 L -92.46350318472668,44.12954898285967 L -92.463508,44.129647 L -92.46350318472668,44.12974501714033 L -92.4634887852804,44.129842090322015 L -92.46346494033573,44.129937284677254 L -92.46343187953251,44.13002968343236 L -92.46338992126435,44.130118396736826 L -92.46333946961231,44.13020257023302 L -92.46328101045336,44.130281393284164 L -92.46321510678119,44.13035410678118 L -92.46314239328416,44.13042001045336 L -92.46306357023302,44.1304784696123 L -92.46297939673683,44.13052892126435 L -92.46289068343236,44.13057087953251 L -92.46279828467725,44.13060394033573 L -92.46270309032201,44.1306277852804 L -92.46260601714033,44.13064218472667 L -92.462508,44.130646999999996 L -92.46240998285967,44.13064218472667 L -92.46231290967799,44.1306277852804 L -92.46221771532275,44.13060394033573 L -92.46212531656764,44.13057087953251 L -92.46203660326317,44.13052892126435 L -92.46195242976698,44.1304784696123 L -92.46187360671584,44.13042001045336 L -92.46180089321881,44.13035410678118 L -92.46173498954664,44.130281393284164 L -92.46167653038769,44.13020257023302 L -92.46162607873565,44.130118396736826 L -92.46158412046749,44.13002968343236 L -92.46155105966427,44.129937284677254 L -92.4615272147196,44.129842090322015 L -92.46151281527332,44.12974501714033 L -92.461508,44.129647 z\" /><path fill-rule=\"evenodd\" fill=\"#66cc99\" stroke=\"#555555\" stroke-width=\"0.06126131520000001\" opacity=\"0.6\" d=\"M -92.47165,44.028033 L -92.47165481527333,44.02793498285967 L -92.4716692147196,44.027837909677984 L -92.47169305966428,44.027742715322745 L -92.4717261204675,44.02765031656764 L -92.47176807873565,44.02756160326317 L -92.4718185303877,44.02747742976698 L -92.47187698954664,44.027398606715835 L -92.47194289321881,44.027325893218816 L -92.47201560671584,44.027259989546636 L -92.47209442976698,44.0272015303877 L -92.47217860326317,44.02715107873565 L -92.47226731656764,44.027109120467486 L -92.47235971532275,44.02707605966427 L -92.47245490967799,44.027052214719596 L -92.47255198285967,44.02703781527333 L -92.47265,44.027033 L -92.47274801714033,44.02703781527333 L -92.47284509032201,44.027052214719596 L -92.47294028467725,44.02707605966427 L -92.47303268343236,44.027109120467486 L -92.47312139673683,44.02715107873565 L -92.47320557023302,44.0272015303877 L -92.47328439328416,44.027259989546636 L -92.4733571067812,44.027325893218816 L -92.47342301045336,44.027398606715835 L -92.47348146961231,44.02747742976698 L -92.47353192126435,44.02756160326317 L -92.47357387953251,44.02765031656764 L -92.47360694033573,44.027742715322745 L -92.4736307852804,44.027837909677984 L -92.47364518472668,44.02793498285967 L -92.47365,44.028033 L -92.47364518472668,44.02813101714033 L -92.4736307852804,44.02822809032202 L -92.47360694033573,44.028323284677256 L -92.47357387953251,44.028415683432364 L -92.47353192126435,44.02850439673683 L -92.47348146961231,44.02858857023302 L -92.47342301045336,44.02866739328417 L -92.4733571067812,44.028740106781186 L -92.47328439328416,44.028806010453366 L -92.47320557023302,44.0288644696123 L -92.47312139673683,44.02891492126435 L -92.47303268343236,44.028956879532515 L -92.47294028467725,44.028989940335734 L -92.47284509032201,44.029013785280405 L -92.47274801714033,44.02902818472667 L -92.47265,44.029033 L -92.47255198285967,44.02902818472667 L -92.47245490967799,44.029013785280405 L -92.47235971532275,44.028989940335734 L -92.47226731656764,44.028956879532515 L -92.47217860326317,44.02891492126435 L -92.47209442976698,44.0288644696123 L -92.47201560671584,44.028806010453366 L -92.47194289321881,44.028740106781186 L -92.47187698954664,44.02866739328417 L -92.4718185303877,44.02858857023302 L -92.47176807873565,44.02850439673683 L -92.4717261204675,44.028415683432364 L -92.47169305966428,44.028323284677256 L -92.4716692147196,44.02822809032202 L -92.47165481527333,44.02813101714033 L -92.47165,44.028033 z\" /><path fill-rule=\"evenodd\" fill=\"#66cc99\" stroke=\"#555555\" stroke-width=\"0.06126131520000001\" opacity=\"0.6\" d=\"M -92.475106,44.364181 L -92.47511081527333,44.36408298285967 L -92.4751252147196,44.363985909677986 L -92.47514905966428,44.363890715322746 L -92.4751821204675,44.36379831656764 L -92.47522407873565,44.363709603263175 L -92.4752745303877,44.363625429766984 L -92.47533298954664,44.363546606715836 L -92.47539889321881,44.36347389321882 L -92.47547160671584,44.36340798954664 L -92.47555042976698,44.3633495303877 L -92.47563460326317,44.36329907873565 L -92.47572331656764,44.36325712046749 L -92.47581571532275,44.36322405966427 L -92.47591090967799,44.3632002147196 L -92.47600798285967,44.36318581527333 L -92.476106,44.363181000000004 L -92.47620401714033,44.36318581527333 L -92.47630109032201,44.3632002147196 L -92.47639628467725,44.36322405966427 L -92.47648868343236,44.36325712046749 L -92.47657739673683,44.36329907873565 L -92.47666157023302,44.3633495303877 L -92.47674039328416,44.36340798954664 L -92.4768131067812,44.36347389321882 L -92.47687901045336,44.363546606715836 L -92.47693746961231,44.363625429766984 L -92.47698792126435,44.363709603263175 L -92.47702987953251,44.36379831656764 L -92.47706294033573,44.363890715322746 L -92.4770867852804,44.363985909677986 L -92.47710118472668,44.36408298285967 L -92.477106,44.364181 L -92.47710118472668,44.36427901714033 L -92.4770867852804,44.36437609032202 L -92.47706294033573,44.36447128467726 L -92.47702987953251,44.364563683432365 L -92.47698792126435,44.36465239673683 L -92.47693746961231,44.36473657023302 L -92.47687901045336,44.36481539328417 L -92.4768131067812,44.36488810678119 L -92.47674039328416,44.36495401045337 L -92.47666157023302,44.3650124696123 L -92.47657739673683,44.365062921264354 L -92.47648868343236,44.36510487953252 L -92.47639628467725,44.365137940335735 L -92.47630109032201,44.36516178528041 L -92.47620401714033,44.36517618472667 L -92.476106,44.365181 L -92.47600798285967,44.36517618472667 L -92.47591090967799,44.36516178528041 L -92.47581571532275,44.365137940335735 L -92.47572331656764,44.36510487953252 L -92.47563460326317,44.365062921264354 L -92.47555042976698,44.3650124696123 L -92.47547160671584,44.36495401045337 L -92.47539889321881,44.36488810678119 L -92.47533298954664,44.36481539328417 L -92.4752745303877,44.36473657023302 L -92.47522407873565,44.36465239673683 L -92.4751821204675,44.364563683432365 L -92.47514905966428,44.36447128467726 L -92.4751252147196,44.36437609032202 L -92.47511081527333,44.36427901714033 L -92.475106,44.364181 z\" /><path fill-rule=\"evenodd\" fill=\"#66cc99\" stroke=\"#555555\" stroke-width=\"0.06126131520000001\" opacity=\"0.6\" d=\"M -92.479919,44.45465 L -92.47992381527332,44.45455198285967 L -92.4799382147196,44.454454909677985 L -92.47996205966427,44.454359715322745 L -92.47999512046749,44.45426731656764 L -92.48003707873565,44.45417860326317 L -92.48008753038769,44.45409442976698 L -92.48014598954664,44.454015606715835 L -92.48021189321881,44.453942893218816 L -92.48028460671584,44.453876989546636 L -92.48036342976698,44.4538185303877 L -92.48044760326317,44.45376807873565 L -92.48053631656764,44.453726120467486 L -92.48062871532275,44.45369305966427 L -92.48072390967799,44.453669214719596 L -92.48082098285967,44.45365481527333 L -92.480919,44.45365 L -92.48101701714033,44.45365481527333 L -92.48111409032201,44.453669214719596 L -92.48120928467725,44.45369305966427 L -92.48130168343236,44.453726120467486 L -92.48139039673683,44.45376807873565 L -92.48147457023302,44.4538185303877 L -92.48155339328416,44.453876989546636 L -92.48162610678119,44.453942893218816 L -92.48169201045336,44.454015606715835 L -92.48175046961231,44.45409442976698 L -92.48180092126435,44.45417860326317 L -92.48184287953251,44.45426731656764 L -92.48187594033573,44.454359715322745 L -92.4818997852804,44.454454909677985 L -92.48191418472668,44.45455198285967 L -92.481919,44.45465 L -92.48191418472668,44.45474801714033 L -92.4818997852804,44.45484509032202 L -92.48187594033573,44.45494028467726 L -92.48184287953251,44.455032683432364 L -92.48180092126435,44.45512139673683 L -92.48175046961231,44.45520557023302 L -92.48169201045336,44.45528439328417 L -92.48162610678119,44.455357106781186 L -92.48155339328416,44.455423010453366 L -92.48147457023302,44.4554814696123 L -92.48139039673683,44.45553192126435 L -92.48130168343236,44.455573879532515 L -92.48120928467725,44.455606940335734 L -92.48111409032201,44.455630785280405 L -92.48101701714033,44.45564518472667 L -92.480919,44.45565 L -92.48082098285967,44.45564518472667 L -92.48072390967799,44.455630785280405 L -92.48062871532275,44.455606940335734 L -92.48053631656764,44.455573879532515 L -92.48044760326317,44.45553192126435 L -92.48036342976698,44.4554814696123 L -92.48028460671584,44.455423010453366 L -92.48021189321881,44.455357106781186 L -92.48014598954664,44.45528439328417 L -92.48008753038769,44.45520557023302 L -92.48003707873565,44.45512139673683 L -92.47999512046749,44.455032683432364 L -92.47996205966427,44.45494028467726 L -92.4799382147196,44.45484509032202 L -92.47992381527332,44.45474801714033 L -92.479919,44.45465 z\" /><path fill-rule=\"evenodd\" fill=\"#66cc99\" stroke=\"#555555\" stroke-width=\"0.06126131520000001\" opacity=\"0.6\" d=\"M -92.550919,44.412225 L -92.55092381527332,44.41212698285967 L -92.5509382147196,44.41202990967798 L -92.55096205966427,44.411934715322744 L -92.55099512046749,44.411842316567636 L -92.55103707873565,44.41175360326317 L -92.55108753038769,44.41166942976698 L -92.55114598954664,44.41159060671583 L -92.5512118932188,44.411517893218814 L -92.55128460671584,44.411451989546634 L -92.55136342976698,44.4113935303877 L -92.55144760326317,44.41134307873565 L -92.55153631656763,44.411301120467485 L -92.55162871532275,44.411268059664266 L -92.55172390967799,44.411244214719595 L -92.55182098285967,44.41122981527333 L -92.551919,44.411225 L -92.55201701714033,44.41122981527333 L -92.55211409032201,44.411244214719595 L -92.55220928467725,44.411268059664266 L -92.55230168343236,44.411301120467485 L -92.55239039673683,44.41134307873565 L -92.55247457023302,44.4113935303877 L -92.55255339328416,44.411451989546634 L -92.55262610678119,44.411517893218814 L -92.55269201045336,44.41159060671583 L -92.5527504696123,44.41166942976698 L -92.55280092126435,44.41175360326317 L -92.5528428795325,44.411842316567636 L -92.55287594033572,44.411934715322744 L -92.5528997852804,44.41202990967798 L -92.55291418472667,44.41212698285967 L -92.552919,44.412225 L -92.55291418472667,44.41232301714033 L -92.5528997852804,44.412420090322016 L -92.55287594033572,44.412515284677255 L -92.5528428795325,44.41260768343236 L -92.55280092126435,44.41269639673683 L -92.5527504696123,44.41278057023302 L -92.55269201045336,44.412859393284165 L -92.55262610678119,44.412932106781184 L -92.55255339328416,44.412998010453364 L -92.55247457023302,44.4130564696123 L -92.55239039673683,44.41310692126435 L -92.55230168343236,44.413148879532514 L -92.55220928467725,44.41318194033573 L -92.55211409032201,44.413205785280404 L -92.55201701714033,44.41322018472667 L -92.551919,44.413225 L -92.55182098285967,44.41322018472667 L -92.55172390967799,44.413205785280404 L -92.55162871532275,44.41318194033573 L -92.55153631656763,44.413148879532514 L -92.55144760326317,44.41310692126435 L -92.55136342976698,44.4130564696123 L -92.55128460671584,44.412998010453364 L -92.5512118932188,44.412932106781184 L -92.55114598954664,44.412859393284165 L -92.55108753038769,44.41278057023302 L -92.55103707873565,44.41269639673683 L -92.55099512046749,44.41260768343236 L -92.55096205966427,44.412515284677255 L -92.5509382147196,44.412420090322016 L -92.55092381527332,44.41232301714033 L -92.550919,44.412225 z\" /><path fill-rule=\"evenodd\" fill=\"#66cc99\" stroke=\"#555555\" stroke-width=\"0.06126131520000001\" opacity=\"0.6\" d=\"M -92.565258,44.510136 L -92.56526281527333,44.51003798285967 L -92.5652772147196,44.50994090967799 L -92.56530105966428,44.50984571532275 L -92.5653341204675,44.50975331656764 L -92.56537607873565,44.509664603263175 L -92.5654265303877,44.509580429766984 L -92.56548498954665,44.50950160671584 L -92.56555089321881,44.50942889321882 L -92.56562360671585,44.50936298954664 L -92.56570242976699,44.5093045303877 L -92.56578660326318,44.50925407873565 L -92.56587531656764,44.50921212046749 L -92.56596771532276,44.50917905966427 L -92.566062909678,44.5091552147196 L -92.56615998285967,44.509140815273334 L -92.566258,44.509136000000005 L -92.56635601714034,44.509140815273334 L -92.56645309032201,44.5091552147196 L -92.56654828467725,44.50917905966427 L -92.56664068343237,44.50921212046749 L -92.56672939673683,44.50925407873565 L -92.56681357023302,44.5093045303877 L -92.56689239328416,44.50936298954664 L -92.5669651067812,44.50942889321882 L -92.56703101045336,44.50950160671584 L -92.56708946961231,44.509580429766984 L -92.56713992126436,44.509664603263175 L -92.56718187953251,44.50975331656764 L -92.56721494033573,44.50984571532275 L -92.56723878528041,44.50994090967799 L -92.56725318472668,44.51003798285967 L -92.56725800000001,44.510136 L -92.56725318472668,44.510234017140334 L -92.56723878528041,44.51033109032202 L -92.56721494033573,44.51042628467726 L -92.56718187953251,44.510518683432366 L -92.56713992126436,44.51060739673683 L -92.56708946961231,44.51069157023302 L -92.56703101045336,44.51077039328417 L -92.5669651067812,44.51084310678119 L -92.56689239328416,44.51090901045337 L -92.56681357023302,44.510967469612304 L -92.56672939673683,44.511017921264354 L -92.56664068343237,44.51105987953252 L -92.56654828467725,44.511092940335736 L -92.56645309032201,44.51111678528041 L -92.56635601714034,44.51113118472667 L -92.566258,44.511136 L -92.56615998285967,44.51113118472667 L -92.566062909678,44.51111678528041 L -92.56596771532276,44.511092940335736 L -92.56587531656764,44.51105987953252 L -92.56578660326318,44.511017921264354 L -92.56570242976699,44.510967469612304 L -92.56562360671585,44.51090901045337 L -92.56555089321881,44.51084310678119 L -92.56548498954665,44.51077039328417 L -92.5654265303877,44.51069157023302 L -92.56537607873565,44.51060739673683 L -92.5653341204675,44.510518683432366 L -92.56530105966428,44.51042628467726 L -92.5652772147196,44.51033109032202 L -92.56526281527333,44.510234017140334 L -92.565258,44.510136 z\" /><path fill-rule=\"evenodd\" fill=\"#66cc99\" stroke=\"#555555\" stroke-width=\"0.06126131520000001\" opacity=\"0.6\" d=\"M -92.58124699999999,44.478667 L -92.58125181527332,44.47856898285967 L -92.58126621471959,44.478471909677985 L -92.58129005966427,44.478376715322746 L -92.58132312046749,44.47828431656764 L -92.58136507873564,44.478195603263174 L -92.58141553038769,44.47811142976698 L -92.58147398954664,44.478032606715836 L -92.5815398932188,44.47795989321882 L -92.58161260671584,44.47789398954664 L -92.58169142976698,44.4778355303877 L -92.58177560326317,44.47778507873565 L -92.58186431656763,44.47774312046749 L -92.58195671532275,44.47771005966427 L -92.58205190967799,44.4776862147196 L -92.58214898285966,44.47767181527333 L -92.582247,44.477667000000004 L -92.58234501714033,44.47767181527333 L -92.582442090322,44.4776862147196 L -92.58253728467724,44.47771005966427 L -92.58262968343236,44.47774312046749 L -92.58271839673682,44.47778507873565 L -92.58280257023301,44.4778355303877 L -92.58288139328415,44.47789398954664 L -92.58295410678119,44.47795989321882 L -92.58302001045335,44.478032606715836 L -92.5830784696123,44.47811142976698 L -92.58312892126435,44.478195603263174 L -92.5831708795325,44.47828431656764 L -92.58320394033572,44.478376715322746 L -92.5832277852804,44.478471909677985 L -92.58324218472667,44.47856898285967 L -92.583247,44.478667 L -92.58324218472667,44.47876501714033 L -92.5832277852804,44.47886209032202 L -92.58320394033572,44.47895728467726 L -92.5831708795325,44.479049683432365 L -92.58312892126435,44.47913839673683 L -92.5830784696123,44.47922257023302 L -92.58302001045335,44.47930139328417 L -92.58295410678119,44.47937410678119 L -92.58288139328415,44.47944001045337 L -92.58280257023301,44.4794984696123 L -92.58271839673682,44.47954892126435 L -92.58262968343236,44.479590879532516 L -92.58253728467724,44.479623940335735 L -92.582442090322,44.479647785280406 L -92.58234501714033,44.47966218472667 L -92.582247,44.479667 L -92.58214898285966,44.47966218472667 L -92.58205190967799,44.479647785280406 L -92.58195671532275,44.479623940335735 L -92.58186431656763,44.479590879532516 L -92.58177560326317,44.47954892126435 L -92.58169142976698,44.4794984696123 L -92.58161260671584,44.47944001045337 L -92.5815398932188,44.47937410678119 L -92.58147398954664,44.47930139328417 L -92.58141553038769,44.47922257023302 L -92.58136507873564,44.47913839673683 L -92.58132312046749,44.479049683432365 L -92.58129005966427,44.47895728467726 L -92.58126621471959,44.47886209032202 L -92.58125181527332,44.47876501714033 L -92.58124699999999,44.478667 z\" /><path fill-rule=\"evenodd\" fill=\"#66cc99\" stroke=\"#555555\" stroke-width=\"0.06126131520000001\" opacity=\"0.6\" d=\"M -92.589242,44.471236 L -92.58924681527333,44.471137982859666 L -92.5892612147196,44.47104090967798 L -92.58928505966428,44.47094571532274 L -92.5893181204675,44.470853316567634 L -92.58936007873565,44.47076460326317 L -92.5894105303877,44.47068042976698 L -92.58946898954665,44.47060160671583 L -92.58953489321881,44.47052889321881 L -92.58960760671584,44.47046298954663 L -92.58968642976699,44.4704045303877 L -92.58977060326318,44.470354078735646 L -92.58985931656764,44.47031212046748 L -92.58995171532275,44.470279059664264 L -92.590046909678,44.47025521471959 L -92.59014398285967,44.47024081527333 L -92.590242,44.470236 L -92.59034001714033,44.47024081527333 L -92.59043709032201,44.47025521471959 L -92.59053228467725,44.470279059664264 L -92.59062468343237,44.47031212046748 L -92.59071339673683,44.470354078735646 L -92.59079757023302,44.4704045303877 L -92.59087639328416,44.47046298954663 L -92.5909491067812,44.47052889321881 L -92.59101501045336,44.47060160671583 L -92.59107346961231,44.47068042976698 L -92.59112392126436,44.47076460326317 L -92.59116587953251,44.470853316567634 L -92.59119894033573,44.47094571532274 L -92.59122278528041,44.47104090967798 L -92.59123718472668,44.471137982859666 L -92.59124200000001,44.471236 L -92.59123718472668,44.47133401714033 L -92.59122278528041,44.471431090322014 L -92.59119894033573,44.47152628467725 L -92.59116587953251,44.47161868343236 L -92.59112392126436,44.471707396736825 L -92.59107346961231,44.471791570233016 L -92.59101501045336,44.47187039328416 L -92.5909491067812,44.47194310678118 L -92.59087639328416,44.47200901045336 L -92.59079757023302,44.4720674696123 L -92.59071339673683,44.47211792126435 L -92.59062468343237,44.47215987953251 L -92.59053228467725,44.47219294033573 L -92.59043709032201,44.4722167852804 L -92.59034001714033,44.47223118472667 L -92.590242,44.472235999999995 L -92.59014398285967,44.47223118472667 L -92.590046909678,44.4722167852804 L -92.58995171532275,44.47219294033573 L -92.58985931656764,44.47215987953251 L -92.58977060326318,44.47211792126435 L -92.58968642976699,44.4720674696123 L -92.58960760671584,44.47200901045336 L -92.58953489321881,44.47194310678118 L -92.58946898954665,44.47187039328416 L -92.5894105303877,44.471791570233016 L -92.58936007873565,44.471707396736825 L -92.5893181204675,44.47161868343236 L -92.58928505966428,44.47152628467725 L -92.5892612147196,44.471431090322014 L -92.58924681527333,44.47133401714033 L -92.589242,44.471236 z\" /><path fill-rule=\"evenodd\" fill=\"#66cc99\" stroke=\"#555555\" stroke-width=\"0.06126131520000001\" opacity=\"0.6\" d=\"M -92.61956699999999,44.392906 L -92.61957181527332,44.39280798285967 L -92.61958621471959,44.39271090967799 L -92.61961005966427,44.39261571532275 L -92.61964312046749,44.39252331656764 L -92.61968507873564,44.392434603263176 L -92.61973553038769,44.392350429766985 L -92.61979398954664,44.39227160671584 L -92.6198598932188,44.39219889321882 L -92.61993260671584,44.39213298954664 L -92.62001142976698,44.3920745303877 L -92.62009560326317,44.39202407873565 L -92.62018431656763,44.39198212046749 L -92.62027671532275,44.39194905966427 L -92.62037190967798,44.3919252147196 L -92.62046898285966,44.391910815273334 L -92.620567,44.391906000000006 L -92.62066501714033,44.391910815273334 L -92.620762090322,44.3919252147196 L -92.62085728467724,44.39194905966427 L -92.62094968343236,44.39198212046749 L -92.62103839673682,44.39202407873565 L -92.62112257023301,44.3920745303877 L -92.62120139328415,44.39213298954664 L -92.62127410678119,44.39219889321882 L -92.62134001045335,44.39227160671584 L -92.6213984696123,44.392350429766985 L -92.62144892126435,44.392434603263176 L -92.6214908795325,44.39252331656764 L -92.62152394033572,44.39261571532275 L -92.6215477852804,44.39271090967799 L -92.62156218472667,44.39280798285967 L -92.621567,44.392906 L -92.62156218472667,44.393004017140335 L -92.6215477852804,44.39310109032202 L -92.62152394033572,44.39319628467726 L -92.6214908795325,44.39328868343237 L -92.62144892126435,44.39337739673683 L -92.6213984696123,44.39346157023302 L -92.62134001045335,44.39354039328417 L -92.62127410678119,44.39361310678119 L -92.62120139328415,44.39367901045337 L -92.62112257023301,44.393737469612304 L -92.62103839673682,44.393787921264355 L -92.62094968343236,44.39382987953252 L -92.62085728467724,44.39386294033574 L -92.620762090322,44.39388678528041 L -92.62066501714033,44.39390118472667 L -92.620567,44.393906 L -92.62046898285966,44.39390118472667 L -92.62037190967798,44.39388678528041 L -92.62027671532275,44.39386294033574 L -92.62018431656763,44.39382987953252 L -92.62009560326317,44.393787921264355 L -92.62001142976698,44.393737469612304 L -92.61993260671584,44.39367901045337 L -92.6198598932188,44.39361310678119 L -92.61979398954664,44.39354039328417 L -92.61973553038769,44.39346157023302 L -92.61968507873564,44.39337739673683 L -92.61964312046749,44.39328868343237 L -92.61961005966427,44.39319628467726 L -92.61958621471959,44.39310109032202 L -92.61957181527332,44.393004017140335 L -92.61956699999999,44.392906 z\" /><path fill-rule=\"evenodd\" fill=\"#66cc99\" stroke=\"#555555\" stroke-width=\"0.06126131520000001\" opacity=\"0.6\" d=\"M -92.63780799999999,44.369056 L -92.63781281527332,44.36895798285967 L -92.6378272147196,44.368860909677984 L -92.63785105966427,44.368765715322745 L -92.63788412046749,44.36867331656764 L -92.63792607873565,44.36858460326317 L -92.63797653038769,44.36850042976698 L -92.63803498954664,44.368421606715835 L -92.6381008932188,44.368348893218815 L -92.63817360671584,44.368282989546636 L -92.63825242976698,44.3682245303877 L -92.63833660326317,44.36817407873565 L -92.63842531656763,44.368132120467486 L -92.63851771532275,44.36809905966427 L -92.63861290967799,44.368075214719596 L -92.63870998285967,44.36806081527333 L -92.638808,44.368056 L -92.63890601714033,44.36806081527333 L -92.639003090322,44.368075214719596 L -92.63909828467725,44.36809905966427 L -92.63919068343236,44.368132120467486 L -92.63927939673682,44.36817407873565 L -92.63936357023302,44.3682245303877 L -92.63944239328416,44.368282989546636 L -92.63951510678119,44.368348893218815 L -92.63958101045336,44.368421606715835 L -92.6396394696123,44.36850042976698 L -92.63968992126435,44.36858460326317 L -92.6397318795325,44.36867331656764 L -92.63976494033572,44.368765715322745 L -92.6397887852804,44.368860909677984 L -92.63980318472667,44.36895798285967 L -92.639808,44.369056 L -92.63980318472667,44.36915401714033 L -92.6397887852804,44.36925109032202 L -92.63976494033572,44.369346284677256 L -92.6397318795325,44.369438683432364 L -92.63968992126435,44.36952739673683 L -92.6396394696123,44.36961157023302 L -92.63958101045336,44.369690393284166 L -92.63951510678119,44.369763106781186 L -92.63944239328416,44.369829010453365 L -92.63936357023302,44.3698874696123 L -92.63927939673682,44.36993792126435 L -92.63919068343236,44.369979879532515 L -92.63909828467725,44.370012940335734 L -92.639003090322,44.370036785280405 L -92.63890601714033,44.37005118472667 L -92.638808,44.370056 L -92.63870998285967,44.37005118472667 L -92.63861290967799,44.370036785280405 L -92.63851771532275,44.370012940335734 L -92.63842531656763,44.369979879532515 L -92.63833660326317,44.36993792126435 L -92.63825242976698,44.3698874696123 L -92.63817360671584,44.369829010453365 L -92.6381008932188,44.369763106781186 L -92.63803498954664,44.369690393284166 L -92.63797653038769,44.36961157023302 L -92.63792607873565,44.36952739673683 L -92.63788412046749,44.369438683432364 L -92.63785105966427,44.369346284677256 L -92.6378272147196,44.36925109032202 L -92.63781281527332,44.36915401714033 L -92.63780799999999,44.369056 z\" /><path fill-rule=\"evenodd\" fill=\"#66cc99\" stroke=\"#555555\" stroke-width=\"0.06126131520000001\" opacity=\"0.6\" d=\"M -92.639792,44.235694 L -92.63979681527333,44.23559598285967 L -92.6398112147196,44.235498909677986 L -92.63983505966428,44.23540371532275 L -92.6398681204675,44.23531131656764 L -92.63991007873565,44.235222603263175 L -92.6399605303877,44.235138429766984 L -92.64001898954665,44.235059606715836 L -92.64008489321881,44.23498689321882 L -92.64015760671585,44.23492098954664 L -92.64023642976699,44.2348625303877 L -92.64032060326318,44.23481207873565 L -92.64040931656764,44.23477012046749 L -92.64050171532276,44.23473705966427 L -92.640596909678,44.2347132147196 L -92.64069398285967,44.23469881527333 L -92.640792,44.234694000000005 L -92.64089001714034,44.23469881527333 L -92.64098709032201,44.2347132147196 L -92.64108228467725,44.23473705966427 L -92.64117468343237,44.23477012046749 L -92.64126339673683,44.23481207873565 L -92.64134757023302,44.2348625303877 L -92.64142639328416,44.23492098954664 L -92.6414991067812,44.23498689321882 L -92.64156501045336,44.235059606715836 L -92.64162346961231,44.235138429766984 L -92.64167392126436,44.235222603263175 L -92.64171587953251,44.23531131656764 L -92.64174894033573,44.23540371532275 L -92.64177278528041,44.235498909677986 L -92.64178718472668,44.23559598285967 L -92.64179200000001,44.235694 L -92.64178718472668,44.235792017140334 L -92.64177278528041,44.23588909032202 L -92.64174894033573,44.23598428467726 L -92.64171587953251,44.236076683432366 L -92.64167392126436,44.23616539673683 L -92.64162346961231,44.23624957023302 L -92.64156501045336,44.23632839328417 L -92.6414991067812,44.23640110678119 L -92.64142639328416,44.23646701045337 L -92.64134757023302,44.2365254696123 L -92.64126339673683,44.236575921264354 L -92.64117468343237,44.23661787953252 L -92.64108228467725,44.236650940335736 L -92.64098709032201,44.23667478528041 L -92.64089001714034,44.23668918472667 L -92.640792,44.236694 L -92.64069398285967,44.23668918472667 L -92.640596909678,44.23667478528041 L -92.64050171532276,44.236650940335736 L -92.64040931656764,44.23661787953252 L -92.64032060326318,44.236575921264354 L -92.64023642976699,44.2365254696123 L -92.64015760671585,44.23646701045337 L -92.64008489321881,44.23640110678119 L -92.64001898954665,44.23632839328417 L -92.6399605303877,44.23624957023302 L -92.63991007873565,44.23616539673683 L -92.6398681204675,44.236076683432366 L -92.63983505966428,44.23598428467726 L -92.6398112147196,44.23588909032202 L -92.63979681527333,44.235792017140334 L -92.639792,44.235694 z\" /><path fill-rule=\"evenodd\" fill=\"#66cc99\" stroke=\"#555555\" stroke-width=\"0.06126131520000001\" opacity=\"0.6\" d=\"M -92.640092,44.281975 L -92.64009681527332,44.28187698285967 L -92.6401112147196,44.28177990967799 L -92.64013505966427,44.28168471532275 L -92.6401681204675,44.28159231656764 L -92.64021007873565,44.281503603263175 L -92.64026053038769,44.281419429766984 L -92.64031898954664,44.28134060671584 L -92.64038489321881,44.28126789321882 L -92.64045760671584,44.28120198954664 L -92.64053642976698,44.2811435303877 L -92.64062060326317,44.28109307873565 L -92.64070931656764,44.28105112046749 L -92.64080171532275,44.28101805966427 L -92.64089690967799,44.2809942147196 L -92.64099398285967,44.280979815273334 L -92.641092,44.280975000000005 L -92.64119001714033,44.280979815273334 L -92.64128709032201,44.2809942147196 L -92.64138228467725,44.28101805966427 L -92.64147468343236,44.28105112046749 L -92.64156339673683,44.28109307873565 L -92.64164757023302,44.2811435303877 L -92.64172639328416,44.28120198954664 L -92.64179910678119,44.28126789321882 L -92.64186501045336,44.28134060671584 L -92.64192346961231,44.281419429766984 L -92.64197392126435,44.281503603263175 L -92.64201587953251,44.28159231656764 L -92.64204894033573,44.28168471532275 L -92.6420727852804,44.28177990967799 L -92.64208718472668,44.28187698285967 L -92.642092,44.281975 L -92.64208718472668,44.282073017140334 L -92.6420727852804,44.28217009032202 L -92.64204894033573,44.28226528467726 L -92.64201587953251,44.282357683432366 L -92.64197392126435,44.28244639673683 L -92.64192346961231,44.28253057023302 L -92.64186501045336,44.28260939328417 L -92.64179910678119,44.28268210678119 L -92.64172639328416,44.28274801045337 L -92.64164757023302,44.282806469612304 L -92.64156339673683,44.282856921264354 L -92.64147468343236,44.28289887953252 L -92.64138228467725,44.282931940335736 L -92.64128709032201,44.28295578528041 L -92.64119001714033,44.28297018472667 L -92.641092,44.282975 L -92.64099398285967,44.28297018472667 L -92.64089690967799,44.28295578528041 L -92.64080171532275,44.282931940335736 L -92.64070931656764,44.28289887953252 L -92.64062060326317,44.282856921264354 L -92.64053642976698,44.282806469612304 L -92.64045760671584,44.28274801045337 L -92.64038489321881,44.28268210678119 L -92.64031898954664,44.28260939328417 L -92.64026053038769,44.28253057023302 L -92.64021007873565,44.28244639673683 L -92.6401681204675,44.282357683432366 L -92.64013505966427,44.28226528467726 L -92.6401112147196,44.28217009032202 L -92.64009681527332,44.282073017140334 L -92.640092,44.281975 z\" /><path fill-rule=\"evenodd\" fill=\"#66cc99\" stroke=\"#555555\" stroke-width=\"0.06126131520000001\" opacity=\"0.6\" d=\"M -92.650567,44.208181 L -92.65057181527332,44.20808298285967 L -92.6505862147196,44.20798590967799 L -92.65061005966427,44.20789071532275 L -92.65064312046749,44.20779831656764 L -92.65068507873565,44.207709603263176 L -92.65073553038769,44.207625429766985 L -92.65079398954664,44.20754660671584 L -92.65085989321881,44.20747389321882 L -92.65093260671584,44.20740798954664 L -92.65101142976698,44.2073495303877 L -92.65109560326317,44.20729907873565 L -92.65118431656764,44.20725712046749 L -92.65127671532275,44.20722405966427 L -92.65137190967799,44.2072002147196 L -92.65146898285967,44.207185815273334 L -92.651567,44.207181000000006 L -92.65166501714033,44.207185815273334 L -92.65176209032201,44.2072002147196 L -92.65185728467725,44.20722405966427 L -92.65194968343236,44.20725712046749 L -92.65203839673683,44.20729907873565 L -92.65212257023302,44.2073495303877 L -92.65220139328416,44.20740798954664 L -92.65227410678119,44.20747389321882 L -92.65234001045336,44.20754660671584 L -92.65239846961231,44.207625429766985 L -92.65244892126435,44.207709603263176 L -92.65249087953251,44.20779831656764 L -92.65252394033573,44.20789071532275 L -92.6525477852804,44.20798590967799 L -92.65256218472668,44.20808298285967 L -92.652567,44.208181 L -92.65256218472668,44.208279017140335 L -92.6525477852804,44.20837609032202 L -92.65252394033573,44.20847128467726 L -92.65249087953251,44.20856368343237 L -92.65244892126435,44.20865239673683 L -92.65239846961231,44.20873657023302 L -92.65234001045336,44.20881539328417 L -92.65227410678119,44.20888810678119 L -92.65220139328416,44.20895401045337 L -92.65212257023302,44.209012469612304 L -92.65203839673683,44.209062921264355 L -92.65194968343236,44.20910487953252 L -92.65185728467725,44.20913794033574 L -92.65176209032201,44.20916178528041 L -92.65166501714033,44.20917618472667 L -92.651567,44.209181 L -92.65146898285967,44.20917618472667 L -92.65137190967799,44.20916178528041 L -92.65127671532275,44.20913794033574 L -92.65118431656764,44.20910487953252 L -92.65109560326317,44.209062921264355 L -92.65101142976698,44.209012469612304 L -92.65093260671584,44.20895401045337 L -92.65085989321881,44.20888810678119 L -92.65079398954664,44.20881539328417 L -92.65073553038769,44.20873657023302 L -92.65068507873565,44.20865239673683 L -92.65064312046749,44.20856368343237 L -92.65061005966427,44.20847128467726 L -92.6505862147196,44.20837609032202 L -92.65057181527332,44.208279017140335 L -92.650567,44.208181 z\" /><path fill-rule=\"evenodd\" fill=\"#66cc99\" stroke=\"#555555\" stroke-width=\"0.06126131520000001\" opacity=\"0.6\" d=\"M -92.67034699999999,44.439222 L -92.67035181527332,44.43912398285967 L -92.67036621471959,44.439026909677985 L -92.67039005966427,44.438931715322745 L -92.67042312046749,44.43883931656764 L -92.67046507873565,44.43875060326317 L -92.67051553038769,44.43866642976698 L -92.67057398954664,44.438587606715835 L -92.6706398932188,44.438514893218816 L -92.67071260671584,44.438448989546636 L -92.67079142976698,44.4383905303877 L -92.67087560326317,44.43834007873565 L -92.67096431656763,44.438298120467486 L -92.67105671532275,44.43826505966427 L -92.67115190967799,44.438241214719596 L -92.67124898285967,44.43822681527333 L -92.671347,44.438222 L -92.67144501714033,44.43822681527333 L -92.671542090322,44.438241214719596 L -92.67163728467725,44.43826505966427 L -92.67172968343236,44.438298120467486 L -92.67181839673682,44.43834007873565 L -92.67190257023302,44.4383905303877 L -92.67198139328416,44.438448989546636 L -92.67205410678119,44.438514893218816 L -92.67212001045336,44.438587606715835 L -92.6721784696123,44.43866642976698 L -92.67222892126435,44.43875060326317 L -92.6722708795325,44.43883931656764 L -92.67230394033572,44.438931715322745 L -92.6723277852804,44.439026909677985 L -92.67234218472667,44.43912398285967 L -92.672347,44.439222 L -92.67234218472667,44.43932001714033 L -92.6723277852804,44.43941709032202 L -92.67230394033572,44.43951228467726 L -92.6722708795325,44.439604683432364 L -92.67222892126435,44.43969339673683 L -92.6721784696123,44.43977757023302 L -92.67212001045336,44.43985639328417 L -92.67205410678119,44.439929106781186 L -92.67198139328416,44.439995010453366 L -92.67190257023302,44.4400534696123 L -92.67181839673682,44.44010392126435 L -92.67172968343236,44.440145879532515 L -92.67163728467725,44.440178940335734 L -92.671542090322,44.440202785280405 L -92.67144501714033,44.44021718472667 L -92.671347,44.440222 L -92.67124898285967,44.44021718472667 L -92.67115190967799,44.440202785280405 L -92.67105671532275,44.440178940335734 L -92.67096431656763,44.440145879532515 L -92.67087560326317,44.44010392126435 L -92.67079142976698,44.4400534696123 L -92.67071260671584,44.439995010453366 L -92.6706398932188,44.439929106781186 L -92.67057398954664,44.43985639328417 L -92.67051553038769,44.43977757023302 L -92.67046507873565,44.43969339673683 L -92.67042312046749,44.439604683432364 L -92.67039005966427,44.43951228467726 L -92.67036621471959,44.43941709032202 L -92.67035181527332,44.43932001714033 L -92.67034699999999,44.439222 z\" /><path fill-rule=\"evenodd\" fill=\"#66cc99\" stroke=\"#555555\" stroke-width=\"0.06126131520000001\" opacity=\"0.6\" d=\"M -92.670403,44.292431 L -92.67040781527332,44.29233298285967 L -92.6704222147196,44.292235909677984 L -92.67044605966427,44.292140715322745 L -92.67047912046749,44.29204831656764 L -92.67052107873565,44.29195960326317 L -92.67057153038769,44.29187542976698 L -92.67062998954664,44.291796606715835 L -92.6706958932188,44.291723893218816 L -92.67076860671584,44.291657989546636 L -92.67084742976698,44.2915995303877 L -92.67093160326317,44.29154907873565 L -92.67102031656763,44.291507120467486 L -92.67111271532275,44.29147405966427 L -92.67120790967799,44.291450214719596 L -92.67130498285967,44.29143581527333 L -92.671403,44.291431 L -92.67150101714033,44.29143581527333 L -92.67159809032201,44.291450214719596 L -92.67169328467725,44.29147405966427 L -92.67178568343236,44.291507120467486 L -92.67187439673683,44.29154907873565 L -92.67195857023302,44.2915995303877 L -92.67203739328416,44.291657989546636 L -92.67211010678119,44.291723893218816 L -92.67217601045336,44.291796606715835 L -92.6722344696123,44.29187542976698 L -92.67228492126435,44.29195960326317 L -92.6723268795325,44.29204831656764 L -92.67235994033572,44.292140715322745 L -92.6723837852804,44.292235909677984 L -92.67239818472667,44.29233298285967 L -92.672403,44.292431 L -92.67239818472667,44.29252901714033 L -92.6723837852804,44.29262609032202 L -92.67235994033572,44.292721284677256 L -92.6723268795325,44.292813683432364 L -92.67228492126435,44.29290239673683 L -92.6722344696123,44.29298657023302 L -92.67217601045336,44.29306539328417 L -92.67211010678119,44.293138106781186 L -92.67203739328416,44.293204010453366 L -92.67195857023302,44.2932624696123 L -92.67187439673683,44.29331292126435 L -92.67178568343236,44.293354879532515 L -92.67169328467725,44.293387940335734 L -92.67159809032201,44.293411785280405 L -92.67150101714033,44.29342618472667 L -92.671403,44.293431 L -92.67130498285967,44.29342618472667 L -92.67120790967799,44.293411785280405 L -92.67111271532275,44.293387940335734 L -92.67102031656763,44.293354879532515 L -92.67093160326317,44.29331292126435 L -92.67084742976698,44.2932624696123 L -92.67076860671584,44.293204010453366 L -92.6706958932188,44.293138106781186 L -92.67062998954664,44.29306539328417 L -92.67057153038769,44.29298657023302 L -92.67052107873565,44.29290239673683 L -92.67047912046749,44.292813683432364 L -92.67044605966427,44.292721284677256 L -92.6704222147196,44.29262609032202 L -92.67040781527332,44.29252901714033 L -92.670403,44.292431 z\" /><path fill-rule=\"evenodd\" fill=\"#66cc99\" stroke=\"#555555\" stroke-width=\"0.06126131520000001\" opacity=\"0.6\" d=\"M -92.677167,44.051522 L -92.67717181527333,44.05142398285967 L -92.6771862147196,44.05132690967798 L -92.67721005966428,44.05123171532274 L -92.6772431204675,44.051139316567635 L -92.67728507873565,44.05105060326317 L -92.6773355303877,44.05096642976698 L -92.67739398954664,44.05088760671583 L -92.67745989321881,44.05081489321881 L -92.67753260671584,44.05074898954663 L -92.67761142976698,44.0506905303877 L -92.67769560326317,44.05064007873565 L -92.67778431656764,44.050598120467484 L -92.67787671532275,44.050565059664265 L -92.67797190967799,44.050541214719594 L -92.67806898285967,44.05052681527333 L -92.678167,44.050522 L -92.67826501714033,44.05052681527333 L -92.67836209032201,44.050541214719594 L -92.67845728467725,44.050565059664265 L -92.67854968343237,44.050598120467484 L -92.67863839673683,44.05064007873565 L -92.67872257023302,44.0506905303877 L -92.67880139328416,44.05074898954663 L -92.6788741067812,44.05081489321881 L -92.67894001045336,44.05088760671583 L -92.67899846961231,44.05096642976698 L -92.67904892126435,44.05105060326317 L -92.67909087953251,44.051139316567635 L -92.67912394033573,44.05123171532274 L -92.6791477852804,44.05132690967798 L -92.67916218472668,44.05142398285967 L -92.679167,44.051522 L -92.67916218472668,44.05162001714033 L -92.6791477852804,44.051717090322015 L -92.67912394033573,44.051812284677254 L -92.67909087953251,44.05190468343236 L -92.67904892126435,44.051993396736826 L -92.67899846961231,44.05207757023302 L -92.67894001045336,44.052156393284164 L -92.6788741067812,44.05222910678118 L -92.67880139328416,44.05229501045336 L -92.67872257023302,44.0523534696123 L -92.67863839673683,44.05240392126435 L -92.67854968343237,44.05244587953251 L -92.67845728467725,44.05247894033573 L -92.67836209032201,44.0525027852804 L -92.67826501714033,44.05251718472667 L -92.678167,44.052521999999996 L -92.67806898285967,44.05251718472667 L -92.67797190967799,44.0525027852804 L -92.67787671532275,44.05247894033573 L -92.67778431656764,44.05244587953251 L -92.67769560326317,44.05240392126435 L -92.67761142976698,44.0523534696123 L -92.67753260671584,44.05229501045336 L -92.67745989321881,44.05222910678118 L -92.67739398954664,44.052156393284164 L -92.6773355303877,44.05207757023302 L -92.67728507873565,44.051993396736826 L -92.6772431204675,44.05190468343236 L -92.67721005966428,44.051812284677254 L -92.6771862147196,44.051717090322015 L -92.67717181527333,44.05162001714033 L -92.677167,44.051522 z\" /><path fill-rule=\"evenodd\" fill=\"#66cc99\" stroke=\"#555555\" stroke-width=\"0.06126131520000001\" opacity=\"0.6\" d=\"M -92.68822499999999,44.610958 L -92.68822981527332,44.610859982859665 L -92.68824421471959,44.61076290967798 L -92.68826805966427,44.61066771532274 L -92.68830112046749,44.61057531656763 L -92.68834307873564,44.61048660326317 L -92.68839353038769,44.61040242976698 L -92.68845198954664,44.61032360671583 L -92.6885178932188,44.61025089321881 L -92.68859060671583,44.61018498954663 L -92.68866942976697,44.610126530387696 L -92.68875360326317,44.610076078735645 L -92.68884231656763,44.61003412046748 L -92.68893471532274,44.61000105966426 L -92.68902990967798,44.60997721471959 L -92.68912698285966,44.60996281527333 L -92.689225,44.609958 L -92.68932301714032,44.60996281527333 L -92.689420090322,44.60997721471959 L -92.68951528467724,44.61000105966426 L -92.68960768343236,44.61003412046748 L -92.68969639673682,44.610076078735645 L -92.68978057023301,44.610126530387696 L -92.68985939328415,44.61018498954663 L -92.68993210678119,44.61025089321881 L -92.68999801045335,44.61032360671583 L -92.6900564696123,44.61040242976698 L -92.69010692126434,44.61048660326317 L -92.6901488795325,44.61057531656763 L -92.69018194033572,44.61066771532274 L -92.6902057852804,44.61076290967798 L -92.69022018472667,44.610859982859665 L -92.690225,44.610958 L -92.69022018472667,44.61105601714033 L -92.6902057852804,44.61115309032201 L -92.69018194033572,44.61124828467725 L -92.6901488795325,44.61134068343236 L -92.69010692126434,44.611429396736824 L -92.6900564696123,44.611513570233015 L -92.68999801045335,44.61159239328416 L -92.68993210678119,44.61166510678118 L -92.68985939328415,44.61173101045336 L -92.68978057023301,44.6117894696123 L -92.68969639673682,44.61183992126435 L -92.68960768343236,44.61188187953251 L -92.68951528467724,44.61191494033573 L -92.689420090322,44.6119387852804 L -92.68932301714032,44.611953184726666 L -92.689225,44.611957999999994 L -92.68912698285966,44.611953184726666 L -92.68902990967798,44.6119387852804 L -92.68893471532274,44.61191494033573 L -92.68884231656763,44.61188187953251 L -92.68875360326317,44.61183992126435 L -92.68866942976697,44.6117894696123 L -92.68859060671583,44.61173101045336 L -92.6885178932188,44.61166510678118 L -92.68845198954664,44.61159239328416 L -92.68839353038769,44.611513570233015 L -92.68834307873564,44.611429396736824 L -92.68830112046749,44.61134068343236 L -92.68826805966427,44.61124828467725 L -92.68824421471959,44.61115309032201 L -92.68822981527332,44.61105601714033 L -92.68822499999999,44.610958 z\" /><path fill-rule=\"evenodd\" fill=\"#66cc99\" stroke=\"#555555\" stroke-width=\"0.06126131520000001\" opacity=\"0.6\" d=\"M -92.710267,44.094361 L -92.71027181527333,44.09426298285967 L -92.7102862147196,44.09416590967798 L -92.71031005966428,44.094070715322744 L -92.7103431204675,44.093978316567636 L -92.71038507873565,44.09388960326317 L -92.7104355303877,44.09380542976698 L -92.71049398954665,44.09372660671583 L -92.71055989321881,44.093653893218814 L -92.71063260671585,44.093587989546634 L -92.71071142976699,44.0935295303877 L -92.71079560326318,44.09347907873565 L -92.71088431656764,44.093437120467485 L -92.71097671532276,44.093404059664266 L -92.711071909678,44.093380214719595 L -92.71116898285968,44.09336581527333 L -92.711267,44.093361 L -92.71136501714034,44.09336581527333 L -92.71146209032202,44.093380214719595 L -92.71155728467726,44.093404059664266 L -92.71164968343237,44.093437120467485 L -92.71173839673683,44.09347907873565 L -92.71182257023302,44.0935295303877 L -92.71190139328417,44.093587989546634 L -92.7119741067812,44.093653893218814 L -92.71204001045336,44.09372660671583 L -92.71209846961231,44.09380542976698 L -92.71214892126436,44.09388960326317 L -92.71219087953251,44.093978316567636 L -92.71222394033573,44.094070715322744 L -92.71224778528041,44.09416590967798 L -92.71226218472668,44.09426298285967 L -92.71226700000001,44.094361 L -92.71226218472668,44.09445901714033 L -92.71224778528041,44.094556090322016 L -92.71222394033573,44.094651284677255 L -92.71219087953251,44.09474368343236 L -92.71214892126436,44.09483239673683 L -92.71209846961231,44.09491657023302 L -92.71204001045336,44.094995393284165 L -92.7119741067812,44.095068106781184 L -92.71190139328417,44.095134010453364 L -92.71182257023302,44.0951924696123 L -92.71173839673683,44.09524292126435 L -92.71164968343237,44.095284879532514 L -92.71155728467726,44.09531794033573 L -92.71146209032202,44.095341785280404 L -92.71136501714034,44.09535618472667 L -92.711267,44.095361 L -92.71116898285968,44.09535618472667 L -92.711071909678,44.095341785280404 L -92.71097671532276,44.09531794033573 L -92.71088431656764,44.095284879532514 L -92.71079560326318,44.09524292126435 L -92.71071142976699,44.0951924696123 L -92.71063260671585,44.095134010453364 L -92.71055989321881,44.095068106781184 L -92.71049398954665,44.094995393284165 L -92.7104355303877,44.09491657023302 L -92.71038507873565,44.09483239673683 L -92.7103431204675,44.09474368343236 L -92.71031005966428,44.094651284677255 L -92.7102862147196,44.094556090322016 L -92.71027181527333,44.09445901714033 L -92.710267,44.094361 z\" /><path fill-rule=\"evenodd\" fill=\"#66cc99\" stroke=\"#555555\" stroke-width=\"0.06126131520000001\" opacity=\"0.6\" d=\"M -92.711958,44.478119 L -92.71196281527332,44.47802098285967 L -92.7119772147196,44.47792390967798 L -92.71200105966427,44.477828715322744 L -92.7120341204675,44.477736316567636 L -92.71207607873565,44.47764760326317 L -92.71212653038769,44.47756342976698 L -92.71218498954664,44.477484606715834 L -92.71225089321881,44.477411893218814 L -92.71232360671584,44.477345989546635 L -92.71240242976698,44.4772875303877 L -92.71248660326317,44.47723707873565 L -92.71257531656764,44.477195120467485 L -92.71266771532275,44.477162059664266 L -92.71276290967799,44.477138214719595 L -92.71285998285967,44.47712381527333 L -92.712958,44.477119 L -92.71305601714033,44.47712381527333 L -92.71315309032201,44.477138214719595 L -92.71324828467725,44.477162059664266 L -92.71334068343236,44.477195120467485 L -92.71342939673683,44.47723707873565 L -92.71351357023302,44.4772875303877 L -92.71359239328416,44.477345989546635 L -92.71366510678119,44.477411893218814 L -92.71373101045336,44.477484606715834 L -92.71378946961231,44.47756342976698 L -92.71383992126435,44.47764760326317 L -92.71388187953251,44.477736316567636 L -92.71391494033573,44.477828715322744 L -92.7139387852804,44.47792390967798 L -92.71395318472668,44.47802098285967 L -92.713958,44.478119 L -92.71395318472668,44.47821701714033 L -92.7139387852804,44.478314090322016 L -92.71391494033573,44.478409284677255 L -92.71388187953251,44.47850168343236 L -92.71383992126435,44.47859039673683 L -92.71378946961231,44.47867457023302 L -92.71373101045336,44.478753393284165 L -92.71366510678119,44.478826106781185 L -92.71359239328416,44.478892010453364 L -92.71351357023302,44.4789504696123 L -92.71342939673683,44.47900092126435 L -92.71334068343236,44.479042879532514 L -92.71324828467725,44.47907594033573 L -92.71315309032201,44.479099785280404 L -92.71305601714033,44.47911418472667 L -92.712958,44.479119 L -92.71285998285967,44.47911418472667 L -92.71276290967799,44.479099785280404 L -92.71266771532275,44.47907594033573 L -92.71257531656764,44.479042879532514 L -92.71248660326317,44.47900092126435 L -92.71240242976698,44.4789504696123 L -92.71232360671584,44.478892010453364 L -92.71225089321881,44.478826106781185 L -92.71218498954664,44.478753393284165 L -92.71212653038769,44.47867457023302 L -92.71207607873565,44.47859039673683 L -92.7120341204675,44.47850168343236 L -92.71200105966427,44.478409284677255 L -92.7119772147196,44.478314090322016 L -92.71196281527332,44.47821701714033 L -92.711958,44.478119 z\" /><path fill-rule=\"evenodd\" fill=\"#66cc99\" stroke=\"#555555\" stroke-width=\"0.06126131520000001\" opacity=\"0.6\" d=\"M -92.723669,44.179006 L -92.72367381527333,44.17890798285967 L -92.7236882147196,44.178810909677985 L -92.72371205966428,44.178715715322745 L -92.7237451204675,44.17862331656764 L -92.72378707873565,44.178534603263174 L -92.7238375303877,44.17845042976698 L -92.72389598954665,44.178371606715835 L -92.72396189321881,44.178298893218816 L -92.72403460671585,44.178232989546636 L -92.72411342976699,44.1781745303877 L -92.72419760326318,44.17812407873565 L -92.72428631656764,44.17808212046749 L -92.72437871532276,44.17804905966427 L -92.724473909678,44.1780252147196 L -92.72457098285967,44.17801081527333 L -92.724669,44.178006 L -92.72476701714034,44.17801081527333 L -92.72486409032201,44.1780252147196 L -92.72495928467725,44.17804905966427 L -92.72505168343237,44.17808212046749 L -92.72514039673683,44.17812407873565 L -92.72522457023302,44.1781745303877 L -92.72530339328416,44.178232989546636 L -92.7253761067812,44.178298893218816 L -92.72544201045336,44.178371606715835 L -92.72550046961231,44.17845042976698 L -92.72555092126436,44.178534603263174 L -92.72559287953251,44.17862331656764 L -92.72562594033573,44.178715715322745 L -92.72564978528041,44.178810909677985 L -92.72566418472668,44.17890798285967 L -92.72566900000001,44.179006 L -92.72566418472668,44.17910401714033 L -92.72564978528041,44.17920109032202 L -92.72562594033573,44.17929628467726 L -92.72559287953251,44.179388683432364 L -92.72555092126436,44.17947739673683 L -92.72550046961231,44.17956157023302 L -92.72544201045336,44.17964039328417 L -92.7253761067812,44.179713106781186 L -92.72530339328416,44.179779010453366 L -92.72522457023302,44.1798374696123 L -92.72514039673683,44.17988792126435 L -92.72505168343237,44.179929879532516 L -92.72495928467725,44.179962940335734 L -92.72486409032201,44.179986785280406 L -92.72476701714034,44.18000118472667 L -92.724669,44.180006 L -92.72457098285967,44.18000118472667 L -92.724473909678,44.179986785280406 L -92.72437871532276,44.179962940335734 L -92.72428631656764,44.179929879532516 L -92.72419760326318,44.17988792126435 L -92.72411342976699,44.1798374696123 L -92.72403460671585,44.179779010453366 L -92.72396189321881,44.179713106781186 L -92.72389598954665,44.17964039328417 L -92.7238375303877,44.17956157023302 L -92.72378707873565,44.17947739673683 L -92.7237451204675,44.179388683432364 L -92.72371205966428,44.17929628467726 L -92.7236882147196,44.17920109032202 L -92.72367381527333,44.17910401714033 L -92.723669,44.179006 z\" /><path fill-rule=\"evenodd\" fill=\"#66cc99\" stroke=\"#555555\" stroke-width=\"0.06126131520000001\" opacity=\"0.6\" d=\"M -92.751167,45.123 L -92.75117181527332,45.122901982859666 L -92.7511862147196,45.12280490967798 L -92.75121005966427,45.12270971532274 L -92.75124312046749,45.122617316567634 L -92.75128507873565,45.12252860326317 L -92.75133553038769,45.12244442976698 L -92.75139398954664,45.12236560671583 L -92.75145989321881,45.12229289321881 L -92.75153260671584,45.12222698954663 L -92.75161142976698,45.1221685303877 L -92.75169560326317,45.122118078735646 L -92.75178431656764,45.12207612046748 L -92.75187671532275,45.122043059664264 L -92.75197190967799,45.12201921471959 L -92.75206898285967,45.12200481527333 L -92.752167,45.122 L -92.75226501714033,45.12200481527333 L -92.75236209032201,45.12201921471959 L -92.75245728467725,45.122043059664264 L -92.75254968343236,45.12207612046748 L -92.75263839673683,45.122118078735646 L -92.75272257023302,45.1221685303877 L -92.75280139328416,45.12222698954663 L -92.75287410678119,45.12229289321881 L -92.75294001045336,45.12236560671583 L -92.75299846961231,45.12244442976698 L -92.75304892126435,45.12252860326317 L -92.75309087953251,45.122617316567634 L -92.75312394033573,45.12270971532274 L -92.7531477852804,45.12280490967798 L -92.75316218472668,45.122901982859666 L -92.753167,45.123 L -92.75316218472668,45.12309801714033 L -92.7531477852804,45.123195090322014 L -92.75312394033573,45.12329028467725 L -92.75309087953251,45.12338268343236 L -92.75304892126435,45.123471396736825 L -92.75299846961231,45.123555570233016 L -92.75294001045336,45.12363439328416 L -92.75287410678119,45.12370710678118 L -92.75280139328416,45.12377301045336 L -92.75272257023302,45.1238314696123 L -92.75263839673683,45.12388192126435 L -92.75254968343236,45.12392387953251 L -92.75245728467725,45.12395694033573 L -92.75236209032201,45.1239807852804 L -92.75226501714033,45.12399518472667 L -92.752167,45.123999999999995 L -92.75206898285967,45.12399518472667 L -92.75197190967799,45.1239807852804 L -92.75187671532275,45.12395694033573 L -92.75178431656764,45.12392387953251 L -92.75169560326317,45.12388192126435 L -92.75161142976698,45.1238314696123 L -92.75153260671584,45.12377301045336 L -92.75145989321881,45.12370710678118 L -92.75139398954664,45.12363439328416 L -92.75133553038769,45.123555570233016 L -92.75128507873565,45.123471396736825 L -92.75124312046749,45.12338268343236 L -92.75121005966427,45.12329028467725 L -92.7511862147196,45.123195090322014 L -92.75117181527332,45.12309801714033 L -92.751167,45.123 z\" /><path fill-rule=\"evenodd\" fill=\"#66cc99\" stroke=\"#555555\" stroke-width=\"0.06126131520000001\" opacity=\"0.6\" d=\"M -92.75699399999999,44.557297 L -92.75699881527332,44.55719898285967 L -92.75701321471959,44.55710190967798 L -92.75703705966427,44.55700671532274 L -92.75707012046749,44.556914316567635 L -92.75711207873564,44.55682560326317 L -92.75716253038769,44.55674142976698 L -92.75722098954664,44.55666260671583 L -92.7572868932188,44.55658989321881 L -92.75735960671584,44.55652398954663 L -92.75743842976698,44.5564655303877 L -92.75752260326317,44.55641507873565 L -92.75761131656763,44.556373120467484 L -92.75770371532275,44.556340059664265 L -92.75779890967799,44.556316214719594 L -92.75789598285967,44.55630181527333 L -92.757994,44.556297 L -92.75809201714033,44.55630181527333 L -92.758189090322,44.556316214719594 L -92.75828428467725,44.556340059664265 L -92.75837668343236,44.556373120467484 L -92.75846539673682,44.55641507873565 L -92.75854957023301,44.5564655303877 L -92.75862839328416,44.55652398954663 L -92.75870110678119,44.55658989321881 L -92.75876701045335,44.55666260671583 L -92.7588254696123,44.55674142976698 L -92.75887592126435,44.55682560326317 L -92.7589178795325,44.556914316567635 L -92.75895094033572,44.55700671532274 L -92.7589747852804,44.55710190967798 L -92.75898918472667,44.55719898285967 L -92.758994,44.557297 L -92.75898918472667,44.55739501714033 L -92.7589747852804,44.557492090322015 L -92.75895094033572,44.557587284677254 L -92.7589178795325,44.55767968343236 L -92.75887592126435,44.557768396736826 L -92.7588254696123,44.55785257023302 L -92.75876701045335,44.557931393284164 L -92.75870110678119,44.55800410678118 L -92.75862839328416,44.55807001045336 L -92.75854957023301,44.5581284696123 L -92.75846539673682,44.55817892126435 L -92.75837668343236,44.55822087953251 L -92.75828428467725,44.55825394033573 L -92.758189090322,44.5582777852804 L -92.75809201714033,44.55829218472667 L -92.757994,44.558296999999996 L -92.75789598285967,44.55829218472667 L -92.75779890967799,44.5582777852804 L -92.75770371532275,44.55825394033573 L -92.75761131656763,44.55822087953251 L -92.75752260326317,44.55817892126435 L -92.75743842976698,44.5581284696123 L -92.75735960671584,44.55807001045336 L -92.7572868932188,44.55800410678118 L -92.75722098954664,44.557931393284164 L -92.75716253038769,44.55785257023302 L -92.75711207873564,44.557768396736826 L -92.75707012046749,44.55767968343236 L -92.75703705966427,44.557587284677254 L -92.75701321471959,44.557492090322015 L -92.75699881527332,44.55739501714033 L -92.75699399999999,44.557297 z\" /><path fill-rule=\"evenodd\" fill=\"#66cc99\" stroke=\"#555555\" stroke-width=\"0.06126131520000001\" opacity=\"0.6\" d=\"M -92.762039,44.400842 L -92.76204381527333,44.400743982859666 L -92.7620582147196,44.40064690967798 L -92.76208205966428,44.40055171532274 L -92.7621151204675,44.400459316567634 L -92.76215707873565,44.40037060326317 L -92.7622075303877,44.40028642976698 L -92.76226598954665,44.40020760671583 L -92.76233189321881,44.40013489321881 L -92.76240460671585,44.40006898954663 L -92.76248342976699,44.400010530387696 L -92.76256760326318,44.399960078735646 L -92.76265631656764,44.39991812046748 L -92.76274871532276,44.399885059664264 L -92.762843909678,44.39986121471959 L -92.76294098285967,44.39984681527333 L -92.763039,44.399842 L -92.76313701714034,44.39984681527333 L -92.76323409032202,44.39986121471959 L -92.76332928467725,44.399885059664264 L -92.76342168343237,44.39991812046748 L -92.76351039673683,44.399960078735646 L -92.76359457023302,44.400010530387696 L -92.76367339328417,44.40006898954663 L -92.7637461067812,44.40013489321881 L -92.76381201045336,44.40020760671583 L -92.76387046961231,44.40028642976698 L -92.76392092126436,44.40037060326317 L -92.76396287953251,44.400459316567634 L -92.76399594033573,44.40055171532274 L -92.76401978528041,44.40064690967798 L -92.76403418472668,44.400743982859666 L -92.76403900000001,44.400842 L -92.76403418472668,44.40094001714033 L -92.76401978528041,44.40103709032201 L -92.76399594033573,44.40113228467725 L -92.76396287953251,44.40122468343236 L -92.76392092126436,44.401313396736825 L -92.76387046961231,44.401397570233016 L -92.76381201045336,44.40147639328416 L -92.7637461067812,44.40154910678118 L -92.76367339328417,44.40161501045336 L -92.76359457023302,44.4016734696123 L -92.76351039673683,44.40172392126435 L -92.76342168343237,44.40176587953251 L -92.76332928467725,44.40179894033573 L -92.76323409032202,44.4018227852804 L -92.76313701714034,44.401837184726666 L -92.763039,44.401841999999995 L -92.76294098285967,44.401837184726666 L -92.762843909678,44.4018227852804 L -92.76274871532276,44.40179894033573 L -92.76265631656764,44.40176587953251 L -92.76256760326318,44.40172392126435 L -92.76248342976699,44.4016734696123 L -92.76240460671585,44.40161501045336 L -92.76233189321881,44.40154910678118 L -92.76226598954665,44.40147639328416 L -92.7622075303877,44.401397570233016 L -92.76215707873565,44.401313396736825 L -92.7621151204675,44.40122468343236 L -92.76208205966428,44.40113228467725 L -92.7620582147196,44.40103709032201 L -92.76204381527333,44.40094001714033 L -92.762039,44.400842 z\" /><path fill-rule=\"evenodd\" fill=\"#66cc99\" stroke=\"#555555\" stroke-width=\"0.06126131520000001\" opacity=\"0.6\" d=\"M -92.765022,44.166175 L -92.76502681527333,44.16607698285967 L -92.7650412147196,44.165979909677986 L -92.76506505966428,44.16588471532275 L -92.7650981204675,44.16579231656764 L -92.76514007873566,44.165703603263175 L -92.7651905303877,44.165619429766984 L -92.76524898954665,44.16554060671584 L -92.76531489321881,44.16546789321882 L -92.76538760671585,44.16540198954664 L -92.76546642976699,44.1653435303877 L -92.76555060326318,44.16529307873565 L -92.76563931656764,44.16525112046749 L -92.76573171532276,44.16521805966427 L -92.765826909678,44.1651942147196 L -92.76592398285968,44.16517981527333 L -92.766022,44.165175000000005 L -92.76612001714034,44.16517981527333 L -92.76621709032202,44.1651942147196 L -92.76631228467726,44.16521805966427 L -92.76640468343237,44.16525112046749 L -92.76649339673683,44.16529307873565 L -92.76657757023303,44.1653435303877 L -92.76665639328417,44.16540198954664 L -92.7667291067812,44.16546789321882 L -92.76679501045336,44.16554060671584 L -92.76685346961231,44.165619429766984 L -92.76690392126436,44.165703603263175 L -92.76694587953251,44.16579231656764 L -92.76697894033573,44.16588471532275 L -92.76700278528041,44.165979909677986 L -92.76701718472668,44.16607698285967 L -92.76702200000001,44.166175 L -92.76701718472668,44.166273017140334 L -92.76700278528041,44.16637009032202 L -92.76697894033573,44.16646528467726 L -92.76694587953251,44.166557683432366 L -92.76690392126436,44.16664639673683 L -92.76685346961231,44.16673057023302 L -92.76679501045336,44.16680939328417 L -92.7667291067812,44.16688210678119 L -92.76665639328417,44.16694801045337 L -92.76657757023303,44.1670064696123 L -92.76649339673683,44.167056921264354 L -92.76640468343237,44.16709887953252 L -92.76631228467726,44.167131940335736 L -92.76621709032202,44.16715578528041 L -92.76612001714034,44.16717018472667 L -92.766022,44.167175 L -92.76592398285968,44.16717018472667 L -92.765826909678,44.16715578528041 L -92.76573171532276,44.167131940335736 L -92.76563931656764,44.16709887953252 L -92.76555060326318,44.167056921264354 L -92.76546642976699,44.1670064696123 L -92.76538760671585,44.16694801045337 L -92.76531489321881,44.16688210678119 L -92.76524898954665,44.16680939328417 L -92.7651905303877,44.16673057023302 L -92.76514007873566,44.16664639673683 L -92.7650981204675,44.166557683432366 L -92.76506505966428,44.16646528467726 L -92.7650412147196,44.16637009032202 L -92.76502681527333,44.166273017140334 L -92.765022,44.166175 z\" /><path fill-rule=\"evenodd\" fill=\"#66cc99\" stroke=\"#555555\" stroke-width=\"0.06126131520000001\" opacity=\"0.6\" d=\"M -92.76742499999999,44.134606 L -92.76742981527332,44.13450798285967 L -92.76744421471959,44.13441090967798 L -92.76746805966427,44.13431571532274 L -92.76750112046749,44.134223316567635 L -92.76754307873564,44.13413460326317 L -92.76759353038769,44.13405042976698 L -92.76765198954664,44.13397160671583 L -92.7677178932188,44.13389889321881 L -92.76779060671583,44.13383298954663 L -92.76786942976698,44.1337745303877 L -92.76795360326317,44.133724078735646 L -92.76804231656763,44.13368212046748 L -92.76813471532274,44.133649059664265 L -92.76822990967798,44.13362521471959 L -92.76832698285966,44.13361081527333 L -92.768425,44.133606 L -92.76852301714032,44.13361081527333 L -92.768620090322,44.13362521471959 L -92.76871528467724,44.133649059664265 L -92.76880768343236,44.13368212046748 L -92.76889639673682,44.133724078735646 L -92.76898057023301,44.1337745303877 L -92.76905939328415,44.13383298954663 L -92.76913210678119,44.13389889321881 L -92.76919801045335,44.13397160671583 L -92.7692564696123,44.13405042976698 L -92.76930692126435,44.13413460326317 L -92.7693488795325,44.134223316567635 L -92.76938194033572,44.13431571532274 L -92.7694057852804,44.13441090967798 L -92.76942018472667,44.13450798285967 L -92.769425,44.134606 L -92.76942018472667,44.13470401714033 L -92.7694057852804,44.134801090322014 L -92.76938194033572,44.134896284677254 L -92.7693488795325,44.13498868343236 L -92.76930692126435,44.135077396736826 L -92.7692564696123,44.13516157023302 L -92.76919801045335,44.135240393284164 L -92.76913210678119,44.13531310678118 L -92.76905939328415,44.13537901045336 L -92.76898057023301,44.1354374696123 L -92.76889639673682,44.13548792126435 L -92.76880768343236,44.13552987953251 L -92.76871528467724,44.13556294033573 L -92.768620090322,44.1355867852804 L -92.76852301714032,44.13560118472667 L -92.768425,44.135605999999996 L -92.76832698285966,44.13560118472667 L -92.76822990967798,44.1355867852804 L -92.76813471532274,44.13556294033573 L -92.76804231656763,44.13552987953251 L -92.76795360326317,44.13548792126435 L -92.76786942976698,44.1354374696123 L -92.76779060671583,44.13537901045336 L -92.7677178932188,44.13531310678118 L -92.76765198954664,44.135240393284164 L -92.76759353038769,44.13516157023302 L -92.76754307873564,44.135077396736826 L -92.76750112046749,44.13498868343236 L -92.76746805966427,44.134896284677254 L -92.76744421471959,44.134801090322014 L -92.76742981527332,44.13470401714033 L -92.76742499999999,44.134606 z\" /><path fill-rule=\"evenodd\" fill=\"#66cc99\" stroke=\"#555555\" stroke-width=\"0.06126131520000001\" opacity=\"0.6\" d=\"M -92.777586,43.990772 L -92.77759081527333,43.99067398285967 L -92.7776052147196,43.99057690967798 L -92.77762905966428,43.990481715322744 L -92.7776621204675,43.99038931656764 L -92.77770407873565,43.99030060326317 L -92.7777545303877,43.99021642976698 L -92.77781298954665,43.990137606715834 L -92.77787889321881,43.990064893218815 L -92.77795160671585,43.989998989546635 L -92.77803042976699,43.9899405303877 L -92.77811460326318,43.98989007873565 L -92.77820331656764,43.989848120467485 L -92.77829571532276,43.98981505966427 L -92.778390909678,43.989791214719595 L -92.77848798285967,43.98977681527333 L -92.778586,43.989772 L -92.77868401714034,43.98977681527333 L -92.77878109032201,43.989791214719595 L -92.77887628467725,43.98981505966427 L -92.77896868343237,43.989848120467485 L -92.77905739673683,43.98989007873565 L -92.77914157023302,43.9899405303877 L -92.77922039328416,43.989998989546635 L -92.7792931067812,43.990064893218815 L -92.77935901045336,43.990137606715834 L -92.77941746961231,43.99021642976698 L -92.77946792126436,43.99030060326317 L -92.77950987953251,43.99038931656764 L -92.77954294033573,43.990481715322744 L -92.77956678528041,43.99057690967798 L -92.77958118472668,43.99067398285967 L -92.77958600000001,43.990772 L -92.77958118472668,43.99087001714033 L -92.77956678528041,43.990967090322016 L -92.77954294033573,43.991062284677255 L -92.77950987953251,43.99115468343236 L -92.77946792126436,43.99124339673683 L -92.77941746961231,43.99132757023302 L -92.77935901045336,43.991406393284166 L -92.7792931067812,43.991479106781185 L -92.77922039328416,43.991545010453365 L -92.77914157023302,43.9916034696123 L -92.77905739673683,43.99165392126435 L -92.77896868343237,43.991695879532514 L -92.77887628467725,43.99172894033573 L -92.77878109032201,43.991752785280404 L -92.77868401714034,43.99176718472667 L -92.778586,43.991772 L -92.77848798285967,43.99176718472667 L -92.778390909678,43.991752785280404 L -92.77829571532276,43.99172894033573 L -92.77820331656764,43.991695879532514 L -92.77811460326318,43.99165392126435 L -92.77803042976699,43.9916034696123 L -92.77795160671585,43.991545010453365 L -92.77787889321881,43.991479106781185 L -92.77781298954665,43.991406393284166 L -92.7777545303877,43.99132757023302 L -92.77770407873565,43.99124339673683 L -92.7776621204675,43.99115468343236 L -92.77762905966428,43.991062284677255 L -92.7776052147196,43.990967090322016 L -92.77759081527333,43.99087001714033 L -92.777586,43.990772 z\" /><path fill-rule=\"evenodd\" fill=\"#66cc99\" stroke=\"#555555\" stroke-width=\"0.06126131520000001\" opacity=\"0.6\" d=\"M -92.78014399999999,44.717125 L -92.78014881527332,44.71702698285967 L -92.7801632147196,44.71692990967799 L -92.78018705966427,44.71683471532275 L -92.78022012046749,44.71674231656764 L -92.78026207873565,44.716653603263175 L -92.78031253038769,44.716569429766984 L -92.78037098954664,44.71649060671584 L -92.7804368932188,44.71641789321882 L -92.78050960671584,44.71635198954664 L -92.78058842976698,44.7162935303877 L -92.78067260326317,44.71624307873565 L -92.78076131656763,44.71620112046749 L -92.78085371532275,44.71616805966427 L -92.78094890967799,44.7161442147196 L -92.78104598285967,44.716129815273334 L -92.781144,44.716125000000005 L -92.78124201714033,44.716129815273334 L -92.781339090322,44.7161442147196 L -92.78143428467725,44.71616805966427 L -92.78152668343236,44.71620112046749 L -92.78161539673683,44.71624307873565 L -92.78169957023302,44.7162935303877 L -92.78177839328416,44.71635198954664 L -92.78185110678119,44.71641789321882 L -92.78191701045336,44.71649060671584 L -92.7819754696123,44.716569429766984 L -92.78202592126435,44.716653603263175 L -92.7820678795325,44.71674231656764 L -92.78210094033572,44.71683471532275 L -92.7821247852804,44.71692990967799 L -92.78213918472667,44.71702698285967 L -92.782144,44.717125 L -92.78213918472667,44.717223017140334 L -92.7821247852804,44.71732009032202 L -92.78210094033572,44.71741528467726 L -92.7820678795325,44.717507683432366 L -92.78202592126435,44.71759639673683 L -92.7819754696123,44.71768057023302 L -92.78191701045336,44.71775939328417 L -92.78185110678119,44.71783210678119 L -92.78177839328416,44.71789801045337 L -92.78169957023302,44.717956469612304 L -92.78161539673683,44.718006921264355 L -92.78152668343236,44.71804887953252 L -92.78143428467725,44.718081940335736 L -92.781339090322,44.71810578528041 L -92.78124201714033,44.71812018472667 L -92.781144,44.718125 L -92.78104598285967,44.71812018472667 L -92.78094890967799,44.71810578528041 L -92.78085371532275,44.718081940335736 L -92.78076131656763,44.71804887953252 L -92.78067260326317,44.718006921264355 L -92.78058842976698,44.717956469612304 L -92.78050960671584,44.71789801045337 L -92.7804368932188,44.71783210678119 L -92.78037098954664,44.71775939328417 L -92.78031253038769,44.71768057023302 L -92.78026207873565,44.71759639673683 L -92.78022012046749,44.717507683432366 L -92.78018705966427,44.71741528467726 L -92.7801632147196,44.71732009032202 L -92.78014881527332,44.717223017140334 L -92.78014399999999,44.717125 z\" /><path fill-rule=\"evenodd\" fill=\"#66cc99\" stroke=\"#555555\" stroke-width=\"0.06126131520000001\" opacity=\"0.6\" d=\"M -92.78105,44.427486 L -92.78105481527332,44.42738798285967 L -92.7810692147196,44.427290909677986 L -92.78109305966427,44.427195715322746 L -92.78112612046749,44.42710331656764 L -92.78116807873565,44.427014603263174 L -92.78121853038769,44.42693042976698 L -92.78127698954664,44.426851606715836 L -92.7813428932188,44.42677889321882 L -92.78141560671584,44.42671298954664 L -92.78149442976698,44.4266545303877 L -92.78157860326317,44.42660407873565 L -92.78166731656763,44.42656212046749 L -92.78175971532275,44.42652905966427 L -92.78185490967799,44.4265052147196 L -92.78195198285967,44.42649081527333 L -92.78205,44.426486000000004 L -92.78214801714033,44.42649081527333 L -92.78224509032201,44.4265052147196 L -92.78234028467725,44.42652905966427 L -92.78243268343236,44.42656212046749 L -92.78252139673683,44.42660407873565 L -92.78260557023302,44.4266545303877 L -92.78268439328416,44.42671298954664 L -92.78275710678119,44.42677889321882 L -92.78282301045336,44.426851606715836 L -92.7828814696123,44.42693042976698 L -92.78293192126435,44.427014603263174 L -92.7829738795325,44.42710331656764 L -92.78300694033572,44.427195715322746 L -92.7830307852804,44.427290909677986 L -92.78304518472667,44.42738798285967 L -92.78305,44.427486 L -92.78304518472667,44.42758401714033 L -92.7830307852804,44.42768109032202 L -92.78300694033572,44.42777628467726 L -92.7829738795325,44.427868683432365 L -92.78293192126435,44.42795739673683 L -92.7828814696123,44.42804157023302 L -92.78282301045336,44.42812039328417 L -92.78275710678119,44.42819310678119 L -92.78268439328416,44.42825901045337 L -92.78260557023302,44.4283174696123 L -92.78252139673683,44.42836792126435 L -92.78243268343236,44.428409879532516 L -92.78234028467725,44.428442940335735 L -92.78224509032201,44.428466785280406 L -92.78214801714033,44.42848118472667 L -92.78205,44.428486 L -92.78195198285967,44.42848118472667 L -92.78185490967799,44.428466785280406 L -92.78175971532275,44.428442940335735 L -92.78166731656763,44.428409879532516 L -92.78157860326317,44.42836792126435 L -92.78149442976698,44.4283174696123 L -92.78141560671584,44.42825901045337 L -92.7813428932188,44.42819310678119 L -92.78127698954664,44.42812039328417 L -92.78121853038769,44.42804157023302 L -92.78116807873565,44.42795739673683 L -92.78112612046749,44.427868683432365 L -92.78109305966427,44.42777628467726 L -92.7810692147196,44.42768109032202 L -92.78105481527332,44.42758401714033 L -92.78105,44.427486 z\" /><path fill-rule=\"evenodd\" fill=\"#66cc99\" stroke=\"#555555\" stroke-width=\"0.06126131520000001\" opacity=\"0.6\" d=\"M -92.797958,43.993667 L -92.79796281527332,43.99356898285967 L -92.7979772147196,43.993471909677986 L -92.79800105966427,43.993376715322746 L -92.79803412046749,43.99328431656764 L -92.79807607873565,43.993195603263175 L -92.79812653038769,43.993111429766984 L -92.79818498954664,43.993032606715836 L -92.7982508932188,43.99295989321882 L -92.79832360671584,43.99289398954664 L -92.79840242976698,43.9928355303877 L -92.79848660326317,43.99278507873565 L -92.79857531656764,43.99274312046749 L -92.79866771532275,43.99271005966427 L -92.79876290967799,43.9926862147196 L -92.79885998285967,43.99267181527333 L -92.798958,43.992667000000004 L -92.79905601714033,43.99267181527333 L -92.79915309032201,43.9926862147196 L -92.79924828467725,43.99271005966427 L -92.79934068343236,43.99274312046749 L -92.79942939673683,43.99278507873565 L -92.79951357023302,43.9928355303877 L -92.79959239328416,43.99289398954664 L -92.79966510678119,43.99295989321882 L -92.79973101045336,43.993032606715836 L -92.7997894696123,43.993111429766984 L -92.79983992126435,43.993195603263175 L -92.7998818795325,43.99328431656764 L -92.79991494033573,43.993376715322746 L -92.7999387852804,43.993471909677986 L -92.79995318472668,43.99356898285967 L -92.799958,43.993667 L -92.79995318472668,43.99376501714033 L -92.7999387852804,43.99386209032202 L -92.79991494033573,43.99395728467726 L -92.7998818795325,43.994049683432365 L -92.79983992126435,43.99413839673683 L -92.7997894696123,43.99422257023302 L -92.79973101045336,43.99430139328417 L -92.79966510678119,43.99437410678119 L -92.79959239328416,43.99444001045337 L -92.79951357023302,43.9944984696123 L -92.79942939673683,43.994548921264354 L -92.79934068343236,43.99459087953252 L -92.79924828467725,43.994623940335735 L -92.79915309032201,43.99464778528041 L -92.79905601714033,43.99466218472667 L -92.798958,43.994667 L -92.79885998285967,43.99466218472667 L -92.79876290967799,43.99464778528041 L -92.79866771532275,43.994623940335735 L -92.79857531656764,43.99459087953252 L -92.79848660326317,43.994548921264354 L -92.79840242976698,43.9944984696123 L -92.79832360671584,43.99444001045337 L -92.7982508932188,43.99437410678119 L -92.79818498954664,43.99430139328417 L -92.79812653038769,43.99422257023302 L -92.79807607873565,43.99413839673683 L -92.79803412046749,43.994049683432365 L -92.79800105966427,43.99395728467726 L -92.7979772147196,43.99386209032202 L -92.79796281527332,43.99376501714033 L -92.797958,43.993667 z\" /><path fill-rule=\"evenodd\" fill=\"#66cc99\" stroke=\"#555555\" stroke-width=\"0.06126131520000001\" opacity=\"0.6\" d=\"M -92.800872,45.056856 L -92.80087681527333,45.05675798285967 L -92.8008912147196,45.05666090967799 L -92.80091505966428,45.05656571532275 L -92.8009481204675,45.05647331656764 L -92.80099007873565,45.056384603263176 L -92.8010405303877,45.056300429766985 L -92.80109898954665,45.05622160671584 L -92.80116489321881,45.05614889321882 L -92.80123760671584,45.05608298954664 L -92.80131642976698,45.0560245303877 L -92.80140060326318,45.05597407873565 L -92.80148931656764,45.05593212046749 L -92.80158171532275,45.05589905966427 L -92.801676909678,45.0558752147196 L -92.80177398285967,45.055860815273334 L -92.801872,45.055856000000006 L -92.80197001714033,45.055860815273334 L -92.80206709032201,45.0558752147196 L -92.80216228467725,45.05589905966427 L -92.80225468343237,45.05593212046749 L -92.80234339673683,45.05597407873565 L -92.80242757023302,45.0560245303877 L -92.80250639328416,45.05608298954664 L -92.8025791067812,45.05614889321882 L -92.80264501045336,45.05622160671584 L -92.80270346961231,45.056300429766985 L -92.80275392126435,45.056384603263176 L -92.80279587953251,45.05647331656764 L -92.80282894033573,45.05656571532275 L -92.80285278528041,45.05666090967799 L -92.80286718472668,45.05675798285967 L -92.80287200000001,45.056856 L -92.80286718472668,45.056954017140335 L -92.80285278528041,45.05705109032202 L -92.80282894033573,45.05714628467726 L -92.80279587953251,45.05723868343237 L -92.80275392126435,45.05732739673683 L -92.80270346961231,45.05741157023302 L -92.80264501045336,45.05749039328417 L -92.8025791067812,45.05756310678119 L -92.80250639328416,45.05762901045337 L -92.80242757023302,45.057687469612304 L -92.80234339673683,45.057737921264355 L -92.80225468343237,45.05777987953252 L -92.80216228467725,45.05781294033574 L -92.80206709032201,45.05783678528041 L -92.80197001714033,45.05785118472667 L -92.801872,45.057856 L -92.80177398285967,45.05785118472667 L -92.801676909678,45.05783678528041 L -92.80158171532275,45.05781294033574 L -92.80148931656764,45.05777987953252 L -92.80140060326318,45.057737921264355 L -92.80131642976698,45.057687469612304 L -92.80123760671584,45.05762901045337 L -92.80116489321881,45.05756310678119 L -92.80109898954665,45.05749039328417 L -92.8010405303877,45.05741157023302 L -92.80099007873565,45.05732739673683 L -92.8009481204675,45.05723868343237 L -92.80091505966428,45.05714628467726 L -92.8008912147196,45.05705109032202 L -92.80087681527333,45.056954017140335 L -92.800872,45.056856 z\" /><path fill-rule=\"evenodd\" fill=\"#66cc99\" stroke=\"#555555\" stroke-width=\"0.06126131520000001\" opacity=\"0.6\" d=\"M -92.815253,44.167256 L -92.81525781527333,44.16715798285967 L -92.8152722147196,44.167060909677986 L -92.81529605966428,44.166965715322746 L -92.8153291204675,44.16687331656764 L -92.81537107873565,44.166784603263174 L -92.8154215303877,44.16670042976698 L -92.81547998954665,44.166621606715836 L -92.81554589321881,44.16654889321882 L -92.81561860671584,44.16648298954664 L -92.81569742976698,44.1664245303877 L -92.81578160326318,44.16637407873565 L -92.81587031656764,44.16633212046749 L -92.81596271532275,44.16629905966427 L -92.816057909678,44.1662752147196 L -92.81615498285967,44.16626081527333 L -92.816253,44.166256000000004 L -92.81635101714033,44.16626081527333 L -92.81644809032201,44.1662752147196 L -92.81654328467725,44.16629905966427 L -92.81663568343237,44.16633212046749 L -92.81672439673683,44.16637407873565 L -92.81680857023302,44.1664245303877 L -92.81688739328416,44.16648298954664 L -92.8169601067812,44.16654889321882 L -92.81702601045336,44.166621606715836 L -92.81708446961231,44.16670042976698 L -92.81713492126435,44.166784603263174 L -92.81717687953251,44.16687331656764 L -92.81720994033573,44.166965715322746 L -92.81723378528041,44.167060909677986 L -92.81724818472668,44.16715798285967 L -92.81725300000001,44.167256 L -92.81724818472668,44.16735401714033 L -92.81723378528041,44.16745109032202 L -92.81720994033573,44.16754628467726 L -92.81717687953251,44.167638683432365 L -92.81713492126435,44.16772739673683 L -92.81708446961231,44.16781157023302 L -92.81702601045336,44.16789039328417 L -92.8169601067812,44.16796310678119 L -92.81688739328416,44.16802901045337 L -92.81680857023302,44.1680874696123 L -92.81672439673683,44.16813792126435 L -92.81663568343237,44.16817987953252 L -92.81654328467725,44.168212940335735 L -92.81644809032201,44.168236785280406 L -92.81635101714033,44.16825118472667 L -92.816253,44.168256 L -92.81615498285967,44.16825118472667 L -92.816057909678,44.168236785280406 L -92.81596271532275,44.168212940335735 L -92.81587031656764,44.16817987953252 L -92.81578160326318,44.16813792126435 L -92.81569742976698,44.1680874696123 L -92.81561860671584,44.16802901045337 L -92.81554589321881,44.16796310678119 L -92.81547998954665,44.16789039328417 L -92.8154215303877,44.16781157023302 L -92.81537107873565,44.16772739673683 L -92.8153291204675,44.167638683432365 L -92.81529605966428,44.16754628467726 L -92.8152722147196,44.16745109032202 L -92.81525781527333,44.16735401714033 L -92.815253,44.167256 z\" /><path fill-rule=\"evenodd\" fill=\"#66cc99\" stroke=\"#555555\" stroke-width=\"0.06126131520000001\" opacity=\"0.6\" d=\"M -92.817978,44.073411 L -92.81798281527333,44.07331298285967 L -92.8179972147196,44.073215909677984 L -92.81802105966428,44.073120715322744 L -92.8180541204675,44.07302831656764 L -92.81809607873565,44.07293960326317 L -92.8181465303877,44.07285542976698 L -92.81820498954664,44.072776606715834 L -92.81827089321881,44.072703893218815 L -92.81834360671584,44.072637989546635 L -92.81842242976698,44.0725795303877 L -92.81850660326317,44.07252907873565 L -92.81859531656764,44.072487120467486 L -92.81868771532275,44.07245405966427 L -92.81878290967799,44.072430214719596 L -92.81887998285967,44.07241581527333 L -92.818978,44.072411 L -92.81907601714033,44.07241581527333 L -92.81917309032201,44.072430214719596 L -92.81926828467725,44.07245405966427 L -92.81936068343236,44.072487120467486 L -92.81944939673683,44.07252907873565 L -92.81953357023302,44.0725795303877 L -92.81961239328416,44.072637989546635 L -92.8196851067812,44.072703893218815 L -92.81975101045336,44.072776606715834 L -92.81980946961231,44.07285542976698 L -92.81985992126435,44.07293960326317 L -92.81990187953251,44.07302831656764 L -92.81993494033573,44.073120715322744 L -92.8199587852804,44.073215909677984 L -92.81997318472668,44.07331298285967 L -92.819978,44.073411 L -92.81997318472668,44.07350901714033 L -92.8199587852804,44.073606090322016 L -92.81993494033573,44.073701284677256 L -92.81990187953251,44.07379368343236 L -92.81985992126435,44.07388239673683 L -92.81980946961231,44.07396657023302 L -92.81975101045336,44.074045393284166 L -92.8196851067812,44.074118106781185 L -92.81961239328416,44.074184010453365 L -92.81953357023302,44.0742424696123 L -92.81944939673683,44.07429292126435 L -92.81936068343236,44.074334879532515 L -92.81926828467725,44.07436794033573 L -92.81917309032201,44.074391785280405 L -92.81907601714033,44.07440618472667 L -92.818978,44.074411 L -92.81887998285967,44.07440618472667 L -92.81878290967799,44.074391785280405 L -92.81868771532275,44.07436794033573 L -92.81859531656764,44.074334879532515 L -92.81850660326317,44.07429292126435 L -92.81842242976698,44.0742424696123 L -92.81834360671584,44.074184010453365 L -92.81827089321881,44.074118106781185 L -92.81820498954664,44.074045393284166 L -92.8181465303877,44.07396657023302 L -92.81809607873565,44.07388239673683 L -92.8180541204675,44.07379368343236 L -92.81802105966428,44.073701284677256 L -92.8179972147196,44.073606090322016 L -92.81798281527333,44.07350901714033 L -92.817978,44.073411 z\" /><path fill-rule=\"evenodd\" fill=\"#66cc99\" stroke=\"#555555\" stroke-width=\"0.06126131520000001\" opacity=\"0.6\" d=\"M -92.81800799999999,44.120311 L -92.81801281527332,44.12021298285967 L -92.81802721471959,44.120115909677985 L -92.81805105966427,44.120020715322745 L -92.81808412046749,44.11992831656764 L -92.81812607873565,44.11983960326317 L -92.81817653038769,44.11975542976698 L -92.81823498954664,44.119676606715835 L -92.8183008932188,44.119603893218816 L -92.81837360671584,44.119537989546636 L -92.81845242976698,44.1194795303877 L -92.81853660326317,44.11942907873565 L -92.81862531656763,44.119387120467486 L -92.81871771532275,44.11935405966427 L -92.81881290967799,44.1193302147196 L -92.81890998285967,44.11931581527333 L -92.819008,44.119311 L -92.81910601714033,44.11931581527333 L -92.819203090322,44.1193302147196 L -92.81929828467725,44.11935405966427 L -92.81939068343236,44.119387120467486 L -92.81947939673682,44.11942907873565 L -92.81956357023302,44.1194795303877 L -92.81964239328416,44.119537989546636 L -92.81971510678119,44.119603893218816 L -92.81978101045335,44.119676606715835 L -92.8198394696123,44.11975542976698 L -92.81988992126435,44.11983960326317 L -92.8199318795325,44.11992831656764 L -92.81996494033572,44.120020715322745 L -92.8199887852804,44.120115909677985 L -92.82000318472667,44.12021298285967 L -92.820008,44.120311 L -92.82000318472667,44.12040901714033 L -92.8199887852804,44.12050609032202 L -92.81996494033572,44.12060128467726 L -92.8199318795325,44.120693683432364 L -92.81988992126435,44.12078239673683 L -92.8198394696123,44.12086657023302 L -92.81978101045335,44.12094539328417 L -92.81971510678119,44.121018106781186 L -92.81964239328416,44.121084010453366 L -92.81956357023302,44.1211424696123 L -92.81947939673682,44.12119292126435 L -92.81939068343236,44.121234879532516 L -92.81929828467725,44.121267940335734 L -92.819203090322,44.121291785280405 L -92.81910601714033,44.12130618472667 L -92.819008,44.121311 L -92.81890998285967,44.12130618472667 L -92.81881290967799,44.121291785280405 L -92.81871771532275,44.121267940335734 L -92.81862531656763,44.121234879532516 L -92.81853660326317,44.12119292126435 L -92.81845242976698,44.1211424696123 L -92.81837360671584,44.121084010453366 L -92.8183008932188,44.121018106781186 L -92.81823498954664,44.12094539328417 L -92.81817653038769,44.12086657023302 L -92.81812607873565,44.12078239673683 L -92.81808412046749,44.120693683432364 L -92.81805105966427,44.12060128467726 L -92.81802721471959,44.12050609032202 L -92.81801281527332,44.12040901714033 L -92.81800799999999,44.120311 z\" /><path fill-rule=\"evenodd\" fill=\"#66cc99\" stroke=\"#555555\" stroke-width=\"0.06126131520000001\" opacity=\"0.6\" d=\"M -92.823425,44.044369 L -92.82342981527333,44.04427098285967 L -92.8234442147196,44.04417390967799 L -92.82346805966428,44.04407871532275 L -92.8235011204675,44.04398631656764 L -92.82354307873565,44.043897603263176 L -92.8235935303877,44.043813429766985 L -92.82365198954665,44.04373460671584 L -92.82371789321881,44.04366189321882 L -92.82379060671585,44.04359598954664 L -92.82386942976699,44.0435375303877 L -92.82395360326318,44.04348707873565 L -92.82404231656764,44.04344512046749 L -92.82413471532276,44.04341205966427 L -92.824229909678,44.0433882147196 L -92.82432698285967,44.043373815273334 L -92.824425,44.043369000000006 L -92.82452301714034,44.043373815273334 L -92.82462009032201,44.0433882147196 L -92.82471528467725,44.04341205966427 L -92.82480768343237,44.04344512046749 L -92.82489639673683,44.04348707873565 L -92.82498057023302,44.0435375303877 L -92.82505939328416,44.04359598954664 L -92.8251321067812,44.04366189321882 L -92.82519801045336,44.04373460671584 L -92.82525646961231,44.043813429766985 L -92.82530692126436,44.043897603263176 L -92.82534887953251,44.04398631656764 L -92.82538194033573,44.04407871532275 L -92.82540578528041,44.04417390967799 L -92.82542018472668,44.04427098285967 L -92.82542500000001,44.044369 L -92.82542018472668,44.044467017140335 L -92.82540578528041,44.04456409032202 L -92.82538194033573,44.04465928467726 L -92.82534887953251,44.04475168343237 L -92.82530692126436,44.04484039673683 L -92.82525646961231,44.04492457023302 L -92.82519801045336,44.04500339328417 L -92.8251321067812,44.04507610678119 L -92.82505939328416,44.04514201045337 L -92.82498057023302,44.045200469612304 L -92.82489639673683,44.045250921264355 L -92.82480768343237,44.04529287953252 L -92.82471528467725,44.04532594033574 L -92.82462009032201,44.04534978528041 L -92.82452301714034,44.04536418472667 L -92.824425,44.045369 L -92.82432698285967,44.04536418472667 L -92.824229909678,44.04534978528041 L -92.82413471532276,44.04532594033574 L -92.82404231656764,44.04529287953252 L -92.82395360326318,44.045250921264355 L -92.82386942976699,44.045200469612304 L -92.82379060671585,44.04514201045337 L -92.82371789321881,44.04507610678119 L -92.82365198954665,44.04500339328417 L -92.8235935303877,44.04492457023302 L -92.82354307873565,44.04484039673683 L -92.8235011204675,44.04475168343237 L -92.82346805966428,44.04465928467726 L -92.8234442147196,44.04456409032202 L -92.82342981527333,44.044467017140335 L -92.823425,44.044369 z\" /><path fill-rule=\"evenodd\" fill=\"#66cc99\" stroke=\"#555555\" stroke-width=\"0.06126131520000001\" opacity=\"0.6\" d=\"M -92.827531,45.075517 L -92.82753581527332,45.07541898285967 L -92.8275502147196,45.07532190967798 L -92.82757405966427,45.07522671532274 L -92.82760712046749,45.075134316567635 L -92.82764907873565,45.07504560326317 L -92.82769953038769,45.07496142976698 L -92.82775798954664,45.07488260671583 L -92.8278238932188,45.07480989321881 L -92.82789660671584,45.07474398954663 L -92.82797542976698,45.0746855303877 L -92.82805960326317,45.074635078735646 L -92.82814831656763,45.07459312046748 L -92.82824071532275,45.074560059664265 L -92.82833590967799,45.07453621471959 L -92.82843298285967,45.07452181527333 L -92.828531,45.074517 L -92.82862901714033,45.07452181527333 L -92.82872609032201,45.07453621471959 L -92.82882128467725,45.074560059664265 L -92.82891368343236,45.07459312046748 L -92.82900239673683,45.074635078735646 L -92.82908657023302,45.0746855303877 L -92.82916539328416,45.07474398954663 L -92.82923810678119,45.07480989321881 L -92.82930401045336,45.07488260671583 L -92.8293624696123,45.07496142976698 L -92.82941292126435,45.07504560326317 L -92.8294548795325,45.075134316567635 L -92.82948794033572,45.07522671532274 L -92.8295117852804,45.07532190967798 L -92.82952618472667,45.07541898285967 L -92.829531,45.075517 L -92.82952618472667,45.07561501714033 L -92.8295117852804,45.075712090322014 L -92.82948794033572,45.07580728467725 L -92.8294548795325,45.07589968343236 L -92.82941292126435,45.075988396736825 L -92.8293624696123,45.076072570233016 L -92.82930401045336,45.076151393284164 L -92.82923810678119,45.07622410678118 L -92.82916539328416,45.07629001045336 L -92.82908657023302,45.0763484696123 L -92.82900239673683,45.07639892126435 L -92.82891368343236,45.07644087953251 L -92.82882128467725,45.07647394033573 L -92.82872609032201,45.0764977852804 L -92.82862901714033,45.07651218472667 L -92.828531,45.076516999999996 L -92.82843298285967,45.07651218472667 L -92.82833590967799,45.0764977852804 L -92.82824071532275,45.07647394033573 L -92.82814831656763,45.07644087953251 L -92.82805960326317,45.07639892126435 L -92.82797542976698,45.0763484696123 L -92.82789660671584,45.07629001045336 L -92.8278238932188,45.07622410678118 L -92.82775798954664,45.076151393284164 L -92.82769953038769,45.076072570233016 L -92.82764907873565,45.075988396736825 L -92.82760712046749,45.07589968343236 L -92.82757405966427,45.07580728467725 L -92.8275502147196,45.075712090322014 L -92.82753581527332,45.07561501714033 L -92.827531,45.075517 z\" /><path fill-rule=\"evenodd\" fill=\"#66cc99\" stroke=\"#555555\" stroke-width=\"0.06126131520000001\" opacity=\"0.6\" d=\"M -92.83786699999999,44.147617 L -92.83787181527332,44.147518982859665 L -92.83788621471959,44.14742190967798 L -92.83791005966427,44.14732671532274 L -92.83794312046749,44.14723431656763 L -92.83798507873564,44.14714560326317 L -92.83803553038769,44.14706142976698 L -92.83809398954664,44.14698260671583 L -92.8381598932188,44.14690989321881 L -92.83823260671583,44.14684398954663 L -92.83831142976697,44.146785530387696 L -92.83839560326317,44.146735078735645 L -92.83848431656763,44.14669312046748 L -92.83857671532274,44.14666005966426 L -92.83867190967798,44.14663621471959 L -92.83876898285966,44.14662181527333 L -92.838867,44.146617 L -92.83896501714032,44.14662181527333 L -92.839062090322,44.14663621471959 L -92.83915728467724,44.14666005966426 L -92.83924968343236,44.14669312046748 L -92.83933839673682,44.146735078735645 L -92.83942257023301,44.146785530387696 L -92.83950139328415,44.14684398954663 L -92.83957410678119,44.14690989321881 L -92.83964001045335,44.14698260671583 L -92.8396984696123,44.14706142976698 L -92.83974892126434,44.14714560326317 L -92.8397908795325,44.14723431656763 L -92.83982394033572,44.14732671532274 L -92.8398477852804,44.14742190967798 L -92.83986218472667,44.147518982859665 L -92.839867,44.147617 L -92.83986218472667,44.14771501714033 L -92.8398477852804,44.14781209032201 L -92.83982394033572,44.14790728467725 L -92.8397908795325,44.14799968343236 L -92.83974892126434,44.148088396736824 L -92.8396984696123,44.148172570233015 L -92.83964001045335,44.14825139328416 L -92.83957410678119,44.14832410678118 L -92.83950139328415,44.14839001045336 L -92.83942257023301,44.1484484696123 L -92.83933839673682,44.14849892126435 L -92.83924968343236,44.14854087953251 L -92.83915728467724,44.14857394033573 L -92.839062090322,44.1485977852804 L -92.83896501714032,44.148612184726666 L -92.838867,44.148616999999994 L -92.83876898285966,44.148612184726666 L -92.83867190967798,44.1485977852804 L -92.83857671532274,44.14857394033573 L -92.83848431656763,44.14854087953251 L -92.83839560326317,44.14849892126435 L -92.83831142976697,44.1484484696123 L -92.83823260671583,44.14839001045336 L -92.8381598932188,44.14832410678118 L -92.83809398954664,44.14825139328416 L -92.83803553038769,44.148172570233015 L -92.83798507873564,44.148088396736824 L -92.83794312046749,44.14799968343236 L -92.83791005966427,44.14790728467725 L -92.83788621471959,44.14781209032201 L -92.83787181527332,44.14771501714033 L -92.83786699999999,44.147617 z\" /><path fill-rule=\"evenodd\" fill=\"#66cc99\" stroke=\"#555555\" stroke-width=\"0.06126131520000001\" opacity=\"0.6\" d=\"M -92.83810299999999,43.998269 L -92.83810781527332,43.99817098285967 L -92.83812221471959,43.998073909677984 L -92.83814605966427,43.997978715322745 L -92.83817912046749,43.99788631656764 L -92.83822107873564,43.99779760326317 L -92.83827153038769,43.99771342976698 L -92.83832998954664,43.997634606715835 L -92.8383958932188,43.997561893218815 L -92.83846860671584,43.997495989546636 L -92.83854742976698,43.9974375303877 L -92.83863160326317,43.99738707873565 L -92.83872031656763,43.997345120467486 L -92.83881271532275,43.99731205966427 L -92.83890790967799,43.997288214719596 L -92.83900498285966,43.99727381527333 L -92.839103,43.997269 L -92.83920101714033,43.99727381527333 L -92.839298090322,43.997288214719596 L -92.83939328467724,43.99731205966427 L -92.83948568343236,43.997345120467486 L -92.83957439673682,43.99738707873565 L -92.83965857023301,43.9974375303877 L -92.83973739328415,43.997495989546636 L -92.83981010678119,43.997561893218815 L -92.83987601045335,43.997634606715835 L -92.8399344696123,43.99771342976698 L -92.83998492126435,43.99779760326317 L -92.8400268795325,43.99788631656764 L -92.84005994033572,43.997978715322745 L -92.8400837852804,43.998073909677984 L -92.84009818472667,43.99817098285967 L -92.840103,43.998269 L -92.84009818472667,43.99836701714033 L -92.8400837852804,43.99846409032202 L -92.84005994033572,43.998559284677256 L -92.8400268795325,43.998651683432364 L -92.83998492126435,43.99874039673683 L -92.8399344696123,43.99882457023302 L -92.83987601045335,43.998903393284166 L -92.83981010678119,43.998976106781186 L -92.83973739328415,43.999042010453365 L -92.83965857023301,43.9991004696123 L -92.83957439673682,43.99915092126435 L -92.83948568343236,43.999192879532515 L -92.83939328467724,43.999225940335734 L -92.839298090322,43.999249785280405 L -92.83920101714033,43.99926418472667 L -92.839103,43.999269 L -92.83900498285966,43.99926418472667 L -92.83890790967799,43.999249785280405 L -92.83881271532275,43.999225940335734 L -92.83872031656763,43.999192879532515 L -92.83863160326317,43.99915092126435 L -92.83854742976698,43.9991004696123 L -92.83846860671584,43.999042010453365 L -92.8383958932188,43.998976106781186 L -92.83832998954664,43.998903393284166 L -92.83827153038769,43.99882457023302 L -92.83822107873564,43.99874039673683 L -92.83817912046749,43.998651683432364 L -92.83814605966427,43.998559284677256 L -92.83812221471959,43.99846409032202 L -92.83810781527332,43.99836701714033 L -92.83810299999999,43.998269 z\" /><path fill-rule=\"evenodd\" fill=\"#66cc99\" stroke=\"#555555\" stroke-width=\"0.06126131520000001\" opacity=\"0.6\" d=\"M -92.846747,44.7468 L -92.84675181527332,44.74670198285967 L -92.8467662147196,44.746604909677984 L -92.84679005966427,44.746509715322745 L -92.84682312046749,44.74641731656764 L -92.84686507873565,44.74632860326317 L -92.84691553038769,44.74624442976698 L -92.84697398954664,44.746165606715834 L -92.8470398932188,44.746092893218815 L -92.84711260671584,44.746026989546635 L -92.84719142976698,44.7459685303877 L -92.84727560326317,44.74591807873565 L -92.84736431656764,44.745876120467486 L -92.84745671532275,44.74584305966427 L -92.84755190967799,44.745819214719596 L -92.84764898285967,44.74580481527333 L -92.847747,44.7458 L -92.84784501714033,44.74580481527333 L -92.84794209032201,44.745819214719596 L -92.84803728467725,44.74584305966427 L -92.84812968343236,44.745876120467486 L -92.84821839673683,44.74591807873565 L -92.84830257023302,44.7459685303877 L -92.84838139328416,44.746026989546635 L -92.84845410678119,44.746092893218815 L -92.84852001045336,44.746165606715834 L -92.8485784696123,44.74624442976698 L -92.84862892126435,44.74632860326317 L -92.8486708795325,44.74641731656764 L -92.84870394033572,44.746509715322745 L -92.8487277852804,44.746604909677984 L -92.84874218472667,44.74670198285967 L -92.848747,44.7468 L -92.84874218472667,44.74689801714033 L -92.8487277852804,44.74699509032202 L -92.84870394033572,44.747090284677256 L -92.8486708795325,44.747182683432364 L -92.84862892126435,44.74727139673683 L -92.8485784696123,44.74735557023302 L -92.84852001045336,44.747434393284166 L -92.84845410678119,44.747507106781185 L -92.84838139328416,44.747573010453365 L -92.84830257023302,44.7476314696123 L -92.84821839673683,44.74768192126435 L -92.84812968343236,44.747723879532515 L -92.84803728467725,44.747756940335734 L -92.84794209032201,44.747780785280405 L -92.84784501714033,44.74779518472667 L -92.847747,44.7478 L -92.84764898285967,44.74779518472667 L -92.84755190967799,44.747780785280405 L -92.84745671532275,44.747756940335734 L -92.84736431656764,44.747723879532515 L -92.84727560326317,44.74768192126435 L -92.84719142976698,44.7476314696123 L -92.84711260671584,44.747573010453365 L -92.8470398932188,44.747507106781185 L -92.84697398954664,44.747434393284166 L -92.84691553038769,44.74735557023302 L -92.84686507873565,44.74727139673683 L -92.84682312046749,44.747182683432364 L -92.84679005966427,44.747090284677256 L -92.8467662147196,44.74699509032202 L -92.84675181527332,44.74689801714033 L -92.846747,44.7468 z\" /><path fill-rule=\"evenodd\" fill=\"#66cc99\" stroke=\"#555555\" stroke-width=\"0.06126131520000001\" opacity=\"0.6\" d=\"M -92.849831,44.358983 L -92.84983581527332,44.35888498285967 L -92.8498502147196,44.358787909677986 L -92.84987405966427,44.358692715322746 L -92.84990712046749,44.35860031656764 L -92.84994907873565,44.358511603263175 L -92.84999953038769,44.358427429766984 L -92.85005798954664,44.358348606715836 L -92.85012389321881,44.35827589321882 L -92.85019660671584,44.35820998954664 L -92.85027542976698,44.3581515303877 L -92.85035960326317,44.35810107873565 L -92.85044831656764,44.35805912046749 L -92.85054071532275,44.35802605966427 L -92.85063590967799,44.3580022147196 L -92.85073298285967,44.35798781527333 L -92.850831,44.357983000000004 L -92.85092901714033,44.35798781527333 L -92.85102609032201,44.3580022147196 L -92.85112128467725,44.35802605966427 L -92.85121368343236,44.35805912046749 L -92.85130239673683,44.35810107873565 L -92.85138657023302,44.3581515303877 L -92.85146539328416,44.35820998954664 L -92.85153810678119,44.35827589321882 L -92.85160401045336,44.358348606715836 L -92.85166246961231,44.358427429766984 L -92.85171292126435,44.358511603263175 L -92.8517548795325,44.35860031656764 L -92.85178794033573,44.358692715322746 L -92.8518117852804,44.358787909677986 L -92.85182618472668,44.35888498285967 L -92.851831,44.358983 L -92.85182618472668,44.35908101714033 L -92.8518117852804,44.35917809032202 L -92.85178794033573,44.35927328467726 L -92.8517548795325,44.359365683432365 L -92.85171292126435,44.35945439673683 L -92.85166246961231,44.35953857023302 L -92.85160401045336,44.35961739328417 L -92.85153810678119,44.35969010678119 L -92.85146539328416,44.35975601045337 L -92.85138657023302,44.3598144696123 L -92.85130239673683,44.359864921264354 L -92.85121368343236,44.35990687953252 L -92.85112128467725,44.359939940335735 L -92.85102609032201,44.35996378528041 L -92.85092901714033,44.35997818472667 L -92.850831,44.359983 L -92.85073298285967,44.35997818472667 L -92.85063590967799,44.35996378528041 L -92.85054071532275,44.359939940335735 L -92.85044831656764,44.35990687953252 L -92.85035960326317,44.359864921264354 L -92.85027542976698,44.3598144696123 L -92.85019660671584,44.35975601045337 L -92.85012389321881,44.35969010678119 L -92.85005798954664,44.35961739328417 L -92.84999953038769,44.35953857023302 L -92.84994907873565,44.35945439673683 L -92.84990712046749,44.359365683432365 L -92.84987405966427,44.35927328467726 L -92.8498502147196,44.35917809032202 L -92.84983581527332,44.35908101714033 L -92.849831,44.358983 z\" /><path fill-rule=\"evenodd\" fill=\"#66cc99\" stroke=\"#555555\" stroke-width=\"0.06126131520000001\" opacity=\"0.6\" d=\"M -92.858639,44.653214 L -92.85864381527333,44.65311598285967 L -92.8586582147196,44.65301890967798 L -92.85868205966428,44.65292371532274 L -92.8587151204675,44.652831316567635 L -92.85875707873565,44.65274260326317 L -92.8588075303877,44.65265842976698 L -92.85886598954664,44.65257960671583 L -92.85893189321881,44.65250689321881 L -92.85900460671584,44.65244098954663 L -92.85908342976698,44.6523825303877 L -92.85916760326317,44.65233207873565 L -92.85925631656764,44.652290120467484 L -92.85934871532275,44.652257059664265 L -92.85944390967799,44.652233214719594 L -92.85954098285967,44.65221881527333 L -92.859639,44.652214 L -92.85973701714033,44.65221881527333 L -92.85983409032201,44.652233214719594 L -92.85992928467725,44.652257059664265 L -92.86002168343236,44.652290120467484 L -92.86011039673683,44.65233207873565 L -92.86019457023302,44.6523825303877 L -92.86027339328416,44.65244098954663 L -92.8603461067812,44.65250689321881 L -92.86041201045336,44.65257960671583 L -92.86047046961231,44.65265842976698 L -92.86052092126435,44.65274260326317 L -92.86056287953251,44.652831316567635 L -92.86059594033573,44.65292371532274 L -92.8606197852804,44.65301890967798 L -92.86063418472668,44.65311598285967 L -92.860639,44.653214 L -92.86063418472668,44.65331201714033 L -92.8606197852804,44.653409090322015 L -92.86059594033573,44.653504284677254 L -92.86056287953251,44.65359668343236 L -92.86052092126435,44.653685396736826 L -92.86047046961231,44.65376957023302 L -92.86041201045336,44.653848393284164 L -92.8603461067812,44.65392110678118 L -92.86027339328416,44.65398701045336 L -92.86019457023302,44.6540454696123 L -92.86011039673683,44.65409592126435 L -92.86002168343236,44.65413787953251 L -92.85992928467725,44.65417094033573 L -92.85983409032201,44.6541947852804 L -92.85973701714033,44.65420918472667 L -92.859639,44.654213999999996 L -92.85954098285967,44.65420918472667 L -92.85944390967799,44.6541947852804 L -92.85934871532275,44.65417094033573 L -92.85925631656764,44.65413787953251 L -92.85916760326317,44.65409592126435 L -92.85908342976698,44.6540454696123 L -92.85900460671584,44.65398701045336 L -92.85893189321881,44.65392110678118 L -92.85886598954664,44.653848393284164 L -92.8588075303877,44.65376957023302 L -92.85875707873565,44.653685396736826 L -92.8587151204675,44.65359668343236 L -92.85868205966428,44.653504284677254 L -92.8586582147196,44.653409090322015 L -92.85864381527333,44.65331201714033 L -92.858639,44.653214 z\" /><path fill-rule=\"evenodd\" fill=\"#66cc99\" stroke=\"#555555\" stroke-width=\"0.06126131520000001\" opacity=\"0.6\" d=\"M -92.86456899999999,45.470617 L -92.86457381527332,45.470518982859666 L -92.86458821471959,45.47042190967798 L -92.86461205966427,45.47032671532274 L -92.86464512046749,45.470234316567634 L -92.86468707873564,45.47014560326317 L -92.86473753038769,45.47006142976698 L -92.86479598954664,45.46998260671583 L -92.8648618932188,45.46990989321881 L -92.86493460671583,45.46984398954663 L -92.86501342976698,45.469785530387696 L -92.86509760326317,45.469735078735646 L -92.86518631656763,45.46969312046748 L -92.86527871532275,45.469660059664264 L -92.86537390967798,45.46963621471959 L -92.86547098285966,45.46962181527333 L -92.865569,45.469617 L -92.86566701714032,45.46962181527333 L -92.865764090322,45.46963621471959 L -92.86585928467724,45.469660059664264 L -92.86595168343236,45.46969312046748 L -92.86604039673682,45.469735078735646 L -92.86612457023301,45.469785530387696 L -92.86620339328415,45.46984398954663 L -92.86627610678119,45.46990989321881 L -92.86634201045335,45.46998260671583 L -92.8664004696123,45.47006142976698 L -92.86645092126435,45.47014560326317 L -92.8664928795325,45.470234316567634 L -92.86652594033572,45.47032671532274 L -92.8665497852804,45.47042190967798 L -92.86656418472667,45.470518982859666 L -92.866569,45.470617 L -92.86656418472667,45.47071501714033 L -92.8665497852804,45.47081209032201 L -92.86652594033572,45.47090728467725 L -92.8664928795325,45.47099968343236 L -92.86645092126435,45.471088396736825 L -92.8664004696123,45.471172570233016 L -92.86634201045335,45.47125139328416 L -92.86627610678119,45.47132410678118 L -92.86620339328415,45.47139001045336 L -92.86612457023301,45.4714484696123 L -92.86604039673682,45.47149892126435 L -92.86595168343236,45.47154087953251 L -92.86585928467724,45.47157394033573 L -92.865764090322,45.4715977852804 L -92.86566701714032,45.471612184726666 L -92.865569,45.471616999999995 L -92.86547098285966,45.471612184726666 L -92.86537390967798,45.4715977852804 L -92.86527871532275,45.47157394033573 L -92.86518631656763,45.47154087953251 L -92.86509760326317,45.47149892126435 L -92.86501342976698,45.4714484696123 L -92.86493460671583,45.47139001045336 L -92.8648618932188,45.47132410678118 L -92.86479598954664,45.47125139328416 L -92.86473753038769,45.471172570233016 L -92.86468707873564,45.471088396736825 L -92.86464512046749,45.47099968343236 L -92.86461205966427,45.47090728467725 L -92.86458821471959,45.47081209032201 L -92.86457381527332,45.47071501714033 L -92.86456899999999,45.470617 z\" /><path fill-rule=\"evenodd\" fill=\"#66cc99\" stroke=\"#555555\" stroke-width=\"0.06126131520000001\" opacity=\"0.6\" d=\"M -92.86874399999999,44.065631 L -92.86874881527332,44.06553298285967 L -92.86876321471959,44.06543590967799 L -92.86878705966427,44.06534071532275 L -92.86882012046749,44.06524831656764 L -92.86886207873565,44.065159603263176 L -92.86891253038769,44.065075429766985 L -92.86897098954664,44.06499660671584 L -92.8690368932188,44.06492389321882 L -92.86910960671584,44.06485798954664 L -92.86918842976698,44.0647995303877 L -92.86927260326317,44.06474907873565 L -92.86936131656763,44.06470712046749 L -92.86945371532275,44.06467405966427 L -92.86954890967799,44.0646502147196 L -92.86964598285967,44.064635815273334 L -92.869744,44.064631000000006 L -92.86984201714033,44.064635815273334 L -92.869939090322,44.0646502147196 L -92.87003428467725,44.06467405966427 L -92.87012668343236,44.06470712046749 L -92.87021539673682,44.06474907873565 L -92.87029957023302,44.0647995303877 L -92.87037839328416,44.06485798954664 L -92.87045110678119,44.06492389321882 L -92.87051701045336,44.06499660671584 L -92.8705754696123,44.065075429766985 L -92.87062592126435,44.065159603263176 L -92.8706678795325,44.06524831656764 L -92.87070094033572,44.06534071532275 L -92.8707247852804,44.06543590967799 L -92.87073918472667,44.06553298285967 L -92.870744,44.065631 L -92.87073918472667,44.065729017140335 L -92.8707247852804,44.06582609032202 L -92.87070094033572,44.06592128467726 L -92.8706678795325,44.06601368343237 L -92.87062592126435,44.06610239673683 L -92.8705754696123,44.06618657023302 L -92.87051701045336,44.06626539328417 L -92.87045110678119,44.06633810678119 L -92.87037839328416,44.06640401045337 L -92.87029957023302,44.066462469612304 L -92.87021539673682,44.066512921264355 L -92.87012668343236,44.06655487953252 L -92.87003428467725,44.06658794033574 L -92.869939090322,44.06661178528041 L -92.86984201714033,44.06662618472667 L -92.869744,44.066631 L -92.86964598285967,44.06662618472667 L -92.86954890967799,44.06661178528041 L -92.86945371532275,44.06658794033574 L -92.86936131656763,44.06655487953252 L -92.86927260326317,44.066512921264355 L -92.86918842976698,44.066462469612304 L -92.86910960671584,44.06640401045337 L -92.8690368932188,44.06633810678119 L -92.86897098954664,44.06626539328417 L -92.86891253038769,44.06618657023302 L -92.86886207873565,44.06610239673683 L -92.86882012046749,44.06601368343237 L -92.86878705966427,44.06592128467726 L -92.86876321471959,44.06582609032202 L -92.86874881527332,44.065729017140335 L -92.86874399999999,44.065631 z\" /><path fill-rule=\"evenodd\" fill=\"#66cc99\" stroke=\"#555555\" stroke-width=\"0.06126131520000001\" opacity=\"0.6\" d=\"M -92.8701,44.196819 L -92.87010481527332,44.19672098285967 L -92.8701192147196,44.19662390967798 L -92.87014305966427,44.19652871532274 L -92.87017612046749,44.196436316567635 L -92.87021807873565,44.19634760326317 L -92.87026853038769,44.19626342976698 L -92.87032698954664,44.19618460671583 L -92.8703928932188,44.19611189321881 L -92.87046560671584,44.19604598954663 L -92.87054442976698,44.1959875303877 L -92.87062860326317,44.195937078735646 L -92.87071731656764,44.19589512046748 L -92.87080971532275,44.195862059664265 L -92.87090490967799,44.19583821471959 L -92.87100198285967,44.19582381527333 L -92.8711,44.195819 L -92.87119801714033,44.19582381527333 L -92.87129509032201,44.19583821471959 L -92.87139028467725,44.195862059664265 L -92.87148268343236,44.19589512046748 L -92.87157139673683,44.195937078735646 L -92.87165557023302,44.1959875303877 L -92.87173439328416,44.19604598954663 L -92.87180710678119,44.19611189321881 L -92.87187301045336,44.19618460671583 L -92.8719314696123,44.19626342976698 L -92.87198192126435,44.19634760326317 L -92.8720238795325,44.196436316567635 L -92.87205694033572,44.19652871532274 L -92.8720807852804,44.19662390967798 L -92.87209518472667,44.19672098285967 L -92.8721,44.196819 L -92.87209518472667,44.19691701714033 L -92.8720807852804,44.197014090322014 L -92.87205694033572,44.19710928467725 L -92.8720238795325,44.19720168343236 L -92.87198192126435,44.197290396736825 L -92.8719314696123,44.197374570233016 L -92.87187301045336,44.197453393284164 L -92.87180710678119,44.19752610678118 L -92.87173439328416,44.19759201045336 L -92.87165557023302,44.1976504696123 L -92.87157139673683,44.19770092126435 L -92.87148268343236,44.19774287953251 L -92.87139028467725,44.19777594033573 L -92.87129509032201,44.1977997852804 L -92.87119801714033,44.19781418472667 L -92.8711,44.197818999999996 L -92.87100198285967,44.19781418472667 L -92.87090490967799,44.1977997852804 L -92.87080971532275,44.19777594033573 L -92.87071731656764,44.19774287953251 L -92.87062860326317,44.19770092126435 L -92.87054442976698,44.1976504696123 L -92.87046560671584,44.19759201045336 L -92.8703928932188,44.19752610678118 L -92.87032698954664,44.197453393284164 L -92.87026853038769,44.197374570233016 L -92.87021807873565,44.197290396736825 L -92.87017612046749,44.19720168343236 L -92.87014305966427,44.19710928467725 L -92.8701192147196,44.197014090322014 L -92.87010481527332,44.19691701714033 L -92.8701,44.196819 z\" /><path fill-rule=\"evenodd\" fill=\"#66cc99\" stroke=\"#555555\" stroke-width=\"0.06126131520000001\" opacity=\"0.6\" d=\"M -92.898375,44.178661 L -92.89837981527333,44.17856298285967 L -92.8983942147196,44.17846590967798 L -92.89841805966428,44.17837071532274 L -92.8984511204675,44.178278316567635 L -92.89849307873565,44.17818960326317 L -92.8985435303877,44.17810542976698 L -92.89860198954665,44.17802660671583 L -92.89866789321881,44.17795389321881 L -92.89874060671585,44.17788798954663 L -92.89881942976699,44.1778295303877 L -92.89890360326318,44.17777907873565 L -92.89899231656764,44.177737120467484 L -92.89908471532276,44.177704059664265 L -92.899179909678,44.177680214719594 L -92.89927698285967,44.17766581527333 L -92.899375,44.177661 L -92.89947301714034,44.17766581527333 L -92.89957009032202,44.177680214719594 L -92.89966528467725,44.177704059664265 L -92.89975768343237,44.177737120467484 L -92.89984639673683,44.17777907873565 L -92.89993057023302,44.1778295303877 L -92.90000939328417,44.17788798954663 L -92.9000821067812,44.17795389321881 L -92.90014801045336,44.17802660671583 L -92.90020646961231,44.17810542976698 L -92.90025692126436,44.17818960326317 L -92.90029887953251,44.178278316567635 L -92.90033194033573,44.17837071532274 L -92.90035578528041,44.17846590967798 L -92.90037018472668,44.17856298285967 L -92.90037500000001,44.178661 L -92.90037018472668,44.17875901714033 L -92.90035578528041,44.178856090322014 L -92.90033194033573,44.178951284677254 L -92.90029887953251,44.17904368343236 L -92.90025692126436,44.179132396736826 L -92.90020646961231,44.17921657023302 L -92.90014801045336,44.179295393284164 L -92.9000821067812,44.17936810678118 L -92.90000939328417,44.17943401045336 L -92.89993057023302,44.1794924696123 L -92.89984639673683,44.17954292126435 L -92.89975768343237,44.17958487953251 L -92.89966528467725,44.17961794033573 L -92.89957009032202,44.1796417852804 L -92.89947301714034,44.17965618472667 L -92.899375,44.179660999999996 L -92.89927698285967,44.17965618472667 L -92.899179909678,44.1796417852804 L -92.89908471532276,44.17961794033573 L -92.89899231656764,44.17958487953251 L -92.89890360326318,44.17954292126435 L -92.89881942976699,44.1794924696123 L -92.89874060671585,44.17943401045336 L -92.89866789321881,44.17936810678118 L -92.89860198954665,44.179295393284164 L -92.8985435303877,44.17921657023302 L -92.89849307873565,44.179132396736826 L -92.8984511204675,44.17904368343236 L -92.89841805966428,44.178951284677254 L -92.8983942147196,44.178856090322014 L -92.89837981527333,44.17875901714033 L -92.898375,44.178661 z\" /><path fill-rule=\"evenodd\" fill=\"#66cc99\" stroke=\"#555555\" stroke-width=\"0.06126131520000001\" opacity=\"0.6\" d=\"M -92.898431,43.9917 L -92.89843581527333,43.99160198285967 L -92.8984502147196,43.991504909677985 L -92.89847405966428,43.991409715322746 L -92.8985071204675,43.99131731656764 L -92.89854907873566,43.991228603263174 L -92.8985995303877,43.99114442976698 L -92.89865798954665,43.991065606715836 L -92.89872389321881,43.99099289321882 L -92.89879660671585,43.99092698954664 L -92.89887542976699,43.9908685303877 L -92.89895960326318,43.99081807873565 L -92.89904831656764,43.99077612046749 L -92.89914071532276,43.99074305966427 L -92.899235909678,43.9907192147196 L -92.89933298285968,43.99070481527333 L -92.899431,43.990700000000004 L -92.89952901714034,43.99070481527333 L -92.89962609032202,43.9907192147196 L -92.89972128467726,43.99074305966427 L -92.89981368343237,43.99077612046749 L -92.89990239673683,43.99081807873565 L -92.89998657023303,43.9908685303877 L -92.90006539328417,43.99092698954664 L -92.9001381067812,43.99099289321882 L -92.90020401045336,43.991065606715836 L -92.90026246961231,43.99114442976698 L -92.90031292126436,43.991228603263174 L -92.90035487953251,43.99131731656764 L -92.90038794033573,43.991409715322746 L -92.90041178528041,43.991504909677985 L -92.90042618472668,43.99160198285967 L -92.90043100000001,43.9917 L -92.90042618472668,43.99179801714033 L -92.90041178528041,43.99189509032202 L -92.90038794033573,43.99199028467726 L -92.90035487953251,43.992082683432365 L -92.90031292126436,43.99217139673683 L -92.90026246961231,43.99225557023302 L -92.90020401045336,43.99233439328417 L -92.9001381067812,43.99240710678119 L -92.90006539328417,43.99247301045337 L -92.89998657023303,43.9925314696123 L -92.89990239673683,43.99258192126435 L -92.89981368343237,43.992623879532516 L -92.89972128467726,43.992656940335735 L -92.89962609032202,43.992680785280406 L -92.89952901714034,43.99269518472667 L -92.899431,43.9927 L -92.89933298285968,43.99269518472667 L -92.899235909678,43.992680785280406 L -92.89914071532276,43.992656940335735 L -92.89904831656764,43.992623879532516 L -92.89895960326318,43.99258192126435 L -92.89887542976699,43.9925314696123 L -92.89879660671585,43.99247301045337 L -92.89872389321881,43.99240710678119 L -92.89865798954665,43.99233439328417 L -92.8985995303877,43.99225557023302 L -92.89854907873566,43.99217139673683 L -92.8985071204675,43.992082683432365 L -92.89847405966428,43.99199028467726 L -92.8984502147196,43.99189509032202 L -92.89843581527333,43.99179801714033 L -92.898431,43.9917 z\" /><path fill-rule=\"evenodd\" fill=\"#66cc99\" stroke=\"#555555\" stroke-width=\"0.06126131520000001\" opacity=\"0.6\" d=\"M -92.903275,44.513489 L -92.90327981527332,44.51339098285967 L -92.9032942147196,44.513293909677984 L -92.90331805966427,44.513198715322744 L -92.90335112046749,44.51310631656764 L -92.90339307873565,44.51301760326317 L -92.90344353038769,44.51293342976698 L -92.90350198954664,44.512854606715834 L -92.9035678932188,44.512781893218815 L -92.90364060671584,44.512715989546635 L -92.90371942976698,44.5126575303877 L -92.90380360326317,44.51260707873565 L -92.90389231656764,44.512565120467485 L -92.90398471532275,44.51253205966427 L -92.90407990967799,44.512508214719595 L -92.90417698285967,44.51249381527333 L -92.904275,44.512489 L -92.90437301714033,44.51249381527333 L -92.90447009032201,44.512508214719595 L -92.90456528467725,44.51253205966427 L -92.90465768343236,44.512565120467485 L -92.90474639673683,44.51260707873565 L -92.90483057023302,44.5126575303877 L -92.90490939328416,44.512715989546635 L -92.90498210678119,44.512781893218815 L -92.90504801045336,44.512854606715834 L -92.9051064696123,44.51293342976698 L -92.90515692126435,44.51301760326317 L -92.9051988795325,44.51310631656764 L -92.90523194033572,44.513198715322744 L -92.9052557852804,44.513293909677984 L -92.90527018472667,44.51339098285967 L -92.905275,44.513489 L -92.90527018472667,44.51358701714033 L -92.9052557852804,44.513684090322016 L -92.90523194033572,44.513779284677256 L -92.9051988795325,44.51387168343236 L -92.90515692126435,44.51396039673683 L -92.9051064696123,44.51404457023302 L -92.90504801045336,44.514123393284166 L -92.90498210678119,44.514196106781185 L -92.90490939328416,44.514262010453365 L -92.90483057023302,44.5143204696123 L -92.90474639673683,44.51437092126435 L -92.90465768343236,44.514412879532514 L -92.90456528467725,44.51444594033573 L -92.90447009032201,44.514469785280404 L -92.90437301714033,44.51448418472667 L -92.904275,44.514489 L -92.90417698285967,44.51448418472667 L -92.90407990967799,44.514469785280404 L -92.90398471532275,44.51444594033573 L -92.90389231656764,44.514412879532514 L -92.90380360326317,44.51437092126435 L -92.90371942976698,44.5143204696123 L -92.90364060671584,44.514262010453365 L -92.9035678932188,44.514196106781185 L -92.90350198954664,44.514123393284166 L -92.90344353038769,44.51404457023302 L -92.90339307873565,44.51396039673683 L -92.90335112046749,44.51387168343236 L -92.90331805966427,44.513779284677256 L -92.9032942147196,44.513684090322016 L -92.90327981527332,44.51358701714033 L -92.903275,44.513489 z\" /><path fill-rule=\"evenodd\" fill=\"#66cc99\" stroke=\"#555555\" stroke-width=\"0.06126131520000001\" opacity=\"0.6\" d=\"M -92.905211,44.450797 L -92.90521581527332,44.45069898285967 L -92.9052302147196,44.450601909677985 L -92.90525405966427,44.450506715322746 L -92.90528712046749,44.45041431656764 L -92.90532907873565,44.450325603263174 L -92.90537953038769,44.45024142976698 L -92.90543798954664,44.450162606715836 L -92.9055038932188,44.450089893218816 L -92.90557660671584,44.45002398954664 L -92.90565542976698,44.4499655303877 L -92.90573960326317,44.44991507873565 L -92.90582831656764,44.44987312046749 L -92.90592071532275,44.44984005966427 L -92.90601590967799,44.4498162147196 L -92.90611298285967,44.44980181527333 L -92.906211,44.449797000000004 L -92.90630901714033,44.44980181527333 L -92.90640609032201,44.4498162147196 L -92.90650128467725,44.44984005966427 L -92.90659368343236,44.44987312046749 L -92.90668239673683,44.44991507873565 L -92.90676657023302,44.4499655303877 L -92.90684539328416,44.45002398954664 L -92.90691810678119,44.450089893218816 L -92.90698401045336,44.450162606715836 L -92.9070424696123,44.45024142976698 L -92.90709292126435,44.450325603263174 L -92.9071348795325,44.45041431656764 L -92.90716794033573,44.450506715322746 L -92.9071917852804,44.450601909677985 L -92.90720618472668,44.45069898285967 L -92.907211,44.450797 L -92.90720618472668,44.45089501714033 L -92.9071917852804,44.45099209032202 L -92.90716794033573,44.45108728467726 L -92.9071348795325,44.451179683432365 L -92.90709292126435,44.45126839673683 L -92.9070424696123,44.45135257023302 L -92.90698401045336,44.45143139328417 L -92.90691810678119,44.45150410678119 L -92.90684539328416,44.451570010453366 L -92.90676657023302,44.4516284696123 L -92.90668239673683,44.45167892126435 L -92.90659368343236,44.451720879532516 L -92.90650128467725,44.451753940335735 L -92.90640609032201,44.451777785280406 L -92.90630901714033,44.45179218472667 L -92.906211,44.451797 L -92.90611298285967,44.45179218472667 L -92.90601590967799,44.451777785280406 L -92.90592071532275,44.451753940335735 L -92.90582831656764,44.451720879532516 L -92.90573960326317,44.45167892126435 L -92.90565542976698,44.4516284696123 L -92.90557660671584,44.451570010453366 L -92.9055038932188,44.45150410678119 L -92.90543798954664,44.45143139328417 L -92.90537953038769,44.45135257023302 L -92.90532907873565,44.45126839673683 L -92.90528712046749,44.451179683432365 L -92.90525405966427,44.45108728467726 L -92.9052302147196,44.45099209032202 L -92.90521581527332,44.45089501714033 L -92.905211,44.450797 z\" /><path fill-rule=\"evenodd\" fill=\"#66cc99\" stroke=\"#555555\" stroke-width=\"0.06126131520000001\" opacity=\"0.6\" d=\"M -92.912942,44.554344 L -92.91294681527333,44.55424598285967 L -92.9129612147196,44.554148909677984 L -92.91298505966428,44.554053715322745 L -92.9130181204675,44.55396131656764 L -92.91306007873565,44.55387260326317 L -92.9131105303877,44.55378842976698 L -92.91316898954665,44.553709606715834 L -92.91323489321881,44.553636893218815 L -92.91330760671585,44.553570989546635 L -92.91338642976699,44.5535125303877 L -92.91347060326318,44.55346207873565 L -92.91355931656764,44.553420120467486 L -92.91365171532276,44.55338705966427 L -92.913746909678,44.553363214719596 L -92.91384398285967,44.55334881527333 L -92.913942,44.553344 L -92.91404001714034,44.55334881527333 L -92.91413709032201,44.553363214719596 L -92.91423228467725,44.55338705966427 L -92.91432468343237,44.553420120467486 L -92.91441339673683,44.55346207873565 L -92.91449757023302,44.5535125303877 L -92.91457639328416,44.553570989546635 L -92.9146491067812,44.553636893218815 L -92.91471501045336,44.553709606715834 L -92.91477346961231,44.55378842976698 L -92.91482392126436,44.55387260326317 L -92.91486587953251,44.55396131656764 L -92.91489894033573,44.554053715322745 L -92.91492278528041,44.554148909677984 L -92.91493718472668,44.55424598285967 L -92.91494200000001,44.554344 L -92.91493718472668,44.55444201714033 L -92.91492278528041,44.55453909032202 L -92.91489894033573,44.554634284677256 L -92.91486587953251,44.554726683432364 L -92.91482392126436,44.55481539673683 L -92.91477346961231,44.55489957023302 L -92.91471501045336,44.554978393284166 L -92.9146491067812,44.555051106781185 L -92.91457639328416,44.555117010453365 L -92.91449757023302,44.5551754696123 L -92.91441339673683,44.55522592126435 L -92.91432468343237,44.555267879532515 L -92.91423228467725,44.555300940335734 L -92.91413709032201,44.555324785280405 L -92.91404001714034,44.55533918472667 L -92.913942,44.555344 L -92.91384398285967,44.55533918472667 L -92.913746909678,44.555324785280405 L -92.91365171532276,44.555300940335734 L -92.91355931656764,44.555267879532515 L -92.91347060326318,44.55522592126435 L -92.91338642976699,44.5551754696123 L -92.91330760671585,44.555117010453365 L -92.91323489321881,44.555051106781185 L -92.91316898954665,44.554978393284166 L -92.9131105303877,44.55489957023302 L -92.91306007873565,44.55481539673683 L -92.9130181204675,44.554726683432364 L -92.91298505966428,44.554634284677256 L -92.9129612147196,44.55453909032202 L -92.91294681527333,44.55444201714033 L -92.912942,44.554344 z\" /><path fill-rule=\"evenodd\" fill=\"#66cc99\" stroke=\"#555555\" stroke-width=\"0.06126131520000001\" opacity=\"0.6\" d=\"M -92.923233,45.758931 L -92.92323781527332,45.758832982859666 L -92.9232522147196,45.75873590967798 L -92.92327605966427,45.75864071532274 L -92.9233091204675,45.758548316567634 L -92.92335107873565,45.75845960326317 L -92.9234015303877,45.75837542976698 L -92.92345998954664,45.75829660671583 L -92.92352589321881,45.75822389321881 L -92.92359860671584,45.75815798954663 L -92.92367742976698,45.758099530387696 L -92.92376160326317,45.758049078735645 L -92.92385031656764,45.75800712046748 L -92.92394271532275,45.757974059664264 L -92.92403790967799,45.75795021471959 L -92.92413498285967,45.75793581527333 L -92.924233,45.757931 L -92.92433101714033,45.75793581527333 L -92.92442809032201,45.75795021471959 L -92.92452328467725,45.757974059664264 L -92.92461568343236,45.75800712046748 L -92.92470439673683,45.758049078735645 L -92.92478857023302,45.758099530387696 L -92.92486739328416,45.75815798954663 L -92.9249401067812,45.75822389321881 L -92.92500601045336,45.75829660671583 L -92.92506446961231,45.75837542976698 L -92.92511492126435,45.75845960326317 L -92.92515687953251,45.758548316567634 L -92.92518994033573,45.75864071532274 L -92.9252137852804,45.75873590967798 L -92.92522818472668,45.758832982859666 L -92.925233,45.758931 L -92.92522818472668,45.75902901714033 L -92.9252137852804,45.75912609032201 L -92.92518994033573,45.75922128467725 L -92.92515687953251,45.75931368343236 L -92.92511492126435,45.759402396736824 L -92.92506446961231,45.759486570233015 L -92.92500601045336,45.75956539328416 L -92.9249401067812,45.75963810678118 L -92.92486739328416,45.75970401045336 L -92.92478857023302,45.7597624696123 L -92.92470439673683,45.75981292126435 L -92.92461568343236,45.75985487953251 L -92.92452328467725,45.75988794033573 L -92.92442809032201,45.7599117852804 L -92.92433101714033,45.759926184726666 L -92.924233,45.759930999999995 L -92.92413498285967,45.759926184726666 L -92.92403790967799,45.7599117852804 L -92.92394271532275,45.75988794033573 L -92.92385031656764,45.75985487953251 L -92.92376160326317,45.75981292126435 L -92.92367742976698,45.7597624696123 L -92.92359860671584,45.75970401045336 L -92.92352589321881,45.75963810678118 L -92.92345998954664,45.75956539328416 L -92.9234015303877,45.759486570233015 L -92.92335107873565,45.759402396736824 L -92.9233091204675,45.75931368343236 L -92.92327605966427,45.75922128467725 L -92.9232522147196,45.75912609032201 L -92.92323781527332,45.75902901714033 L -92.923233,45.758931 z\" /><path fill-rule=\"evenodd\" fill=\"#66cc99\" stroke=\"#555555\" stroke-width=\"0.06126131520000001\" opacity=\"0.6\" d=\"M -92.938186,44.523206 L -92.93819081527333,44.52310798285967 L -92.9382052147196,44.523010909677986 L -92.93822905966428,44.522915715322746 L -92.9382621204675,44.52282331656764 L -92.93830407873565,44.522734603263174 L -92.9383545303877,44.52265042976698 L -92.93841298954665,44.522571606715836 L -92.93847889321881,44.52249889321882 L -92.93855160671585,44.52243298954664 L -92.93863042976699,44.5223745303877 L -92.93871460326318,44.52232407873565 L -92.93880331656764,44.52228212046749 L -92.93889571532276,44.52224905966427 L -92.938990909678,44.5222252147196 L -92.93908798285968,44.52221081527333 L -92.939186,44.522206000000004 L -92.93928401714034,44.52221081527333 L -92.93938109032202,44.5222252147196 L -92.93947628467726,44.52224905966427 L -92.93956868343237,44.52228212046749 L -92.93965739673683,44.52232407873565 L -92.93974157023302,44.5223745303877 L -92.93982039328417,44.52243298954664 L -92.9398931067812,44.52249889321882 L -92.93995901045336,44.522571606715836 L -92.94001746961231,44.52265042976698 L -92.94006792126436,44.522734603263174 L -92.94010987953251,44.52282331656764 L -92.94014294033573,44.522915715322746 L -92.94016678528041,44.523010909677986 L -92.94018118472668,44.52310798285967 L -92.94018600000001,44.523206 L -92.94018118472668,44.52330401714033 L -92.94016678528041,44.52340109032202 L -92.94014294033573,44.52349628467726 L -92.94010987953251,44.523588683432365 L -92.94006792126436,44.52367739673683 L -92.94001746961231,44.52376157023302 L -92.93995901045336,44.52384039328417 L -92.9398931067812,44.52391310678119 L -92.93982039328417,44.52397901045337 L -92.93974157023302,44.5240374696123 L -92.93965739673683,44.52408792126435 L -92.93956868343237,44.524129879532516 L -92.93947628467726,44.524162940335735 L -92.93938109032202,44.524186785280406 L -92.93928401714034,44.52420118472667 L -92.939186,44.524206 L -92.93908798285968,44.52420118472667 L -92.938990909678,44.524186785280406 L -92.93889571532276,44.524162940335735 L -92.93880331656764,44.524129879532516 L -92.93871460326318,44.52408792126435 L -92.93863042976699,44.5240374696123 L -92.93855160671585,44.52397901045337 L -92.93847889321881,44.52391310678119 L -92.93841298954665,44.52384039328417 L -92.9383545303877,44.52376157023302 L -92.93830407873565,44.52367739673683 L -92.9382621204675,44.523588683432365 L -92.93822905966428,44.52349628467726 L -92.9382052147196,44.52340109032202 L -92.93819081527333,44.52330401714033 L -92.938186,44.523206 z\" /><path fill-rule=\"evenodd\" fill=\"#66cc99\" stroke=\"#555555\" stroke-width=\"0.06126131520000001\" opacity=\"0.6\" d=\"M -92.943333,44.167981 L -92.94333781527332,44.167882982859666 L -92.9433522147196,44.16778590967798 L -92.94337605966427,44.16769071532274 L -92.94340912046749,44.167598316567634 L -92.94345107873565,44.16750960326317 L -92.94350153038769,44.16742542976698 L -92.94355998954664,44.16734660671583 L -92.94362589321881,44.16727389321881 L -92.94369860671584,44.16720798954663 L -92.94377742976698,44.1671495303877 L -92.94386160326317,44.167099078735646 L -92.94395031656764,44.16705712046748 L -92.94404271532275,44.167024059664264 L -92.94413790967799,44.16700021471959 L -92.94423498285967,44.16698581527333 L -92.944333,44.166981 L -92.94443101714033,44.16698581527333 L -92.94452809032201,44.16700021471959 L -92.94462328467725,44.167024059664264 L -92.94471568343236,44.16705712046748 L -92.94480439673683,44.167099078735646 L -92.94488857023302,44.1671495303877 L -92.94496739328416,44.16720798954663 L -92.94504010678119,44.16727389321881 L -92.94510601045336,44.16734660671583 L -92.94516446961231,44.16742542976698 L -92.94521492126435,44.16750960326317 L -92.94525687953251,44.167598316567634 L -92.94528994033573,44.16769071532274 L -92.9453137852804,44.16778590967798 L -92.94532818472668,44.167882982859666 L -92.945333,44.167981 L -92.94532818472668,44.16807901714033 L -92.9453137852804,44.168176090322014 L -92.94528994033573,44.16827128467725 L -92.94525687953251,44.16836368343236 L -92.94521492126435,44.168452396736825 L -92.94516446961231,44.168536570233016 L -92.94510601045336,44.16861539328416 L -92.94504010678119,44.16868810678118 L -92.94496739328416,44.16875401045336 L -92.94488857023302,44.1688124696123 L -92.94480439673683,44.16886292126435 L -92.94471568343236,44.16890487953251 L -92.94462328467725,44.16893794033573 L -92.94452809032201,44.1689617852804 L -92.94443101714033,44.16897618472667 L -92.944333,44.168980999999995 L -92.94423498285967,44.16897618472667 L -92.94413790967799,44.1689617852804 L -92.94404271532275,44.16893794033573 L -92.94395031656764,44.16890487953251 L -92.94386160326317,44.16886292126435 L -92.94377742976698,44.1688124696123 L -92.94369860671584,44.16875401045336 L -92.94362589321881,44.16868810678118 L -92.94355998954664,44.16861539328416 L -92.94350153038769,44.168536570233016 L -92.94345107873565,44.168452396736825 L -92.94340912046749,44.16836368343236 L -92.94337605966427,44.16827128467725 L -92.9433522147196,44.168176090322014 L -92.94333781527332,44.16807901714033 L -92.943333,44.167981 z\" /><path fill-rule=\"evenodd\" fill=\"#66cc99\" stroke=\"#555555\" stroke-width=\"0.06126131520000001\" opacity=\"0.6\" d=\"M -92.94419699999999,44.004036 L -92.94420181527332,44.00393798285967 L -92.94421621471959,44.00384090967798 L -92.94424005966427,44.003745715322744 L -92.94427312046749,44.003653316567636 L -92.94431507873564,44.00356460326317 L -92.94436553038769,44.00348042976698 L -92.94442398954664,44.00340160671583 L -92.9444898932188,44.003328893218814 L -92.94456260671583,44.003262989546634 L -92.94464142976697,44.0032045303877 L -92.94472560326317,44.00315407873565 L -92.94481431656763,44.003112120467485 L -92.94490671532274,44.003079059664266 L -92.94500190967798,44.003055214719595 L -92.94509898285966,44.00304081527333 L -92.945197,44.003036 L -92.94529501714032,44.00304081527333 L -92.945392090322,44.003055214719595 L -92.94548728467724,44.003079059664266 L -92.94557968343236,44.003112120467485 L -92.94566839673682,44.00315407873565 L -92.94575257023301,44.0032045303877 L -92.94583139328415,44.003262989546634 L -92.94590410678119,44.003328893218814 L -92.94597001045335,44.00340160671583 L -92.9460284696123,44.00348042976698 L -92.94607892126434,44.00356460326317 L -92.9461208795325,44.003653316567636 L -92.94615394033572,44.003745715322744 L -92.9461777852804,44.00384090967798 L -92.94619218472667,44.00393798285967 L -92.946197,44.004036 L -92.94619218472667,44.00413401714033 L -92.9461777852804,44.004231090322016 L -92.94615394033572,44.004326284677255 L -92.9461208795325,44.00441868343236 L -92.94607892126434,44.00450739673683 L -92.9460284696123,44.00459157023302 L -92.94597001045335,44.004670393284165 L -92.94590410678119,44.004743106781184 L -92.94583139328415,44.004809010453364 L -92.94575257023301,44.0048674696123 L -92.94566839673682,44.00491792126435 L -92.94557968343236,44.004959879532514 L -92.94548728467724,44.00499294033573 L -92.945392090322,44.005016785280404 L -92.94529501714032,44.00503118472667 L -92.945197,44.005036 L -92.94509898285966,44.00503118472667 L -92.94500190967798,44.005016785280404 L -92.94490671532274,44.00499294033573 L -92.94481431656763,44.004959879532514 L -92.94472560326317,44.00491792126435 L -92.94464142976697,44.0048674696123 L -92.94456260671583,44.004809010453364 L -92.9444898932188,44.004743106781184 L -92.94442398954664,44.004670393284165 L -92.94436553038769,44.00459157023302 L -92.94431507873564,44.00450739673683 L -92.94427312046749,44.00441868343236 L -92.94424005966427,44.004326284677255 L -92.94421621471959,44.004231090322016 L -92.94420181527332,44.00413401714033 L -92.94419699999999,44.004036 z\" /><path fill-rule=\"evenodd\" fill=\"#66cc99\" stroke=\"#555555\" stroke-width=\"0.06126131520000001\" opacity=\"0.6\" d=\"M -92.947508,44.351017 L -92.94751281527333,44.35091898285967 L -92.9475272147196,44.35082190967798 L -92.94755105966428,44.35072671532274 L -92.9475841204675,44.350634316567636 L -92.94762607873565,44.35054560326317 L -92.9476765303877,44.35046142976698 L -92.94773498954665,44.35038260671583 L -92.94780089321881,44.350309893218814 L -92.94787360671585,44.350243989546634 L -92.94795242976699,44.3501855303877 L -92.94803660326318,44.35013507873565 L -92.94812531656764,44.350093120467484 L -92.94821771532276,44.350060059664266 L -92.948312909678,44.350036214719594 L -92.94840998285967,44.35002181527333 L -92.948508,44.350017 L -92.94860601714034,44.35002181527333 L -92.94870309032201,44.350036214719594 L -92.94879828467725,44.350060059664266 L -92.94889068343237,44.350093120467484 L -92.94897939673683,44.35013507873565 L -92.94906357023302,44.3501855303877 L -92.94914239328416,44.350243989546634 L -92.9492151067812,44.350309893218814 L -92.94928101045336,44.35038260671583 L -92.94933946961231,44.35046142976698 L -92.94938992126436,44.35054560326317 L -92.94943187953251,44.350634316567636 L -92.94946494033573,44.35072671532274 L -92.94948878528041,44.35082190967798 L -92.94950318472668,44.35091898285967 L -92.94950800000001,44.351017 L -92.94950318472668,44.35111501714033 L -92.94948878528041,44.351212090322015 L -92.94946494033573,44.351307284677254 L -92.94943187953251,44.35139968343236 L -92.94938992126436,44.351488396736826 L -92.94933946961231,44.35157257023302 L -92.94928101045336,44.351651393284165 L -92.9492151067812,44.351724106781184 L -92.94914239328416,44.351790010453364 L -92.94906357023302,44.3518484696123 L -92.94897939673683,44.35189892126435 L -92.94889068343237,44.35194087953251 L -92.94879828467725,44.35197394033573 L -92.94870309032201,44.3519977852804 L -92.94860601714034,44.35201218472667 L -92.948508,44.352017 L -92.94840998285967,44.35201218472667 L -92.948312909678,44.3519977852804 L -92.94821771532276,44.35197394033573 L -92.94812531656764,44.35194087953251 L -92.94803660326318,44.35189892126435 L -92.94795242976699,44.3518484696123 L -92.94787360671585,44.351790010453364 L -92.94780089321881,44.351724106781184 L -92.94773498954665,44.351651393284165 L -92.9476765303877,44.35157257023302 L -92.94762607873565,44.351488396736826 L -92.9475841204675,44.35139968343236 L -92.94755105966428,44.351307284677254 L -92.9475272147196,44.351212090322015 L -92.94751281527333,44.35111501714033 L -92.947508,44.351017 z\" /><path fill-rule=\"evenodd\" fill=\"#66cc99\" stroke=\"#555555\" stroke-width=\"0.06126131520000001\" opacity=\"0.6\" d=\"M -92.967467,45.353247 L -92.96747181527333,45.35314898285967 L -92.9674862147196,45.35305190967799 L -92.96751005966428,45.35295671532275 L -92.9675431204675,45.35286431656764 L -92.96758507873565,45.352775603263176 L -92.9676355303877,45.352691429766985 L -92.96769398954665,45.35261260671584 L -92.96775989321881,45.35253989321882 L -92.96783260671585,45.35247398954664 L -92.96791142976699,45.3524155303877 L -92.96799560326318,45.35236507873565 L -92.96808431656764,45.35232312046749 L -92.96817671532276,45.35229005966427 L -92.968271909678,45.3522662147196 L -92.96836898285967,45.352251815273334 L -92.968467,45.352247000000006 L -92.96856501714034,45.352251815273334 L -92.96866209032201,45.3522662147196 L -92.96875728467725,45.35229005966427 L -92.96884968343237,45.35232312046749 L -92.96893839673683,45.35236507873565 L -92.96902257023302,45.3524155303877 L -92.96910139328416,45.35247398954664 L -92.9691741067812,45.35253989321882 L -92.96924001045336,45.35261260671584 L -92.96929846961231,45.352691429766985 L -92.96934892126436,45.352775603263176 L -92.96939087953251,45.35286431656764 L -92.96942394033573,45.35295671532275 L -92.96944778528041,45.35305190967799 L -92.96946218472668,45.35314898285967 L -92.96946700000001,45.353247 L -92.96946218472668,45.353345017140335 L -92.96944778528041,45.35344209032202 L -92.96942394033573,45.35353728467726 L -92.96939087953251,45.35362968343237 L -92.96934892126436,45.35371839673683 L -92.96929846961231,45.35380257023302 L -92.96924001045336,45.35388139328417 L -92.9691741067812,45.35395410678119 L -92.96910139328416,45.35402001045337 L -92.96902257023302,45.354078469612304 L -92.96893839673683,45.354128921264355 L -92.96884968343237,45.35417087953252 L -92.96875728467725,45.354203940335736 L -92.96866209032201,45.35422778528041 L -92.96856501714034,45.35424218472667 L -92.968467,45.354247 L -92.96836898285967,45.35424218472667 L -92.968271909678,45.35422778528041 L -92.96817671532276,45.354203940335736 L -92.96808431656764,45.35417087953252 L -92.96799560326318,45.354128921264355 L -92.96791142976699,45.354078469612304 L -92.96783260671585,45.35402001045337 L -92.96775989321881,45.35395410678119 L -92.96769398954665,45.35388139328417 L -92.9676355303877,45.35380257023302 L -92.96758507873565,45.35371839673683 L -92.9675431204675,45.35362968343237 L -92.96751005966428,45.35353728467726 L -92.9674862147196,45.35344209032202 L -92.96747181527333,45.353345017140335 L -92.967467,45.353247 z\" /><path fill-rule=\"evenodd\" fill=\"#66cc99\" stroke=\"#555555\" stroke-width=\"0.06126131520000001\" opacity=\"0.6\" d=\"M -92.969506,45.829669 L -92.96951081527332,45.82957098285967 L -92.9695252147196,45.829473909677986 L -92.96954905966427,45.82937871532275 L -92.96958212046749,45.82928631656764 L -92.96962407873565,45.829197603263175 L -92.96967453038769,45.829113429766984 L -92.96973298954664,45.82903460671584 L -92.96979889321881,45.82896189321882 L -92.96987160671584,45.82889598954664 L -92.96995042976698,45.8288375303877 L -92.97003460326317,45.82878707873565 L -92.97012331656764,45.82874512046749 L -92.97021571532275,45.82871205966427 L -92.97031090967799,45.8286882147196 L -92.97040798285967,45.82867381527333 L -92.970506,45.828669000000005 L -92.97060401714033,45.82867381527333 L -92.97070109032201,45.8286882147196 L -92.97079628467725,45.82871205966427 L -92.97088868343236,45.82874512046749 L -92.97097739673683,45.82878707873565 L -92.97106157023302,45.8288375303877 L -92.97114039328416,45.82889598954664 L -92.97121310678119,45.82896189321882 L -92.97127901045336,45.82903460671584 L -92.97133746961231,45.829113429766984 L -92.97138792126435,45.829197603263175 L -92.97142987953251,45.82928631656764 L -92.97146294033573,45.82937871532275 L -92.9714867852804,45.829473909677986 L -92.97150118472668,45.82957098285967 L -92.971506,45.829669 L -92.97150118472668,45.829767017140334 L -92.9714867852804,45.82986409032202 L -92.97146294033573,45.82995928467726 L -92.97142987953251,45.830051683432366 L -92.97138792126435,45.83014039673683 L -92.97133746961231,45.83022457023302 L -92.97127901045336,45.83030339328417 L -92.97121310678119,45.83037610678119 L -92.97114039328416,45.83044201045337 L -92.97106157023302,45.8305004696123 L -92.97097739673683,45.830550921264354 L -92.97088868343236,45.83059287953252 L -92.97079628467725,45.830625940335736 L -92.97070109032201,45.83064978528041 L -92.97060401714033,45.83066418472667 L -92.970506,45.830669 L -92.97040798285967,45.83066418472667 L -92.97031090967799,45.83064978528041 L -92.97021571532275,45.830625940335736 L -92.97012331656764,45.83059287953252 L -92.97003460326317,45.830550921264354 L -92.96995042976698,45.8305004696123 L -92.96987160671584,45.83044201045337 L -92.96979889321881,45.83037610678119 L -92.96973298954664,45.83030339328417 L -92.96967453038769,45.83022457023302 L -92.96962407873565,45.83014039673683 L -92.96958212046749,45.830051683432366 L -92.96954905966427,45.82995928467726 L -92.9695252147196,45.82986409032202 L -92.96951081527332,45.829767017140334 L -92.969506,45.829669 z\" /><path fill-rule=\"evenodd\" fill=\"#66cc99\" stroke=\"#555555\" stroke-width=\"0.06126131520000001\" opacity=\"0.6\" d=\"M -92.970389,44.800967 L -92.97039381527333,44.80086898285967 L -92.9704082147196,44.800771909677984 L -92.97043205966428,44.800676715322744 L -92.9704651204675,44.80058431656764 L -92.97050707873565,44.80049560326317 L -92.9705575303877,44.80041142976698 L -92.97061598954664,44.800332606715834 L -92.97068189321881,44.800259893218815 L -92.97075460671584,44.800193989546635 L -92.97083342976698,44.8001355303877 L -92.97091760326317,44.80008507873565 L -92.97100631656764,44.800043120467485 L -92.97109871532275,44.80001005966427 L -92.971193909678,44.799986214719596 L -92.97129098285967,44.79997181527333 L -92.971389,44.799967 L -92.97148701714033,44.79997181527333 L -92.97158409032201,44.799986214719596 L -92.97167928467725,44.80001005966427 L -92.97177168343237,44.800043120467485 L -92.97186039673683,44.80008507873565 L -92.97194457023302,44.8001355303877 L -92.97202339328416,44.800193989546635 L -92.9720961067812,44.800259893218815 L -92.97216201045336,44.800332606715834 L -92.97222046961231,44.80041142976698 L -92.97227092126435,44.80049560326317 L -92.97231287953251,44.80058431656764 L -92.97234594033573,44.800676715322744 L -92.9723697852804,44.800771909677984 L -92.97238418472668,44.80086898285967 L -92.972389,44.800967 L -92.97238418472668,44.80106501714033 L -92.9723697852804,44.801162090322016 L -92.97234594033573,44.801257284677256 L -92.97231287953251,44.80134968343236 L -92.97227092126435,44.80143839673683 L -92.97222046961231,44.80152257023302 L -92.97216201045336,44.801601393284166 L -92.9720961067812,44.801674106781185 L -92.97202339328416,44.801740010453365 L -92.97194457023302,44.8017984696123 L -92.97186039673683,44.80184892126435 L -92.97177168343237,44.801890879532515 L -92.97167928467725,44.80192394033573 L -92.97158409032201,44.801947785280404 L -92.97148701714033,44.80196218472667 L -92.971389,44.801967 L -92.97129098285967,44.80196218472667 L -92.971193909678,44.801947785280404 L -92.97109871532275,44.80192394033573 L -92.97100631656764,44.801890879532515 L -92.97091760326317,44.80184892126435 L -92.97083342976698,44.8017984696123 L -92.97075460671584,44.801740010453365 L -92.97068189321881,44.801674106781185 L -92.97061598954664,44.801601393284166 L -92.9705575303877,44.80152257023302 L -92.97050707873565,44.80143839673683 L -92.9704651204675,44.80134968343236 L -92.97043205966428,44.801257284677256 L -92.9704082147196,44.801162090322016 L -92.97039381527333,44.80106501714033 L -92.970389,44.800967 z\" /><path fill-rule=\"evenodd\" fill=\"#66cc99\" stroke=\"#555555\" stroke-width=\"0.06126131520000001\" opacity=\"0.6\" d=\"M -92.97960599999999,45.208619 L -92.97961081527332,45.20852098285967 L -92.97962521471959,45.20842390967798 L -92.97964905966427,45.20832871532274 L -92.97968212046749,45.208236316567636 L -92.97972407873564,45.20814760326317 L -92.97977453038769,45.20806342976698 L -92.97983298954664,45.20798460671583 L -92.9798988932188,45.207911893218814 L -92.97997160671584,45.207845989546634 L -92.98005042976698,45.2077875303877 L -92.98013460326317,45.20773707873565 L -92.98022331656763,45.207695120467484 L -92.98031571532275,45.207662059664266 L -92.98041090967799,45.207638214719594 L -92.98050798285966,45.20762381527333 L -92.980606,45.207619 L -92.98070401714033,45.20762381527333 L -92.980801090322,45.207638214719594 L -92.98089628467724,45.207662059664266 L -92.98098868343236,45.207695120467484 L -92.98107739673682,45.20773707873565 L -92.98116157023301,45.2077875303877 L -92.98124039328415,45.207845989546634 L -92.98131310678119,45.207911893218814 L -92.98137901045335,45.20798460671583 L -92.9814374696123,45.20806342976698 L -92.98148792126435,45.20814760326317 L -92.9815298795325,45.208236316567636 L -92.98156294033572,45.20832871532274 L -92.9815867852804,45.20842390967798 L -92.98160118472667,45.20852098285967 L -92.981606,45.208619 L -92.98160118472667,45.20871701714033 L -92.9815867852804,45.208814090322015 L -92.98156294033572,45.208909284677254 L -92.9815298795325,45.20900168343236 L -92.98148792126435,45.209090396736826 L -92.9814374696123,45.20917457023302 L -92.98137901045335,45.209253393284165 L -92.98131310678119,45.209326106781184 L -92.98124039328415,45.209392010453364 L -92.98116157023301,45.2094504696123 L -92.98107739673682,45.20950092126435 L -92.98098868343236,45.20954287953251 L -92.98089628467724,45.20957594033573 L -92.980801090322,45.2095997852804 L -92.98070401714033,45.20961418472667 L -92.980606,45.209618999999996 L -92.98050798285966,45.20961418472667 L -92.98041090967799,45.2095997852804 L -92.98031571532275,45.20957594033573 L -92.98022331656763,45.20954287953251 L -92.98013460326317,45.20950092126435 L -92.98005042976698,45.2094504696123 L -92.97997160671584,45.209392010453364 L -92.9798988932188,45.209326106781184 L -92.97983298954664,45.209253393284165 L -92.97977453038769,45.20917457023302 L -92.97972407873564,45.209090396736826 L -92.97968212046749,45.20900168343236 L -92.97964905966427,45.208909284677254 L -92.97962521471959,45.208814090322015 L -92.97961081527332,45.20871701714033 L -92.97960599999999,45.208619 z\" /><path fill-rule=\"evenodd\" fill=\"#66cc99\" stroke=\"#555555\" stroke-width=\"0.06126131520000001\" opacity=\"0.6\" d=\"M -92.999856,44.196658 L -92.99986081527332,44.19655998285967 L -92.9998752147196,44.19646290967798 L -92.99989905966427,44.196367715322744 L -92.99993212046749,44.196275316567636 L -92.99997407873565,44.19618660326317 L -93.00002453038769,44.19610242976698 L -93.00008298954664,44.19602360671583 L -93.0001488932188,44.195950893218814 L -93.00022160671584,44.195884989546634 L -93.00030042976698,44.1958265303877 L -93.00038460326317,44.19577607873565 L -93.00047331656764,44.195734120467485 L -93.00056571532275,44.195701059664266 L -93.00066090967799,44.195677214719595 L -93.00075798285967,44.19566281527333 L -93.000856,44.195658 L -93.00095401714033,44.19566281527333 L -93.00105109032201,44.195677214719595 L -93.00114628467725,44.195701059664266 L -93.00123868343236,44.195734120467485 L -93.00132739673683,44.19577607873565 L -93.00141157023302,44.1958265303877 L -93.00149039328416,44.195884989546634 L -93.00156310678119,44.195950893218814 L -93.00162901045336,44.19602360671583 L -93.0016874696123,44.19610242976698 L -93.00173792126435,44.19618660326317 L -93.0017798795325,44.196275316567636 L -93.00181294033572,44.196367715322744 L -93.0018367852804,44.19646290967798 L -93.00185118472668,44.19655998285967 L -93.001856,44.196658 L -93.00185118472668,44.19675601714033 L -93.0018367852804,44.196853090322016 L -93.00181294033572,44.196948284677255 L -93.0017798795325,44.19704068343236 L -93.00173792126435,44.19712939673683 L -93.0016874696123,44.19721357023302 L -93.00162901045336,44.197292393284165 L -93.00156310678119,44.197365106781184 L -93.00149039328416,44.197431010453364 L -93.00141157023302,44.1974894696123 L -93.00132739673683,44.19753992126435 L -93.00123868343236,44.197581879532514 L -93.00114628467725,44.19761494033573 L -93.00105109032201,44.197638785280404 L -93.00095401714033,44.19765318472667 L -93.000856,44.197658 L -93.00075798285967,44.19765318472667 L -93.00066090967799,44.197638785280404 L -93.00056571532275,44.19761494033573 L -93.00047331656764,44.197581879532514 L -93.00038460326317,44.19753992126435 L -93.00030042976698,44.1974894696123 L -93.00022160671584,44.197431010453364 L -93.0001488932188,44.197365106781184 L -93.00008298954664,44.197292393284165 L -93.00002453038769,44.19721357023302 L -92.99997407873565,44.19712939673683 L -92.99993212046749,44.19704068343236 L -92.99989905966427,44.196948284677255 L -92.9998752147196,44.196853090322016 L -92.99986081527332,44.19675601714033 L -92.999856,44.196658 z\" /><path fill-rule=\"evenodd\" fill=\"#66cc99\" stroke=\"#555555\" stroke-width=\"0.06126131520000001\" opacity=\"0.6\" d=\"M -93.015022,44.838061 L -93.01502681527333,44.83796298285967 L -93.0150412147196,44.83786590967799 L -93.01506505966428,44.83777071532275 L -93.0150981204675,44.83767831656764 L -93.01514007873566,44.837589603263176 L -93.0151905303877,44.837505429766985 L -93.01524898954665,44.83742660671584 L -93.01531489321881,44.83735389321882 L -93.01538760671585,44.83728798954664 L -93.01546642976699,44.8372295303877 L -93.01555060326318,44.83717907873565 L -93.01563931656764,44.83713712046749 L -93.01573171532276,44.83710405966427 L -93.015826909678,44.8370802147196 L -93.01592398285968,44.837065815273334 L -93.016022,44.837061000000006 L -93.01612001714034,44.837065815273334 L -93.01621709032202,44.8370802147196 L -93.01631228467726,44.83710405966427 L -93.01640468343237,44.83713712046749 L -93.01649339673683,44.83717907873565 L -93.01657757023303,44.8372295303877 L -93.01665639328417,44.83728798954664 L -93.0167291067812,44.83735389321882 L -93.01679501045336,44.83742660671584 L -93.01685346961231,44.837505429766985 L -93.01690392126436,44.837589603263176 L -93.01694587953251,44.83767831656764 L -93.01697894033573,44.83777071532275 L -93.01700278528041,44.83786590967799 L -93.01701718472668,44.83796298285967 L -93.01702200000001,44.838061 L -93.01701718472668,44.838159017140335 L -93.01700278528041,44.83825609032202 L -93.01697894033573,44.83835128467726 L -93.01694587953251,44.83844368343237 L -93.01690392126436,44.83853239673683 L -93.01685346961231,44.83861657023302 L -93.01679501045336,44.83869539328417 L -93.0167291067812,44.83876810678119 L -93.01665639328417,44.83883401045337 L -93.01657757023303,44.838892469612304 L -93.01649339673683,44.838942921264355 L -93.01640468343237,44.83898487953252 L -93.01631228467726,44.83901794033574 L -93.01621709032202,44.83904178528041 L -93.01612001714034,44.83905618472667 L -93.016022,44.839061 L -93.01592398285968,44.83905618472667 L -93.015826909678,44.83904178528041 L -93.01573171532276,44.83901794033574 L -93.01563931656764,44.83898487953252 L -93.01555060326318,44.838942921264355 L -93.01546642976699,44.838892469612304 L -93.01538760671585,44.83883401045337 L -93.01531489321881,44.83876810678119 L -93.01524898954665,44.83869539328417 L -93.0151905303877,44.83861657023302 L -93.01514007873566,44.83853239673683 L -93.0150981204675,44.83844368343237 L -93.01506505966428,44.83835128467726 L -93.0150412147196,44.83825609032202 L -93.01502681527333,44.838159017140335 L -93.015022,44.838061 z\" /><path fill-rule=\"evenodd\" fill=\"#66cc99\" stroke=\"#555555\" stroke-width=\"0.06126131520000001\" opacity=\"0.6\" d=\"M -93.02104999999999,43.979225 L -93.02105481527332,43.97912698285967 L -93.02106921471959,43.97902990967798 L -93.02109305966427,43.978934715322744 L -93.02112612046749,43.978842316567636 L -93.02116807873564,43.97875360326317 L -93.02121853038769,43.97866942976698 L -93.02127698954664,43.978590606715834 L -93.0213428932188,43.978517893218815 L -93.02141560671583,43.978451989546635 L -93.02149442976697,43.9783935303877 L -93.02157860326317,43.97834307873565 L -93.02166731656763,43.978301120467485 L -93.02175971532274,43.978268059664266 L -93.02185490967798,43.978244214719595 L -93.02195198285966,43.97822981527333 L -93.02205,43.978225 L -93.02214801714032,43.97822981527333 L -93.022245090322,43.978244214719595 L -93.02234028467724,43.978268059664266 L -93.02243268343236,43.978301120467485 L -93.02252139673682,43.97834307873565 L -93.02260557023301,43.9783935303877 L -93.02268439328415,43.978451989546635 L -93.02275710678119,43.978517893218815 L -93.02282301045335,43.978590606715834 L -93.0228814696123,43.97866942976698 L -93.02293192126434,43.97875360326317 L -93.0229738795325,43.978842316567636 L -93.02300694033572,43.978934715322744 L -93.0230307852804,43.97902990967798 L -93.02304518472667,43.97912698285967 L -93.02305,43.979225 L -93.02304518472667,43.97932301714033 L -93.0230307852804,43.979420090322016 L -93.02300694033572,43.979515284677255 L -93.0229738795325,43.97960768343236 L -93.02293192126434,43.97969639673683 L -93.0228814696123,43.97978057023302 L -93.02282301045335,43.979859393284165 L -93.02275710678119,43.979932106781185 L -93.02268439328415,43.979998010453365 L -93.02260557023301,43.9800564696123 L -93.02252139673682,43.98010692126435 L -93.02243268343236,43.980148879532514 L -93.02234028467724,43.98018194033573 L -93.022245090322,43.980205785280404 L -93.02214801714032,43.98022018472667 L -93.02205,43.980225 L -93.02195198285966,43.98022018472667 L -93.02185490967798,43.980205785280404 L -93.02175971532274,43.98018194033573 L -93.02166731656763,43.980148879532514 L -93.02157860326317,43.98010692126435 L -93.02149442976697,43.9800564696123 L -93.02141560671583,43.979998010453365 L -93.0213428932188,43.979932106781185 L -93.02127698954664,43.979859393284165 L -93.02121853038769,43.97978057023302 L -93.02116807873564,43.97969639673683 L -93.02112612046749,43.97960768343236 L -93.02109305966427,43.979515284677255 L -93.02106921471959,43.979420090322016 L -93.02105481527332,43.97932301714033 L -93.02104999999999,43.979225 z\" /><path fill-rule=\"evenodd\" fill=\"#66cc99\" stroke=\"#555555\" stroke-width=\"0.06126131520000001\" opacity=\"0.6\" d=\"M -93.024322,44.9734 L -93.02432681527333,44.97330198285967 L -93.0243412147196,44.97320490967798 L -93.02436505966428,44.97310971532274 L -93.0243981204675,44.973017316567635 L -93.02444007873565,44.97292860326317 L -93.0244905303877,44.97284442976698 L -93.02454898954664,44.97276560671583 L -93.02461489321881,44.97269289321881 L -93.02468760671584,44.97262698954663 L -93.02476642976698,44.9725685303877 L -93.02485060326318,44.972518078735646 L -93.02493931656764,44.97247612046748 L -93.02503171532275,44.972443059664265 L -93.025126909678,44.972419214719594 L -93.02522398285967,44.97240481527333 L -93.025322,44.9724 L -93.02542001714033,44.97240481527333 L -93.02551709032201,44.972419214719594 L -93.02561228467725,44.972443059664265 L -93.02570468343237,44.97247612046748 L -93.02579339673683,44.972518078735646 L -93.02587757023302,44.9725685303877 L -93.02595639328416,44.97262698954663 L -93.0260291067812,44.97269289321881 L -93.02609501045336,44.97276560671583 L -93.02615346961231,44.97284442976698 L -93.02620392126435,44.97292860326317 L -93.02624587953251,44.973017316567635 L -93.02627894033573,44.97310971532274 L -93.02630278528041,44.97320490967798 L -93.02631718472668,44.97330198285967 L -93.02632200000001,44.9734 L -93.02631718472668,44.97349801714033 L -93.02630278528041,44.973595090322014 L -93.02627894033573,44.973690284677254 L -93.02624587953251,44.97378268343236 L -93.02620392126435,44.973871396736826 L -93.02615346961231,44.97395557023302 L -93.02609501045336,44.974034393284164 L -93.0260291067812,44.97410710678118 L -93.02595639328416,44.97417301045336 L -93.02587757023302,44.9742314696123 L -93.02579339673683,44.97428192126435 L -93.02570468343237,44.97432387953251 L -93.02561228467725,44.97435694033573 L -93.02551709032201,44.9743807852804 L -93.02542001714033,44.97439518472667 L -93.025322,44.974399999999996 L -93.02522398285967,44.97439518472667 L -93.025126909678,44.9743807852804 L -93.02503171532275,44.97435694033573 L -93.02493931656764,44.97432387953251 L -93.02485060326318,44.97428192126435 L -93.02476642976698,44.9742314696123 L -93.02468760671584,44.97417301045336 L -93.02461489321881,44.97410710678118 L -93.02454898954664,44.974034393284164 L -93.0244905303877,44.97395557023302 L -93.02444007873565,44.973871396736826 L -93.0243981204675,44.97378268343236 L -93.02436505966428,44.973690284677254 L -93.0243412147196,44.973595090322014 L -93.02432681527333,44.97349801714033 L -93.024322,44.9734 z\" /><path fill-rule=\"evenodd\" fill=\"#66cc99\" stroke=\"#555555\" stroke-width=\"0.06126131520000001\" opacity=\"0.6\" d=\"M -93.025258,44.327694 L -93.02526281527332,44.32759598285967 L -93.0252772147196,44.327498909677985 L -93.02530105966427,44.327403715322745 L -93.02533412046749,44.32731131656764 L -93.02537607873565,44.32722260326317 L -93.02542653038769,44.32713842976698 L -93.02548498954664,44.327059606715835 L -93.0255508932188,44.326986893218816 L -93.02562360671584,44.326920989546636 L -93.02570242976698,44.3268625303877 L -93.02578660326317,44.32681207873565 L -93.02587531656764,44.326770120467486 L -93.02596771532275,44.32673705966427 L -93.02606290967799,44.3267132147196 L -93.02615998285967,44.32669881527333 L -93.026258,44.326694 L -93.02635601714033,44.32669881527333 L -93.02645309032201,44.3267132147196 L -93.02654828467725,44.32673705966427 L -93.02664068343236,44.326770120467486 L -93.02672939673683,44.32681207873565 L -93.02681357023302,44.3268625303877 L -93.02689239328416,44.326920989546636 L -93.02696510678119,44.326986893218816 L -93.02703101045336,44.327059606715835 L -93.0270894696123,44.32713842976698 L -93.02713992126435,44.32722260326317 L -93.0271818795325,44.32731131656764 L -93.02721494033572,44.327403715322745 L -93.0272387852804,44.327498909677985 L -93.02725318472667,44.32759598285967 L -93.027258,44.327694 L -93.02725318472667,44.32779201714033 L -93.0272387852804,44.32788909032202 L -93.02721494033572,44.32798428467726 L -93.0271818795325,44.328076683432364 L -93.02713992126435,44.32816539673683 L -93.0270894696123,44.32824957023302 L -93.02703101045336,44.32832839328417 L -93.02696510678119,44.328401106781186 L -93.02689239328416,44.328467010453366 L -93.02681357023302,44.3285254696123 L -93.02672939673683,44.32857592126435 L -93.02664068343236,44.328617879532516 L -93.02654828467725,44.328650940335734 L -93.02645309032201,44.328674785280406 L -93.02635601714033,44.32868918472667 L -93.026258,44.328694 L -93.02615998285967,44.32868918472667 L -93.02606290967799,44.328674785280406 L -93.02596771532275,44.328650940335734 L -93.02587531656764,44.328617879532516 L -93.02578660326317,44.32857592126435 L -93.02570242976698,44.3285254696123 L -93.02562360671584,44.328467010453366 L -93.0255508932188,44.328401106781186 L -93.02548498954664,44.32832839328417 L -93.02542653038769,44.32824957023302 L -93.02537607873565,44.32816539673683 L -93.02533412046749,44.328076683432364 L -93.02530105966427,44.32798428467726 L -93.0252772147196,44.32788909032202 L -93.02526281527332,44.32779201714033 L -93.025258,44.327694 z\" /><path fill-rule=\"evenodd\" fill=\"#66cc99\" stroke=\"#555555\" stroke-width=\"0.06126131520000001\" opacity=\"0.6\" d=\"M -93.04399699999999,44.969636 L -93.04400181527332,44.96953798285967 L -93.04401621471959,44.969440909677985 L -93.04404005966427,44.969345715322746 L -93.04407312046749,44.96925331656764 L -93.04411507873564,44.969164603263174 L -93.04416553038769,44.96908042976698 L -93.04422398954664,44.969001606715835 L -93.0442898932188,44.968928893218816 L -93.04436260671584,44.968862989546636 L -93.04444142976698,44.9688045303877 L -93.04452560326317,44.96875407873565 L -93.04461431656763,44.96871212046749 L -93.04470671532275,44.96867905966427 L -93.04480190967799,44.9686552147196 L -93.04489898285966,44.96864081527333 L -93.044997,44.968636000000004 L -93.04509501714033,44.96864081527333 L -93.045192090322,44.9686552147196 L -93.04528728467724,44.96867905966427 L -93.04537968343236,44.96871212046749 L -93.04546839673682,44.96875407873565 L -93.04555257023301,44.9688045303877 L -93.04563139328415,44.968862989546636 L -93.04570410678119,44.968928893218816 L -93.04577001045335,44.969001606715835 L -93.0458284696123,44.96908042976698 L -93.04587892126435,44.969164603263174 L -93.0459208795325,44.96925331656764 L -93.04595394033572,44.969345715322746 L -93.0459777852804,44.969440909677985 L -93.04599218472667,44.96953798285967 L -93.045997,44.969636 L -93.04599218472667,44.96973401714033 L -93.0459777852804,44.96983109032202 L -93.04595394033572,44.96992628467726 L -93.0459208795325,44.970018683432365 L -93.04587892126435,44.97010739673683 L -93.0458284696123,44.97019157023302 L -93.04577001045335,44.97027039328417 L -93.04570410678119,44.970343106781186 L -93.04563139328415,44.970409010453366 L -93.04555257023301,44.9704674696123 L -93.04546839673682,44.97051792126435 L -93.04537968343236,44.970559879532516 L -93.04528728467724,44.970592940335735 L -93.045192090322,44.970616785280406 L -93.04509501714033,44.97063118472667 L -93.044997,44.970636 L -93.04489898285966,44.97063118472667 L -93.04480190967799,44.970616785280406 L -93.04470671532275,44.970592940335735 L -93.04461431656763,44.970559879532516 L -93.04452560326317,44.97051792126435 L -93.04444142976698,44.9704674696123 L -93.04436260671584,44.970409010453366 L -93.0442898932188,44.970343106781186 L -93.04422398954664,44.97027039328417 L -93.04416553038769,44.97019157023302 L -93.04411507873564,44.97010739673683 L -93.04407312046749,44.970018683432365 L -93.04404005966427,44.96992628467726 L -93.04401621471959,44.96983109032202 L -93.04400181527332,44.96973401714033 L -93.04399699999999,44.969636 z\" /><path fill-rule=\"evenodd\" fill=\"#66cc99\" stroke=\"#555555\" stroke-width=\"0.06126131520000001\" opacity=\"0.6\" d=\"M -93.04789699999999,44.4768 L -93.04790181527332,44.476701982859666 L -93.04791621471959,44.47660490967798 L -93.04794005966427,44.47650971532274 L -93.04797312046749,44.476417316567634 L -93.04801507873565,44.47632860326317 L -93.04806553038769,44.47624442976698 L -93.04812398954664,44.47616560671583 L -93.0481898932188,44.47609289321881 L -93.04826260671584,44.47602698954663 L -93.04834142976698,44.475968530387696 L -93.04842560326317,44.475918078735646 L -93.04851431656763,44.47587612046748 L -93.04860671532275,44.475843059664264 L -93.04870190967799,44.47581921471959 L -93.04879898285967,44.47580481527333 L -93.048897,44.4758 L -93.04899501714033,44.47580481527333 L -93.049092090322,44.47581921471959 L -93.04918728467725,44.475843059664264 L -93.04927968343236,44.47587612046748 L -93.04936839673682,44.475918078735646 L -93.04945257023302,44.475968530387696 L -93.04953139328416,44.47602698954663 L -93.04960410678119,44.47609289321881 L -93.04967001045335,44.47616560671583 L -93.0497284696123,44.47624442976698 L -93.04977892126435,44.47632860326317 L -93.0498208795325,44.476417316567634 L -93.04985394033572,44.47650971532274 L -93.0498777852804,44.47660490967798 L -93.04989218472667,44.476701982859666 L -93.049897,44.4768 L -93.04989218472667,44.47689801714033 L -93.0498777852804,44.47699509032201 L -93.04985394033572,44.47709028467725 L -93.0498208795325,44.47718268343236 L -93.04977892126435,44.477271396736825 L -93.0497284696123,44.477355570233016 L -93.04967001045335,44.47743439328416 L -93.04960410678119,44.47750710678118 L -93.04953139328416,44.47757301045336 L -93.04945257023302,44.4776314696123 L -93.04936839673682,44.47768192126435 L -93.04927968343236,44.47772387953251 L -93.04918728467725,44.47775694033573 L -93.049092090322,44.4777807852804 L -93.04899501714033,44.477795184726666 L -93.048897,44.477799999999995 L -93.04879898285967,44.477795184726666 L -93.04870190967799,44.4777807852804 L -93.04860671532275,44.47775694033573 L -93.04851431656763,44.47772387953251 L -93.04842560326317,44.47768192126435 L -93.04834142976698,44.4776314696123 L -93.04826260671584,44.47757301045336 L -93.0481898932188,44.47750710678118 L -93.04812398954664,44.47743439328416 L -93.04806553038769,44.477355570233016 L -93.04801507873565,44.477271396736825 L -93.04797312046749,44.47718268343236 L -93.04794005966427,44.47709028467725 L -93.04791621471959,44.47699509032201 L -93.04790181527332,44.47689801714033 L -93.04789699999999,44.4768 z\" /><path fill-rule=\"evenodd\" fill=\"#66cc99\" stroke=\"#555555\" stroke-width=\"0.06126131520000001\" opacity=\"0.6\" d=\"M -93.054206,44.666744 L -93.05421081527332,44.66664598285967 L -93.0542252147196,44.666548909677985 L -93.05424905966427,44.666453715322746 L -93.05428212046749,44.66636131656764 L -93.05432407873565,44.666272603263174 L -93.05437453038769,44.66618842976698 L -93.05443298954664,44.666109606715835 L -93.0544988932188,44.666036893218816 L -93.05457160671584,44.665970989546636 L -93.05465042976698,44.6659125303877 L -93.05473460326317,44.66586207873565 L -93.05482331656764,44.66582012046749 L -93.05491571532275,44.66578705966427 L -93.05501090967799,44.6657632147196 L -93.05510798285967,44.66574881527333 L -93.055206,44.665744000000004 L -93.05530401714033,44.66574881527333 L -93.05540109032201,44.6657632147196 L -93.05549628467725,44.66578705966427 L -93.05558868343236,44.66582012046749 L -93.05567739673683,44.66586207873565 L -93.05576157023302,44.6659125303877 L -93.05584039328416,44.665970989546636 L -93.05591310678119,44.666036893218816 L -93.05597901045336,44.666109606715835 L -93.0560374696123,44.66618842976698 L -93.05608792126435,44.666272603263174 L -93.0561298795325,44.66636131656764 L -93.05616294033572,44.666453715322746 L -93.0561867852804,44.666548909677985 L -93.05620118472667,44.66664598285967 L -93.056206,44.666744 L -93.05620118472667,44.66684201714033 L -93.0561867852804,44.66693909032202 L -93.05616294033572,44.66703428467726 L -93.0561298795325,44.667126683432365 L -93.05608792126435,44.66721539673683 L -93.0560374696123,44.66729957023302 L -93.05597901045336,44.66737839328417 L -93.05591310678119,44.667451106781186 L -93.05584039328416,44.667517010453366 L -93.05576157023302,44.6675754696123 L -93.05567739673683,44.66762592126435 L -93.05558868343236,44.667667879532516 L -93.05549628467725,44.667700940335735 L -93.05540109032201,44.667724785280406 L -93.05530401714033,44.66773918472667 L -93.055206,44.667744 L -93.05510798285967,44.66773918472667 L -93.05501090967799,44.667724785280406 L -93.05491571532275,44.667700940335735 L -93.05482331656764,44.667667879532516 L -93.05473460326317,44.66762592126435 L -93.05465042976698,44.6675754696123 L -93.05457160671584,44.667517010453366 L -93.0544988932188,44.667451106781186 L -93.05443298954664,44.66737839328417 L -93.05437453038769,44.66729957023302 L -93.05432407873565,44.66721539673683 L -93.05428212046749,44.667126683432365 L -93.05424905966427,44.66703428467726 L -93.0542252147196,44.66693909032202 L -93.05421081527332,44.66684201714033 L -93.054206,44.666744 z\" /><path fill-rule=\"evenodd\" fill=\"#66cc99\" stroke=\"#555555\" stroke-width=\"0.06126131520000001\" opacity=\"0.6\" d=\"M -93.054717,44.615906 L -93.05472181527333,44.61580798285967 L -93.0547362147196,44.615710909677986 L -93.05476005966428,44.61561571532275 L -93.0547931204675,44.61552331656764 L -93.05483507873565,44.615434603263175 L -93.0548855303877,44.615350429766984 L -93.05494398954664,44.61527160671584 L -93.05500989321881,44.61519889321882 L -93.05508260671584,44.61513298954664 L -93.05516142976698,44.6150745303877 L -93.05524560326317,44.61502407873565 L -93.05533431656764,44.61498212046749 L -93.05542671532275,44.61494905966427 L -93.05552190967799,44.6149252147196 L -93.05561898285967,44.61491081527333 L -93.055717,44.614906000000005 L -93.05581501714033,44.61491081527333 L -93.05591209032201,44.6149252147196 L -93.05600728467725,44.61494905966427 L -93.05609968343236,44.61498212046749 L -93.05618839673683,44.61502407873565 L -93.05627257023302,44.6150745303877 L -93.05635139328416,44.61513298954664 L -93.0564241067812,44.61519889321882 L -93.05649001045336,44.61527160671584 L -93.05654846961231,44.615350429766984 L -93.05659892126435,44.615434603263175 L -93.05664087953251,44.61552331656764 L -93.05667394033573,44.61561571532275 L -93.0566977852804,44.615710909677986 L -93.05671218472668,44.61580798285967 L -93.056717,44.615906 L -93.05671218472668,44.616004017140334 L -93.0566977852804,44.61610109032202 L -93.05667394033573,44.61619628467726 L -93.05664087953251,44.616288683432366 L -93.05659892126435,44.61637739673683 L -93.05654846961231,44.61646157023302 L -93.05649001045336,44.61654039328417 L -93.0564241067812,44.61661310678119 L -93.05635139328416,44.61667901045337 L -93.05627257023302,44.6167374696123 L -93.05618839673683,44.616787921264354 L -93.05609968343236,44.61682987953252 L -93.05600728467725,44.616862940335736 L -93.05591209032201,44.61688678528041 L -93.05581501714033,44.61690118472667 L -93.055717,44.616906 L -93.05561898285967,44.61690118472667 L -93.05552190967799,44.61688678528041 L -93.05542671532275,44.616862940335736 L -93.05533431656764,44.61682987953252 L -93.05524560326317,44.616787921264354 L -93.05516142976698,44.6167374696123 L -93.05508260671584,44.61667901045337 L -93.05500989321881,44.61661310678119 L -93.05494398954664,44.61654039328417 L -93.0548855303877,44.61646157023302 L -93.05483507873565,44.61637739673683 L -93.0547931204675,44.616288683432366 L -93.05476005966428,44.61619628467726 L -93.0547362147196,44.61610109032202 L -93.05472181527333,44.616004017140334 L -93.054717,44.615906 z\" /><path fill-rule=\"evenodd\" fill=\"#66cc99\" stroke=\"#555555\" stroke-width=\"0.06126131520000001\" opacity=\"0.6\" d=\"M -93.05991399999999,44.966025 L -93.05991881527332,44.96592698285967 L -93.05993321471959,44.965829909677986 L -93.05995705966427,44.965734715322746 L -93.05999012046749,44.96564231656764 L -93.06003207873565,44.965553603263174 L -93.06008253038769,44.96546942976698 L -93.06014098954664,44.965390606715836 L -93.0602068932188,44.96531789321882 L -93.06027960671584,44.96525198954664 L -93.06035842976698,44.9651935303877 L -93.06044260326317,44.96514307873565 L -93.06053131656763,44.96510112046749 L -93.06062371532275,44.96506805966427 L -93.06071890967799,44.9650442147196 L -93.06081598285967,44.96502981527333 L -93.060914,44.965025000000004 L -93.06101201714033,44.96502981527333 L -93.061109090322,44.9650442147196 L -93.06120428467725,44.96506805966427 L -93.06129668343236,44.96510112046749 L -93.06138539673682,44.96514307873565 L -93.06146957023302,44.9651935303877 L -93.06154839328416,44.96525198954664 L -93.06162110678119,44.96531789321882 L -93.06168701045335,44.965390606715836 L -93.0617454696123,44.96546942976698 L -93.06179592126435,44.965553603263174 L -93.0618378795325,44.96564231656764 L -93.06187094033572,44.965734715322746 L -93.0618947852804,44.965829909677986 L -93.06190918472667,44.96592698285967 L -93.061914,44.966025 L -93.06190918472667,44.96612301714033 L -93.0618947852804,44.96622009032202 L -93.06187094033572,44.96631528467726 L -93.0618378795325,44.966407683432365 L -93.06179592126435,44.96649639673683 L -93.0617454696123,44.96658057023302 L -93.06168701045335,44.96665939328417 L -93.06162110678119,44.96673210678119 L -93.06154839328416,44.96679801045337 L -93.06146957023302,44.9668564696123 L -93.06138539673682,44.96690692126435 L -93.06129668343236,44.96694887953252 L -93.06120428467725,44.966981940335735 L -93.061109090322,44.967005785280406 L -93.06101201714033,44.96702018472667 L -93.060914,44.967025 L -93.06081598285967,44.96702018472667 L -93.06071890967799,44.967005785280406 L -93.06062371532275,44.966981940335735 L -93.06053131656763,44.96694887953252 L -93.06044260326317,44.96690692126435 L -93.06035842976698,44.9668564696123 L -93.06027960671584,44.96679801045337 L -93.0602068932188,44.96673210678119 L -93.06014098954664,44.96665939328417 L -93.06008253038769,44.96658057023302 L -93.06003207873565,44.96649639673683 L -93.05999012046749,44.966407683432365 L -93.05995705966427,44.96631528467726 L -93.05993321471959,44.96622009032202 L -93.05991881527332,44.96612301714033 L -93.05991399999999,44.966025 z\" /><path fill-rule=\"evenodd\" fill=\"#66cc99\" stroke=\"#555555\" stroke-width=\"0.06126131520000001\" opacity=\"0.6\" d=\"M -93.064797,44.615939 L -93.06480181527333,44.615840982859666 L -93.0648162147196,44.61574390967798 L -93.06484005966428,44.61564871532274 L -93.0648731204675,44.615556316567634 L -93.06491507873565,44.61546760326317 L -93.0649655303877,44.61538342976698 L -93.06502398954665,44.61530460671583 L -93.06508989321881,44.61523189321881 L -93.06516260671584,44.61516598954663 L -93.06524142976698,44.6151075303877 L -93.06532560326318,44.615057078735646 L -93.06541431656764,44.61501512046748 L -93.06550671532275,44.614982059664264 L -93.065601909678,44.61495821471959 L -93.06569898285967,44.61494381527333 L -93.065797,44.614939 L -93.06589501714033,44.61494381527333 L -93.06599209032201,44.61495821471959 L -93.06608728467725,44.614982059664264 L -93.06617968343237,44.61501512046748 L -93.06626839673683,44.615057078735646 L -93.06635257023302,44.6151075303877 L -93.06643139328416,44.61516598954663 L -93.0665041067812,44.61523189321881 L -93.06657001045336,44.61530460671583 L -93.06662846961231,44.61538342976698 L -93.06667892126436,44.61546760326317 L -93.06672087953251,44.615556316567634 L -93.06675394033573,44.61564871532274 L -93.06677778528041,44.61574390967798 L -93.06679218472668,44.615840982859666 L -93.06679700000001,44.615939 L -93.06679218472668,44.61603701714033 L -93.06677778528041,44.616134090322014 L -93.06675394033573,44.61622928467725 L -93.06672087953251,44.61632168343236 L -93.06667892126436,44.616410396736825 L -93.06662846961231,44.616494570233016 L -93.06657001045336,44.61657339328416 L -93.0665041067812,44.61664610678118 L -93.06643139328416,44.61671201045336 L -93.06635257023302,44.6167704696123 L -93.06626839673683,44.61682092126435 L -93.06617968343237,44.61686287953251 L -93.06608728467725,44.61689594033573 L -93.06599209032201,44.6169197852804 L -93.06589501714033,44.61693418472667 L -93.065797,44.616938999999995 L -93.06569898285967,44.61693418472667 L -93.065601909678,44.6169197852804 L -93.06550671532275,44.61689594033573 L -93.06541431656764,44.61686287953251 L -93.06532560326318,44.61682092126435 L -93.06524142976698,44.6167704696123 L -93.06516260671584,44.61671201045336 L -93.06508989321881,44.61664610678118 L -93.06502398954665,44.61657339328416 L -93.0649655303877,44.616494570233016 L -93.06491507873565,44.616410396736825 L -93.0648731204675,44.61632168343236 L -93.06484005966428,44.61622928467725 L -93.0648162147196,44.616134090322014 L -93.06480181527333,44.61603701714033 L -93.064797,44.615939 z\" /><path fill-rule=\"evenodd\" fill=\"#66cc99\" stroke=\"#555555\" stroke-width=\"0.06126131520000001\" opacity=\"0.6\" d=\"M -93.06899999999999,44.614278 L -93.06900481527332,44.61417998285967 L -93.06901921471959,44.61408290967798 L -93.06904305966427,44.61398771532274 L -93.06907612046749,44.613895316567636 L -93.06911807873564,44.61380660326317 L -93.06916853038769,44.61372242976698 L -93.06922698954664,44.61364360671583 L -93.0692928932188,44.613570893218814 L -93.06936560671583,44.613504989546634 L -93.06944442976697,44.6134465303877 L -93.06952860326317,44.61339607873565 L -93.06961731656763,44.613354120467484 L -93.06970971532274,44.613321059664266 L -93.06980490967798,44.613297214719594 L -93.06990198285966,44.61328281527333 L -93.07,44.613278 L -93.07009801714032,44.61328281527333 L -93.070195090322,44.613297214719594 L -93.07029028467724,44.613321059664266 L -93.07038268343236,44.613354120467484 L -93.07047139673682,44.61339607873565 L -93.07055557023301,44.6134465303877 L -93.07063439328415,44.613504989546634 L -93.07070710678119,44.613570893218814 L -93.07077301045335,44.61364360671583 L -93.0708314696123,44.61372242976698 L -93.07088192126434,44.61380660326317 L -93.0709238795325,44.613895316567636 L -93.07095694033572,44.61398771532274 L -93.0709807852804,44.61408290967798 L -93.07099518472667,44.61417998285967 L -93.071,44.614278 L -93.07099518472667,44.61437601714033 L -93.0709807852804,44.614473090322015 L -93.07095694033572,44.614568284677254 L -93.0709238795325,44.61466068343236 L -93.07088192126434,44.614749396736826 L -93.0708314696123,44.61483357023302 L -93.07077301045335,44.614912393284165 L -93.07070710678119,44.614985106781184 L -93.07063439328415,44.615051010453364 L -93.07055557023301,44.6151094696123 L -93.07047139673682,44.61515992126435 L -93.07038268343236,44.61520187953251 L -93.07029028467724,44.61523494033573 L -93.070195090322,44.6152587852804 L -93.07009801714032,44.61527318472667 L -93.07,44.615277999999996 L -93.06990198285966,44.61527318472667 L -93.06980490967798,44.6152587852804 L -93.06970971532274,44.61523494033573 L -93.06961731656763,44.61520187953251 L -93.06952860326317,44.61515992126435 L -93.06944442976697,44.6151094696123 L -93.06936560671583,44.615051010453364 L -93.0692928932188,44.614985106781184 L -93.06922698954664,44.614912393284165 L -93.06916853038769,44.61483357023302 L -93.06911807873564,44.614749396736826 L -93.06907612046749,44.61466068343236 L -93.06904305966427,44.614568284677254 L -93.06901921471959,44.614473090322015 L -93.06900481527332,44.61437601714033 L -93.06899999999999,44.614278 z\" /><path fill-rule=\"evenodd\" fill=\"#66cc99\" stroke=\"#555555\" stroke-width=\"0.06126131520000001\" opacity=\"0.6\" d=\"M -93.072914,44.961758 L -93.07291881527333,44.96165998285967 L -93.0729332147196,44.96156290967799 L -93.07295705966428,44.96146771532275 L -93.0729901204675,44.96137531656764 L -93.07303207873565,44.961286603263176 L -93.0730825303877,44.961202429766985 L -93.07314098954664,44.96112360671584 L -93.07320689321881,44.96105089321882 L -93.07327960671584,44.96098498954664 L -93.07335842976698,44.9609265303877 L -93.07344260326317,44.96087607873565 L -93.07353131656764,44.96083412046749 L -93.07362371532275,44.96080105966427 L -93.07371890967799,44.9607772147196 L -93.07381598285967,44.960762815273334 L -93.073914,44.960758000000006 L -93.07401201714033,44.960762815273334 L -93.07410909032201,44.9607772147196 L -93.07420428467725,44.96080105966427 L -93.07429668343237,44.96083412046749 L -93.07438539673683,44.96087607873565 L -93.07446957023302,44.9609265303877 L -93.07454839328416,44.96098498954664 L -93.0746211067812,44.96105089321882 L -93.07468701045336,44.96112360671584 L -93.07474546961231,44.961202429766985 L -93.07479592126435,44.961286603263176 L -93.07483787953251,44.96137531656764 L -93.07487094033573,44.96146771532275 L -93.0748947852804,44.96156290967799 L -93.07490918472668,44.96165998285967 L -93.074914,44.961758 L -93.07490918472668,44.961856017140335 L -93.0748947852804,44.96195309032202 L -93.07487094033573,44.96204828467726 L -93.07483787953251,44.96214068343237 L -93.07479592126435,44.96222939673683 L -93.07474546961231,44.96231357023302 L -93.07468701045336,44.96239239328417 L -93.0746211067812,44.96246510678119 L -93.07454839328416,44.96253101045337 L -93.07446957023302,44.962589469612304 L -93.07438539673683,44.962639921264355 L -93.07429668343237,44.96268187953252 L -93.07420428467725,44.96271494033574 L -93.07410909032201,44.96273878528041 L -93.07401201714033,44.96275318472667 L -93.073914,44.962758 L -93.07381598285967,44.96275318472667 L -93.07371890967799,44.96273878528041 L -93.07362371532275,44.96271494033574 L -93.07353131656764,44.96268187953252 L -93.07344260326317,44.962639921264355 L -93.07335842976698,44.962589469612304 L -93.07327960671584,44.96253101045337 L -93.07320689321881,44.96246510678119 L -93.07314098954664,44.96239239328417 L -93.0730825303877,44.96231357023302 L -93.07303207873565,44.96222939673683 L -93.0729901204675,44.96214068343237 L -93.07295705966428,44.96204828467726 L -93.0729332147196,44.96195309032202 L -93.07291881527333,44.961856017140335 L -93.072914,44.961758 z\" /><path fill-rule=\"evenodd\" fill=\"#66cc99\" stroke=\"#555555\" stroke-width=\"0.06126131520000001\" opacity=\"0.6\" d=\"M -93.075667,45.043797 L -93.07567181527332,45.04369898285967 L -93.0756862147196,45.04360190967798 L -93.07571005966427,45.04350671532274 L -93.0757431204675,45.043414316567635 L -93.07578507873565,45.04332560326317 L -93.07583553038769,45.04324142976698 L -93.07589398954664,45.04316260671583 L -93.07595989321881,45.04308989321881 L -93.07603260671584,45.04302398954663 L -93.07611142976698,45.0429655303877 L -93.07619560326317,45.042915078735646 L -93.07628431656764,45.04287312046748 L -93.07637671532275,45.042840059664265 L -93.07647190967799,45.04281621471959 L -93.07656898285967,45.04280181527333 L -93.076667,45.042797 L -93.07676501714033,45.04280181527333 L -93.07686209032201,45.04281621471959 L -93.07695728467725,45.042840059664265 L -93.07704968343236,45.04287312046748 L -93.07713839673683,45.042915078735646 L -93.07722257023302,45.0429655303877 L -93.07730139328416,45.04302398954663 L -93.07737410678119,45.04308989321881 L -93.07744001045336,45.04316260671583 L -93.07749846961231,45.04324142976698 L -93.07754892126435,45.04332560326317 L -93.07759087953251,45.043414316567635 L -93.07762394033573,45.04350671532274 L -93.0776477852804,45.04360190967798 L -93.07766218472668,45.04369898285967 L -93.077667,45.043797 L -93.07766218472668,45.04389501714033 L -93.0776477852804,45.043992090322014 L -93.07762394033573,45.04408728467725 L -93.07759087953251,45.04417968343236 L -93.07754892126435,45.044268396736825 L -93.07749846961231,45.044352570233016 L -93.07744001045336,45.044431393284164 L -93.07737410678119,45.04450410678118 L -93.07730139328416,45.04457001045336 L -93.07722257023302,45.0446284696123 L -93.07713839673683,45.04467892126435 L -93.07704968343236,45.04472087953251 L -93.07695728467725,45.04475394033573 L -93.07686209032201,45.0447777852804 L -93.07676501714033,45.04479218472667 L -93.076667,45.044796999999996 L -93.07656898285967,45.04479218472667 L -93.07647190967799,45.0447777852804 L -93.07637671532275,45.04475394033573 L -93.07628431656764,45.04472087953251 L -93.07619560326317,45.04467892126435 L -93.07611142976698,45.0446284696123 L -93.07603260671584,45.04457001045336 L -93.07595989321881,45.04450410678118 L -93.07589398954664,45.044431393284164 L -93.07583553038769,45.044352570233016 L -93.07578507873565,45.044268396736825 L -93.0757431204675,45.04417968343236 L -93.07571005966427,45.04408728467725 L -93.0756862147196,45.043992090322014 L -93.07567181527332,45.04389501714033 L -93.075667,45.043797 z\" /><path fill-rule=\"evenodd\" fill=\"#66cc99\" stroke=\"#555555\" stroke-width=\"0.06126131520000001\" opacity=\"0.6\" d=\"M -93.07799730129382,44.95383734149649 L -93.07797339328415,44.953859010453364 L -93.07789457023301,44.9539174696123 L -93.07781039673682,44.95396792126435 L -93.07772168343236,44.954009879532514 L -93.07762928467724,44.95404294033573 L -93.077534090322,44.9540667852804 L -93.07743701714033,44.95408118472667 L -93.077339,44.954086 L -93.07733599999999,44.95408585261945 L -93.077333,44.954086 L -93.07723498285966,44.95408118472667 L -93.07713790967799,44.9540667852804 L -93.07704271532275,44.95404294033573 L -93.07695031656763,44.954009879532514 L -93.07686160326317,44.95396792126435 L -93.07685775546597,44.95396561498346 L -93.07677301714033,44.95397818472667 L -93.076675,44.953983 L -93.07657698285966,44.95397818472667 L -93.07647990967799,44.95396378528041 L -93.07638471532275,44.95393994033574 L -93.07629231656763,44.95390687953252 L -93.07620360326317,44.953864921264355 L -93.07611942976698,44.953814469612304 L -93.07604060671584,44.95375601045337 L -93.0759678932188,44.95369010678119 L -93.07590198954664,44.95361739328417 L -93.07584353038769,44.95353857023302 L -93.07579307873564,44.95345439673683 L -93.07575112046749,44.95336568343237 L -93.07571805966427,44.95327328467726 L -93.07569421471959,44.95317809032202 L -93.07567981527332,44.953081017140335 L -93.07567499999999,44.952983 L -93.07567981527332,44.95288498285967 L -93.07569421471959,44.95278790967799 L -93.07571805966427,44.95269271532275 L -93.07575112046749,44.95260031656764 L -93.07579307873564,44.952511603263176 L -93.07584353038769,44.952427429766985 L -93.07590198954664,44.95234860671584 L -93.0759678932188,44.95227589321882 L -93.07604060671584,44.95220998954664 L -93.07611942976698,44.9521515303877 L -93.07620360326317,44.95210107873565 L -93.07629231656763,44.95205912046749 L -93.07638471532275,44.95202605966427 L -93.07647990967799,44.9520022147196 L -93.07657698285966,44.951987815273334 L -93.076675,44.951983000000006 L -93.07677301714033,44.951987815273334 L -93.076870090322,44.9520022147196 L -93.07696528467724,44.95202605966427 L -93.07705768343236,44.95205912046749 L -93.07714639673682,44.95210107873565 L -93.07715024453402,44.95210338501654 L -93.07723498285966,44.95209081527333 L -93.077333,44.952086 L -93.07733599999999,44.95208614738055 L -93.077339,44.952086 L -93.07743701714033,44.95209081527333 L -93.077534090322,44.952105214719595 L -93.07761969870617,44.95212665850351 L -93.07764360671584,44.95210498954663 L -93.07772242976698,44.9520465303877 L -93.07780660326317,44.95199607873565 L -93.07789531656763,44.951954120467484 L -93.07798771532275,44.951921059664265 L -93.07808290967799,44.951897214719594 L -93.07817998285967,44.95188281527333 L -93.078278,44.951878 L -93.07837601714033,44.95188281527333 L -93.078473090322,44.951897214719594 L -93.07856828467725,44.951921059664265 L -93.07866068343236,44.951954120467484 L -93.07874939673682,44.95199607873565 L -93.07883357023302,44.9520465303877 L -93.07891239328416,44.95210498954663 L -93.07898510678119,44.95217089321881 L -93.07905101045336,44.95224360671583 L -93.0791094696123,44.95232242976698 L -93.07915992126435,44.95240660326317 L -93.0792018795325,44.952495316567635 L -93.07923494033572,44.95258771532274 L -93.0792587852804,44.95268290967798 L -93.07927318472667,44.95277998285967 L -93.079278,44.952878 L -93.07927318472667,44.95297601714033 L -93.0792587852804,44.953073090322015 L -93.07923494033572,44.953168284677254 L -93.0792018795325,44.95326068343236 L -93.07915992126435,44.953349396736826 L -93.0791094696123,44.95343357023302 L -93.07905101045336,44.953512393284164 L -93.07898510678119,44.95358510678118 L -93.07891239328416,44.95365101045336 L -93.07883357023302,44.9537094696123 L -93.07874939673682,44.95375992126435 L -93.07866068343236,44.95380187953251 L -93.07856828467725,44.95383494033573 L -93.078473090322,44.9538587852804 L -93.07837601714033,44.95387318472667 L -93.078278,44.953877999999996 L -93.07817998285967,44.95387318472667 L -93.07808290967799,44.9538587852804 L -93.07799730129382,44.95383734149649 z\" /><path fill-rule=\"evenodd\" fill=\"#66cc99\" stroke=\"#555555\" stroke-width=\"0.06126131520000001\" opacity=\"0.6\" d=\"M -93.07933899999999,44.417269 L -93.07934381527332,44.417170982859666 L -93.07935821471959,44.41707390967798 L -93.07938205966427,44.41697871532274 L -93.07941512046749,44.416886316567634 L -93.07945707873564,44.41679760326317 L -93.07950753038769,44.41671342976698 L -93.07956598954664,44.41663460671583 L -93.0796318932188,44.41656189321881 L -93.07970460671584,44.41649598954663 L -93.07978342976698,44.4164375303877 L -93.07986760326317,44.416387078735646 L -93.07995631656763,44.41634512046748 L -93.08004871532275,44.416312059664264 L -93.08014390967799,44.41628821471959 L -93.08024098285966,44.41627381527333 L -93.080339,44.416269 L -93.08043701714033,44.41627381527333 L -93.080534090322,44.41628821471959 L -93.08062928467724,44.416312059664264 L -93.08072168343236,44.41634512046748 L -93.08081039673682,44.416387078735646 L -93.08089457023301,44.4164375303877 L -93.08097339328415,44.41649598954663 L -93.08104610678119,44.41656189321881 L -93.08111201045335,44.41663460671583 L -93.0811704696123,44.41671342976698 L -93.08122092126435,44.41679760326317 L -93.0812628795325,44.416886316567634 L -93.08129594033572,44.41697871532274 L -93.0813197852804,44.41707390967798 L -93.08133418472667,44.417170982859666 L -93.081339,44.417269 L -93.08133418472667,44.41736701714033 L -93.0813197852804,44.417464090322014 L -93.08129594033572,44.41755928467725 L -93.0812628795325,44.41765168343236 L -93.08122092126435,44.417740396736825 L -93.0811704696123,44.417824570233016 L -93.08111201045335,44.41790339328416 L -93.08104610678119,44.41797610678118 L -93.08097339328415,44.41804201045336 L -93.08089457023301,44.4181004696123 L -93.08081039673682,44.41815092126435 L -93.08072168343236,44.41819287953251 L -93.08062928467724,44.41822594033573 L -93.080534090322,44.4182497852804 L -93.08043701714033,44.41826418472667 L -93.080339,44.418268999999995 L -93.08024098285966,44.41826418472667 L -93.08014390967799,44.4182497852804 L -93.08004871532275,44.41822594033573 L -93.07995631656763,44.41819287953251 L -93.07986760326317,44.41815092126435 L -93.07978342976698,44.4181004696123 L -93.07970460671584,44.41804201045336 L -93.0796318932188,44.41797610678118 L -93.07956598954664,44.41790339328416 L -93.07950753038769,44.417824570233016 L -93.07945707873564,44.417740396736825 L -93.07941512046749,44.41765168343236 L -93.07938205966427,44.41755928467725 L -93.07935821471959,44.417464090322014 L -93.07934381527332,44.41736701714033 L -93.07933899999999,44.417269 z\" /><path fill-rule=\"evenodd\" fill=\"#66cc99\" stroke=\"#555555\" stroke-width=\"0.06126131520000001\" opacity=\"0.6\" d=\"M -93.08210799999999,44.989861 L -93.08211281527332,44.989762982859666 L -93.08212721471959,44.98966590967798 L -93.08215105966427,44.98957071532274 L -93.08218412046749,44.989478316567634 L -93.08222607873564,44.98938960326317 L -93.08227653038769,44.98930542976698 L -93.08233498954664,44.98922660671583 L -93.0824008932188,44.98915389321881 L -93.08247360671584,44.98908798954663 L -93.08255242976698,44.9890295303877 L -93.08263660326317,44.988979078735646 L -93.08272531656763,44.98893712046748 L -93.08281771532275,44.988904059664264 L -93.08291290967799,44.98888021471959 L -93.08300998285966,44.98886581527333 L -93.083108,44.988861 L -93.08320601714033,44.98886581527333 L -93.083303090322,44.98888021471959 L -93.08339828467724,44.988904059664264 L -93.08349068343236,44.98893712046748 L -93.08357939673682,44.988979078735646 L -93.08366357023301,44.9890295303877 L -93.08374239328415,44.98908798954663 L -93.08381510678119,44.98915389321881 L -93.08388101045335,44.98922660671583 L -93.0839394696123,44.98930542976698 L -93.08398992126435,44.98938960326317 L -93.0840318795325,44.989478316567634 L -93.08406494033572,44.98957071532274 L -93.0840887852804,44.98966590967798 L -93.08410318472667,44.989762982859666 L -93.084108,44.989861 L -93.08410318472667,44.98995901714033 L -93.0840887852804,44.990056090322014 L -93.08406494033572,44.99015128467725 L -93.0840318795325,44.99024368343236 L -93.08398992126435,44.990332396736825 L -93.0839394696123,44.990416570233016 L -93.08388101045335,44.990495393284164 L -93.08381510678119,44.99056810678118 L -93.08374239328415,44.99063401045336 L -93.08366357023301,44.9906924696123 L -93.08357939673682,44.99074292126435 L -93.08349068343236,44.99078487953251 L -93.08339828467724,44.99081794033573 L -93.083303090322,44.9908417852804 L -93.08320601714033,44.99085618472667 L -93.083108,44.990860999999995 L -93.08300998285966,44.99085618472667 L -93.08291290967799,44.9908417852804 L -93.08281771532275,44.99081794033573 L -93.08272531656763,44.99078487953251 L -93.08263660326317,44.99074292126435 L -93.08255242976698,44.9906924696123 L -93.08247360671584,44.99063401045336 L -93.0824008932188,44.99056810678118 L -93.08233498954664,44.990495393284164 L -93.08227653038769,44.990416570233016 L -93.08222607873564,44.990332396736825 L -93.08218412046749,44.99024368343236 L -93.08215105966427,44.99015128467725 L -93.08212721471959,44.990056090322014 L -93.08211281527332,44.98995901714033 L -93.08210799999999,44.989861 z\" /><path fill-rule=\"evenodd\" fill=\"#66cc99\" stroke=\"#555555\" stroke-width=\"0.06126131520000001\" opacity=\"0.6\" d=\"M -93.085206,44.986042 L -93.08521081527333,44.985943982859666 L -93.0852252147196,44.98584690967798 L -93.08524905966428,44.98575171532274 L -93.0852821204675,44.985659316567634 L -93.08532407873565,44.98557060326317 L -93.0853745303877,44.98548642976698 L -93.08543298954665,44.98540760671583 L -93.08549889321881,44.98533489321881 L -93.08557160671585,44.98526898954663 L -93.08565042976699,44.9852105303877 L -93.08573460326318,44.985160078735646 L -93.08582331656764,44.98511812046748 L -93.08591571532276,44.985085059664264 L -93.086010909678,44.98506121471959 L -93.08610798285967,44.98504681527333 L -93.086206,44.985042 L -93.08630401714034,44.98504681527333 L -93.08640109032201,44.98506121471959 L -93.08649628467725,44.985085059664264 L -93.08658868343237,44.98511812046748 L -93.08667739673683,44.985160078735646 L -93.08676157023302,44.9852105303877 L -93.08684039328416,44.98526898954663 L -93.0869131067812,44.98533489321881 L -93.08697901045336,44.98540760671583 L -93.08703746961231,44.98548642976698 L -93.08708792126436,44.98557060326317 L -93.08712987953251,44.985659316567634 L -93.08716294033573,44.98575171532274 L -93.08718678528041,44.98584690967798 L -93.08720118472668,44.985943982859666 L -93.08720600000001,44.986042 L -93.08720118472668,44.98614001714033 L -93.08718678528041,44.986237090322014 L -93.08716294033573,44.98633228467725 L -93.08712987953251,44.98642468343236 L -93.08708792126436,44.986513396736825 L -93.08703746961231,44.986597570233016 L -93.08697901045336,44.986676393284164 L -93.0869131067812,44.98674910678118 L -93.08684039328416,44.98681501045336 L -93.08676157023302,44.9868734696123 L -93.08667739673683,44.98692392126435 L -93.08658868343237,44.98696587953251 L -93.08649628467725,44.98699894033573 L -93.08640109032201,44.9870227852804 L -93.08630401714034,44.98703718472667 L -93.086206,44.987041999999995 L -93.08610798285967,44.98703718472667 L -93.086010909678,44.9870227852804 L -93.08591571532276,44.98699894033573 L -93.08582331656764,44.98696587953251 L -93.08573460326318,44.98692392126435 L -93.08565042976699,44.9868734696123 L -93.08557160671585,44.98681501045336 L -93.08549889321881,44.98674910678118 L -93.08543298954665,44.986676393284164 L -93.0853745303877,44.986597570233016 L -93.08532407873565,44.986513396736825 L -93.0852821204675,44.98642468343236 L -93.08524905966428,44.98633228467725 L -93.0852252147196,44.986237090322014 L -93.08521081527333,44.98614001714033 L -93.085206,44.986042 z\" /><path fill-rule=\"evenodd\" fill=\"#66cc99\" stroke=\"#555555\" stroke-width=\"0.06126131520000001\" opacity=\"0.6\" d=\"M -93.086472,44.943889 L -93.08647681527333,44.94379098285967 L -93.0864912147196,44.94369390967798 L -93.08651505966428,44.94359871532274 L -93.0865481204675,44.943506316567635 L -93.08659007873565,44.94341760326317 L -93.0866405303877,44.94333342976698 L -93.08669898954665,44.94325460671583 L -93.08676489321881,44.943181893218814 L -93.08683760671585,44.943115989546634 L -93.08691642976699,44.9430575303877 L -93.08700060326318,44.94300707873565 L -93.08708931656764,44.942965120467484 L -93.08718171532276,44.942932059664265 L -93.087276909678,44.942908214719594 L -93.08737398285967,44.94289381527333 L -93.087472,44.942889 L -93.08757001714034,44.94289381527333 L -93.08766709032201,44.942908214719594 L -93.08776228467725,44.942932059664265 L -93.08785468343237,44.942965120467484 L -93.08794339673683,44.94300707873565 L -93.08802757023302,44.9430575303877 L -93.08810639328416,44.943115989546634 L -93.0881791067812,44.943181893218814 L -93.08824501045336,44.94325460671583 L -93.08830346961231,44.94333342976698 L -93.08835392126436,44.94341760326317 L -93.08839587953251,44.943506316567635 L -93.08842894033573,44.94359871532274 L -93.08845278528041,44.94369390967798 L -93.08846718472668,44.94379098285967 L -93.08847200000001,44.943889 L -93.08846718472668,44.94398701714033 L -93.08845278528041,44.944084090322015 L -93.08842894033573,44.944179284677254 L -93.08839587953251,44.94427168343236 L -93.08835392126436,44.944360396736826 L -93.08830346961231,44.94444457023302 L -93.08824501045336,44.944523393284165 L -93.0881791067812,44.944596106781184 L -93.08810639328416,44.944662010453364 L -93.08802757023302,44.9447204696123 L -93.08794339673683,44.94477092126435 L -93.08785468343237,44.94481287953251 L -93.08776228467725,44.94484594033573 L -93.08766709032201,44.9448697852804 L -93.08757001714034,44.94488418472667 L -93.087472,44.944888999999996 L -93.08737398285967,44.94488418472667 L -93.087276909678,44.9448697852804 L -93.08718171532276,44.94484594033573 L -93.08708931656764,44.94481287953251 L -93.08700060326318,44.94477092126435 L -93.08691642976699,44.9447204696123 L -93.08683760671585,44.944662010453364 L -93.08676489321881,44.944596106781184 L -93.08669898954665,44.944523393284165 L -93.0866405303877,44.94444457023302 L -93.08659007873565,44.944360396736826 L -93.0865481204675,44.94427168343236 L -93.08651505966428,44.944179284677254 L -93.0864912147196,44.944084090322015 L -93.08647681527333,44.94398701714033 L -93.086472,44.943889 z\" /><path fill-rule=\"evenodd\" fill=\"#66cc99\" stroke=\"#555555\" stroke-width=\"0.06126131520000001\" opacity=\"0.6\" d=\"M -93.08900299999999,44.944736 L -93.08900781527332,44.94463798285967 L -93.08902221471959,44.94454090967798 L -93.08904605966427,44.94444571532274 L -93.08907912046749,44.944353316567636 L -93.08912107873564,44.94426460326317 L -93.08917153038769,44.94418042976698 L -93.08922998954664,44.94410160671583 L -93.0892958932188,44.944028893218814 L -93.08936860671584,44.943962989546634 L -93.08944742976698,44.9439045303877 L -93.08953160326317,44.94385407873565 L -93.08962031656763,44.943812120467484 L -93.08971271532275,44.943779059664266 L -93.08980790967799,44.943755214719594 L -93.08990498285966,44.94374081527333 L -93.090003,44.943736 L -93.09010101714033,44.94374081527333 L -93.090198090322,44.943755214719594 L -93.09029328467724,44.943779059664266 L -93.09038568343236,44.943812120467484 L -93.09047439673682,44.94385407873565 L -93.09055857023301,44.9439045303877 L -93.09063739328415,44.943962989546634 L -93.09071010678119,44.944028893218814 L -93.09077601045335,44.94410160671583 L -93.0908344696123,44.94418042976698 L -93.09088492126435,44.94426460326317 L -93.0909268795325,44.944353316567636 L -93.09095994033572,44.94444571532274 L -93.0909837852804,44.94454090967798 L -93.09099818472667,44.94463798285967 L -93.091003,44.944736 L -93.09099818472667,44.94483401714033 L -93.0909837852804,44.944931090322015 L -93.09095994033572,44.945026284677255 L -93.0909268795325,44.94511868343236 L -93.09088492126435,44.945207396736826 L -93.0908344696123,44.94529157023302 L -93.09077601045335,44.945370393284165 L -93.09071010678119,44.945443106781184 L -93.09063739328415,44.945509010453364 L -93.09055857023301,44.9455674696123 L -93.09047439673682,44.94561792126435 L -93.09038568343236,44.94565987953251 L -93.09029328467724,44.94569294033573 L -93.090198090322,44.9457167852804 L -93.09010101714033,44.94573118472667 L -93.090003,44.945736 L -93.08990498285966,44.94573118472667 L -93.08980790967799,44.9457167852804 L -93.08971271532275,44.94569294033573 L -93.08962031656763,44.94565987953251 L -93.08953160326317,44.94561792126435 L -93.08944742976698,44.9455674696123 L -93.08936860671584,44.945509010453364 L -93.0892958932188,44.945443106781184 L -93.08922998954664,44.945370393284165 L -93.08917153038769,44.94529157023302 L -93.08912107873564,44.945207396736826 L -93.08907912046749,44.94511868343236 L -93.08904605966427,44.945026284677255 L -93.08902221471959,44.944931090322015 L -93.08900781527332,44.94483401714033 L -93.08900299999999,44.944736 z\" /><path fill-rule=\"evenodd\" fill=\"#66cc99\" stroke=\"#555555\" stroke-width=\"0.06126131520000001\" opacity=\"0.6\" d=\"M -93.09692199999999,44.962872 L -93.09692681527332,44.962773982859666 L -93.09694121471959,44.96267690967798 L -93.09696505966427,44.96258171532274 L -93.09699812046749,44.962489316567634 L -93.09704007873565,44.96240060326317 L -93.09709053038769,44.96231642976698 L -93.09714898954664,44.96223760671583 L -93.0972148932188,44.96216489321881 L -93.09728760671584,44.96209898954663 L -93.09736642976698,44.962040530387696 L -93.09745060326317,44.961990078735646 L -93.09753931656763,44.96194812046748 L -93.09763171532275,44.961915059664264 L -93.09772690967799,44.96189121471959 L -93.09782398285967,44.96187681527333 L -93.097922,44.961872 L -93.09802001714033,44.96187681527333 L -93.098117090322,44.96189121471959 L -93.09821228467725,44.961915059664264 L -93.09830468343236,44.96194812046748 L -93.09839339673682,44.961990078735646 L -93.09847757023302,44.962040530387696 L -93.09855639328416,44.96209898954663 L -93.09862910678119,44.96216489321881 L -93.09869501045335,44.96223760671583 L -93.0987534696123,44.96231642976698 L -93.09880392126435,44.96240060326317 L -93.0988458795325,44.962489316567634 L -93.09887894033572,44.96258171532274 L -93.0989027852804,44.96267690967798 L -93.09891718472667,44.962773982859666 L -93.098922,44.962872 L -93.09891718472667,44.96297001714033 L -93.0989027852804,44.96306709032201 L -93.09887894033572,44.96316228467725 L -93.0988458795325,44.96325468343236 L -93.09880392126435,44.963343396736825 L -93.0987534696123,44.963427570233016 L -93.09869501045335,44.96350639328416 L -93.09862910678119,44.96357910678118 L -93.09855639328416,44.96364501045336 L -93.09847757023302,44.9637034696123 L -93.09839339673682,44.96375392126435 L -93.09830468343236,44.96379587953251 L -93.09821228467725,44.96382894033573 L -93.098117090322,44.9638527852804 L -93.09802001714033,44.963867184726666 L -93.097922,44.963871999999995 L -93.09782398285967,44.963867184726666 L -93.09772690967799,44.9638527852804 L -93.09763171532275,44.96382894033573 L -93.09753931656763,44.96379587953251 L -93.09745060326317,44.96375392126435 L -93.09736642976698,44.9637034696123 L -93.09728760671584,44.96364501045336 L -93.0972148932188,44.96357910678118 L -93.09714898954664,44.96350639328416 L -93.09709053038769,44.963427570233016 L -93.09704007873565,44.963343396736825 L -93.09699812046749,44.96325468343236 L -93.09696505966427,44.96316228467725 L -93.09694121471959,44.96306709032201 L -93.09692681527332,44.96297001714033 L -93.09692199999999,44.962872 z\" /><path fill-rule=\"evenodd\" fill=\"#66cc99\" stroke=\"#555555\" stroke-width=\"0.06126131520000001\" opacity=\"0.6\" d=\"M -93.10016368712027,44.942816980143995 L -93.10017360671584,44.94280798954664 L -93.10025242976698,44.9427495303877 L -93.10033660326317,44.94269907873565 L -93.10042531656764,44.94265712046749 L -93.10051771532275,44.94262405966427 L -93.10061290967799,44.9426002147196 L -93.10070998285967,44.94258581527333 L -93.100808,44.942581000000004 L -93.10090601714033,44.94258581527333 L -93.10100309032201,44.9426002147196 L -93.10109828467725,44.94262405966427 L -93.10119068343236,44.94265712046749 L -93.10127939673683,44.94269907873565 L -93.10136357023302,44.9427495303877 L -93.10144239328416,44.94280798954664 L -93.10151510678119,44.94287389321882 L -93.10158101045336,44.942946606715836 L -93.10163946961231,44.94302542976698 L -93.10168992126435,44.943109603263174 L -93.10173187953251,44.94319831656764 L -93.10176494033573,44.943290715322746 L -93.1017887852804,44.943385909677986 L -93.10180318472668,44.94348298285967 L -93.101808,44.943581 L -93.10180318472668,44.94367901714033 L -93.1017887852804,44.94377609032202 L -93.10176494033573,44.94387128467726 L -93.10173187953251,44.943963683432365 L -93.10168992126435,44.94405239673683 L -93.10163946961231,44.94413657023302 L -93.10158101045336,44.94421539328417 L -93.10151510678119,44.94428810678119 L -93.10144239328416,44.94435401045337 L -93.10136357023302,44.9444124696123 L -93.10127939673683,44.94446292126435 L -93.10119068343236,44.944504879532516 L -93.10109828467725,44.944537940335735 L -93.10100309032201,44.944561785280406 L -93.10090601714033,44.94457618472667 L -93.100808,44.944581 L -93.10070998285967,44.94457618472667 L -93.10061290967799,44.944561785280406 L -93.10051771532275,44.944537940335735 L -93.10042531656764,44.944504879532516 L -93.10033660326317,44.94446292126435 L -93.10025242976698,44.9444124696123 L -93.10017360671584,44.94435401045337 L -93.10010089321881,44.94428810678119 L -93.10008631287972,44.94427201985601 L -93.10007639328416,44.944281010453366 L -93.09999757023301,44.9443394696123 L -93.09991339673682,44.94438992126435 L -93.09982468343236,44.944431879532516 L -93.09973228467724,44.944464940335735 L -93.099637090322,44.944488785280406 L -93.09954001714033,44.94450318472667 L -93.099442,44.944508 L -93.09934398285966,44.94450318472667 L -93.09924690967799,44.944488785280406 L -93.09915171532275,44.944464940335735 L -93.09905931656763,44.944431879532516 L -93.09897060326317,44.94438992126435 L -93.09888642976698,44.9443394696123 L -93.09880760671584,44.944281010453366 L -93.0987348932188,44.944215106781186 L -93.09866898954664,44.94414239328417 L -93.09861053038769,44.94406357023302 L -93.09856007873564,44.94397939673683 L -93.09851812046749,44.943890683432365 L -93.09848505966427,44.94379828467726 L -93.09846121471959,44.94370309032202 L -93.09844681527332,44.94360601714033 L -93.09844199999999,44.943508 L -93.09844681527332,44.94340998285967 L -93.09846121471959,44.943312909677985 L -93.09848505966427,44.943217715322746 L -93.09851812046749,44.94312531656764 L -93.09856007873564,44.943036603263174 L -93.09861053038769,44.94295242976698 L -93.09866898954664,44.942873606715835 L -93.0987348932188,44.942800893218816 L -93.09880760671584,44.942734989546636 L -93.09888642976698,44.9426765303877 L -93.09897060326317,44.94262607873565 L -93.09905931656763,44.94258412046749 L -93.09915171532275,44.94255105966427 L -93.09924690967799,44.9425272147196 L -93.09934398285966,44.94251281527333 L -93.099442,44.942508000000004 L -93.09954001714033,44.94251281527333 L -93.099637090322,44.9425272147196 L -93.09973228467724,44.94255105966427 L -93.09982468343236,44.94258412046749 L -93.09991339673682,44.94262607873565 L -93.09999757023301,44.9426765303877 L -93.10007639328416,44.942734989546636 L -93.10014910678119,44.942800893218816 L -93.10016368712027,44.942816980143995 z\" /><path fill-rule=\"evenodd\" fill=\"#66cc99\" stroke=\"#555555\" stroke-width=\"0.06126131520000001\" opacity=\"0.6\" d=\"M -93.10582840607269,44.94986104916759 L -93.10582998285967,44.94986081527333 L -93.105928,44.949856000000004 L -93.10602601714034,44.94986081527333 L -93.10612309032201,44.9498752147196 L -93.10621828467725,44.94989905966427 L -93.10631068343237,44.94993212046749 L -93.10639939673683,44.94997407873565 L -93.10648357023302,44.9500245303877 L -93.10656239328416,44.95008298954664 L -93.1066351067812,44.95014889321882 L -93.10670101045336,44.950221606715836 L -93.10675946961231,44.95030042976698 L -93.10680992126436,44.950384603263174 L -93.10685187953251,44.95047331656764 L -93.10688494033573,44.950565715322746 L -93.10690878528041,44.950660909677985 L -93.10692318472668,44.95075798285967 L -93.10692800000001,44.950856 L -93.10692318472668,44.95095401714033 L -93.10690878528041,44.95105109032202 L -93.10688494033573,44.95114628467726 L -93.10685187953251,44.951238683432365 L -93.10680992126436,44.95132739673683 L -93.10675946961231,44.95141157023302 L -93.10670101045336,44.95149039328417 L -93.1066351067812,44.95156310678119 L -93.10656239328416,44.95162901045337 L -93.10648357023302,44.9516874696123 L -93.10639939673683,44.95173792126435 L -93.10631068343237,44.951779879532516 L -93.10621828467725,44.951812940335735 L -93.10612309032201,44.951836785280406 L -93.10602601714034,44.95185118472667 L -93.105928,44.951856 L -93.10582998285967,44.95185118472667 L -93.105732909678,44.951836785280406 L -93.10572159392731,44.951833950832416 L -93.10572001714033,44.95183418472667 L -93.105622,44.951839 L -93.10552398285967,44.95183418472667 L -93.10542690967799,44.95181978528041 L -93.10533171532275,44.951795940335735 L -93.10523931656763,44.95176287953252 L -93.10515060326317,44.951720921264354 L -93.10506642976698,44.9516704696123 L -93.10498760671584,44.95161201045337 L -93.1049148932188,44.95154610678119 L -93.10484898954664,44.95147339328417 L -93.10479053038769,44.95139457023302 L -93.10474007873565,44.95131039673683 L -93.10469812046749,44.951221683432365 L -93.10466505966427,44.95112928467726 L -93.10464121471959,44.95103409032202 L -93.10462681527332,44.95093701714033 L -93.10462199999999,44.950839 L -93.10462681527332,44.95074098285967 L -93.10464121471959,44.950643909677986 L -93.10466505966427,44.950548715322746 L -93.10469812046749,44.95045631656764 L -93.10474007873565,44.950367603263174 L -93.10479053038769,44.95028342976698 L -93.10484898954664,44.950204606715836 L -93.1049148932188,44.95013189321882 L -93.10498760671584,44.95006598954664 L -93.10506642976698,44.9500075303877 L -93.10515060326317,44.94995707873565 L -93.10523931656763,44.94991512046749 L -93.10533171532275,44.94988205966427 L -93.10542690967799,44.9498582147196 L -93.10552398285967,44.94984381527333 L -93.105622,44.949839000000004 L -93.10572001714033,44.94984381527333 L -93.105817090322,44.9498582147196 L -93.10582840607269,44.94986104916759 z\" /><path fill-rule=\"evenodd\" fill=\"#66cc99\" stroke=\"#555555\" stroke-width=\"0.06126131520000001\" opacity=\"0.6\" d=\"M -93.105306,44.10315 L -93.10531081527333,44.10305198285967 L -93.1053252147196,44.10295490967798 L -93.10534905966428,44.102859715322744 L -93.1053821204675,44.102767316567636 L -93.10542407873565,44.10267860326317 L -93.1054745303877,44.10259442976698 L -93.10553298954665,44.10251560671583 L -93.10559889321881,44.102442893218814 L -93.10567160671584,44.102376989546634 L -93.10575042976699,44.1023185303877 L -93.10583460326318,44.10226807873565 L -93.10592331656764,44.102226120467485 L -93.10601571532275,44.102193059664266 L -93.106110909678,44.102169214719595 L -93.10620798285967,44.10215481527333 L -93.106306,44.10215 L -93.10640401714033,44.10215481527333 L -93.10650109032201,44.102169214719595 L -93.10659628467725,44.102193059664266 L -93.10668868343237,44.102226120467485 L -93.10677739673683,44.10226807873565 L -93.10686157023302,44.1023185303877 L -93.10694039328416,44.102376989546634 L -93.1070131067812,44.102442893218814 L -93.10707901045336,44.10251560671583 L -93.10713746961231,44.10259442976698 L -93.10718792126436,44.10267860326317 L -93.10722987953251,44.102767316567636 L -93.10726294033573,44.102859715322744 L -93.10728678528041,44.10295490967798 L -93.10730118472668,44.10305198285967 L -93.10730600000001,44.10315 L -93.10730118472668,44.10324801714033 L -93.10728678528041,44.103345090322016 L -93.10726294033573,44.103440284677255 L -93.10722987953251,44.10353268343236 L -93.10718792126436,44.10362139673683 L -93.10713746961231,44.10370557023302 L -93.10707901045336,44.103784393284165 L -93.1070131067812,44.103857106781184 L -93.10694039328416,44.103923010453364 L -93.10686157023302,44.1039814696123 L -93.10677739673683,44.10403192126435 L -93.10668868343237,44.104073879532514 L -93.10659628467725,44.10410694033573 L -93.10650109032201,44.104130785280404 L -93.10640401714033,44.10414518472667 L -93.106306,44.10415 L -93.10620798285967,44.10414518472667 L -93.106110909678,44.104130785280404 L -93.10601571532275,44.10410694033573 L -93.10592331656764,44.104073879532514 L -93.10583460326318,44.10403192126435 L -93.10575042976699,44.1039814696123 L -93.10567160671584,44.103923010453364 L -93.10559889321881,44.103857106781184 L -93.10553298954665,44.103784393284165 L -93.1054745303877,44.10370557023302 L -93.10542407873565,44.10362139673683 L -93.1053821204675,44.10353268343236 L -93.10534905966428,44.103440284677255 L -93.1053252147196,44.103345090322016 L -93.10531081527333,44.10324801714033 L -93.105306,44.10315 z\" /><path fill-rule=\"evenodd\" fill=\"#66cc99\" stroke=\"#555555\" stroke-width=\"0.06126131520000001\" opacity=\"0.6\" d=\"M -93.117903,44.927292 L -93.11790781527333,44.92719398285967 L -93.1179222147196,44.927096909677985 L -93.11794605966428,44.927001715322746 L -93.1179791204675,44.92690931656764 L -93.11802107873565,44.926820603263174 L -93.1180715303877,44.92673642976698 L -93.11812998954665,44.926657606715835 L -93.11819589321881,44.926584893218816 L -93.11826860671584,44.926518989546636 L -93.11834742976698,44.9264605303877 L -93.11843160326318,44.92641007873565 L -93.11852031656764,44.92636812046749 L -93.11861271532275,44.92633505966427 L -93.118707909678,44.9263112147196 L -93.11880498285967,44.92629681527333 L -93.118903,44.926292000000004 L -93.11900101714033,44.92629681527333 L -93.11909809032201,44.9263112147196 L -93.11919328467725,44.92633505966427 L -93.11928568343237,44.92636812046749 L -93.11937439673683,44.92641007873565 L -93.11945857023302,44.9264605303877 L -93.11953739328416,44.926518989546636 L -93.1196101067812,44.926584893218816 L -93.11967601045336,44.926657606715835 L -93.11973446961231,44.92673642976698 L -93.11978492126435,44.926820603263174 L -93.11982687953251,44.92690931656764 L -93.11985994033573,44.927001715322746 L -93.11988378528041,44.927096909677985 L -93.11989818472668,44.92719398285967 L -93.11990300000001,44.927292 L -93.11989818472668,44.92739001714033 L -93.11988378528041,44.92748709032202 L -93.11985994033573,44.92758228467726 L -93.11982687953251,44.927674683432365 L -93.11978492126435,44.92776339673683 L -93.11973446961231,44.92784757023302 L -93.11967601045336,44.92792639328417 L -93.1196101067812,44.927999106781186 L -93.11953739328416,44.928065010453366 L -93.11945857023302,44.9281234696123 L -93.11937439673683,44.92817392126435 L -93.11928568343237,44.928215879532516 L -93.11919328467725,44.928248940335735 L -93.11909809032201,44.928272785280406 L -93.11900101714033,44.92828718472667 L -93.118903,44.928292 L -93.11880498285967,44.92828718472667 L -93.118707909678,44.928272785280406 L -93.11861271532275,44.928248940335735 L -93.11852031656764,44.928215879532516 L -93.11843160326318,44.92817392126435 L -93.11834742976698,44.9281234696123 L -93.11826860671584,44.928065010453366 L -93.11819589321881,44.927999106781186 L -93.11812998954665,44.92792639328417 L -93.1180715303877,44.92784757023302 L -93.11802107873565,44.92776339673683 L -93.1179791204675,44.927674683432365 L -93.11794605966428,44.92758228467726 L -93.1179222147196,44.92748709032202 L -93.11790781527333,44.92739001714033 L -93.117903,44.927292 z\" /><path fill-rule=\"evenodd\" fill=\"#66cc99\" stroke=\"#555555\" stroke-width=\"0.06126131520000001\" opacity=\"0.6\" d=\"M -93.11980299999999,44.928222 L -93.11980781527332,44.92812398285967 L -93.11982221471959,44.92802690967798 L -93.11984605966427,44.92793171532274 L -93.11987912046749,44.927839316567635 L -93.11992107873564,44.92775060326317 L -93.11997153038769,44.92766642976698 L -93.12002998954664,44.92758760671583 L -93.1200958932188,44.92751489321881 L -93.12016860671584,44.92744898954663 L -93.12024742976698,44.9273905303877 L -93.12033160326317,44.92734007873565 L -93.12042031656763,44.92729812046748 L -93.12051271532275,44.927265059664265 L -93.12060790967799,44.927241214719594 L -93.12070498285966,44.92722681527333 L -93.120803,44.927222 L -93.12090101714033,44.92722681527333 L -93.120998090322,44.927241214719594 L -93.12109328467724,44.927265059664265 L -93.12118568343236,44.92729812046748 L -93.12127439673682,44.92734007873565 L -93.12135857023301,44.9273905303877 L -93.12143739328415,44.92744898954663 L -93.12151010678119,44.92751489321881 L -93.12157601045335,44.92758760671583 L -93.1216344696123,44.92766642976698 L -93.12168492126435,44.92775060326317 L -93.1217268795325,44.927839316567635 L -93.12175994033572,44.92793171532274 L -93.1217837852804,44.92802690967798 L -93.12179818472667,44.92812398285967 L -93.121803,44.928222 L -93.12179818472667,44.92832001714033 L -93.1217837852804,44.928417090322014 L -93.12175994033572,44.928512284677254 L -93.1217268795325,44.92860468343236 L -93.12168492126435,44.928693396736826 L -93.1216344696123,44.92877757023302 L -93.12157601045335,44.928856393284164 L -93.12151010678119,44.92892910678118 L -93.12143739328415,44.92899501045336 L -93.12135857023301,44.9290534696123 L -93.12127439673682,44.92910392126435 L -93.12118568343236,44.92914587953251 L -93.12109328467724,44.92917894033573 L -93.120998090322,44.9292027852804 L -93.12090101714033,44.92921718472667 L -93.120803,44.929221999999996 L -93.12070498285966,44.92921718472667 L -93.12060790967799,44.9292027852804 L -93.12051271532275,44.92917894033573 L -93.12042031656763,44.92914587953251 L -93.12033160326317,44.92910392126435 L -93.12024742976698,44.9290534696123 L -93.12016860671584,44.92899501045336 L -93.1200958932188,44.92892910678118 L -93.12002998954664,44.928856393284164 L -93.11997153038769,44.92877757023302 L -93.11992107873564,44.928693396736826 L -93.11987912046749,44.92860468343236 L -93.11984605966427,44.928512284677254 L -93.11982221471959,44.928417090322014 L -93.11980781527332,44.92832001714033 L -93.11980299999999,44.928222 z\" /><path fill-rule=\"evenodd\" fill=\"#66cc99\" stroke=\"#555555\" stroke-width=\"0.06126131520000001\" opacity=\"0.6\" d=\"M -93.127219,44.9325 L -93.12722381527333,44.932401982859666 L -93.1272382147196,44.93230490967798 L -93.12726205966428,44.93220971532274 L -93.1272951204675,44.932117316567634 L -93.12733707873565,44.93202860326317 L -93.1273875303877,44.93194442976698 L -93.12744598954664,44.93186560671583 L -93.12751189321881,44.93179289321881 L -93.12758460671584,44.93172698954663 L -93.12766342976698,44.9316685303877 L -93.12774760326317,44.931618078735646 L -93.12783631656764,44.93157612046748 L -93.12792871532275,44.931543059664264 L -93.12802390967799,44.93151921471959 L -93.12812098285967,44.93150481527333 L -93.128219,44.9315 L -93.12831701714033,44.93150481527333 L -93.12841409032201,44.93151921471959 L -93.12850928467725,44.931543059664264 L -93.12860168343236,44.93157612046748 L -93.12869039673683,44.931618078735646 L -93.12877457023302,44.9316685303877 L -93.12885339328416,44.93172698954663 L -93.1289261067812,44.93179289321881 L -93.12899201045336,44.93186560671583 L -93.12905046961231,44.93194442976698 L -93.12910092126435,44.93202860326317 L -93.12914287953251,44.932117316567634 L -93.12917594033573,44.93220971532274 L -93.1291997852804,44.93230490967798 L -93.12921418472668,44.932401982859666 L -93.129219,44.9325 L -93.12921418472668,44.93259801714033 L -93.1291997852804,44.932695090322014 L -93.12917594033573,44.93279028467725 L -93.12914287953251,44.93288268343236 L -93.12910092126435,44.932971396736825 L -93.12905046961231,44.933055570233016 L -93.12899201045336,44.93313439328416 L -93.1289261067812,44.93320710678118 L -93.12885339328416,44.93327301045336 L -93.12877457023302,44.9333314696123 L -93.12869039673683,44.93338192126435 L -93.12860168343236,44.93342387953251 L -93.12850928467725,44.93345694033573 L -93.12841409032201,44.9334807852804 L -93.12831701714033,44.93349518472667 L -93.128219,44.933499999999995 L -93.12812098285967,44.93349518472667 L -93.12802390967799,44.9334807852804 L -93.12792871532275,44.93345694033573 L -93.12783631656764,44.93342387953251 L -93.12774760326317,44.93338192126435 L -93.12766342976698,44.9333314696123 L -93.12758460671584,44.93327301045336 L -93.12751189321881,44.93320710678118 L -93.12744598954664,44.93313439328416 L -93.1273875303877,44.933055570233016 L -93.12733707873565,44.932971396736825 L -93.1272951204675,44.93288268343236 L -93.12726205966428,44.93279028467725 L -93.1272382147196,44.932695090322014 L -93.12722381527333,44.93259801714033 L -93.127219,44.9325 z\" /><path fill-rule=\"evenodd\" fill=\"#66cc99\" stroke=\"#555555\" stroke-width=\"0.06126131520000001\" opacity=\"0.6\" d=\"M -93.12744699999999,44.4875 L -93.12745181527332,44.487401982859666 L -93.12746621471959,44.48730490967798 L -93.12749005966427,44.48720971532274 L -93.12752312046749,44.487117316567634 L -93.12756507873564,44.48702860326317 L -93.12761553038769,44.48694442976698 L -93.12767398954664,44.48686560671583 L -93.1277398932188,44.48679289321881 L -93.12781260671584,44.48672698954663 L -93.12789142976698,44.486668530387696 L -93.12797560326317,44.486618078735646 L -93.12806431656763,44.48657612046748 L -93.12815671532275,44.486543059664264 L -93.12825190967799,44.48651921471959 L -93.12834898285966,44.48650481527333 L -93.128447,44.4865 L -93.12854501714033,44.48650481527333 L -93.128642090322,44.48651921471959 L -93.12873728467724,44.486543059664264 L -93.12882968343236,44.48657612046748 L -93.12891839673682,44.486618078735646 L -93.12900257023301,44.486668530387696 L -93.12908139328415,44.48672698954663 L -93.12915410678119,44.48679289321881 L -93.12922001045335,44.48686560671583 L -93.1292784696123,44.48694442976698 L -93.12932892126435,44.48702860326317 L -93.1293708795325,44.487117316567634 L -93.12940394033572,44.48720971532274 L -93.1294277852804,44.48730490967798 L -93.12944218472667,44.487401982859666 L -93.129447,44.4875 L -93.12944218472667,44.48759801714033 L -93.1294277852804,44.48769509032201 L -93.12940394033572,44.48779028467725 L -93.1293708795325,44.48788268343236 L -93.12932892126435,44.487971396736825 L -93.1292784696123,44.488055570233016 L -93.12922001045335,44.48813439328416 L -93.12915410678119,44.48820710678118 L -93.12908139328415,44.48827301045336 L -93.12900257023301,44.4883314696123 L -93.12891839673682,44.48838192126435 L -93.12882968343236,44.48842387953251 L -93.12873728467724,44.48845694033573 L -93.128642090322,44.4884807852804 L -93.12854501714033,44.488495184726666 L -93.128447,44.488499999999995 L -93.12834898285966,44.488495184726666 L -93.12825190967799,44.4884807852804 L -93.12815671532275,44.48845694033573 L -93.12806431656763,44.48842387953251 L -93.12797560326317,44.48838192126435 L -93.12789142976698,44.4883314696123 L -93.12781260671584,44.48827301045336 L -93.1277398932188,44.48820710678118 L -93.12767398954664,44.48813439328416 L -93.12761553038769,44.488055570233016 L -93.12756507873564,44.487971396736825 L -93.12752312046749,44.48788268343236 L -93.12749005966427,44.48779028467725 L -93.12746621471959,44.48769509032201 L -93.12745181527332,44.48759801714033 L -93.12744699999999,44.4875 z\" /><path fill-rule=\"evenodd\" fill=\"#66cc99\" stroke=\"#555555\" stroke-width=\"0.06126131520000001\" opacity=\"0.6\" d=\"M -93.134261,44.904792 L -93.13426581527332,44.90469398285967 L -93.1342802147196,44.904596909677984 L -93.13430405966427,44.904501715322745 L -93.13433712046749,44.90440931656764 L -93.13437907873565,44.90432060326317 L -93.13442953038769,44.90423642976698 L -93.13448798954664,44.904157606715835 L -93.13455389321881,44.904084893218815 L -93.13462660671584,44.904018989546636 L -93.13470542976698,44.9039605303877 L -93.13478960326317,44.90391007873565 L -93.13487831656764,44.903868120467486 L -93.13497071532275,44.90383505966427 L -93.13506590967799,44.903811214719596 L -93.13516298285967,44.90379681527333 L -93.135261,44.903792 L -93.13535901714033,44.90379681527333 L -93.13545609032201,44.903811214719596 L -93.13555128467725,44.90383505966427 L -93.13564368343236,44.903868120467486 L -93.13573239673683,44.90391007873565 L -93.13581657023302,44.9039605303877 L -93.13589539328416,44.904018989546636 L -93.13596810678119,44.904084893218815 L -93.13603401045336,44.904157606715835 L -93.13609246961231,44.90423642976698 L -93.13614292126435,44.90432060326317 L -93.13618487953251,44.90440931656764 L -93.13621794033573,44.904501715322745 L -93.1362417852804,44.904596909677984 L -93.13625618472668,44.90469398285967 L -93.136261,44.904792 L -93.13625618472668,44.90489001714033 L -93.1362417852804,44.90498709032202 L -93.13621794033573,44.905082284677256 L -93.13618487953251,44.905174683432364 L -93.13614292126435,44.90526339673683 L -93.13609246961231,44.90534757023302 L -93.13603401045336,44.905426393284166 L -93.13596810678119,44.905499106781186 L -93.13589539328416,44.905565010453365 L -93.13581657023302,44.9056234696123 L -93.13573239673683,44.90567392126435 L -93.13564368343236,44.905715879532515 L -93.13555128467725,44.905748940335734 L -93.13545609032201,44.905772785280405 L -93.13535901714033,44.90578718472667 L -93.135261,44.905792 L -93.13516298285967,44.90578718472667 L -93.13506590967799,44.905772785280405 L -93.13497071532275,44.905748940335734 L -93.13487831656764,44.905715879532515 L -93.13478960326317,44.90567392126435 L -93.13470542976698,44.9056234696123 L -93.13462660671584,44.905565010453365 L -93.13455389321881,44.905499106781186 L -93.13448798954664,44.905426393284166 L -93.13442953038769,44.90534757023302 L -93.13437907873565,44.90526339673683 L -93.13433712046749,44.905174683432364 L -93.13430405966427,44.905082284677256 L -93.1342802147196,44.90498709032202 L -93.13426581527332,44.90489001714033 L -93.134261,44.904792 z\" /><path fill-rule=\"evenodd\" fill=\"#66cc99\" stroke=\"#555555\" stroke-width=\"0.06126131520000001\" opacity=\"0.6\" d=\"M -93.141381,45.885097 L -93.14138581527332,45.88499898285967 L -93.1414002147196,45.884901909677986 L -93.14142405966427,45.884806715322746 L -93.14145712046749,45.88471431656764 L -93.14149907873565,45.884625603263174 L -93.14154953038769,45.88454142976698 L -93.14160798954664,45.884462606715836 L -93.14167389321881,45.88438989321882 L -93.14174660671584,45.88432398954664 L -93.14182542976698,45.8842655303877 L -93.14190960326317,45.88421507873565 L -93.14199831656764,45.88417312046749 L -93.14209071532275,45.88414005966427 L -93.14218590967799,45.8841162147196 L -93.14228298285967,45.88410181527333 L -93.142381,45.884097000000004 L -93.14247901714033,45.88410181527333 L -93.14257609032201,45.8841162147196 L -93.14267128467725,45.88414005966427 L -93.14276368343236,45.88417312046749 L -93.14285239673683,45.88421507873565 L -93.14293657023302,45.8842655303877 L -93.14301539328416,45.88432398954664 L -93.14308810678119,45.88438989321882 L -93.14315401045336,45.884462606715836 L -93.14321246961231,45.88454142976698 L -93.14326292126435,45.884625603263174 L -93.14330487953251,45.88471431656764 L -93.14333794033573,45.884806715322746 L -93.1433617852804,45.884901909677986 L -93.14337618472668,45.88499898285967 L -93.143381,45.885097 L -93.14337618472668,45.88519501714033 L -93.1433617852804,45.88529209032202 L -93.14333794033573,45.88538728467726 L -93.14330487953251,45.885479683432365 L -93.14326292126435,45.88556839673683 L -93.14321246961231,45.88565257023302 L -93.14315401045336,45.88573139328417 L -93.14308810678119,45.88580410678119 L -93.14301539328416,45.88587001045337 L -93.14293657023302,45.8859284696123 L -93.14285239673683,45.88597892126435 L -93.14276368343236,45.886020879532516 L -93.14267128467725,45.886053940335735 L -93.14257609032201,45.886077785280406 L -93.14247901714033,45.88609218472667 L -93.142381,45.886097 L -93.14228298285967,45.88609218472667 L -93.14218590967799,45.886077785280406 L -93.14209071532275,45.886053940335735 L -93.14199831656764,45.886020879532516 L -93.14190960326317,45.88597892126435 L -93.14182542976698,45.8859284696123 L -93.14174660671584,45.88587001045337 L -93.14167389321881,45.88580410678119 L -93.14160798954664,45.88573139328417 L -93.14154953038769,45.88565257023302 L -93.14149907873565,45.88556839673683 L -93.14145712046749,45.885479683432365 L -93.14142405966427,45.88538728467726 L -93.1414002147196,45.88529209032202 L -93.14138581527332,45.88519501714033 L -93.141381,45.885097 z\" /><path fill-rule=\"evenodd\" fill=\"#66cc99\" stroke=\"#555555\" stroke-width=\"0.06126131520000001\" opacity=\"0.6\" d=\"M -93.145122,44.858094 L -93.14512681527333,44.85799598285967 L -93.1451412147196,44.857898909677985 L -93.14516505966428,44.857803715322746 L -93.1451981204675,44.85771131656764 L -93.14524007873565,44.857622603263174 L -93.1452905303877,44.85753842976698 L -93.14534898954665,44.857459606715835 L -93.14541489321881,44.857386893218816 L -93.14548760671585,44.857320989546636 L -93.14556642976699,44.8572625303877 L -93.14565060326318,44.85721207873565 L -93.14573931656764,44.85717012046749 L -93.14583171532276,44.85713705966427 L -93.145926909678,44.8571132147196 L -93.14602398285967,44.85709881527333 L -93.146122,44.857094000000004 L -93.14622001714034,44.85709881527333 L -93.14631709032201,44.8571132147196 L -93.14641228467725,44.85713705966427 L -93.14650468343237,44.85717012046749 L -93.14659339673683,44.85721207873565 L -93.14667757023302,44.8572625303877 L -93.14675639328416,44.857320989546636 L -93.1468291067812,44.857386893218816 L -93.14689501045336,44.857459606715835 L -93.14695346961231,44.85753842976698 L -93.14700392126436,44.857622603263174 L -93.14704587953251,44.85771131656764 L -93.14707894033573,44.857803715322746 L -93.14710278528041,44.857898909677985 L -93.14711718472668,44.85799598285967 L -93.14712200000001,44.858094 L -93.14711718472668,44.85819201714033 L -93.14710278528041,44.85828909032202 L -93.14707894033573,44.85838428467726 L -93.14704587953251,44.858476683432364 L -93.14700392126436,44.85856539673683 L -93.14695346961231,44.85864957023302 L -93.14689501045336,44.85872839328417 L -93.1468291067812,44.858801106781186 L -93.14675639328416,44.858867010453366 L -93.14667757023302,44.8589254696123 L -93.14659339673683,44.85897592126435 L -93.14650468343237,44.859017879532516 L -93.14641228467725,44.859050940335734 L -93.14631709032201,44.859074785280406 L -93.14622001714034,44.85908918472667 L -93.146122,44.859094 L -93.14602398285967,44.85908918472667 L -93.145926909678,44.859074785280406 L -93.14583171532276,44.859050940335734 L -93.14573931656764,44.859017879532516 L -93.14565060326318,44.85897592126435 L -93.14556642976699,44.8589254696123 L -93.14548760671585,44.858867010453366 L -93.14541489321881,44.858801106781186 L -93.14534898954665,44.85872839328417 L -93.1452905303877,44.85864957023302 L -93.14524007873565,44.85856539673683 L -93.1451981204675,44.858476683432364 L -93.14516505966428,44.85838428467726 L -93.1451412147196,44.85828909032202 L -93.14512681527333,44.85819201714033 L -93.145122,44.858094 z\" /><path fill-rule=\"evenodd\" fill=\"#66cc99\" stroke=\"#555555\" stroke-width=\"0.06126131520000001\" opacity=\"0.6\" d=\"M -93.145561,44.973575 L -93.14556581527333,44.973476982859665 L -93.1455802147196,44.97337990967798 L -93.14560405966428,44.97328471532274 L -93.1456371204675,44.97319231656763 L -93.14567907873565,44.97310360326317 L -93.1457295303877,44.97301942976698 L -93.14578798954665,44.97294060671583 L -93.14585389321881,44.97286789321881 L -93.14592660671585,44.97280198954663 L -93.14600542976699,44.972743530387696 L -93.14608960326318,44.972693078735645 L -93.14617831656764,44.97265112046748 L -93.14627071532276,44.97261805966426 L -93.146365909678,44.97259421471959 L -93.14646298285967,44.97257981527333 L -93.146561,44.972575 L -93.14665901714034,44.97257981527333 L -93.14675609032201,44.97259421471959 L -93.14685128467725,44.97261805966426 L -93.14694368343237,44.97265112046748 L -93.14703239673683,44.972693078735645 L -93.14711657023302,44.972743530387696 L -93.14719539328416,44.97280198954663 L -93.1472681067812,44.97286789321881 L -93.14733401045336,44.97294060671583 L -93.14739246961231,44.97301942976698 L -93.14744292126436,44.97310360326317 L -93.14748487953251,44.97319231656763 L -93.14751794033573,44.97328471532274 L -93.14754178528041,44.97337990967798 L -93.14755618472668,44.973476982859665 L -93.14756100000001,44.973575 L -93.14755618472668,44.97367301714033 L -93.14754178528041,44.97377009032201 L -93.14751794033573,44.97386528467725 L -93.14748487953251,44.97395768343236 L -93.14744292126436,44.974046396736824 L -93.14739246961231,44.974130570233015 L -93.14733401045336,44.97420939328416 L -93.1472681067812,44.97428210678118 L -93.14719539328416,44.97434801045336 L -93.14711657023302,44.9744064696123 L -93.14703239673683,44.97445692126435 L -93.14694368343237,44.97449887953251 L -93.14685128467725,44.97453194033573 L -93.14675609032201,44.9745557852804 L -93.14665901714034,44.974570184726666 L -93.146561,44.974574999999994 L -93.14646298285967,44.974570184726666 L -93.146365909678,44.9745557852804 L -93.14627071532276,44.97453194033573 L -93.14617831656764,44.97449887953251 L -93.14608960326318,44.97445692126435 L -93.14600542976699,44.9744064696123 L -93.14592660671585,44.97434801045336 L -93.14585389321881,44.97428210678118 L -93.14578798954665,44.97420939328416 L -93.1457295303877,44.974130570233015 L -93.14567907873565,44.974046396736824 L -93.1456371204675,44.97395768343236 L -93.14560405966428,44.97386528467725 L -93.1455802147196,44.97377009032201 L -93.14556581527333,44.97367301714033 L -93.145561,44.973575 z\" /><path fill-rule=\"evenodd\" fill=\"#66cc99\" stroke=\"#555555\" stroke-width=\"0.06126131520000001\" opacity=\"0.6\" d=\"M -93.147033,44.579906 L -93.14703781527332,44.57980798285967 L -93.1470522147196,44.579710909677985 L -93.14707605966427,44.579615715322745 L -93.14710912046749,44.57952331656764 L -93.14715107873565,44.579434603263174 L -93.14720153038769,44.57935042976698 L -93.14725998954664,44.579271606715835 L -93.1473258932188,44.579198893218816 L -93.14739860671584,44.579132989546636 L -93.14747742976698,44.5790745303877 L -93.14756160326317,44.57902407873565 L -93.14765031656763,44.57898212046749 L -93.14774271532275,44.57894905966427 L -93.14783790967799,44.5789252147196 L -93.14793498285967,44.57891081527333 L -93.148033,44.578906 L -93.14813101714033,44.57891081527333 L -93.14822809032201,44.5789252147196 L -93.14832328467725,44.57894905966427 L -93.14841568343236,44.57898212046749 L -93.14850439673683,44.57902407873565 L -93.14858857023302,44.5790745303877 L -93.14866739328416,44.579132989546636 L -93.14874010678119,44.579198893218816 L -93.14880601045336,44.579271606715835 L -93.1488644696123,44.57935042976698 L -93.14891492126435,44.579434603263174 L -93.1489568795325,44.57952331656764 L -93.14898994033572,44.579615715322745 L -93.1490137852804,44.579710909677985 L -93.14902818472667,44.57980798285967 L -93.149033,44.579906 L -93.14902818472667,44.58000401714033 L -93.1490137852804,44.58010109032202 L -93.14898994033572,44.58019628467726 L -93.1489568795325,44.580288683432364 L -93.14891492126435,44.58037739673683 L -93.1488644696123,44.58046157023302 L -93.14880601045336,44.58054039328417 L -93.14874010678119,44.580613106781186 L -93.14866739328416,44.580679010453366 L -93.14858857023302,44.5807374696123 L -93.14850439673683,44.58078792126435 L -93.14841568343236,44.580829879532516 L -93.14832328467725,44.580862940335734 L -93.14822809032201,44.580886785280406 L -93.14813101714033,44.58090118472667 L -93.148033,44.580906 L -93.14793498285967,44.58090118472667 L -93.14783790967799,44.580886785280406 L -93.14774271532275,44.580862940335734 L -93.14765031656763,44.580829879532516 L -93.14756160326317,44.58078792126435 L -93.14747742976698,44.5807374696123 L -93.14739860671584,44.580679010453366 L -93.1473258932188,44.580613106781186 L -93.14725998954664,44.58054039328417 L -93.14720153038769,44.58046157023302 L -93.14715107873565,44.58037739673683 L -93.14710912046749,44.580288683432364 L -93.14707605966427,44.58019628467726 L -93.1470522147196,44.58010109032202 L -93.14703781527332,44.58000401714033 L -93.147033,44.579906 z\" /><path fill-rule=\"evenodd\" fill=\"#66cc99\" stroke=\"#555555\" stroke-width=\"0.06126131520000001\" opacity=\"0.6\" d=\"M -93.1492,44.579942 L -93.14920481527332,44.57984398285967 L -93.1492192147196,44.579746909677986 L -93.14924305966427,44.57965171532275 L -93.14927612046749,44.57955931656764 L -93.14931807873565,44.579470603263175 L -93.14936853038769,44.579386429766984 L -93.14942698954664,44.57930760671584 L -93.1494928932188,44.57923489321882 L -93.14956560671584,44.57916898954664 L -93.14964442976698,44.5791105303877 L -93.14972860326317,44.57906007873565 L -93.14981731656763,44.57901812046749 L -93.14990971532275,44.57898505966427 L -93.15000490967799,44.5789612147196 L -93.15010198285967,44.57894681527333 L -93.1502,44.578942000000005 L -93.15029801714033,44.57894681527333 L -93.15039509032201,44.5789612147196 L -93.15049028467725,44.57898505966427 L -93.15058268343236,44.57901812046749 L -93.15067139673683,44.57906007873565 L -93.15075557023302,44.5791105303877 L -93.15083439328416,44.57916898954664 L -93.15090710678119,44.57923489321882 L -93.15097301045336,44.57930760671584 L -93.1510314696123,44.579386429766984 L -93.15108192126435,44.579470603263175 L -93.1511238795325,44.57955931656764 L -93.15115694033572,44.57965171532275 L -93.1511807852804,44.579746909677986 L -93.15119518472667,44.57984398285967 L -93.1512,44.579942 L -93.15119518472667,44.580040017140334 L -93.1511807852804,44.58013709032202 L -93.15115694033572,44.58023228467726 L -93.1511238795325,44.580324683432366 L -93.15108192126435,44.58041339673683 L -93.1510314696123,44.58049757023302 L -93.15097301045336,44.58057639328417 L -93.15090710678119,44.58064910678119 L -93.15083439328416,44.58071501045337 L -93.15075557023302,44.5807734696123 L -93.15067139673683,44.580823921264354 L -93.15058268343236,44.58086587953252 L -93.15049028467725,44.580898940335736 L -93.15039509032201,44.58092278528041 L -93.15029801714033,44.58093718472667 L -93.1502,44.580942 L -93.15010198285967,44.58093718472667 L -93.15000490967799,44.58092278528041 L -93.14990971532275,44.580898940335736 L -93.14981731656763,44.58086587953252 L -93.14972860326317,44.580823921264354 L -93.14964442976698,44.5807734696123 L -93.14956560671584,44.58071501045337 L -93.1494928932188,44.58064910678119 L -93.14942698954664,44.58057639328417 L -93.14936853038769,44.58049757023302 L -93.14931807873565,44.58041339673683 L -93.14927612046749,44.580324683432366 L -93.14924305966427,44.58023228467726 L -93.1492192147196,44.58013709032202 L -93.14920481527332,44.580040017140334 L -93.1492,44.579942 z\" /><path fill-rule=\"evenodd\" fill=\"#66cc99\" stroke=\"#555555\" stroke-width=\"0.06126131520000001\" opacity=\"0.6\" d=\"M -93.150222,44.550939 L -93.15022681527333,44.55084098285967 L -93.1502412147196,44.55074390967798 L -93.15026505966428,44.550648715322744 L -93.1502981204675,44.550556316567636 L -93.15034007873565,44.55046760326317 L -93.1503905303877,44.55038342976698 L -93.15044898954665,44.550304606715834 L -93.15051489321881,44.550231893218815 L -93.15058760671585,44.550165989546635 L -93.15066642976699,44.5501075303877 L -93.15075060326318,44.55005707873565 L -93.15083931656764,44.550015120467485 L -93.15093171532276,44.549982059664266 L -93.151026909678,44.549958214719595 L -93.15112398285967,44.54994381527333 L -93.151222,44.549939 L -93.15132001714034,44.54994381527333 L -93.15141709032201,44.549958214719595 L -93.15151228467725,44.549982059664266 L -93.15160468343237,44.550015120467485 L -93.15169339673683,44.55005707873565 L -93.15177757023302,44.5501075303877 L -93.15185639328416,44.550165989546635 L -93.1519291067812,44.550231893218815 L -93.15199501045336,44.550304606715834 L -93.15205346961231,44.55038342976698 L -93.15210392126436,44.55046760326317 L -93.15214587953251,44.550556316567636 L -93.15217894033573,44.550648715322744 L -93.15220278528041,44.55074390967798 L -93.15221718472668,44.55084098285967 L -93.15222200000001,44.550939 L -93.15221718472668,44.55103701714033 L -93.15220278528041,44.551134090322016 L -93.15217894033573,44.551229284677255 L -93.15214587953251,44.55132168343236 L -93.15210392126436,44.55141039673683 L -93.15205346961231,44.55149457023302 L -93.15199501045336,44.551573393284166 L -93.1519291067812,44.551646106781185 L -93.15185639328416,44.551712010453365 L -93.15177757023302,44.5517704696123 L -93.15169339673683,44.55182092126435 L -93.15160468343237,44.551862879532514 L -93.15151228467725,44.55189594033573 L -93.15141709032201,44.551919785280404 L -93.15132001714034,44.55193418472667 L -93.151222,44.551939 L -93.15112398285967,44.55193418472667 L -93.151026909678,44.551919785280404 L -93.15093171532276,44.55189594033573 L -93.15083931656764,44.551862879532514 L -93.15075060326318,44.55182092126435 L -93.15066642976699,44.5517704696123 L -93.15058760671585,44.551712010453365 L -93.15051489321881,44.551646106781185 L -93.15044898954665,44.551573393284166 L -93.1503905303877,44.55149457023302 L -93.15034007873565,44.55141039673683 L -93.1502981204675,44.55132168343236 L -93.15026505966428,44.551229284677255 L -93.1502412147196,44.551134090322016 L -93.15022681527333,44.55103701714033 L -93.150222,44.550939 z\" /><path fill-rule=\"evenodd\" fill=\"#66cc99\" stroke=\"#555555\" stroke-width=\"0.06126131520000001\" opacity=\"0.6\" d=\"M -93.16018899999999,44.4566 L -93.16019381527332,44.45650198285967 L -93.16020821471959,44.456404909677985 L -93.16023205966427,44.456309715322746 L -93.16026512046749,44.45621731656764 L -93.16030707873564,44.456128603263174 L -93.16035753038769,44.45604442976698 L -93.16041598954664,44.455965606715836 L -93.1604818932188,44.45589289321882 L -93.16055460671583,44.45582698954664 L -93.16063342976697,44.4557685303877 L -93.16071760326317,44.45571807873565 L -93.16080631656763,44.45567612046749 L -93.16089871532274,44.45564305966427 L -93.16099390967798,44.4556192147196 L -93.16109098285966,44.45560481527333 L -93.161189,44.455600000000004 L -93.16128701714032,44.45560481527333 L -93.161384090322,44.4556192147196 L -93.16147928467724,44.45564305966427 L -93.16157168343236,44.45567612046749 L -93.16166039673682,44.45571807873565 L -93.16174457023301,44.4557685303877 L -93.16182339328415,44.45582698954664 L -93.16189610678119,44.45589289321882 L -93.16196201045335,44.455965606715836 L -93.1620204696123,44.45604442976698 L -93.16207092126434,44.456128603263174 L -93.1621128795325,44.45621731656764 L -93.16214594033572,44.456309715322746 L -93.1621697852804,44.456404909677985 L -93.16218418472667,44.45650198285967 L -93.162189,44.4566 L -93.16218418472667,44.45669801714033 L -93.1621697852804,44.45679509032202 L -93.16214594033572,44.45689028467726 L -93.1621128795325,44.456982683432365 L -93.16207092126434,44.45707139673683 L -93.1620204696123,44.45715557023302 L -93.16196201045335,44.45723439328417 L -93.16189610678119,44.45730710678119 L -93.16182339328415,44.45737301045337 L -93.16174457023301,44.4574314696123 L -93.16166039673682,44.45748192126435 L -93.16157168343236,44.457523879532516 L -93.16147928467724,44.457556940335735 L -93.161384090322,44.457580785280406 L -93.16128701714032,44.45759518472667 L -93.161189,44.4576 L -93.16109098285966,44.45759518472667 L -93.16099390967798,44.457580785280406 L -93.16089871532274,44.457556940335735 L -93.16080631656763,44.457523879532516 L -93.16071760326317,44.45748192126435 L -93.16063342976697,44.4574314696123 L -93.16055460671583,44.45737301045337 L -93.1604818932188,44.45730710678119 L -93.16041598954664,44.45723439328417 L -93.16035753038769,44.45715557023302 L -93.16030707873564,44.45707139673683 L -93.16026512046749,44.456982683432365 L -93.16023205966427,44.45689028467726 L -93.16020821471959,44.45679509032202 L -93.16019381527332,44.45669801714033 L -93.16018899999999,44.4566 z\" /><path fill-rule=\"evenodd\" fill=\"#66cc99\" stroke=\"#555555\" stroke-width=\"0.06126131520000001\" opacity=\"0.6\" d=\"M -93.17958899999999,44.521811 L -93.17959381527332,44.52171298285967 L -93.1796082147196,44.52161590967798 L -93.17963205966427,44.521520715322744 L -93.17966512046749,44.521428316567636 L -93.17970707873565,44.52133960326317 L -93.17975753038769,44.52125542976698 L -93.17981598954664,44.521176606715834 L -93.1798818932188,44.521103893218815 L -93.17995460671584,44.521037989546635 L -93.18003342976698,44.5209795303877 L -93.18011760326317,44.52092907873565 L -93.18020631656763,44.520887120467485 L -93.18029871532275,44.520854059664266 L -93.18039390967799,44.520830214719595 L -93.18049098285967,44.52081581527333 L -93.180589,44.520811 L -93.18068701714033,44.52081581527333 L -93.180784090322,44.520830214719595 L -93.18087928467725,44.520854059664266 L -93.18097168343236,44.520887120467485 L -93.18106039673683,44.52092907873565 L -93.18114457023302,44.5209795303877 L -93.18122339328416,44.521037989546635 L -93.18129610678119,44.521103893218815 L -93.18136201045336,44.521176606715834 L -93.1814204696123,44.52125542976698 L -93.18147092126435,44.52133960326317 L -93.1815128795325,44.521428316567636 L -93.18154594033572,44.521520715322744 L -93.1815697852804,44.52161590967798 L -93.18158418472667,44.52171298285967 L -93.181589,44.521811 L -93.18158418472667,44.52190901714033 L -93.1815697852804,44.522006090322016 L -93.18154594033572,44.522101284677255 L -93.1815128795325,44.52219368343236 L -93.18147092126435,44.52228239673683 L -93.1814204696123,44.52236657023302 L -93.18136201045336,44.522445393284166 L -93.18129610678119,44.522518106781185 L -93.18122339328416,44.522584010453365 L -93.18114457023302,44.5226424696123 L -93.18106039673683,44.52269292126435 L -93.18097168343236,44.522734879532514 L -93.18087928467725,44.52276794033573 L -93.180784090322,44.522791785280404 L -93.18068701714033,44.52280618472667 L -93.180589,44.522811 L -93.18049098285967,44.52280618472667 L -93.18039390967799,44.522791785280404 L -93.18029871532275,44.52276794033573 L -93.18020631656763,44.522734879532514 L -93.18011760326317,44.52269292126435 L -93.18003342976698,44.5226424696123 L -93.17995460671584,44.522584010453365 L -93.1798818932188,44.522518106781185 L -93.17981598954664,44.522445393284166 L -93.17975753038769,44.52236657023302 L -93.17970707873565,44.52228239673683 L -93.17966512046749,44.52219368343236 L -93.17963205966427,44.522101284677255 L -93.1796082147196,44.522006090322016 L -93.17959381527332,44.52190901714033 L -93.17958899999999,44.521811 z\" /><path fill-rule=\"evenodd\" fill=\"#66cc99\" stroke=\"#555555\" stroke-width=\"0.06126131520000001\" opacity=\"0.6\" d=\"M -93.18190799999999,44.893047 L -93.18191281527332,44.89294898285967 L -93.1819272147196,44.89285190967799 L -93.18195105966427,44.89275671532275 L -93.18198412046749,44.89266431656764 L -93.18202607873565,44.892575603263175 L -93.18207653038769,44.892491429766984 L -93.18213498954664,44.89241260671584 L -93.1822008932188,44.89233989321882 L -93.18227360671584,44.89227398954664 L -93.18235242976698,44.8922155303877 L -93.18243660326317,44.89216507873565 L -93.18252531656763,44.89212312046749 L -93.18261771532275,44.89209005966427 L -93.18271290967799,44.8920662147196 L -93.18280998285967,44.892051815273334 L -93.182908,44.892047000000005 L -93.18300601714033,44.892051815273334 L -93.183103090322,44.8920662147196 L -93.18319828467725,44.89209005966427 L -93.18329068343236,44.89212312046749 L -93.18337939673683,44.89216507873565 L -93.18346357023302,44.8922155303877 L -93.18354239328416,44.89227398954664 L -93.18361510678119,44.89233989321882 L -93.18368101045336,44.89241260671584 L -93.1837394696123,44.892491429766984 L -93.18378992126435,44.892575603263175 L -93.1838318795325,44.89266431656764 L -93.18386494033572,44.89275671532275 L -93.1838887852804,44.89285190967799 L -93.18390318472667,44.89294898285967 L -93.183908,44.893047 L -93.18390318472667,44.893145017140334 L -93.1838887852804,44.89324209032202 L -93.18386494033572,44.89333728467726 L -93.1838318795325,44.893429683432366 L -93.18378992126435,44.89351839673683 L -93.1837394696123,44.89360257023302 L -93.18368101045336,44.89368139328417 L -93.18361510678119,44.89375410678119 L -93.18354239328416,44.89382001045337 L -93.18346357023302,44.893878469612304 L -93.18337939673683,44.893928921264354 L -93.18329068343236,44.89397087953252 L -93.18319828467725,44.894003940335736 L -93.183103090322,44.89402778528041 L -93.18300601714033,44.89404218472667 L -93.182908,44.894047 L -93.18280998285967,44.89404218472667 L -93.18271290967799,44.89402778528041 L -93.18261771532275,44.894003940335736 L -93.18252531656763,44.89397087953252 L -93.18243660326317,44.893928921264354 L -93.18235242976698,44.893878469612304 L -93.18227360671584,44.89382001045337 L -93.1822008932188,44.89375410678119 L -93.18213498954664,44.89368139328417 L -93.18207653038769,44.89360257023302 L -93.18202607873565,44.89351839673683 L -93.18198412046749,44.893429683432366 L -93.18195105966427,44.89333728467726 L -93.1819272147196,44.89324209032202 L -93.18191281527332,44.893145017140334 L -93.18190799999999,44.893047 z\" /><path fill-rule=\"evenodd\" fill=\"#66cc99\" stroke=\"#555555\" stroke-width=\"0.06126131520000001\" opacity=\"0.6\" d=\"M -93.194672,45.192647 L -93.19467681527333,45.19254898285967 L -93.1946912147196,45.192451909677985 L -93.19471505966428,45.192356715322745 L -93.1947481204675,45.19226431656764 L -93.19479007873565,45.19217560326317 L -93.1948405303877,45.19209142976698 L -93.19489898954664,45.192012606715835 L -93.19496489321881,45.191939893218816 L -93.19503760671584,45.191873989546636 L -93.19511642976698,45.1918155303877 L -93.19520060326317,45.19176507873565 L -93.19528931656764,45.191723120467486 L -93.19538171532275,45.19169005966427 L -93.19547690967799,45.191666214719596 L -93.19557398285967,45.19165181527333 L -93.195672,45.191647 L -93.19577001714033,45.19165181527333 L -93.19586709032201,45.191666214719596 L -93.19596228467725,45.19169005966427 L -93.19605468343237,45.191723120467486 L -93.19614339673683,45.19176507873565 L -93.19622757023302,45.1918155303877 L -93.19630639328416,45.191873989546636 L -93.1963791067812,45.191939893218816 L -93.19644501045336,45.192012606715835 L -93.19650346961231,45.19209142976698 L -93.19655392126435,45.19217560326317 L -93.19659587953251,45.19226431656764 L -93.19662894033573,45.192356715322745 L -93.1966527852804,45.192451909677985 L -93.19666718472668,45.19254898285967 L -93.196672,45.192647 L -93.19666718472668,45.19274501714033 L -93.1966527852804,45.19284209032202 L -93.19662894033573,45.19293728467726 L -93.19659587953251,45.193029683432364 L -93.19655392126435,45.19311839673683 L -93.19650346961231,45.19320257023302 L -93.19644501045336,45.19328139328417 L -93.1963791067812,45.193354106781186 L -93.19630639328416,45.193420010453366 L -93.19622757023302,45.1934784696123 L -93.19614339673683,45.19352892126435 L -93.19605468343237,45.193570879532516 L -93.19596228467725,45.193603940335734 L -93.19586709032201,45.193627785280405 L -93.19577001714033,45.19364218472667 L -93.195672,45.193647 L -93.19557398285967,45.19364218472667 L -93.19547690967799,45.193627785280405 L -93.19538171532275,45.193603940335734 L -93.19528931656764,45.193570879532516 L -93.19520060326317,45.19352892126435 L -93.19511642976698,45.1934784696123 L -93.19503760671584,45.193420010453366 L -93.19496489321881,45.193354106781186 L -93.19489898954664,45.19328139328417 L -93.1948405303877,45.19320257023302 L -93.19479007873565,45.19311839673683 L -93.1947481204675,45.193029683432364 L -93.19471505966428,45.19293728467726 L -93.1946912147196,45.19284209032202 L -93.19467681527333,45.19274501714033 L -93.194672,45.192647 z\" /><path fill-rule=\"evenodd\" fill=\"#66cc99\" stroke=\"#555555\" stroke-width=\"0.06126131520000001\" opacity=\"0.6\" d=\"M -93.1947,45.180892 L -93.19470481527333,45.18079398285967 L -93.1947192147196,45.180696909677984 L -93.19474305966428,45.180601715322744 L -93.1947761204675,45.18050931656764 L -93.19481807873565,45.18042060326317 L -93.1948685303877,45.18033642976698 L -93.19492698954664,45.180257606715834 L -93.19499289321881,45.180184893218815 L -93.19506560671584,45.180118989546635 L -93.19514442976698,45.1800605303877 L -93.19522860326317,45.18001007873565 L -93.19531731656764,45.179968120467485 L -93.19540971532275,45.17993505966427 L -93.195504909678,45.179911214719596 L -93.19560198285967,45.17989681527333 L -93.1957,45.179892 L -93.19579801714033,45.17989681527333 L -93.19589509032201,45.179911214719596 L -93.19599028467725,45.17993505966427 L -93.19608268343237,45.179968120467485 L -93.19617139673683,45.18001007873565 L -93.19625557023302,45.1800605303877 L -93.19633439328416,45.180118989546635 L -93.1964071067812,45.180184893218815 L -93.19647301045336,45.180257606715834 L -93.19653146961231,45.18033642976698 L -93.19658192126435,45.18042060326317 L -93.19662387953251,45.18050931656764 L -93.19665694033573,45.180601715322744 L -93.1966807852804,45.180696909677984 L -93.19669518472668,45.18079398285967 L -93.1967,45.180892 L -93.19669518472668,45.18099001714033 L -93.1966807852804,45.181087090322016 L -93.19665694033573,45.181182284677256 L -93.19662387953251,45.18127468343236 L -93.19658192126435,45.18136339673683 L -93.19653146961231,45.18144757023302 L -93.19647301045336,45.181526393284166 L -93.1964071067812,45.181599106781185 L -93.19633439328416,45.181665010453365 L -93.19625557023302,45.1817234696123 L -93.19617139673683,45.18177392126435 L -93.19608268343237,45.181815879532515 L -93.19599028467725,45.18184894033573 L -93.19589509032201,45.181872785280405 L -93.19579801714033,45.18188718472667 L -93.1957,45.181892 L -93.19560198285967,45.18188718472667 L -93.195504909678,45.181872785280405 L -93.19540971532275,45.18184894033573 L -93.19531731656764,45.181815879532515 L -93.19522860326317,45.18177392126435 L -93.19514442976698,45.1817234696123 L -93.19506560671584,45.181665010453365 L -93.19499289321881,45.181599106781185 L -93.19492698954664,45.181526393284166 L -93.1948685303877,45.18144757023302 L -93.19481807873565,45.18136339673683 L -93.1947761204675,45.18127468343236 L -93.19474305966428,45.181182284677256 L -93.1947192147196,45.181087090322016 L -93.19470481527333,45.18099001714033 L -93.1947,45.180892 z\" /><path fill-rule=\"evenodd\" fill=\"#66cc99\" stroke=\"#555555\" stroke-width=\"0.06126131520000001\" opacity=\"0.6\" d=\"M -93.194817,44.972775 L -93.19482181527333,44.97267698285967 L -93.1948362147196,44.97257990967798 L -93.19486005966428,44.97248471532274 L -93.1948931204675,44.972392316567635 L -93.19493507873565,44.97230360326317 L -93.1949855303877,44.97221942976698 L -93.19504398954665,44.97214060671583 L -93.19510989321881,44.972067893218814 L -93.19518260671585,44.972001989546634 L -93.19526142976699,44.9719435303877 L -93.19534560326318,44.97189307873565 L -93.19543431656764,44.971851120467484 L -93.19552671532276,44.971818059664265 L -93.195621909678,44.971794214719594 L -93.19571898285967,44.97177981527333 L -93.195817,44.971775 L -93.19591501714034,44.97177981527333 L -93.19601209032201,44.971794214719594 L -93.19610728467725,44.971818059664265 L -93.19619968343237,44.971851120467484 L -93.19628839673683,44.97189307873565 L -93.19637257023302,44.9719435303877 L -93.19645139328416,44.972001989546634 L -93.1965241067812,44.972067893218814 L -93.19659001045336,44.97214060671583 L -93.19664846961231,44.97221942976698 L -93.19669892126436,44.97230360326317 L -93.19674087953251,44.972392316567635 L -93.19677394033573,44.97248471532274 L -93.19679778528041,44.97257990967798 L -93.19681218472668,44.97267698285967 L -93.19681700000001,44.972775 L -93.19681218472668,44.97287301714033 L -93.19679778528041,44.972970090322015 L -93.19677394033573,44.973065284677254 L -93.19674087953251,44.97315768343236 L -93.19669892126436,44.973246396736826 L -93.19664846961231,44.97333057023302 L -93.19659001045336,44.973409393284165 L -93.1965241067812,44.973482106781184 L -93.19645139328416,44.973548010453364 L -93.19637257023302,44.9736064696123 L -93.19628839673683,44.97365692126435 L -93.19619968343237,44.97369887953251 L -93.19610728467725,44.97373194033573 L -93.19601209032201,44.9737557852804 L -93.19591501714034,44.97377018472667 L -93.195817,44.973774999999996 L -93.19571898285967,44.97377018472667 L -93.195621909678,44.9737557852804 L -93.19552671532276,44.97373194033573 L -93.19543431656764,44.97369887953251 L -93.19534560326318,44.97365692126435 L -93.19526142976699,44.9736064696123 L -93.19518260671585,44.973548010453364 L -93.19510989321881,44.973482106781184 L -93.19504398954665,44.973409393284165 L -93.1949855303877,44.97333057023302 L -93.19493507873565,44.973246396736826 L -93.1948931204675,44.97315768343236 L -93.19486005966428,44.973065284677254 L -93.1948362147196,44.972970090322015 L -93.19482181527333,44.97287301714033 L -93.194817,44.972775 z\" /><path fill-rule=\"evenodd\" fill=\"#66cc99\" stroke=\"#555555\" stroke-width=\"0.06126131520000001\" opacity=\"0.6\" d=\"M -93.20155299999999,44.080822 L -93.20155781527332,44.080723982859666 L -93.20157221471959,44.08062690967798 L -93.20159605966427,44.08053171532274 L -93.20162912046749,44.080439316567634 L -93.20167107873564,44.08035060326317 L -93.20172153038769,44.08026642976698 L -93.20177998954664,44.08018760671583 L -93.2018458932188,44.08011489321881 L -93.20191860671584,44.08004898954663 L -93.20199742976698,44.0799905303877 L -93.20208160326317,44.079940078735646 L -93.20217031656763,44.07989812046748 L -93.20226271532275,44.079865059664264 L -93.20235790967799,44.07984121471959 L -93.20245498285966,44.07982681527333 L -93.202553,44.079822 L -93.20265101714033,44.07982681527333 L -93.202748090322,44.07984121471959 L -93.20284328467724,44.079865059664264 L -93.20293568343236,44.07989812046748 L -93.20302439673682,44.079940078735646 L -93.20310857023301,44.0799905303877 L -93.20318739328415,44.08004898954663 L -93.20326010678119,44.08011489321881 L -93.20332601045335,44.08018760671583 L -93.2033844696123,44.08026642976698 L -93.20343492126435,44.08035060326317 L -93.2034768795325,44.080439316567634 L -93.20350994033572,44.08053171532274 L -93.2035337852804,44.08062690967798 L -93.20354818472667,44.080723982859666 L -93.203553,44.080822 L -93.20354818472667,44.08092001714033 L -93.2035337852804,44.081017090322014 L -93.20350994033572,44.08111228467725 L -93.2034768795325,44.08120468343236 L -93.20343492126435,44.081293396736825 L -93.2033844696123,44.081377570233016 L -93.20332601045335,44.081456393284164 L -93.20326010678119,44.08152910678118 L -93.20318739328415,44.08159501045336 L -93.20310857023301,44.0816534696123 L -93.20302439673682,44.08170392126435 L -93.20293568343236,44.08174587953251 L -93.20284328467724,44.08177894033573 L -93.202748090322,44.0818027852804 L -93.20265101714033,44.08181718472667 L -93.202553,44.081821999999995 L -93.20245498285966,44.08181718472667 L -93.20235790967799,44.0818027852804 L -93.20226271532275,44.08177894033573 L -93.20217031656763,44.08174587953251 L -93.20208160326317,44.08170392126435 L -93.20199742976698,44.0816534696123 L -93.20191860671584,44.08159501045336 L -93.2018458932188,44.08152910678118 L -93.20177998954664,44.081456393284164 L -93.20172153038769,44.081377570233016 L -93.20167107873564,44.081293396736825 L -93.20162912046749,44.08120468343236 L -93.20159605966427,44.08111228467725 L -93.20157221471959,44.081017090322014 L -93.20155781527332,44.08092001714033 L -93.20155299999999,44.080822 z\" /><path fill-rule=\"evenodd\" fill=\"#66cc99\" stroke=\"#555555\" stroke-width=\"0.06126131520000001\" opacity=\"0.6\" d=\"M -93.20472799999999,44.881031 L -93.20473281527332,44.88093298285967 L -93.20474721471959,44.880835909677984 L -93.20477105966427,44.880740715322744 L -93.20480412046749,44.88064831656764 L -93.20484607873564,44.88055960326317 L -93.20489653038769,44.88047542976698 L -93.20495498954664,44.880396606715834 L -93.2050208932188,44.880323893218815 L -93.20509360671583,44.880257989546635 L -93.20517242976698,44.8801995303877 L -93.20525660326317,44.88014907873565 L -93.20534531656763,44.880107120467486 L -93.20543771532274,44.88007405966427 L -93.20553290967798,44.880050214719596 L -93.20562998285966,44.88003581527333 L -93.205728,44.880031 L -93.20582601714032,44.88003581527333 L -93.205923090322,44.880050214719596 L -93.20601828467724,44.88007405966427 L -93.20611068343236,44.880107120467486 L -93.20619939673682,44.88014907873565 L -93.20628357023301,44.8801995303877 L -93.20636239328415,44.880257989546635 L -93.20643510678119,44.880323893218815 L -93.20650101045335,44.880396606715834 L -93.2065594696123,44.88047542976698 L -93.20660992126435,44.88055960326317 L -93.2066518795325,44.88064831656764 L -93.20668494033572,44.880740715322744 L -93.2067087852804,44.880835909677984 L -93.20672318472667,44.88093298285967 L -93.206728,44.881031 L -93.20672318472667,44.88112901714033 L -93.2067087852804,44.881226090322016 L -93.20668494033572,44.881321284677256 L -93.2066518795325,44.88141368343236 L -93.20660992126435,44.88150239673683 L -93.2065594696123,44.88158657023302 L -93.20650101045335,44.881665393284166 L -93.20643510678119,44.881738106781185 L -93.20636239328415,44.881804010453365 L -93.20628357023301,44.8818624696123 L -93.20619939673682,44.88191292126435 L -93.20611068343236,44.881954879532515 L -93.20601828467724,44.88198794033573 L -93.205923090322,44.882011785280405 L -93.20582601714032,44.88202618472667 L -93.205728,44.882031 L -93.20562998285966,44.88202618472667 L -93.20553290967798,44.882011785280405 L -93.20543771532274,44.88198794033573 L -93.20534531656763,44.881954879532515 L -93.20525660326317,44.88191292126435 L -93.20517242976698,44.8818624696123 L -93.20509360671583,44.881804010453365 L -93.2050208932188,44.881738106781185 L -93.20495498954664,44.881665393284166 L -93.20489653038769,44.88158657023302 L -93.20484607873564,44.88150239673683 L -93.20480412046749,44.88141368343236 L -93.20477105966427,44.881321284677256 L -93.20474721471959,44.881226090322016 L -93.20473281527332,44.88112901714033 L -93.20472799999999,44.881031 z\" /><path fill-rule=\"evenodd\" fill=\"#66cc99\" stroke=\"#555555\" stroke-width=\"0.06126131520000001\" opacity=\"0.6\" d=\"M -93.205925,44.912472 L -93.20592981527332,44.91237398285967 L -93.2059442147196,44.912276909677985 L -93.20596805966427,44.912181715322745 L -93.20600112046749,44.91208931656764 L -93.20604307873565,44.912000603263174 L -93.20609353038769,44.91191642976698 L -93.20615198954664,44.911837606715835 L -93.2062178932188,44.911764893218816 L -93.20629060671584,44.911698989546636 L -93.20636942976698,44.9116405303877 L -93.20645360326317,44.91159007873565 L -93.20654231656763,44.91154812046749 L -93.20663471532275,44.91151505966427 L -93.20672990967799,44.9114912147196 L -93.20682698285967,44.91147681527333 L -93.206925,44.911472 L -93.20702301714033,44.91147681527333 L -93.20712009032201,44.9114912147196 L -93.20721528467725,44.91151505966427 L -93.20730768343236,44.91154812046749 L -93.20739639673683,44.91159007873565 L -93.20748057023302,44.9116405303877 L -93.20755939328416,44.911698989546636 L -93.20763210678119,44.911764893218816 L -93.20769801045336,44.911837606715835 L -93.2077564696123,44.91191642976698 L -93.20780692126435,44.912000603263174 L -93.2078488795325,44.91208931656764 L -93.20788194033572,44.912181715322745 L -93.2079057852804,44.912276909677985 L -93.20792018472667,44.91237398285967 L -93.207925,44.912472 L -93.20792018472667,44.91257001714033 L -93.2079057852804,44.91266709032202 L -93.20788194033572,44.91276228467726 L -93.2078488795325,44.912854683432364 L -93.20780692126435,44.91294339673683 L -93.2077564696123,44.91302757023302 L -93.20769801045336,44.91310639328417 L -93.20763210678119,44.913179106781186 L -93.20755939328416,44.913245010453366 L -93.20748057023302,44.9133034696123 L -93.20739639673683,44.91335392126435 L -93.20730768343236,44.913395879532516 L -93.20721528467725,44.913428940335734 L -93.20712009032201,44.913452785280406 L -93.20702301714033,44.91346718472667 L -93.206925,44.913472 L -93.20682698285967,44.91346718472667 L -93.20672990967799,44.913452785280406 L -93.20663471532275,44.913428940335734 L -93.20654231656763,44.913395879532516 L -93.20645360326317,44.91335392126435 L -93.20636942976698,44.9133034696123 L -93.20629060671584,44.913245010453366 L -93.2062178932188,44.913179106781186 L -93.20615198954664,44.91310639328417 L -93.20609353038769,44.91302757023302 L -93.20604307873565,44.91294339673683 L -93.20600112046749,44.912854683432364 L -93.20596805966427,44.91276228467726 L -93.2059442147196,44.91266709032202 L -93.20592981527332,44.91257001714033 L -93.205925,44.912472 z\" /><path fill-rule=\"evenodd\" fill=\"#66cc99\" stroke=\"#555555\" stroke-width=\"0.06126131520000001\" opacity=\"0.6\" d=\"M -93.21172120224959,44.883403347925565 L -93.21170694033573,44.883460284677255 L -93.21167387953251,44.88355268343236 L -93.21163192126436,44.88364139673683 L -93.21158146961231,44.88372557023302 L -93.21152301045336,44.883804393284166 L -93.2114571067812,44.883877106781185 L -93.21138439328416,44.883943010453365 L -93.21130557023302,44.8840014696123 L -93.21122139673683,44.88405192126435 L -93.21117563371304,44.884073565562645 L -93.21112710678119,44.884127106781186 L -93.21105439328416,44.884193010453366 L -93.21097557023302,44.8842514696123 L -93.21089139673683,44.88430192126435 L -93.21080268343236,44.884343879532516 L -93.21071028467725,44.884376940335734 L -93.21061509032201,44.884400785280405 L -93.21051801714033,44.88441518472667 L -93.21042,44.88442 L -93.21032198285967,44.88441518472667 L -93.21022490967799,44.884400785280405 L -93.21012971532275,44.884376940335734 L -93.21003731656764,44.884343879532516 L -93.20994860326317,44.88430192126435 L -93.20986442976698,44.8842514696123 L -93.20978560671584,44.884193010453366 L -93.2097128932188,44.884127106781186 L -93.20964698954664,44.88405439328417 L -93.20958853038769,44.88397557023302 L -93.20953807873565,44.88389139673683 L -93.20949612046749,44.883802683432364 L -93.20946305966427,44.88371028467726 L -93.2094392147196,44.88361509032202 L -93.20942481527332,44.88351801714033 L -93.20942,44.88342 L -93.20942481527332,44.88332198285967 L -93.2094392147196,44.883224909677985 L -93.20946305966427,44.883129715322745 L -93.20949612046749,44.88303731656764 L -93.20953807873565,44.88294860326317 L -93.20958853038769,44.88286442976698 L -93.20964698954664,44.882785606715835 L -93.2097128932188,44.882712893218816 L -93.20978560671584,44.882646989546636 L -93.20986442976698,44.8825885303877 L -93.20994860326317,44.88253807873565 L -93.2099739478743,44.88252609162733 L -93.20998305966427,44.88248971532274 L -93.21001612046749,44.88239731656763 L -93.21005807873564,44.88230860326317 L -93.21010853038769,44.88222442976698 L -93.21016698954664,44.88214560671583 L -93.2102328932188,44.88207289321881 L -93.21030560671583,44.88200698954663 L -93.21038442976698,44.881948530387696 L -93.21046860326317,44.881898078735645 L -93.21055731656763,44.88185612046748 L -93.21064971532275,44.881823059664264 L -93.21074490967798,44.88179921471959 L -93.21084198285966,44.88178481527333 L -93.21094,44.88178 L -93.21103801714032,44.88178481527333 L -93.211135090322,44.88179921471959 L -93.21123028467724,44.881823059664264 L -93.21132268343236,44.88185612046748 L -93.21141139673682,44.881898078735645 L -93.21149557023301,44.881948530387696 L -93.21157439328415,44.88200698954663 L -93.21164710678119,44.88207289321881 L -93.21171301045335,44.88214560671583 L -93.2117714696123,44.88222442976698 L -93.21182192126435,44.88230860326317 L -93.2118638795325,44.88239731656763 L -93.21189694033572,44.88248971532274 L -93.2119207852804,44.88258490967798 L -93.21193518472667,44.882681982859665 L -93.21194,44.88278 L -93.21193518472667,44.88287801714033 L -93.2119207852804,44.88297509032201 L -93.21189694033572,44.88307028467725 L -93.2118638795325,44.88316268343236 L -93.21182192126435,44.883251396736824 L -93.2117714696123,44.883335570233015 L -93.21172120224959,44.883403347925565 z\" /><path fill-rule=\"evenodd\" fill=\"#66cc99\" stroke=\"#555555\" stroke-width=\"0.06126131520000001\" opacity=\"0.6\" d=\"M -93.211569,44.915542 L -93.21157381527333,44.91544398285967 L -93.2115882147196,44.915346909677986 L -93.21161205966428,44.915251715322746 L -93.2116451204675,44.91515931656764 L -93.21168707873565,44.915070603263175 L -93.2117375303877,44.914986429766984 L -93.21179598954664,44.914907606715836 L -93.21186189321881,44.91483489321882 L -93.21193460671584,44.91476898954664 L -93.21201342976698,44.9147105303877 L -93.21209760326317,44.91466007873565 L -93.21218631656764,44.91461812046749 L -93.21227871532275,44.91458505966427 L -93.21237390967799,44.9145612147196 L -93.21247098285967,44.91454681527333 L -93.212569,44.914542000000004 L -93.21266701714033,44.91454681527333 L -93.21276409032201,44.9145612147196 L -93.21285928467725,44.91458505966427 L -93.21295168343237,44.91461812046749 L -93.21304039673683,44.91466007873565 L -93.21312457023302,44.9147105303877 L -93.21320339328416,44.91476898954664 L -93.2132761067812,44.91483489321882 L -93.21334201045336,44.914907606715836 L -93.21340046961231,44.914986429766984 L -93.21345092126435,44.915070603263175 L -93.21349287953251,44.91515931656764 L -93.21352594033573,44.915251715322746 L -93.2135497852804,44.915346909677986 L -93.21356418472668,44.91544398285967 L -93.213569,44.915542 L -93.21356418472668,44.91564001714033 L -93.2135497852804,44.91573709032202 L -93.21352594033573,44.91583228467726 L -93.21349287953251,44.915924683432365 L -93.21345092126435,44.91601339673683 L -93.21340046961231,44.91609757023302 L -93.21334201045336,44.91617639328417 L -93.2132761067812,44.91624910678119 L -93.21320339328416,44.91631501045337 L -93.21312457023302,44.9163734696123 L -93.21304039673683,44.916423921264354 L -93.21295168343237,44.91646587953252 L -93.21285928467725,44.916498940335735 L -93.21276409032201,44.91652278528041 L -93.21266701714033,44.91653718472667 L -93.212569,44.916542 L -93.21247098285967,44.91653718472667 L -93.21237390967799,44.91652278528041 L -93.21227871532275,44.916498940335735 L -93.21218631656764,44.91646587953252 L -93.21209760326317,44.916423921264354 L -93.21201342976698,44.9163734696123 L -93.21193460671584,44.91631501045337 L -93.21186189321881,44.91624910678119 L -93.21179598954664,44.91617639328417 L -93.2117375303877,44.91609757023302 L -93.21168707873565,44.91601339673683 L -93.2116451204675,44.915924683432365 L -93.21161205966428,44.91583228467726 L -93.2115882147196,44.91573709032202 L -93.21157381527333,44.91564001714033 L -93.211569,44.915542 z\" /><path fill-rule=\"evenodd\" fill=\"#66cc99\" stroke=\"#555555\" stroke-width=\"0.06126131520000001\" opacity=\"0.6\" d=\"M -93.21206,44.88278 L -93.21206481527332,44.882681982859665 L -93.2120792147196,44.88258490967798 L -93.21210305966427,44.88248971532274 L -93.21213612046749,44.88239731656763 L -93.21217807873565,44.88230860326317 L -93.21222853038769,44.88222442976698 L -93.21228698954664,44.88214560671583 L -93.2123528932188,44.88207289321881 L -93.21242560671584,44.88200698954663 L -93.21250442976698,44.881948530387696 L -93.21258860326317,44.881898078735645 L -93.21267731656764,44.88185612046748 L -93.21276971532275,44.881823059664264 L -93.21286490967799,44.88179921471959 L -93.21296198285967,44.88178481527333 L -93.21306,44.88178 L -93.21315801714033,44.88178481527333 L -93.21325509032201,44.88179921471959 L -93.21335028467725,44.881823059664264 L -93.21344268343236,44.88185612046748 L -93.21353139673683,44.881898078735645 L -93.21361557023302,44.881948530387696 L -93.21369439328416,44.88200698954663 L -93.21376710678119,44.88207289321881 L -93.21383301045336,44.88214560671583 L -93.2138914696123,44.88222442976698 L -93.21394192126435,44.88230860326317 L -93.2139838795325,44.88239731656763 L -93.21401694033572,44.88248971532274 L -93.2140407852804,44.88258490967798 L -93.21405518472667,44.882681982859665 L -93.21406,44.88278 L -93.21405518472667,44.88287801714033 L -93.2140407852804,44.88297509032201 L -93.21401694033572,44.88307028467725 L -93.2139838795325,44.88316268343236 L -93.21394192126435,44.883251396736824 L -93.2138914696123,44.883335570233015 L -93.21383301045336,44.88341439328416 L -93.21376710678119,44.88348710678118 L -93.21369439328416,44.88355301045336 L -93.21361557023302,44.8836114696123 L -93.21353139673683,44.88366192126435 L -93.21344268343236,44.88370387953251 L -93.21335028467725,44.88373694033573 L -93.21325509032201,44.8837607852804 L -93.21315801714033,44.883775184726666 L -93.21306,44.883779999999994 L -93.21296198285967,44.883775184726666 L -93.21286490967799,44.8837607852804 L -93.21276971532275,44.88373694033573 L -93.21267731656764,44.88370387953251 L -93.21258860326317,44.88366192126435 L -93.21250442976698,44.8836114696123 L -93.21242560671584,44.88355301045336 L -93.2123528932188,44.88348710678118 L -93.21228698954664,44.88341439328416 L -93.21222853038769,44.883335570233015 L -93.21217807873565,44.883251396736824 L -93.21213612046749,44.88316268343236 L -93.21210305966427,44.88307028467725 L -93.2120792147196,44.88297509032201 L -93.21206481527332,44.88287801714033 L -93.21206,44.88278 z\" /><path fill-rule=\"evenodd\" fill=\"#66cc99\" stroke=\"#555555\" stroke-width=\"0.06126131520000001\" opacity=\"0.6\" d=\"M -93.219117,44.089231 L -93.21912181527333,44.08913298285967 L -93.2191362147196,44.08903590967798 L -93.21916005966428,44.08894071532274 L -93.2191931204675,44.088848316567635 L -93.21923507873565,44.08875960326317 L -93.2192855303877,44.08867542976698 L -93.21934398954664,44.08859660671583 L -93.21940989321881,44.08852389321881 L -93.21948260671584,44.08845798954663 L -93.21956142976698,44.0883995303877 L -93.21964560326317,44.08834907873565 L -93.21973431656764,44.08830712046748 L -93.21982671532275,44.088274059664265 L -93.21992190967799,44.088250214719594 L -93.22001898285967,44.08823581527333 L -93.220117,44.088231 L -93.22021501714033,44.08823581527333 L -93.22031209032201,44.088250214719594 L -93.22040728467725,44.088274059664265 L -93.22049968343237,44.08830712046748 L -93.22058839673683,44.08834907873565 L -93.22067257023302,44.0883995303877 L -93.22075139328416,44.08845798954663 L -93.2208241067812,44.08852389321881 L -93.22089001045336,44.08859660671583 L -93.22094846961231,44.08867542976698 L -93.22099892126435,44.08875960326317 L -93.22104087953251,44.088848316567635 L -93.22107394033573,44.08894071532274 L -93.2210977852804,44.08903590967798 L -93.22111218472668,44.08913298285967 L -93.221117,44.089231 L -93.22111218472668,44.08932901714033 L -93.2210977852804,44.089426090322014 L -93.22107394033573,44.089521284677254 L -93.22104087953251,44.08961368343236 L -93.22099892126435,44.089702396736826 L -93.22094846961231,44.08978657023302 L -93.22089001045336,44.089865393284164 L -93.2208241067812,44.08993810678118 L -93.22075139328416,44.09000401045336 L -93.22067257023302,44.0900624696123 L -93.22058839673683,44.09011292126435 L -93.22049968343237,44.09015487953251 L -93.22040728467725,44.09018794033573 L -93.22031209032201,44.0902117852804 L -93.22021501714033,44.09022618472667 L -93.220117,44.090230999999996 L -93.22001898285967,44.09022618472667 L -93.21992190967799,44.0902117852804 L -93.21982671532275,44.09018794033573 L -93.21973431656764,44.09015487953251 L -93.21964560326317,44.09011292126435 L -93.21956142976698,44.0900624696123 L -93.21948260671584,44.09000401045336 L -93.21940989321881,44.08993810678118 L -93.21934398954664,44.089865393284164 L -93.2192855303877,44.08978657023302 L -93.21923507873565,44.089702396736826 L -93.2191931204675,44.08961368343236 L -93.21916005966428,44.089521284677254 L -93.2191362147196,44.089426090322014 L -93.21912181527333,44.08932901714033 L -93.219117,44.089231 z\" /><path fill-rule=\"evenodd\" fill=\"#66cc99\" stroke=\"#555555\" stroke-width=\"0.06126131520000001\" opacity=\"0.6\" d=\"M -93.219383,44.953336 L -93.21938781527332,44.95323798285967 L -93.2194022147196,44.953140909677984 L -93.21942605966427,44.953045715322745 L -93.21945912046749,44.95295331656764 L -93.21950107873565,44.95286460326317 L -93.21955153038769,44.95278042976698 L -93.21960998954664,44.952701606715834 L -93.2196758932188,44.952628893218815 L -93.21974860671584,44.952562989546635 L -93.21982742976698,44.9525045303877 L -93.21991160326317,44.95245407873565 L -93.22000031656763,44.952412120467486 L -93.22009271532275,44.95237905966427 L -93.22018790967799,44.952355214719596 L -93.22028498285967,44.95234081527333 L -93.220383,44.952336 L -93.22048101714033,44.95234081527333 L -93.22057809032201,44.952355214719596 L -93.22067328467725,44.95237905966427 L -93.22076568343236,44.952412120467486 L -93.22085439673683,44.95245407873565 L -93.22093857023302,44.9525045303877 L -93.22101739328416,44.952562989546635 L -93.22109010678119,44.952628893218815 L -93.22115601045336,44.952701606715834 L -93.2212144696123,44.95278042976698 L -93.22126492126435,44.95286460326317 L -93.2213068795325,44.95295331656764 L -93.22133994033572,44.953045715322745 L -93.2213637852804,44.953140909677984 L -93.22137818472667,44.95323798285967 L -93.221383,44.953336 L -93.22137818472667,44.95343401714033 L -93.2213637852804,44.953531090322016 L -93.22133994033572,44.953626284677256 L -93.2213068795325,44.95371868343236 L -93.22126492126435,44.95380739673683 L -93.2212144696123,44.95389157023302 L -93.22115601045336,44.953970393284166 L -93.22109010678119,44.954043106781185 L -93.22101739328416,44.954109010453365 L -93.22093857023302,44.9541674696123 L -93.22085439673683,44.95421792126435 L -93.22076568343236,44.954259879532515 L -93.22067328467725,44.95429294033573 L -93.22057809032201,44.954316785280405 L -93.22048101714033,44.95433118472667 L -93.220383,44.954336 L -93.22028498285967,44.95433118472667 L -93.22018790967799,44.954316785280405 L -93.22009271532275,44.95429294033573 L -93.22000031656763,44.954259879532515 L -93.21991160326317,44.95421792126435 L -93.21982742976698,44.9541674696123 L -93.21974860671584,44.954109010453365 L -93.2196758932188,44.954043106781185 L -93.21960998954664,44.953970393284166 L -93.21955153038769,44.95389157023302 L -93.21950107873565,44.95380739673683 L -93.21945912046749,44.95371868343236 L -93.21942605966427,44.953626284677256 L -93.2194022147196,44.953531090322016 L -93.21938781527332,44.95343401714033 L -93.219383,44.953336 z\" /><path fill-rule=\"evenodd\" fill=\"#66cc99\" stroke=\"#555555\" stroke-width=\"0.06126131520000001\" opacity=\"0.6\" d=\"M -93.220236,44.967208 L -93.22024081527333,44.96710998285967 L -93.2202552147196,44.96701290967798 L -93.22027905966428,44.966917715322744 L -93.2203121204675,44.966825316567636 L -93.22035407873565,44.96673660326317 L -93.2204045303877,44.96665242976698 L -93.22046298954665,44.96657360671583 L -93.22052889321881,44.966500893218814 L -93.22060160671585,44.966434989546634 L -93.22068042976699,44.9663765303877 L -93.22076460326318,44.96632607873565 L -93.22085331656764,44.966284120467485 L -93.22094571532276,44.966251059664266 L -93.221040909678,44.966227214719595 L -93.22113798285967,44.96621281527333 L -93.221236,44.966208 L -93.22133401714034,44.96621281527333 L -93.22143109032201,44.966227214719595 L -93.22152628467725,44.966251059664266 L -93.22161868343237,44.966284120467485 L -93.22170739673683,44.96632607873565 L -93.22179157023302,44.9663765303877 L -93.22187039328416,44.966434989546634 L -93.2219431067812,44.966500893218814 L -93.22200901045336,44.96657360671583 L -93.22206746961231,44.96665242976698 L -93.22211792126436,44.96673660326317 L -93.22215987953251,44.966825316567636 L -93.22219294033573,44.966917715322744 L -93.22221678528041,44.96701290967798 L -93.22223118472668,44.96710998285967 L -93.22223600000001,44.967208 L -93.22223118472668,44.96730601714033 L -93.22221678528041,44.967403090322016 L -93.22219294033573,44.967498284677255 L -93.22215987953251,44.96759068343236 L -93.22211792126436,44.96767939673683 L -93.22206746961231,44.96776357023302 L -93.22200901045336,44.967842393284165 L -93.2219431067812,44.967915106781184 L -93.22187039328416,44.967981010453364 L -93.22179157023302,44.9680394696123 L -93.22170739673683,44.96808992126435 L -93.22161868343237,44.968131879532514 L -93.22152628467725,44.96816494033573 L -93.22143109032201,44.968188785280404 L -93.22133401714034,44.96820318472667 L -93.221236,44.968208 L -93.22113798285967,44.96820318472667 L -93.221040909678,44.968188785280404 L -93.22094571532276,44.96816494033573 L -93.22085331656764,44.968131879532514 L -93.22076460326318,44.96808992126435 L -93.22068042976699,44.9680394696123 L -93.22060160671585,44.967981010453364 L -93.22052889321881,44.967915106781184 L -93.22046298954665,44.967842393284165 L -93.2204045303877,44.96776357023302 L -93.22035407873565,44.96767939673683 L -93.2203121204675,44.96759068343236 L -93.22027905966428,44.967498284677255 L -93.2202552147196,44.967403090322016 L -93.22024081527333,44.96730601714033 L -93.220236,44.967208 z\" /><path fill-rule=\"evenodd\" fill=\"#66cc99\" stroke=\"#555555\" stroke-width=\"0.06126131520000001\" opacity=\"0.6\" d=\"M -93.221656,44.963919 L -93.22166081527332,44.963820982859666 L -93.2216752147196,44.96372390967798 L -93.22169905966427,44.96362871532274 L -93.2217321204675,44.963536316567634 L -93.22177407873565,44.96344760326317 L -93.22182453038769,44.96336342976698 L -93.22188298954664,44.96328460671583 L -93.22194889321881,44.96321189321881 L -93.22202160671584,44.96314598954663 L -93.22210042976698,44.963087530387696 L -93.22218460326317,44.963037078735645 L -93.22227331656764,44.96299512046748 L -93.22236571532275,44.962962059664264 L -93.22246090967799,44.96293821471959 L -93.22255798285967,44.96292381527333 L -93.222656,44.962919 L -93.22275401714033,44.96292381527333 L -93.22285109032201,44.96293821471959 L -93.22294628467725,44.962962059664264 L -93.22303868343236,44.96299512046748 L -93.22312739673683,44.963037078735645 L -93.22321157023302,44.963087530387696 L -93.22329039328416,44.96314598954663 L -93.22336310678119,44.96321189321881 L -93.22342901045336,44.96328460671583 L -93.22348746961231,44.96336342976698 L -93.22353792126435,44.96344760326317 L -93.22357987953251,44.963536316567634 L -93.22361294033573,44.96362871532274 L -93.2236367852804,44.96372390967798 L -93.22365118472668,44.963820982859666 L -93.223656,44.963919 L -93.22365118472668,44.96401701714033 L -93.2236367852804,44.96411409032201 L -93.22361294033573,44.96420928467725 L -93.22357987953251,44.96430168343236 L -93.22353792126435,44.964390396736825 L -93.22348746961231,44.964474570233016 L -93.22342901045336,44.96455339328416 L -93.22336310678119,44.96462610678118 L -93.22329039328416,44.96469201045336 L -93.22321157023302,44.9647504696123 L -93.22312739673683,44.96480092126435 L -93.22303868343236,44.96484287953251 L -93.22294628467725,44.96487594033573 L -93.22285109032201,44.9648997852804 L -93.22275401714033,44.964914184726666 L -93.222656,44.964918999999995 L -93.22255798285967,44.964914184726666 L -93.22246090967799,44.9648997852804 L -93.22236571532275,44.96487594033573 L -93.22227331656764,44.96484287953251 L -93.22218460326317,44.96480092126435 L -93.22210042976698,44.9647504696123 L -93.22202160671584,44.96469201045336 L -93.22194889321881,44.96462610678118 L -93.22188298954664,44.96455339328416 L -93.22182453038769,44.964474570233016 L -93.22177407873565,44.964390396736825 L -93.2217321204675,44.96430168343236 L -93.22169905966427,44.96420928467725 L -93.2216752147196,44.96411409032201 L -93.22166081527332,44.96401701714033 L -93.221656,44.963919 z\" /><path fill-rule=\"evenodd\" fill=\"#66cc99\" stroke=\"#555555\" stroke-width=\"0.06126131520000001\" opacity=\"0.6\" d=\"M -93.22514199999999,44.025158 L -93.22514681527332,44.025059982859666 L -93.22516121471959,44.02496290967798 L -93.22518505966427,44.02486771532274 L -93.22521812046749,44.024775316567634 L -93.22526007873564,44.02468660326317 L -93.22531053038769,44.02460242976698 L -93.22536898954664,44.02452360671583 L -93.2254348932188,44.02445089321881 L -93.22550760671584,44.02438498954663 L -93.22558642976698,44.0243265303877 L -93.22567060326317,44.024276078735646 L -93.22575931656763,44.02423412046748 L -93.22585171532275,44.024201059664264 L -93.22594690967799,44.02417721471959 L -93.22604398285966,44.02416281527333 L -93.226142,44.024158 L -93.22624001714033,44.02416281527333 L -93.226337090322,44.02417721471959 L -93.22643228467724,44.024201059664264 L -93.22652468343236,44.02423412046748 L -93.22661339673682,44.024276078735646 L -93.22669757023301,44.0243265303877 L -93.22677639328415,44.02438498954663 L -93.22684910678119,44.02445089321881 L -93.22691501045335,44.02452360671583 L -93.2269734696123,44.02460242976698 L -93.22702392126435,44.02468660326317 L -93.2270658795325,44.024775316567634 L -93.22709894033572,44.02486771532274 L -93.2271227852804,44.02496290967798 L -93.22713718472667,44.025059982859666 L -93.227142,44.025158 L -93.22713718472667,44.02525601714033 L -93.2271227852804,44.025353090322014 L -93.22709894033572,44.02544828467725 L -93.2270658795325,44.02554068343236 L -93.22702392126435,44.025629396736825 L -93.2269734696123,44.025713570233016 L -93.22691501045335,44.02579239328416 L -93.22684910678119,44.02586510678118 L -93.22677639328415,44.02593101045336 L -93.22669757023301,44.0259894696123 L -93.22661339673682,44.02603992126435 L -93.22652468343236,44.02608187953251 L -93.22643228467724,44.02611494033573 L -93.226337090322,44.0261387852804 L -93.22624001714033,44.02615318472667 L -93.226142,44.026157999999995 L -93.22604398285966,44.02615318472667 L -93.22594690967799,44.0261387852804 L -93.22585171532275,44.02611494033573 L -93.22575931656763,44.02608187953251 L -93.22567060326317,44.02603992126435 L -93.22558642976698,44.0259894696123 L -93.22550760671584,44.02593101045336 L -93.2254348932188,44.02586510678118 L -93.22536898954664,44.02579239328416 L -93.22531053038769,44.025713570233016 L -93.22526007873564,44.025629396736825 L -93.22521812046749,44.02554068343236 L -93.22518505966427,44.02544828467725 L -93.22516121471959,44.025353090322014 L -93.22514681527332,44.02525601714033 L -93.22514199999999,44.025158 z\" /><path fill-rule=\"evenodd\" fill=\"#66cc99\" stroke=\"#555555\" stroke-width=\"0.06126131520000001\" opacity=\"0.6\" d=\"M -93.22695,44.090478 L -93.22695481527333,44.090379982859666 L -93.2269692147196,44.09028290967798 L -93.22699305966428,44.09018771532274 L -93.2270261204675,44.090095316567634 L -93.22706807873566,44.09000660326317 L -93.2271185303877,44.08992242976698 L -93.22717698954665,44.08984360671583 L -93.22724289321881,44.08977089321881 L -93.22731560671585,44.08970498954663 L -93.22739442976699,44.0896465303877 L -93.22747860326318,44.089596078735646 L -93.22756731656764,44.08955412046748 L -93.22765971532276,44.089521059664264 L -93.227754909678,44.08949721471959 L -93.22785198285968,44.08948281527333 L -93.22795,44.089478 L -93.22804801714034,44.08948281527333 L -93.22814509032202,44.08949721471959 L -93.22824028467726,44.089521059664264 L -93.22833268343237,44.08955412046748 L -93.22842139673683,44.089596078735646 L -93.22850557023303,44.0896465303877 L -93.22858439328417,44.08970498954663 L -93.2286571067812,44.08977089321881 L -93.22872301045336,44.08984360671583 L -93.22878146961231,44.08992242976698 L -93.22883192126436,44.09000660326317 L -93.22887387953251,44.090095316567634 L -93.22890694033573,44.09018771532274 L -93.22893078528041,44.09028290967798 L -93.22894518472668,44.090379982859666 L -93.22895000000001,44.090478 L -93.22894518472668,44.09057601714033 L -93.22893078528041,44.090673090322014 L -93.22890694033573,44.09076828467725 L -93.22887387953251,44.09086068343236 L -93.22883192126436,44.090949396736825 L -93.22878146961231,44.091033570233016 L -93.22872301045336,44.09111239328416 L -93.2286571067812,44.09118510678118 L -93.22858439328417,44.09125101045336 L -93.22850557023303,44.0913094696123 L -93.22842139673683,44.09135992126435 L -93.22833268343237,44.09140187953251 L -93.22824028467726,44.09143494033573 L -93.22814509032202,44.0914587852804 L -93.22804801714034,44.09147318472667 L -93.22795,44.091477999999995 L -93.22785198285968,44.09147318472667 L -93.227754909678,44.0914587852804 L -93.22765971532276,44.09143494033573 L -93.22756731656764,44.09140187953251 L -93.22747860326318,44.09135992126435 L -93.22739442976699,44.0913094696123 L -93.22731560671585,44.09125101045336 L -93.22724289321881,44.09118510678118 L -93.22717698954665,44.09111239328416 L -93.2271185303877,44.091033570233016 L -93.22706807873566,44.090949396736825 L -93.2270261204675,44.09086068343236 L -93.22699305966428,44.09076828467725 L -93.2269692147196,44.090673090322014 L -93.22695481527333,44.09057601714033 L -93.22695,44.090478 z\" /><path fill-rule=\"evenodd\" fill=\"#66cc99\" stroke=\"#555555\" stroke-width=\"0.06126131520000001\" opacity=\"0.6\" d=\"M -93.227364,44.919117 L -93.22736881527332,44.91901898285967 L -93.2273832147196,44.918921909677984 L -93.22740705966427,44.918826715322744 L -93.22744012046749,44.91873431656764 L -93.22748207873565,44.91864560326317 L -93.22753253038769,44.91856142976698 L -93.22759098954664,44.918482606715834 L -93.2276568932188,44.918409893218815 L -93.22772960671584,44.918343989546635 L -93.22780842976698,44.9182855303877 L -93.22789260326317,44.91823507873565 L -93.22798131656764,44.918193120467485 L -93.22807371532275,44.91816005966427 L -93.22816890967799,44.918136214719596 L -93.22826598285967,44.91812181527333 L -93.228364,44.918117 L -93.22846201714033,44.91812181527333 L -93.22855909032201,44.918136214719596 L -93.22865428467725,44.91816005966427 L -93.22874668343236,44.918193120467485 L -93.22883539673683,44.91823507873565 L -93.22891957023302,44.9182855303877 L -93.22899839328416,44.918343989546635 L -93.22907110678119,44.918409893218815 L -93.22913701045336,44.918482606715834 L -93.2291954696123,44.91856142976698 L -93.22924592126435,44.91864560326317 L -93.2292878795325,44.91873431656764 L -93.22932094033573,44.918826715322744 L -93.2293447852804,44.918921909677984 L -93.22935918472668,44.91901898285967 L -93.229364,44.919117 L -93.22935918472668,44.91921501714033 L -93.2293447852804,44.919312090322016 L -93.22932094033573,44.919407284677256 L -93.2292878795325,44.91949968343236 L -93.22924592126435,44.91958839673683 L -93.2291954696123,44.91967257023302 L -93.22913701045336,44.919751393284166 L -93.22907110678119,44.919824106781185 L -93.22899839328416,44.919890010453365 L -93.22891957023302,44.9199484696123 L -93.22883539673683,44.91999892126435 L -93.22874668343236,44.920040879532515 L -93.22865428467725,44.92007394033573 L -93.22855909032201,44.920097785280404 L -93.22846201714033,44.92011218472667 L -93.228364,44.920117 L -93.22826598285967,44.92011218472667 L -93.22816890967799,44.920097785280404 L -93.22807371532275,44.92007394033573 L -93.22798131656764,44.920040879532515 L -93.22789260326317,44.91999892126435 L -93.22780842976698,44.9199484696123 L -93.22772960671584,44.919890010453365 L -93.2276568932188,44.919824106781185 L -93.22759098954664,44.919751393284166 L -93.22753253038769,44.91967257023302 L -93.22748207873565,44.91958839673683 L -93.22744012046749,44.91949968343236 L -93.22740705966427,44.919407284677256 L -93.2273832147196,44.919312090322016 L -93.22736881527332,44.91921501714033 L -93.227364,44.919117 z\" /><path fill-rule=\"evenodd\" fill=\"#66cc99\" stroke=\"#555555\" stroke-width=\"0.06126131520000001\" opacity=\"0.6\" d=\"M -93.23132300653337,44.98526956511236 L -93.23130739673682,44.98527892126435 L -93.23121868343236,44.985320879532516 L -93.23112628467725,44.985353940335735 L -93.231031090322,44.985377785280406 L -93.23093401714033,44.98539218472667 L -93.230836,44.985397 L -93.23073798285967,44.98539218472667 L -93.23064090967799,44.985377785280406 L -93.23054571532275,44.985353940335735 L -93.23045331656763,44.985320879532516 L -93.23036460326317,44.98527892126435 L -93.23028042976698,44.9852284696123 L -93.23020160671584,44.985170010453366 L -93.2301288932188,44.985104106781186 L -93.23006298954664,44.98503139328417 L -93.23000453038769,44.98495257023302 L -93.22995407873564,44.98486839673683 L -93.22991212046749,44.984779683432365 L -93.22987905966427,44.98468728467726 L -93.22985521471959,44.98459209032202 L -93.22984081527332,44.98449501714033 L -93.22983599999999,44.984397 L -93.22984081527332,44.98429898285967 L -93.22985521471959,44.984201909677985 L -93.22987905966427,44.984106715322746 L -93.22991212046749,44.98401431656764 L -93.22995407873564,44.983925603263174 L -93.23000453038769,44.98384142976698 L -93.23006298954664,44.983762606715835 L -93.2301288932188,44.983689893218816 L -93.23020160671584,44.983623989546636 L -93.23028042976698,44.9835655303877 L -93.23036460326317,44.98351507873565 L -93.23038499346663,44.98350543488764 L -93.23040060326318,44.98349607873565 L -93.23048931656764,44.983454120467485 L -93.23058171532276,44.983421059664266 L -93.230676909678,44.983397214719595 L -93.23077398285967,44.98338281527333 L -93.230872,44.983378 L -93.23097001714034,44.98338281527333 L -93.23106709032201,44.983397214719595 L -93.23116228467725,44.983421059664266 L -93.23125468343237,44.983454120467485 L -93.23134339673683,44.98349607873565 L -93.23142757023302,44.9835465303877 L -93.23150639328416,44.983604989546635 L -93.2315791067812,44.983670893218815 L -93.23164501045336,44.983743606715834 L -93.23170346961231,44.98382242976698 L -93.23175392126436,44.98390660326317 L -93.23179587953251,44.983995316567636 L -93.23182894033573,44.984087715322744 L -93.23185278528041,44.98418290967798 L -93.23186718472668,44.98427998285967 L -93.23187200000001,44.984378 L -93.23186718472668,44.98447601714033 L -93.23185278528041,44.984573090322016 L -93.23182894033573,44.984668284677255 L -93.23179587953251,44.98476068343236 L -93.23175392126436,44.98484939673683 L -93.23170346961231,44.98493357023302 L -93.23164501045336,44.985012393284165 L -93.2315791067812,44.985085106781185 L -93.23150639328416,44.985151010453365 L -93.23142757023302,44.9852094696123 L -93.23134339673683,44.98525992126435 L -93.23132300653337,44.98526956511236 z\" /><path fill-rule=\"evenodd\" fill=\"#66cc99\" stroke=\"#555555\" stroke-width=\"0.06126131520000001\" opacity=\"0.6\" d=\"M -93.230972,44.091175 L -93.23097681527332,44.09107698285967 L -93.2309912147196,44.09097990967798 L -93.23101505966427,44.090884715322744 L -93.23104812046749,44.09079231656764 L -93.23109007873565,44.09070360326317 L -93.23114053038769,44.09061942976698 L -93.23119898954664,44.090540606715834 L -93.2312648932188,44.090467893218815 L -93.23133760671584,44.090401989546635 L -93.23141642976698,44.0903435303877 L -93.23150060326317,44.09029307873565 L -93.23158931656764,44.090251120467485 L -93.23168171532275,44.09021805966427 L -93.23177690967799,44.090194214719595 L -93.23187398285967,44.09017981527333 L -93.231972,44.090175 L -93.23207001714033,44.09017981527333 L -93.23216709032201,44.090194214719595 L -93.23226228467725,44.09021805966427 L -93.23235468343236,44.090251120467485 L -93.23244339673683,44.09029307873565 L -93.23252757023302,44.0903435303877 L -93.23260639328416,44.090401989546635 L -93.23267910678119,44.090467893218815 L -93.23274501045336,44.090540606715834 L -93.2328034696123,44.09061942976698 L -93.23285392126435,44.09070360326317 L -93.2328958795325,44.09079231656764 L -93.23292894033573,44.090884715322744 L -93.2329527852804,44.09097990967798 L -93.23296718472668,44.09107698285967 L -93.232972,44.091175 L -93.23296718472668,44.09127301714033 L -93.2329527852804,44.091370090322016 L -93.23292894033573,44.091465284677255 L -93.2328958795325,44.09155768343236 L -93.23285392126435,44.09164639673683 L -93.2328034696123,44.09173057023302 L -93.23274501045336,44.091809393284166 L -93.23267910678119,44.091882106781185 L -93.23260639328416,44.091948010453365 L -93.23252757023302,44.0920064696123 L -93.23244339673683,44.09205692126435 L -93.23235468343236,44.092098879532514 L -93.23226228467725,44.09213194033573 L -93.23216709032201,44.092155785280404 L -93.23207001714033,44.09217018472667 L -93.231972,44.092175 L -93.23187398285967,44.09217018472667 L -93.23177690967799,44.092155785280404 L -93.23168171532275,44.09213194033573 L -93.23158931656764,44.092098879532514 L -93.23150060326317,44.09205692126435 L -93.23141642976698,44.0920064696123 L -93.23133760671584,44.091948010453365 L -93.2312648932188,44.091882106781185 L -93.23119898954664,44.091809393284166 L -93.23114053038769,44.09173057023302 L -93.23109007873565,44.09164639673683 L -93.23104812046749,44.09155768343236 L -93.23101505966427,44.091465284677255 L -93.2309912147196,44.091370090322016 L -93.23097681527332,44.09127301714033 L -93.230972,44.091175 z\" /><path fill-rule=\"evenodd\" fill=\"#66cc99\" stroke=\"#555555\" stroke-width=\"0.06126131520000001\" opacity=\"0.6\" d=\"M -93.232483,44.825006 L -93.23248781527333,44.82490798285967 L -93.2325022147196,44.824810909677986 L -93.23252605966428,44.824715715322746 L -93.2325591204675,44.82462331656764 L -93.23260107873566,44.824534603263174 L -93.2326515303877,44.82445042976698 L -93.23270998954665,44.824371606715836 L -93.23277589321881,44.82429889321882 L -93.23284860671585,44.82423298954664 L -93.23292742976699,44.8241745303877 L -93.23301160326318,44.82412407873565 L -93.23310031656764,44.82408212046749 L -93.23319271532276,44.82404905966427 L -93.233287909678,44.8240252147196 L -93.23338498285968,44.82401081527333 L -93.233483,44.824006000000004 L -93.23358101714034,44.82401081527333 L -93.23367809032202,44.8240252147196 L -93.23377328467726,44.82404905966427 L -93.23386568343237,44.82408212046749 L -93.23395439673683,44.82412407873565 L -93.23403857023303,44.8241745303877 L -93.23411739328417,44.82423298954664 L -93.2341901067812,44.82429889321882 L -93.23425601045336,44.824371606715836 L -93.23431446961231,44.82445042976698 L -93.23436492126436,44.824534603263174 L -93.23440687953251,44.82462331656764 L -93.23443994033573,44.824715715322746 L -93.23446378528041,44.824810909677986 L -93.23447818472668,44.82490798285967 L -93.23448300000001,44.825006 L -93.23447818472668,44.82510401714033 L -93.23446378528041,44.82520109032202 L -93.23443994033573,44.82529628467726 L -93.23440687953251,44.825388683432365 L -93.23436492126436,44.82547739673683 L -93.23431446961231,44.82556157023302 L -93.23425601045336,44.82564039328417 L -93.2341901067812,44.82571310678119 L -93.23411739328417,44.82577901045337 L -93.23403857023303,44.8258374696123 L -93.23395439673683,44.82588792126435 L -93.23386568343237,44.82592987953252 L -93.23377328467726,44.825962940335735 L -93.23367809032202,44.825986785280406 L -93.23358101714034,44.82600118472667 L -93.233483,44.826006 L -93.23338498285968,44.82600118472667 L -93.233287909678,44.825986785280406 L -93.23319271532276,44.825962940335735 L -93.23310031656764,44.82592987953252 L -93.23301160326318,44.82588792126435 L -93.23292742976699,44.8258374696123 L -93.23284860671585,44.82577901045337 L -93.23277589321881,44.82571310678119 L -93.23270998954665,44.82564039328417 L -93.2326515303877,44.82556157023302 L -93.23260107873566,44.82547739673683 L -93.2325591204675,44.825388683432365 L -93.23252605966428,44.82529628467726 L -93.2325022147196,44.82520109032202 L -93.23248781527333,44.82510401714033 L -93.232483,44.825006 z\" /><path fill-rule=\"evenodd\" fill=\"#66cc99\" stroke=\"#555555\" stroke-width=\"0.06126131520000001\" opacity=\"0.6\" d=\"M -93.23692199999999,45.091675 L -93.23692681527332,45.09157698285967 L -93.2369412147196,45.091479909677986 L -93.23696505966427,45.09138471532275 L -93.23699812046749,45.09129231656764 L -93.23704007873565,45.091203603263175 L -93.23709053038769,45.091119429766984 L -93.23714898954664,45.091040606715836 L -93.2372148932188,45.09096789321882 L -93.23728760671584,45.09090198954664 L -93.23736642976698,45.0908435303877 L -93.23745060326317,45.09079307873565 L -93.23753931656763,45.09075112046749 L -93.23763171532275,45.09071805966427 L -93.23772690967799,45.0906942147196 L -93.23782398285967,45.09067981527333 L -93.237922,45.090675000000005 L -93.23802001714033,45.09067981527333 L -93.238117090322,45.0906942147196 L -93.23821228467725,45.09071805966427 L -93.23830468343236,45.09075112046749 L -93.23839339673683,45.09079307873565 L -93.23847757023302,45.0908435303877 L -93.23855639328416,45.09090198954664 L -93.23862910678119,45.09096789321882 L -93.23869501045336,45.091040606715836 L -93.2387534696123,45.091119429766984 L -93.23880392126435,45.091203603263175 L -93.2388458795325,45.09129231656764 L -93.23887894033572,45.09138471532275 L -93.2389027852804,45.091479909677986 L -93.23891718472667,45.09157698285967 L -93.238922,45.091675 L -93.23891718472667,45.09177301714033 L -93.2389027852804,45.09187009032202 L -93.23887894033572,45.09196528467726 L -93.2388458795325,45.092057683432365 L -93.23880392126435,45.09214639673683 L -93.2387534696123,45.09223057023302 L -93.23869501045336,45.09230939328417 L -93.23862910678119,45.09238210678119 L -93.23855639328416,45.09244801045337 L -93.23847757023302,45.0925064696123 L -93.23839339673683,45.092556921264354 L -93.23830468343236,45.09259887953252 L -93.23821228467725,45.092631940335735 L -93.238117090322,45.09265578528041 L -93.23802001714033,45.09267018472667 L -93.237922,45.092675 L -93.23782398285967,45.09267018472667 L -93.23772690967799,45.09265578528041 L -93.23763171532275,45.092631940335735 L -93.23753931656763,45.09259887953252 L -93.23745060326317,45.092556921264354 L -93.23736642976698,45.0925064696123 L -93.23728760671584,45.09244801045337 L -93.2372148932188,45.09238210678119 L -93.23714898954664,45.09230939328417 L -93.23709053038769,45.09223057023302 L -93.23704007873565,45.09214639673683 L -93.23699812046749,45.092057683432365 L -93.23696505966427,45.09196528467726 L -93.2369412147196,45.09187009032202 L -93.23692681527332,45.09177301714033 L -93.23692199999999,45.091675 z\" /><path fill-rule=\"evenodd\" fill=\"#66cc99\" stroke=\"#555555\" stroke-width=\"0.06126131520000001\" opacity=\"0.6\" d=\"M -93.24089699999999,44.915272 L -93.24090181527332,44.91517398285967 L -93.24091621471959,44.915076909677985 L -93.24094005966427,44.914981715322746 L -93.24097312046749,44.91488931656764 L -93.24101507873564,44.914800603263174 L -93.24106553038769,44.91471642976698 L -93.24112398954664,44.914637606715836 L -93.2411898932188,44.91456489321882 L -93.24126260671584,44.91449898954664 L -93.24134142976698,44.9144405303877 L -93.24142560326317,44.91439007873565 L -93.24151431656763,44.91434812046749 L -93.24160671532275,44.91431505966427 L -93.24170190967799,44.9142912147196 L -93.24179898285966,44.91427681527333 L -93.241897,44.914272000000004 L -93.24199501714033,44.91427681527333 L -93.242092090322,44.9142912147196 L -93.24218728467724,44.91431505966427 L -93.24227968343236,44.91434812046749 L -93.24236839673682,44.91439007873565 L -93.24245257023301,44.9144405303877 L -93.24253139328415,44.91449898954664 L -93.24260410678119,44.91456489321882 L -93.24267001045335,44.914637606715836 L -93.2427284696123,44.91471642976698 L -93.24277892126435,44.914800603263174 L -93.2428208795325,44.91488931656764 L -93.24285394033572,44.914981715322746 L -93.2428777852804,44.915076909677985 L -93.24289218472667,44.91517398285967 L -93.242897,44.915272 L -93.24289218472667,44.91537001714033 L -93.2428777852804,44.91546709032202 L -93.24285394033572,44.91556228467726 L -93.2428208795325,44.915654683432365 L -93.24277892126435,44.91574339673683 L -93.2427284696123,44.91582757023302 L -93.24267001045335,44.91590639328417 L -93.24260410678119,44.91597910678119 L -93.24253139328415,44.91604501045337 L -93.24245257023301,44.9161034696123 L -93.24236839673682,44.91615392126435 L -93.24227968343236,44.916195879532516 L -93.24218728467724,44.916228940335735 L -93.242092090322,44.916252785280406 L -93.24199501714033,44.91626718472667 L -93.241897,44.916272 L -93.24179898285966,44.91626718472667 L -93.24170190967799,44.916252785280406 L -93.24160671532275,44.916228940335735 L -93.24151431656763,44.916195879532516 L -93.24142560326317,44.91615392126435 L -93.24134142976698,44.9161034696123 L -93.24126260671584,44.91604501045337 L -93.2411898932188,44.91597910678119 L -93.24112398954664,44.91590639328417 L -93.24106553038769,44.91582757023302 L -93.24101507873564,44.91574339673683 L -93.24097312046749,44.915654683432365 L -93.24094005966427,44.91556228467726 L -93.24091621471959,44.91546709032202 L -93.24090181527332,44.91537001714033 L -93.24089699999999,44.915272 z\" /><path fill-rule=\"evenodd\" fill=\"#66cc99\" stroke=\"#555555\" stroke-width=\"0.06126131520000001\" opacity=\"0.6\" d=\"M -93.244453,44.99595 L -93.24445781527332,44.99585198285967 L -93.2444722147196,44.995754909677984 L -93.24449605966427,44.995659715322745 L -93.24452912046749,44.99556731656764 L -93.24457107873565,44.99547860326317 L -93.24462153038769,44.99539442976698 L -93.24467998954664,44.995315606715835 L -93.2447458932188,44.995242893218816 L -93.24481860671584,44.995176989546636 L -93.24489742976698,44.9951185303877 L -93.24498160326317,44.99506807873565 L -93.24507031656763,44.995026120467486 L -93.24516271532275,44.99499305966427 L -93.24525790967799,44.994969214719596 L -93.24535498285967,44.99495481527333 L -93.245453,44.99495 L -93.24555101714033,44.99495481527333 L -93.245648090322,44.994969214719596 L -93.24574328467725,44.99499305966427 L -93.24583568343236,44.995026120467486 L -93.24592439673683,44.99506807873565 L -93.24600857023302,44.9951185303877 L -93.24608739328416,44.995176989546636 L -93.24616010678119,44.995242893218816 L -93.24622601045336,44.995315606715835 L -93.2462844696123,44.99539442976698 L -93.24633492126435,44.99547860326317 L -93.2463768795325,44.99556731656764 L -93.24640994033572,44.995659715322745 L -93.2464337852804,44.995754909677984 L -93.24644818472667,44.99585198285967 L -93.246453,44.99595 L -93.24644818472667,44.99604801714033 L -93.2464337852804,44.99614509032202 L -93.24640994033572,44.996240284677256 L -93.2463768795325,44.996332683432364 L -93.24633492126435,44.99642139673683 L -93.2462844696123,44.99650557023302 L -93.24622601045336,44.99658439328417 L -93.24616010678119,44.996657106781186 L -93.24608739328416,44.996723010453366 L -93.24600857023302,44.9967814696123 L -93.24592439673683,44.99683192126435 L -93.24583568343236,44.996873879532515 L -93.24574328467725,44.996906940335734 L -93.245648090322,44.996930785280405 L -93.24555101714033,44.99694518472667 L -93.245453,44.99695 L -93.24535498285967,44.99694518472667 L -93.24525790967799,44.996930785280405 L -93.24516271532275,44.996906940335734 L -93.24507031656763,44.996873879532515 L -93.24498160326317,44.99683192126435 L -93.24489742976698,44.9967814696123 L -93.24481860671584,44.996723010453366 L -93.2447458932188,44.996657106781186 L -93.24467998954664,44.99658439328417 L -93.24462153038769,44.99650557023302 L -93.24457107873565,44.99642139673683 L -93.24452912046749,44.996332683432364 L -93.24449605966427,44.996240284677256 L -93.2444722147196,44.99614509032202 L -93.24445781527332,44.99604801714033 L -93.244453,44.99595 z\" /><path fill-rule=\"evenodd\" fill=\"#66cc99\" stroke=\"#555555\" stroke-width=\"0.06126131520000001\" opacity=\"0.6\" d=\"M -93.246231,44.899792 L -93.24623581527332,44.89969398285967 L -93.2462502147196,44.89959690967798 L -93.24627405966427,44.89950171532274 L -93.24630712046749,44.899409316567635 L -93.24634907873565,44.89932060326317 L -93.24639953038769,44.89923642976698 L -93.24645798954664,44.89915760671583 L -93.24652389321881,44.89908489321881 L -93.24659660671584,44.89901898954663 L -93.24667542976698,44.8989605303877 L -93.24675960326317,44.898910078735646 L -93.24684831656764,44.89886812046748 L -93.24694071532275,44.898835059664265 L -93.24703590967799,44.89881121471959 L -93.24713298285967,44.89879681527333 L -93.247231,44.898792 L -93.24732901714033,44.89879681527333 L -93.24742609032201,44.89881121471959 L -93.24752128467725,44.898835059664265 L -93.24761368343236,44.89886812046748 L -93.24770239673683,44.898910078735646 L -93.24778657023302,44.8989605303877 L -93.24786539328416,44.89901898954663 L -93.24793810678119,44.89908489321881 L -93.24800401045336,44.89915760671583 L -93.24806246961231,44.89923642976698 L -93.24811292126435,44.89932060326317 L -93.2481548795325,44.899409316567635 L -93.24818794033573,44.89950171532274 L -93.2482117852804,44.89959690967798 L -93.24822618472668,44.89969398285967 L -93.248231,44.899792 L -93.24822618472668,44.89989001714033 L -93.2482117852804,44.899987090322014 L -93.24818794033573,44.900082284677254 L -93.2481548795325,44.90017468343236 L -93.24811292126435,44.900263396736825 L -93.24806246961231,44.900347570233016 L -93.24800401045336,44.900426393284164 L -93.24793810678119,44.90049910678118 L -93.24786539328416,44.90056501045336 L -93.24778657023302,44.9006234696123 L -93.24770239673683,44.90067392126435 L -93.24761368343236,44.90071587953251 L -93.24752128467725,44.90074894033573 L -93.24742609032201,44.9007727852804 L -93.24732901714033,44.90078718472667 L -93.247231,44.900791999999996 L -93.24713298285967,44.90078718472667 L -93.24703590967799,44.9007727852804 L -93.24694071532275,44.90074894033573 L -93.24684831656764,44.90071587953251 L -93.24675960326317,44.90067392126435 L -93.24667542976698,44.9006234696123 L -93.24659660671584,44.90056501045336 L -93.24652389321881,44.90049910678118 L -93.24645798954664,44.900426393284164 L -93.24639953038769,44.900347570233016 L -93.24634907873565,44.900263396736825 L -93.24630712046749,44.90017468343236 L -93.24627405966427,44.900082284677254 L -93.2462502147196,44.899987090322014 L -93.24623581527332,44.89989001714033 L -93.246231,44.899792 z\" /><path fill-rule=\"evenodd\" fill=\"#66cc99\" stroke=\"#555555\" stroke-width=\"0.06126131520000001\" opacity=\"0.6\" d=\"M -93.24796699999999,45.025039 L -93.24797181527332,45.02494098285967 L -93.24798621471959,45.02484390967798 L -93.24801005966427,45.024748715322744 L -93.24804312046749,45.024656316567636 L -93.24808507873564,45.02456760326317 L -93.24813553038769,45.02448342976698 L -93.24819398954664,45.024404606715834 L -93.2482598932188,45.024331893218815 L -93.24833260671583,45.024265989546635 L -93.24841142976697,45.0242075303877 L -93.24849560326317,45.02415707873565 L -93.24858431656763,45.024115120467485 L -93.24867671532274,45.024082059664266 L -93.24877190967798,45.024058214719595 L -93.24886898285966,45.02404381527333 L -93.248967,45.024039 L -93.24906501714032,45.02404381527333 L -93.249162090322,45.024058214719595 L -93.24925728467724,45.024082059664266 L -93.24934968343236,45.024115120467485 L -93.24943839673682,45.02415707873565 L -93.24952257023301,45.0242075303877 L -93.24960139328415,45.024265989546635 L -93.24967410678119,45.024331893218815 L -93.24974001045335,45.024404606715834 L -93.2497984696123,45.02448342976698 L -93.24984892126434,45.02456760326317 L -93.2498908795325,45.024656316567636 L -93.24992394033572,45.024748715322744 L -93.2499477852804,45.02484390967798 L -93.24996218472667,45.02494098285967 L -93.249967,45.025039 L -93.24996218472667,45.02513701714033 L -93.2499477852804,45.025234090322016 L -93.24992394033572,45.025329284677255 L -93.2498908795325,45.02542168343236 L -93.24984892126434,45.02551039673683 L -93.2497984696123,45.02559457023302 L -93.24974001045335,45.025673393284166 L -93.24967410678119,45.025746106781185 L -93.24960139328415,45.025812010453365 L -93.24952257023301,45.0258704696123 L -93.24943839673682,45.02592092126435 L -93.24934968343236,45.025962879532514 L -93.24925728467724,45.02599594033573 L -93.249162090322,45.026019785280404 L -93.24906501714032,45.02603418472667 L -93.248967,45.026039 L -93.24886898285966,45.02603418472667 L -93.24877190967798,45.026019785280404 L -93.24867671532274,45.02599594033573 L -93.24858431656763,45.025962879532514 L -93.24849560326317,45.02592092126435 L -93.24841142976697,45.0258704696123 L -93.24833260671583,45.025812010453365 L -93.2482598932188,45.025746106781185 L -93.24819398954664,45.025673393284166 L -93.24813553038769,45.02559457023302 L -93.24808507873564,45.02551039673683 L -93.24804312046749,45.02542168343236 L -93.24801005966427,45.025329284677255 L -93.24798621471959,45.025234090322016 L -93.24797181527332,45.02513701714033 L -93.24796699999999,45.025039 z\" /><path fill-rule=\"evenodd\" fill=\"#66cc99\" stroke=\"#555555\" stroke-width=\"0.06126131520000001\" opacity=\"0.6\" d=\"M -93.248947,44.950333 L -93.24895181527333,44.95023498285967 L -93.2489662147196,44.950137909677984 L -93.24899005966428,44.950042715322745 L -93.2490231204675,44.94995031656764 L -93.24906507873565,44.94986160326317 L -93.2491155303877,44.94977742976698 L -93.24917398954665,44.949698606715835 L -93.24923989321881,44.949625893218816 L -93.24931260671585,44.949559989546636 L -93.24939142976699,44.9495015303877 L -93.24947560326318,44.94945107873565 L -93.24956431656764,44.949409120467486 L -93.24965671532276,44.94937605966427 L -93.249751909678,44.949352214719596 L -93.24984898285967,44.94933781527333 L -93.249947,44.949333 L -93.25004501714034,44.94933781527333 L -93.25014209032202,44.949352214719596 L -93.25023728467725,44.94937605966427 L -93.25032968343237,44.949409120467486 L -93.25041839673683,44.94945107873565 L -93.25050257023302,44.9495015303877 L -93.25058139328416,44.949559989546636 L -93.2506541067812,44.949625893218816 L -93.25072001045336,44.949698606715835 L -93.25077846961231,44.94977742976698 L -93.25082892126436,44.94986160326317 L -93.25087087953251,44.94995031656764 L -93.25090394033573,44.950042715322745 L -93.25092778528041,44.950137909677984 L -93.25094218472668,44.95023498285967 L -93.25094700000001,44.950333 L -93.25094218472668,44.95043101714033 L -93.25092778528041,44.95052809032202 L -93.25090394033573,44.950623284677256 L -93.25087087953251,44.950715683432364 L -93.25082892126436,44.95080439673683 L -93.25077846961231,44.95088857023302 L -93.25072001045336,44.95096739328417 L -93.2506541067812,44.951040106781186 L -93.25058139328416,44.951106010453366 L -93.25050257023302,44.9511644696123 L -93.25041839673683,44.95121492126435 L -93.25032968343237,44.951256879532515 L -93.25023728467725,44.951289940335734 L -93.25014209032202,44.951313785280405 L -93.25004501714034,44.95132818472667 L -93.249947,44.951333 L -93.24984898285967,44.95132818472667 L -93.249751909678,44.951313785280405 L -93.24965671532276,44.951289940335734 L -93.24956431656764,44.951256879532515 L -93.24947560326318,44.95121492126435 L -93.24939142976699,44.9511644696123 L -93.24931260671585,44.951106010453366 L -93.24923989321881,44.951040106781186 L -93.24917398954665,44.95096739328417 L -93.2491155303877,44.95088857023302 L -93.24906507873565,44.95080439673683 L -93.2490231204675,44.950715683432364 L -93.24899005966428,44.950623284677256 L -93.2489662147196,44.95052809032202 L -93.24895181527333,44.95043101714033 L -93.248947,44.950333 z\" /><path fill-rule=\"evenodd\" fill=\"#66cc99\" stroke=\"#555555\" stroke-width=\"0.06126131520000001\" opacity=\"0.6\" d=\"M -93.251097,44.196522 L -93.25110181527333,44.19642398285967 L -93.2511162147196,44.196326909677985 L -93.25114005966428,44.196231715322746 L -93.2511731204675,44.19613931656764 L -93.25121507873565,44.196050603263174 L -93.2512655303877,44.19596642976698 L -93.25132398954665,44.195887606715836 L -93.25138989321881,44.19581489321882 L -93.25146260671585,44.19574898954664 L -93.25154142976699,44.1956905303877 L -93.25162560326318,44.19564007873565 L -93.25171431656764,44.19559812046749 L -93.25180671532276,44.19556505966427 L -93.251901909678,44.1955412147196 L -93.25199898285967,44.19552681527333 L -93.252097,44.195522000000004 L -93.25219501714034,44.19552681527333 L -93.25229209032202,44.1955412147196 L -93.25238728467725,44.19556505966427 L -93.25247968343237,44.19559812046749 L -93.25256839673683,44.19564007873565 L -93.25265257023302,44.1956905303877 L -93.25273139328417,44.19574898954664 L -93.2528041067812,44.19581489321882 L -93.25287001045336,44.195887606715836 L -93.25292846961231,44.19596642976698 L -93.25297892126436,44.196050603263174 L -93.25302087953251,44.19613931656764 L -93.25305394033573,44.196231715322746 L -93.25307778528041,44.196326909677985 L -93.25309218472668,44.19642398285967 L -93.25309700000001,44.196522 L -93.25309218472668,44.19662001714033 L -93.25307778528041,44.19671709032202 L -93.25305394033573,44.19681228467726 L -93.25302087953251,44.196904683432365 L -93.25297892126436,44.19699339673683 L -93.25292846961231,44.19707757023302 L -93.25287001045336,44.19715639328417 L -93.2528041067812,44.19722910678119 L -93.25273139328417,44.19729501045337 L -93.25265257023302,44.1973534696123 L -93.25256839673683,44.19740392126435 L -93.25247968343237,44.197445879532516 L -93.25238728467725,44.197478940335735 L -93.25229209032202,44.197502785280406 L -93.25219501714034,44.19751718472667 L -93.252097,44.197522 L -93.25199898285967,44.19751718472667 L -93.251901909678,44.197502785280406 L -93.25180671532276,44.197478940335735 L -93.25171431656764,44.197445879532516 L -93.25162560326318,44.19740392126435 L -93.25154142976699,44.1973534696123 L -93.25146260671585,44.19729501045337 L -93.25138989321881,44.19722910678119 L -93.25132398954665,44.19715639328417 L -93.2512655303877,44.19707757023302 L -93.25121507873565,44.19699339673683 L -93.2511731204675,44.196904683432365 L -93.25114005966428,44.19681228467726 L -93.2511162147196,44.19671709032202 L -93.25110181527333,44.19662001714033 L -93.251097,44.196522 z\" /><path fill-rule=\"evenodd\" fill=\"#66cc99\" stroke=\"#555555\" stroke-width=\"0.06126131520000001\" opacity=\"0.6\" d=\"M -93.255308,44.950322 L -93.25531281527333,44.95022398285967 L -93.2553272147196,44.950126909677984 L -93.25535105966428,44.950031715322744 L -93.2553841204675,44.94993931656764 L -93.25542607873565,44.94985060326317 L -93.2554765303877,44.94976642976698 L -93.25553498954665,44.949687606715834 L -93.25560089321881,44.949614893218815 L -93.25567360671585,44.949548989546635 L -93.25575242976699,44.9494905303877 L -93.25583660326318,44.94944007873565 L -93.25592531656764,44.949398120467485 L -93.25601771532276,44.94936505966427 L -93.256112909678,44.949341214719595 L -93.25620998285967,44.94932681527333 L -93.256308,44.949322 L -93.25640601714034,44.94932681527333 L -93.25650309032201,44.949341214719595 L -93.25659828467725,44.94936505966427 L -93.25669068343237,44.949398120467485 L -93.25677939673683,44.94944007873565 L -93.25686357023302,44.9494905303877 L -93.25694239328416,44.949548989546635 L -93.2570151067812,44.949614893218815 L -93.25708101045336,44.949687606715834 L -93.25713946961231,44.94976642976698 L -93.25718992126436,44.94985060326317 L -93.25723187953251,44.94993931656764 L -93.25726494033573,44.950031715322744 L -93.25728878528041,44.950126909677984 L -93.25730318472668,44.95022398285967 L -93.25730800000001,44.950322 L -93.25730318472668,44.95042001714033 L -93.25728878528041,44.950517090322016 L -93.25726494033573,44.950612284677256 L -93.25723187953251,44.95070468343236 L -93.25718992126436,44.95079339673683 L -93.25713946961231,44.95087757023302 L -93.25708101045336,44.950956393284166 L -93.2570151067812,44.951029106781185 L -93.25694239328416,44.951095010453365 L -93.25686357023302,44.9511534696123 L -93.25677939673683,44.95120392126435 L -93.25669068343237,44.951245879532514 L -93.25659828467725,44.95127894033573 L -93.25650309032201,44.951302785280404 L -93.25640601714034,44.95131718472667 L -93.256308,44.951322 L -93.25620998285967,44.95131718472667 L -93.256112909678,44.951302785280404 L -93.25601771532276,44.95127894033573 L -93.25592531656764,44.951245879532514 L -93.25583660326318,44.95120392126435 L -93.25575242976699,44.9511534696123 L -93.25567360671585,44.951095010453365 L -93.25560089321881,44.951029106781185 L -93.25553498954665,44.950956393284166 L -93.2554765303877,44.95087757023302 L -93.25542607873565,44.95079339673683 L -93.2553841204675,44.95070468343236 L -93.25535105966428,44.950612284677256 L -93.2553272147196,44.950517090322016 L -93.25531281527333,44.95042001714033 L -93.255308,44.950322 z\" /><path fill-rule=\"evenodd\" fill=\"#66cc99\" stroke=\"#555555\" stroke-width=\"0.06126131520000001\" opacity=\"0.6\" d=\"M -93.257858,44.983417 L -93.25786281527333,44.98331898285967 L -93.2578772147196,44.98322190967799 L -93.25790105966428,44.98312671532275 L -93.2579341204675,44.98303431656764 L -93.25797607873565,44.982945603263175 L -93.2580265303877,44.982861429766984 L -93.25808498954665,44.98278260671584 L -93.25815089321881,44.98270989321882 L -93.25822360671584,44.98264398954664 L -93.25830242976699,44.9825855303877 L -93.25838660326318,44.98253507873565 L -93.25847531656764,44.98249312046749 L -93.25856771532276,44.98246005966427 L -93.258662909678,44.9824362147196 L -93.25875998285967,44.982421815273334 L -93.258858,44.982417000000005 L -93.25895601714033,44.982421815273334 L -93.25905309032201,44.9824362147196 L -93.25914828467725,44.98246005966427 L -93.25924068343237,44.98249312046749 L -93.25932939673683,44.98253507873565 L -93.25941357023302,44.9825855303877 L -93.25949239328416,44.98264398954664 L -93.2595651067812,44.98270989321882 L -93.25963101045336,44.98278260671584 L -93.25968946961231,44.982861429766984 L -93.25973992126436,44.982945603263175 L -93.25978187953251,44.98303431656764 L -93.25981494033573,44.98312671532275 L -93.25983878528041,44.98322190967799 L -93.25985318472668,44.98331898285967 L -93.25985800000001,44.983417 L -93.25985318472668,44.983515017140334 L -93.25983878528041,44.98361209032202 L -93.25981494033573,44.98370728467726 L -93.25978187953251,44.983799683432366 L -93.25973992126436,44.98388839673683 L -93.25968946961231,44.98397257023302 L -93.25963101045336,44.98405139328417 L -93.2595651067812,44.98412410678119 L -93.25949239328416,44.98419001045337 L -93.25941357023302,44.984248469612304 L -93.25932939673683,44.984298921264354 L -93.25924068343237,44.98434087953252 L -93.25914828467725,44.984373940335736 L -93.25905309032201,44.98439778528041 L -93.25895601714033,44.98441218472667 L -93.258858,44.984417 L -93.25875998285967,44.98441218472667 L -93.258662909678,44.98439778528041 L -93.25856771532276,44.984373940335736 L -93.25847531656764,44.98434087953252 L -93.25838660326318,44.984298921264354 L -93.25830242976699,44.984248469612304 L -93.25822360671584,44.98419001045337 L -93.25815089321881,44.98412410678119 L -93.25808498954665,44.98405139328417 L -93.2580265303877,44.98397257023302 L -93.25797607873565,44.98388839673683 L -93.2579341204675,44.983799683432366 L -93.25790105966428,44.98370728467726 L -93.2578772147196,44.98361209032202 L -93.25786281527333,44.983515017140334 L -93.257858,44.983417 z\" /><path fill-rule=\"evenodd\" fill=\"#66cc99\" stroke=\"#555555\" stroke-width=\"0.06126131520000001\" opacity=\"0.6\" d=\"M -93.259025,45.030419 L -93.25902981527332,45.03032098285967 L -93.2590442147196,45.030223909677986 L -93.25906805966427,45.030128715322746 L -93.25910112046749,45.03003631656764 L -93.25914307873565,45.029947603263174 L -93.25919353038769,45.02986342976698 L -93.25925198954664,45.029784606715836 L -93.2593178932188,45.02971189321882 L -93.25939060671584,45.02964598954664 L -93.25946942976698,45.0295875303877 L -93.25955360326317,45.02953707873565 L -93.25964231656764,45.02949512046749 L -93.25973471532275,45.02946205966427 L -93.25982990967799,45.0294382147196 L -93.25992698285967,45.02942381527333 L -93.260025,45.029419000000004 L -93.26012301714033,45.02942381527333 L -93.26022009032201,45.0294382147196 L -93.26031528467725,45.02946205966427 L -93.26040768343236,45.02949512046749 L -93.26049639673683,45.02953707873565 L -93.26058057023302,45.0295875303877 L -93.26065939328416,45.02964598954664 L -93.26073210678119,45.02971189321882 L -93.26079801045336,45.029784606715836 L -93.2608564696123,45.02986342976698 L -93.26090692126435,45.029947603263174 L -93.2609488795325,45.03003631656764 L -93.26098194033572,45.030128715322746 L -93.2610057852804,45.030223909677986 L -93.26102018472668,45.03032098285967 L -93.261025,45.030419 L -93.26102018472668,45.03051701714033 L -93.2610057852804,45.03061409032202 L -93.26098194033572,45.03070928467726 L -93.2609488795325,45.030801683432365 L -93.26090692126435,45.03089039673683 L -93.2608564696123,45.03097457023302 L -93.26079801045336,45.03105339328417 L -93.26073210678119,45.03112610678119 L -93.26065939328416,45.03119201045337 L -93.26058057023302,45.0312504696123 L -93.26049639673683,45.031300921264354 L -93.26040768343236,45.03134287953252 L -93.26031528467725,45.031375940335735 L -93.26022009032201,45.031399785280406 L -93.26012301714033,45.03141418472667 L -93.260025,45.031419 L -93.25992698285967,45.03141418472667 L -93.25982990967799,45.031399785280406 L -93.25973471532275,45.031375940335735 L -93.25964231656764,45.03134287953252 L -93.25955360326317,45.031300921264354 L -93.25946942976698,45.0312504696123 L -93.25939060671584,45.03119201045337 L -93.2593178932188,45.03112610678119 L -93.25925198954664,45.03105339328417 L -93.25919353038769,45.03097457023302 L -93.25914307873565,45.03089039673683 L -93.25910112046749,45.030801683432365 L -93.25906805966427,45.03070928467726 L -93.2590442147196,45.03061409032202 L -93.25902981527332,45.03051701714033 L -93.259025,45.030419 z\" /><path fill-rule=\"evenodd\" fill=\"#66cc99\" stroke=\"#555555\" stroke-width=\"0.06126131520000001\" opacity=\"0.6\" d=\"M -93.259131,44.950364 L -93.25913581527332,44.95026598285967 L -93.2591502147196,44.950168909677984 L -93.25917405966428,44.950073715322745 L -93.2592071204675,44.94998131656764 L -93.25924907873565,44.94989260326317 L -93.2592995303877,44.94980842976698 L -93.25935798954664,44.949729606715835 L -93.25942389321881,44.949656893218815 L -93.25949660671584,44.949590989546635 L -93.25957542976698,44.9495325303877 L -93.25965960326317,44.94948207873565 L -93.25974831656764,44.949440120467486 L -93.25984071532275,44.94940705966427 L -93.25993590967799,44.949383214719596 L -93.26003298285967,44.94936881527333 L -93.260131,44.949364 L -93.26022901714033,44.94936881527333 L -93.26032609032201,44.949383214719596 L -93.26042128467725,44.94940705966427 L -93.26051368343236,44.949440120467486 L -93.26060239673683,44.94948207873565 L -93.26068657023302,44.9495325303877 L -93.26076539328416,44.949590989546635 L -93.2608381067812,44.949656893218815 L -93.26090401045336,44.949729606715835 L -93.26096246961231,44.94980842976698 L -93.26101292126435,44.94989260326317 L -93.26105487953251,44.94998131656764 L -93.26108794033573,44.950073715322745 L -93.2611117852804,44.950168909677984 L -93.26112618472668,44.95026598285967 L -93.261131,44.950364 L -93.26112618472668,44.95046201714033 L -93.2611117852804,44.95055909032202 L -93.26108794033573,44.950654284677256 L -93.26105487953251,44.950746683432364 L -93.26101292126435,44.95083539673683 L -93.26096246961231,44.95091957023302 L -93.26090401045336,44.950998393284166 L -93.2608381067812,44.951071106781185 L -93.26076539328416,44.951137010453365 L -93.26068657023302,44.9511954696123 L -93.26060239673683,44.95124592126435 L -93.26051368343236,44.951287879532515 L -93.26042128467725,44.951320940335734 L -93.26032609032201,44.951344785280405 L -93.26022901714033,44.95135918472667 L -93.260131,44.951364 L -93.26003298285967,44.95135918472667 L -93.25993590967799,44.951344785280405 L -93.25984071532275,44.951320940335734 L -93.25974831656764,44.951287879532515 L -93.25965960326317,44.95124592126435 L -93.25957542976698,44.9511954696123 L -93.25949660671584,44.951137010453365 L -93.25942389321881,44.951071106781185 L -93.25935798954664,44.950998393284166 L -93.2592995303877,44.95091957023302 L -93.25924907873565,44.95083539673683 L -93.2592071204675,44.950746683432364 L -93.25917405966428,44.950654284677256 L -93.2591502147196,44.95055909032202 L -93.25913581527332,44.95046201714033 L -93.259131,44.950364 z\" /><path fill-rule=\"evenodd\" fill=\"#66cc99\" stroke=\"#555555\" stroke-width=\"0.06126131520000001\" opacity=\"0.6\" d=\"M -93.262864,44.290425 L -93.26286881527332,44.29032698285967 L -93.2628832147196,44.29022990967798 L -93.26290705966427,44.29013471532274 L -93.26294012046749,44.290042316567636 L -93.26298207873565,44.28995360326317 L -93.26303253038769,44.28986942976698 L -93.26309098954664,44.28979060671583 L -93.2631568932188,44.289717893218814 L -93.26322960671584,44.289651989546634 L -93.26330842976698,44.2895935303877 L -93.26339260326317,44.28954307873565 L -93.26348131656763,44.289501120467484 L -93.26357371532275,44.289468059664266 L -93.26366890967799,44.289444214719595 L -93.26376598285967,44.28942981527333 L -93.263864,44.289425 L -93.26396201714033,44.28942981527333 L -93.26405909032201,44.289444214719595 L -93.26415428467725,44.289468059664266 L -93.26424668343236,44.289501120467484 L -93.26433539673683,44.28954307873565 L -93.26441957023302,44.2895935303877 L -93.26449839328416,44.289651989546634 L -93.26457110678119,44.289717893218814 L -93.26463701045336,44.28979060671583 L -93.2646954696123,44.28986942976698 L -93.26474592126435,44.28995360326317 L -93.2647878795325,44.290042316567636 L -93.26482094033572,44.29013471532274 L -93.2648447852804,44.29022990967798 L -93.26485918472667,44.29032698285967 L -93.264864,44.290425 L -93.26485918472667,44.29052301714033 L -93.2648447852804,44.290620090322015 L -93.26482094033572,44.290715284677255 L -93.2647878795325,44.29080768343236 L -93.26474592126435,44.29089639673683 L -93.2646954696123,44.29098057023302 L -93.26463701045336,44.291059393284165 L -93.26457110678119,44.291132106781184 L -93.26449839328416,44.291198010453364 L -93.26441957023302,44.2912564696123 L -93.26433539673683,44.29130692126435 L -93.26424668343236,44.291348879532514 L -93.26415428467725,44.29138194033573 L -93.26405909032201,44.2914057852804 L -93.26396201714033,44.29142018472667 L -93.263864,44.291425 L -93.26376598285967,44.29142018472667 L -93.26366890967799,44.2914057852804 L -93.26357371532275,44.29138194033573 L -93.26348131656763,44.291348879532514 L -93.26339260326317,44.29130692126435 L -93.26330842976698,44.2912564696123 L -93.26322960671584,44.291198010453364 L -93.2631568932188,44.291132106781184 L -93.26309098954664,44.291059393284165 L -93.26303253038769,44.29098057023302 L -93.26298207873565,44.29089639673683 L -93.26294012046749,44.29080768343236 L -93.26290705966427,44.290715284677255 L -93.2628832147196,44.290620090322015 L -93.26286881527332,44.29052301714033 L -93.262864,44.290425 z\" /><path fill-rule=\"evenodd\" fill=\"#66cc99\" stroke=\"#555555\" stroke-width=\"0.06126131520000001\" opacity=\"0.6\" d=\"M -93.263694,44.210494 L -93.26369881527333,44.210395982859666 L -93.2637132147196,44.21029890967798 L -93.26373705966428,44.21020371532274 L -93.2637701204675,44.210111316567634 L -93.26381207873565,44.21002260326317 L -93.2638625303877,44.20993842976698 L -93.26392098954665,44.20985960671583 L -93.26398689321881,44.20978689321881 L -93.26405960671585,44.20972098954663 L -93.26413842976699,44.209662530387696 L -93.26422260326318,44.209612078735645 L -93.26431131656764,44.20957012046748 L -93.26440371532276,44.209537059664264 L -93.264498909678,44.20951321471959 L -93.26459598285967,44.20949881527333 L -93.264694,44.209494 L -93.26479201714034,44.20949881527333 L -93.26488909032201,44.20951321471959 L -93.26498428467725,44.209537059664264 L -93.26507668343237,44.20957012046748 L -93.26516539673683,44.209612078735645 L -93.26524957023302,44.209662530387696 L -93.26532839328416,44.20972098954663 L -93.2654011067812,44.20978689321881 L -93.26546701045336,44.20985960671583 L -93.26552546961231,44.20993842976698 L -93.26557592126436,44.21002260326317 L -93.26561787953251,44.210111316567634 L -93.26565094033573,44.21020371532274 L -93.26567478528041,44.21029890967798 L -93.26568918472668,44.210395982859666 L -93.26569400000001,44.210494 L -93.26568918472668,44.21059201714033 L -93.26567478528041,44.21068909032201 L -93.26565094033573,44.21078428467725 L -93.26561787953251,44.21087668343236 L -93.26557592126436,44.210965396736825 L -93.26552546961231,44.211049570233016 L -93.26546701045336,44.21112839328416 L -93.2654011067812,44.21120110678118 L -93.26532839328416,44.21126701045336 L -93.26524957023302,44.2113254696123 L -93.26516539673683,44.21137592126435 L -93.26507668343237,44.21141787953251 L -93.26498428467725,44.21145094033573 L -93.26488909032201,44.2114747852804 L -93.26479201714034,44.211489184726666 L -93.264694,44.211493999999995 L -93.26459598285967,44.211489184726666 L -93.264498909678,44.2114747852804 L -93.26440371532276,44.21145094033573 L -93.26431131656764,44.21141787953251 L -93.26422260326318,44.21137592126435 L -93.26413842976699,44.2113254696123 L -93.26405960671585,44.21126701045336 L -93.26398689321881,44.21120110678118 L -93.26392098954665,44.21112839328416 L -93.2638625303877,44.211049570233016 L -93.26381207873565,44.210965396736825 L -93.2637701204675,44.21087668343236 L -93.26373705966428,44.21078428467725 L -93.2637132147196,44.21068909032201 L -93.26369881527333,44.21059201714033 L -93.263694,44.210494 z\" /><path fill-rule=\"evenodd\" fill=\"#66cc99\" stroke=\"#555555\" stroke-width=\"0.06126131520000001\" opacity=\"0.6\" d=\"M -93.26547199999999,44.950356 L -93.26547681527332,44.95025798285967 L -93.26549121471959,44.95016090967798 L -93.26551505966427,44.950065715322744 L -93.26554812046749,44.949973316567636 L -93.26559007873564,44.94988460326317 L -93.26564053038769,44.94980042976698 L -93.26569898954664,44.94972160671583 L -93.2657648932188,44.949648893218814 L -93.26583760671583,44.949582989546634 L -93.26591642976697,44.9495245303877 L -93.26600060326317,44.94947407873565 L -93.26608931656763,44.949432120467485 L -93.26618171532274,44.949399059664266 L -93.26627690967798,44.949375214719595 L -93.26637398285966,44.94936081527333 L -93.266472,44.949356 L -93.26657001714032,44.94936081527333 L -93.266667090322,44.949375214719595 L -93.26676228467724,44.949399059664266 L -93.26685468343236,44.949432120467485 L -93.26694339673682,44.94947407873565 L -93.26702757023301,44.9495245303877 L -93.26710639328415,44.949582989546634 L -93.26717910678119,44.949648893218814 L -93.26724501045335,44.94972160671583 L -93.2673034696123,44.94980042976698 L -93.26735392126434,44.94988460326317 L -93.2673958795325,44.949973316567636 L -93.26742894033572,44.950065715322744 L -93.2674527852804,44.95016090967798 L -93.26746718472667,44.95025798285967 L -93.267472,44.950356 L -93.26746718472667,44.95045401714033 L -93.2674527852804,44.950551090322016 L -93.26742894033572,44.950646284677255 L -93.2673958795325,44.95073868343236 L -93.26735392126434,44.95082739673683 L -93.2673034696123,44.95091157023302 L -93.26724501045335,44.950990393284165 L -93.26717910678119,44.951063106781184 L -93.26710639328415,44.951129010453364 L -93.26702757023301,44.9511874696123 L -93.26694339673682,44.95123792126435 L -93.26685468343236,44.951279879532514 L -93.26676228467724,44.95131294033573 L -93.266667090322,44.951336785280404 L -93.26657001714032,44.95135118472667 L -93.266472,44.951356 L -93.26637398285966,44.95135118472667 L -93.26627690967798,44.951336785280404 L -93.26618171532274,44.95131294033573 L -93.26608931656763,44.951279879532514 L -93.26600060326317,44.95123792126435 L -93.26591642976697,44.9511874696123 L -93.26583760671583,44.951129010453364 L -93.2657648932188,44.951063106781184 L -93.26569898954664,44.950990393284165 L -93.26564053038769,44.95091157023302 L -93.26559007873564,44.95082739673683 L -93.26554812046749,44.95073868343236 L -93.26551505966427,44.950646284677255 L -93.26549121471959,44.950551090322016 L -93.26547681527332,44.95045401714033 L -93.26547199999999,44.950356 z\" /><path fill-rule=\"evenodd\" fill=\"#66cc99\" stroke=\"#555555\" stroke-width=\"0.06126131520000001\" opacity=\"0.6\" d=\"M -93.26565599999999,44.91245 L -93.26566081527332,44.91235198285967 L -93.2656752147196,44.91225490967798 L -93.26569905966427,44.912159715322744 L -93.26573212046749,44.91206731656764 L -93.26577407873565,44.91197860326317 L -93.26582453038769,44.91189442976698 L -93.26588298954664,44.911815606715834 L -93.2659488932188,44.911742893218815 L -93.26602160671584,44.911676989546635 L -93.26610042976698,44.9116185303877 L -93.26618460326317,44.91156807873565 L -93.26627331656763,44.911526120467485 L -93.26636571532275,44.91149305966427 L -93.26646090967799,44.911469214719595 L -93.26655798285967,44.91145481527333 L -93.266656,44.91145 L -93.26675401714033,44.91145481527333 L -93.266851090322,44.911469214719595 L -93.26694628467725,44.91149305966427 L -93.26703868343236,44.911526120467485 L -93.26712739673683,44.91156807873565 L -93.26721157023302,44.9116185303877 L -93.26729039328416,44.911676989546635 L -93.26736310678119,44.911742893218815 L -93.26742901045336,44.911815606715834 L -93.2674874696123,44.91189442976698 L -93.26753792126435,44.91197860326317 L -93.2675798795325,44.91206731656764 L -93.26761294033572,44.912159715322744 L -93.2676367852804,44.91225490967798 L -93.26765118472667,44.91235198285967 L -93.267656,44.91245 L -93.26765118472667,44.91254801714033 L -93.2676367852804,44.912645090322016 L -93.26761294033572,44.912740284677255 L -93.2675798795325,44.91283268343236 L -93.26753792126435,44.91292139673683 L -93.2674874696123,44.91300557023302 L -93.26742901045336,44.913084393284166 L -93.26736310678119,44.913157106781185 L -93.26729039328416,44.913223010453365 L -93.26721157023302,44.9132814696123 L -93.26712739673683,44.91333192126435 L -93.26703868343236,44.913373879532514 L -93.26694628467725,44.91340694033573 L -93.266851090322,44.913430785280404 L -93.26675401714033,44.91344518472667 L -93.266656,44.91345 L -93.26655798285967,44.91344518472667 L -93.26646090967799,44.913430785280404 L -93.26636571532275,44.91340694033573 L -93.26627331656763,44.913373879532514 L -93.26618460326317,44.91333192126435 L -93.26610042976698,44.9132814696123 L -93.26602160671584,44.913223010453365 L -93.2659488932188,44.913157106781185 L -93.26588298954664,44.913084393284166 L -93.26582453038769,44.91300557023302 L -93.26577407873565,44.91292139673683 L -93.26573212046749,44.91283268343236 L -93.26569905966427,44.912740284677255 L -93.2656752147196,44.912645090322016 L -93.26566081527332,44.91254801714033 L -93.26565599999999,44.91245 z\" /><path fill-rule=\"evenodd\" fill=\"#66cc99\" stroke=\"#555555\" stroke-width=\"0.06126131520000001\" opacity=\"0.6\" d=\"M -93.266731,45.029369 L -93.26673581527332,45.02927098285967 L -93.2667502147196,45.029173909677986 L -93.26677405966427,45.02907871532275 L -93.26680712046749,45.02898631656764 L -93.26684907873565,45.028897603263175 L -93.26689953038769,45.028813429766984 L -93.26695798954664,45.02873460671584 L -93.2670238932188,45.02866189321882 L -93.26709660671584,45.02859598954664 L -93.26717542976698,45.0285375303877 L -93.26725960326317,45.02848707873565 L -93.26734831656763,45.02844512046749 L -93.26744071532275,45.02841205966427 L -93.26753590967799,45.0283882147196 L -93.26763298285967,45.02837381527333 L -93.267731,45.028369000000005 L -93.26782901714033,45.02837381527333 L -93.267926090322,45.0283882147196 L -93.26802128467725,45.02841205966427 L -93.26811368343236,45.02844512046749 L -93.26820239673683,45.02848707873565 L -93.26828657023302,45.0285375303877 L -93.26836539328416,45.02859598954664 L -93.26843810678119,45.02866189321882 L -93.26850401045336,45.02873460671584 L -93.2685624696123,45.028813429766984 L -93.26861292126435,45.028897603263175 L -93.2686548795325,45.02898631656764 L -93.26868794033572,45.02907871532275 L -93.2687117852804,45.029173909677986 L -93.26872618472667,45.02927098285967 L -93.268731,45.029369 L -93.26872618472667,45.029467017140334 L -93.2687117852804,45.02956409032202 L -93.26868794033572,45.02965928467726 L -93.2686548795325,45.029751683432366 L -93.26861292126435,45.02984039673683 L -93.2685624696123,45.02992457023302 L -93.26850401045336,45.03000339328417 L -93.26843810678119,45.03007610678119 L -93.26836539328416,45.03014201045337 L -93.26828657023302,45.0302004696123 L -93.26820239673683,45.030250921264354 L -93.26811368343236,45.03029287953252 L -93.26802128467725,45.030325940335736 L -93.267926090322,45.03034978528041 L -93.26782901714033,45.03036418472667 L -93.267731,45.030369 L -93.26763298285967,45.03036418472667 L -93.26753590967799,45.03034978528041 L -93.26744071532275,45.030325940335736 L -93.26734831656763,45.03029287953252 L -93.26725960326317,45.030250921264354 L -93.26717542976698,45.0302004696123 L -93.26709660671584,45.03014201045337 L -93.2670238932188,45.03007610678119 L -93.26695798954664,45.03000339328417 L -93.26689953038769,45.02992457023302 L -93.26684907873565,45.02984039673683 L -93.26680712046749,45.029751683432366 L -93.26677405966427,45.02965928467726 L -93.2667502147196,45.02956409032202 L -93.26673581527332,45.029467017140334 L -93.266731,45.029369 z\" /><path fill-rule=\"evenodd\" fill=\"#66cc99\" stroke=\"#555555\" stroke-width=\"0.06126131520000001\" opacity=\"0.6\" d=\"M -93.2760223249012,44.9510876010585 L -93.27599539328416,44.951112010453365 L -93.27591657023302,44.9511704696123 L -93.27583239673683,44.95122092126435 L -93.27574368343237,44.951262879532514 L -93.27565128467725,44.95129594033573 L -93.27555609032201,44.951319785280404 L -93.27545901714034,44.95133418472667 L -93.275361,44.951339 L -93.27526298285967,44.95133418472667 L -93.275165909678,44.951319785280404 L -93.27507071532276,44.95129594033573 L -93.27497831656764,44.951262879532514 L -93.27488960326318,44.95122092126435 L -93.27480542976699,44.9511704696123 L -93.27472660671584,44.951112010453365 L -93.27465389321881,44.951046106781185 L -93.27458798954665,44.950973393284166 L -93.2745295303877,44.95089457023302 L -93.27447907873565,44.95081039673683 L -93.2744371204675,44.95072168343236 L -93.27440405966428,44.950629284677255 L -93.2743802147196,44.950534090322016 L -93.27436581527333,44.95043701714033 L -93.274361,44.950339 L -93.27436581527333,44.95024098285967 L -93.2743802147196,44.95014390967798 L -93.27440405966428,44.950048715322744 L -93.2744371204675,44.949956316567636 L -93.27447907873565,44.94986760326317 L -93.2745295303877,44.94978342976698 L -93.27458798954665,44.949704606715834 L -93.27465389321881,44.949631893218815 L -93.27472660671584,44.949565989546635 L -93.27480542976699,44.9495075303877 L -93.27488960326318,44.94945707873565 L -93.27497831656764,44.949415120467485 L -93.27507071532276,44.949382059664266 L -93.275165909678,44.949358214719595 L -93.27526298285967,44.94934381527333 L -93.275361,44.949339 L -93.27545901714034,44.94934381527333 L -93.27555609032201,44.949358214719595 L -93.27565128467725,44.949382059664266 L -93.27574368343237,44.949415120467485 L -93.27583239673683,44.94945707873565 L -93.27591657023302,44.9495075303877 L -93.2759716750988,44.9495483989415 L -93.27599860671585,44.949523989546634 L -93.27607742976699,44.9494655303877 L -93.27616160326318,44.94941507873565 L -93.27625031656764,44.949373120467484 L -93.27634271532276,44.949340059664266 L -93.276437909678,44.949316214719595 L -93.27653498285967,44.94930181527333 L -93.276633,44.949297 L -93.27673101714034,44.94930181527333 L -93.27682809032201,44.949316214719595 L -93.27692328467725,44.949340059664266 L -93.27701568343237,44.949373120467484 L -93.27710439673683,44.94941507873565 L -93.27718857023302,44.9494655303877 L -93.27726739328416,44.949523989546634 L -93.2773401067812,44.949589893218814 L -93.27740601045336,44.94966260671583 L -93.27746446961231,44.94974142976698 L -93.27751492126436,44.94982560326317 L -93.27755687953251,44.949914316567636 L -93.27758994033573,44.95000671532274 L -93.27761378528041,44.95010190967798 L -93.27762818472668,44.95019898285967 L -93.27763300000001,44.950297 L -93.27762818472668,44.95039501714033 L -93.27761378528041,44.950492090322015 L -93.27758994033573,44.950587284677255 L -93.27755687953251,44.95067968343236 L -93.27751492126436,44.95076839673683 L -93.27746446961231,44.95085257023302 L -93.27740601045336,44.950931393284165 L -93.2773401067812,44.951004106781184 L -93.27726739328416,44.951070010453364 L -93.27718857023302,44.9511284696123 L -93.27710439673683,44.95117892126435 L -93.27701568343237,44.951220879532514 L -93.27692328467725,44.95125394033573 L -93.27682809032201,44.9512777852804 L -93.27673101714034,44.95129218472667 L -93.276633,44.951297 L -93.27653498285967,44.95129218472667 L -93.276437909678,44.9512777852804 L -93.27634271532276,44.95125394033573 L -93.27625031656764,44.951220879532514 L -93.27616160326318,44.95117892126435 L -93.27607742976699,44.9511284696123 L -93.2760223249012,44.9510876010585 z\" /><path fill-rule=\"evenodd\" fill=\"#66cc99\" stroke=\"#555555\" stroke-width=\"0.06126131520000001\" opacity=\"0.6\" d=\"M -93.277586,44.999131 L -93.27759081527333,44.99903298285967 L -93.2776052147196,44.99893590967798 L -93.27762905966428,44.99884071532274 L -93.2776621204675,44.998748316567635 L -93.27770407873565,44.99865960326317 L -93.2777545303877,44.99857542976698 L -93.27781298954665,44.99849660671583 L -93.27787889321881,44.99842389321881 L -93.27795160671585,44.99835798954663 L -93.27803042976699,44.9982995303877 L -93.27811460326318,44.99824907873565 L -93.27820331656764,44.998207120467484 L -93.27829571532276,44.998174059664265 L -93.278390909678,44.998150214719594 L -93.27848798285967,44.99813581527333 L -93.278586,44.998131 L -93.27868401714034,44.99813581527333 L -93.27878109032201,44.998150214719594 L -93.27887628467725,44.998174059664265 L -93.27896868343237,44.998207120467484 L -93.27905739673683,44.99824907873565 L -93.27914157023302,44.9982995303877 L -93.27922039328416,44.99835798954663 L -93.2792931067812,44.99842389321881 L -93.27935901045336,44.99849660671583 L -93.27941746961231,44.99857542976698 L -93.27946792126436,44.99865960326317 L -93.27950987953251,44.998748316567635 L -93.27954294033573,44.99884071532274 L -93.27956678528041,44.99893590967798 L -93.27958118472668,44.99903298285967 L -93.27958600000001,44.999131 L -93.27958118472668,44.99922901714033 L -93.27956678528041,44.999326090322015 L -93.27954294033573,44.999421284677254 L -93.27950987953251,44.99951368343236 L -93.27946792126436,44.999602396736826 L -93.27941746961231,44.99968657023302 L -93.27935901045336,44.999765393284164 L -93.2792931067812,44.99983810678118 L -93.27922039328416,44.99990401045336 L -93.27914157023302,44.9999624696123 L -93.27905739673683,45.00001292126435 L -93.27896868343237,45.00005487953251 L -93.27887628467725,45.00008794033573 L -93.27878109032201,45.0001117852804 L -93.27868401714034,45.00012618472667 L -93.278586,45.000130999999996 L -93.27848798285967,45.00012618472667 L -93.278390909678,45.0001117852804 L -93.27829571532276,45.00008794033573 L -93.27820331656764,45.00005487953251 L -93.27811460326318,45.00001292126435 L -93.27803042976699,44.9999624696123 L -93.27795160671585,44.99990401045336 L -93.27787889321881,44.99983810678118 L -93.27781298954665,44.999765393284164 L -93.2777545303877,44.99968657023302 L -93.27770407873565,44.999602396736826 L -93.2776621204675,44.99951368343236 L -93.27762905966428,44.999421284677254 L -93.2776052147196,44.999326090322015 L -93.27759081527333,44.99922901714033 L -93.277586,44.999131 z\" /><path fill-rule=\"evenodd\" fill=\"#66cc99\" stroke=\"#555555\" stroke-width=\"0.06126131520000001\" opacity=\"0.6\" d=\"M -93.27776399999999,44.992022 L -93.27776881527332,44.99192398285967 L -93.27778321471959,44.99182690967798 L -93.27780705966427,44.99173171532274 L -93.27784012046749,44.991639316567635 L -93.27788207873564,44.99155060326317 L -93.27793253038769,44.99146642976698 L -93.27799098954664,44.99138760671583 L -93.2780568932188,44.991314893218814 L -93.27812960671584,44.991248989546634 L -93.27820842976698,44.9911905303877 L -93.27829260326317,44.99114007873565 L -93.27838131656763,44.991098120467484 L -93.27847371532275,44.991065059664265 L -93.27856890967799,44.991041214719594 L -93.27866598285966,44.99102681527333 L -93.278764,44.991022 L -93.27886201714033,44.99102681527333 L -93.278959090322,44.991041214719594 L -93.27905428467724,44.991065059664265 L -93.27914668343236,44.991098120467484 L -93.27923539673682,44.99114007873565 L -93.27931957023301,44.9911905303877 L -93.27939839328415,44.991248989546634 L -93.27947110678119,44.991314893218814 L -93.27953701045335,44.99138760671583 L -93.2795954696123,44.99146642976698 L -93.27964592126435,44.99155060326317 L -93.2796878795325,44.991639316567635 L -93.27972094033572,44.99173171532274 L -93.2797447852804,44.99182690967798 L -93.27975918472667,44.99192398285967 L -93.279764,44.992022 L -93.27975918472667,44.99212001714033 L -93.2797447852804,44.992217090322015 L -93.27972094033572,44.992312284677254 L -93.2796878795325,44.99240468343236 L -93.27964592126435,44.992493396736826 L -93.2795954696123,44.99257757023302 L -93.27953701045335,44.992656393284165 L -93.27947110678119,44.992729106781184 L -93.27939839328415,44.992795010453364 L -93.27931957023301,44.9928534696123 L -93.27923539673682,44.99290392126435 L -93.27914668343236,44.99294587953251 L -93.27905428467724,44.99297894033573 L -93.278959090322,44.9930027852804 L -93.27886201714033,44.99301718472667 L -93.278764,44.993021999999996 L -93.27866598285966,44.99301718472667 L -93.27856890967799,44.9930027852804 L -93.27847371532275,44.99297894033573 L -93.27838131656763,44.99294587953251 L -93.27829260326317,44.99290392126435 L -93.27820842976698,44.9928534696123 L -93.27812960671584,44.992795010453364 L -93.2780568932188,44.992729106781184 L -93.27799098954664,44.992656393284165 L -93.27793253038769,44.99257757023302 L -93.27788207873564,44.992493396736826 L -93.27784012046749,44.99240468343236 L -93.27780705966427,44.992312284677254 L -93.27778321471959,44.992217090322015 L -93.27776881527332,44.99212001714033 L -93.27776399999999,44.992022 z\" /><path fill-rule=\"evenodd\" fill=\"#66cc99\" stroke=\"#555555\" stroke-width=\"0.06126131520000001\" opacity=\"0.6\" d=\"M -93.278792,45.029381 L -93.27879681527332,45.02928298285967 L -93.2788112147196,45.029185909677985 L -93.27883505966427,45.029090715322745 L -93.2788681204675,45.02899831656764 L -93.27891007873565,45.02890960326317 L -93.27896053038769,45.02882542976698 L -93.27901898954664,45.028746606715835 L -93.27908489321881,45.028673893218816 L -93.27915760671584,45.028607989546636 L -93.27923642976698,45.0285495303877 L -93.27932060326317,45.02849907873565 L -93.27940931656764,45.028457120467486 L -93.27950171532275,45.02842405966427 L -93.27959690967799,45.028400214719596 L -93.27969398285967,45.02838581527333 L -93.279792,45.028381 L -93.27989001714033,45.02838581527333 L -93.27998709032201,45.028400214719596 L -93.28008228467725,45.02842405966427 L -93.28017468343236,45.028457120467486 L -93.28026339673683,45.02849907873565 L -93.28034757023302,45.0285495303877 L -93.28042639328416,45.028607989546636 L -93.28049910678119,45.028673893218816 L -93.28056501045336,45.028746606715835 L -93.28062346961231,45.02882542976698 L -93.28067392126435,45.02890960326317 L -93.28071587953251,45.02899831656764 L -93.28074894033573,45.029090715322745 L -93.2807727852804,45.029185909677985 L -93.28078718472668,45.02928298285967 L -93.280792,45.029381 L -93.28078718472668,45.02947901714033 L -93.2807727852804,45.02957609032202 L -93.28074894033573,45.029671284677256 L -93.28071587953251,45.029763683432364 L -93.28067392126435,45.02985239673683 L -93.28062346961231,45.02993657023302 L -93.28056501045336,45.03001539328417 L -93.28049910678119,45.030088106781186 L -93.28042639328416,45.030154010453366 L -93.28034757023302,45.0302124696123 L -93.28026339673683,45.03026292126435 L -93.28017468343236,45.030304879532515 L -93.28008228467725,45.030337940335734 L -93.27998709032201,45.030361785280405 L -93.27989001714033,45.03037618472667 L -93.279792,45.030381 L -93.27969398285967,45.03037618472667 L -93.27959690967799,45.030361785280405 L -93.27950171532275,45.030337940335734 L -93.27940931656764,45.030304879532515 L -93.27932060326317,45.03026292126435 L -93.27923642976698,45.0302124696123 L -93.27915760671584,45.030154010453366 L -93.27908489321881,45.030088106781186 L -93.27901898954664,45.03001539328417 L -93.27896053038769,45.02993657023302 L -93.27891007873565,45.02985239673683 L -93.2788681204675,45.029763683432364 L -93.27883505966427,45.029671284677256 L -93.2788112147196,45.02957609032202 L -93.27879681527332,45.02947901714033 L -93.278792,45.029381 z\" /><path fill-rule=\"evenodd\" fill=\"#66cc99\" stroke=\"#555555\" stroke-width=\"0.06126131520000001\" opacity=\"0.6\" d=\"M -93.280333,44.950339 L -93.28033781527333,44.95024098285967 L -93.2803522147196,44.95014390967798 L -93.28037605966428,44.950048715322744 L -93.2804091204675,44.949956316567636 L -93.28045107873565,44.94986760326317 L -93.2805015303877,44.94978342976698 L -93.28055998954665,44.949704606715834 L -93.28062589321881,44.949631893218815 L -93.28069860671584,44.949565989546635 L -93.28077742976699,44.9495075303877 L -93.28086160326318,44.94945707873565 L -93.28095031656764,44.949415120467485 L -93.28104271532276,44.949382059664266 L -93.281137909678,44.949358214719595 L -93.28123498285967,44.94934381527333 L -93.281333,44.949339 L -93.28143101714033,44.94934381527333 L -93.28152809032201,44.949358214719595 L -93.28162328467725,44.949382059664266 L -93.28171568343237,44.949415120467485 L -93.28180439673683,44.94945707873565 L -93.28188857023302,44.9495075303877 L -93.28196739328416,44.949565989546635 L -93.2820401067812,44.949631893218815 L -93.28210601045336,44.949704606715834 L -93.28216446961231,44.94978342976698 L -93.28221492126436,44.94986760326317 L -93.28225687953251,44.949956316567636 L -93.28228994033573,44.950048715322744 L -93.28231378528041,44.95014390967798 L -93.28232818472668,44.95024098285967 L -93.28233300000001,44.950339 L -93.28232818472668,44.95043701714033 L -93.28231378528041,44.950534090322016 L -93.28228994033573,44.950629284677255 L -93.28225687953251,44.95072168343236 L -93.28221492126436,44.95081039673683 L -93.28216446961231,44.95089457023302 L -93.28210601045336,44.950973393284166 L -93.2820401067812,44.951046106781185 L -93.28196739328416,44.951112010453365 L -93.28188857023302,44.9511704696123 L -93.28180439673683,44.95122092126435 L -93.28171568343237,44.951262879532514 L -93.28162328467725,44.95129594033573 L -93.28152809032201,44.951319785280404 L -93.28143101714033,44.95133418472667 L -93.281333,44.951339 L -93.28123498285967,44.95133418472667 L -93.281137909678,44.951319785280404 L -93.28104271532276,44.95129594033573 L -93.28095031656764,44.951262879532514 L -93.28086160326318,44.95122092126435 L -93.28077742976699,44.9511704696123 L -93.28069860671584,44.951112010453365 L -93.28062589321881,44.951046106781185 L -93.28055998954665,44.950973393284166 L -93.2805015303877,44.95089457023302 L -93.28045107873565,44.95081039673683 L -93.2804091204675,44.95072168343236 L -93.28037605966428,44.950629284677255 L -93.2803522147196,44.950534090322016 L -93.28033781527333,44.95043701714033 L -93.280333,44.950339 z\" /><path fill-rule=\"evenodd\" fill=\"#66cc99\" stroke=\"#555555\" stroke-width=\"0.06126131520000001\" opacity=\"0.6\" d=\"M -93.28372589185621,44.29722502924438 L -93.28374001045336,44.29724060671583 L -93.28379846961231,44.29731942976698 L -93.28384892126435,44.29740360326317 L -93.2838908795325,44.297492316567634 L -93.28392394033573,44.29758471532274 L -93.2839477852804,44.29767990967798 L -93.28396218472668,44.297776982859666 L -93.283967,44.297875 L -93.28396218472668,44.29797301714033 L -93.2839477852804,44.298070090322014 L -93.28392394033573,44.29816528467725 L -93.2838908795325,44.29825768343236 L -93.28384892126435,44.298346396736825 L -93.28379846961231,44.298430570233016 L -93.28374001045336,44.298509393284164 L -93.28367410678119,44.29858210678118 L -93.28360139328416,44.29864801045336 L -93.28352257023302,44.2987064696123 L -93.28343839673683,44.29875692126435 L -93.28334968343236,44.29879887953251 L -93.28325728467725,44.29883194033573 L -93.28316209032201,44.2988557852804 L -93.28306501714033,44.29887018472667 L -93.282967,44.298874999999995 L -93.28286898285967,44.29887018472667 L -93.28277190967799,44.2988557852804 L -93.28267671532275,44.29883194033573 L -93.28258431656764,44.29879887953251 L -93.28249560326317,44.29875692126435 L -93.28241142976698,44.2987064696123 L -93.28233260671584,44.29864801045336 L -93.28225989321881,44.29858210678118 L -93.28219398954664,44.298509393284164 L -93.28213553038769,44.298430570233016 L -93.28208507873565,44.298346396736825 L -93.28204312046749,44.29825768343236 L -93.28201005966427,44.29816528467725 L -93.2819862147196,44.298070090322014 L -93.28197181527332,44.29797301714033 L -93.281967,44.297875 L -93.28197181527332,44.297776982859666 L -93.2819862147196,44.29767990967798 L -93.28201005966427,44.29758471532274 L -93.28204312046749,44.297492316567634 L -93.2820551081438,44.297466970755615 L -93.28204098954664,44.29745139328416 L -93.2819825303877,44.297372570233016 L -93.28193207873565,44.297288396736825 L -93.2818901204675,44.29719968343236 L -93.28185705966428,44.29710728467725 L -93.2818332147196,44.29701209032201 L -93.28181881527333,44.29691501714033 L -93.281814,44.296817 L -93.28181881527333,44.296718982859666 L -93.2818332147196,44.29662190967798 L -93.28185705966428,44.29652671532274 L -93.2818901204675,44.296434316567634 L -93.28193207873565,44.29634560326317 L -93.2819825303877,44.29626142976698 L -93.28204098954664,44.29618260671583 L -93.28210689321881,44.29610989321881 L -93.28217960671584,44.29604398954663 L -93.28225842976698,44.295985530387696 L -93.28234260326317,44.295935078735646 L -93.28243131656764,44.29589312046748 L -93.28252371532275,44.295860059664264 L -93.28261890967799,44.29583621471959 L -93.28271598285967,44.29582181527333 L -93.282814,44.295817 L -93.28291201714033,44.29582181527333 L -93.28300909032201,44.29583621471959 L -93.28310428467725,44.295860059664264 L -93.28319668343237,44.29589312046748 L -93.28328539673683,44.295935078735646 L -93.28336957023302,44.295985530387696 L -93.28344839328416,44.29604398954663 L -93.2835211067812,44.29610989321881 L -93.28358701045336,44.29618260671583 L -93.28364546961231,44.29626142976698 L -93.28369592126435,44.29634560326317 L -93.28373787953251,44.296434316567634 L -93.28377094033573,44.29652671532274 L -93.2837947852804,44.29662190967798 L -93.28380918472668,44.296718982859666 L -93.283814,44.296817 L -93.28380918472668,44.29691501714033 L -93.2837947852804,44.29701209032201 L -93.28377094033573,44.29710728467725 L -93.28373787953251,44.29719968343236 L -93.28372589185621,44.29722502924438 z\" /><path fill-rule=\"evenodd\" fill=\"#66cc99\" stroke=\"#555555\" stroke-width=\"0.06126131520000001\" opacity=\"0.6\" d=\"M -93.28289699999999,44.907397 L -93.28290181527332,44.90729898285967 L -93.28291621471959,44.90720190967799 L -93.28294005966427,44.90710671532275 L -93.28297312046749,44.90701431656764 L -93.28301507873564,44.906925603263176 L -93.28306553038769,44.906841429766985 L -93.28312398954664,44.90676260671584 L -93.2831898932188,44.90668989321882 L -93.28326260671584,44.90662398954664 L -93.28334142976698,44.9065655303877 L -93.28342560326317,44.90651507873565 L -93.28351431656763,44.90647312046749 L -93.28360671532275,44.90644005966427 L -93.28370190967799,44.9064162147196 L -93.28379898285966,44.906401815273334 L -93.283897,44.906397000000005 L -93.28399501714033,44.906401815273334 L -93.284092090322,44.9064162147196 L -93.28418728467724,44.90644005966427 L -93.28427968343236,44.90647312046749 L -93.28436839673682,44.90651507873565 L -93.28445257023301,44.9065655303877 L -93.28453139328415,44.90662398954664 L -93.28460410678119,44.90668989321882 L -93.28467001045335,44.90676260671584 L -93.2847284696123,44.906841429766985 L -93.28477892126435,44.906925603263176 L -93.2848208795325,44.90701431656764 L -93.28485394033572,44.90710671532275 L -93.2848777852804,44.90720190967799 L -93.28489218472667,44.90729898285967 L -93.284897,44.907397 L -93.28489218472667,44.907495017140334 L -93.2848777852804,44.90759209032202 L -93.28485394033572,44.90768728467726 L -93.2848208795325,44.907779683432366 L -93.28477892126435,44.90786839673683 L -93.2847284696123,44.90795257023302 L -93.28467001045335,44.90803139328417 L -93.28460410678119,44.90810410678119 L -93.28453139328415,44.90817001045337 L -93.28445257023301,44.908228469612304 L -93.28436839673682,44.908278921264355 L -93.28427968343236,44.90832087953252 L -93.28418728467724,44.908353940335736 L -93.284092090322,44.90837778528041 L -93.28399501714033,44.90839218472667 L -93.283897,44.908397 L -93.28379898285966,44.90839218472667 L -93.28370190967799,44.90837778528041 L -93.28360671532275,44.908353940335736 L -93.28351431656763,44.90832087953252 L -93.28342560326317,44.908278921264355 L -93.28334142976698,44.908228469612304 L -93.28326260671584,44.90817001045337 L -93.2831898932188,44.90810410678119 L -93.28312398954664,44.90803139328417 L -93.28306553038769,44.90795257023302 L -93.28301507873564,44.90786839673683 L -93.28297312046749,44.907779683432366 L -93.28294005966427,44.90768728467726 L -93.28291621471959,44.90759209032202 L -93.28290181527332,44.907495017140334 L -93.28289699999999,44.907397 z\" /><path fill-rule=\"evenodd\" fill=\"#66cc99\" stroke=\"#555555\" stroke-width=\"0.06126131520000001\" opacity=\"0.6\" d=\"M -93.283272,44.950286 L -93.28327681527333,44.95018798285967 L -93.2832912147196,44.95009090967798 L -93.28331505966428,44.94999571532274 L -93.2833481204675,44.949903316567635 L -93.28339007873565,44.94981460326317 L -93.2834405303877,44.94973042976698 L -93.28349898954664,44.94965160671583 L -93.28356489321881,44.94957889321881 L -93.28363760671584,44.94951298954663 L -93.28371642976698,44.9494545303877 L -93.28380060326317,44.94940407873565 L -93.28388931656764,44.949362120467484 L -93.28398171532275,44.949329059664265 L -93.28407690967799,44.949305214719594 L -93.28417398285967,44.94929081527333 L -93.284272,44.949286 L -93.28437001714033,44.94929081527333 L -93.28446709032201,44.949305214719594 L -93.28456228467725,44.949329059664265 L -93.28465468343236,44.949362120467484 L -93.28474339673683,44.94940407873565 L -93.28482757023302,44.9494545303877 L -93.28490639328416,44.94951298954663 L -93.2849791067812,44.94957889321881 L -93.28504501045336,44.94965160671583 L -93.28510346961231,44.94973042976698 L -93.28515392126435,44.94981460326317 L -93.28519587953251,44.949903316567635 L -93.28522894033573,44.94999571532274 L -93.2852527852804,44.95009090967798 L -93.28526718472668,44.95018798285967 L -93.285272,44.950286 L -93.28526718472668,44.95038401714033 L -93.2852527852804,44.950481090322015 L -93.28522894033573,44.950576284677254 L -93.28519587953251,44.95066868343236 L -93.28515392126435,44.950757396736826 L -93.28510346961231,44.95084157023302 L -93.28504501045336,44.950920393284164 L -93.2849791067812,44.95099310678118 L -93.28490639328416,44.95105901045336 L -93.28482757023302,44.9511174696123 L -93.28474339673683,44.95116792126435 L -93.28465468343236,44.95120987953251 L -93.28456228467725,44.95124294033573 L -93.28446709032201,44.9512667852804 L -93.28437001714033,44.95128118472667 L -93.284272,44.951285999999996 L -93.28417398285967,44.95128118472667 L -93.28407690967799,44.9512667852804 L -93.28398171532275,44.95124294033573 L -93.28388931656764,44.95120987953251 L -93.28380060326317,44.95116792126435 L -93.28371642976698,44.9511174696123 L -93.28363760671584,44.95105901045336 L -93.28356489321881,44.95099310678118 L -93.28349898954664,44.950920393284164 L -93.2834405303877,44.95084157023302 L -93.28339007873565,44.950757396736826 L -93.2833481204675,44.95066868343236 L -93.28331505966428,44.950576284677254 L -93.2832912147196,44.950481090322015 L -93.28327681527333,44.95038401714033 L -93.283272,44.950286 z\" /><path fill-rule=\"evenodd\" fill=\"#66cc99\" stroke=\"#555555\" stroke-width=\"0.06126131520000001\" opacity=\"0.6\" d=\"M -93.28603572844597,44.579058824997176 L -93.28605487953251,44.579099316567635 L -93.28608794033573,44.57919171532274 L -93.28611178528041,44.57928690967798 L -93.28612618472668,44.57938398285967 L -93.28613100000001,44.579482 L -93.28612618472668,44.57958001714033 L -93.28611178528041,44.579677090322015 L -93.28608794033573,44.579772284677254 L -93.28605487953251,44.57986468343236 L -93.28601292126436,44.579953396736826 L -93.28596246961231,44.58003757023302 L -93.28590401045336,44.580116393284165 L -93.2858381067812,44.580189106781184 L -93.28576539328417,44.580255010453364 L -93.28568657023303,44.5803134696123 L -93.28560239673683,44.58036392126435 L -93.28551368343237,44.58040587953251 L -93.28542128467726,44.58043894033573 L -93.28532609032202,44.5804627852804 L -93.28522901714034,44.58047718472667 L -93.285131,44.580481999999996 L -93.28503298285968,44.58047718472667 L -93.284935909678,44.5804627852804 L -93.28484071532276,44.58043894033573 L -93.28474831656764,44.58040587953251 L -93.28465960326318,44.58036392126435 L -93.28457542976699,44.5803134696123 L -93.28449660671585,44.580255010453364 L -93.28442389321881,44.580189106781184 L -93.28435798954665,44.580116393284165 L -93.2842995303877,44.58003757023302 L -93.28424907873566,44.579953396736826 L -93.2842071204675,44.57986468343236 L -93.28417405966428,44.579772284677254 L -93.2841502147196,44.579677090322015 L -93.28413581527333,44.57958001714033 L -93.284131,44.579482 L -93.28413581527333,44.57938398285967 L -93.2841502147196,44.57928690967798 L -93.28417405966428,44.57919171532274 L -93.28418427155404,44.579163175002826 L -93.28416512046749,44.57912268343237 L -93.28413205966427,44.57903028467726 L -93.2841082147196,44.57893509032202 L -93.28409381527332,44.578838017140335 L -93.284089,44.57874 L -93.28409381527332,44.57864198285967 L -93.2841082147196,44.57854490967799 L -93.28413205966427,44.57844971532275 L -93.28416512046749,44.57835731656764 L -93.28420707873565,44.578268603263176 L -93.28425753038769,44.578184429766985 L -93.28431598954664,44.57810560671584 L -93.28438189321881,44.57803289321882 L -93.28445460671584,44.57796698954664 L -93.28453342976698,44.5779085303877 L -93.28461760326317,44.57785807873565 L -93.28470631656764,44.57781612046749 L -93.28479871532275,44.57778305966427 L -93.28489390967799,44.5777592147196 L -93.28499098285967,44.577744815273334 L -93.285089,44.577740000000006 L -93.28518701714033,44.577744815273334 L -93.28528409032201,44.5777592147196 L -93.28537928467725,44.57778305966427 L -93.28547168343236,44.57781612046749 L -93.28556039673683,44.57785807873565 L -93.28564457023302,44.5779085303877 L -93.28572339328416,44.57796698954664 L -93.28579610678119,44.57803289321882 L -93.28586201045336,44.57810560671584 L -93.28592046961231,44.578184429766985 L -93.28597092126435,44.578268603263176 L -93.2860128795325,44.57835731656764 L -93.28604594033573,44.57844971532275 L -93.2860697852804,44.57854490967799 L -93.28608418472668,44.57864198285967 L -93.286089,44.57874 L -93.28608418472668,44.578838017140335 L -93.2860697852804,44.57893509032202 L -93.28604594033573,44.57903028467726 L -93.28603572844597,44.579058824997176 z\" /><path fill-rule=\"evenodd\" fill=\"#66cc99\" stroke=\"#555555\" stroke-width=\"0.06126131520000001\" opacity=\"0.6\" d=\"M -93.285444,45.031222 L -93.28544881527333,45.03112398285967 L -93.2854632147196,45.03102690967798 L -93.28548705966428,45.030931715322744 L -93.2855201204675,45.030839316567636 L -93.28556207873565,45.03075060326317 L -93.2856125303877,45.03066642976698 L -93.28567098954665,45.030587606715834 L -93.28573689321881,45.030514893218815 L -93.28580960671584,45.030448989546635 L -93.28588842976698,45.0303905303877 L -93.28597260326318,45.03034007873565 L -93.28606131656764,45.030298120467485 L -93.28615371532275,45.030265059664266 L -93.286248909678,45.030241214719595 L -93.28634598285967,45.03022681527333 L -93.286444,45.030222 L -93.28654201714033,45.03022681527333 L -93.28663909032201,45.030241214719595 L -93.28673428467725,45.030265059664266 L -93.28682668343237,45.030298120467485 L -93.28691539673683,45.03034007873565 L -93.28699957023302,45.0303905303877 L -93.28707839328416,45.030448989546635 L -93.2871511067812,45.030514893218815 L -93.28721701045336,45.030587606715834 L -93.28727546961231,45.03066642976698 L -93.28732592126435,45.03075060326317 L -93.28736787953251,45.030839316567636 L -93.28740094033573,45.030931715322744 L -93.28742478528041,45.03102690967798 L -93.28743918472668,45.03112398285967 L -93.28744400000001,45.031222 L -93.28743918472668,45.03132001714033 L -93.28742478528041,45.031417090322016 L -93.28740094033573,45.031512284677255 L -93.28736787953251,45.03160468343236 L -93.28732592126435,45.03169339673683 L -93.28727546961231,45.03177757023302 L -93.28721701045336,45.031856393284166 L -93.2871511067812,45.031929106781185 L -93.28707839328416,45.031995010453365 L -93.28699957023302,45.0320534696123 L -93.28691539673683,45.03210392126435 L -93.28682668343237,45.032145879532514 L -93.28673428467725,45.03217894033573 L -93.28663909032201,45.032202785280404 L -93.28654201714033,45.03221718472667 L -93.286444,45.032222 L -93.28634598285967,45.03221718472667 L -93.286248909678,45.032202785280404 L -93.28615371532275,45.03217894033573 L -93.28606131656764,45.032145879532514 L -93.28597260326318,45.03210392126435 L -93.28588842976698,45.0320534696123 L -93.28580960671584,45.031995010453365 L -93.28573689321881,45.031929106781185 L -93.28567098954665,45.031856393284166 L -93.2856125303877,45.03177757023302 L -93.28556207873565,45.03169339673683 L -93.2855201204675,45.03160468343236 L -93.28548705966428,45.031512284677255 L -93.2854632147196,45.031417090322016 L -93.28544881527333,45.03132001714033 L -93.285444,45.031222 z\" /><path fill-rule=\"evenodd\" fill=\"#66cc99\" stroke=\"#555555\" stroke-width=\"0.06126131520000001\" opacity=\"0.6\" d=\"M -93.287078,44.986953 L -93.28708281527332,44.98685498285967 L -93.2870972147196,44.98675790967798 L -93.28712105966427,44.986662715322744 L -93.28715412046749,44.98657031656764 L -93.28719607873565,44.98648160326317 L -93.28724653038769,44.98639742976698 L -93.28730498954664,44.986318606715834 L -93.2873708932188,44.986245893218815 L -93.28744360671584,44.986179989546635 L -93.28752242976698,44.9861215303877 L -93.28760660326317,44.98607107873565 L -93.28769531656764,44.986029120467485 L -93.28778771532275,44.98599605966427 L -93.28788290967799,44.985972214719595 L -93.28797998285967,44.98595781527333 L -93.288078,44.985953 L -93.28817601714033,44.98595781527333 L -93.28827309032201,44.985972214719595 L -93.28836828467725,44.98599605966427 L -93.28846068343236,44.986029120467485 L -93.28854939673683,44.98607107873565 L -93.28863357023302,44.9861215303877 L -93.28871239328416,44.986179989546635 L -93.28878510678119,44.986245893218815 L -93.28885101045336,44.986318606715834 L -93.2889094696123,44.98639742976698 L -93.28895992126435,44.98648160326317 L -93.2890018795325,44.98657031656764 L -93.28903494033572,44.986662715322744 L -93.2890587852804,44.98675790967798 L -93.28907318472667,44.98685498285967 L -93.289078,44.986953 L -93.28907318472667,44.98705101714033 L -93.2890587852804,44.987148090322016 L -93.28903494033572,44.987243284677255 L -93.2890018795325,44.98733568343236 L -93.28895992126435,44.98742439673683 L -93.2889094696123,44.98750857023302 L -93.28885101045336,44.987587393284166 L -93.28878510678119,44.987660106781185 L -93.28871239328416,44.987726010453365 L -93.28863357023302,44.9877844696123 L -93.28854939673683,44.98783492126435 L -93.28846068343236,44.987876879532514 L -93.28836828467725,44.98790994033573 L -93.28827309032201,44.987933785280404 L -93.28817601714033,44.98794818472667 L -93.288078,44.987953 L -93.28797998285967,44.98794818472667 L -93.28788290967799,44.987933785280404 L -93.28778771532275,44.98790994033573 L -93.28769531656764,44.987876879532514 L -93.28760660326317,44.98783492126435 L -93.28752242976698,44.9877844696123 L -93.28744360671584,44.987726010453365 L -93.2873708932188,44.987660106781185 L -93.28730498954664,44.987587393284166 L -93.28724653038769,44.98750857023302 L -93.28719607873565,44.98742439673683 L -93.28715412046749,44.98733568343236 L -93.28712105966427,44.987243284677255 L -93.2870972147196,44.987148090322016 L -93.28708281527332,44.98705101714033 L -93.287078,44.986953 z\" /><path fill-rule=\"evenodd\" fill=\"#66cc99\" stroke=\"#555555\" stroke-width=\"0.06126131520000001\" opacity=\"0.6\" d=\"M -93.29128022294684,44.949510149410926 L -93.29134442976698,44.9494625303877 L -93.29142860326317,44.94941207873565 L -93.29151731656764,44.949370120467485 L -93.29160971532275,44.949337059664266 L -93.29170490967799,44.949313214719595 L -93.29180198285967,44.94929881527333 L -93.2919,44.949294 L -93.29199801714033,44.94929881527333 L -93.29209509032201,44.949313214719595 L -93.29219028467725,44.949337059664266 L -93.29228268343236,44.949370120467485 L -93.29237139673683,44.94941207873565 L -93.29245557023302,44.9494625303877 L -93.29253439328416,44.949520989546635 L -93.29260710678119,44.949586893218815 L -93.29267301045336,44.949659606715834 L -93.2927314696123,44.94973842976698 L -93.29278192126435,44.94982260326317 L -93.2928238795325,44.949911316567636 L -93.29285694033572,44.950003715322744 L -93.2928807852804,44.95009890967798 L -93.29289518472667,44.95019598285967 L -93.2929,44.950294 L -93.29289518472667,44.95039201714033 L -93.2928807852804,44.950489090322016 L -93.29285694033572,44.950584284677255 L -93.2928238795325,44.95067668343236 L -93.29278192126435,44.95076539673683 L -93.2927314696123,44.95084957023302 L -93.29267301045336,44.950928393284165 L -93.29260710678119,44.951001106781185 L -93.29253439328416,44.951067010453365 L -93.29245557023302,44.9511254696123 L -93.29237139673683,44.95117592126435 L -93.29228268343236,44.951217879532514 L -93.29219028467725,44.95125094033573 L -93.29209509032201,44.951274785280404 L -93.29199801714033,44.95128918472667 L -93.2919,44.951294 L -93.29180198285967,44.95128918472667 L -93.29170490967799,44.951274785280404 L -93.29160971532275,44.95125094033573 L -93.29151731656764,44.951217879532514 L -93.29142860326317,44.95117592126435 L -93.29134442976698,44.9511254696123 L -93.29126560671584,44.951067010453365 L -93.29124777705316,44.95105085058907 L -93.29118357023302,44.9510984696123 L -93.29109939673683,44.95114892126435 L -93.29101068343236,44.95119087953251 L -93.29091828467725,44.95122394033573 L -93.29082309032201,44.9512477852804 L -93.29072601714033,44.951262184726666 L -93.290628,44.951266999999994 L -93.29052998285967,44.951262184726666 L -93.29043290967799,44.9512477852804 L -93.29033771532275,44.95122394033573 L -93.29024531656763,44.95119087953251 L -93.29015660326317,44.95114892126435 L -93.29007242976698,44.9510984696123 L -93.28999360671584,44.95104001045336 L -93.2899208932188,44.95097410678118 L -93.28985498954664,44.95090139328416 L -93.28979653038769,44.950822570233015 L -93.28974607873565,44.950738396736824 L -93.28970412046749,44.95064968343236 L -93.28967105966427,44.95055728467725 L -93.2896472147196,44.95046209032201 L -93.28963281527332,44.95036501714033 L -93.289628,44.950267 L -93.28963281527332,44.950168982859665 L -93.2896472147196,44.95007190967798 L -93.28967105966427,44.94997671532274 L -93.28970412046749,44.94988431656763 L -93.28974607873565,44.94979560326317 L -93.28979653038769,44.94971142976698 L -93.28985498954664,44.94963260671583 L -93.2899208932188,44.94955989321881 L -93.28999360671584,44.94949398954663 L -93.29007242976698,44.949435530387696 L -93.29015660326317,44.949385078735645 L -93.29024531656763,44.94934312046748 L -93.29033771532275,44.94931005966426 L -93.29043290967799,44.94928621471959 L -93.29052998285967,44.94927181527333 L -93.290628,44.949267 L -93.29072601714033,44.94927181527333 L -93.29082309032201,44.94928621471959 L -93.29091828467725,44.94931005966426 L -93.29101068343236,44.94934312046748 L -93.29109939673683,44.949385078735645 L -93.29118357023302,44.949435530387696 L -93.29126239328416,44.94949398954663 L -93.29128022294684,44.949510149410926 z\" /><path fill-rule=\"evenodd\" fill=\"#66cc99\" stroke=\"#555555\" stroke-width=\"0.06126131520000001\" opacity=\"0.6\" d=\"M -93.291947,44.980131 L -93.29195181527332,44.98003298285967 L -93.2919662147196,44.979935909677984 L -93.29199005966427,44.979840715322744 L -93.29202312046749,44.97974831656764 L -93.29206507873565,44.97965960326317 L -93.29211553038769,44.97957542976698 L -93.29217398954664,44.979496606715834 L -93.2922398932188,44.979423893218815 L -93.29231260671584,44.979357989546635 L -93.29239142976698,44.9792995303877 L -93.29247560326317,44.97924907873565 L -93.29256431656763,44.979207120467485 L -93.29265671532275,44.97917405966427 L -93.29275190967799,44.979150214719596 L -93.29284898285967,44.97913581527333 L -93.292947,44.979131 L -93.29304501714033,44.97913581527333 L -93.29314209032201,44.979150214719596 L -93.29323728467725,44.97917405966427 L -93.29332968343236,44.979207120467485 L -93.29341839673683,44.97924907873565 L -93.29350257023302,44.9792995303877 L -93.29358139328416,44.979357989546635 L -93.29365410678119,44.979423893218815 L -93.29372001045336,44.979496606715834 L -93.2937784696123,44.97957542976698 L -93.29382892126435,44.97965960326317 L -93.2938708795325,44.97974831656764 L -93.29390394033572,44.979840715322744 L -93.2939277852804,44.979935909677984 L -93.29394218472667,44.98003298285967 L -93.293947,44.980131 L -93.29394218472667,44.98022901714033 L -93.2939277852804,44.980326090322016 L -93.29390394033572,44.980421284677256 L -93.2938708795325,44.98051368343236 L -93.29382892126435,44.98060239673683 L -93.2937784696123,44.98068657023302 L -93.29372001045336,44.980765393284166 L -93.29365410678119,44.980838106781185 L -93.29358139328416,44.980904010453365 L -93.29350257023302,44.9809624696123 L -93.29341839673683,44.98101292126435 L -93.29332968343236,44.981054879532515 L -93.29323728467725,44.98108794033573 L -93.29314209032201,44.981111785280405 L -93.29304501714033,44.98112618472667 L -93.292947,44.981131 L -93.29284898285967,44.98112618472667 L -93.29275190967799,44.981111785280405 L -93.29265671532275,44.98108794033573 L -93.29256431656763,44.981054879532515 L -93.29247560326317,44.98101292126435 L -93.29239142976698,44.9809624696123 L -93.29231260671584,44.980904010453365 L -93.2922398932188,44.980838106781185 L -93.29217398954664,44.980765393284166 L -93.29211553038769,44.98068657023302 L -93.29206507873565,44.98060239673683 L -93.29202312046749,44.98051368343236 L -93.29199005966427,44.980421284677256 L -93.2919662147196,44.980326090322016 L -93.29195181527332,44.98022901714033 L -93.291947,44.980131 z\" /><path fill-rule=\"evenodd\" fill=\"#66cc99\" stroke=\"#555555\" stroke-width=\"0.06126131520000001\" opacity=\"0.6\" d=\"M -93.29531221783171,45.15153272313079 L -93.29531418472668,45.151545982859666 L -93.295319,45.151644 L -93.29531418472668,45.15174201714033 L -93.2952997852804,45.151839090322014 L -93.29527594033573,45.15193428467725 L -93.29524287953251,45.15202668343236 L -93.29520092126435,45.152115396736825 L -93.29515046961231,45.152199570233016 L -93.29509201045336,45.15227839328416 L -93.2950261067812,45.15235110678118 L -93.29495339328416,45.15241701045336 L -93.29487457023302,45.1524754696123 L -93.29479039673683,45.15252592126435 L -93.29470168343236,45.15256787953251 L -93.29460928467725,45.15260094033573 L -93.29451409032201,45.1526247852804 L -93.29441701714033,45.15263918472667 L -93.294319,45.152643999999995 L -93.29422098285967,45.15263918472667 L -93.29412390967799,45.1526247852804 L -93.29402871532275,45.15260094033573 L -93.29393631656764,45.15256787953251 L -93.29384760326317,45.15252592126435 L -93.29376342976698,45.1524754696123 L -93.29375364156067,45.152468210183734 L -93.29372110678119,45.15250410678119 L -93.29364839328416,45.15257001045337 L -93.29356957023302,45.1526284696123 L -93.29348539673683,45.152678921264354 L -93.29339668343236,45.15272087953252 L -93.29330428467725,45.152753940335735 L -93.29320909032201,45.152777785280406 L -93.29311201714033,45.15279218472667 L -93.293014,45.152797 L -93.29291598285967,45.15279218472667 L -93.29281890967799,45.152777785280406 L -93.29272371532275,45.152753940335735 L -93.29263131656764,45.15272087953252 L -93.29254260326317,45.152678921264354 L -93.29245842976698,45.1526284696123 L -93.29237960671584,45.15257001045337 L -93.29230689321881,45.15250410678119 L -93.29224098954664,45.15243139328417 L -93.29218253038769,45.15235257023302 L -93.29213207873565,45.15226839673683 L -93.29209012046749,45.152179683432365 L -93.29205705966427,45.15208728467726 L -93.2920332147196,45.15199209032202 L -93.29201881527332,45.15189501714033 L -93.292014,45.151797 L -93.29201881527332,45.15169898285967 L -93.2920332147196,45.151601909677986 L -93.29205705966427,45.151506715322746 L -93.29209012046749,45.15141431656764 L -93.29213207873565,45.151325603263174 L -93.29218253038769,45.15124142976698 L -93.29224098954664,45.151162606715836 L -93.29230689321881,45.15108989321882 L -93.29237960671584,45.15102398954664 L -93.29245842976698,45.1509655303877 L -93.29254260326317,45.15091507873565 L -93.29263131656764,45.15087312046749 L -93.29272371532275,45.15084005966427 L -93.29281890967799,45.1508162147196 L -93.29291598285967,45.15080181527333 L -93.293014,45.150797000000004 L -93.29311201714033,45.15080181527333 L -93.29320909032201,45.1508162147196 L -93.29330428467725,45.15084005966427 L -93.29339668343236,45.15087312046749 L -93.29348539673683,45.15091507873565 L -93.29353390790159,45.15094415520884 L -93.29354098954664,45.150934606715836 L -93.29360689321881,45.15086189321882 L -93.29367960671584,45.15079598954664 L -93.29375842976698,45.1507375303877 L -93.29384260326317,45.15068707873565 L -93.29393131656764,45.15064512046749 L -93.29402371532275,45.15061205966427 L -93.29411890967799,45.1505882147196 L -93.29421598285967,45.15057381527333 L -93.294314,45.150569000000004 L -93.29441201714033,45.15057381527333 L -93.29450909032201,45.1505882147196 L -93.29460428467725,45.15061205966427 L -93.29469668343236,45.15064512046749 L -93.29478539673683,45.15068707873565 L -93.29486957023302,45.1507375303877 L -93.29494839328416,45.15079598954664 L -93.29502110678119,45.15086189321882 L -93.29508701045336,45.150934606715836 L -93.29514546961231,45.151013429766984 L -93.29519592126435,45.151097603263175 L -93.29523787953251,45.15118631656764 L -93.29527094033573,45.151278715322746 L -93.2952947852804,45.151373909677986 L -93.29530918472668,45.15147098285967 L -93.29531221783171,45.15153272313079 z\" /><path fill-rule=\"evenodd\" fill=\"#66cc99\" stroke=\"#555555\" stroke-width=\"0.06126131520000001\" opacity=\"0.6\" d=\"M -93.29248899999999,44.672944 L -93.29249381527332,44.67284598285967 L -93.29250821471959,44.672748909677985 L -93.29253205966427,44.672653715322745 L -93.29256512046749,44.67256131656764 L -93.29260707873564,44.672472603263174 L -93.29265753038769,44.67238842976698 L -93.29271598954664,44.672309606715835 L -93.2927818932188,44.672236893218816 L -93.29285460671584,44.672170989546636 L -93.29293342976698,44.6721125303877 L -93.29301760326317,44.67206207873565 L -93.29310631656763,44.67202012046749 L -93.29319871532275,44.67198705966427 L -93.29329390967798,44.6719632147196 L -93.29339098285966,44.67194881527333 L -93.293489,44.671944 L -93.29358701714033,44.67194881527333 L -93.293684090322,44.6719632147196 L -93.29377928467724,44.67198705966427 L -93.29387168343236,44.67202012046749 L -93.29396039673682,44.67206207873565 L -93.29404457023301,44.6721125303877 L -93.29412339328415,44.672170989546636 L -93.29419610678119,44.672236893218816 L -93.29426201045335,44.672309606715835 L -93.2943204696123,44.67238842976698 L -93.29437092126435,44.672472603263174 L -93.2944128795325,44.67256131656764 L -93.29444594033572,44.672653715322745 L -93.2944697852804,44.672748909677985 L -93.29448418472667,44.67284598285967 L -93.294489,44.672944 L -93.29448418472667,44.67304201714033 L -93.2944697852804,44.67313909032202 L -93.29444594033572,44.67323428467726 L -93.2944128795325,44.673326683432364 L -93.29437092126435,44.67341539673683 L -93.2943204696123,44.67349957023302 L -93.29426201045335,44.67357839328417 L -93.29419610678119,44.673651106781186 L -93.29412339328415,44.673717010453366 L -93.29404457023301,44.6737754696123 L -93.29396039673682,44.67382592126435 L -93.29387168343236,44.673867879532516 L -93.29377928467724,44.673900940335734 L -93.293684090322,44.673924785280406 L -93.29358701714033,44.67393918472667 L -93.293489,44.673944 L -93.29339098285966,44.67393918472667 L -93.29329390967798,44.673924785280406 L -93.29319871532275,44.673900940335734 L -93.29310631656763,44.673867879532516 L -93.29301760326317,44.67382592126435 L -93.29293342976698,44.6737754696123 L -93.29285460671584,44.673717010453366 L -93.2927818932188,44.673651106781186 L -93.29271598954664,44.67357839328417 L -93.29265753038769,44.67349957023302 L -93.29260707873564,44.67341539673683 L -93.29256512046749,44.673326683432364 L -93.29253205966427,44.67323428467726 L -93.29250821471959,44.67313909032202 L -93.29249381527332,44.67304201714033 L -93.29248899999999,44.672944 z\" /><path fill-rule=\"evenodd\" fill=\"#66cc99\" stroke=\"#555555\" stroke-width=\"0.06126131520000001\" opacity=\"0.6\" d=\"M -93.292853,44.889753 L -93.29285781527332,44.88965498285967 L -93.2928722147196,44.88955790967798 L -93.29289605966427,44.88946271532274 L -93.29292912046749,44.889370316567636 L -93.29297107873565,44.88928160326317 L -93.29302153038769,44.88919742976698 L -93.29307998954664,44.88911860671583 L -93.2931458932188,44.889045893218814 L -93.29321860671584,44.888979989546634 L -93.29329742976698,44.8889215303877 L -93.29338160326317,44.88887107873565 L -93.29347031656764,44.888829120467484 L -93.29356271532275,44.888796059664266 L -93.29365790967799,44.888772214719594 L -93.29375498285967,44.88875781527333 L -93.293853,44.888753 L -93.29395101714033,44.88875781527333 L -93.29404809032201,44.888772214719594 L -93.29414328467725,44.888796059664266 L -93.29423568343236,44.888829120467484 L -93.29432439673683,44.88887107873565 L -93.29440857023302,44.8889215303877 L -93.29448739328416,44.888979989546634 L -93.29456010678119,44.889045893218814 L -93.29462601045336,44.88911860671583 L -93.2946844696123,44.88919742976698 L -93.29473492126435,44.88928160326317 L -93.2947768795325,44.889370316567636 L -93.29480994033572,44.88946271532274 L -93.2948337852804,44.88955790967798 L -93.29484818472667,44.88965498285967 L -93.294853,44.889753 L -93.29484818472667,44.88985101714033 L -93.2948337852804,44.889948090322015 L -93.29480994033572,44.890043284677255 L -93.2947768795325,44.89013568343236 L -93.29473492126435,44.890224396736826 L -93.2946844696123,44.89030857023302 L -93.29462601045336,44.890387393284165 L -93.29456010678119,44.890460106781184 L -93.29448739328416,44.890526010453364 L -93.29440857023302,44.8905844696123 L -93.29432439673683,44.89063492126435 L -93.29423568343236,44.89067687953251 L -93.29414328467725,44.89070994033573 L -93.29404809032201,44.8907337852804 L -93.29395101714033,44.89074818472667 L -93.293853,44.890753 L -93.29375498285967,44.89074818472667 L -93.29365790967799,44.8907337852804 L -93.29356271532275,44.89070994033573 L -93.29347031656764,44.89067687953251 L -93.29338160326317,44.89063492126435 L -93.29329742976698,44.8905844696123 L -93.29321860671584,44.890526010453364 L -93.2931458932188,44.890460106781184 L -93.29307998954664,44.890387393284165 L -93.29302153038769,44.89030857023302 L -93.29297107873565,44.890224396736826 L -93.29292912046749,44.89013568343236 L -93.29289605966427,44.890043284677255 L -93.2928722147196,44.889948090322015 L -93.29285781527332,44.88985101714033 L -93.292853,44.889753 z\" /><path fill-rule=\"evenodd\" fill=\"#66cc99\" stroke=\"#555555\" stroke-width=\"0.06126131520000001\" opacity=\"0.6\" d=\"M -93.30593623311991,44.950165969910294 L -93.30597098285966,44.95016081527333 L -93.306069,44.950156 L -93.30616701714033,44.95016081527333 L -93.306264090322,44.95017521471959 L -93.30635928467724,44.950199059664264 L -93.30645168343236,44.95023212046748 L -93.30654039673682,44.950274078735646 L -93.30662457023301,44.9503245303877 L -93.30670339328415,44.95038298954663 L -93.30677610678119,44.95044889321881 L -93.30684201045335,44.95052160671583 L -93.3069004696123,44.95060042976698 L -93.30695092126435,44.95068460326317 L -93.3069928795325,44.950773316567634 L -93.30702594033572,44.95086571532274 L -93.3070497852804,44.95096090967798 L -93.30706418472667,44.951057982859666 L -93.307069,44.951156 L -93.30706418472667,44.95125401714033 L -93.3070497852804,44.951351090322014 L -93.30702594033572,44.95144628467725 L -93.3069928795325,44.95153868343236 L -93.30695092126435,44.951627396736825 L -93.3069004696123,44.951711570233016 L -93.30684201045335,44.95179039328416 L -93.30677610678119,44.95186310678118 L -93.30670339328415,44.95192901045336 L -93.30662457023301,44.9519874696123 L -93.30654039673682,44.95203792126435 L -93.30645168343236,44.95207987953251 L -93.30635928467724,44.95211294033573 L -93.306264090322,44.9521367852804 L -93.30616701714033,44.95215118472667 L -93.306069,44.952155999999995 L -93.30597098285966,44.95215118472667 L -93.30587390967798,44.9521367852804 L -93.30577871532275,44.95211294033573 L -93.30568631656763,44.95207987953251 L -93.30559760326317,44.95203792126435 L -93.30551342976698,44.9519874696123 L -93.30543460671583,44.95192901045336 L -93.3053618932188,44.95186310678118 L -93.30529598954664,44.95179039328416 L -93.30523753038769,44.951711570233016 L -93.30518707873564,44.951627396736825 L -93.30514512046749,44.95153868343236 L -93.30511876688008,44.9514650300897 L -93.30508401714033,44.951470184726666 L -93.304986,44.951474999999995 L -93.30488798285967,44.951470184726666 L -93.30479090967799,44.9514557852804 L -93.30469571532275,44.95143194033573 L -93.30460331656764,44.95139887953251 L -93.30451460326317,44.95135692126435 L -93.30443042976698,44.9513064696123 L -93.30435160671584,44.95124801045336 L -93.30427889321881,44.95118210678118 L -93.30421298954664,44.95110939328416 L -93.30415453038769,44.951030570233016 L -93.30410407873565,44.950946396736825 L -93.30406212046749,44.95085768343236 L -93.30402905966427,44.95076528467725 L -93.3040052147196,44.95067009032201 L -93.30399081527332,44.95057301714033 L -93.303986,44.950475 L -93.30399081527332,44.950376982859666 L -93.3040052147196,44.95027990967798 L -93.30402905966427,44.95018471532274 L -93.30406212046749,44.950092316567634 L -93.30410407873565,44.95000360326317 L -93.30415453038769,44.94991942976698 L -93.30421298954664,44.94984060671583 L -93.30427889321881,44.94976789321881 L -93.30435160671584,44.94970198954663 L -93.30443042976698,44.949643530387696 L -93.30451460326317,44.949593078735646 L -93.30460331656764,44.94955112046748 L -93.30469571532275,44.949518059664264 L -93.30479090967799,44.94949421471959 L -93.30488798285967,44.94947981527333 L -93.304986,44.949475 L -93.30508401714033,44.94947981527333 L -93.30518109032201,44.94949421471959 L -93.30527628467725,44.949518059664264 L -93.30536868343236,44.94955112046748 L -93.30545739673683,44.949593078735646 L -93.30554157023302,44.949643530387696 L -93.30562039328416,44.94970198954663 L -93.30569310678119,44.94976789321881 L -93.30575901045336,44.94984060671583 L -93.30581746961231,44.94991942976698 L -93.30586792126435,44.95000360326317 L -93.3059098795325,44.950092316567634 L -93.30593623311991,44.950165969910294 z\" /><path fill-rule=\"evenodd\" fill=\"#66cc99\" stroke=\"#555555\" stroke-width=\"0.06126131520000001\" opacity=\"0.6\" d=\"M -93.307328,44.931197 L -93.30733281527333,44.931098982859666 L -93.3073472147196,44.93100190967798 L -93.30737105966428,44.93090671532274 L -93.3074041204675,44.930814316567634 L -93.30744607873565,44.93072560326317 L -93.3074965303877,44.93064142976698 L -93.30755498954665,44.93056260671583 L -93.30762089321881,44.93048989321881 L -93.30769360671584,44.93042398954663 L -93.30777242976698,44.9303655303877 L -93.30785660326318,44.930315078735646 L -93.30794531656764,44.93027312046748 L -93.30803771532275,44.930240059664264 L -93.308132909678,44.93021621471959 L -93.30822998285967,44.93020181527333 L -93.308328,44.930197 L -93.30842601714033,44.93020181527333 L -93.30852309032201,44.93021621471959 L -93.30861828467725,44.930240059664264 L -93.30871068343237,44.93027312046748 L -93.30879939673683,44.930315078735646 L -93.30888357023302,44.9303655303877 L -93.30896239328416,44.93042398954663 L -93.3090351067812,44.93048989321881 L -93.30910101045336,44.93056260671583 L -93.30915946961231,44.93064142976698 L -93.30920992126435,44.93072560326317 L -93.30925187953251,44.930814316567634 L -93.30928494033573,44.93090671532274 L -93.30930878528041,44.93100190967798 L -93.30932318472668,44.931098982859666 L -93.30932800000001,44.931197 L -93.30932318472668,44.93129501714033 L -93.30930878528041,44.931392090322014 L -93.30928494033573,44.93148728467725 L -93.30925187953251,44.93157968343236 L -93.30920992126435,44.931668396736825 L -93.30915946961231,44.931752570233016 L -93.30910101045336,44.93183139328416 L -93.3090351067812,44.93190410678118 L -93.30896239328416,44.93197001045336 L -93.30888357023302,44.9320284696123 L -93.30879939673683,44.93207892126435 L -93.30871068343237,44.93212087953251 L -93.30861828467725,44.93215394033573 L -93.30852309032201,44.9321777852804 L -93.30842601714033,44.93219218472667 L -93.308328,44.932196999999995 L -93.30822998285967,44.93219218472667 L -93.308132909678,44.9321777852804 L -93.30803771532275,44.93215394033573 L -93.30794531656764,44.93212087953251 L -93.30785660326318,44.93207892126435 L -93.30777242976698,44.9320284696123 L -93.30769360671584,44.93197001045336 L -93.30762089321881,44.93190410678118 L -93.30755498954665,44.93183139328416 L -93.3074965303877,44.931752570233016 L -93.30744607873565,44.931668396736825 L -93.3074041204675,44.93157968343236 L -93.30737105966428,44.93148728467725 L -93.3073472147196,44.931392090322014 L -93.30733281527333,44.93129501714033 L -93.307328,44.931197 z\" /><path fill-rule=\"evenodd\" fill=\"#66cc99\" stroke=\"#555555\" stroke-width=\"0.06126131520000001\" opacity=\"0.6\" d=\"M -93.307661,44.908122 L -93.30766581527332,44.90802398285967 L -93.3076802147196,44.90792690967798 L -93.30770405966427,44.90783171532274 L -93.3077371204675,44.907739316567636 L -93.30777907873565,44.90765060326317 L -93.30782953038769,44.90756642976698 L -93.30788798954664,44.90748760671583 L -93.30795389321881,44.907414893218814 L -93.30802660671584,44.907348989546634 L -93.30810542976698,44.9072905303877 L -93.30818960326317,44.90724007873565 L -93.30827831656764,44.907198120467484 L -93.30837071532275,44.907165059664266 L -93.30846590967799,44.907141214719594 L -93.30856298285967,44.90712681527333 L -93.308661,44.907122 L -93.30875901714033,44.90712681527333 L -93.30885609032201,44.907141214719594 L -93.30895128467725,44.907165059664266 L -93.30904368343236,44.907198120467484 L -93.30913239673683,44.90724007873565 L -93.30921657023302,44.9072905303877 L -93.30929539328416,44.907348989546634 L -93.30936810678119,44.907414893218814 L -93.30943401045336,44.90748760671583 L -93.30949246961231,44.90756642976698 L -93.30954292126435,44.90765060326317 L -93.30958487953251,44.907739316567636 L -93.30961794033573,44.90783171532274 L -93.3096417852804,44.90792690967798 L -93.30965618472668,44.90802398285967 L -93.309661,44.908122 L -93.30965618472668,44.90822001714033 L -93.3096417852804,44.908317090322015 L -93.30961794033573,44.908412284677254 L -93.30958487953251,44.90850468343236 L -93.30954292126435,44.908593396736826 L -93.30949246961231,44.90867757023302 L -93.30943401045336,44.908756393284165 L -93.30936810678119,44.908829106781184 L -93.30929539328416,44.908895010453364 L -93.30921657023302,44.9089534696123 L -93.30913239673683,44.90900392126435 L -93.30904368343236,44.90904587953251 L -93.30895128467725,44.90907894033573 L -93.30885609032201,44.9091027852804 L -93.30875901714033,44.90911718472667 L -93.308661,44.909121999999996 L -93.30856298285967,44.90911718472667 L -93.30846590967799,44.9091027852804 L -93.30837071532275,44.90907894033573 L -93.30827831656764,44.90904587953251 L -93.30818960326317,44.90900392126435 L -93.30810542976698,44.9089534696123 L -93.30802660671584,44.908895010453364 L -93.30795389321881,44.908829106781184 L -93.30788798954664,44.908756393284165 L -93.30782953038769,44.90867757023302 L -93.30777907873565,44.908593396736826 L -93.3077371204675,44.90850468343236 L -93.30770405966427,44.908412284677254 L -93.3076802147196,44.908317090322015 L -93.30766581527332,44.90822001714033 L -93.307661,44.908122 z\" /><path fill-rule=\"evenodd\" fill=\"#66cc99\" stroke=\"#555555\" stroke-width=\"0.06126131520000001\" opacity=\"0.6\" d=\"M -93.31097199999999,44.815931 L -93.31097681527332,44.81583298285967 L -93.31099121471959,44.81573590967798 L -93.31101505966427,44.81564071532274 L -93.31104812046749,44.815548316567636 L -93.31109007873565,44.81545960326317 L -93.31114053038769,44.81537542976698 L -93.31119898954664,44.81529660671583 L -93.3112648932188,44.815223893218814 L -93.31133760671584,44.815157989546634 L -93.31141642976698,44.8150995303877 L -93.31150060326317,44.81504907873565 L -93.31158931656763,44.815007120467484 L -93.31168171532275,44.814974059664266 L -93.31177690967799,44.814950214719595 L -93.31187398285967,44.81493581527333 L -93.311972,44.814931 L -93.31207001714033,44.81493581527333 L -93.312167090322,44.814950214719595 L -93.31226228467725,44.814974059664266 L -93.31235468343236,44.815007120467484 L -93.31244339673682,44.81504907873565 L -93.31252757023302,44.8150995303877 L -93.31260639328416,44.815157989546634 L -93.31267910678119,44.815223893218814 L -93.31274501045336,44.81529660671583 L -93.3128034696123,44.81537542976698 L -93.31285392126435,44.81545960326317 L -93.3128958795325,44.815548316567636 L -93.31292894033572,44.81564071532274 L -93.3129527852804,44.81573590967798 L -93.31296718472667,44.81583298285967 L -93.312972,44.815931 L -93.31296718472667,44.81602901714033 L -93.3129527852804,44.816126090322015 L -93.31292894033572,44.816221284677255 L -93.3128958795325,44.81631368343236 L -93.31285392126435,44.81640239673683 L -93.3128034696123,44.81648657023302 L -93.31274501045336,44.816565393284165 L -93.31267910678119,44.816638106781184 L -93.31260639328416,44.816704010453364 L -93.31252757023302,44.8167624696123 L -93.31244339673682,44.81681292126435 L -93.31235468343236,44.816854879532514 L -93.31226228467725,44.81688794033573 L -93.312167090322,44.8169117852804 L -93.31207001714033,44.81692618472667 L -93.311972,44.816931 L -93.31187398285967,44.81692618472667 L -93.31177690967799,44.8169117852804 L -93.31168171532275,44.81688794033573 L -93.31158931656763,44.816854879532514 L -93.31150060326317,44.81681292126435 L -93.31141642976698,44.8167624696123 L -93.31133760671584,44.816704010453364 L -93.3112648932188,44.816638106781184 L -93.31119898954664,44.816565393284165 L -93.31114053038769,44.81648657023302 L -93.31109007873565,44.81640239673683 L -93.31104812046749,44.81631368343236 L -93.31101505966427,44.816221284677255 L -93.31099121471959,44.816126090322015 L -93.31097681527332,44.81602901714033 L -93.31097199999999,44.815931 z\" /><path fill-rule=\"evenodd\" fill=\"#66cc99\" stroke=\"#555555\" stroke-width=\"0.06126131520000001\" opacity=\"0.6\" d=\"M -93.311033,44.954711 L -93.31103781527332,44.95461298285967 L -93.3110522147196,44.95451590967799 L -93.31107605966427,44.95442071532275 L -93.31110912046749,44.95432831656764 L -93.31115107873565,44.954239603263176 L -93.31120153038769,44.954155429766985 L -93.31125998954664,44.95407660671584 L -93.31132589321881,44.95400389321882 L -93.31139860671584,44.95393798954664 L -93.31147742976698,44.9538795303877 L -93.31156160326317,44.95382907873565 L -93.31165031656764,44.95378712046749 L -93.31174271532275,44.95375405966427 L -93.31183790967799,44.9537302147196 L -93.31193498285967,44.953715815273334 L -93.312033,44.953711000000006 L -93.31213101714033,44.953715815273334 L -93.31222809032201,44.9537302147196 L -93.31232328467725,44.95375405966427 L -93.31241568343236,44.95378712046749 L -93.31250439673683,44.95382907873565 L -93.31258857023302,44.9538795303877 L -93.31266739328416,44.95393798954664 L -93.31274010678119,44.95400389321882 L -93.31280601045336,44.95407660671584 L -93.31286446961231,44.954155429766985 L -93.31291492126435,44.954239603263176 L -93.3129568795325,44.95432831656764 L -93.31298994033573,44.95442071532275 L -93.3130137852804,44.95451590967799 L -93.31302818472668,44.95461298285967 L -93.313033,44.954711 L -93.31302818472668,44.954809017140335 L -93.3130137852804,44.95490609032202 L -93.31298994033573,44.95500128467726 L -93.3129568795325,44.955093683432366 L -93.31291492126435,44.95518239673683 L -93.31286446961231,44.95526657023302 L -93.31280601045336,44.95534539328417 L -93.31274010678119,44.95541810678119 L -93.31266739328416,44.95548401045337 L -93.31258857023302,44.955542469612304 L -93.31250439673683,44.955592921264355 L -93.31241568343236,44.95563487953252 L -93.31232328467725,44.955667940335736 L -93.31222809032201,44.95569178528041 L -93.31213101714033,44.95570618472667 L -93.312033,44.955711 L -93.31193498285967,44.95570618472667 L -93.31183790967799,44.95569178528041 L -93.31174271532275,44.955667940335736 L -93.31165031656764,44.95563487953252 L -93.31156160326317,44.955592921264355 L -93.31147742976698,44.955542469612304 L -93.31139860671584,44.95548401045337 L -93.31132589321881,44.95541810678119 L -93.31125998954664,44.95534539328417 L -93.31120153038769,44.95526657023302 L -93.31115107873565,44.95518239673683 L -93.31110912046749,44.955093683432366 L -93.31107605966427,44.95500128467726 L -93.3110522147196,44.95490609032202 L -93.31103781527332,44.954809017140335 L -93.311033,44.954711 z\" /><path fill-rule=\"evenodd\" fill=\"#66cc99\" stroke=\"#555555\" stroke-width=\"0.06126131520000001\" opacity=\"0.6\" d=\"M -93.31761900000001,44.950986 L -93.31761418472668,44.95108401714033 L -93.31759978528041,44.95118109032202 L -93.31757594033573,44.951276284677256 L -93.31754287953251,44.951368683432364 L -93.31750092126435,44.95145739673683 L -93.31745046961231,44.95154157023302 L -93.31739201045336,44.951620393284166 L -93.3173261067812,44.951693106781185 L -93.31725339328416,44.951759010453365 L -93.31717457023302,44.9518174696123 L -93.31709039673683,44.95186792126435 L -93.31700168343237,44.951909879532515 L -93.31690928467725,44.951942940335734 L -93.31681409032201,44.951966785280405 L -93.31671701714033,44.95198118472667 L -93.316619,44.951986 L -93.31652098285967,44.95198118472667 L -93.316423909678,44.951966785280405 L -93.31632871532275,44.951942940335734 L -93.31623631656764,44.951909879532515 L -93.31614760326318,44.95186792126435 L -93.31606342976698,44.9518174696123 L -93.31598460671584,44.951759010453365 L -93.31591189321881,44.951693106781185 L -93.31584598954665,44.951620393284166 L -93.3157875303877,44.95154157023302 L -93.31573707873565,44.95145739673683 L -93.3156951204675,44.951368683432364 L -93.31566205966428,44.951276284677256 L -93.3156382147196,44.95118109032202 L -93.31562381527333,44.95108401714033 L -93.315619,44.950986 L -93.31562381527333,44.95088798285967 L -93.3156382147196,44.950790909677984 L -93.31566205966428,44.950695715322745 L -93.3156951204675,44.95060331656764 L -93.31573707873565,44.95051460326317 L -93.3157875303877,44.95043042976698 L -93.31584598954665,44.950351606715834 L -93.31591189321881,44.950278893218815 L -93.31598460671584,44.950212989546635 L -93.31606342976698,44.9501545303877 L -93.31614760326318,44.95010407873565 L -93.31623631656764,44.950062120467486 L -93.31632871532275,44.95002905966427 L -93.316423909678,44.950005214719596 L -93.31652098285967,44.94999081527333 L -93.316619,44.949986 L -93.31671701714033,44.94999081527333 L -93.31681409032201,44.950005214719596 L -93.31690928467725,44.95002905966427 L -93.31700168343237,44.950062120467486 L -93.31709039673683,44.95010407873565 L -93.31717457023302,44.9501545303877 L -93.31725339328416,44.950212989546635 L -93.3173261067812,44.950278893218815 L -93.31739201045336,44.950351606715834 L -93.31745046961231,44.95043042976698 L -93.31750092126435,44.95051460326317 L -93.31754287953251,44.95060331656764 L -93.31757594033573,44.950695715322745 L -93.31759978528041,44.950790909677984 L -93.31761418472668,44.95088798285967 L -93.31761900000001,44.950986 z\" /><path fill-rule=\"evenodd\" fill=\"#66cc99\" stroke=\"#555555\" stroke-width=\"0.06126131520000001\" opacity=\"0.6\" d=\"M -93.320511,44.993503 L -93.32051581527332,44.993404982859666 L -93.3205302147196,44.99330790967798 L -93.32055405966427,44.99321271532274 L -93.3205871204675,44.993120316567634 L -93.32062907873565,44.99303160326317 L -93.3206795303877,44.99294742976698 L -93.32073798954664,44.99286860671583 L -93.32080389321881,44.99279589321881 L -93.32087660671584,44.99272998954663 L -93.32095542976698,44.992671530387696 L -93.32103960326317,44.992621078735645 L -93.32112831656764,44.99257912046748 L -93.32122071532275,44.992546059664264 L -93.32131590967799,44.99252221471959 L -93.32141298285967,44.99250781527333 L -93.321511,44.992503 L -93.32160901714033,44.99250781527333 L -93.32170609032201,44.99252221471959 L -93.32180128467725,44.992546059664264 L -93.32189368343236,44.99257912046748 L -93.32198239673683,44.992621078735645 L -93.32206657023302,44.992671530387696 L -93.32214539328416,44.99272998954663 L -93.3222181067812,44.99279589321881 L -93.32228401045336,44.99286860671583 L -93.32234246961231,44.99294742976698 L -93.32239292126435,44.99303160326317 L -93.32243487953251,44.993120316567634 L -93.32246794033573,44.99321271532274 L -93.3224917852804,44.99330790967798 L -93.32250618472668,44.993404982859666 L -93.322511,44.993503 L -93.32250618472668,44.99360101714033 L -93.3224917852804,44.99369809032201 L -93.32246794033573,44.99379328467725 L -93.32243487953251,44.99388568343236 L -93.32239292126435,44.993974396736824 L -93.32234246961231,44.994058570233015 L -93.32228401045336,44.99413739328416 L -93.3222181067812,44.99421010678118 L -93.32214539328416,44.99427601045336 L -93.32206657023302,44.9943344696123 L -93.32198239673683,44.99438492126435 L -93.32189368343236,44.99442687953251 L -93.32180128467725,44.99445994033573 L -93.32170609032201,44.9944837852804 L -93.32160901714033,44.994498184726666 L -93.321511,44.994502999999995 L -93.32141298285967,44.994498184726666 L -93.32131590967799,44.9944837852804 L -93.32122071532275,44.99445994033573 L -93.32112831656764,44.99442687953251 L -93.32103960326317,44.99438492126435 L -93.32095542976698,44.9943344696123 L -93.32087660671584,44.99427601045336 L -93.32080389321881,44.99421010678118 L -93.32073798954664,44.99413739328416 L -93.3206795303877,44.994058570233015 L -93.32062907873565,44.993974396736824 L -93.3205871204675,44.99388568343236 L -93.32055405966427,44.99379328467725 L -93.3205302147196,44.99369809032201 L -93.32051581527332,44.99360101714033 L -93.320511,44.993503 z\" /><path fill-rule=\"evenodd\" fill=\"#66cc99\" stroke=\"#555555\" stroke-width=\"0.06126131520000001\" opacity=\"0.6\" d=\"M -93.321975,44.991744 L -93.32197981527332,44.991645982859666 L -93.3219942147196,44.99154890967798 L -93.32201805966427,44.99145371532274 L -93.32205112046749,44.991361316567634 L -93.32209307873565,44.99127260326317 L -93.32214353038769,44.99118842976698 L -93.32220198954664,44.99110960671583 L -93.32226789321881,44.99103689321881 L -93.32234060671584,44.99097098954663 L -93.32241942976698,44.990912530387696 L -93.32250360326317,44.990862078735645 L -93.32259231656764,44.99082012046748 L -93.32268471532275,44.990787059664264 L -93.32277990967799,44.99076321471959 L -93.32287698285967,44.99074881527333 L -93.322975,44.990744 L -93.32307301714033,44.99074881527333 L -93.32317009032201,44.99076321471959 L -93.32326528467725,44.990787059664264 L -93.32335768343236,44.99082012046748 L -93.32344639673683,44.990862078735645 L -93.32353057023302,44.990912530387696 L -93.32360939328416,44.99097098954663 L -93.32368210678119,44.99103689321881 L -93.32374801045336,44.99110960671583 L -93.32380646961231,44.99118842976698 L -93.32385692126435,44.99127260326317 L -93.3238988795325,44.991361316567634 L -93.32393194033573,44.99145371532274 L -93.3239557852804,44.99154890967798 L -93.32397018472668,44.991645982859666 L -93.323975,44.991744 L -93.32397018472668,44.99184201714033 L -93.3239557852804,44.99193909032201 L -93.32393194033573,44.99203428467725 L -93.3238988795325,44.99212668343236 L -93.32385692126435,44.992215396736825 L -93.32380646961231,44.992299570233016 L -93.32374801045336,44.99237839328416 L -93.32368210678119,44.99245110678118 L -93.32360939328416,44.99251701045336 L -93.32353057023302,44.9925754696123 L -93.32344639673683,44.99262592126435 L -93.32335768343236,44.99266787953251 L -93.32326528467725,44.99270094033573 L -93.32317009032201,44.9927247852804 L -93.32307301714033,44.992739184726666 L -93.322975,44.992743999999995 L -93.32287698285967,44.992739184726666 L -93.32277990967799,44.9927247852804 L -93.32268471532275,44.99270094033573 L -93.32259231656764,44.99266787953251 L -93.32250360326317,44.99262592126435 L -93.32241942976698,44.9925754696123 L -93.32234060671584,44.99251701045336 L -93.32226789321881,44.99245110678118 L -93.32220198954664,44.99237839328416 L -93.32214353038769,44.992299570233016 L -93.32209307873565,44.992215396736825 L -93.32205112046749,44.99212668343236 L -93.32201805966427,44.99203428467725 L -93.3219942147196,44.99193909032201 L -93.32197981527332,44.99184201714033 L -93.321975,44.991744 z\" /><path fill-rule=\"evenodd\" fill=\"#66cc99\" stroke=\"#555555\" stroke-width=\"0.06126131520000001\" opacity=\"0.6\" d=\"M -93.325553,44.077533 L -93.32555781527333,44.07743498285967 L -93.3255722147196,44.077337909677986 L -93.32559605966428,44.07724271532275 L -93.3256291204675,44.07715031656764 L -93.32567107873565,44.077061603263175 L -93.3257215303877,44.076977429766984 L -93.32577998954665,44.07689860671584 L -93.32584589321881,44.07682589321882 L -93.32591860671585,44.07675998954664 L -93.32599742976699,44.0767015303877 L -93.32608160326318,44.07665107873565 L -93.32617031656764,44.07660912046749 L -93.32626271532276,44.07657605966427 L -93.326357909678,44.0765522147196 L -93.32645498285967,44.07653781527333 L -93.326553,44.076533000000005 L -93.32665101714034,44.07653781527333 L -93.32674809032201,44.0765522147196 L -93.32684328467725,44.07657605966427 L -93.32693568343237,44.07660912046749 L -93.32702439673683,44.07665107873565 L -93.32710857023302,44.0767015303877 L -93.32718739328416,44.07675998954664 L -93.3272601067812,44.07682589321882 L -93.32732601045336,44.07689860671584 L -93.32738446961231,44.076977429766984 L -93.32743492126436,44.077061603263175 L -93.32747687953251,44.07715031656764 L -93.32750994033573,44.07724271532275 L -93.32753378528041,44.077337909677986 L -93.32754818472668,44.07743498285967 L -93.32755300000001,44.077533 L -93.32754818472668,44.077631017140334 L -93.32753378528041,44.07772809032202 L -93.32750994033573,44.07782328467726 L -93.32747687953251,44.077915683432366 L -93.32743492126436,44.07800439673683 L -93.32738446961231,44.07808857023302 L -93.32732601045336,44.07816739328417 L -93.3272601067812,44.07824010678119 L -93.32718739328416,44.07830601045337 L -93.32710857023302,44.0783644696123 L -93.32702439673683,44.078414921264354 L -93.32693568343237,44.07845687953252 L -93.32684328467725,44.078489940335736 L -93.32674809032201,44.07851378528041 L -93.32665101714034,44.07852818472667 L -93.326553,44.078533 L -93.32645498285967,44.07852818472667 L -93.326357909678,44.07851378528041 L -93.32626271532276,44.078489940335736 L -93.32617031656764,44.07845687953252 L -93.32608160326318,44.078414921264354 L -93.32599742976699,44.0783644696123 L -93.32591860671585,44.07830601045337 L -93.32584589321881,44.07824010678119 L -93.32577998954665,44.07816739328417 L -93.3257215303877,44.07808857023302 L -93.32567107873565,44.07800439673683 L -93.3256291204675,44.077915683432366 L -93.32559605966428,44.07782328467726 L -93.3255722147196,44.07772809032202 L -93.32555781527333,44.077631017140334 L -93.325553,44.077533 z\" /><path fill-rule=\"evenodd\" fill=\"#66cc99\" stroke=\"#555555\" stroke-width=\"0.06126131520000001\" opacity=\"0.6\" d=\"M -93.326208,45.675189 L -93.32621281527332,45.67509098285967 L -93.3262272147196,45.67499390967799 L -93.32625105966427,45.67489871532275 L -93.32628412046749,45.67480631656764 L -93.32632607873565,45.674717603263176 L -93.32637653038769,45.674633429766985 L -93.32643498954664,45.67455460671584 L -93.3265008932188,45.67448189321882 L -93.32657360671584,45.67441598954664 L -93.32665242976698,45.6743575303877 L -93.32673660326317,45.67430707873565 L -93.32682531656764,45.67426512046749 L -93.32691771532275,45.67423205966427 L -93.32701290967799,45.6742082147196 L -93.32710998285967,45.674193815273334 L -93.327208,45.674189000000005 L -93.32730601714033,45.674193815273334 L -93.32740309032201,45.6742082147196 L -93.32749828467725,45.67423205966427 L -93.32759068343236,45.67426512046749 L -93.32767939673683,45.67430707873565 L -93.32776357023302,45.6743575303877 L -93.32784239328416,45.67441598954664 L -93.32791510678119,45.67448189321882 L -93.32798101045336,45.67455460671584 L -93.3280394696123,45.674633429766985 L -93.32808992126435,45.674717603263176 L -93.3281318795325,45.67480631656764 L -93.32816494033572,45.67489871532275 L -93.3281887852804,45.67499390967799 L -93.32820318472668,45.67509098285967 L -93.328208,45.675189 L -93.32820318472668,45.675287017140334 L -93.3281887852804,45.67538409032202 L -93.32816494033572,45.67547928467726 L -93.3281318795325,45.675571683432366 L -93.32808992126435,45.67566039673683 L -93.3280394696123,45.67574457023302 L -93.32798101045336,45.67582339328417 L -93.32791510678119,45.67589610678119 L -93.32784239328416,45.67596201045337 L -93.32776357023302,45.676020469612304 L -93.32767939673683,45.676070921264355 L -93.32759068343236,45.67611287953252 L -93.32749828467725,45.676145940335736 L -93.32740309032201,45.67616978528041 L -93.32730601714033,45.67618418472667 L -93.327208,45.676189 L -93.32710998285967,45.67618418472667 L -93.32701290967799,45.67616978528041 L -93.32691771532275,45.676145940335736 L -93.32682531656764,45.67611287953252 L -93.32673660326317,45.676070921264355 L -93.32665242976698,45.676020469612304 L -93.32657360671584,45.67596201045337 L -93.3265008932188,45.67589610678119 L -93.32643498954664,45.67582339328417 L -93.32637653038769,45.67574457023302 L -93.32632607873565,45.67566039673683 L -93.32628412046749,45.675571683432366 L -93.32625105966427,45.67547928467726 L -93.3262272147196,45.67538409032202 L -93.32621281527332,45.675287017140334 L -93.326208,45.675189 z\" /><path fill-rule=\"evenodd\" fill=\"#66cc99\" stroke=\"#555555\" stroke-width=\"0.06126131520000001\" opacity=\"0.6\" d=\"M -93.32835299999999,44.836892 L -93.32835781527332,44.83679398285967 L -93.3283722147196,44.83669690967798 L -93.32839605966427,44.83660171532274 L -93.32842912046749,44.836509316567636 L -93.32847107873565,44.83642060326317 L -93.32852153038769,44.83633642976698 L -93.32857998954664,44.83625760671583 L -93.3286458932188,44.836184893218814 L -93.32871860671584,44.836118989546634 L -93.32879742976698,44.8360605303877 L -93.32888160326317,44.83601007873565 L -93.32897031656763,44.835968120467484 L -93.32906271532275,44.835935059664266 L -93.32915790967799,44.835911214719594 L -93.32925498285967,44.83589681527333 L -93.329353,44.835892 L -93.32945101714033,44.83589681527333 L -93.329548090322,44.835911214719594 L -93.32964328467725,44.835935059664266 L -93.32973568343236,44.835968120467484 L -93.32982439673683,44.83601007873565 L -93.32990857023302,44.8360605303877 L -93.32998739328416,44.836118989546634 L -93.33006010678119,44.836184893218814 L -93.33012601045336,44.83625760671583 L -93.3301844696123,44.83633642976698 L -93.33023492126435,44.83642060326317 L -93.3302768795325,44.836509316567636 L -93.33030994033572,44.83660171532274 L -93.3303337852804,44.83669690967798 L -93.33034818472667,44.83679398285967 L -93.330353,44.836892 L -93.33034818472667,44.83699001714033 L -93.3303337852804,44.837087090322015 L -93.33030994033572,44.837182284677255 L -93.3302768795325,44.83727468343236 L -93.33023492126435,44.837363396736826 L -93.3301844696123,44.83744757023302 L -93.33012601045336,44.837526393284165 L -93.33006010678119,44.837599106781184 L -93.32998739328416,44.837665010453364 L -93.32990857023302,44.8377234696123 L -93.32982439673683,44.83777392126435 L -93.32973568343236,44.83781587953251 L -93.32964328467725,44.83784894033573 L -93.329548090322,44.8378727852804 L -93.32945101714033,44.83788718472667 L -93.329353,44.837892 L -93.32925498285967,44.83788718472667 L -93.32915790967799,44.8378727852804 L -93.32906271532275,44.83784894033573 L -93.32897031656763,44.83781587953251 L -93.32888160326317,44.83777392126435 L -93.32879742976698,44.8377234696123 L -93.32871860671584,44.837665010453364 L -93.3286458932188,44.837599106781184 L -93.32857998954664,44.837526393284165 L -93.32852153038769,44.83744757023302 L -93.32847107873565,44.837363396736826 L -93.32842912046749,44.83727468343236 L -93.32839605966427,44.837182284677255 L -93.3283722147196,44.837087090322015 L -93.32835781527332,44.83699001714033 L -93.32835299999999,44.836892 z\" /><path fill-rule=\"evenodd\" fill=\"#66cc99\" stroke=\"#555555\" stroke-width=\"0.06126131520000001\" opacity=\"0.6\" d=\"M -93.33515899999999,44.769786 L -93.33516381527332,44.76968798285967 L -93.33517821471959,44.76959090967799 L -93.33520205966427,44.76949571532275 L -93.33523512046749,44.76940331656764 L -93.33527707873564,44.769314603263176 L -93.33532753038769,44.769230429766985 L -93.33538598954664,44.76915160671584 L -93.3354518932188,44.76907889321882 L -93.33552460671584,44.76901298954664 L -93.33560342976698,44.7689545303877 L -93.33568760326317,44.76890407873565 L -93.33577631656763,44.76886212046749 L -93.33586871532275,44.76882905966427 L -93.33596390967799,44.7688052147196 L -93.33606098285966,44.768790815273334 L -93.336159,44.768786000000006 L -93.33625701714033,44.768790815273334 L -93.336354090322,44.7688052147196 L -93.33644928467724,44.76882905966427 L -93.33654168343236,44.76886212046749 L -93.33663039673682,44.76890407873565 L -93.33671457023301,44.7689545303877 L -93.33679339328415,44.76901298954664 L -93.33686610678119,44.76907889321882 L -93.33693201045335,44.76915160671584 L -93.3369904696123,44.769230429766985 L -93.33704092126435,44.769314603263176 L -93.3370828795325,44.76940331656764 L -93.33711594033572,44.76949571532275 L -93.3371397852804,44.76959090967799 L -93.33715418472667,44.76968798285967 L -93.337159,44.769786 L -93.33715418472667,44.769884017140335 L -93.3371397852804,44.76998109032202 L -93.33711594033572,44.77007628467726 L -93.3370828795325,44.77016868343237 L -93.33704092126435,44.77025739673683 L -93.3369904696123,44.77034157023302 L -93.33693201045335,44.77042039328417 L -93.33686610678119,44.77049310678119 L -93.33679339328415,44.77055901045337 L -93.33671457023301,44.770617469612304 L -93.33663039673682,44.770667921264355 L -93.33654168343236,44.77070987953252 L -93.33644928467724,44.77074294033574 L -93.336354090322,44.77076678528041 L -93.33625701714033,44.77078118472667 L -93.336159,44.770786 L -93.33606098285966,44.77078118472667 L -93.33596390967799,44.77076678528041 L -93.33586871532275,44.77074294033574 L -93.33577631656763,44.77070987953252 L -93.33568760326317,44.770667921264355 L -93.33560342976698,44.770617469612304 L -93.33552460671584,44.77055901045337 L -93.3354518932188,44.77049310678119 L -93.33538598954664,44.77042039328417 L -93.33532753038769,44.77034157023302 L -93.33527707873564,44.77025739673683 L -93.33523512046749,44.77016868343237 L -93.33520205966427,44.77007628467726 L -93.33517821471959,44.76998109032202 L -93.33516381527332,44.769884017140335 L -93.33515899999999,44.769786 z\" /><path fill-rule=\"evenodd\" fill=\"#66cc99\" stroke=\"#555555\" stroke-width=\"0.06126131520000001\" opacity=\"0.6\" d=\"M -93.338256,44.911775 L -93.33826081527333,44.91167698285967 L -93.3382752147196,44.91157990967798 L -93.33829905966428,44.91148471532274 L -93.3383321204675,44.911392316567635 L -93.33837407873565,44.91130360326317 L -93.3384245303877,44.91121942976698 L -93.33848298954665,44.91114060671583 L -93.33854889321881,44.911067893218814 L -93.33862160671585,44.911001989546634 L -93.33870042976699,44.9109435303877 L -93.33878460326318,44.91089307873565 L -93.33887331656764,44.910851120467484 L -93.33896571532276,44.910818059664265 L -93.339060909678,44.910794214719594 L -93.33915798285967,44.91077981527333 L -93.339256,44.910775 L -93.33935401714034,44.91077981527333 L -93.33945109032202,44.910794214719594 L -93.33954628467725,44.910818059664265 L -93.33963868343237,44.910851120467484 L -93.33972739673683,44.91089307873565 L -93.33981157023302,44.9109435303877 L -93.33989039328416,44.911001989546634 L -93.3399631067812,44.911067893218814 L -93.34002901045336,44.91114060671583 L -93.34008746961231,44.91121942976698 L -93.34013792126436,44.91130360326317 L -93.34017987953251,44.911392316567635 L -93.34021294033573,44.91148471532274 L -93.34023678528041,44.91157990967798 L -93.34025118472668,44.91167698285967 L -93.34025600000001,44.911775 L -93.34025118472668,44.91187301714033 L -93.34023678528041,44.911970090322015 L -93.34021294033573,44.912065284677254 L -93.34017987953251,44.91215768343236 L -93.34013792126436,44.912246396736826 L -93.34008746961231,44.91233057023302 L -93.34002901045336,44.912409393284165 L -93.3399631067812,44.912482106781184 L -93.33989039328416,44.912548010453364 L -93.33981157023302,44.9126064696123 L -93.33972739673683,44.91265692126435 L -93.33963868343237,44.91269887953251 L -93.33954628467725,44.91273194033573 L -93.33945109032202,44.9127557852804 L -93.33935401714034,44.91277018472667 L -93.339256,44.912774999999996 L -93.33915798285967,44.91277018472667 L -93.339060909678,44.9127557852804 L -93.33896571532276,44.91273194033573 L -93.33887331656764,44.91269887953251 L -93.33878460326318,44.91265692126435 L -93.33870042976699,44.9126064696123 L -93.33862160671585,44.912548010453364 L -93.33854889321881,44.912482106781184 L -93.33848298954665,44.912409393284165 L -93.3384245303877,44.91233057023302 L -93.33837407873565,44.912246396736826 L -93.3383321204675,44.91215768343236 L -93.33829905966428,44.912065284677254 L -93.3382752147196,44.911970090322015 L -93.33826081527333,44.91187301714033 L -93.338256,44.911775 z\" /><path fill-rule=\"evenodd\" fill=\"#66cc99\" stroke=\"#555555\" stroke-width=\"0.06126131520000001\" opacity=\"0.6\" d=\"M -93.34137799999999,44.911983 L -93.34138281527332,44.91188498285967 L -93.34139721471959,44.91178790967798 L -93.34142105966427,44.911692715322744 L -93.34145412046749,44.911600316567636 L -93.34149607873564,44.91151160326317 L -93.34154653038769,44.91142742976698 L -93.34160498954664,44.91134860671583 L -93.3416708932188,44.911275893218814 L -93.34174360671584,44.911209989546634 L -93.34182242976698,44.9111515303877 L -93.34190660326317,44.91110107873565 L -93.34199531656763,44.911059120467485 L -93.34208771532275,44.911026059664266 L -93.34218290967799,44.911002214719595 L -93.34227998285967,44.91098781527333 L -93.342378,44.910983 L -93.34247601714033,44.91098781527333 L -93.342573090322,44.911002214719595 L -93.34266828467725,44.911026059664266 L -93.34276068343236,44.911059120467485 L -93.34284939673682,44.91110107873565 L -93.34293357023301,44.9111515303877 L -93.34301239328416,44.911209989546634 L -93.34308510678119,44.911275893218814 L -93.34315101045335,44.91134860671583 L -93.3432094696123,44.91142742976698 L -93.34325992126435,44.91151160326317 L -93.3433018795325,44.911600316567636 L -93.34333494033572,44.911692715322744 L -93.3433587852804,44.91178790967798 L -93.34337318472667,44.91188498285967 L -93.343378,44.911983 L -93.34337318472667,44.91208101714033 L -93.3433587852804,44.912178090322016 L -93.34333494033572,44.912273284677255 L -93.3433018795325,44.91236568343236 L -93.34325992126435,44.91245439673683 L -93.3432094696123,44.91253857023302 L -93.34315101045335,44.912617393284165 L -93.34308510678119,44.912690106781184 L -93.34301239328416,44.912756010453364 L -93.34293357023301,44.9128144696123 L -93.34284939673682,44.91286492126435 L -93.34276068343236,44.912906879532514 L -93.34266828467725,44.91293994033573 L -93.342573090322,44.912963785280404 L -93.34247601714033,44.91297818472667 L -93.342378,44.912983 L -93.34227998285967,44.91297818472667 L -93.34218290967799,44.912963785280404 L -93.34208771532275,44.91293994033573 L -93.34199531656763,44.912906879532514 L -93.34190660326317,44.91286492126435 L -93.34182242976698,44.9128144696123 L -93.34174360671584,44.912756010453364 L -93.3416708932188,44.912690106781184 L -93.34160498954664,44.912617393284165 L -93.34154653038769,44.91253857023302 L -93.34149607873564,44.91245439673683 L -93.34145412046749,44.91236568343236 L -93.34142105966427,44.912273284677255 L -93.34139721471959,44.912178090322016 L -93.34138281527332,44.91208101714033 L -93.34137799999999,44.911983 z\" /><path fill-rule=\"evenodd\" fill=\"#66cc99\" stroke=\"#555555\" stroke-width=\"0.06126131520000001\" opacity=\"0.6\" d=\"M -93.342198,44.778384 L -93.34220281527332,44.77828598285967 L -93.3422172147196,44.778188909677986 L -93.34224105966427,44.77809371532275 L -93.3422741204675,44.77800131656764 L -93.34231607873565,44.777912603263175 L -93.3423665303877,44.777828429766984 L -93.34242498954664,44.77774960671584 L -93.34249089321881,44.77767689321882 L -93.34256360671584,44.77761098954664 L -93.34264242976698,44.7775525303877 L -93.34272660326317,44.77750207873565 L -93.34281531656764,44.77746012046749 L -93.34290771532275,44.77742705966427 L -93.34300290967799,44.7774032147196 L -93.34309998285967,44.77738881527333 L -93.343198,44.777384000000005 L -93.34329601714033,44.77738881527333 L -93.34339309032201,44.7774032147196 L -93.34348828467725,44.77742705966427 L -93.34358068343236,44.77746012046749 L -93.34366939673683,44.77750207873565 L -93.34375357023302,44.7775525303877 L -93.34383239328416,44.77761098954664 L -93.3439051067812,44.77767689321882 L -93.34397101045336,44.77774960671584 L -93.34402946961231,44.777828429766984 L -93.34407992126435,44.777912603263175 L -93.34412187953251,44.77800131656764 L -93.34415494033573,44.77809371532275 L -93.3441787852804,44.778188909677986 L -93.34419318472668,44.77828598285967 L -93.344198,44.778384 L -93.34419318472668,44.778482017140334 L -93.3441787852804,44.77857909032202 L -93.34415494033573,44.77867428467726 L -93.34412187953251,44.778766683432366 L -93.34407992126435,44.77885539673683 L -93.34402946961231,44.77893957023302 L -93.34397101045336,44.77901839328417 L -93.3439051067812,44.77909110678119 L -93.34383239328416,44.77915701045337 L -93.34375357023302,44.7792154696123 L -93.34366939673683,44.779265921264354 L -93.34358068343236,44.77930787953252 L -93.34348828467725,44.779340940335736 L -93.34339309032201,44.77936478528041 L -93.34329601714033,44.77937918472667 L -93.343198,44.779384 L -93.34309998285967,44.77937918472667 L -93.34300290967799,44.77936478528041 L -93.34290771532275,44.779340940335736 L -93.34281531656764,44.77930787953252 L -93.34272660326317,44.779265921264354 L -93.34264242976698,44.7792154696123 L -93.34256360671584,44.77915701045337 L -93.34249089321881,44.77909110678119 L -93.34242498954664,44.77901839328417 L -93.3423665303877,44.77893957023302 L -93.34231607873565,44.77885539673683 L -93.3422741204675,44.778766683432366 L -93.34224105966427,44.77867428467726 L -93.3422172147196,44.77857909032202 L -93.34220281527332,44.778482017140334 L -93.342198,44.778384 z\" /><path fill-rule=\"evenodd\" fill=\"#66cc99\" stroke=\"#555555\" stroke-width=\"0.06126131520000001\" opacity=\"0.6\" d=\"M -93.342834,44.772954 L -93.34283881527332,44.77285598285967 L -93.3428532147196,44.77275890967798 L -93.34287705966427,44.77266371532274 L -93.3429101204675,44.772571316567635 L -93.34295207873565,44.77248260326317 L -93.3430025303877,44.77239842976698 L -93.34306098954664,44.77231960671583 L -93.34312689321881,44.772246893218814 L -93.34319960671584,44.772180989546634 L -93.34327842976698,44.7721225303877 L -93.34336260326317,44.77207207873565 L -93.34345131656764,44.772030120467484 L -93.34354371532275,44.771997059664265 L -93.34363890967799,44.771973214719594 L -93.34373598285967,44.77195881527333 L -93.343834,44.771954 L -93.34393201714033,44.77195881527333 L -93.34402909032201,44.771973214719594 L -93.34412428467725,44.771997059664265 L -93.34421668343236,44.772030120467484 L -93.34430539673683,44.77207207873565 L -93.34438957023302,44.7721225303877 L -93.34446839328416,44.772180989546634 L -93.3445411067812,44.772246893218814 L -93.34460701045336,44.77231960671583 L -93.34466546961231,44.77239842976698 L -93.34471592126435,44.77248260326317 L -93.34475787953251,44.772571316567635 L -93.34479094033573,44.77266371532274 L -93.3448147852804,44.77275890967798 L -93.34482918472668,44.77285598285967 L -93.344834,44.772954 L -93.34482918472668,44.77305201714033 L -93.3448147852804,44.773149090322015 L -93.34479094033573,44.773244284677254 L -93.34475787953251,44.77333668343236 L -93.34471592126435,44.773425396736826 L -93.34466546961231,44.77350957023302 L -93.34460701045336,44.773588393284165 L -93.3445411067812,44.773661106781184 L -93.34446839328416,44.773727010453364 L -93.34438957023302,44.7737854696123 L -93.34430539673683,44.77383592126435 L -93.34421668343236,44.77387787953251 L -93.34412428467725,44.77391094033573 L -93.34402909032201,44.7739347852804 L -93.34393201714033,44.77394918472667 L -93.343834,44.773953999999996 L -93.34373598285967,44.77394918472667 L -93.34363890967799,44.7739347852804 L -93.34354371532275,44.77391094033573 L -93.34345131656764,44.77387787953251 L -93.34336260326317,44.77383592126435 L -93.34327842976698,44.7737854696123 L -93.34319960671584,44.773727010453364 L -93.34312689321881,44.773661106781184 L -93.34306098954664,44.773588393284165 L -93.3430025303877,44.77350957023302 L -93.34295207873565,44.773425396736826 L -93.3429101204675,44.77333668343236 L -93.34287705966427,44.773244284677254 L -93.3428532147196,44.773149090322015 L -93.34283881527332,44.77305201714033 L -93.342834,44.772954 z\" /><path fill-rule=\"evenodd\" fill=\"#66cc99\" stroke=\"#555555\" stroke-width=\"0.06126131520000001\" opacity=\"0.6\" d=\"M -93.352561,44.912317 L -93.35256581527332,44.91221898285967 L -93.3525802147196,44.912121909677985 L -93.35260405966427,44.912026715322746 L -93.35263712046749,44.91193431656764 L -93.35267907873565,44.911845603263174 L -93.35272953038769,44.91176142976698 L -93.35278798954664,44.911682606715836 L -93.3528538932188,44.91160989321882 L -93.35292660671584,44.91154398954664 L -93.35300542976698,44.9114855303877 L -93.35308960326317,44.91143507873565 L -93.35317831656764,44.91139312046749 L -93.35327071532275,44.91136005966427 L -93.35336590967799,44.9113362147196 L -93.35346298285967,44.91132181527333 L -93.353561,44.911317000000004 L -93.35365901714033,44.91132181527333 L -93.35375609032201,44.9113362147196 L -93.35385128467725,44.91136005966427 L -93.35394368343236,44.91139312046749 L -93.35403239673683,44.91143507873565 L -93.35411657023302,44.9114855303877 L -93.35419539328416,44.91154398954664 L -93.35426810678119,44.91160989321882 L -93.35433401045336,44.911682606715836 L -93.3543924696123,44.91176142976698 L -93.35444292126435,44.911845603263174 L -93.3544848795325,44.91193431656764 L -93.35451794033573,44.912026715322746 L -93.3545417852804,44.912121909677985 L -93.35455618472668,44.91221898285967 L -93.354561,44.912317 L -93.35455618472668,44.91241501714033 L -93.3545417852804,44.91251209032202 L -93.35451794033573,44.91260728467726 L -93.3544848795325,44.912699683432365 L -93.35444292126435,44.91278839673683 L -93.3543924696123,44.91287257023302 L -93.35433401045336,44.91295139328417 L -93.35426810678119,44.91302410678119 L -93.35419539328416,44.91309001045337 L -93.35411657023302,44.9131484696123 L -93.35403239673683,44.91319892126435 L -93.35394368343236,44.913240879532516 L -93.35385128467725,44.913273940335735 L -93.35375609032201,44.913297785280406 L -93.35365901714033,44.91331218472667 L -93.353561,44.913317 L -93.35346298285967,44.91331218472667 L -93.35336590967799,44.913297785280406 L -93.35327071532275,44.913273940335735 L -93.35317831656764,44.913240879532516 L -93.35308960326317,44.91319892126435 L -93.35300542976698,44.9131484696123 L -93.35292660671584,44.91309001045337 L -93.3528538932188,44.91302410678119 L -93.35278798954664,44.91295139328417 L -93.35272953038769,44.91287257023302 L -93.35267907873565,44.91278839673683 L -93.35263712046749,44.912699683432365 L -93.35260405966427,44.91260728467726 L -93.3525802147196,44.91251209032202 L -93.35256581527332,44.91241501714033 L -93.352561,44.912317 z\" /><path fill-rule=\"evenodd\" fill=\"#66cc99\" stroke=\"#555555\" stroke-width=\"0.06126131520000001\" opacity=\"0.6\" d=\"M -93.357986,44.933436 L -93.35799081527333,44.93333798285967 L -93.3580052147196,44.933240909677984 L -93.35802905966428,44.933145715322745 L -93.3580621204675,44.93305331656764 L -93.35810407873565,44.93296460326317 L -93.3581545303877,44.93288042976698 L -93.35821298954664,44.932801606715834 L -93.35827889321881,44.932728893218815 L -93.35835160671584,44.932662989546635 L -93.35843042976698,44.9326045303877 L -93.35851460326317,44.93255407873565 L -93.35860331656764,44.932512120467486 L -93.35869571532275,44.93247905966427 L -93.35879090967799,44.932455214719596 L -93.35888798285967,44.93244081527333 L -93.358986,44.932436 L -93.35908401714033,44.93244081527333 L -93.35918109032201,44.932455214719596 L -93.35927628467725,44.93247905966427 L -93.35936868343236,44.932512120467486 L -93.35945739673683,44.93255407873565 L -93.35954157023302,44.9326045303877 L -93.35962039328416,44.932662989546635 L -93.3596931067812,44.932728893218815 L -93.35975901045336,44.932801606715834 L -93.35981746961231,44.93288042976698 L -93.35986792126435,44.93296460326317 L -93.35990987953251,44.93305331656764 L -93.35994294033573,44.933145715322745 L -93.3599667852804,44.933240909677984 L -93.35998118472668,44.93333798285967 L -93.359986,44.933436 L -93.35998118472668,44.93353401714033 L -93.3599667852804,44.93363109032202 L -93.35994294033573,44.933726284677256 L -93.35990987953251,44.933818683432364 L -93.35986792126435,44.93390739673683 L -93.35981746961231,44.93399157023302 L -93.35975901045336,44.934070393284166 L -93.3596931067812,44.934143106781185 L -93.35962039328416,44.934209010453365 L -93.35954157023302,44.9342674696123 L -93.35945739673683,44.93431792126435 L -93.35936868343236,44.934359879532515 L -93.35927628467725,44.934392940335734 L -93.35918109032201,44.934416785280405 L -93.35908401714033,44.93443118472667 L -93.358986,44.934436 L -93.35888798285967,44.93443118472667 L -93.35879090967799,44.934416785280405 L -93.35869571532275,44.934392940335734 L -93.35860331656764,44.934359879532515 L -93.35851460326317,44.93431792126435 L -93.35843042976698,44.9342674696123 L -93.35835160671584,44.934209010453365 L -93.35827889321881,44.934143106781185 L -93.35821298954664,44.934070393284166 L -93.3581545303877,44.93399157023302 L -93.35810407873565,44.93390739673683 L -93.3580621204675,44.933818683432364 L -93.35802905966428,44.933726284677256 L -93.3580052147196,44.93363109032202 L -93.35799081527333,44.93353401714033 L -93.357986,44.933436 z\" /><path fill-rule=\"evenodd\" fill=\"#66cc99\" stroke=\"#555555\" stroke-width=\"0.06126131520000001\" opacity=\"0.6\" d=\"M -93.359444,44.875806 L -93.35944881527332,44.875707982859666 L -93.3594632147196,44.87561090967798 L -93.35948705966427,44.87551571532274 L -93.3595201204675,44.875423316567634 L -93.35956207873565,44.87533460326317 L -93.3596125303877,44.87525042976698 L -93.35967098954664,44.87517160671583 L -93.35973689321881,44.87509889321881 L -93.35980960671584,44.87503298954663 L -93.35988842976698,44.874974530387696 L -93.35997260326317,44.874924078735646 L -93.36006131656764,44.87488212046748 L -93.36015371532275,44.874849059664264 L -93.36024890967799,44.87482521471959 L -93.36034598285967,44.87481081527333 L -93.360444,44.874806 L -93.36054201714033,44.87481081527333 L -93.36063909032201,44.87482521471959 L -93.36073428467725,44.874849059664264 L -93.36082668343236,44.87488212046748 L -93.36091539673683,44.874924078735646 L -93.36099957023302,44.874974530387696 L -93.36107839328416,44.87503298954663 L -93.3611511067812,44.87509889321881 L -93.36121701045336,44.87517160671583 L -93.36127546961231,44.87525042976698 L -93.36132592126435,44.87533460326317 L -93.36136787953251,44.875423316567634 L -93.36140094033573,44.87551571532274 L -93.3614247852804,44.87561090967798 L -93.36143918472668,44.875707982859666 L -93.361444,44.875806 L -93.36143918472668,44.87590401714033 L -93.3614247852804,44.87600109032201 L -93.36140094033573,44.87609628467725 L -93.36136787953251,44.87618868343236 L -93.36132592126435,44.876277396736825 L -93.36127546961231,44.876361570233016 L -93.36121701045336,44.87644039328416 L -93.3611511067812,44.87651310678118 L -93.36107839328416,44.87657901045336 L -93.36099957023302,44.8766374696123 L -93.36091539673683,44.87668792126435 L -93.36082668343236,44.87672987953251 L -93.36073428467725,44.87676294033573 L -93.36063909032201,44.8767867852804 L -93.36054201714033,44.876801184726666 L -93.360444,44.876805999999995 L -93.36034598285967,44.876801184726666 L -93.36024890967799,44.8767867852804 L -93.36015371532275,44.87676294033573 L -93.36006131656764,44.87672987953251 L -93.35997260326317,44.87668792126435 L -93.35988842976698,44.8766374696123 L -93.35980960671584,44.87657901045336 L -93.35973689321881,44.87651310678118 L -93.35967098954664,44.87644039328416 L -93.3596125303877,44.876361570233016 L -93.35956207873565,44.876277396736825 L -93.3595201204675,44.87618868343236 L -93.35948705966427,44.87609628467725 L -93.3594632147196,44.87600109032201 L -93.35944881527332,44.87590401714033 L -93.359444,44.875806 z\" /><path fill-rule=\"evenodd\" fill=\"#66cc99\" stroke=\"#555555\" stroke-width=\"0.06126131520000001\" opacity=\"0.6\" d=\"M -93.361556,44.937947 L -93.36156081527332,44.93784898285967 L -93.3615752147196,44.937751909677985 L -93.36159905966427,44.937656715322746 L -93.36163212046749,44.93756431656764 L -93.36167407873565,44.937475603263174 L -93.36172453038769,44.93739142976698 L -93.36178298954664,44.937312606715835 L -93.3618488932188,44.937239893218816 L -93.36192160671584,44.937173989546636 L -93.36200042976698,44.9371155303877 L -93.36208460326317,44.93706507873565 L -93.36217331656763,44.93702312046749 L -93.36226571532275,44.93699005966427 L -93.36236090967799,44.9369662147196 L -93.36245798285967,44.93695181527333 L -93.362556,44.936947 L -93.36265401714033,44.93695181527333 L -93.362751090322,44.9369662147196 L -93.36284628467725,44.93699005966427 L -93.36293868343236,44.93702312046749 L -93.36302739673683,44.93706507873565 L -93.36311157023302,44.9371155303877 L -93.36319039328416,44.937173989546636 L -93.36326310678119,44.937239893218816 L -93.36332901045336,44.937312606715835 L -93.3633874696123,44.93739142976698 L -93.36343792126435,44.937475603263174 L -93.3634798795325,44.93756431656764 L -93.36351294033572,44.937656715322746 L -93.3635367852804,44.937751909677985 L -93.36355118472667,44.93784898285967 L -93.363556,44.937947 L -93.36355118472667,44.93804501714033 L -93.3635367852804,44.93814209032202 L -93.36351294033572,44.93823728467726 L -93.3634798795325,44.938329683432364 L -93.36343792126435,44.93841839673683 L -93.3633874696123,44.93850257023302 L -93.36332901045336,44.93858139328417 L -93.36326310678119,44.938654106781186 L -93.36319039328416,44.938720010453366 L -93.36311157023302,44.9387784696123 L -93.36302739673683,44.93882892126435 L -93.36293868343236,44.938870879532516 L -93.36284628467725,44.938903940335734 L -93.362751090322,44.938927785280406 L -93.36265401714033,44.93894218472667 L -93.362556,44.938947 L -93.36245798285967,44.93894218472667 L -93.36236090967799,44.938927785280406 L -93.36226571532275,44.938903940335734 L -93.36217331656763,44.938870879532516 L -93.36208460326317,44.93882892126435 L -93.36200042976698,44.9387784696123 L -93.36192160671584,44.938720010453366 L -93.3618488932188,44.938654106781186 L -93.36178298954664,44.93858139328417 L -93.36172453038769,44.93850257023302 L -93.36167407873565,44.93841839673683 L -93.36163212046749,44.938329683432364 L -93.36159905966427,44.93823728467726 L -93.3615752147196,44.93814209032202 L -93.36156081527332,44.93804501714033 L -93.361556,44.937947 z\" /><path fill-rule=\"evenodd\" fill=\"#66cc99\" stroke=\"#555555\" stroke-width=\"0.06126131520000001\" opacity=\"0.6\" d=\"M -93.37709699999999,44.779003 L -93.37710181527332,44.77890498285967 L -93.37711621471959,44.77880790967799 L -93.37714005966427,44.77871271532275 L -93.37717312046749,44.77862031656764 L -93.37721507873565,44.778531603263175 L -93.37726553038769,44.778447429766985 L -93.37732398954664,44.77836860671584 L -93.3773898932188,44.77829589321882 L -93.37746260671584,44.77822998954664 L -93.37754142976698,44.7781715303877 L -93.37762560326317,44.77812107873565 L -93.37771431656763,44.77807912046749 L -93.37780671532275,44.77804605966427 L -93.37790190967799,44.7780222147196 L -93.37799898285967,44.778007815273334 L -93.378097,44.778003000000005 L -93.37819501714033,44.778007815273334 L -93.378292090322,44.7780222147196 L -93.37838728467725,44.77804605966427 L -93.37847968343236,44.77807912046749 L -93.37856839673682,44.77812107873565 L -93.37865257023302,44.7781715303877 L -93.37873139328416,44.77822998954664 L -93.37880410678119,44.77829589321882 L -93.37887001045335,44.77836860671584 L -93.3789284696123,44.778447429766985 L -93.37897892126435,44.778531603263175 L -93.3790208795325,44.77862031656764 L -93.37905394033572,44.77871271532275 L -93.3790777852804,44.77880790967799 L -93.37909218472667,44.77890498285967 L -93.379097,44.779003 L -93.37909218472667,44.779101017140334 L -93.3790777852804,44.77919809032202 L -93.37905394033572,44.77929328467726 L -93.3790208795325,44.779385683432366 L -93.37897892126435,44.77947439673683 L -93.3789284696123,44.77955857023302 L -93.37887001045335,44.77963739328417 L -93.37880410678119,44.77971010678119 L -93.37873139328416,44.77977601045337 L -93.37865257023302,44.779834469612304 L -93.37856839673682,44.779884921264355 L -93.37847968343236,44.77992687953252 L -93.37838728467725,44.779959940335736 L -93.378292090322,44.77998378528041 L -93.37819501714033,44.77999818472667 L -93.378097,44.780003 L -93.37799898285967,44.77999818472667 L -93.37790190967799,44.77998378528041 L -93.37780671532275,44.779959940335736 L -93.37771431656763,44.77992687953252 L -93.37762560326317,44.779884921264355 L -93.37754142976698,44.779834469612304 L -93.37746260671584,44.77977601045337 L -93.3773898932188,44.77971010678119 L -93.37732398954664,44.77963739328417 L -93.37726553038769,44.77955857023302 L -93.37721507873565,44.77947439673683 L -93.37717312046749,44.779385683432366 L -93.37714005966427,44.77929328467726 L -93.37711621471959,44.77919809032202 L -93.37710181527332,44.779101017140334 L -93.37709699999999,44.779003 z\" /><path fill-rule=\"evenodd\" fill=\"#66cc99\" stroke=\"#555555\" stroke-width=\"0.06126131520000001\" opacity=\"0.6\" d=\"M -93.38244399999999,44.954403 L -93.38244881527332,44.95430498285967 L -93.38246321471959,44.95420790967798 L -93.38248705966427,44.954112715322744 L -93.38252012046749,44.954020316567636 L -93.38256207873565,44.95393160326317 L -93.38261253038769,44.95384742976698 L -93.38267098954664,44.95376860671583 L -93.3827368932188,44.953695893218814 L -93.38280960671584,44.953629989546634 L -93.38288842976698,44.9535715303877 L -93.38297260326317,44.95352107873565 L -93.38306131656763,44.953479120467485 L -93.38315371532275,44.953446059664266 L -93.38324890967799,44.953422214719595 L -93.38334598285967,44.95340781527333 L -93.383444,44.953403 L -93.38354201714033,44.95340781527333 L -93.383639090322,44.953422214719595 L -93.38373428467725,44.953446059664266 L -93.38382668343236,44.953479120467485 L -93.38391539673682,44.95352107873565 L -93.38399957023302,44.9535715303877 L -93.38407839328416,44.953629989546634 L -93.38415110678119,44.953695893218814 L -93.38421701045336,44.95376860671583 L -93.3842754696123,44.95384742976698 L -93.38432592126435,44.95393160326317 L -93.3843678795325,44.954020316567636 L -93.38440094033572,44.954112715322744 L -93.3844247852804,44.95420790967798 L -93.38443918472667,44.95430498285967 L -93.384444,44.954403 L -93.38443918472667,44.95450101714033 L -93.3844247852804,44.954598090322015 L -93.38440094033572,44.954693284677255 L -93.3843678795325,44.95478568343236 L -93.38432592126435,44.95487439673683 L -93.3842754696123,44.95495857023302 L -93.38421701045336,44.955037393284165 L -93.38415110678119,44.955110106781184 L -93.38407839328416,44.955176010453364 L -93.38399957023302,44.9552344696123 L -93.38391539673682,44.95528492126435 L -93.38382668343236,44.955326879532514 L -93.38373428467725,44.95535994033573 L -93.383639090322,44.955383785280404 L -93.38354201714033,44.95539818472667 L -93.383444,44.955403 L -93.38334598285967,44.95539818472667 L -93.38324890967799,44.955383785280404 L -93.38315371532275,44.95535994033573 L -93.38306131656763,44.955326879532514 L -93.38297260326317,44.95528492126435 L -93.38288842976698,44.9552344696123 L -93.38280960671584,44.955176010453364 L -93.3827368932188,44.955110106781184 L -93.38267098954664,44.955037393284165 L -93.38261253038769,44.95495857023302 L -93.38256207873565,44.95487439673683 L -93.38252012046749,44.95478568343236 L -93.38248705966427,44.954693284677255 L -93.38246321471959,44.954598090322015 L -93.38244881527332,44.95450101714033 L -93.38244399999999,44.954403 z\" /><path fill-rule=\"evenodd\" fill=\"#66cc99\" stroke=\"#555555\" stroke-width=\"0.06126131520000001\" opacity=\"0.6\" d=\"M -93.391128,45.227069 L -93.39113281527332,45.22697098285967 L -93.3911472147196,45.226873909677984 L -93.39117105966427,45.226778715322745 L -93.39120412046749,45.22668631656764 L -93.39124607873565,45.22659760326317 L -93.39129653038769,45.22651342976698 L -93.39135498954664,45.226434606715834 L -93.39142089321881,45.226361893218815 L -93.39149360671584,45.226295989546635 L -93.39157242976698,45.2262375303877 L -93.39165660326317,45.22618707873565 L -93.39174531656764,45.226145120467486 L -93.39183771532275,45.22611205966427 L -93.39193290967799,45.226088214719596 L -93.39202998285967,45.22607381527333 L -93.392128,45.226069 L -93.39222601714033,45.22607381527333 L -93.39232309032201,45.226088214719596 L -93.39241828467725,45.22611205966427 L -93.39251068343236,45.226145120467486 L -93.39259939673683,45.22618707873565 L -93.39268357023302,45.2262375303877 L -93.39276239328416,45.226295989546635 L -93.39283510678119,45.226361893218815 L -93.39290101045336,45.226434606715834 L -93.39295946961231,45.22651342976698 L -93.39300992126435,45.22659760326317 L -93.3930518795325,45.22668631656764 L -93.39308494033573,45.226778715322745 L -93.3931087852804,45.226873909677984 L -93.39312318472668,45.22697098285967 L -93.393128,45.227069 L -93.39312318472668,45.22716701714033 L -93.3931087852804,45.227264090322016 L -93.39308494033573,45.227359284677256 L -93.3930518795325,45.22745168343236 L -93.39300992126435,45.22754039673683 L -93.39295946961231,45.22762457023302 L -93.39290101045336,45.227703393284166 L -93.39283510678119,45.227776106781185 L -93.39276239328416,45.227842010453365 L -93.39268357023302,45.2279004696123 L -93.39259939673683,45.22795092126435 L -93.39251068343236,45.227992879532515 L -93.39241828467725,45.22802594033573 L -93.39232309032201,45.228049785280405 L -93.39222601714033,45.22806418472667 L -93.392128,45.228069 L -93.39202998285967,45.22806418472667 L -93.39193290967799,45.228049785280405 L -93.39183771532275,45.22802594033573 L -93.39174531656764,45.227992879532515 L -93.39165660326317,45.22795092126435 L -93.39157242976698,45.2279004696123 L -93.39149360671584,45.227842010453365 L -93.39142089321881,45.227776106781185 L -93.39135498954664,45.227703393284166 L -93.39129653038769,45.22762457023302 L -93.39124607873565,45.22754039673683 L -93.39120412046749,45.22745168343236 L -93.39117105966427,45.227359284677256 L -93.3911472147196,45.227264090322016 L -93.39113281527332,45.22716701714033 L -93.391128,45.227069 z\" /><path fill-rule=\"evenodd\" fill=\"#66cc99\" stroke=\"#555555\" stroke-width=\"0.06126131520000001\" opacity=\"0.6\" d=\"M -93.392281,44.942769 L -93.39228581527333,44.94267098285967 L -93.3923002147196,44.94257390967798 L -93.39232405966428,44.94247871532274 L -93.3923571204675,44.942386316567635 L -93.39239907873565,44.94229760326317 L -93.3924495303877,44.94221342976698 L -93.39250798954664,44.94213460671583 L -93.39257389321881,44.94206189321881 L -93.39264660671584,44.94199598954663 L -93.39272542976698,44.9419375303877 L -93.39280960326317,44.94188707873565 L -93.39289831656764,44.941845120467484 L -93.39299071532275,44.941812059664265 L -93.39308590967799,44.941788214719594 L -93.39318298285967,44.94177381527333 L -93.393281,44.941769 L -93.39337901714033,44.94177381527333 L -93.39347609032201,44.941788214719594 L -93.39357128467725,44.941812059664265 L -93.39366368343237,44.941845120467484 L -93.39375239673683,44.94188707873565 L -93.39383657023302,44.9419375303877 L -93.39391539328416,44.94199598954663 L -93.3939881067812,44.94206189321881 L -93.39405401045336,44.94213460671583 L -93.39411246961231,44.94221342976698 L -93.39416292126435,44.94229760326317 L -93.39420487953251,44.942386316567635 L -93.39423794033573,44.94247871532274 L -93.3942617852804,44.94257390967798 L -93.39427618472668,44.94267098285967 L -93.394281,44.942769 L -93.39427618472668,44.94286701714033 L -93.3942617852804,44.942964090322015 L -93.39423794033573,44.943059284677254 L -93.39420487953251,44.94315168343236 L -93.39416292126435,44.943240396736826 L -93.39411246961231,44.94332457023302 L -93.39405401045336,44.943403393284164 L -93.3939881067812,44.94347610678118 L -93.39391539328416,44.94354201045336 L -93.39383657023302,44.9436004696123 L -93.39375239673683,44.94365092126435 L -93.39366368343237,44.94369287953251 L -93.39357128467725,44.94372594033573 L -93.39347609032201,44.9437497852804 L -93.39337901714033,44.94376418472667 L -93.393281,44.943768999999996 L -93.39318298285967,44.94376418472667 L -93.39308590967799,44.9437497852804 L -93.39299071532275,44.94372594033573 L -93.39289831656764,44.94369287953251 L -93.39280960326317,44.94365092126435 L -93.39272542976698,44.9436004696123 L -93.39264660671584,44.94354201045336 L -93.39257389321881,44.94347610678118 L -93.39250798954664,44.943403393284164 L -93.3924495303877,44.94332457023302 L -93.39239907873565,44.943240396736826 L -93.3923571204675,44.94315168343236 L -93.39232405966428,44.943059284677254 L -93.3923002147196,44.942964090322015 L -93.39228581527333,44.94286701714033 L -93.392281,44.942769 z\" /><path fill-rule=\"evenodd\" fill=\"#66cc99\" stroke=\"#555555\" stroke-width=\"0.06126131520000001\" opacity=\"0.6\" d=\"M -93.399811,45.033325 L -93.39981581527333,45.03322698285967 L -93.3998302147196,45.03312990967798 L -93.39985405966428,45.03303471532274 L -93.3998871204675,45.032942316567635 L -93.39992907873565,45.03285360326317 L -93.3999795303877,45.03276942976698 L -93.40003798954665,45.03269060671583 L -93.40010389321881,45.03261789321881 L -93.40017660671585,45.03255198954663 L -93.40025542976699,45.0324935303877 L -93.40033960326318,45.032443078735646 L -93.40042831656764,45.03240112046748 L -93.40052071532276,45.032368059664265 L -93.400615909678,45.03234421471959 L -93.40071298285967,45.03232981527333 L -93.400811,45.032325 L -93.40090901714034,45.03232981527333 L -93.40100609032201,45.03234421471959 L -93.40110128467725,45.032368059664265 L -93.40119368343237,45.03240112046748 L -93.40128239673683,45.032443078735646 L -93.40136657023302,45.0324935303877 L -93.40144539328416,45.03255198954663 L -93.4015181067812,45.03261789321881 L -93.40158401045336,45.03269060671583 L -93.40164246961231,45.03276942976698 L -93.40169292126436,45.03285360326317 L -93.40173487953251,45.032942316567635 L -93.40176794033573,45.03303471532274 L -93.40179178528041,45.03312990967798 L -93.40180618472668,45.03322698285967 L -93.40181100000001,45.033325 L -93.40180618472668,45.03342301714033 L -93.40179178528041,45.033520090322014 L -93.40176794033573,45.03361528467725 L -93.40173487953251,45.03370768343236 L -93.40169292126436,45.033796396736825 L -93.40164246961231,45.033880570233016 L -93.40158401045336,45.033959393284164 L -93.4015181067812,45.03403210678118 L -93.40144539328416,45.03409801045336 L -93.40136657023302,45.0341564696123 L -93.40128239673683,45.03420692126435 L -93.40119368343237,45.03424887953251 L -93.40110128467725,45.03428194033573 L -93.40100609032201,45.0343057852804 L -93.40090901714034,45.03432018472667 L -93.400811,45.034324999999995 L -93.40071298285967,45.03432018472667 L -93.400615909678,45.0343057852804 L -93.40052071532276,45.03428194033573 L -93.40042831656764,45.03424887953251 L -93.40033960326318,45.03420692126435 L -93.40025542976699,45.0341564696123 L -93.40017660671585,45.03409801045336 L -93.40010389321881,45.03403210678118 L -93.40003798954665,45.033959393284164 L -93.3999795303877,45.033880570233016 L -93.39992907873565,45.033796396736825 L -93.3998871204675,45.03370768343236 L -93.39985405966428,45.03361528467725 L -93.3998302147196,45.033520090322014 L -93.39981581527333,45.03342301714033 L -93.399811,45.033325 z\" /><path fill-rule=\"evenodd\" fill=\"#66cc99\" stroke=\"#555555\" stroke-width=\"0.06126131520000001\" opacity=\"0.6\" d=\"M -93.400869,45.184308 L -93.40087381527333,45.18420998285967 L -93.4008882147196,45.184112909677985 L -93.40091205966428,45.184017715322746 L -93.4009451204675,45.18392531656764 L -93.40098707873565,45.183836603263174 L -93.4010375303877,45.18375242976698 L -93.40109598954665,45.183673606715836 L -93.40116189321881,45.18360089321882 L -93.40123460671585,45.18353498954664 L -93.40131342976699,45.1834765303877 L -93.40139760326318,45.18342607873565 L -93.40148631656764,45.18338412046749 L -93.40157871532276,45.18335105966427 L -93.401673909678,45.1833272147196 L -93.40177098285967,45.18331281527333 L -93.401869,45.183308000000004 L -93.40196701714034,45.18331281527333 L -93.40206409032201,45.1833272147196 L -93.40215928467725,45.18335105966427 L -93.40225168343237,45.18338412046749 L -93.40234039673683,45.18342607873565 L -93.40242457023302,45.1834765303877 L -93.40250339328416,45.18353498954664 L -93.4025761067812,45.18360089321882 L -93.40264201045336,45.183673606715836 L -93.40270046961231,45.18375242976698 L -93.40275092126436,45.183836603263174 L -93.40279287953251,45.18392531656764 L -93.40282594033573,45.184017715322746 L -93.40284978528041,45.184112909677985 L -93.40286418472668,45.18420998285967 L -93.40286900000001,45.184308 L -93.40286418472668,45.18440601714033 L -93.40284978528041,45.18450309032202 L -93.40282594033573,45.18459828467726 L -93.40279287953251,45.184690683432365 L -93.40275092126436,45.18477939673683 L -93.40270046961231,45.18486357023302 L -93.40264201045336,45.18494239328417 L -93.4025761067812,45.18501510678119 L -93.40250339328416,45.185081010453366 L -93.40242457023302,45.1851394696123 L -93.40234039673683,45.18518992126435 L -93.40225168343237,45.185231879532516 L -93.40215928467725,45.185264940335735 L -93.40206409032201,45.185288785280406 L -93.40196701714034,45.18530318472667 L -93.401869,45.185308 L -93.40177098285967,45.18530318472667 L -93.401673909678,45.185288785280406 L -93.40157871532276,45.185264940335735 L -93.40148631656764,45.185231879532516 L -93.40139760326318,45.18518992126435 L -93.40131342976699,45.1851394696123 L -93.40123460671585,45.185081010453366 L -93.40116189321881,45.18501510678119 L -93.40109598954665,45.18494239328417 L -93.4010375303877,45.18486357023302 L -93.40098707873565,45.18477939673683 L -93.4009451204675,45.184690683432365 L -93.40091205966428,45.18459828467726 L -93.4008882147196,45.18450309032202 L -93.40087381527333,45.18440601714033 L -93.400869,45.184308 z\" /><path fill-rule=\"evenodd\" fill=\"#66cc99\" stroke=\"#555555\" stroke-width=\"0.06126131520000001\" opacity=\"0.6\" d=\"M -93.40540299999999,44.087436 L -93.40540781527332,44.087337982859665 L -93.4054222147196,44.08724090967798 L -93.40544605966427,44.08714571532274 L -93.40547912046749,44.08705331656763 L -93.40552107873565,44.08696460326317 L -93.40557153038769,44.08688042976698 L -93.40562998954664,44.08680160671583 L -93.4056958932188,44.08672889321881 L -93.40576860671584,44.08666298954663 L -93.40584742976698,44.086604530387696 L -93.40593160326317,44.086554078735645 L -93.40602031656763,44.08651212046748 L -93.40611271532275,44.08647905966426 L -93.40620790967799,44.08645521471959 L -93.40630498285967,44.08644081527333 L -93.406403,44.086436 L -93.40650101714033,44.08644081527333 L -93.406598090322,44.08645521471959 L -93.40669328467725,44.08647905966426 L -93.40678568343236,44.08651212046748 L -93.40687439673682,44.086554078735645 L -93.40695857023302,44.086604530387696 L -93.40703739328416,44.08666298954663 L -93.40711010678119,44.08672889321881 L -93.40717601045336,44.08680160671583 L -93.4072344696123,44.08688042976698 L -93.40728492126435,44.08696460326317 L -93.4073268795325,44.08705331656763 L -93.40735994033572,44.08714571532274 L -93.4073837852804,44.08724090967798 L -93.40739818472667,44.087337982859665 L -93.407403,44.087436 L -93.40739818472667,44.08753401714033 L -93.4073837852804,44.08763109032201 L -93.40735994033572,44.08772628467725 L -93.4073268795325,44.08781868343236 L -93.40728492126435,44.087907396736824 L -93.4072344696123,44.087991570233015 L -93.40717601045336,44.08807039328416 L -93.40711010678119,44.08814310678118 L -93.40703739328416,44.08820901045336 L -93.40695857023302,44.0882674696123 L -93.40687439673682,44.08831792126435 L -93.40678568343236,44.08835987953251 L -93.40669328467725,44.08839294033573 L -93.406598090322,44.0884167852804 L -93.40650101714033,44.088431184726666 L -93.406403,44.088435999999994 L -93.40630498285967,44.088431184726666 L -93.40620790967799,44.0884167852804 L -93.40611271532275,44.08839294033573 L -93.40602031656763,44.08835987953251 L -93.40593160326317,44.08831792126435 L -93.40584742976698,44.0882674696123 L -93.40576860671584,44.08820901045336 L -93.4056958932188,44.08814310678118 L -93.40562998954664,44.08807039328416 L -93.40557153038769,44.087991570233015 L -93.40552107873565,44.087907396736824 L -93.40547912046749,44.08781868343236 L -93.40544605966427,44.08772628467725 L -93.4054222147196,44.08763109032201 L -93.40540781527332,44.08753401714033 L -93.40540299999999,44.087436 z\" /><path fill-rule=\"evenodd\" fill=\"#66cc99\" stroke=\"#555555\" stroke-width=\"0.06126131520000001\" opacity=\"0.6\" d=\"M -93.416581,44.901672 L -93.41658581527332,44.90157398285967 L -93.4166002147196,44.90147690967798 L -93.41662405966427,44.90138171532274 L -93.41665712046749,44.901289316567635 L -93.41669907873565,44.90120060326317 L -93.41674953038769,44.90111642976698 L -93.41680798954664,44.90103760671583 L -93.4168738932188,44.90096489321881 L -93.41694660671584,44.90089898954663 L -93.41702542976698,44.9008405303877 L -93.41710960326317,44.900790078735646 L -93.41719831656764,44.90074812046748 L -93.41729071532275,44.900715059664265 L -93.41738590967799,44.90069121471959 L -93.41748298285967,44.90067681527333 L -93.417581,44.900672 L -93.41767901714033,44.90067681527333 L -93.41777609032201,44.90069121471959 L -93.41787128467725,44.900715059664265 L -93.41796368343236,44.90074812046748 L -93.41805239673683,44.900790078735646 L -93.41813657023302,44.9008405303877 L -93.41821539328416,44.90089898954663 L -93.41828810678119,44.90096489321881 L -93.41835401045336,44.90103760671583 L -93.4184124696123,44.90111642976698 L -93.41846292126435,44.90120060326317 L -93.4185048795325,44.901289316567635 L -93.41853794033572,44.90138171532274 L -93.4185617852804,44.90147690967798 L -93.41857618472667,44.90157398285967 L -93.418581,44.901672 L -93.41857618472667,44.90177001714033 L -93.4185617852804,44.901867090322014 L -93.41853794033572,44.90196228467725 L -93.4185048795325,44.90205468343236 L -93.41846292126435,44.902143396736825 L -93.4184124696123,44.902227570233016 L -93.41835401045336,44.902306393284164 L -93.41828810678119,44.90237910678118 L -93.41821539328416,44.90244501045336 L -93.41813657023302,44.9025034696123 L -93.41805239673683,44.90255392126435 L -93.41796368343236,44.90259587953251 L -93.41787128467725,44.90262894033573 L -93.41777609032201,44.9026527852804 L -93.41767901714033,44.90266718472667 L -93.417581,44.902671999999995 L -93.41748298285967,44.90266718472667 L -93.41738590967799,44.9026527852804 L -93.41729071532275,44.90262894033573 L -93.41719831656764,44.90259587953251 L -93.41710960326317,44.90255392126435 L -93.41702542976698,44.9025034696123 L -93.41694660671584,44.90244501045336 L -93.4168738932188,44.90237910678118 L -93.41680798954664,44.902306393284164 L -93.41674953038769,44.902227570233016 L -93.41669907873565,44.902143396736825 L -93.41665712046749,44.90205468343236 L -93.41662405966427,44.90196228467725 L -93.4166002147196,44.901867090322014 L -93.41658581527332,44.90177001714033 L -93.416581,44.901672 z\" /><path fill-rule=\"evenodd\" fill=\"#66cc99\" stroke=\"#555555\" stroke-width=\"0.06126131520000001\" opacity=\"0.6\" d=\"M -93.416939,45.402922 L -93.41694381527333,45.402823982859665 L -93.4169582147196,45.40272690967798 L -93.41698205966428,45.40263171532274 L -93.4170151204675,45.40253931656763 L -93.41705707873565,45.40245060326317 L -93.4171075303877,45.40236642976698 L -93.41716598954665,45.40228760671583 L -93.41723189321881,45.40221489321881 L -93.41730460671585,45.40214898954663 L -93.41738342976699,45.402090530387696 L -93.41746760326318,45.402040078735645 L -93.41755631656764,45.40199812046748 L -93.41764871532276,45.40196505966426 L -93.417743909678,45.40194121471959 L -93.41784098285967,45.40192681527333 L -93.417939,45.401922 L -93.41803701714034,45.40192681527333 L -93.41813409032201,45.40194121471959 L -93.41822928467725,45.40196505966426 L -93.41832168343237,45.40199812046748 L -93.41841039673683,45.402040078735645 L -93.41849457023302,45.402090530387696 L -93.41857339328416,45.40214898954663 L -93.4186461067812,45.40221489321881 L -93.41871201045336,45.40228760671583 L -93.41877046961231,45.40236642976698 L -93.41882092126436,45.40245060326317 L -93.41886287953251,45.40253931656763 L -93.41889594033573,45.40263171532274 L -93.41891978528041,45.40272690967798 L -93.41893418472668,45.402823982859665 L -93.41893900000001,45.402922 L -93.41893418472668,45.40302001714033 L -93.41891978528041,45.40311709032201 L -93.41889594033573,45.40321228467725 L -93.41886287953251,45.40330468343236 L -93.41882092126436,45.403393396736824 L -93.41877046961231,45.403477570233015 L -93.41871201045336,45.40355639328416 L -93.4186461067812,45.40362910678118 L -93.41857339328416,45.40369501045336 L -93.41849457023302,45.4037534696123 L -93.41841039673683,45.40380392126435 L -93.41832168343237,45.40384587953251 L -93.41822928467725,45.40387894033573 L -93.41813409032201,45.4039027852804 L -93.41803701714034,45.403917184726666 L -93.417939,45.403921999999994 L -93.41784098285967,45.403917184726666 L -93.417743909678,45.4039027852804 L -93.41764871532276,45.40387894033573 L -93.41755631656764,45.40384587953251 L -93.41746760326318,45.40380392126435 L -93.41738342976699,45.4037534696123 L -93.41730460671585,45.40369501045336 L -93.41723189321881,45.40362910678118 L -93.41716598954665,45.40355639328416 L -93.4171075303877,45.403477570233015 L -93.41705707873565,45.403393396736824 L -93.4170151204675,45.40330468343236 L -93.41698205966428,45.40321228467725 L -93.4169582147196,45.40311709032201 L -93.41694381527333,45.40302001714033 L -93.416939,45.402922 z\" /><path fill-rule=\"evenodd\" fill=\"#66cc99\" stroke=\"#555555\" stroke-width=\"0.06126131520000001\" opacity=\"0.6\" d=\"M -93.41879999999999,44.8729 L -93.41880481527332,44.87280198285967 L -93.41881921471959,44.872704909677985 L -93.41884305966427,44.872609715322746 L -93.41887612046749,44.87251731656764 L -93.41891807873564,44.872428603263174 L -93.41896853038769,44.87234442976698 L -93.41902698954664,44.872265606715835 L -93.4190928932188,44.872192893218816 L -93.41916560671584,44.872126989546636 L -93.41924442976698,44.8720685303877 L -93.41932860326317,44.87201807873565 L -93.41941731656763,44.87197612046749 L -93.41950971532275,44.87194305966427 L -93.41960490967799,44.8719192147196 L -93.41970198285966,44.87190481527333 L -93.4198,44.871900000000004 L -93.41989801714033,44.87190481527333 L -93.419995090322,44.8719192147196 L -93.42009028467724,44.87194305966427 L -93.42018268343236,44.87197612046749 L -93.42027139673682,44.87201807873565 L -93.42035557023301,44.8720685303877 L -93.42043439328415,44.872126989546636 L -93.42050710678119,44.872192893218816 L -93.42057301045335,44.872265606715835 L -93.4206314696123,44.87234442976698 L -93.42068192126435,44.872428603263174 L -93.4207238795325,44.87251731656764 L -93.42075694033572,44.872609715322746 L -93.4207807852804,44.872704909677985 L -93.42079518472667,44.87280198285967 L -93.4208,44.8729 L -93.42079518472667,44.87299801714033 L -93.4207807852804,44.87309509032202 L -93.42075694033572,44.87319028467726 L -93.4207238795325,44.873282683432365 L -93.42068192126435,44.87337139673683 L -93.4206314696123,44.87345557023302 L -93.42057301045335,44.87353439328417 L -93.42050710678119,44.873607106781186 L -93.42043439328415,44.873673010453366 L -93.42035557023301,44.8737314696123 L -93.42027139673682,44.87378192126435 L -93.42018268343236,44.873823879532516 L -93.42009028467724,44.873856940335735 L -93.419995090322,44.873880785280406 L -93.41989801714033,44.87389518472667 L -93.4198,44.8739 L -93.41970198285966,44.87389518472667 L -93.41960490967799,44.873880785280406 L -93.41950971532275,44.873856940335735 L -93.41941731656763,44.873823879532516 L -93.41932860326317,44.87378192126435 L -93.41924442976698,44.8737314696123 L -93.41916560671584,44.873673010453366 L -93.4190928932188,44.873607106781186 L -93.41902698954664,44.87353439328417 L -93.41896853038769,44.87345557023302 L -93.41891807873564,44.87337139673683 L -93.41887612046749,44.873282683432365 L -93.41884305966427,44.87319028467726 L -93.41881921471959,44.87309509032202 L -93.41880481527332,44.87299801714033 L -93.41879999999999,44.8729 z\" /><path fill-rule=\"evenodd\" fill=\"#66cc99\" stroke=\"#555555\" stroke-width=\"0.06126131520000001\" opacity=\"0.6\" d=\"M -93.431097,44.729389 L -93.43110181527332,44.729290982859666 L -93.4311162147196,44.72919390967798 L -93.43114005966427,44.72909871532274 L -93.43117312046749,44.729006316567634 L -93.43121507873565,44.72891760326317 L -93.43126553038769,44.72883342976698 L -93.43132398954664,44.72875460671583 L -93.4313898932188,44.72868189321881 L -93.43146260671584,44.72861598954663 L -93.43154142976698,44.7285575303877 L -93.43162560326317,44.728507078735646 L -93.43171431656764,44.72846512046748 L -93.43180671532275,44.728432059664264 L -93.43190190967799,44.72840821471959 L -93.43199898285967,44.72839381527333 L -93.432097,44.728389 L -93.43219501714033,44.72839381527333 L -93.43229209032201,44.72840821471959 L -93.43238728467725,44.728432059664264 L -93.43247968343236,44.72846512046748 L -93.43256839673683,44.728507078735646 L -93.43265257023302,44.7285575303877 L -93.43273139328416,44.72861598954663 L -93.43280410678119,44.72868189321881 L -93.43287001045336,44.72875460671583 L -93.4329284696123,44.72883342976698 L -93.43297892126435,44.72891760326317 L -93.4330208795325,44.729006316567634 L -93.43305394033572,44.72909871532274 L -93.4330777852804,44.72919390967798 L -93.43309218472668,44.729290982859666 L -93.433097,44.729389 L -93.43309218472668,44.72948701714033 L -93.4330777852804,44.729584090322014 L -93.43305394033572,44.72967928467725 L -93.4330208795325,44.72977168343236 L -93.43297892126435,44.729860396736825 L -93.4329284696123,44.729944570233016 L -93.43287001045336,44.73002339328416 L -93.43280410678119,44.73009610678118 L -93.43273139328416,44.73016201045336 L -93.43265257023302,44.7302204696123 L -93.43256839673683,44.73027092126435 L -93.43247968343236,44.73031287953251 L -93.43238728467725,44.73034594033573 L -93.43229209032201,44.7303697852804 L -93.43219501714033,44.73038418472667 L -93.432097,44.730388999999995 L -93.43199898285967,44.73038418472667 L -93.43190190967799,44.7303697852804 L -93.43180671532275,44.73034594033573 L -93.43171431656764,44.73031287953251 L -93.43162560326317,44.73027092126435 L -93.43154142976698,44.7302204696123 L -93.43146260671584,44.73016201045336 L -93.4313898932188,44.73009610678118 L -93.43132398954664,44.73002339328416 L -93.43126553038769,44.729944570233016 L -93.43121507873565,44.729860396736825 L -93.43117312046749,44.72977168343236 L -93.43114005966427,44.72967928467725 L -93.4311162147196,44.729584090322014 L -93.43110181527332,44.72948701714033 L -93.431097,44.729389 z\" /><path fill-rule=\"evenodd\" fill=\"#66cc99\" stroke=\"#555555\" stroke-width=\"0.06126131520000001\" opacity=\"0.6\" d=\"M -93.437697,44.831958 L -93.43770181527333,44.83185998285967 L -93.4377162147196,44.831762909677984 L -93.43774005966428,44.831667715322745 L -93.4377731204675,44.83157531656764 L -93.43781507873565,44.83148660326317 L -93.4378655303877,44.83140242976698 L -93.43792398954665,44.831323606715834 L -93.43798989321881,44.831250893218815 L -93.43806260671585,44.831184989546635 L -93.43814142976699,44.8311265303877 L -93.43822560326318,44.83107607873565 L -93.43831431656764,44.831034120467486 L -93.43840671532276,44.83100105966427 L -93.438501909678,44.830977214719596 L -93.43859898285967,44.83096281527333 L -93.438697,44.830958 L -93.43879501714034,44.83096281527333 L -93.43889209032201,44.830977214719596 L -93.43898728467725,44.83100105966427 L -93.43907968343237,44.831034120467486 L -93.43916839673683,44.83107607873565 L -93.43925257023302,44.8311265303877 L -93.43933139328416,44.831184989546635 L -93.4394041067812,44.831250893218815 L -93.43947001045336,44.831323606715834 L -93.43952846961231,44.83140242976698 L -93.43957892126436,44.83148660326317 L -93.43962087953251,44.83157531656764 L -93.43965394033573,44.831667715322745 L -93.43967778528041,44.831762909677984 L -93.43969218472668,44.83185998285967 L -93.43969700000001,44.831958 L -93.43969218472668,44.83205601714033 L -93.43967778528041,44.83215309032202 L -93.43965394033573,44.832248284677256 L -93.43962087953251,44.83234068343236 L -93.43957892126436,44.83242939673683 L -93.43952846961231,44.83251357023302 L -93.43947001045336,44.832592393284166 L -93.4394041067812,44.832665106781185 L -93.43933139328416,44.832731010453365 L -93.43925257023302,44.8327894696123 L -93.43916839673683,44.83283992126435 L -93.43907968343237,44.832881879532515 L -93.43898728467725,44.83291494033573 L -93.43889209032201,44.832938785280405 L -93.43879501714034,44.83295318472667 L -93.438697,44.832958 L -93.43859898285967,44.83295318472667 L -93.438501909678,44.832938785280405 L -93.43840671532276,44.83291494033573 L -93.43831431656764,44.832881879532515 L -93.43822560326318,44.83283992126435 L -93.43814142976699,44.8327894696123 L -93.43806260671585,44.832731010453365 L -93.43798989321881,44.832665106781185 L -93.43792398954665,44.832592393284166 L -93.4378655303877,44.83251357023302 L -93.43781507873565,44.83242939673683 L -93.4377731204675,44.83234068343236 L -93.43774005966428,44.832248284677256 L -93.4377162147196,44.83215309032202 L -93.43770181527333,44.83205601714033 L -93.437697,44.831958 z\" /><path fill-rule=\"evenodd\" fill=\"#66cc99\" stroke=\"#555555\" stroke-width=\"0.06126131520000001\" opacity=\"0.6\" d=\"M -93.451422,45.849536 L -93.45142681527332,45.84943798285967 L -93.4514412147196,45.849340909677984 L -93.45146505966427,45.849245715322745 L -93.45149812046749,45.84915331656764 L -93.45154007873565,45.84906460326317 L -93.45159053038769,45.84898042976698 L -93.45164898954664,45.848901606715835 L -93.4517148932188,45.848828893218815 L -93.45178760671584,45.848762989546636 L -93.45186642976698,45.8487045303877 L -93.45195060326317,45.84865407873565 L -93.45203931656764,45.848612120467486 L -93.45213171532275,45.84857905966427 L -93.45222690967799,45.848555214719596 L -93.45232398285967,45.84854081527333 L -93.452422,45.848536 L -93.45252001714033,45.84854081527333 L -93.45261709032201,45.848555214719596 L -93.45271228467725,45.84857905966427 L -93.45280468343236,45.848612120467486 L -93.45289339673683,45.84865407873565 L -93.45297757023302,45.8487045303877 L -93.45305639328416,45.848762989546636 L -93.45312910678119,45.848828893218815 L -93.45319501045336,45.848901606715835 L -93.4532534696123,45.84898042976698 L -93.45330392126435,45.84906460326317 L -93.4533458795325,45.84915331656764 L -93.45337894033572,45.849245715322745 L -93.4534027852804,45.849340909677984 L -93.45341718472667,45.84943798285967 L -93.453422,45.849536 L -93.45341718472667,45.84963401714033 L -93.4534027852804,45.84973109032202 L -93.45337894033572,45.849826284677256 L -93.4533458795325,45.849918683432364 L -93.45330392126435,45.85000739673683 L -93.4532534696123,45.85009157023302 L -93.45319501045336,45.850170393284166 L -93.45312910678119,45.850243106781186 L -93.45305639328416,45.850309010453365 L -93.45297757023302,45.8503674696123 L -93.45289339673683,45.85041792126435 L -93.45280468343236,45.850459879532515 L -93.45271228467725,45.850492940335734 L -93.45261709032201,45.850516785280405 L -93.45252001714033,45.85053118472667 L -93.452422,45.850536 L -93.45232398285967,45.85053118472667 L -93.45222690967799,45.850516785280405 L -93.45213171532275,45.850492940335734 L -93.45203931656764,45.850459879532515 L -93.45195060326317,45.85041792126435 L -93.45186642976698,45.8503674696123 L -93.45178760671584,45.850309010453365 L -93.4517148932188,45.850243106781186 L -93.45164898954664,45.850170393284166 L -93.45159053038769,45.85009157023302 L -93.45154007873565,45.85000739673683 L -93.45149812046749,45.849918683432364 L -93.45146505966427,45.849826284677256 L -93.4514412147196,45.84973109032202 L -93.45142681527332,45.84963401714033 L -93.451422,45.849536 z\" /><path fill-rule=\"evenodd\" fill=\"#66cc99\" stroke=\"#555555\" stroke-width=\"0.06126131520000001\" opacity=\"0.6\" d=\"M -93.45921399999999,44.975608 L -93.45921881527332,44.97550998285967 L -93.45923321471959,44.975412909677985 L -93.45925705966427,44.975317715322745 L -93.45929012046749,44.97522531656764 L -93.45933207873564,44.975136603263174 L -93.45938253038769,44.97505242976698 L -93.45944098954664,44.974973606715835 L -93.4595068932188,44.974900893218816 L -93.45957960671583,44.974834989546636 L -93.45965842976698,44.9747765303877 L -93.45974260326317,44.97472607873565 L -93.45983131656763,44.97468412046749 L -93.45992371532274,44.97465105966427 L -93.46001890967798,44.9746272147196 L -93.46011598285966,44.97461281527333 L -93.460214,44.974608 L -93.46031201714032,44.97461281527333 L -93.460409090322,44.9746272147196 L -93.46050428467724,44.97465105966427 L -93.46059668343236,44.97468412046749 L -93.46068539673682,44.97472607873565 L -93.46076957023301,44.9747765303877 L -93.46084839328415,44.974834989546636 L -93.46092110678119,44.974900893218816 L -93.46098701045335,44.974973606715835 L -93.4610454696123,44.97505242976698 L -93.46109592126435,44.975136603263174 L -93.4611378795325,44.97522531656764 L -93.46117094033572,44.975317715322745 L -93.4611947852804,44.975412909677985 L -93.46120918472667,44.97550998285967 L -93.461214,44.975608 L -93.46120918472667,44.97570601714033 L -93.4611947852804,44.97580309032202 L -93.46117094033572,44.97589828467726 L -93.4611378795325,44.975990683432364 L -93.46109592126435,44.97607939673683 L -93.4610454696123,44.97616357023302 L -93.46098701045335,44.97624239328417 L -93.46092110678119,44.976315106781186 L -93.46084839328415,44.976381010453366 L -93.46076957023301,44.9764394696123 L -93.46068539673682,44.97648992126435 L -93.46059668343236,44.976531879532516 L -93.46050428467724,44.976564940335734 L -93.460409090322,44.976588785280406 L -93.46031201714032,44.97660318472667 L -93.460214,44.976608 L -93.46011598285966,44.97660318472667 L -93.46001890967798,44.976588785280406 L -93.45992371532274,44.976564940335734 L -93.45983131656763,44.976531879532516 L -93.45974260326317,44.97648992126435 L -93.45965842976698,44.9764394696123 L -93.45957960671583,44.976381010453366 L -93.4595068932188,44.976315106781186 L -93.45944098954664,44.97624239328417 L -93.45938253038769,44.97616357023302 L -93.45933207873564,44.97607939673683 L -93.45929012046749,44.975990683432364 L -93.45925705966427,44.97589828467726 L -93.45923321471959,44.97580309032202 L -93.45921881527332,44.97570601714033 L -93.45921399999999,44.975608 z\" /><path fill-rule=\"evenodd\" fill=\"#66cc99\" stroke=\"#555555\" stroke-width=\"0.06126131520000001\" opacity=\"0.6\" d=\"M -93.460167,44.888633 L -93.46017181527333,44.88853498285967 L -93.4601862147196,44.88843790967798 L -93.46021005966428,44.88834271532274 L -93.4602431204675,44.888250316567635 L -93.46028507873565,44.88816160326317 L -93.4603355303877,44.88807742976698 L -93.46039398954665,44.88799860671583 L -93.46045989321881,44.887925893218814 L -93.46053260671584,44.887859989546634 L -93.46061142976698,44.8878015303877 L -93.46069560326318,44.88775107873565 L -93.46078431656764,44.887709120467484 L -93.46087671532275,44.887676059664265 L -93.460971909678,44.887652214719594 L -93.46106898285967,44.88763781527333 L -93.461167,44.887633 L -93.46126501714033,44.88763781527333 L -93.46136209032201,44.887652214719594 L -93.46145728467725,44.887676059664265 L -93.46154968343237,44.887709120467484 L -93.46163839673683,44.88775107873565 L -93.46172257023302,44.8878015303877 L -93.46180139328416,44.887859989546634 L -93.4618741067812,44.887925893218814 L -93.46194001045336,44.88799860671583 L -93.46199846961231,44.88807742976698 L -93.46204892126435,44.88816160326317 L -93.46209087953251,44.888250316567635 L -93.46212394033573,44.88834271532274 L -93.46214778528041,44.88843790967798 L -93.46216218472668,44.88853498285967 L -93.46216700000001,44.888633 L -93.46216218472668,44.88873101714033 L -93.46214778528041,44.888828090322015 L -93.46212394033573,44.888923284677254 L -93.46209087953251,44.88901568343236 L -93.46204892126435,44.889104396736826 L -93.46199846961231,44.88918857023302 L -93.46194001045336,44.889267393284165 L -93.4618741067812,44.889340106781184 L -93.46180139328416,44.889406010453364 L -93.46172257023302,44.8894644696123 L -93.46163839673683,44.88951492126435 L -93.46154968343237,44.88955687953251 L -93.46145728467725,44.88958994033573 L -93.46136209032201,44.8896137852804 L -93.46126501714033,44.88962818472667 L -93.461167,44.889632999999996 L -93.46106898285967,44.88962818472667 L -93.460971909678,44.8896137852804 L -93.46087671532275,44.88958994033573 L -93.46078431656764,44.88955687953251 L -93.46069560326318,44.88951492126435 L -93.46061142976698,44.8894644696123 L -93.46053260671584,44.889406010453364 L -93.46045989321881,44.889340106781184 L -93.46039398954665,44.889267393284165 L -93.4603355303877,44.88918857023302 L -93.46028507873565,44.889104396736826 L -93.4602431204675,44.88901568343236 L -93.46021005966428,44.888923284677254 L -93.4601862147196,44.888828090322015 L -93.46017181527333,44.88873101714033 L -93.460167,44.888633 z\" /><path fill-rule=\"evenodd\" fill=\"#66cc99\" stroke=\"#555555\" stroke-width=\"0.06126131520000001\" opacity=\"0.6\" d=\"M -93.46093599999999,45.150089 L -93.46094081527332,45.14999098285967 L -93.46095521471959,45.149893909677985 L -93.46097905966427,45.149798715322746 L -93.46101212046749,45.14970631656764 L -93.46105407873564,45.149617603263174 L -93.46110453038769,45.14953342976698 L -93.46116298954664,45.149454606715835 L -93.4612288932188,45.149381893218816 L -93.46130160671584,45.149315989546636 L -93.46138042976698,45.1492575303877 L -93.46146460326317,45.14920707873565 L -93.46155331656763,45.14916512046749 L -93.46164571532275,45.14913205966427 L -93.46174090967799,45.1491082147196 L -93.46183798285966,45.14909381527333 L -93.461936,45.149089000000004 L -93.46203401714033,45.14909381527333 L -93.462131090322,45.1491082147196 L -93.46222628467724,45.14913205966427 L -93.46231868343236,45.14916512046749 L -93.46240739673682,45.14920707873565 L -93.46249157023301,45.1492575303877 L -93.46257039328415,45.149315989546636 L -93.46264310678119,45.149381893218816 L -93.46270901045335,45.149454606715835 L -93.4627674696123,45.14953342976698 L -93.46281792126435,45.149617603263174 L -93.4628598795325,45.14970631656764 L -93.46289294033572,45.149798715322746 L -93.4629167852804,45.149893909677985 L -93.46293118472667,45.14999098285967 L -93.462936,45.150089 L -93.46293118472667,45.15018701714033 L -93.4629167852804,45.15028409032202 L -93.46289294033572,45.15037928467726 L -93.4628598795325,45.150471683432365 L -93.46281792126435,45.15056039673683 L -93.4627674696123,45.15064457023302 L -93.46270901045335,45.15072339328417 L -93.46264310678119,45.150796106781186 L -93.46257039328415,45.150862010453366 L -93.46249157023301,45.1509204696123 L -93.46240739673682,45.15097092126435 L -93.46231868343236,45.151012879532516 L -93.46222628467724,45.151045940335734 L -93.462131090322,45.151069785280406 L -93.46203401714033,45.15108418472667 L -93.461936,45.151089 L -93.46183798285966,45.15108418472667 L -93.46174090967799,45.151069785280406 L -93.46164571532275,45.151045940335734 L -93.46155331656763,45.151012879532516 L -93.46146460326317,45.15097092126435 L -93.46138042976698,45.1509204696123 L -93.46130160671584,45.150862010453366 L -93.4612288932188,45.150796106781186 L -93.46116298954664,45.15072339328417 L -93.46110453038769,45.15064457023302 L -93.46105407873564,45.15056039673683 L -93.46101212046749,45.150471683432365 L -93.46097905966427,45.15037928467726 L -93.46095521471959,45.15028409032202 L -93.46094081527332,45.15018701714033 L -93.46093599999999,45.150089 z\" /><path fill-rule=\"evenodd\" fill=\"#66cc99\" stroke=\"#555555\" stroke-width=\"0.06126131520000001\" opacity=\"0.6\" d=\"M -93.47273299999999,45.109419 L -93.47273781527332,45.10932098285967 L -93.47275221471959,45.109223909677986 L -93.47277605966427,45.10912871532275 L -93.47280912046749,45.10903631656764 L -93.47285107873564,45.108947603263175 L -93.47290153038769,45.108863429766984 L -93.47295998954664,45.10878460671584 L -93.4730258932188,45.10871189321882 L -93.47309860671584,45.10864598954664 L -93.47317742976698,45.1085875303877 L -93.47326160326317,45.10853707873565 L -93.47335031656763,45.10849512046749 L -93.47344271532275,45.10846205966427 L -93.47353790967799,45.1084382147196 L -93.47363498285966,45.10842381527333 L -93.473733,45.108419000000005 L -93.47383101714033,45.10842381527333 L -93.473928090322,45.1084382147196 L -93.47402328467724,45.10846205966427 L -93.47411568343236,45.10849512046749 L -93.47420439673682,45.10853707873565 L -93.47428857023301,45.1085875303877 L -93.47436739328415,45.10864598954664 L -93.47444010678119,45.10871189321882 L -93.47450601045335,45.10878460671584 L -93.4745644696123,45.108863429766984 L -93.47461492126435,45.108947603263175 L -93.4746568795325,45.10903631656764 L -93.47468994033572,45.10912871532275 L -93.4747137852804,45.109223909677986 L -93.47472818472667,45.10932098285967 L -93.474733,45.109419 L -93.47472818472667,45.109517017140334 L -93.4747137852804,45.10961409032202 L -93.47468994033572,45.10970928467726 L -93.4746568795325,45.109801683432366 L -93.47461492126435,45.10989039673683 L -93.4745644696123,45.10997457023302 L -93.47450601045335,45.11005339328417 L -93.47444010678119,45.11012610678119 L -93.47436739328415,45.11019201045337 L -93.47428857023301,45.1102504696123 L -93.47420439673682,45.110300921264354 L -93.47411568343236,45.11034287953252 L -93.47402328467724,45.110375940335736 L -93.473928090322,45.11039978528041 L -93.47383101714033,45.11041418472667 L -93.473733,45.110419 L -93.47363498285966,45.11041418472667 L -93.47353790967799,45.11039978528041 L -93.47344271532275,45.110375940335736 L -93.47335031656763,45.11034287953252 L -93.47326160326317,45.110300921264354 L -93.47317742976698,45.1102504696123 L -93.47309860671584,45.11019201045337 L -93.4730258932188,45.11012610678119 L -93.47295998954664,45.11005339328417 L -93.47290153038769,45.10997457023302 L -93.47285107873564,45.10989039673683 L -93.47280912046749,45.109801683432366 L -93.47277605966427,45.10970928467726 L -93.47275221471959,45.10961409032202 L -93.47273781527332,45.109517017140334 L -93.47273299999999,45.109419 z\" /><path fill-rule=\"evenodd\" fill=\"#66cc99\" stroke=\"#555555\" stroke-width=\"0.06126131520000001\" opacity=\"0.6\" d=\"M -93.50123599999999,44.982139 L -93.50124081527332,44.982040982859665 L -93.50125521471959,44.98194390967798 L -93.50127905966427,44.98184871532274 L -93.50131212046749,44.98175631656763 L -93.50135407873564,44.98166760326317 L -93.50140453038769,44.98158342976698 L -93.50146298954664,44.98150460671583 L -93.5015288932188,44.98143189321881 L -93.50160160671584,44.98136598954663 L -93.50168042976698,44.981307530387696 L -93.50176460326317,44.981257078735645 L -93.50185331656763,44.98121512046748 L -93.50194571532275,44.98118205966426 L -93.50204090967799,44.98115821471959 L -93.50213798285967,44.98114381527333 L -93.502236,44.981139 L -93.50233401714033,44.98114381527333 L -93.502431090322,44.98115821471959 L -93.50252628467724,44.98118205966426 L -93.50261868343236,44.98121512046748 L -93.50270739673682,44.981257078735645 L -93.50279157023301,44.981307530387696 L -93.50287039328416,44.98136598954663 L -93.50294310678119,44.98143189321881 L -93.50300901045335,44.98150460671583 L -93.5030674696123,44.98158342976698 L -93.50311792126435,44.98166760326317 L -93.5031598795325,44.98175631656763 L -93.50319294033572,44.98184871532274 L -93.5032167852804,44.98194390967798 L -93.50323118472667,44.982040982859665 L -93.503236,44.982139 L -93.50323118472667,44.98223701714033 L -93.5032167852804,44.98233409032201 L -93.50319294033572,44.98242928467725 L -93.5031598795325,44.98252168343236 L -93.50311792126435,44.982610396736824 L -93.5030674696123,44.982694570233015 L -93.50300901045335,44.98277339328416 L -93.50294310678119,44.98284610678118 L -93.50287039328416,44.98291201045336 L -93.50279157023301,44.9829704696123 L -93.50270739673682,44.98302092126435 L -93.50261868343236,44.98306287953251 L -93.50252628467724,44.98309594033573 L -93.502431090322,44.9831197852804 L -93.50233401714033,44.983134184726666 L -93.502236,44.983138999999994 L -93.50213798285967,44.983134184726666 L -93.50204090967799,44.9831197852804 L -93.50194571532275,44.98309594033573 L -93.50185331656763,44.98306287953251 L -93.50176460326317,44.98302092126435 L -93.50168042976698,44.9829704696123 L -93.50160160671584,44.98291201045336 L -93.5015288932188,44.98284610678118 L -93.50146298954664,44.98277339328416 L -93.50140453038769,44.982694570233015 L -93.50135407873564,44.982610396736824 L -93.50131212046749,44.98252168343236 L -93.50127905966427,44.98242928467725 L -93.50125521471959,44.98233409032201 L -93.50124081527332,44.98223701714033 L -93.50123599999999,44.982139 z\" /><path fill-rule=\"evenodd\" fill=\"#66cc99\" stroke=\"#555555\" stroke-width=\"0.06126131520000001\" opacity=\"0.6\" d=\"M -93.50554699999999,45.138314 L -93.50555181527332,45.13821598285967 L -93.5055662147196,45.138118909677985 L -93.50559005966427,45.138023715322745 L -93.50562312046749,45.13793131656764 L -93.50566507873565,45.137842603263174 L -93.50571553038769,45.13775842976698 L -93.50577398954664,45.137679606715835 L -93.5058398932188,45.137606893218816 L -93.50591260671584,45.137540989546636 L -93.50599142976698,45.1374825303877 L -93.50607560326317,45.13743207873565 L -93.50616431656763,45.13739012046749 L -93.50625671532275,45.13735705966427 L -93.50635190967799,45.1373332147196 L -93.50644898285967,45.13731881527333 L -93.506547,45.137314 L -93.50664501714033,45.13731881527333 L -93.506742090322,45.1373332147196 L -93.50683728467725,45.13735705966427 L -93.50692968343236,45.13739012046749 L -93.50701839673683,45.13743207873565 L -93.50710257023302,45.1374825303877 L -93.50718139328416,45.137540989546636 L -93.50725410678119,45.137606893218816 L -93.50732001045336,45.137679606715835 L -93.5073784696123,45.13775842976698 L -93.50742892126435,45.137842603263174 L -93.5074708795325,45.13793131656764 L -93.50750394033572,45.138023715322745 L -93.5075277852804,45.138118909677985 L -93.50754218472667,45.13821598285967 L -93.507547,45.138314 L -93.50754218472667,45.13841201714033 L -93.5075277852804,45.13850909032202 L -93.50750394033572,45.13860428467726 L -93.5074708795325,45.138696683432364 L -93.50742892126435,45.13878539673683 L -93.5073784696123,45.13886957023302 L -93.50732001045336,45.13894839328417 L -93.50725410678119,45.139021106781186 L -93.50718139328416,45.139087010453366 L -93.50710257023302,45.1391454696123 L -93.50701839673683,45.13919592126435 L -93.50692968343236,45.139237879532516 L -93.50683728467725,45.139270940335734 L -93.506742090322,45.139294785280406 L -93.50664501714033,45.13930918472667 L -93.506547,45.139314 L -93.50644898285967,45.13930918472667 L -93.50635190967799,45.139294785280406 L -93.50625671532275,45.139270940335734 L -93.50616431656763,45.139237879532516 L -93.50607560326317,45.13919592126435 L -93.50599142976698,45.1391454696123 L -93.50591260671584,45.139087010453366 L -93.5058398932188,45.139021106781186 L -93.50577398954664,45.13894839328417 L -93.50571553038769,45.13886957023302 L -93.50566507873565,45.13878539673683 L -93.50562312046749,45.138696683432364 L -93.50559005966427,45.13860428467726 L -93.5055662147196,45.13850909032202 L -93.50555181527332,45.13841201714033 L -93.50554699999999,45.138314 z\" /><path fill-rule=\"evenodd\" fill=\"#66cc99\" stroke=\"#555555\" stroke-width=\"0.06126131520000001\" opacity=\"0.6\" d=\"M -93.52355299999999,44.454922 L -93.52355781527332,44.45482398285967 L -93.5235722147196,44.45472690967799 L -93.52359605966427,44.45463171532275 L -93.52362912046749,44.45453931656764 L -93.52367107873565,44.454450603263176 L -93.52372153038769,44.454366429766985 L -93.52377998954664,44.45428760671584 L -93.5238458932188,44.45421489321882 L -93.52391860671584,44.45414898954664 L -93.52399742976698,44.4540905303877 L -93.52408160326317,44.45404007873565 L -93.52417031656763,44.45399812046749 L -93.52426271532275,44.45396505966427 L -93.52435790967799,44.4539412147196 L -93.52445498285967,44.453926815273334 L -93.524553,44.453922000000006 L -93.52465101714033,44.453926815273334 L -93.524748090322,44.4539412147196 L -93.52484328467725,44.45396505966427 L -93.52493568343236,44.45399812046749 L -93.52502439673682,44.45404007873565 L -93.52510857023302,44.4540905303877 L -93.52518739328416,44.45414898954664 L -93.52526010678119,44.45421489321882 L -93.52532601045336,44.45428760671584 L -93.5253844696123,44.454366429766985 L -93.52543492126435,44.454450603263176 L -93.5254768795325,44.45453931656764 L -93.52550994033572,44.45463171532275 L -93.5255337852804,44.45472690967799 L -93.52554818472667,44.45482398285967 L -93.525553,44.454922 L -93.52554818472667,44.455020017140335 L -93.5255337852804,44.45511709032202 L -93.52550994033572,44.45521228467726 L -93.5254768795325,44.45530468343237 L -93.52543492126435,44.45539339673683 L -93.5253844696123,44.45547757023302 L -93.52532601045336,44.45555639328417 L -93.52526010678119,44.45562910678119 L -93.52518739328416,44.45569501045337 L -93.52510857023302,44.455753469612304 L -93.52502439673682,44.455803921264355 L -93.52493568343236,44.45584587953252 L -93.52484328467725,44.45587894033574 L -93.524748090322,44.45590278528041 L -93.52465101714033,44.45591718472667 L -93.524553,44.455922 L -93.52445498285967,44.45591718472667 L -93.52435790967799,44.45590278528041 L -93.52426271532275,44.45587894033574 L -93.52417031656763,44.45584587953252 L -93.52408160326317,44.455803921264355 L -93.52399742976698,44.455753469612304 L -93.52391860671584,44.45569501045337 L -93.5238458932188,44.45562910678119 L -93.52377998954664,44.45555639328417 L -93.52372153038769,44.45547757023302 L -93.52367107873565,44.45539339673683 L -93.52362912046749,44.45530468343237 L -93.52359605966427,44.45521228467726 L -93.5235722147196,44.45511709032202 L -93.52355781527332,44.455020017140335 L -93.52355299999999,44.454922 z\" /><path fill-rule=\"evenodd\" fill=\"#66cc99\" stroke=\"#555555\" stroke-width=\"0.06126131520000001\" opacity=\"0.6\" d=\"M -93.527861,45.116542 L -93.52786581527333,45.11644398285967 L -93.5278802147196,45.116346909677986 L -93.52790405966428,45.11625171532275 L -93.5279371204675,45.11615931656764 L -93.52797907873565,45.116070603263175 L -93.5280295303877,45.115986429766984 L -93.52808798954665,45.11590760671584 L -93.52815389321881,45.11583489321882 L -93.52822660671585,45.11576898954664 L -93.52830542976699,45.1157105303877 L -93.52838960326318,45.11566007873565 L -93.52847831656764,45.11561812046749 L -93.52857071532276,45.11558505966427 L -93.528665909678,45.1155612147196 L -93.52876298285967,45.11554681527333 L -93.528861,45.115542000000005 L -93.52895901714034,45.11554681527333 L -93.52905609032202,45.1155612147196 L -93.52915128467725,45.11558505966427 L -93.52924368343237,45.11561812046749 L -93.52933239673683,45.11566007873565 L -93.52941657023302,45.1157105303877 L -93.52949539328417,45.11576898954664 L -93.5295681067812,45.11583489321882 L -93.52963401045336,45.11590760671584 L -93.52969246961231,45.115986429766984 L -93.52974292126436,45.116070603263175 L -93.52978487953251,45.11615931656764 L -93.52981794033573,45.11625171532275 L -93.52984178528041,45.116346909677986 L -93.52985618472668,45.11644398285967 L -93.52986100000001,45.116542 L -93.52985618472668,45.116640017140334 L -93.52984178528041,45.11673709032202 L -93.52981794033573,45.11683228467726 L -93.52978487953251,45.116924683432366 L -93.52974292126436,45.11701339673683 L -93.52969246961231,45.11709757023302 L -93.52963401045336,45.11717639328417 L -93.5295681067812,45.11724910678119 L -93.52949539328417,45.11731501045337 L -93.52941657023302,45.1173734696123 L -93.52933239673683,45.117423921264354 L -93.52924368343237,45.11746587953252 L -93.52915128467725,45.117498940335736 L -93.52905609032202,45.11752278528041 L -93.52895901714034,45.11753718472667 L -93.528861,45.117542 L -93.52876298285967,45.11753718472667 L -93.528665909678,45.11752278528041 L -93.52857071532276,45.117498940335736 L -93.52847831656764,45.11746587953252 L -93.52838960326318,45.117423921264354 L -93.52830542976699,45.1173734696123 L -93.52822660671585,45.11731501045337 L -93.52815389321881,45.11724910678119 L -93.52808798954665,45.11717639328417 L -93.5280295303877,45.11709757023302 L -93.52797907873565,45.11701339673683 L -93.5279371204675,45.116924683432366 L -93.52790405966428,45.11683228467726 L -93.5278802147196,45.11673709032202 L -93.52786581527333,45.116640017140334 L -93.527861,45.116542 z\" /><path fill-rule=\"evenodd\" fill=\"#66cc99\" stroke=\"#555555\" stroke-width=\"0.06126131520000001\" opacity=\"0.6\" d=\"M -93.54965299999999,44.608719 L -93.54965781527332,44.60862098285967 L -93.54967221471959,44.608523909677984 L -93.54969605966427,44.608428715322745 L -93.54972912046749,44.60833631656764 L -93.54977107873565,44.60824760326317 L -93.54982153038769,44.60816342976698 L -93.54987998954664,44.608084606715835 L -93.5499458932188,44.608011893218816 L -93.55001860671584,44.607945989546636 L -93.55009742976698,44.6078875303877 L -93.55018160326317,44.60783707873565 L -93.55027031656763,44.607795120467486 L -93.55036271532275,44.60776205966427 L -93.55045790967799,44.607738214719596 L -93.55055498285967,44.60772381527333 L -93.550653,44.607719 L -93.55075101714033,44.60772381527333 L -93.550848090322,44.607738214719596 L -93.55094328467725,44.60776205966427 L -93.55103568343236,44.607795120467486 L -93.55112439673682,44.60783707873565 L -93.55120857023302,44.6078875303877 L -93.55128739328416,44.607945989546636 L -93.55136010678119,44.608011893218816 L -93.55142601045335,44.608084606715835 L -93.5514844696123,44.60816342976698 L -93.55153492126435,44.60824760326317 L -93.5515768795325,44.60833631656764 L -93.55160994033572,44.608428715322745 L -93.5516337852804,44.608523909677984 L -93.55164818472667,44.60862098285967 L -93.551653,44.608719 L -93.55164818472667,44.60881701714033 L -93.5516337852804,44.60891409032202 L -93.55160994033572,44.609009284677256 L -93.5515768795325,44.609101683432364 L -93.55153492126435,44.60919039673683 L -93.5514844696123,44.60927457023302 L -93.55142601045335,44.60935339328417 L -93.55136010678119,44.609426106781186 L -93.55128739328416,44.609492010453366 L -93.55120857023302,44.6095504696123 L -93.55112439673682,44.60960092126435 L -93.55103568343236,44.609642879532515 L -93.55094328467725,44.609675940335734 L -93.550848090322,44.609699785280405 L -93.55075101714033,44.60971418472667 L -93.550653,44.609719 L -93.55055498285967,44.60971418472667 L -93.55045790967799,44.609699785280405 L -93.55036271532275,44.609675940335734 L -93.55027031656763,44.609642879532515 L -93.55018160326317,44.60960092126435 L -93.55009742976698,44.6095504696123 L -93.55001860671584,44.609492010453366 L -93.5499458932188,44.609426106781186 L -93.54987998954664,44.60935339328417 L -93.54982153038769,44.60927457023302 L -93.54977107873565,44.60919039673683 L -93.54972912046749,44.609101683432364 L -93.54969605966427,44.609009284677256 L -93.54967221471959,44.60891409032202 L -93.54965781527332,44.60881701714033 L -93.54965299999999,44.608719 z\" /><path fill-rule=\"evenodd\" fill=\"#66cc99\" stroke=\"#555555\" stroke-width=\"0.06126131520000001\" opacity=\"0.6\" d=\"M -93.56129399999999,44.218444 L -93.56129881527332,44.21834598285967 L -93.56131321471959,44.21824890967798 L -93.56133705966427,44.21815371532274 L -93.56137012046749,44.218061316567635 L -93.56141207873564,44.21797260326317 L -93.56146253038769,44.21788842976698 L -93.56152098954664,44.21780960671583 L -93.5615868932188,44.21773689321881 L -93.56165960671584,44.21767098954663 L -93.56173842976698,44.2176125303877 L -93.56182260326317,44.21756207873565 L -93.56191131656763,44.21752012046748 L -93.56200371532275,44.217487059664265 L -93.56209890967799,44.217463214719594 L -93.56219598285966,44.21744881527333 L -93.562294,44.217444 L -93.56239201714033,44.21744881527333 L -93.562489090322,44.217463214719594 L -93.56258428467724,44.217487059664265 L -93.56267668343236,44.21752012046748 L -93.56276539673682,44.21756207873565 L -93.56284957023301,44.2176125303877 L -93.56292839328415,44.21767098954663 L -93.56300110678119,44.21773689321881 L -93.56306701045335,44.21780960671583 L -93.5631254696123,44.21788842976698 L -93.56317592126435,44.21797260326317 L -93.5632178795325,44.218061316567635 L -93.56325094033572,44.21815371532274 L -93.5632747852804,44.21824890967798 L -93.56328918472667,44.21834598285967 L -93.563294,44.218444 L -93.56328918472667,44.21854201714033 L -93.5632747852804,44.218639090322014 L -93.56325094033572,44.218734284677254 L -93.5632178795325,44.21882668343236 L -93.56317592126435,44.218915396736826 L -93.5631254696123,44.21899957023302 L -93.56306701045335,44.219078393284164 L -93.56300110678119,44.21915110678118 L -93.56292839328415,44.21921701045336 L -93.56284957023301,44.2192754696123 L -93.56276539673682,44.21932592126435 L -93.56267668343236,44.21936787953251 L -93.56258428467724,44.21940094033573 L -93.562489090322,44.2194247852804 L -93.56239201714033,44.21943918472667 L -93.562294,44.219443999999996 L -93.56219598285966,44.21943918472667 L -93.56209890967799,44.2194247852804 L -93.56200371532275,44.21940094033573 L -93.56191131656763,44.21936787953251 L -93.56182260326317,44.21932592126435 L -93.56173842976698,44.2192754696123 L -93.56165960671584,44.21921701045336 L -93.5615868932188,44.21915110678118 L -93.56152098954664,44.219078393284164 L -93.56146253038769,44.21899957023302 L -93.56141207873564,44.218915396736826 L -93.56137012046749,44.21882668343236 L -93.56133705966427,44.218734284677254 L -93.56131321471959,44.218639090322014 L -93.56129881527332,44.21854201714033 L -93.56129399999999,44.218444 z\" /><path fill-rule=\"evenodd\" fill=\"#66cc99\" stroke=\"#555555\" stroke-width=\"0.06126131520000001\" opacity=\"0.6\" d=\"M -93.56527799999999,44.216981 L -93.56528281527332,44.216882982859666 L -93.56529721471959,44.21678590967798 L -93.56532105966427,44.21669071532274 L -93.56535412046749,44.216598316567634 L -93.56539607873565,44.21650960326317 L -93.56544653038769,44.21642542976698 L -93.56550498954664,44.21634660671583 L -93.5655708932188,44.21627389321881 L -93.56564360671584,44.21620798954663 L -93.56572242976698,44.216149530387696 L -93.56580660326317,44.216099078735645 L -93.56589531656763,44.21605712046748 L -93.56598771532275,44.216024059664264 L -93.56608290967799,44.21600021471959 L -93.56617998285967,44.21598581527333 L -93.566278,44.215981 L -93.56637601714033,44.21598581527333 L -93.566473090322,44.21600021471959 L -93.56656828467725,44.216024059664264 L -93.56666068343236,44.21605712046748 L -93.56674939673682,44.216099078735645 L -93.56683357023302,44.216149530387696 L -93.56691239328416,44.21620798954663 L -93.56698510678119,44.21627389321881 L -93.56705101045335,44.21634660671583 L -93.5671094696123,44.21642542976698 L -93.56715992126435,44.21650960326317 L -93.5672018795325,44.216598316567634 L -93.56723494033572,44.21669071532274 L -93.5672587852804,44.21678590967798 L -93.56727318472667,44.216882982859666 L -93.567278,44.216981 L -93.56727318472667,44.21707901714033 L -93.5672587852804,44.21717609032201 L -93.56723494033572,44.21727128467725 L -93.5672018795325,44.21736368343236 L -93.56715992126435,44.217452396736824 L -93.5671094696123,44.217536570233015 L -93.56705101045335,44.21761539328416 L -93.56698510678119,44.21768810678118 L -93.56691239328416,44.21775401045336 L -93.56683357023302,44.2178124696123 L -93.56674939673682,44.21786292126435 L -93.56666068343236,44.21790487953251 L -93.56656828467725,44.21793794033573 L -93.566473090322,44.2179617852804 L -93.56637601714033,44.217976184726666 L -93.566278,44.217980999999995 L -93.56617998285967,44.217976184726666 L -93.56608290967799,44.2179617852804 L -93.56598771532275,44.21793794033573 L -93.56589531656763,44.21790487953251 L -93.56580660326317,44.21786292126435 L -93.56572242976698,44.2178124696123 L -93.56564360671584,44.21775401045336 L -93.5655708932188,44.21768810678118 L -93.56550498954664,44.21761539328416 L -93.56544653038769,44.217536570233015 L -93.56539607873565,44.217452396736824 L -93.56535412046749,44.21736368343236 L -93.56532105966427,44.21727128467725 L -93.56529721471959,44.21717609032201 L -93.56528281527332,44.21707901714033 L -93.56527799999999,44.216981 z\" /><path fill-rule=\"evenodd\" fill=\"#66cc99\" stroke=\"#555555\" stroke-width=\"0.06126131520000001\" opacity=\"0.6\" d=\"M -93.58322199999999,45.144314 L -93.58322681527332,45.14421598285967 L -93.58324121471959,45.144118909677985 L -93.58326505966427,45.144023715322746 L -93.58329812046749,45.14393131656764 L -93.58334007873565,45.143842603263174 L -93.58339053038769,45.14375842976698 L -93.58344898954664,45.143679606715835 L -93.5835148932188,45.143606893218816 L -93.58358760671584,45.143540989546636 L -93.58366642976698,45.1434825303877 L -93.58375060326317,45.14343207873565 L -93.58383931656763,45.14339012046749 L -93.58393171532275,45.14335705966427 L -93.58402690967799,45.1433332147196 L -93.58412398285967,45.14331881527333 L -93.584222,45.143314000000004 L -93.58432001714033,45.14331881527333 L -93.584417090322,45.1433332147196 L -93.58451228467725,45.14335705966427 L -93.58460468343236,45.14339012046749 L -93.58469339673682,45.14343207873565 L -93.58477757023302,45.1434825303877 L -93.58485639328416,45.143540989546636 L -93.58492910678119,45.143606893218816 L -93.58499501045335,45.143679606715835 L -93.5850534696123,45.14375842976698 L -93.58510392126435,45.143842603263174 L -93.5851458795325,45.14393131656764 L -93.58517894033572,45.144023715322746 L -93.5852027852804,45.144118909677985 L -93.58521718472667,45.14421598285967 L -93.585222,45.144314 L -93.58521718472667,45.14441201714033 L -93.5852027852804,45.14450909032202 L -93.58517894033572,45.14460428467726 L -93.5851458795325,45.144696683432365 L -93.58510392126435,45.14478539673683 L -93.5850534696123,45.14486957023302 L -93.58499501045335,45.14494839328417 L -93.58492910678119,45.145021106781186 L -93.58485639328416,45.145087010453366 L -93.58477757023302,45.1451454696123 L -93.58469339673682,45.14519592126435 L -93.58460468343236,45.145237879532516 L -93.58451228467725,45.145270940335735 L -93.584417090322,45.145294785280406 L -93.58432001714033,45.14530918472667 L -93.584222,45.145314 L -93.58412398285967,45.14530918472667 L -93.58402690967799,45.145294785280406 L -93.58393171532275,45.145270940335735 L -93.58383931656763,45.145237879532516 L -93.58375060326317,45.14519592126435 L -93.58366642976698,45.1451454696123 L -93.58358760671584,45.145087010453366 L -93.5835148932188,45.145021106781186 L -93.58344898954664,45.14494839328417 L -93.58339053038769,45.14486957023302 L -93.58334007873565,45.14478539673683 L -93.58329812046749,45.144696683432365 L -93.58326505966427,45.14460428467726 L -93.58324121471959,45.14450909032202 L -93.58322681527332,45.14441201714033 L -93.58322199999999,45.144314 z\" /><path fill-rule=\"evenodd\" fill=\"#66cc99\" stroke=\"#555555\" stroke-width=\"0.06126131520000001\" opacity=\"0.6\" d=\"M -93.594383,44.367942 L -93.59438781527332,44.36784398285967 L -93.5944022147196,44.36774690967798 L -93.59442605966427,44.367651715322744 L -93.59445912046749,44.367559316567636 L -93.59450107873565,44.36747060326317 L -93.59455153038769,44.36738642976698 L -93.59460998954664,44.36730760671583 L -93.5946758932188,44.367234893218814 L -93.59474860671584,44.367168989546634 L -93.59482742976698,44.3671105303877 L -93.59491160326317,44.36706007873565 L -93.59500031656763,44.367018120467485 L -93.59509271532275,44.366985059664266 L -93.59518790967799,44.366961214719595 L -93.59528498285967,44.36694681527333 L -93.595383,44.366942 L -93.59548101714033,44.36694681527333 L -93.59557809032201,44.366961214719595 L -93.59567328467725,44.366985059664266 L -93.59576568343236,44.367018120467485 L -93.59585439673683,44.36706007873565 L -93.59593857023302,44.3671105303877 L -93.59601739328416,44.367168989546634 L -93.59609010678119,44.367234893218814 L -93.59615601045336,44.36730760671583 L -93.5962144696123,44.36738642976698 L -93.59626492126435,44.36747060326317 L -93.5963068795325,44.367559316567636 L -93.59633994033572,44.367651715322744 L -93.5963637852804,44.36774690967798 L -93.59637818472667,44.36784398285967 L -93.596383,44.367942 L -93.59637818472667,44.36804001714033 L -93.5963637852804,44.368137090322016 L -93.59633994033572,44.368232284677255 L -93.5963068795325,44.36832468343236 L -93.59626492126435,44.36841339673683 L -93.5962144696123,44.36849757023302 L -93.59615601045336,44.368576393284165 L -93.59609010678119,44.368649106781184 L -93.59601739328416,44.368715010453364 L -93.59593857023302,44.3687734696123 L -93.59585439673683,44.36882392126435 L -93.59576568343236,44.368865879532514 L -93.59567328467725,44.36889894033573 L -93.59557809032201,44.368922785280404 L -93.59548101714033,44.36893718472667 L -93.595383,44.368942 L -93.59528498285967,44.36893718472667 L -93.59518790967799,44.368922785280404 L -93.59509271532275,44.36889894033573 L -93.59500031656763,44.368865879532514 L -93.59491160326317,44.36882392126435 L -93.59482742976698,44.3687734696123 L -93.59474860671584,44.368715010453364 L -93.5946758932188,44.368649106781184 L -93.59460998954664,44.368576393284165 L -93.59455153038769,44.36849757023302 L -93.59450107873565,44.36841339673683 L -93.59445912046749,44.36832468343236 L -93.59442605966427,44.368232284677255 L -93.5944022147196,44.368137090322016 L -93.59438781527332,44.36804001714033 L -93.594383,44.367942 z\" /><path fill-rule=\"evenodd\" fill=\"#66cc99\" stroke=\"#555555\" stroke-width=\"0.06126131520000001\" opacity=\"0.6\" d=\"M -93.59683899999999,44.790097 L -93.59684381527332,44.78999898285967 L -93.59685821471959,44.78990190967799 L -93.59688205966427,44.78980671532275 L -93.59691512046749,44.78971431656764 L -93.59695707873564,44.789625603263175 L -93.59700753038769,44.789541429766984 L -93.59706598954664,44.78946260671584 L -93.5971318932188,44.78938989321882 L -93.59720460671583,44.78932398954664 L -93.59728342976697,44.7892655303877 L -93.59736760326317,44.78921507873565 L -93.59745631656763,44.78917312046749 L -93.59754871532274,44.78914005966427 L -93.59764390967798,44.7891162147196 L -93.59774098285966,44.789101815273334 L -93.597839,44.789097000000005 L -93.59793701714032,44.789101815273334 L -93.598034090322,44.7891162147196 L -93.59812928467724,44.78914005966427 L -93.59822168343236,44.78917312046749 L -93.59831039673682,44.78921507873565 L -93.59839457023301,44.7892655303877 L -93.59847339328415,44.78932398954664 L -93.59854610678119,44.78938989321882 L -93.59861201045335,44.78946260671584 L -93.5986704696123,44.789541429766984 L -93.59872092126434,44.789625603263175 L -93.5987628795325,44.78971431656764 L -93.59879594033572,44.78980671532275 L -93.5988197852804,44.78990190967799 L -93.59883418472667,44.78999898285967 L -93.598839,44.790097 L -93.59883418472667,44.790195017140334 L -93.5988197852804,44.79029209032202 L -93.59879594033572,44.79038728467726 L -93.5987628795325,44.790479683432366 L -93.59872092126434,44.79056839673683 L -93.5986704696123,44.79065257023302 L -93.59861201045335,44.79073139328417 L -93.59854610678119,44.79080410678119 L -93.59847339328415,44.79087001045337 L -93.59839457023301,44.790928469612304 L -93.59831039673682,44.790978921264355 L -93.59822168343236,44.79102087953252 L -93.59812928467724,44.791053940335736 L -93.598034090322,44.79107778528041 L -93.59793701714032,44.79109218472667 L -93.597839,44.791097 L -93.59774098285966,44.79109218472667 L -93.59764390967798,44.79107778528041 L -93.59754871532274,44.791053940335736 L -93.59745631656763,44.79102087953252 L -93.59736760326317,44.790978921264355 L -93.59728342976697,44.790928469612304 L -93.59720460671583,44.79087001045337 L -93.5971318932188,44.79080410678119 L -93.59706598954664,44.79073139328417 L -93.59700753038769,44.79065257023302 L -93.59695707873564,44.79056839673683 L -93.59691512046749,44.790479683432366 L -93.59688205966427,44.79038728467726 L -93.59685821471959,44.79029209032202 L -93.59684381527332,44.790195017140334 L -93.59683899999999,44.790097 z\" /><path fill-rule=\"evenodd\" fill=\"#66cc99\" stroke=\"#555555\" stroke-width=\"0.06126131520000001\" opacity=\"0.6\" d=\"M -93.604581,44.785383 L -93.60458581527332,44.78528498285967 L -93.6046002147196,44.78518790967799 L -93.60462405966427,44.78509271532275 L -93.6046571204675,44.78500031656764 L -93.60469907873565,44.784911603263176 L -93.60474953038769,44.784827429766985 L -93.60480798954664,44.78474860671584 L -93.60487389321881,44.78467589321882 L -93.60494660671584,44.78460998954664 L -93.60502542976698,44.7845515303877 L -93.60510960326317,44.78450107873565 L -93.60519831656764,44.78445912046749 L -93.60529071532275,44.78442605966427 L -93.60538590967799,44.7844022147196 L -93.60548298285967,44.784387815273334 L -93.605581,44.784383000000005 L -93.60567901714033,44.784387815273334 L -93.60577609032201,44.7844022147196 L -93.60587128467725,44.78442605966427 L -93.60596368343236,44.78445912046749 L -93.60605239673683,44.78450107873565 L -93.60613657023302,44.7845515303877 L -93.60621539328416,44.78460998954664 L -93.6062881067812,44.78467589321882 L -93.60635401045336,44.78474860671584 L -93.60641246961231,44.784827429766985 L -93.60646292126435,44.784911603263176 L -93.60650487953251,44.78500031656764 L -93.60653794033573,44.78509271532275 L -93.6065617852804,44.78518790967799 L -93.60657618472668,44.78528498285967 L -93.606581,44.785383 L -93.60657618472668,44.785481017140334 L -93.6065617852804,44.78557809032202 L -93.60653794033573,44.78567328467726 L -93.60650487953251,44.785765683432366 L -93.60646292126435,44.78585439673683 L -93.60641246961231,44.78593857023302 L -93.60635401045336,44.78601739328417 L -93.6062881067812,44.78609010678119 L -93.60621539328416,44.78615601045337 L -93.60613657023302,44.786214469612304 L -93.60605239673683,44.786264921264355 L -93.60596368343236,44.78630687953252 L -93.60587128467725,44.786339940335736 L -93.60577609032201,44.78636378528041 L -93.60567901714033,44.78637818472667 L -93.605581,44.786383 L -93.60548298285967,44.78637818472667 L -93.60538590967799,44.78636378528041 L -93.60529071532275,44.786339940335736 L -93.60519831656764,44.78630687953252 L -93.60510960326317,44.786264921264355 L -93.60502542976698,44.786214469612304 L -93.60494660671584,44.78615601045337 L -93.60487389321881,44.78609010678119 L -93.60480798954664,44.78601739328417 L -93.60474953038769,44.78593857023302 L -93.60469907873565,44.78585439673683 L -93.6046571204675,44.785765683432366 L -93.60462405966427,44.78567328467726 L -93.6046002147196,44.78557809032202 L -93.60458581527332,44.785481017140334 L -93.604581,44.785383 z\" /><path fill-rule=\"evenodd\" fill=\"#66cc99\" stroke=\"#555555\" stroke-width=\"0.06126131520000001\" opacity=\"0.6\" d=\"M -93.62147499999999,44.763697 L -93.62147981527332,44.76359898285967 L -93.62149421471959,44.763501909677984 L -93.62151805966427,44.763406715322745 L -93.62155112046749,44.76331431656764 L -93.62159307873564,44.76322560326317 L -93.62164353038769,44.76314142976698 L -93.62170198954664,44.763062606715835 L -93.6217678932188,44.762989893218815 L -93.62184060671584,44.762923989546636 L -93.62191942976698,44.7628655303877 L -93.62200360326317,44.76281507873565 L -93.62209231656763,44.762773120467486 L -93.62218471532275,44.76274005966427 L -93.62227990967799,44.762716214719596 L -93.62237698285966,44.76270181527333 L -93.622475,44.762697 L -93.62257301714033,44.76270181527333 L -93.622670090322,44.762716214719596 L -93.62276528467724,44.76274005966427 L -93.62285768343236,44.762773120467486 L -93.62294639673682,44.76281507873565 L -93.62303057023301,44.7628655303877 L -93.62310939328415,44.762923989546636 L -93.62318210678119,44.762989893218815 L -93.62324801045335,44.763062606715835 L -93.6233064696123,44.76314142976698 L -93.62335692126435,44.76322560326317 L -93.6233988795325,44.76331431656764 L -93.62343194033572,44.763406715322745 L -93.6234557852804,44.763501909677984 L -93.62347018472667,44.76359898285967 L -93.623475,44.763697 L -93.62347018472667,44.76379501714033 L -93.6234557852804,44.76389209032202 L -93.62343194033572,44.763987284677256 L -93.6233988795325,44.764079683432364 L -93.62335692126435,44.76416839673683 L -93.6233064696123,44.76425257023302 L -93.62324801045335,44.764331393284166 L -93.62318210678119,44.764404106781186 L -93.62310939328415,44.764470010453365 L -93.62303057023301,44.7645284696123 L -93.62294639673682,44.76457892126435 L -93.62285768343236,44.764620879532515 L -93.62276528467724,44.764653940335734 L -93.622670090322,44.764677785280405 L -93.62257301714033,44.76469218472667 L -93.622475,44.764697 L -93.62237698285966,44.76469218472667 L -93.62227990967799,44.764677785280405 L -93.62218471532275,44.764653940335734 L -93.62209231656763,44.764620879532515 L -93.62200360326317,44.76457892126435 L -93.62191942976698,44.7645284696123 L -93.62184060671584,44.764470010453365 L -93.6217678932188,44.764404106781186 L -93.62170198954664,44.764331393284166 L -93.62164353038769,44.76425257023302 L -93.62159307873564,44.76416839673683 L -93.62155112046749,44.764079683432364 L -93.62151805966427,44.763987284677256 L -93.62149421471959,44.76389209032202 L -93.62147981527332,44.76379501714033 L -93.62147499999999,44.763697 z\" /><path fill-rule=\"evenodd\" fill=\"#66cc99\" stroke=\"#555555\" stroke-width=\"0.06126131520000001\" opacity=\"0.6\" d=\"M -93.62390599999999,44.800944 L -93.62391081527332,44.80084598285967 L -93.62392521471959,44.800748909677985 L -93.62394905966427,44.800653715322746 L -93.62398212046749,44.80056131656764 L -93.62402407873564,44.800472603263174 L -93.62407453038769,44.80038842976698 L -93.62413298954664,44.800309606715835 L -93.6241988932188,44.800236893218816 L -93.62427160671584,44.800170989546636 L -93.62435042976698,44.8001125303877 L -93.62443460326317,44.80006207873565 L -93.62452331656763,44.80002012046749 L -93.62461571532275,44.79998705966427 L -93.62471090967799,44.7999632147196 L -93.62480798285966,44.79994881527333 L -93.624906,44.799944 L -93.62500401714033,44.79994881527333 L -93.625101090322,44.7999632147196 L -93.62519628467724,44.79998705966427 L -93.62528868343236,44.80002012046749 L -93.62537739673682,44.80006207873565 L -93.62546157023301,44.8001125303877 L -93.62554039328415,44.800170989546636 L -93.62561310678119,44.800236893218816 L -93.62567901045335,44.800309606715835 L -93.6257374696123,44.80038842976698 L -93.62578792126435,44.800472603263174 L -93.6258298795325,44.80056131656764 L -93.62586294033572,44.800653715322746 L -93.6258867852804,44.800748909677985 L -93.62590118472667,44.80084598285967 L -93.625906,44.800944 L -93.62590118472667,44.80104201714033 L -93.6258867852804,44.80113909032202 L -93.62586294033572,44.80123428467726 L -93.6258298795325,44.801326683432364 L -93.62578792126435,44.80141539673683 L -93.6257374696123,44.80149957023302 L -93.62567901045335,44.80157839328417 L -93.62561310678119,44.801651106781186 L -93.62554039328415,44.801717010453366 L -93.62546157023301,44.8017754696123 L -93.62537739673682,44.80182592126435 L -93.62528868343236,44.801867879532516 L -93.62519628467724,44.801900940335734 L -93.625101090322,44.801924785280406 L -93.62500401714033,44.80193918472667 L -93.624906,44.801944 L -93.62480798285966,44.80193918472667 L -93.62471090967799,44.801924785280406 L -93.62461571532275,44.801900940335734 L -93.62452331656763,44.801867879532516 L -93.62443460326317,44.80182592126435 L -93.62435042976698,44.8017754696123 L -93.62427160671584,44.801717010453366 L -93.6241988932188,44.801651106781186 L -93.62413298954664,44.80157839328417 L -93.62407453038769,44.80149957023302 L -93.62402407873564,44.80141539673683 L -93.62398212046749,44.801326683432364 L -93.62394905966427,44.80123428467726 L -93.62392521471959,44.80113909032202 L -93.62391081527332,44.80104201714033 L -93.62390599999999,44.800944 z\" /><path fill-rule=\"evenodd\" fill=\"#66cc99\" stroke=\"#555555\" stroke-width=\"0.06126131520000001\" opacity=\"0.6\" d=\"M -93.62426699999999,44.762644 L -93.62427181527332,44.76254598285967 L -93.62428621471959,44.762448909677985 L -93.62431005966427,44.762353715322746 L -93.62434312046749,44.76226131656764 L -93.62438507873564,44.762172603263174 L -93.62443553038769,44.76208842976698 L -93.62449398954664,44.762009606715836 L -93.6245598932188,44.76193689321882 L -93.62463260671583,44.76187098954664 L -93.62471142976698,44.7618125303877 L -93.62479560326317,44.76176207873565 L -93.62488431656763,44.76172012046749 L -93.62497671532275,44.76168705966427 L -93.62507190967798,44.7616632147196 L -93.62516898285966,44.76164881527333 L -93.625267,44.761644000000004 L -93.62536501714033,44.76164881527333 L -93.625462090322,44.7616632147196 L -93.62555728467724,44.76168705966427 L -93.62564968343236,44.76172012046749 L -93.62573839673682,44.76176207873565 L -93.62582257023301,44.7618125303877 L -93.62590139328415,44.76187098954664 L -93.62597410678119,44.76193689321882 L -93.62604001045335,44.762009606715836 L -93.6260984696123,44.76208842976698 L -93.62614892126435,44.762172603263174 L -93.6261908795325,44.76226131656764 L -93.62622394033572,44.762353715322746 L -93.6262477852804,44.762448909677985 L -93.62626218472667,44.76254598285967 L -93.626267,44.762644 L -93.62626218472667,44.76274201714033 L -93.6262477852804,44.76283909032202 L -93.62622394033572,44.76293428467726 L -93.6261908795325,44.763026683432365 L -93.62614892126435,44.76311539673683 L -93.6260984696123,44.76319957023302 L -93.62604001045335,44.76327839328417 L -93.62597410678119,44.76335110678119 L -93.62590139328415,44.76341701045337 L -93.62582257023301,44.7634754696123 L -93.62573839673682,44.76352592126435 L -93.62564968343236,44.763567879532516 L -93.62555728467724,44.763600940335735 L -93.625462090322,44.763624785280406 L -93.62536501714033,44.76363918472667 L -93.625267,44.763644 L -93.62516898285966,44.76363918472667 L -93.62507190967798,44.763624785280406 L -93.62497671532275,44.763600940335735 L -93.62488431656763,44.763567879532516 L -93.62479560326317,44.76352592126435 L -93.62471142976698,44.7634754696123 L -93.62463260671583,44.76341701045337 L -93.6245598932188,44.76335110678119 L -93.62449398954664,44.76327839328417 L -93.62443553038769,44.76319957023302 L -93.62438507873564,44.76311539673683 L -93.62434312046749,44.763026683432365 L -93.62431005966427,44.76293428467726 L -93.62428621471959,44.76283909032202 L -93.62427181527332,44.76274201714033 L -93.62426699999999,44.762644 z\" /><path fill-rule=\"evenodd\" fill=\"#66cc99\" stroke=\"#555555\" stroke-width=\"0.06126131520000001\" opacity=\"0.6\" d=\"M -93.628014,44.241261 L -93.62801881527332,44.24116298285967 L -93.6280332147196,44.241065909677985 L -93.62805705966427,44.240970715322746 L -93.62809012046749,44.24087831656764 L -93.62813207873565,44.240789603263174 L -93.62818253038769,44.24070542976698 L -93.62824098954664,44.240626606715836 L -93.6283068932188,44.24055389321882 L -93.62837960671584,44.24048798954664 L -93.62845842976698,44.2404295303877 L -93.62854260326317,44.24037907873565 L -93.62863131656763,44.24033712046749 L -93.62872371532275,44.24030405966427 L -93.62881890967799,44.2402802147196 L -93.62891598285967,44.24026581527333 L -93.629014,44.240261000000004 L -93.62911201714033,44.24026581527333 L -93.62920909032201,44.2402802147196 L -93.62930428467725,44.24030405966427 L -93.62939668343236,44.24033712046749 L -93.62948539673683,44.24037907873565 L -93.62956957023302,44.2404295303877 L -93.62964839328416,44.24048798954664 L -93.62972110678119,44.24055389321882 L -93.62978701045336,44.240626606715836 L -93.6298454696123,44.24070542976698 L -93.62989592126435,44.240789603263174 L -93.6299378795325,44.24087831656764 L -93.62997094033572,44.240970715322746 L -93.6299947852804,44.241065909677985 L -93.63000918472667,44.24116298285967 L -93.630014,44.241261 L -93.63000918472667,44.24135901714033 L -93.6299947852804,44.24145609032202 L -93.62997094033572,44.24155128467726 L -93.6299378795325,44.241643683432365 L -93.62989592126435,44.24173239673683 L -93.6298454696123,44.24181657023302 L -93.62978701045336,44.24189539328417 L -93.62972110678119,44.24196810678119 L -93.62964839328416,44.24203401045337 L -93.62956957023302,44.2420924696123 L -93.62948539673683,44.24214292126435 L -93.62939668343236,44.242184879532516 L -93.62930428467725,44.242217940335735 L -93.62920909032201,44.242241785280406 L -93.62911201714033,44.24225618472667 L -93.629014,44.242261 L -93.62891598285967,44.24225618472667 L -93.62881890967799,44.242241785280406 L -93.62872371532275,44.242217940335735 L -93.62863131656763,44.242184879532516 L -93.62854260326317,44.24214292126435 L -93.62845842976698,44.2420924696123 L -93.62837960671584,44.24203401045337 L -93.6283068932188,44.24196810678119 L -93.62824098954664,44.24189539328417 L -93.62818253038769,44.24181657023302 L -93.62813207873565,44.24173239673683 L -93.62809012046749,44.241643683432365 L -93.62805705966427,44.24155128467726 L -93.6280332147196,44.24145609032202 L -93.62801881527332,44.24135901714033 L -93.628014,44.241261 z\" /><path fill-rule=\"evenodd\" fill=\"#66cc99\" stroke=\"#555555\" stroke-width=\"0.06126131520000001\" opacity=\"0.6\" d=\"M -93.628997,44.800644 L -93.62900181527333,44.80054598285967 L -93.6290162147196,44.80044890967798 L -93.62904005966428,44.80035371532274 L -93.6290731204675,44.800261316567635 L -93.62911507873565,44.80017260326317 L -93.6291655303877,44.80008842976698 L -93.62922398954665,44.80000960671583 L -93.62928989321881,44.79993689321881 L -93.62936260671584,44.79987098954663 L -93.62944142976698,44.7998125303877 L -93.62952560326318,44.79976207873565 L -93.62961431656764,44.799720120467484 L -93.62970671532275,44.799687059664265 L -93.629801909678,44.799663214719594 L -93.62989898285967,44.79964881527333 L -93.629997,44.799644 L -93.63009501714033,44.79964881527333 L -93.63019209032201,44.799663214719594 L -93.63028728467725,44.799687059664265 L -93.63037968343237,44.799720120467484 L -93.63046839673683,44.79976207873565 L -93.63055257023302,44.7998125303877 L -93.63063139328416,44.79987098954663 L -93.6307041067812,44.79993689321881 L -93.63077001045336,44.80000960671583 L -93.63082846961231,44.80008842976698 L -93.63087892126435,44.80017260326317 L -93.63092087953251,44.800261316567635 L -93.63095394033573,44.80035371532274 L -93.63097778528041,44.80044890967798 L -93.63099218472668,44.80054598285967 L -93.63099700000001,44.800644 L -93.63099218472668,44.80074201714033 L -93.63097778528041,44.800839090322015 L -93.63095394033573,44.800934284677254 L -93.63092087953251,44.80102668343236 L -93.63087892126435,44.801115396736826 L -93.63082846961231,44.80119957023302 L -93.63077001045336,44.801278393284164 L -93.6307041067812,44.80135110678118 L -93.63063139328416,44.80141701045336 L -93.63055257023302,44.8014754696123 L -93.63046839673683,44.80152592126435 L -93.63037968343237,44.80156787953251 L -93.63028728467725,44.80160094033573 L -93.63019209032201,44.8016247852804 L -93.63009501714033,44.80163918472667 L -93.629997,44.801643999999996 L -93.62989898285967,44.80163918472667 L -93.629801909678,44.8016247852804 L -93.62970671532275,44.80160094033573 L -93.62961431656764,44.80156787953251 L -93.62952560326318,44.80152592126435 L -93.62944142976698,44.8014754696123 L -93.62936260671584,44.80141701045336 L -93.62928989321881,44.80135110678118 L -93.62922398954665,44.801278393284164 L -93.6291655303877,44.80119957023302 L -93.62911507873565,44.801115396736826 L -93.6290731204675,44.80102668343236 L -93.62904005966428,44.800934284677254 L -93.6290162147196,44.800839090322015 L -93.62900181527333,44.80074201714033 L -93.628997,44.800644 z\" /><path fill-rule=\"evenodd\" fill=\"#66cc99\" stroke=\"#555555\" stroke-width=\"0.06126131520000001\" opacity=\"0.6\" d=\"M -93.654097,45.443761 L -93.65410181527332,45.44366298285967 L -93.6541162147196,45.443565909677986 L -93.65414005966427,45.443470715322746 L -93.65417312046749,45.44337831656764 L -93.65421507873565,45.443289603263175 L -93.65426553038769,45.443205429766984 L -93.65432398954664,45.443126606715836 L -93.6543898932188,45.44305389321882 L -93.65446260671584,45.44298798954664 L -93.65454142976698,45.4429295303877 L -93.65462560326317,45.44287907873565 L -93.65471431656763,45.44283712046749 L -93.65480671532275,45.44280405966427 L -93.65490190967799,45.4427802147196 L -93.65499898285967,45.44276581527333 L -93.655097,45.442761000000004 L -93.65519501714033,45.44276581527333 L -93.655292090322,45.4427802147196 L -93.65538728467725,45.44280405966427 L -93.65547968343236,45.44283712046749 L -93.65556839673683,45.44287907873565 L -93.65565257023302,45.4429295303877 L -93.65573139328416,45.44298798954664 L -93.65580410678119,45.44305389321882 L -93.65587001045336,45.443126606715836 L -93.6559284696123,45.443205429766984 L -93.65597892126435,45.443289603263175 L -93.6560208795325,45.44337831656764 L -93.65605394033572,45.443470715322746 L -93.6560777852804,45.443565909677986 L -93.65609218472667,45.44366298285967 L -93.656097,45.443761 L -93.65609218472667,45.44385901714033 L -93.6560777852804,45.44395609032202 L -93.65605394033572,45.44405128467726 L -93.6560208795325,45.444143683432365 L -93.65597892126435,45.44423239673683 L -93.6559284696123,45.44431657023302 L -93.65587001045336,45.44439539328417 L -93.65580410678119,45.44446810678119 L -93.65573139328416,45.44453401045337 L -93.65565257023302,45.4445924696123 L -93.65556839673683,45.444642921264354 L -93.65547968343236,45.44468487953252 L -93.65538728467725,45.444717940335735 L -93.655292090322,45.44474178528041 L -93.65519501714033,45.44475618472667 L -93.655097,45.444761 L -93.65499898285967,45.44475618472667 L -93.65490190967799,45.44474178528041 L -93.65480671532275,45.444717940335735 L -93.65471431656763,45.44468487953252 L -93.65462560326317,45.444642921264354 L -93.65454142976698,45.4445924696123 L -93.65446260671584,45.44453401045337 L -93.6543898932188,45.44446810678119 L -93.65432398954664,45.44439539328417 L -93.65426553038769,45.44431657023302 L -93.65421507873565,45.44423239673683 L -93.65417312046749,45.444143683432365 L -93.65414005966427,45.44405128467726 L -93.6541162147196,45.44395609032202 L -93.65410181527332,45.44385901714033 L -93.654097,45.443761 z\" /><path fill-rule=\"evenodd\" fill=\"#66cc99\" stroke=\"#555555\" stroke-width=\"0.06126131520000001\" opacity=\"0.6\" d=\"M -93.65665299999999,44.180333 L -93.65665781527332,44.180234982859666 L -93.65667221471959,44.18013790967798 L -93.65669605966427,44.18004271532274 L -93.65672912046749,44.179950316567634 L -93.65677107873564,44.17986160326317 L -93.65682153038769,44.17977742976698 L -93.65687998954664,44.17969860671583 L -93.6569458932188,44.17962589321881 L -93.65701860671584,44.17955998954663 L -93.65709742976698,44.1795015303877 L -93.65718160326317,44.179451078735646 L -93.65727031656763,44.17940912046748 L -93.65736271532275,44.179376059664264 L -93.65745790967799,44.17935221471959 L -93.65755498285966,44.17933781527333 L -93.657653,44.179333 L -93.65775101714033,44.17933781527333 L -93.657848090322,44.17935221471959 L -93.65794328467724,44.179376059664264 L -93.65803568343236,44.17940912046748 L -93.65812439673682,44.179451078735646 L -93.65820857023301,44.1795015303877 L -93.65828739328416,44.17955998954663 L -93.65836010678119,44.17962589321881 L -93.65842601045335,44.17969860671583 L -93.6584844696123,44.17977742976698 L -93.65853492126435,44.17986160326317 L -93.6585768795325,44.179950316567634 L -93.65860994033572,44.18004271532274 L -93.6586337852804,44.18013790967798 L -93.65864818472667,44.180234982859666 L -93.658653,44.180333 L -93.65864818472667,44.18043101714033 L -93.6586337852804,44.180528090322014 L -93.65860994033572,44.18062328467725 L -93.6585768795325,44.18071568343236 L -93.65853492126435,44.180804396736825 L -93.6584844696123,44.180888570233016 L -93.65842601045335,44.18096739328416 L -93.65836010678119,44.18104010678118 L -93.65828739328416,44.18110601045336 L -93.65820857023301,44.1811644696123 L -93.65812439673682,44.18121492126435 L -93.65803568343236,44.18125687953251 L -93.65794328467724,44.18128994033573 L -93.657848090322,44.1813137852804 L -93.65775101714033,44.18132818472667 L -93.657653,44.181332999999995 L -93.65755498285966,44.18132818472667 L -93.65745790967799,44.1813137852804 L -93.65736271532275,44.18128994033573 L -93.65727031656763,44.18125687953251 L -93.65718160326317,44.18121492126435 L -93.65709742976698,44.1811644696123 L -93.65701860671584,44.18110601045336 L -93.6569458932188,44.18104010678118 L -93.65687998954664,44.18096739328416 L -93.65682153038769,44.180888570233016 L -93.65677107873564,44.180804396736825 L -93.65672912046749,44.18071568343236 L -93.65669605966427,44.18062328467725 L -93.65667221471959,44.180528090322014 L -93.65665781527332,44.18043101714033 L -93.65665299999999,44.180333 z\" /><path fill-rule=\"evenodd\" fill=\"#66cc99\" stroke=\"#555555\" stroke-width=\"0.06126131520000001\" opacity=\"0.6\" d=\"M -93.665458,45.334239 L -93.66546281527333,45.334140982859665 L -93.6654772147196,45.33404390967798 L -93.66550105966428,45.33394871532274 L -93.6655341204675,45.33385631656763 L -93.66557607873565,45.33376760326317 L -93.6656265303877,45.33368342976698 L -93.66568498954665,45.33360460671583 L -93.66575089321881,45.33353189321881 L -93.66582360671585,45.33346598954663 L -93.66590242976699,45.333407530387696 L -93.66598660326318,45.333357078735645 L -93.66607531656764,45.33331512046748 L -93.66616771532276,45.33328205966426 L -93.666262909678,45.33325821471959 L -93.66635998285967,45.33324381527333 L -93.666458,45.333239 L -93.66655601714034,45.33324381527333 L -93.66665309032201,45.33325821471959 L -93.66674828467725,45.33328205966426 L -93.66684068343237,45.33331512046748 L -93.66692939673683,45.333357078735645 L -93.66701357023302,45.333407530387696 L -93.66709239328416,45.33346598954663 L -93.6671651067812,45.33353189321881 L -93.66723101045336,45.33360460671583 L -93.66728946961231,45.33368342976698 L -93.66733992126436,45.33376760326317 L -93.66738187953251,45.33385631656763 L -93.66741494033573,45.33394871532274 L -93.66743878528041,45.33404390967798 L -93.66745318472668,45.334140982859665 L -93.66745800000001,45.334239 L -93.66745318472668,45.33433701714033 L -93.66743878528041,45.33443409032201 L -93.66741494033573,45.33452928467725 L -93.66738187953251,45.33462168343236 L -93.66733992126436,45.334710396736824 L -93.66728946961231,45.334794570233015 L -93.66723101045336,45.33487339328416 L -93.6671651067812,45.33494610678118 L -93.66709239328416,45.33501201045336 L -93.66701357023302,45.3350704696123 L -93.66692939673683,45.33512092126435 L -93.66684068343237,45.33516287953251 L -93.66674828467725,45.33519594033573 L -93.66665309032201,45.3352197852804 L -93.66655601714034,45.335234184726666 L -93.666458,45.335238999999994 L -93.66635998285967,45.335234184726666 L -93.666262909678,45.3352197852804 L -93.66616771532276,45.33519594033573 L -93.66607531656764,45.33516287953251 L -93.66598660326318,45.33512092126435 L -93.66590242976699,45.3350704696123 L -93.66582360671585,45.33501201045336 L -93.66575089321881,45.33494610678118 L -93.66568498954665,45.33487339328416 L -93.6656265303877,45.334794570233015 L -93.66557607873565,45.334710396736824 L -93.6655341204675,45.33462168343236 L -93.66550105966428,45.33452928467725 L -93.6654772147196,45.33443409032201 L -93.66546281527333,45.33433701714033 L -93.665458,45.334239 z\" /><path fill-rule=\"evenodd\" fill=\"#66cc99\" stroke=\"#555555\" stroke-width=\"0.06126131520000001\" opacity=\"0.6\" d=\"M -93.68421099999999,45.399392 L -93.68421581527332,45.39929398285967 L -93.68423021471959,45.39919690967798 L -93.68425405966427,45.39910171532274 L -93.68428712046749,45.399009316567636 L -93.68432907873564,45.39892060326317 L -93.68437953038769,45.39883642976698 L -93.68443798954664,45.39875760671583 L -93.6845038932188,45.398684893218814 L -93.68457660671584,45.398618989546634 L -93.68465542976698,45.3985605303877 L -93.68473960326317,45.39851007873565 L -93.68482831656763,45.398468120467484 L -93.68492071532275,45.398435059664266 L -93.68501590967799,45.398411214719594 L -93.68511298285966,45.39839681527333 L -93.685211,45.398392 L -93.68530901714033,45.39839681527333 L -93.685406090322,45.398411214719594 L -93.68550128467724,45.398435059664266 L -93.68559368343236,45.398468120467484 L -93.68568239673682,45.39851007873565 L -93.68576657023301,45.3985605303877 L -93.68584539328415,45.398618989546634 L -93.68591810678119,45.398684893218814 L -93.68598401045335,45.39875760671583 L -93.6860424696123,45.39883642976698 L -93.68609292126435,45.39892060326317 L -93.6861348795325,45.399009316567636 L -93.68616794033572,45.39910171532274 L -93.6861917852804,45.39919690967798 L -93.68620618472667,45.39929398285967 L -93.686211,45.399392 L -93.68620618472667,45.39949001714033 L -93.6861917852804,45.399587090322015 L -93.68616794033572,45.399682284677255 L -93.6861348795325,45.39977468343236 L -93.68609292126435,45.399863396736826 L -93.6860424696123,45.39994757023302 L -93.68598401045335,45.400026393284165 L -93.68591810678119,45.400099106781184 L -93.68584539328415,45.400165010453364 L -93.68576657023301,45.4002234696123 L -93.68568239673682,45.40027392126435 L -93.68559368343236,45.40031587953251 L -93.68550128467724,45.40034894033573 L -93.685406090322,45.4003727852804 L -93.68530901714033,45.40038718472667 L -93.685211,45.400392 L -93.68511298285966,45.40038718472667 L -93.68501590967799,45.4003727852804 L -93.68492071532275,45.40034894033573 L -93.68482831656763,45.40031587953251 L -93.68473960326317,45.40027392126435 L -93.68465542976698,45.4002234696123 L -93.68457660671584,45.400165010453364 L -93.6845038932188,45.400099106781184 L -93.68443798954664,45.400026393284165 L -93.68437953038769,45.39994757023302 L -93.68432907873564,45.399863396736826 L -93.68428712046749,45.39977468343236 L -93.68425405966427,45.399682284677255 L -93.68423021471959,45.399587090322015 L -93.68421581527332,45.39949001714033 L -93.68421099999999,45.399392 z\" /><path fill-rule=\"evenodd\" fill=\"#66cc99\" stroke=\"#555555\" stroke-width=\"0.06126131520000001\" opacity=\"0.6\" d=\"M -93.68610299999999,44.975014 L -93.68610781527332,44.97491598285967 L -93.68612221471959,44.974818909677985 L -93.68614605966427,44.974723715322746 L -93.68617912046749,44.97463131656764 L -93.68622107873564,44.974542603263174 L -93.68627153038769,44.97445842976698 L -93.68632998954664,44.974379606715836 L -93.6863958932188,44.97430689321882 L -93.68646860671583,44.97424098954664 L -93.68654742976697,44.9741825303877 L -93.68663160326317,44.97413207873565 L -93.68672031656763,44.97409012046749 L -93.68681271532274,44.97405705966427 L -93.68690790967798,44.9740332147196 L -93.68700498285966,44.97401881527333 L -93.687103,44.974014000000004 L -93.68720101714032,44.97401881527333 L -93.687298090322,44.9740332147196 L -93.68739328467724,44.97405705966427 L -93.68748568343236,44.97409012046749 L -93.68757439673682,44.97413207873565 L -93.68765857023301,44.9741825303877 L -93.68773739328415,44.97424098954664 L -93.68781010678119,44.97430689321882 L -93.68787601045335,44.974379606715836 L -93.6879344696123,44.97445842976698 L -93.68798492126434,44.974542603263174 L -93.6880268795325,44.97463131656764 L -93.68805994033572,44.974723715322746 L -93.6880837852804,44.974818909677985 L -93.68809818472667,44.97491598285967 L -93.688103,44.975014 L -93.68809818472667,44.97511201714033 L -93.6880837852804,44.97520909032202 L -93.68805994033572,44.97530428467726 L -93.6880268795325,44.975396683432365 L -93.68798492126434,44.97548539673683 L -93.6879344696123,44.97556957023302 L -93.68787601045335,44.97564839328417 L -93.68781010678119,44.97572110678119 L -93.68773739328415,44.97578701045337 L -93.68765857023301,44.9758454696123 L -93.68757439673682,44.97589592126435 L -93.68748568343236,44.975937879532516 L -93.68739328467724,44.975970940335735 L -93.687298090322,44.975994785280406 L -93.68720101714032,44.97600918472667 L -93.687103,44.976014 L -93.68700498285966,44.97600918472667 L -93.68690790967798,44.975994785280406 L -93.68681271532274,44.975970940335735 L -93.68672031656763,44.975937879532516 L -93.68663160326317,44.97589592126435 L -93.68654742976697,44.9758454696123 L -93.68646860671583,44.97578701045337 L -93.6863958932188,44.97572110678119 L -93.68632998954664,44.97564839328417 L -93.68627153038769,44.97556957023302 L -93.68622107873564,44.97548539673683 L -93.68617912046749,44.975396683432365 L -93.68614605966427,44.97530428467726 L -93.68612221471959,44.97520909032202 L -93.68610781527332,44.97511201714033 L -93.68610299999999,44.975014 z\" /><path fill-rule=\"evenodd\" fill=\"#66cc99\" stroke=\"#555555\" stroke-width=\"0.06126131520000001\" opacity=\"0.6\" d=\"M -93.707275,44.465828 L -93.70727981527332,44.46572998285967 L -93.7072942147196,44.465632909677986 L -93.70731805966427,44.465537715322746 L -93.7073511204675,44.46544531656764 L -93.70739307873565,44.465356603263174 L -93.70744353038769,44.46527242976698 L -93.70750198954664,44.465193606715836 L -93.70756789321881,44.46512089321882 L -93.70764060671584,44.46505498954664 L -93.70771942976698,44.4649965303877 L -93.70780360326317,44.46494607873565 L -93.70789231656764,44.46490412046749 L -93.70798471532275,44.46487105966427 L -93.70807990967799,44.4648472147196 L -93.70817698285967,44.46483281527333 L -93.708275,44.464828000000004 L -93.70837301714033,44.46483281527333 L -93.70847009032201,44.4648472147196 L -93.70856528467725,44.46487105966427 L -93.70865768343236,44.46490412046749 L -93.70874639673683,44.46494607873565 L -93.70883057023302,44.4649965303877 L -93.70890939328416,44.46505498954664 L -93.70898210678119,44.46512089321882 L -93.70904801045336,44.465193606715836 L -93.70910646961231,44.46527242976698 L -93.70915692126435,44.465356603263174 L -93.70919887953251,44.46544531656764 L -93.70923194033573,44.465537715322746 L -93.7092557852804,44.465632909677986 L -93.70927018472668,44.46572998285967 L -93.709275,44.465828 L -93.70927018472668,44.46592601714033 L -93.7092557852804,44.46602309032202 L -93.70923194033573,44.46611828467726 L -93.70919887953251,44.466210683432365 L -93.70915692126435,44.46629939673683 L -93.70910646961231,44.46638357023302 L -93.70904801045336,44.46646239328417 L -93.70898210678119,44.46653510678119 L -93.70890939328416,44.46660101045337 L -93.70883057023302,44.4666594696123 L -93.70874639673683,44.46670992126435 L -93.70865768343236,44.46675187953252 L -93.70856528467725,44.466784940335735 L -93.70847009032201,44.466808785280406 L -93.70837301714033,44.46682318472667 L -93.708275,44.466828 L -93.70817698285967,44.46682318472667 L -93.70807990967799,44.466808785280406 L -93.70798471532275,44.466784940335735 L -93.70789231656764,44.46675187953252 L -93.70780360326317,44.46670992126435 L -93.70771942976698,44.4666594696123 L -93.70764060671584,44.46660101045337 L -93.70756789321881,44.46653510678119 L -93.70750198954664,44.46646239328417 L -93.70744353038769,44.46638357023302 L -93.70739307873565,44.46629939673683 L -93.7073511204675,44.466210683432365 L -93.70731805966427,44.46611828467726 L -93.7072942147196,44.46602309032202 L -93.70727981527332,44.46592601714033 L -93.707275,44.465828 z\" /><path fill-rule=\"evenodd\" fill=\"#66cc99\" stroke=\"#555555\" stroke-width=\"0.06126131520000001\" opacity=\"0.6\" d=\"M -93.708756,44.793761 L -93.70876081527332,44.79366298285967 L -93.7087752147196,44.79356590967799 L -93.70879905966427,44.79347071532275 L -93.70883212046749,44.79337831656764 L -93.70887407873565,44.793289603263176 L -93.70892453038769,44.793205429766985 L -93.70898298954664,44.79312660671584 L -93.7090488932188,44.79305389321882 L -93.70912160671584,44.79298798954664 L -93.70920042976698,44.7929295303877 L -93.70928460326317,44.79287907873565 L -93.70937331656764,44.79283712046749 L -93.70946571532275,44.79280405966427 L -93.70956090967799,44.7927802147196 L -93.70965798285967,44.792765815273334 L -93.709756,44.792761000000006 L -93.70985401714033,44.792765815273334 L -93.70995109032201,44.7927802147196 L -93.71004628467725,44.79280405966427 L -93.71013868343236,44.79283712046749 L -93.71022739673683,44.79287907873565 L -93.71031157023302,44.7929295303877 L -93.71039039328416,44.79298798954664 L -93.71046310678119,44.79305389321882 L -93.71052901045336,44.79312660671584 L -93.7105874696123,44.793205429766985 L -93.71063792126435,44.793289603263176 L -93.7106798795325,44.79337831656764 L -93.71071294033572,44.79347071532275 L -93.7107367852804,44.79356590967799 L -93.71075118472667,44.79366298285967 L -93.710756,44.793761 L -93.71075118472667,44.793859017140335 L -93.7107367852804,44.79395609032202 L -93.71071294033572,44.79405128467726 L -93.7106798795325,44.79414368343237 L -93.71063792126435,44.79423239673683 L -93.7105874696123,44.79431657023302 L -93.71052901045336,44.79439539328417 L -93.71046310678119,44.79446810678119 L -93.71039039328416,44.79453401045337 L -93.71031157023302,44.794592469612304 L -93.71022739673683,44.794642921264355 L -93.71013868343236,44.79468487953252 L -93.71004628467725,44.79471794033574 L -93.70995109032201,44.79474178528041 L -93.70985401714033,44.79475618472667 L -93.709756,44.794761 L -93.70965798285967,44.79475618472667 L -93.70956090967799,44.79474178528041 L -93.70946571532275,44.79471794033574 L -93.70937331656764,44.79468487953252 L -93.70928460326317,44.794642921264355 L -93.70920042976698,44.794592469612304 L -93.70912160671584,44.79453401045337 L -93.7090488932188,44.79446810678119 L -93.70898298954664,44.79439539328417 L -93.70892453038769,44.79431657023302 L -93.70887407873565,44.79423239673683 L -93.70883212046749,44.79414368343237 L -93.70879905966427,44.79405128467726 L -93.7087752147196,44.79395609032202 L -93.70876081527332,44.793859017140335 L -93.708756,44.793761 z\" /><path fill-rule=\"evenodd\" fill=\"#66cc99\" stroke=\"#555555\" stroke-width=\"0.06126131520000001\" opacity=\"0.6\" d=\"M -93.709817,44.631278 L -93.70982181527333,44.63117998285967 L -93.7098362147196,44.631082909677986 L -93.70986005966428,44.630987715322746 L -93.7098931204675,44.63089531656764 L -93.70993507873565,44.630806603263174 L -93.7099855303877,44.63072242976698 L -93.71004398954665,44.630643606715836 L -93.71010989321881,44.63057089321882 L -93.71018260671585,44.63050498954664 L -93.71026142976699,44.6304465303877 L -93.71034560326318,44.63039607873565 L -93.71043431656764,44.63035412046749 L -93.71052671532276,44.63032105966427 L -93.710621909678,44.6302972147196 L -93.71071898285967,44.63028281527333 L -93.710817,44.630278000000004 L -93.71091501714034,44.63028281527333 L -93.71101209032201,44.6302972147196 L -93.71110728467725,44.63032105966427 L -93.71119968343237,44.63035412046749 L -93.71128839673683,44.63039607873565 L -93.71137257023302,44.6304465303877 L -93.71145139328416,44.63050498954664 L -93.7115241067812,44.63057089321882 L -93.71159001045336,44.630643606715836 L -93.71164846961231,44.63072242976698 L -93.71169892126436,44.630806603263174 L -93.71174087953251,44.63089531656764 L -93.71177394033573,44.630987715322746 L -93.71179778528041,44.631082909677986 L -93.71181218472668,44.63117998285967 L -93.71181700000001,44.631278 L -93.71181218472668,44.63137601714033 L -93.71179778528041,44.63147309032202 L -93.71177394033573,44.63156828467726 L -93.71174087953251,44.631660683432365 L -93.71169892126436,44.63174939673683 L -93.71164846961231,44.63183357023302 L -93.71159001045336,44.63191239328417 L -93.7115241067812,44.63198510678119 L -93.71145139328416,44.63205101045337 L -93.71137257023302,44.6321094696123 L -93.71128839673683,44.63215992126435 L -93.71119968343237,44.632201879532516 L -93.71110728467725,44.632234940335735 L -93.71101209032201,44.632258785280406 L -93.71091501714034,44.63227318472667 L -93.710817,44.632278 L -93.71071898285967,44.63227318472667 L -93.710621909678,44.632258785280406 L -93.71052671532276,44.632234940335735 L -93.71043431656764,44.632201879532516 L -93.71034560326318,44.63215992126435 L -93.71026142976699,44.6321094696123 L -93.71018260671585,44.63205101045337 L -93.71010989321881,44.63198510678119 L -93.71004398954665,44.63191239328417 L -93.7099855303877,44.63183357023302 L -93.70993507873565,44.63174939673683 L -93.7098931204675,44.631660683432365 L -93.70986005966428,44.63156828467726 L -93.7098362147196,44.63147309032202 L -93.70982181527333,44.63137601714033 L -93.709817,44.631278 z\" /><path fill-rule=\"evenodd\" fill=\"#66cc99\" stroke=\"#555555\" stroke-width=\"0.06126131520000001\" opacity=\"0.6\" d=\"M -93.716742,44.115097 L -93.71674681527332,44.11499898285967 L -93.7167612147196,44.11490190967798 L -93.71678505966428,44.11480671532274 L -93.7168181204675,44.114714316567635 L -93.71686007873565,44.11462560326317 L -93.7169105303877,44.11454142976698 L -93.71696898954664,44.11446260671583 L -93.71703489321881,44.114389893218814 L -93.71710760671584,44.114323989546634 L -93.71718642976698,44.1142655303877 L -93.71727060326317,44.11421507873565 L -93.71735931656764,44.114173120467484 L -93.71745171532275,44.114140059664265 L -93.71754690967799,44.114116214719594 L -93.71764398285967,44.11410181527333 L -93.717742,44.114097 L -93.71784001714033,44.11410181527333 L -93.71793709032201,44.114116214719594 L -93.71803228467725,44.114140059664265 L -93.71812468343236,44.114173120467484 L -93.71821339673683,44.11421507873565 L -93.71829757023302,44.1142655303877 L -93.71837639328416,44.114323989546634 L -93.7184491067812,44.114389893218814 L -93.71851501045336,44.11446260671583 L -93.71857346961231,44.11454142976698 L -93.71862392126435,44.11462560326317 L -93.71866587953251,44.114714316567635 L -93.71869894033573,44.11480671532274 L -93.7187227852804,44.11490190967798 L -93.71873718472668,44.11499898285967 L -93.718742,44.115097 L -93.71873718472668,44.11519501714033 L -93.7187227852804,44.115292090322015 L -93.71869894033573,44.115387284677254 L -93.71866587953251,44.11547968343236 L -93.71862392126435,44.115568396736826 L -93.71857346961231,44.11565257023302 L -93.71851501045336,44.115731393284165 L -93.7184491067812,44.115804106781184 L -93.71837639328416,44.115870010453364 L -93.71829757023302,44.1159284696123 L -93.71821339673683,44.11597892126435 L -93.71812468343236,44.11602087953251 L -93.71803228467725,44.11605394033573 L -93.71793709032201,44.1160777852804 L -93.71784001714033,44.11609218472667 L -93.717742,44.116096999999996 L -93.71764398285967,44.11609218472667 L -93.71754690967799,44.1160777852804 L -93.71745171532275,44.11605394033573 L -93.71735931656764,44.11602087953251 L -93.71727060326317,44.11597892126435 L -93.71718642976698,44.1159284696123 L -93.71710760671584,44.115870010453364 L -93.71703489321881,44.115804106781184 L -93.71696898954664,44.115731393284165 L -93.7169105303877,44.11565257023302 L -93.71686007873565,44.115568396736826 L -93.7168181204675,44.11547968343236 L -93.71678505966428,44.115387284677254 L -93.7167612147196,44.115292090322015 L -93.71674681527332,44.11519501714033 L -93.716742,44.115097 z\" /><path fill-rule=\"evenodd\" fill=\"#66cc99\" stroke=\"#555555\" stroke-width=\"0.06126131520000001\" opacity=\"0.6\" d=\"M -93.734803,44.691172 L -93.73480781527333,44.69107398285967 L -93.7348222147196,44.690976909677985 L -93.73484605966428,44.690881715322746 L -93.7348791204675,44.69078931656764 L -93.73492107873565,44.690700603263174 L -93.7349715303877,44.69061642976698 L -93.73502998954665,44.690537606715836 L -93.73509589321881,44.69046489321882 L -93.73516860671585,44.69039898954664 L -93.73524742976699,44.6903405303877 L -93.73533160326318,44.69029007873565 L -93.73542031656764,44.69024812046749 L -93.73551271532276,44.69021505966427 L -93.735607909678,44.6901912147196 L -93.73570498285967,44.69017681527333 L -93.735803,44.690172000000004 L -93.73590101714034,44.69017681527333 L -93.73599809032201,44.6901912147196 L -93.73609328467725,44.69021505966427 L -93.73618568343237,44.69024812046749 L -93.73627439673683,44.69029007873565 L -93.73635857023302,44.6903405303877 L -93.73643739328416,44.69039898954664 L -93.7365101067812,44.69046489321882 L -93.73657601045336,44.690537606715836 L -93.73663446961231,44.69061642976698 L -93.73668492126436,44.690700603263174 L -93.73672687953251,44.69078931656764 L -93.73675994033573,44.690881715322746 L -93.73678378528041,44.690976909677985 L -93.73679818472668,44.69107398285967 L -93.73680300000001,44.691172 L -93.73679818472668,44.69127001714033 L -93.73678378528041,44.69136709032202 L -93.73675994033573,44.69146228467726 L -93.73672687953251,44.691554683432365 L -93.73668492126436,44.69164339673683 L -93.73663446961231,44.69172757023302 L -93.73657601045336,44.69180639328417 L -93.7365101067812,44.69187910678119 L -93.73643739328416,44.69194501045337 L -93.73635857023302,44.6920034696123 L -93.73627439673683,44.69205392126435 L -93.73618568343237,44.692095879532516 L -93.73609328467725,44.692128940335735 L -93.73599809032201,44.692152785280406 L -93.73590101714034,44.69216718472667 L -93.735803,44.692172 L -93.73570498285967,44.69216718472667 L -93.735607909678,44.692152785280406 L -93.73551271532276,44.692128940335735 L -93.73542031656764,44.692095879532516 L -93.73533160326318,44.69205392126435 L -93.73524742976699,44.6920034696123 L -93.73516860671585,44.69194501045337 L -93.73509589321881,44.69187910678119 L -93.73502998954665,44.69180639328417 L -93.7349715303877,44.69172757023302 L -93.73492107873565,44.69164339673683 L -93.7348791204675,44.691554683432365 L -93.73484605966428,44.69146228467726 L -93.7348222147196,44.69136709032202 L -93.73480781527333,44.69127001714033 L -93.734803,44.691172 z\" /><path fill-rule=\"evenodd\" fill=\"#66cc99\" stroke=\"#555555\" stroke-width=\"0.06126131520000001\" opacity=\"0.6\" d=\"M -93.739364,45.692494 L -93.73936881527332,45.69239598285967 L -93.7393832147196,45.69229890967799 L -93.73940705966427,45.69220371532275 L -93.73944012046749,45.69211131656764 L -93.73948207873565,45.692022603263176 L -93.73953253038769,45.691938429766985 L -93.73959098954664,45.69185960671584 L -93.73965689321881,45.69178689321882 L -93.73972960671584,45.69172098954664 L -93.73980842976698,45.6916625303877 L -93.73989260326317,45.69161207873565 L -93.73998131656764,45.69157012046749 L -93.74007371532275,45.69153705966427 L -93.74016890967799,45.6915132147196 L -93.74026598285967,45.691498815273334 L -93.740364,45.691494000000006 L -93.74046201714033,45.691498815273334 L -93.74055909032201,45.6915132147196 L -93.74065428467725,45.69153705966427 L -93.74074668343236,45.69157012046749 L -93.74083539673683,45.69161207873565 L -93.74091957023302,45.6916625303877 L -93.74099839328416,45.69172098954664 L -93.74107110678119,45.69178689321882 L -93.74113701045336,45.69185960671584 L -93.74119546961231,45.691938429766985 L -93.74124592126435,45.692022603263176 L -93.7412878795325,45.69211131656764 L -93.74132094033573,45.69220371532275 L -93.7413447852804,45.69229890967799 L -93.74135918472668,45.69239598285967 L -93.741364,45.692494 L -93.74135918472668,45.692592017140335 L -93.7413447852804,45.69268909032202 L -93.74132094033573,45.69278428467726 L -93.7412878795325,45.69287668343237 L -93.74124592126435,45.69296539673683 L -93.74119546961231,45.69304957023302 L -93.74113701045336,45.69312839328417 L -93.74107110678119,45.69320110678119 L -93.74099839328416,45.69326701045337 L -93.74091957023302,45.693325469612304 L -93.74083539673683,45.693375921264355 L -93.74074668343236,45.69341787953252 L -93.74065428467725,45.69345094033574 L -93.74055909032201,45.69347478528041 L -93.74046201714033,45.69348918472667 L -93.740364,45.693494 L -93.74026598285967,45.69348918472667 L -93.74016890967799,45.69347478528041 L -93.74007371532275,45.69345094033574 L -93.73998131656764,45.69341787953252 L -93.73989260326317,45.693375921264355 L -93.73980842976698,45.693325469612304 L -93.73972960671584,45.69326701045337 L -93.73965689321881,45.69320110678119 L -93.73959098954664,45.69312839328417 L -93.73953253038769,45.69304957023302 L -93.73948207873565,45.69296539673683 L -93.73944012046749,45.69287668343237 L -93.73940705966427,45.69278428467726 L -93.7393832147196,45.69268909032202 L -93.73936881527332,45.692592017140335 L -93.739364,45.692494 z\" /><path fill-rule=\"evenodd\" fill=\"#66cc99\" stroke=\"#555555\" stroke-width=\"0.06126131520000001\" opacity=\"0.6\" d=\"M -93.75510299999999,44.775883 L -93.75510781527332,44.77578498285967 L -93.75512221471959,44.775687909677984 L -93.75514605966427,44.775592715322745 L -93.75517912046749,44.77550031656764 L -93.75522107873564,44.77541160326317 L -93.75527153038769,44.77532742976698 L -93.75532998954664,44.775248606715834 L -93.7553958932188,44.775175893218815 L -93.75546860671584,44.775109989546635 L -93.75554742976698,44.7750515303877 L -93.75563160326317,44.77500107873565 L -93.75572031656763,44.774959120467486 L -93.75581271532275,44.77492605966427 L -93.75590790967799,44.774902214719596 L -93.75600498285966,44.77488781527333 L -93.756103,44.774883 L -93.75620101714033,44.77488781527333 L -93.756298090322,44.774902214719596 L -93.75639328467724,44.77492605966427 L -93.75648568343236,44.774959120467486 L -93.75657439673682,44.77500107873565 L -93.75665857023301,44.7750515303877 L -93.75673739328415,44.775109989546635 L -93.75681010678119,44.775175893218815 L -93.75687601045335,44.775248606715834 L -93.7569344696123,44.77532742976698 L -93.75698492126435,44.77541160326317 L -93.7570268795325,44.77550031656764 L -93.75705994033572,44.775592715322745 L -93.7570837852804,44.775687909677984 L -93.75709818472667,44.77578498285967 L -93.757103,44.775883 L -93.75709818472667,44.77598101714033 L -93.7570837852804,44.77607809032202 L -93.75705994033572,44.776173284677256 L -93.7570268795325,44.776265683432364 L -93.75698492126435,44.77635439673683 L -93.7569344696123,44.77643857023302 L -93.75687601045335,44.776517393284166 L -93.75681010678119,44.776590106781185 L -93.75673739328415,44.776656010453365 L -93.75665857023301,44.7767144696123 L -93.75657439673682,44.77676492126435 L -93.75648568343236,44.776806879532515 L -93.75639328467724,44.776839940335734 L -93.756298090322,44.776863785280405 L -93.75620101714033,44.77687818472667 L -93.756103,44.776883 L -93.75600498285966,44.77687818472667 L -93.75590790967799,44.776863785280405 L -93.75581271532275,44.776839940335734 L -93.75572031656763,44.776806879532515 L -93.75563160326317,44.77676492126435 L -93.75554742976698,44.7767144696123 L -93.75546860671584,44.776656010453365 L -93.7553958932188,44.776590106781185 L -93.75532998954664,44.776517393284166 L -93.75527153038769,44.77643857023302 L -93.75522107873564,44.77635439673683 L -93.75517912046749,44.776265683432364 L -93.75514605966427,44.776173284677256 L -93.75512221471959,44.77607809032202 L -93.75510781527332,44.77598101714033 L -93.75510299999999,44.775883 z\" /><path fill-rule=\"evenodd\" fill=\"#66cc99\" stroke=\"#555555\" stroke-width=\"0.06126131520000001\" opacity=\"0.6\" d=\"M -93.767325,44.074244 L -93.76732981527333,44.07414598285967 L -93.7673442147196,44.074048909677984 L -93.76736805966428,44.073953715322745 L -93.7674011204675,44.07386131656764 L -93.76744307873565,44.07377260326317 L -93.7674935303877,44.07368842976698 L -93.76755198954665,44.073609606715834 L -93.76761789321881,44.073536893218815 L -93.76769060671585,44.073470989546635 L -93.76776942976699,44.0734125303877 L -93.76785360326318,44.07336207873565 L -93.76794231656764,44.073320120467486 L -93.76803471532276,44.07328705966427 L -93.768129909678,44.073263214719596 L -93.76822698285967,44.07324881527333 L -93.768325,44.073244 L -93.76842301714034,44.07324881527333 L -93.76852009032201,44.073263214719596 L -93.76861528467725,44.07328705966427 L -93.76870768343237,44.073320120467486 L -93.76879639673683,44.07336207873565 L -93.76888057023302,44.0734125303877 L -93.76895939328416,44.073470989546635 L -93.7690321067812,44.073536893218815 L -93.76909801045336,44.073609606715834 L -93.76915646961231,44.07368842976698 L -93.76920692126436,44.07377260326317 L -93.76924887953251,44.07386131656764 L -93.76928194033573,44.073953715322745 L -93.76930578528041,44.074048909677984 L -93.76932018472668,44.07414598285967 L -93.76932500000001,44.074244 L -93.76932018472668,44.07434201714033 L -93.76930578528041,44.07443909032202 L -93.76928194033573,44.074534284677256 L -93.76924887953251,44.07462668343236 L -93.76920692126436,44.07471539673683 L -93.76915646961231,44.07479957023302 L -93.76909801045336,44.074878393284166 L -93.7690321067812,44.074951106781185 L -93.76895939328416,44.075017010453365 L -93.76888057023302,44.0750754696123 L -93.76879639673683,44.07512592126435 L -93.76870768343237,44.075167879532515 L -93.76861528467725,44.07520094033573 L -93.76852009032201,44.075224785280405 L -93.76842301714034,44.07523918472667 L -93.768325,44.075244 L -93.76822698285967,44.07523918472667 L -93.768129909678,44.075224785280405 L -93.76803471532276,44.07520094033573 L -93.76794231656764,44.075167879532515 L -93.76785360326318,44.07512592126435 L -93.76776942976699,44.0750754696123 L -93.76769060671585,44.075017010453365 L -93.76761789321881,44.074951106781185 L -93.76755198954665,44.074878393284166 L -93.7674935303877,44.07479957023302 L -93.76744307873565,44.07471539673683 L -93.7674011204675,44.07462668343236 L -93.76736805966428,44.074534284677256 L -93.7673442147196,44.07443909032202 L -93.76732981527333,44.07434201714033 L -93.767325,44.074244 z\" /><path fill-rule=\"evenodd\" fill=\"#66cc99\" stroke=\"#555555\" stroke-width=\"0.06126131520000001\" opacity=\"0.6\" d=\"M -93.788817,45.041939 L -93.78882181527332,45.04184098285967 L -93.7888362147196,45.04174390967798 L -93.78886005966427,45.041648715322744 L -93.78889312046749,45.041556316567636 L -93.78893507873565,45.04146760326317 L -93.78898553038769,45.04138342976698 L -93.78904398954664,45.04130460671583 L -93.78910989321881,45.041231893218814 L -93.78918260671584,45.041165989546634 L -93.78926142976698,45.0411075303877 L -93.78934560326317,45.04105707873565 L -93.78943431656764,45.041015120467485 L -93.78952671532275,45.040982059664266 L -93.78962190967799,45.040958214719595 L -93.78971898285967,45.04094381527333 L -93.789817,45.040939 L -93.78991501714033,45.04094381527333 L -93.79001209032201,45.040958214719595 L -93.79010728467725,45.040982059664266 L -93.79019968343236,45.041015120467485 L -93.79028839673683,45.04105707873565 L -93.79037257023302,45.0411075303877 L -93.79045139328416,45.041165989546634 L -93.79052410678119,45.041231893218814 L -93.79059001045336,45.04130460671583 L -93.79064846961231,45.04138342976698 L -93.79069892126435,45.04146760326317 L -93.7907408795325,45.041556316567636 L -93.79077394033573,45.041648715322744 L -93.7907977852804,45.04174390967798 L -93.79081218472668,45.04184098285967 L -93.790817,45.041939 L -93.79081218472668,45.04203701714033 L -93.7907977852804,45.042134090322016 L -93.79077394033573,45.042229284677255 L -93.7907408795325,45.04232168343236 L -93.79069892126435,45.04241039673683 L -93.79064846961231,45.04249457023302 L -93.79059001045336,45.042573393284165 L -93.79052410678119,45.042646106781184 L -93.79045139328416,45.042712010453364 L -93.79037257023302,45.0427704696123 L -93.79028839673683,45.04282092126435 L -93.79019968343236,45.042862879532514 L -93.79010728467725,45.04289594033573 L -93.79001209032201,45.042919785280404 L -93.78991501714033,45.04293418472667 L -93.789817,45.042939 L -93.78971898285967,45.04293418472667 L -93.78962190967799,45.042919785280404 L -93.78952671532275,45.04289594033573 L -93.78943431656764,45.042862879532514 L -93.78934560326317,45.04282092126435 L -93.78926142976698,45.0427704696123 L -93.78918260671584,45.042712010453364 L -93.78910989321881,45.042646106781184 L -93.78904398954664,45.042573393284165 L -93.78898553038769,45.04249457023302 L -93.78893507873565,45.04241039673683 L -93.78889312046749,45.04232168343236 L -93.78886005966427,45.042229284677255 L -93.7888362147196,45.042134090322016 L -93.78882181527332,45.04203701714033 L -93.788817,45.041939 z\" /><path fill-rule=\"evenodd\" fill=\"#66cc99\" stroke=\"#555555\" stroke-width=\"0.06126131520000001\" opacity=\"0.6\" d=\"M -93.82137499999999,44.673339 L -93.82137981527332,44.67324098285967 L -93.82139421471959,44.67314390967798 L -93.82141805966427,44.67304871532274 L -93.82145112046749,44.672956316567635 L -93.82149307873564,44.67286760326317 L -93.82154353038769,44.67278342976698 L -93.82160198954664,44.67270460671583 L -93.8216678932188,44.672631893218814 L -93.82174060671584,44.672565989546634 L -93.82181942976698,44.6725075303877 L -93.82190360326317,44.67245707873565 L -93.82199231656763,44.672415120467484 L -93.82208471532275,44.672382059664265 L -93.82217990967798,44.672358214719594 L -93.82227698285966,44.67234381527333 L -93.822375,44.672339 L -93.82247301714033,44.67234381527333 L -93.822570090322,44.672358214719594 L -93.82266528467724,44.672382059664265 L -93.82275768343236,44.672415120467484 L -93.82284639673682,44.67245707873565 L -93.82293057023301,44.6725075303877 L -93.82300939328415,44.672565989546634 L -93.82308210678119,44.672631893218814 L -93.82314801045335,44.67270460671583 L -93.8232064696123,44.67278342976698 L -93.82325692126435,44.67286760326317 L -93.8232988795325,44.672956316567635 L -93.82333194033572,44.67304871532274 L -93.8233557852804,44.67314390967798 L -93.82337018472667,44.67324098285967 L -93.823375,44.673339 L -93.82337018472667,44.67343701714033 L -93.8233557852804,44.673534090322015 L -93.82333194033572,44.673629284677254 L -93.8232988795325,44.67372168343236 L -93.82325692126435,44.673810396736826 L -93.8232064696123,44.67389457023302 L -93.82314801045335,44.673973393284165 L -93.82308210678119,44.674046106781184 L -93.82300939328415,44.67411201045336 L -93.82293057023301,44.6741704696123 L -93.82284639673682,44.67422092126435 L -93.82275768343236,44.67426287953251 L -93.82266528467724,44.67429594033573 L -93.822570090322,44.6743197852804 L -93.82247301714033,44.67433418472667 L -93.822375,44.674338999999996 L -93.82227698285966,44.67433418472667 L -93.82217990967798,44.6743197852804 L -93.82208471532275,44.67429594033573 L -93.82199231656763,44.67426287953251 L -93.82190360326317,44.67422092126435 L -93.82181942976698,44.6741704696123 L -93.82174060671584,44.67411201045336 L -93.8216678932188,44.674046106781184 L -93.82160198954664,44.673973393284165 L -93.82154353038769,44.67389457023302 L -93.82149307873564,44.673810396736826 L -93.82145112046749,44.67372168343236 L -93.82141805966427,44.673629284677254 L -93.82139421471959,44.673534090322015 L -93.82137981527332,44.67343701714033 L -93.82137499999999,44.673339 z\" /><path fill-rule=\"evenodd\" fill=\"#66cc99\" stroke=\"#555555\" stroke-width=\"0.06126131520000001\" opacity=\"0.6\" d=\"M -93.827658,45.807381 L -93.82766281527333,45.80728298285967 L -93.8276772147196,45.80718590967798 L -93.82770105966428,45.807090715322744 L -93.8277341204675,45.806998316567636 L -93.82777607873565,45.80690960326317 L -93.8278265303877,45.80682542976698 L -93.82788498954665,45.80674660671583 L -93.82795089321881,45.806673893218814 L -93.82802360671585,45.806607989546634 L -93.82810242976699,45.8065495303877 L -93.82818660326318,45.80649907873565 L -93.82827531656764,45.806457120467485 L -93.82836771532276,45.806424059664266 L -93.828462909678,45.806400214719595 L -93.82855998285967,45.80638581527333 L -93.828658,45.806381 L -93.82875601714034,45.80638581527333 L -93.82885309032201,45.806400214719595 L -93.82894828467725,45.806424059664266 L -93.82904068343237,45.806457120467485 L -93.82912939673683,45.80649907873565 L -93.82921357023302,45.8065495303877 L -93.82929239328416,45.806607989546634 L -93.8293651067812,45.806673893218814 L -93.82943101045336,45.80674660671583 L -93.82948946961231,45.80682542976698 L -93.82953992126436,45.80690960326317 L -93.82958187953251,45.806998316567636 L -93.82961494033573,45.807090715322744 L -93.82963878528041,45.80718590967798 L -93.82965318472668,45.80728298285967 L -93.82965800000001,45.807381 L -93.82965318472668,45.80747901714033 L -93.82963878528041,45.807576090322016 L -93.82961494033573,45.807671284677255 L -93.82958187953251,45.80776368343236 L -93.82953992126436,45.80785239673683 L -93.82948946961231,45.80793657023302 L -93.82943101045336,45.808015393284165 L -93.8293651067812,45.808088106781184 L -93.82929239328416,45.808154010453364 L -93.82921357023302,45.8082124696123 L -93.82912939673683,45.80826292126435 L -93.82904068343237,45.808304879532514 L -93.82894828467725,45.80833794033573 L -93.82885309032201,45.808361785280404 L -93.82875601714034,45.80837618472667 L -93.828658,45.808381 L -93.82855998285967,45.80837618472667 L -93.828462909678,45.808361785280404 L -93.82836771532276,45.80833794033573 L -93.82827531656764,45.808304879532514 L -93.82818660326318,45.80826292126435 L -93.82810242976699,45.8082124696123 L -93.82802360671585,45.808154010453364 L -93.82795089321881,45.808088106781184 L -93.82788498954665,45.808015393284165 L -93.8278265303877,45.80793657023302 L -93.82777607873565,45.80785239673683 L -93.8277341204675,45.80776368343236 L -93.82770105966428,45.807671284677255 L -93.8276772147196,45.807576090322016 L -93.82766281527333,45.80747901714033 L -93.827658,45.807381 z\" /><path fill-rule=\"evenodd\" fill=\"#66cc99\" stroke=\"#555555\" stroke-width=\"0.06126131520000001\" opacity=\"0.6\" d=\"M -93.83921699999999,44.325428 L -93.83922181527332,44.32532998285967 L -93.83923621471959,44.325232909677986 L -93.83926005966427,44.32513771532275 L -93.83929312046749,44.32504531656764 L -93.83933507873564,44.324956603263175 L -93.83938553038769,44.324872429766984 L -93.83944398954664,44.324793606715836 L -93.8395098932188,44.32472089321882 L -93.83958260671584,44.32465498954664 L -93.83966142976698,44.3245965303877 L -93.83974560326317,44.32454607873565 L -93.83983431656763,44.32450412046749 L -93.83992671532275,44.32447105966427 L -93.84002190967799,44.3244472147196 L -93.84011898285966,44.32443281527333 L -93.840217,44.324428000000005 L -93.84031501714033,44.32443281527333 L -93.840412090322,44.3244472147196 L -93.84050728467724,44.32447105966427 L -93.84059968343236,44.32450412046749 L -93.84068839673682,44.32454607873565 L -93.84077257023301,44.3245965303877 L -93.84085139328415,44.32465498954664 L -93.84092410678119,44.32472089321882 L -93.84099001045335,44.324793606715836 L -93.8410484696123,44.324872429766984 L -93.84109892126435,44.324956603263175 L -93.8411408795325,44.32504531656764 L -93.84117394033572,44.32513771532275 L -93.8411977852804,44.325232909677986 L -93.84121218472667,44.32532998285967 L -93.841217,44.325428 L -93.84121218472667,44.325526017140334 L -93.8411977852804,44.32562309032202 L -93.84117394033572,44.32571828467726 L -93.8411408795325,44.325810683432366 L -93.84109892126435,44.32589939673683 L -93.8410484696123,44.32598357023302 L -93.84099001045335,44.32606239328417 L -93.84092410678119,44.32613510678119 L -93.84085139328415,44.32620101045337 L -93.84077257023301,44.3262594696123 L -93.84068839673682,44.326309921264354 L -93.84059968343236,44.32635187953252 L -93.84050728467724,44.326384940335736 L -93.840412090322,44.32640878528041 L -93.84031501714033,44.32642318472667 L -93.840217,44.326428 L -93.84011898285966,44.32642318472667 L -93.84002190967799,44.32640878528041 L -93.83992671532275,44.326384940335736 L -93.83983431656763,44.32635187953252 L -93.83974560326317,44.326309921264354 L -93.83966142976698,44.3262594696123 L -93.83958260671584,44.32620101045337 L -93.8395098932188,44.32613510678119 L -93.83944398954664,44.32606239328417 L -93.83938553038769,44.32598357023302 L -93.83933507873564,44.32589939673683 L -93.83929312046749,44.325810683432366 L -93.83926005966427,44.32571828467726 L -93.83923621471959,44.32562309032202 L -93.83922181527332,44.325526017140334 L -93.83921699999999,44.325428 z\" /><path fill-rule=\"evenodd\" fill=\"#66cc99\" stroke=\"#555555\" stroke-width=\"0.06126131520000001\" opacity=\"0.6\" d=\"M -93.84323099999999,45.691308 L -93.84323581527332,45.69120998285967 L -93.84325021471959,45.69111290967798 L -93.84327405966427,45.691017715322744 L -93.84330712046749,45.690925316567636 L -93.84334907873564,45.69083660326317 L -93.84339953038769,45.69075242976698 L -93.84345798954664,45.69067360671583 L -93.8435238932188,45.690600893218814 L -93.84359660671583,45.690534989546634 L -93.84367542976698,45.6904765303877 L -93.84375960326317,45.69042607873565 L -93.84384831656763,45.690384120467485 L -93.84394071532274,45.690351059664266 L -93.84403590967798,45.690327214719595 L -93.84413298285966,45.69031281527333 L -93.844231,45.690308 L -93.84432901714032,45.69031281527333 L -93.844426090322,45.690327214719595 L -93.84452128467724,45.690351059664266 L -93.84461368343236,45.690384120467485 L -93.84470239673682,45.69042607873565 L -93.84478657023301,45.6904765303877 L -93.84486539328415,45.690534989546634 L -93.84493810678119,45.690600893218814 L -93.84500401045335,45.69067360671583 L -93.8450624696123,45.69075242976698 L -93.84511292126435,45.69083660326317 L -93.8451548795325,45.690925316567636 L -93.84518794033572,45.691017715322744 L -93.8452117852804,45.69111290967798 L -93.84522618472667,45.69120998285967 L -93.845231,45.691308 L -93.84522618472667,45.69140601714033 L -93.8452117852804,45.691503090322016 L -93.84518794033572,45.691598284677255 L -93.8451548795325,45.69169068343236 L -93.84511292126435,45.69177939673683 L -93.8450624696123,45.69186357023302 L -93.84500401045335,45.691942393284165 L -93.84493810678119,45.692015106781184 L -93.84486539328415,45.692081010453364 L -93.84478657023301,45.6921394696123 L -93.84470239673682,45.69218992126435 L -93.84461368343236,45.692231879532514 L -93.84452128467724,45.69226494033573 L -93.844426090322,45.692288785280404 L -93.84432901714032,45.69230318472667 L -93.844231,45.692308 L -93.84413298285966,45.69230318472667 L -93.84403590967798,45.692288785280404 L -93.84394071532274,45.69226494033573 L -93.84384831656763,45.692231879532514 L -93.84375960326317,45.69218992126435 L -93.84367542976698,45.6921394696123 L -93.84359660671583,45.692081010453364 L -93.8435238932188,45.692015106781184 L -93.84345798954664,45.691942393284165 L -93.84339953038769,45.69186357023302 L -93.84334907873564,45.69177939673683 L -93.84330712046749,45.69169068343236 L -93.84327405966427,45.691598284677255 L -93.84325021471959,45.691503090322016 L -93.84323581527332,45.69140601714033 L -93.84323099999999,45.691308 z\" /><path fill-rule=\"evenodd\" fill=\"#66cc99\" stroke=\"#555555\" stroke-width=\"0.06126131520000001\" opacity=\"0.6\" d=\"M -93.867181,45.648272 L -93.86718581527333,45.64817398285967 L -93.8672002147196,45.64807690967798 L -93.86722405966428,45.64798171532274 L -93.8672571204675,45.647889316567635 L -93.86729907873566,45.64780060326317 L -93.8673495303877,45.64771642976698 L -93.86740798954665,45.64763760671583 L -93.86747389321881,45.647564893218814 L -93.86754660671585,45.647498989546634 L -93.86762542976699,45.6474405303877 L -93.86770960326318,45.64739007873565 L -93.86779831656764,45.647348120467484 L -93.86789071532276,45.647315059664265 L -93.867985909678,45.647291214719594 L -93.86808298285968,45.64727681527333 L -93.868181,45.647272 L -93.86827901714034,45.64727681527333 L -93.86837609032202,45.647291214719594 L -93.86847128467726,45.647315059664265 L -93.86856368343237,45.647348120467484 L -93.86865239673683,45.64739007873565 L -93.86873657023303,45.6474405303877 L -93.86881539328417,45.647498989546634 L -93.8688881067812,45.647564893218814 L -93.86895401045336,45.64763760671583 L -93.86901246961231,45.64771642976698 L -93.86906292126436,45.64780060326317 L -93.86910487953251,45.647889316567635 L -93.86913794033573,45.64798171532274 L -93.86916178528041,45.64807690967798 L -93.86917618472668,45.64817398285967 L -93.86918100000001,45.648272 L -93.86917618472668,45.64837001714033 L -93.86916178528041,45.648467090322015 L -93.86913794033573,45.648562284677254 L -93.86910487953251,45.64865468343236 L -93.86906292126436,45.648743396736826 L -93.86901246961231,45.64882757023302 L -93.86895401045336,45.648906393284165 L -93.8688881067812,45.648979106781184 L -93.86881539328417,45.649045010453364 L -93.86873657023303,45.6491034696123 L -93.86865239673683,45.64915392126435 L -93.86856368343237,45.64919587953251 L -93.86847128467726,45.64922894033573 L -93.86837609032202,45.6492527852804 L -93.86827901714034,45.64926718472667 L -93.868181,45.649271999999996 L -93.86808298285968,45.64926718472667 L -93.867985909678,45.6492527852804 L -93.86789071532276,45.64922894033573 L -93.86779831656764,45.64919587953251 L -93.86770960326318,45.64915392126435 L -93.86762542976699,45.6491034696123 L -93.86754660671585,45.649045010453364 L -93.86747389321881,45.648979106781184 L -93.86740798954665,45.648906393284165 L -93.8673495303877,45.64882757023302 L -93.86729907873566,45.648743396736826 L -93.8672571204675,45.64865468343236 L -93.86722405966428,45.648562284677254 L -93.8672002147196,45.648467090322015 L -93.86718581527333,45.64837001714033 L -93.867181,45.648272 z\" /><path fill-rule=\"evenodd\" fill=\"#66cc99\" stroke=\"#555555\" stroke-width=\"0.06126131520000001\" opacity=\"0.6\" d=\"M -93.889556,44.470092 L -93.88956081527333,44.46999398285967 L -93.8895752147196,44.469896909677985 L -93.88959905966428,44.469801715322745 L -93.8896321204675,44.46970931656764 L -93.88967407873565,44.469620603263174 L -93.8897245303877,44.46953642976698 L -93.88978298954665,44.469457606715835 L -93.88984889321881,44.469384893218816 L -93.88992160671584,44.469318989546636 L -93.89000042976699,44.4692605303877 L -93.89008460326318,44.46921007873565 L -93.89017331656764,44.46916812046749 L -93.89026571532276,44.46913505966427 L -93.890360909678,44.4691112147196 L -93.89045798285967,44.46909681527333 L -93.890556,44.469092 L -93.89065401714033,44.46909681527333 L -93.89075109032201,44.4691112147196 L -93.89084628467725,44.46913505966427 L -93.89093868343237,44.46916812046749 L -93.89102739673683,44.46921007873565 L -93.89111157023302,44.4692605303877 L -93.89119039328416,44.469318989546636 L -93.8912631067812,44.469384893218816 L -93.89132901045336,44.469457606715835 L -93.89138746961231,44.46953642976698 L -93.89143792126436,44.469620603263174 L -93.89147987953251,44.46970931656764 L -93.89151294033573,44.469801715322745 L -93.89153678528041,44.469896909677985 L -93.89155118472668,44.46999398285967 L -93.89155600000001,44.470092 L -93.89155118472668,44.47019001714033 L -93.89153678528041,44.47028709032202 L -93.89151294033573,44.47038228467726 L -93.89147987953251,44.470474683432364 L -93.89143792126436,44.47056339673683 L -93.89138746961231,44.47064757023302 L -93.89132901045336,44.47072639328417 L -93.8912631067812,44.470799106781186 L -93.89119039328416,44.470865010453366 L -93.89111157023302,44.4709234696123 L -93.89102739673683,44.47097392126435 L -93.89093868343237,44.471015879532516 L -93.89084628467725,44.471048940335734 L -93.89075109032201,44.471072785280406 L -93.89065401714033,44.47108718472667 L -93.890556,44.471092 L -93.89045798285967,44.47108718472667 L -93.890360909678,44.471072785280406 L -93.89026571532276,44.471048940335734 L -93.89017331656764,44.471015879532516 L -93.89008460326318,44.47097392126435 L -93.89000042976699,44.4709234696123 L -93.88992160671584,44.470865010453366 L -93.88984889321881,44.470799106781186 L -93.88978298954665,44.47072639328417 L -93.8897245303877,44.47064757023302 L -93.88967407873565,44.47056339673683 L -93.8896321204675,44.470474683432364 L -93.88959905966428,44.47038228467726 L -93.8895752147196,44.47028709032202 L -93.88956081527333,44.47019001714033 L -93.889556,44.470092 z\" /><path fill-rule=\"evenodd\" fill=\"#66cc99\" stroke=\"#555555\" stroke-width=\"0.06126131520000001\" opacity=\"0.6\" d=\"M -93.906303,45.647892 L -93.90630781527332,45.64779398285967 L -93.9063222147196,45.64769690967798 L -93.90634605966427,45.64760171532274 L -93.90637912046749,45.647509316567636 L -93.90642107873565,45.64742060326317 L -93.90647153038769,45.64733642976698 L -93.90652998954664,45.64725760671583 L -93.9065958932188,45.647184893218814 L -93.90666860671584,45.647118989546634 L -93.90674742976698,45.6470605303877 L -93.90683160326317,45.64701007873565 L -93.90692031656764,45.646968120467484 L -93.90701271532275,45.646935059664266 L -93.90710790967799,45.646911214719594 L -93.90720498285967,45.64689681527333 L -93.907303,45.646892 L -93.90740101714033,45.64689681527333 L -93.90749809032201,45.646911214719594 L -93.90759328467725,45.646935059664266 L -93.90768568343236,45.646968120467484 L -93.90777439673683,45.64701007873565 L -93.90785857023302,45.6470605303877 L -93.90793739328416,45.647118989546634 L -93.90801010678119,45.647184893218814 L -93.90807601045336,45.64725760671583 L -93.9081344696123,45.64733642976698 L -93.90818492126435,45.64742060326317 L -93.9082268795325,45.647509316567636 L -93.90825994033572,45.64760171532274 L -93.9082837852804,45.64769690967798 L -93.90829818472668,45.64779398285967 L -93.908303,45.647892 L -93.90829818472668,45.64799001714033 L -93.9082837852804,45.648087090322015 L -93.90825994033572,45.648182284677254 L -93.9082268795325,45.64827468343236 L -93.90818492126435,45.648363396736826 L -93.9081344696123,45.64844757023302 L -93.90807601045336,45.648526393284165 L -93.90801010678119,45.648599106781184 L -93.90793739328416,45.648665010453364 L -93.90785857023302,45.6487234696123 L -93.90777439673683,45.64877392126435 L -93.90768568343236,45.64881587953251 L -93.90759328467725,45.64884894033573 L -93.90749809032201,45.6488727852804 L -93.90740101714033,45.64888718472667 L -93.907303,45.648892 L -93.90720498285967,45.64888718472667 L -93.90710790967799,45.6488727852804 L -93.90701271532275,45.64884894033573 L -93.90692031656764,45.64881587953251 L -93.90683160326317,45.64877392126435 L -93.90674742976698,45.6487234696123 L -93.90666860671584,45.648665010453364 L -93.9065958932188,45.648599106781184 L -93.90652998954664,45.648526393284165 L -93.90647153038769,45.64844757023302 L -93.90642107873565,45.648363396736826 L -93.90637912046749,45.64827468343236 L -93.90634605966427,45.648182284677254 L -93.9063222147196,45.648087090322015 L -93.90630781527332,45.64799001714033 L -93.906303,45.647892 z\" /><path fill-rule=\"evenodd\" fill=\"#66cc99\" stroke=\"#555555\" stroke-width=\"0.06126131520000001\" opacity=\"0.6\" d=\"M -93.908119,43.996564 L -93.90812381527333,43.99646598285967 L -93.9081382147196,43.99636890967798 L -93.90816205966428,43.996273715322744 L -93.9081951204675,43.996181316567636 L -93.90823707873565,43.99609260326317 L -93.9082875303877,43.99600842976698 L -93.90834598954665,43.99592960671583 L -93.90841189321881,43.995856893218814 L -93.90848460671585,43.995790989546634 L -93.90856342976699,43.9957325303877 L -93.90864760326318,43.99568207873565 L -93.90873631656764,43.995640120467485 L -93.90882871532276,43.995607059664266 L -93.908923909678,43.995583214719595 L -93.90902098285967,43.99556881527333 L -93.909119,43.995564 L -93.90921701714034,43.99556881527333 L -93.90931409032201,43.995583214719595 L -93.90940928467725,43.995607059664266 L -93.90950168343237,43.995640120467485 L -93.90959039673683,43.99568207873565 L -93.90967457023302,43.9957325303877 L -93.90975339328416,43.995790989546634 L -93.9098261067812,43.995856893218814 L -93.90989201045336,43.99592960671583 L -93.90995046961231,43.99600842976698 L -93.91000092126436,43.99609260326317 L -93.91004287953251,43.996181316567636 L -93.91007594033573,43.996273715322744 L -93.91009978528041,43.99636890967798 L -93.91011418472668,43.99646598285967 L -93.91011900000001,43.996564 L -93.91011418472668,43.99666201714033 L -93.91009978528041,43.996759090322016 L -93.91007594033573,43.996854284677255 L -93.91004287953251,43.99694668343236 L -93.91000092126436,43.99703539673683 L -93.90995046961231,43.99711957023302 L -93.90989201045336,43.997198393284165 L -93.9098261067812,43.997271106781184 L -93.90975339328416,43.997337010453364 L -93.90967457023302,43.9973954696123 L -93.90959039673683,43.99744592126435 L -93.90950168343237,43.997487879532514 L -93.90940928467725,43.99752094033573 L -93.90931409032201,43.997544785280404 L -93.90921701714034,43.99755918472667 L -93.909119,43.997564 L -93.90902098285967,43.99755918472667 L -93.908923909678,43.997544785280404 L -93.90882871532276,43.99752094033573 L -93.90873631656764,43.997487879532514 L -93.90864760326318,43.99744592126435 L -93.90856342976699,43.9973954696123 L -93.90848460671585,43.997337010453364 L -93.90841189321881,43.997271106781184 L -93.90834598954665,43.997198393284165 L -93.9082875303877,43.99711957023302 L -93.90823707873565,43.99703539673683 L -93.9081951204675,43.99694668343236 L -93.90816205966428,43.996854284677255 L -93.9081382147196,43.996759090322016 L -93.90812381527333,43.99666201714033 L -93.908119,43.996564 z\" /><path fill-rule=\"evenodd\" fill=\"#66cc99\" stroke=\"#555555\" stroke-width=\"0.06126131520000001\" opacity=\"0.6\" d=\"M -93.90813299999999,45.138756 L -93.90813781527332,45.13865798285967 L -93.90815221471959,45.138560909677985 L -93.90817605966427,45.138465715322745 L -93.90820912046749,45.13837331656764 L -93.90825107873565,45.13828460326317 L -93.90830153038769,45.13820042976698 L -93.90835998954664,45.138121606715835 L -93.9084258932188,45.138048893218816 L -93.90849860671584,45.137982989546636 L -93.90857742976698,45.1379245303877 L -93.90866160326317,45.13787407873565 L -93.90875031656763,45.137832120467486 L -93.90884271532275,45.13779905966427 L -93.90893790967799,45.137775214719596 L -93.90903498285967,45.13776081527333 L -93.909133,45.137756 L -93.90923101714033,45.13776081527333 L -93.909328090322,45.137775214719596 L -93.90942328467725,45.13779905966427 L -93.90951568343236,45.137832120467486 L -93.90960439673682,45.13787407873565 L -93.90968857023302,45.1379245303877 L -93.90976739328416,45.137982989546636 L -93.90984010678119,45.138048893218816 L -93.90990601045335,45.138121606715835 L -93.9099644696123,45.13820042976698 L -93.91001492126435,45.13828460326317 L -93.9100568795325,45.13837331656764 L -93.91008994033572,45.138465715322745 L -93.9101137852804,45.138560909677985 L -93.91012818472667,45.13865798285967 L -93.910133,45.138756 L -93.91012818472667,45.13885401714033 L -93.9101137852804,45.13895109032202 L -93.91008994033572,45.139046284677256 L -93.9100568795325,45.139138683432364 L -93.91001492126435,45.13922739673683 L -93.9099644696123,45.13931157023302 L -93.90990601045335,45.13939039328417 L -93.90984010678119,45.139463106781186 L -93.90976739328416,45.139529010453366 L -93.90968857023302,45.1395874696123 L -93.90960439673682,45.13963792126435 L -93.90951568343236,45.139679879532515 L -93.90942328467725,45.139712940335734 L -93.909328090322,45.139736785280405 L -93.90923101714033,45.13975118472667 L -93.909133,45.139756 L -93.90903498285967,45.13975118472667 L -93.90893790967799,45.139736785280405 L -93.90884271532275,45.139712940335734 L -93.90875031656763,45.139679879532515 L -93.90866160326317,45.13963792126435 L -93.90857742976698,45.1395874696123 L -93.90849860671584,45.139529010453366 L -93.9084258932188,45.139463106781186 L -93.90835998954664,45.13939039328417 L -93.90830153038769,45.13931157023302 L -93.90825107873565,45.13922739673683 L -93.90820912046749,45.139138683432364 L -93.90817605966427,45.139046284677256 L -93.90815221471959,45.13895109032202 L -93.90813781527332,45.13885401714033 L -93.90813299999999,45.138756 z\" /><path fill-rule=\"evenodd\" fill=\"#66cc99\" stroke=\"#555555\" stroke-width=\"0.06126131520000001\" opacity=\"0.6\" d=\"M -93.93543899999999,45.484256 L -93.93544381527332,45.48415798285967 L -93.93545821471959,45.484060909677986 L -93.93548205966427,45.483965715322746 L -93.93551512046749,45.48387331656764 L -93.93555707873564,45.483784603263175 L -93.93560753038768,45.483700429766984 L -93.93566598954664,45.483621606715836 L -93.9357318932188,45.48354889321882 L -93.93580460671583,45.48348298954664 L -93.93588342976697,45.4834245303877 L -93.93596760326317,45.48337407873565 L -93.93605631656763,45.48333212046749 L -93.93614871532274,45.48329905966427 L -93.93624390967798,45.4832752147196 L -93.93634098285966,45.48326081527333 L -93.936439,45.483256000000004 L -93.93653701714032,45.48326081527333 L -93.936634090322,45.4832752147196 L -93.93672928467724,45.48329905966427 L -93.93682168343236,45.48333212046749 L -93.93691039673682,45.48337407873565 L -93.93699457023301,45.4834245303877 L -93.93707339328415,45.48348298954664 L -93.93714610678119,45.48354889321882 L -93.93721201045335,45.483621606715836 L -93.9372704696123,45.483700429766984 L -93.93732092126434,45.483784603263175 L -93.9373628795325,45.48387331656764 L -93.93739594033572,45.483965715322746 L -93.9374197852804,45.484060909677986 L -93.93743418472667,45.48415798285967 L -93.937439,45.484256 L -93.93743418472667,45.48435401714033 L -93.9374197852804,45.48445109032202 L -93.93739594033572,45.48454628467726 L -93.9373628795325,45.484638683432365 L -93.93732092126434,45.48472739673683 L -93.9372704696123,45.48481157023302 L -93.93721201045335,45.48489039328417 L -93.93714610678119,45.48496310678119 L -93.93707339328415,45.48502901045337 L -93.93699457023301,45.4850874696123 L -93.93691039673682,45.485137921264354 L -93.93682168343236,45.48517987953252 L -93.93672928467724,45.485212940335735 L -93.936634090322,45.48523678528041 L -93.93653701714032,45.48525118472667 L -93.936439,45.485256 L -93.93634098285966,45.48525118472667 L -93.93624390967798,45.48523678528041 L -93.93614871532274,45.485212940335735 L -93.93605631656763,45.48517987953252 L -93.93596760326317,45.485137921264354 L -93.93588342976697,45.4850874696123 L -93.93580460671583,45.48502901045337 L -93.9357318932188,45.48496310678119 L -93.93566598954664,45.48489039328417 L -93.93560753038768,45.48481157023302 L -93.93555707873564,45.48472739673683 L -93.93551512046749,45.484638683432365 L -93.93548205966427,45.48454628467726 L -93.93545821471959,45.48445109032202 L -93.93544381527332,45.48435401714033 L -93.93543899999999,45.484256 z\" /><path fill-rule=\"evenodd\" fill=\"#66cc99\" stroke=\"#555555\" stroke-width=\"0.06126131520000001\" opacity=\"0.6\" d=\"M -93.955947,45.486744 L -93.95595181527332,45.48664598285967 L -93.9559662147196,45.486548909677985 L -93.95599005966427,45.486453715322746 L -93.95602312046749,45.48636131656764 L -93.95606507873565,45.486272603263174 L -93.95611553038769,45.48618842976698 L -93.95617398954664,45.486109606715836 L -93.95623989321881,45.48603689321882 L -93.95631260671584,45.48597098954664 L -93.95639142976698,45.4859125303877 L -93.95647560326317,45.48586207873565 L -93.95656431656764,45.48582012046749 L -93.95665671532275,45.48578705966427 L -93.95675190967799,45.4857632147196 L -93.95684898285967,45.48574881527333 L -93.956947,45.485744000000004 L -93.95704501714033,45.48574881527333 L -93.95714209032201,45.4857632147196 L -93.95723728467725,45.48578705966427 L -93.95732968343236,45.48582012046749 L -93.95741839673683,45.48586207873565 L -93.95750257023302,45.4859125303877 L -93.95758139328416,45.48597098954664 L -93.95765410678119,45.48603689321882 L -93.95772001045336,45.486109606715836 L -93.95777846961231,45.48618842976698 L -93.95782892126435,45.486272603263174 L -93.9578708795325,45.48636131656764 L -93.95790394033573,45.486453715322746 L -93.9579277852804,45.486548909677985 L -93.95794218472668,45.48664598285967 L -93.957947,45.486744 L -93.95794218472668,45.48684201714033 L -93.9579277852804,45.48693909032202 L -93.95790394033573,45.48703428467726 L -93.9578708795325,45.487126683432365 L -93.95782892126435,45.48721539673683 L -93.95777846961231,45.48729957023302 L -93.95772001045336,45.48737839328417 L -93.95765410678119,45.48745110678119 L -93.95758139328416,45.48751701045337 L -93.95750257023302,45.4875754696123 L -93.95741839673683,45.48762592126435 L -93.95732968343236,45.487667879532516 L -93.95723728467725,45.487700940335735 L -93.95714209032201,45.487724785280406 L -93.95704501714033,45.48773918472667 L -93.956947,45.487744 L -93.95684898285967,45.48773918472667 L -93.95675190967799,45.487724785280406 L -93.95665671532275,45.487700940335735 L -93.95656431656764,45.487667879532516 L -93.95647560326317,45.48762592126435 L -93.95639142976698,45.4875754696123 L -93.95631260671584,45.48751701045337 L -93.95623989321881,45.48745110678119 L -93.95617398954664,45.48737839328417 L -93.95611553038769,45.48729957023302 L -93.95606507873565,45.48721539673683 L -93.95602312046749,45.487126683432365 L -93.95599005966427,45.48703428467726 L -93.9559662147196,45.48693909032202 L -93.95595181527332,45.48684201714033 L -93.955947,45.486744 z\" /><path fill-rule=\"evenodd\" fill=\"#66cc99\" stroke=\"#555555\" stroke-width=\"0.06126131520000001\" opacity=\"0.6\" d=\"M -93.97104399999999,45.065458 L -93.97104881527332,45.06535998285967 L -93.97106321471959,45.06526290967798 L -93.97108705966427,45.065167715322744 L -93.97112012046749,45.065075316567636 L -93.97116207873565,45.06498660326317 L -93.97121253038769,45.06490242976698 L -93.97127098954664,45.064823606715834 L -93.9713368932188,45.064750893218815 L -93.97140960671584,45.064684989546635 L -93.97148842976698,45.0646265303877 L -93.97157260326317,45.06457607873565 L -93.97166131656763,45.064534120467485 L -93.97175371532275,45.064501059664266 L -93.97184890967799,45.064477214719595 L -93.97194598285967,45.06446281527333 L -93.972044,45.064458 L -93.97214201714033,45.06446281527333 L -93.972239090322,45.064477214719595 L -93.97233428467725,45.064501059664266 L -93.97242668343236,45.064534120467485 L -93.97251539673682,45.06457607873565 L -93.97259957023302,45.0646265303877 L -93.97267839328416,45.064684989546635 L -93.97275110678119,45.064750893218815 L -93.97281701045335,45.064823606715834 L -93.9728754696123,45.06490242976698 L -93.97292592126435,45.06498660326317 L -93.9729678795325,45.065075316567636 L -93.97300094033572,45.065167715322744 L -93.9730247852804,45.06526290967798 L -93.97303918472667,45.06535998285967 L -93.973044,45.065458 L -93.97303918472667,45.06555601714033 L -93.9730247852804,45.065653090322016 L -93.97300094033572,45.065748284677255 L -93.9729678795325,45.06584068343236 L -93.97292592126435,45.06592939673683 L -93.9728754696123,45.06601357023302 L -93.97281701045335,45.066092393284165 L -93.97275110678119,45.066165106781185 L -93.97267839328416,45.066231010453365 L -93.97259957023302,45.0662894696123 L -93.97251539673682,45.06633992126435 L -93.97242668343236,45.066381879532514 L -93.97233428467725,45.06641494033573 L -93.972239090322,45.066438785280404 L -93.97214201714033,45.06645318472667 L -93.972044,45.066458 L -93.97194598285967,45.06645318472667 L -93.97184890967799,45.066438785280404 L -93.97175371532275,45.06641494033573 L -93.97166131656763,45.066381879532514 L -93.97157260326317,45.06633992126435 L -93.97148842976698,45.0662894696123 L -93.97140960671584,45.066231010453365 L -93.9713368932188,45.066165106781185 L -93.97127098954664,45.066092393284165 L -93.97121253038769,45.06601357023302 L -93.97116207873565,45.06592939673683 L -93.97112012046749,45.06584068343236 L -93.97108705966427,45.065748284677255 L -93.97106321471959,45.065653090322016 L -93.97104881527332,45.06555601714033 L -93.97104399999999,45.065458 z\" /><path fill-rule=\"evenodd\" fill=\"#66cc99\" stroke=\"#555555\" stroke-width=\"0.06126131520000001\" opacity=\"0.6\" d=\"M -93.97379199999999,45.499267 L -93.97379681527332,45.49916898285967 L -93.97381121471959,45.49907190967799 L -93.97383505966427,45.49897671532275 L -93.97386812046749,45.49888431656764 L -93.97391007873564,45.498795603263176 L -93.97396053038769,45.498711429766985 L -93.97401898954664,45.49863260671584 L -93.9740848932188,45.49855989321882 L -93.97415760671583,45.49849398954664 L -93.97423642976698,45.4984355303877 L -93.97432060326317,45.49838507873565 L -93.97440931656763,45.49834312046749 L -93.97450171532275,45.49831005966427 L -93.97459690967798,45.4982862147196 L -93.97469398285966,45.498271815273334 L -93.974792,45.498267000000006 L -93.97489001714032,45.498271815273334 L -93.974987090322,45.4982862147196 L -93.97508228467724,45.49831005966427 L -93.97517468343236,45.49834312046749 L -93.97526339673682,45.49838507873565 L -93.97534757023301,45.4984355303877 L -93.97542639328415,45.49849398954664 L -93.97549910678119,45.49855989321882 L -93.97556501045335,45.49863260671584 L -93.9756234696123,45.498711429766985 L -93.97567392126435,45.498795603263176 L -93.9757158795325,45.49888431656764 L -93.97574894033572,45.49897671532275 L -93.9757727852804,45.49907190967799 L -93.97578718472667,45.49916898285967 L -93.975792,45.499267 L -93.97578718472667,45.499365017140335 L -93.9757727852804,45.49946209032202 L -93.97574894033572,45.49955728467726 L -93.9757158795325,45.49964968343237 L -93.97567392126435,45.49973839673683 L -93.9756234696123,45.49982257023302 L -93.97556501045335,45.49990139328417 L -93.97549910678119,45.49997410678119 L -93.97542639328415,45.50004001045337 L -93.97534757023301,45.500098469612304 L -93.97526339673682,45.500148921264355 L -93.97517468343236,45.50019087953252 L -93.97508228467724,45.50022394033574 L -93.974987090322,45.50024778528041 L -93.97489001714032,45.50026218472667 L -93.974792,45.500267 L -93.97469398285966,45.50026218472667 L -93.97459690967798,45.50024778528041 L -93.97450171532275,45.50022394033574 L -93.97440931656763,45.50019087953252 L -93.97432060326317,45.500148921264355 L -93.97423642976698,45.500098469612304 L -93.97415760671583,45.50004001045337 L -93.9740848932188,45.49997410678119 L -93.97401898954664,45.49990139328417 L -93.97396053038769,45.49982257023302 L -93.97391007873564,45.49973839673683 L -93.97386812046749,45.49964968343237 L -93.97383505966427,45.49955728467726 L -93.97381121471959,45.49946209032202 L -93.97379681527332,45.499365017140335 L -93.97379199999999,45.499267 z\" /><path fill-rule=\"evenodd\" fill=\"#66cc99\" stroke=\"#555555\" stroke-width=\"0.06126131520000001\" opacity=\"0.6\" d=\"M -93.97851399999999,45.486636 L -93.97851881527332,45.486537982859666 L -93.97853321471959,45.48644090967798 L -93.97855705966427,45.48634571532274 L -93.97859012046749,45.486253316567634 L -93.97863207873564,45.48616460326317 L -93.97868253038769,45.48608042976698 L -93.97874098954664,45.48600160671583 L -93.9788068932188,45.48592889321881 L -93.97887960671584,45.48586298954663 L -93.97895842976698,45.485804530387696 L -93.97904260326317,45.485754078735646 L -93.97913131656763,45.48571212046748 L -93.97922371532275,45.485679059664264 L -93.97931890967799,45.48565521471959 L -93.97941598285966,45.48564081527333 L -93.979514,45.485636 L -93.97961201714033,45.48564081527333 L -93.979709090322,45.48565521471959 L -93.97980428467724,45.485679059664264 L -93.97989668343236,45.48571212046748 L -93.97998539673682,45.485754078735646 L -93.98006957023301,45.485804530387696 L -93.98014839328415,45.48586298954663 L -93.98022110678119,45.48592889321881 L -93.98028701045335,45.48600160671583 L -93.9803454696123,45.48608042976698 L -93.98039592126435,45.48616460326317 L -93.9804378795325,45.486253316567634 L -93.98047094033572,45.48634571532274 L -93.9804947852804,45.48644090967798 L -93.98050918472667,45.486537982859666 L -93.980514,45.486636 L -93.98050918472667,45.48673401714033 L -93.9804947852804,45.48683109032201 L -93.98047094033572,45.48692628467725 L -93.9804378795325,45.48701868343236 L -93.98039592126435,45.487107396736825 L -93.9803454696123,45.487191570233016 L -93.98028701045335,45.48727039328416 L -93.98022110678119,45.48734310678118 L -93.98014839328415,45.48740901045336 L -93.98006957023301,45.4874674696123 L -93.97998539673682,45.48751792126435 L -93.97989668343236,45.48755987953251 L -93.97980428467724,45.48759294033573 L -93.979709090322,45.4876167852804 L -93.97961201714033,45.487631184726666 L -93.979514,45.487635999999995 L -93.97941598285966,45.487631184726666 L -93.97931890967799,45.4876167852804 L -93.97922371532275,45.48759294033573 L -93.97913131656763,45.48755987953251 L -93.97904260326317,45.48751792126435 L -93.97895842976698,45.4874674696123 L -93.97887960671584,45.48740901045336 L -93.9788068932188,45.48734310678118 L -93.97874098954664,45.48727039328416 L -93.97868253038769,45.487191570233016 L -93.97863207873564,45.487107396736825 L -93.97859012046749,45.48701868343236 L -93.97855705966427,45.48692628467725 L -93.97853321471959,45.48683109032201 L -93.97851881527332,45.48673401714033 L -93.97851399999999,45.486636 z\" /><path fill-rule=\"evenodd\" fill=\"#66cc99\" stroke=\"#555555\" stroke-width=\"0.06126131520000001\" opacity=\"0.6\" d=\"M -93.99372799999999,44.576117 L -93.99373281527332,44.57601898285967 L -93.99374721471959,44.57592190967799 L -93.99377105966427,44.57582671532275 L -93.99380412046749,44.57573431656764 L -93.99384607873564,44.575645603263176 L -93.99389653038769,44.575561429766985 L -93.99395498954664,44.57548260671584 L -93.9940208932188,44.57540989321882 L -93.99409360671584,44.57534398954664 L -93.99417242976698,44.5752855303877 L -93.99425660326317,44.57523507873565 L -93.99434531656763,44.57519312046749 L -93.99443771532275,44.57516005966427 L -93.99453290967799,44.5751362147196 L -93.99462998285966,44.575121815273334 L -93.994728,44.575117000000006 L -93.99482601714033,44.575121815273334 L -93.994923090322,44.5751362147196 L -93.99501828467724,44.57516005966427 L -93.99511068343236,44.57519312046749 L -93.99519939673682,44.57523507873565 L -93.99528357023301,44.5752855303877 L -93.99536239328415,44.57534398954664 L -93.99543510678119,44.57540989321882 L -93.99550101045335,44.57548260671584 L -93.9955594696123,44.575561429766985 L -93.99560992126435,44.575645603263176 L -93.9956518795325,44.57573431656764 L -93.99568494033572,44.57582671532275 L -93.9957087852804,44.57592190967799 L -93.99572318472667,44.57601898285967 L -93.995728,44.576117 L -93.99572318472667,44.576215017140335 L -93.9957087852804,44.57631209032202 L -93.99568494033572,44.57640728467726 L -93.9956518795325,44.57649968343237 L -93.99560992126435,44.57658839673683 L -93.9955594696123,44.57667257023302 L -93.99550101045335,44.57675139328417 L -93.99543510678119,44.57682410678119 L -93.99536239328415,44.57689001045337 L -93.99528357023301,44.576948469612304 L -93.99519939673682,44.576998921264355 L -93.99511068343236,44.57704087953252 L -93.99501828467724,44.57707394033574 L -93.994923090322,44.57709778528041 L -93.99482601714033,44.57711218472667 L -93.994728,44.577117 L -93.99462998285966,44.57711218472667 L -93.99453290967799,44.57709778528041 L -93.99443771532275,44.57707394033574 L -93.99434531656763,44.57704087953252 L -93.99425660326317,44.576998921264355 L -93.99417242976698,44.576948469612304 L -93.99409360671584,44.57689001045337 L -93.9940208932188,44.57682410678119 L -93.99395498954664,44.57675139328417 L -93.99389653038769,44.57667257023302 L -93.99384607873564,44.57658839673683 L -93.99380412046749,44.57649968343237 L -93.99377105966427,44.57640728467726 L -93.99374721471959,44.57631209032202 L -93.99373281527332,44.576215017140335 L -93.99372799999999,44.576117 z\" /><path fill-rule=\"evenodd\" fill=\"#66cc99\" stroke=\"#555555\" stroke-width=\"0.06126131520000001\" opacity=\"0.6\" d=\"M -94.006692,45.713225 L -94.00669681527333,45.71312698285967 L -94.0067112147196,45.713029909677985 L -94.00673505966428,45.712934715322746 L -94.0067681204675,45.71284231656764 L -94.00681007873565,45.712753603263174 L -94.0068605303877,45.71266942976698 L -94.00691898954665,45.712590606715835 L -94.00698489321881,45.712517893218816 L -94.00705760671585,45.712451989546636 L -94.00713642976699,45.7123935303877 L -94.00722060326318,45.71234307873565 L -94.00730931656764,45.71230112046749 L -94.00740171532276,45.71226805966427 L -94.007496909678,45.7122442147196 L -94.00759398285967,45.71222981527333 L -94.007692,45.712225000000004 L -94.00779001714034,45.71222981527333 L -94.00788709032201,45.7122442147196 L -94.00798228467725,45.71226805966427 L -94.00807468343237,45.71230112046749 L -94.00816339673683,45.71234307873565 L -94.00824757023302,45.7123935303877 L -94.00832639328416,45.712451989546636 L -94.0083991067812,45.712517893218816 L -94.00846501045336,45.712590606715835 L -94.00852346961231,45.71266942976698 L -94.00857392126436,45.712753603263174 L -94.00861587953251,45.71284231656764 L -94.00864894033573,45.712934715322746 L -94.00867278528041,45.713029909677985 L -94.00868718472668,45.71312698285967 L -94.00869200000001,45.713225 L -94.00868718472668,45.71332301714033 L -94.00867278528041,45.71342009032202 L -94.00864894033573,45.71351528467726 L -94.00861587953251,45.713607683432365 L -94.00857392126436,45.71369639673683 L -94.00852346961231,45.71378057023302 L -94.00846501045336,45.71385939328417 L -94.0083991067812,45.713932106781186 L -94.00832639328416,45.713998010453366 L -94.00824757023302,45.7140564696123 L -94.00816339673683,45.71410692126435 L -94.00807468343237,45.714148879532516 L -94.00798228467725,45.714181940335735 L -94.00788709032201,45.714205785280406 L -94.00779001714034,45.71422018472667 L -94.007692,45.714225 L -94.00759398285967,45.71422018472667 L -94.007496909678,45.714205785280406 L -94.00740171532276,45.714181940335735 L -94.00730931656764,45.714148879532516 L -94.00722060326318,45.71410692126435 L -94.00713642976699,45.7140564696123 L -94.00705760671585,45.713998010453366 L -94.00698489321881,45.713932106781186 L -94.00691898954665,45.71385939328417 L -94.0068605303877,45.71378057023302 L -94.00681007873565,45.71369639673683 L -94.0067681204675,45.713607683432365 L -94.00673505966428,45.71351528467726 L -94.0067112147196,45.71342009032202 L -94.00669681527333,45.71332301714033 L -94.006692,45.713225 z\" /><path fill-rule=\"evenodd\" fill=\"#66cc99\" stroke=\"#555555\" stroke-width=\"0.06126131520000001\" opacity=\"0.6\" d=\"M -94.009619,44.595642 L -94.00962381527333,44.59554398285967 L -94.0096382147196,44.59544690967798 L -94.00966205966428,44.59535171532274 L -94.0096951204675,44.595259316567635 L -94.00973707873565,44.59517060326317 L -94.0097875303877,44.59508642976698 L -94.00984598954665,44.59500760671583 L -94.00991189321881,44.59493489321881 L -94.00998460671585,44.59486898954663 L -94.01006342976699,44.5948105303877 L -94.01014760326318,44.594760078735646 L -94.01023631656764,44.59471812046748 L -94.01032871532276,44.594685059664265 L -94.010423909678,44.59466121471959 L -94.01052098285967,44.59464681527333 L -94.010619,44.594642 L -94.01071701714034,44.59464681527333 L -94.01081409032201,44.59466121471959 L -94.01090928467725,44.594685059664265 L -94.01100168343237,44.59471812046748 L -94.01109039673683,44.594760078735646 L -94.01117457023302,44.5948105303877 L -94.01125339328416,44.59486898954663 L -94.0113261067812,44.59493489321881 L -94.01139201045336,44.59500760671583 L -94.01145046961231,44.59508642976698 L -94.01150092126436,44.59517060326317 L -94.01154287953251,44.595259316567635 L -94.01157594033573,44.59535171532274 L -94.01159978528041,44.59544690967798 L -94.01161418472668,44.59554398285967 L -94.01161900000001,44.595642 L -94.01161418472668,44.59574001714033 L -94.01159978528041,44.595837090322014 L -94.01157594033573,44.595932284677254 L -94.01154287953251,44.59602468343236 L -94.01150092126436,44.596113396736826 L -94.01145046961231,44.59619757023302 L -94.01139201045336,44.596276393284164 L -94.0113261067812,44.59634910678118 L -94.01125339328416,44.59641501045336 L -94.01117457023302,44.5964734696123 L -94.01109039673683,44.59652392126435 L -94.01100168343237,44.59656587953251 L -94.01090928467725,44.59659894033573 L -94.01081409032201,44.5966227852804 L -94.01071701714034,44.59663718472667 L -94.010619,44.596641999999996 L -94.01052098285967,44.59663718472667 L -94.010423909678,44.5966227852804 L -94.01032871532276,44.59659894033573 L -94.01023631656764,44.59656587953251 L -94.01014760326318,44.59652392126435 L -94.01006342976699,44.5964734696123 L -94.00998460671585,44.59641501045336 L -94.00991189321881,44.59634910678118 L -94.00984598954665,44.596276393284164 L -94.0097875303877,44.59619757023302 L -94.00973707873565,44.596113396736826 L -94.0096951204675,44.59602468343236 L -94.00966205966428,44.595932284677254 L -94.0096382147196,44.595837090322014 L -94.00962381527333,44.59574001714033 L -94.009619,44.595642 z\" /><path fill-rule=\"evenodd\" fill=\"#66cc99\" stroke=\"#555555\" stroke-width=\"0.06126131520000001\" opacity=\"0.6\" d=\"M -94.01690599999999,44.162731 L -94.01691081527332,44.16263298285967 L -94.01692521471959,44.162535909677985 L -94.01694905966427,44.162440715322745 L -94.01698212046749,44.16234831656764 L -94.01702407873564,44.16225960326317 L -94.01707453038769,44.16217542976698 L -94.01713298954664,44.162096606715835 L -94.0171988932188,44.162023893218816 L -94.01727160671584,44.161957989546636 L -94.01735042976698,44.1618995303877 L -94.01743460326317,44.16184907873565 L -94.01752331656763,44.161807120467486 L -94.01761571532275,44.16177405966427 L -94.01771090967799,44.161750214719596 L -94.01780798285967,44.16173581527333 L -94.017906,44.161731 L -94.01800401714033,44.16173581527333 L -94.018101090322,44.161750214719596 L -94.01819628467724,44.16177405966427 L -94.01828868343236,44.161807120467486 L -94.01837739673682,44.16184907873565 L -94.01846157023301,44.1618995303877 L -94.01854039328416,44.161957989546636 L -94.01861310678119,44.162023893218816 L -94.01867901045335,44.162096606715835 L -94.0187374696123,44.16217542976698 L -94.01878792126435,44.16225960326317 L -94.0188298795325,44.16234831656764 L -94.01886294033572,44.162440715322745 L -94.0188867852804,44.162535909677985 L -94.01890118472667,44.16263298285967 L -94.018906,44.162731 L -94.01890118472667,44.16282901714033 L -94.0188867852804,44.16292609032202 L -94.01886294033572,44.16302128467726 L -94.0188298795325,44.163113683432364 L -94.01878792126435,44.16320239673683 L -94.0187374696123,44.16328657023302 L -94.01867901045335,44.16336539328417 L -94.01861310678119,44.163438106781186 L -94.01854039328416,44.163504010453366 L -94.01846157023301,44.1635624696123 L -94.01837739673682,44.16361292126435 L -94.01828868343236,44.163654879532515 L -94.01819628467724,44.163687940335734 L -94.018101090322,44.163711785280405 L -94.01800401714033,44.16372618472667 L -94.017906,44.163731 L -94.01780798285967,44.16372618472667 L -94.01771090967799,44.163711785280405 L -94.01761571532275,44.163687940335734 L -94.01752331656763,44.163654879532515 L -94.01743460326317,44.16361292126435 L -94.01735042976698,44.1635624696123 L -94.01727160671584,44.163504010453366 L -94.0171988932188,44.163438106781186 L -94.01713298954664,44.16336539328417 L -94.01707453038769,44.16328657023302 L -94.01702407873564,44.16320239673683 L -94.01698212046749,44.163113683432364 L -94.01694905966427,44.16302128467726 L -94.01692521471959,44.16292609032202 L -94.01691081527332,44.16282901714033 L -94.01690599999999,44.162731 z\" /><path fill-rule=\"evenodd\" fill=\"#66cc99\" stroke=\"#555555\" stroke-width=\"0.06126131520000001\" opacity=\"0.6\" d=\"M -94.027917,44.2338 L -94.02792181527333,44.23370198285967 L -94.0279362147196,44.233604909677986 L -94.02796005966428,44.23350971532275 L -94.0279931204675,44.23341731656764 L -94.02803507873566,44.233328603263175 L -94.0280855303877,44.233244429766984 L -94.02814398954665,44.233165606715836 L -94.02820989321881,44.23309289321882 L -94.02828260671585,44.23302698954664 L -94.02836142976699,44.2329685303877 L -94.02844560326318,44.23291807873565 L -94.02853431656764,44.23287612046749 L -94.02862671532276,44.23284305966427 L -94.028721909678,44.2328192147196 L -94.02881898285968,44.23280481527333 L -94.028917,44.232800000000005 L -94.02901501714034,44.23280481527333 L -94.02911209032202,44.2328192147196 L -94.02920728467726,44.23284305966427 L -94.02929968343237,44.23287612046749 L -94.02938839673683,44.23291807873565 L -94.02947257023303,44.2329685303877 L -94.02955139328417,44.23302698954664 L -94.0296241067812,44.23309289321882 L -94.02969001045336,44.233165606715836 L -94.02974846961231,44.233244429766984 L -94.02979892126436,44.233328603263175 L -94.02984087953251,44.23341731656764 L -94.02987394033573,44.23350971532275 L -94.02989778528041,44.233604909677986 L -94.02991218472668,44.23370198285967 L -94.02991700000001,44.2338 L -94.02991218472668,44.23389801714033 L -94.02989778528041,44.23399509032202 L -94.02987394033573,44.23409028467726 L -94.02984087953251,44.234182683432365 L -94.02979892126436,44.23427139673683 L -94.02974846961231,44.23435557023302 L -94.02969001045336,44.23443439328417 L -94.0296241067812,44.23450710678119 L -94.02955139328417,44.23457301045337 L -94.02947257023303,44.2346314696123 L -94.02938839673683,44.234681921264354 L -94.02929968343237,44.23472387953252 L -94.02920728467726,44.234756940335735 L -94.02911209032202,44.23478078528041 L -94.02901501714034,44.23479518472667 L -94.028917,44.2348 L -94.02881898285968,44.23479518472667 L -94.028721909678,44.23478078528041 L -94.02862671532276,44.234756940335735 L -94.02853431656764,44.23472387953252 L -94.02844560326318,44.234681921264354 L -94.02836142976699,44.2346314696123 L -94.02828260671585,44.23457301045337 L -94.02820989321881,44.23450710678119 L -94.02814398954665,44.23443439328417 L -94.0280855303877,44.23435557023302 L -94.02803507873566,44.23427139673683 L -94.0279931204675,44.234182683432365 L -94.02796005966428,44.23409028467726 L -94.0279362147196,44.23399509032202 L -94.02792181527333,44.23389801714033 L -94.027917,44.2338 z\" /><path fill-rule=\"evenodd\" fill=\"#66cc99\" stroke=\"#555555\" stroke-width=\"0.06126131520000001\" opacity=\"0.6\" d=\"M -94.02798299999999,44.159236 L -94.02798781527332,44.15913798285967 L -94.02800221471959,44.159040909677984 L -94.02802605966427,44.158945715322744 L -94.02805912046749,44.15885331656764 L -94.02810107873565,44.15876460326317 L -94.02815153038769,44.15868042976698 L -94.02820998954664,44.158601606715834 L -94.0282758932188,44.158528893218815 L -94.02834860671584,44.158462989546635 L -94.02842742976698,44.1584045303877 L -94.02851160326317,44.15835407873565 L -94.02860031656763,44.158312120467485 L -94.02869271532275,44.15827905966427 L -94.02878790967799,44.158255214719595 L -94.02888498285967,44.15824081527333 L -94.028983,44.158236 L -94.02908101714033,44.15824081527333 L -94.029178090322,44.158255214719595 L -94.02927328467725,44.15827905966427 L -94.02936568343236,44.158312120467485 L -94.02945439673682,44.15835407873565 L -94.02953857023302,44.1584045303877 L -94.02961739328416,44.158462989546635 L -94.02969010678119,44.158528893218815 L -94.02975601045335,44.158601606715834 L -94.0298144696123,44.15868042976698 L -94.02986492126435,44.15876460326317 L -94.0299068795325,44.15885331656764 L -94.02993994033572,44.158945715322744 L -94.0299637852804,44.159040909677984 L -94.02997818472667,44.15913798285967 L -94.029983,44.159236 L -94.02997818472667,44.15933401714033 L -94.0299637852804,44.159431090322016 L -94.02993994033572,44.159526284677256 L -94.0299068795325,44.15961868343236 L -94.02986492126435,44.15970739673683 L -94.0298144696123,44.15979157023302 L -94.02975601045335,44.159870393284166 L -94.02969010678119,44.159943106781185 L -94.02961739328416,44.160009010453365 L -94.02953857023302,44.1600674696123 L -94.02945439673682,44.16011792126435 L -94.02936568343236,44.160159879532515 L -94.02927328467725,44.16019294033573 L -94.029178090322,44.160216785280404 L -94.02908101714033,44.16023118472667 L -94.028983,44.160236 L -94.02888498285967,44.16023118472667 L -94.02878790967799,44.160216785280404 L -94.02869271532275,44.16019294033573 L -94.02860031656763,44.160159879532515 L -94.02851160326317,44.16011792126435 L -94.02842742976698,44.1600674696123 L -94.02834860671584,44.160009010453365 L -94.0282758932188,44.159943106781185 L -94.02820998954664,44.159870393284166 L -94.02815153038769,44.15979157023302 L -94.02810107873565,44.15970739673683 L -94.02805912046749,44.15961868343236 L -94.02802605966427,44.159526284677256 L -94.02800221471959,44.159431090322016 L -94.02798781527332,44.15933401714033 L -94.02798299999999,44.159236 z\" /><path fill-rule=\"evenodd\" fill=\"#66cc99\" stroke=\"#555555\" stroke-width=\"0.06126131520000001\" opacity=\"0.6\" d=\"M -94.03679699999999,45.544444 L -94.03680181527332,45.54434598285967 L -94.0368162147196,45.54424890967798 L -94.03684005966427,45.54415371532274 L -94.03687312046749,45.544061316567635 L -94.03691507873565,45.54397260326317 L -94.03696553038769,45.54388842976698 L -94.03702398954664,45.54380960671583 L -94.0370898932188,45.543736893218814 L -94.03716260671584,45.543670989546634 L -94.03724142976698,45.5436125303877 L -94.03732560326317,45.54356207873565 L -94.03741431656763,45.543520120467484 L -94.03750671532275,45.543487059664265 L -94.03760190967799,45.543463214719594 L -94.03769898285967,45.54344881527333 L -94.037797,45.543444 L -94.03789501714033,45.54344881527333 L -94.037992090322,45.543463214719594 L -94.03808728467725,45.543487059664265 L -94.03817968343236,45.543520120467484 L -94.03826839673683,45.54356207873565 L -94.03835257023302,45.5436125303877 L -94.03843139328416,45.543670989546634 L -94.03850410678119,45.543736893218814 L -94.03857001045336,45.54380960671583 L -94.0386284696123,45.54388842976698 L -94.03867892126435,45.54397260326317 L -94.0387208795325,45.544061316567635 L -94.03875394033572,45.54415371532274 L -94.0387777852804,45.54424890967798 L -94.03879218472667,45.54434598285967 L -94.038797,45.544444 L -94.03879218472667,45.54454201714033 L -94.0387777852804,45.544639090322015 L -94.03875394033572,45.544734284677254 L -94.0387208795325,45.54482668343236 L -94.03867892126435,45.544915396736826 L -94.0386284696123,45.54499957023302 L -94.03857001045336,45.545078393284165 L -94.03850410678119,45.545151106781184 L -94.03843139328416,45.545217010453364 L -94.03835257023302,45.5452754696123 L -94.03826839673683,45.54532592126435 L -94.03817968343236,45.54536787953251 L -94.03808728467725,45.54540094033573 L -94.037992090322,45.5454247852804 L -94.03789501714033,45.54543918472667 L -94.037797,45.545443999999996 L -94.03769898285967,45.54543918472667 L -94.03760190967799,45.5454247852804 L -94.03750671532275,45.54540094033573 L -94.03741431656763,45.54536787953251 L -94.03732560326317,45.54532592126435 L -94.03724142976698,45.5452754696123 L -94.03716260671584,45.545217010453364 L -94.0370898932188,45.545151106781184 L -94.03702398954664,45.545078393284165 L -94.03696553038769,45.54499957023302 L -94.03691507873565,45.544915396736826 L -94.03687312046749,45.54482668343236 L -94.03684005966427,45.544734284677254 L -94.0368162147196,45.544639090322015 L -94.03680181527332,45.54454201714033 L -94.03679699999999,45.544444 z\" /><path fill-rule=\"evenodd\" fill=\"#66cc99\" stroke=\"#555555\" stroke-width=\"0.06126131520000001\" opacity=\"0.6\" d=\"M -94.061042,45.411328 L -94.06104681527333,45.411229982859666 L -94.0610612147196,45.41113290967798 L -94.06108505966428,45.41103771532274 L -94.0611181204675,45.410945316567634 L -94.06116007873565,45.41085660326317 L -94.0612105303877,45.41077242976698 L -94.06126898954665,45.41069360671583 L -94.06133489321881,45.41062089321881 L -94.06140760671585,45.41055498954663 L -94.06148642976699,45.4104965303877 L -94.06157060326318,45.410446078735646 L -94.06165931656764,45.41040412046748 L -94.06175171532276,45.410371059664264 L -94.061846909678,45.41034721471959 L -94.06194398285967,45.41033281527333 L -94.062042,45.410328 L -94.06214001714034,45.41033281527333 L -94.06223709032201,45.41034721471959 L -94.06233228467725,45.410371059664264 L -94.06242468343237,45.41040412046748 L -94.06251339673683,45.410446078735646 L -94.06259757023302,45.4104965303877 L -94.06267639328416,45.41055498954663 L -94.0627491067812,45.41062089321881 L -94.06281501045336,45.41069360671583 L -94.06287346961231,45.41077242976698 L -94.06292392126436,45.41085660326317 L -94.06296587953251,45.410945316567634 L -94.06299894033573,45.41103771532274 L -94.06302278528041,45.41113290967798 L -94.06303718472668,45.411229982859666 L -94.06304200000001,45.411328 L -94.06303718472668,45.41142601714033 L -94.06302278528041,45.411523090322014 L -94.06299894033573,45.41161828467725 L -94.06296587953251,45.41171068343236 L -94.06292392126436,45.411799396736825 L -94.06287346961231,45.411883570233016 L -94.06281501045336,45.41196239328416 L -94.0627491067812,45.41203510678118 L -94.06267639328416,45.41210101045336 L -94.06259757023302,45.4121594696123 L -94.06251339673683,45.41220992126435 L -94.06242468343237,45.41225187953251 L -94.06233228467725,45.41228494033573 L -94.06223709032201,45.4123087852804 L -94.06214001714034,45.41232318472667 L -94.062042,45.412327999999995 L -94.06194398285967,45.41232318472667 L -94.061846909678,45.4123087852804 L -94.06175171532276,45.41228494033573 L -94.06165931656764,45.41225187953251 L -94.06157060326318,45.41220992126435 L -94.06148642976699,45.4121594696123 L -94.06140760671585,45.41210101045336 L -94.06133489321881,45.41203510678118 L -94.06126898954665,45.41196239328416 L -94.0612105303877,45.411883570233016 L -94.06116007873565,45.411799396736825 L -94.0611181204675,45.41171068343236 L -94.06108505966428,45.41161828467725 L -94.0610612147196,45.411523090322014 L -94.06104681527333,45.41142601714033 L -94.061042,45.411328 z\" /><path fill-rule=\"evenodd\" fill=\"#66cc99\" stroke=\"#555555\" stroke-width=\"0.06126131520000001\" opacity=\"0.6\" d=\"M -94.06239199999999,44.152936 L -94.06239681527332,44.152837982859666 L -94.06241121471959,44.15274090967798 L -94.06243505966427,44.15264571532274 L -94.06246812046749,44.152553316567634 L -94.06251007873564,44.15246460326317 L -94.06256053038769,44.15238042976698 L -94.06261898954664,44.15230160671583 L -94.0626848932188,44.15222889321881 L -94.06275760671583,44.15216298954663 L -94.06283642976697,44.152104530387696 L -94.06292060326317,44.152054078735645 L -94.06300931656763,44.15201212046748 L -94.06310171532274,44.151979059664264 L -94.06319690967798,44.15195521471959 L -94.06329398285966,44.15194081527333 L -94.063392,44.151936 L -94.06349001714032,44.15194081527333 L -94.063587090322,44.15195521471959 L -94.06368228467724,44.151979059664264 L -94.06377468343236,44.15201212046748 L -94.06386339673682,44.152054078735645 L -94.06394757023301,44.152104530387696 L -94.06402639328415,44.15216298954663 L -94.06409910678119,44.15222889321881 L -94.06416501045335,44.15230160671583 L -94.0642234696123,44.15238042976698 L -94.06427392126434,44.15246460326317 L -94.0643158795325,44.152553316567634 L -94.06434894033572,44.15264571532274 L -94.0643727852804,44.15274090967798 L -94.06438718472667,44.152837982859666 L -94.064392,44.152936 L -94.06438718472667,44.15303401714033 L -94.0643727852804,44.15313109032201 L -94.06434894033572,44.15322628467725 L -94.0643158795325,44.15331868343236 L -94.06427392126434,44.153407396736824 L -94.0642234696123,44.153491570233015 L -94.06416501045335,44.15357039328416 L -94.06409910678119,44.15364310678118 L -94.06402639328415,44.15370901045336 L -94.06394757023301,44.1537674696123 L -94.06386339673682,44.15381792126435 L -94.06377468343236,44.15385987953251 L -94.06368228467724,44.15389294033573 L -94.063587090322,44.1539167852804 L -94.06349001714032,44.153931184726666 L -94.063392,44.153935999999995 L -94.06329398285966,44.153931184726666 L -94.06319690967798,44.1539167852804 L -94.06310171532274,44.15389294033573 L -94.06300931656763,44.15385987953251 L -94.06292060326317,44.15381792126435 L -94.06283642976697,44.1537674696123 L -94.06275760671583,44.15370901045336 L -94.0626848932188,44.15364310678118 L -94.06261898954664,44.15357039328416 L -94.06256053038769,44.153491570233015 L -94.06251007873564,44.153407396736824 L -94.06246812046749,44.15331868343236 L -94.06243505966427,44.15322628467725 L -94.06241121471959,44.15313109032201 L -94.06239681527332,44.15303401714033 L -94.06239199999999,44.152936 z\" /><path fill-rule=\"evenodd\" fill=\"#66cc99\" stroke=\"#555555\" stroke-width=\"0.06126131520000001\" opacity=\"0.6\" d=\"M -94.072761,45.062225 L -94.07276581527333,45.06212698285967 L -94.0727802147196,45.06202990967798 L -94.07280405966428,45.06193471532274 L -94.0728371204675,45.061842316567635 L -94.07287907873565,45.06175360326317 L -94.0729295303877,45.06166942976698 L -94.07298798954665,45.06159060671583 L -94.07305389321881,45.06151789321881 L -94.07312660671585,45.06145198954663 L -94.07320542976699,45.0613935303877 L -94.07328960326318,45.061343078735646 L -94.07337831656764,45.06130112046748 L -94.07347071532276,45.061268059664265 L -94.073565909678,45.06124421471959 L -94.07366298285967,45.06122981527333 L -94.073761,45.061225 L -94.07385901714034,45.06122981527333 L -94.07395609032201,45.06124421471959 L -94.07405128467725,45.061268059664265 L -94.07414368343237,45.06130112046748 L -94.07423239673683,45.061343078735646 L -94.07431657023302,45.0613935303877 L -94.07439539328416,45.06145198954663 L -94.0744681067812,45.06151789321881 L -94.07453401045336,45.06159060671583 L -94.07459246961231,45.06166942976698 L -94.07464292126436,45.06175360326317 L -94.07468487953251,45.061842316567635 L -94.07471794033573,45.06193471532274 L -94.07474178528041,45.06202990967798 L -94.07475618472668,45.06212698285967 L -94.07476100000001,45.062225 L -94.07475618472668,45.06232301714033 L -94.07474178528041,45.062420090322014 L -94.07471794033573,45.062515284677254 L -94.07468487953251,45.06260768343236 L -94.07464292126436,45.062696396736825 L -94.07459246961231,45.062780570233016 L -94.07453401045336,45.062859393284164 L -94.0744681067812,45.06293210678118 L -94.07439539328416,45.06299801045336 L -94.07431657023302,45.0630564696123 L -94.07423239673683,45.06310692126435 L -94.07414368343237,45.06314887953251 L -94.07405128467725,45.06318194033573 L -94.07395609032201,45.0632057852804 L -94.07385901714034,45.06322018472667 L -94.073761,45.063224999999996 L -94.07366298285967,45.06322018472667 L -94.073565909678,45.0632057852804 L -94.07347071532276,45.06318194033573 L -94.07337831656764,45.06314887953251 L -94.07328960326318,45.06310692126435 L -94.07320542976699,45.0630564696123 L -94.07312660671585,45.06299801045336 L -94.07305389321881,45.06293210678118 L -94.07298798954665,45.062859393284164 L -94.0729295303877,45.062780570233016 L -94.07287907873565,45.062696396736825 L -94.0728371204675,45.06260768343236 L -94.07280405966428,45.062515284677254 L -94.0727802147196,45.062420090322014 L -94.07276581527333,45.06232301714033 L -94.072761,45.062225 z\" /><path fill-rule=\"evenodd\" fill=\"#66cc99\" stroke=\"#555555\" stroke-width=\"0.06126131520000001\" opacity=\"0.6\" d=\"M -94.089522,44.513317 L -94.08952681527333,44.51321898285967 L -94.0895412147196,44.513121909677984 L -94.08956505966428,44.513026715322745 L -94.0895981204675,44.51293431656764 L -94.08964007873566,44.51284560326317 L -94.0896905303877,44.51276142976698 L -94.08974898954665,44.512682606715835 L -94.08981489321881,44.512609893218816 L -94.08988760671585,44.512543989546636 L -94.08996642976699,44.5124855303877 L -94.09005060326318,44.51243507873565 L -94.09013931656764,44.512393120467486 L -94.09023171532276,44.51236005966427 L -94.090326909678,44.512336214719596 L -94.09042398285968,44.51232181527333 L -94.090522,44.512317 L -94.09062001714034,44.51232181527333 L -94.09071709032202,44.512336214719596 L -94.09081228467726,44.51236005966427 L -94.09090468343237,44.512393120467486 L -94.09099339673683,44.51243507873565 L -94.09107757023303,44.5124855303877 L -94.09115639328417,44.512543989546636 L -94.0912291067812,44.512609893218816 L -94.09129501045336,44.512682606715835 L -94.09135346961232,44.51276142976698 L -94.09140392126436,44.51284560326317 L -94.09144587953251,44.51293431656764 L -94.09147894033573,44.513026715322745 L -94.09150278528041,44.513121909677984 L -94.09151718472668,44.51321898285967 L -94.09152200000001,44.513317 L -94.09151718472668,44.51341501714033 L -94.09150278528041,44.51351209032202 L -94.09147894033573,44.513607284677256 L -94.09144587953251,44.513699683432364 L -94.09140392126436,44.51378839673683 L -94.09135346961232,44.51387257023302 L -94.09129501045336,44.51395139328417 L -94.0912291067812,44.514024106781186 L -94.09115639328417,44.514090010453366 L -94.09107757023303,44.5141484696123 L -94.09099339673683,44.51419892126435 L -94.09090468343237,44.514240879532515 L -94.09081228467726,44.514273940335734 L -94.09071709032202,44.514297785280405 L -94.09062001714034,44.51431218472667 L -94.090522,44.514317 L -94.09042398285968,44.51431218472667 L -94.090326909678,44.514297785280405 L -94.09023171532276,44.514273940335734 L -94.09013931656764,44.514240879532515 L -94.09005060326318,44.51419892126435 L -94.08996642976699,44.5141484696123 L -94.08988760671585,44.514090010453366 L -94.08981489321881,44.514024106781186 L -94.08974898954665,44.51395139328417 L -94.0896905303877,44.51387257023302 L -94.08964007873566,44.51378839673683 L -94.0895981204675,44.513699683432364 L -94.08956505966428,44.513607284677256 L -94.0895412147196,44.51351209032202 L -94.08952681527333,44.51341501714033 L -94.089522,44.513317 z\" /><path fill-rule=\"evenodd\" fill=\"#66cc99\" stroke=\"#555555\" stroke-width=\"0.06126131520000001\" opacity=\"0.6\" d=\"M -94.090567,44.622525 L -94.09057181527332,44.62242698285967 L -94.0905862147196,44.62232990967799 L -94.09061005966427,44.62223471532275 L -94.09064312046749,44.62214231656764 L -94.09068507873565,44.622053603263176 L -94.09073553038769,44.621969429766985 L -94.09079398954664,44.62189060671584 L -94.0908598932188,44.62181789321882 L -94.09093260671584,44.62175198954664 L -94.09101142976698,44.6216935303877 L -94.09109560326317,44.62164307873565 L -94.09118431656763,44.62160112046749 L -94.09127671532275,44.62156805966427 L -94.09137190967799,44.6215442147196 L -94.09146898285967,44.621529815273334 L -94.091567,44.621525000000005 L -94.09166501714033,44.621529815273334 L -94.091762090322,44.6215442147196 L -94.09185728467725,44.62156805966427 L -94.09194968343236,44.62160112046749 L -94.09203839673683,44.62164307873565 L -94.09212257023302,44.6216935303877 L -94.09220139328416,44.62175198954664 L -94.09227410678119,44.62181789321882 L -94.09234001045336,44.62189060671584 L -94.0923984696123,44.621969429766985 L -94.09244892126435,44.622053603263176 L -94.0924908795325,44.62214231656764 L -94.09252394033572,44.62223471532275 L -94.0925477852804,44.62232990967799 L -94.09256218472667,44.62242698285967 L -94.092567,44.622525 L -94.09256218472667,44.622623017140334 L -94.0925477852804,44.62272009032202 L -94.09252394033572,44.62281528467726 L -94.0924908795325,44.622907683432366 L -94.09244892126435,44.62299639673683 L -94.0923984696123,44.62308057023302 L -94.09234001045336,44.62315939328417 L -94.09227410678119,44.62323210678119 L -94.09220139328416,44.62329801045337 L -94.09212257023302,44.623356469612304 L -94.09203839673683,44.623406921264355 L -94.09194968343236,44.62344887953252 L -94.09185728467725,44.623481940335736 L -94.091762090322,44.62350578528041 L -94.09166501714033,44.62352018472667 L -94.091567,44.623525 L -94.09146898285967,44.62352018472667 L -94.09137190967799,44.62350578528041 L -94.09127671532275,44.623481940335736 L -94.09118431656763,44.62344887953252 L -94.09109560326317,44.623406921264355 L -94.09101142976698,44.623356469612304 L -94.09093260671584,44.62329801045337 L -94.0908598932188,44.62323210678119 L -94.09079398954664,44.62315939328417 L -94.09073553038769,44.62308057023302 L -94.09068507873565,44.62299639673683 L -94.09064312046749,44.622907683432366 L -94.09061005966427,44.62281528467726 L -94.0905862147196,44.62272009032202 L -94.09057181527332,44.622623017140334 L -94.090567,44.622525 z\" /><path fill-rule=\"evenodd\" fill=\"#66cc99\" stroke=\"#555555\" stroke-width=\"0.06126131520000001\" opacity=\"0.6\" d=\"M -94.091522,45.976231 L -94.09152681527333,45.97613298285967 L -94.0915412147196,45.97603590967798 L -94.09156505966428,45.97594071532274 L -94.0915981204675,45.975848316567635 L -94.09164007873565,45.97575960326317 L -94.0916905303877,45.97567542976698 L -94.09174898954664,45.97559660671583 L -94.09181489321881,45.97552389321881 L -94.09188760671584,45.97545798954663 L -94.09196642976698,45.9753995303877 L -94.09205060326317,45.97534907873565 L -94.09213931656764,45.975307120467484 L -94.09223171532275,45.975274059664265 L -94.092326909678,45.975250214719594 L -94.09242398285967,45.97523581527333 L -94.092522,45.975231 L -94.09262001714033,45.97523581527333 L -94.09271709032201,45.975250214719594 L -94.09281228467725,45.975274059664265 L -94.09290468343237,45.975307120467484 L -94.09299339673683,45.97534907873565 L -94.09307757023302,45.9753995303877 L -94.09315639328416,45.97545798954663 L -94.0932291067812,45.97552389321881 L -94.09329501045336,45.97559660671583 L -94.09335346961231,45.97567542976698 L -94.09340392126435,45.97575960326317 L -94.09344587953251,45.975848316567635 L -94.09347894033573,45.97594071532274 L -94.0935027852804,45.97603590967798 L -94.09351718472668,45.97613298285967 L -94.09352200000001,45.976231 L -94.09351718472668,45.97632901714033 L -94.0935027852804,45.976426090322015 L -94.09347894033573,45.976521284677254 L -94.09344587953251,45.97661368343236 L -94.09340392126435,45.976702396736826 L -94.09335346961231,45.97678657023302 L -94.09329501045336,45.976865393284164 L -94.0932291067812,45.97693810678118 L -94.09315639328416,45.97700401045336 L -94.09307757023302,45.9770624696123 L -94.09299339673683,45.97711292126435 L -94.09290468343237,45.97715487953251 L -94.09281228467725,45.97718794033573 L -94.09271709032201,45.9772117852804 L -94.09262001714033,45.97722618472667 L -94.092522,45.977230999999996 L -94.09242398285967,45.97722618472667 L -94.092326909678,45.9772117852804 L -94.09223171532275,45.97718794033573 L -94.09213931656764,45.97715487953251 L -94.09205060326317,45.97711292126435 L -94.09196642976698,45.9770624696123 L -94.09188760671584,45.97700401045336 L -94.09181489321881,45.97693810678118 L -94.09174898954664,45.976865393284164 L -94.0916905303877,45.97678657023302 L -94.09164007873565,45.976702396736826 L -94.0915981204675,45.97661368343236 L -94.09156505966428,45.976521284677254 L -94.0915412147196,45.976426090322015 L -94.09152681527333,45.97632901714033 L -94.091522,45.976231 z\" /><path fill-rule=\"evenodd\" fill=\"#66cc99\" stroke=\"#555555\" stroke-width=\"0.06126131520000001\" opacity=\"0.6\" d=\"M -94.093194,45.071111 L -94.09319881527333,45.07101298285967 L -94.0932132147196,45.070915909677986 L -94.09323705966428,45.070820715322746 L -94.0932701204675,45.07072831656764 L -94.09331207873565,45.070639603263174 L -94.0933625303877,45.07055542976698 L -94.09342098954664,45.070476606715836 L -94.09348689321881,45.07040389321882 L -94.09355960671584,45.07033798954664 L -94.09363842976698,45.0702795303877 L -94.09372260326317,45.07022907873565 L -94.09381131656764,45.07018712046749 L -94.09390371532275,45.07015405966427 L -94.09399890967799,45.0701302147196 L -94.09409598285967,45.07011581527333 L -94.094194,45.070111000000004 L -94.09429201714033,45.07011581527333 L -94.09438909032201,45.0701302147196 L -94.09448428467725,45.07015405966427 L -94.09457668343236,45.07018712046749 L -94.09466539673683,45.07022907873565 L -94.09474957023302,45.0702795303877 L -94.09482839328416,45.07033798954664 L -94.0949011067812,45.07040389321882 L -94.09496701045336,45.070476606715836 L -94.09502546961231,45.07055542976698 L -94.09507592126435,45.070639603263174 L -94.09511787953251,45.07072831656764 L -94.09515094033573,45.070820715322746 L -94.0951747852804,45.070915909677986 L -94.09518918472668,45.07101298285967 L -94.095194,45.071111 L -94.09518918472668,45.07120901714033 L -94.0951747852804,45.07130609032202 L -94.09515094033573,45.07140128467726 L -94.09511787953251,45.071493683432365 L -94.09507592126435,45.07158239673683 L -94.09502546961231,45.07166657023302 L -94.09496701045336,45.07174539328417 L -94.0949011067812,45.07181810678119 L -94.09482839328416,45.07188401045337 L -94.09474957023302,45.0719424696123 L -94.09466539673683,45.07199292126435 L -94.09457668343236,45.07203487953252 L -94.09448428467725,45.072067940335735 L -94.09438909032201,45.072091785280406 L -94.09429201714033,45.07210618472667 L -94.094194,45.072111 L -94.09409598285967,45.07210618472667 L -94.09399890967799,45.072091785280406 L -94.09390371532275,45.072067940335735 L -94.09381131656764,45.07203487953252 L -94.09372260326317,45.07199292126435 L -94.09363842976698,45.0719424696123 L -94.09355960671584,45.07188401045337 L -94.09348689321881,45.07181810678119 L -94.09342098954664,45.07174539328417 L -94.0933625303877,45.07166657023302 L -94.09331207873565,45.07158239673683 L -94.0932701204675,45.071493683432365 L -94.09323705966428,45.07140128467726 L -94.0932132147196,45.07130609032202 L -94.09319881527333,45.07120901714033 L -94.093194,45.071111 z\" /><path fill-rule=\"evenodd\" fill=\"#66cc99\" stroke=\"#555555\" stroke-width=\"0.06126131520000001\" opacity=\"0.6\" d=\"M -94.100669,45.969964 L -94.10067381527332,45.969865982859666 L -94.1006882147196,45.96976890967798 L -94.10071205966427,45.96967371532274 L -94.1007451204675,45.969581316567634 L -94.10078707873565,45.96949260326317 L -94.1008375303877,45.96940842976698 L -94.10089598954664,45.96932960671583 L -94.10096189321881,45.96925689321881 L -94.10103460671584,45.96919098954663 L -94.10111342976698,45.9691325303877 L -94.10119760326317,45.969082078735646 L -94.10128631656764,45.96904012046748 L -94.10137871532275,45.969007059664264 L -94.10147390967799,45.96898321471959 L -94.10157098285967,45.96896881527333 L -94.101669,45.968964 L -94.10176701714033,45.96896881527333 L -94.10186409032201,45.96898321471959 L -94.10195928467725,45.969007059664264 L -94.10205168343236,45.96904012046748 L -94.10214039673683,45.969082078735646 L -94.10222457023302,45.9691325303877 L -94.10230339328416,45.96919098954663 L -94.1023761067812,45.96925689321881 L -94.10244201045336,45.96932960671583 L -94.10250046961231,45.96940842976698 L -94.10255092126435,45.96949260326317 L -94.10259287953251,45.969581316567634 L -94.10262594033573,45.96967371532274 L -94.1026497852804,45.96976890967798 L -94.10266418472668,45.969865982859666 L -94.102669,45.969964 L -94.10266418472668,45.97006201714033 L -94.1026497852804,45.970159090322014 L -94.10262594033573,45.97025428467725 L -94.10259287953251,45.97034668343236 L -94.10255092126435,45.970435396736825 L -94.10250046961231,45.970519570233016 L -94.10244201045336,45.97059839328416 L -94.1023761067812,45.97067110678118 L -94.10230339328416,45.97073701045336 L -94.10222457023302,45.9707954696123 L -94.10214039673683,45.97084592126435 L -94.10205168343236,45.97088787953251 L -94.10195928467725,45.97092094033573 L -94.10186409032201,45.9709447852804 L -94.10176701714033,45.97095918472667 L -94.101669,45.970963999999995 L -94.10157098285967,45.97095918472667 L -94.10147390967799,45.9709447852804 L -94.10137871532275,45.97092094033573 L -94.10128631656764,45.97088787953251 L -94.10119760326317,45.97084592126435 L -94.10111342976698,45.9707954696123 L -94.10103460671584,45.97073701045336 L -94.10096189321881,45.97067110678118 L -94.10089598954664,45.97059839328416 L -94.1008375303877,45.970519570233016 L -94.10078707873565,45.970435396736825 L -94.1007451204675,45.97034668343236 L -94.10071205966427,45.97025428467725 L -94.1006882147196,45.970159090322014 L -94.10067381527332,45.97006201714033 L -94.100669,45.969964 z\" /><path fill-rule=\"evenodd\" fill=\"#66cc99\" stroke=\"#555555\" stroke-width=\"0.06126131520000001\" opacity=\"0.6\" d=\"M -94.11061699999999,44.010575 L -94.11062181527332,44.01047698285967 L -94.11063621471959,44.01037990967799 L -94.11066005966427,44.01028471532275 L -94.11069312046749,44.01019231656764 L -94.11073507873564,44.010103603263175 L -94.11078553038769,44.010019429766984 L -94.11084398954664,44.00994060671584 L -94.1109098932188,44.00986789321882 L -94.11098260671584,44.00980198954664 L -94.11106142976698,44.0097435303877 L -94.11114560326317,44.00969307873565 L -94.11123431656763,44.00965112046749 L -94.11132671532275,44.00961805966427 L -94.11142190967799,44.0095942147196 L -94.11151898285966,44.009579815273334 L -94.111617,44.009575000000005 L -94.11171501714033,44.009579815273334 L -94.111812090322,44.0095942147196 L -94.11190728467724,44.00961805966427 L -94.11199968343236,44.00965112046749 L -94.11208839673682,44.00969307873565 L -94.11217257023301,44.0097435303877 L -94.11225139328415,44.00980198954664 L -94.11232410678119,44.00986789321882 L -94.11239001045335,44.00994060671584 L -94.1124484696123,44.010019429766984 L -94.11249892126435,44.010103603263175 L -94.1125408795325,44.01019231656764 L -94.11257394033572,44.01028471532275 L -94.1125977852804,44.01037990967799 L -94.11261218472667,44.01047698285967 L -94.112617,44.010575 L -94.11261218472667,44.010673017140334 L -94.1125977852804,44.01077009032202 L -94.11257394033572,44.01086528467726 L -94.1125408795325,44.010957683432366 L -94.11249892126435,44.01104639673683 L -94.1124484696123,44.01113057023302 L -94.11239001045335,44.01120939328417 L -94.11232410678119,44.01128210678119 L -94.11225139328415,44.01134801045337 L -94.11217257023301,44.011406469612304 L -94.11208839673682,44.011456921264354 L -94.11199968343236,44.01149887953252 L -94.11190728467724,44.011531940335736 L -94.111812090322,44.01155578528041 L -94.11171501714033,44.01157018472667 L -94.111617,44.011575 L -94.11151898285966,44.01157018472667 L -94.11142190967799,44.01155578528041 L -94.11132671532275,44.011531940335736 L -94.11123431656763,44.01149887953252 L -94.11114560326317,44.011456921264354 L -94.11106142976698,44.011406469612304 L -94.11098260671584,44.01134801045337 L -94.1109098932188,44.01128210678119 L -94.11084398954664,44.01120939328417 L -94.11078553038769,44.01113057023302 L -94.11073507873564,44.01104639673683 L -94.11069312046749,44.010957683432366 L -94.11066005966427,44.01086528467726 L -94.11063621471959,44.01077009032202 L -94.11062181527332,44.010673017140334 L -94.11061699999999,44.010575 z\" /><path fill-rule=\"evenodd\" fill=\"#66cc99\" stroke=\"#555555\" stroke-width=\"0.06126131520000001\" opacity=\"0.6\" d=\"M -94.113503,45.1264 L -94.11350781527332,45.126301982859665 L -94.1135222147196,45.12620490967798 L -94.11354605966427,45.12610971532274 L -94.11357912046749,45.12601731656763 L -94.11362107873565,45.12592860326317 L -94.11367153038769,45.12584442976698 L -94.11372998954664,45.12576560671583 L -94.1137958932188,45.12569289321881 L -94.11386860671584,45.12562698954663 L -94.11394742976698,45.125568530387696 L -94.11403160326317,45.125518078735645 L -94.11412031656764,45.12547612046748 L -94.11421271532275,45.12544305966426 L -94.11430790967799,45.12541921471959 L -94.11440498285967,45.12540481527333 L -94.114503,45.1254 L -94.11460101714033,45.12540481527333 L -94.11469809032201,45.12541921471959 L -94.11479328467725,45.12544305966426 L -94.11488568343236,45.12547612046748 L -94.11497439673683,45.125518078735645 L -94.11505857023302,45.125568530387696 L -94.11513739328416,45.12562698954663 L -94.11521010678119,45.12569289321881 L -94.11527601045336,45.12576560671583 L -94.1153344696123,45.12584442976698 L -94.11538492126435,45.12592860326317 L -94.1154268795325,45.12601731656763 L -94.11545994033573,45.12610971532274 L -94.1154837852804,45.12620490967798 L -94.11549818472668,45.126301982859665 L -94.115503,45.1264 L -94.11549818472668,45.12649801714033 L -94.1154837852804,45.12659509032201 L -94.11545994033573,45.12669028467725 L -94.1154268795325,45.12678268343236 L -94.11538492126435,45.126871396736824 L -94.1153344696123,45.126955570233015 L -94.11527601045336,45.12703439328416 L -94.11521010678119,45.12710710678118 L -94.11513739328416,45.12717301045336 L -94.11505857023302,45.1272314696123 L -94.11497439673683,45.12728192126435 L -94.11488568343236,45.12732387953251 L -94.11479328467725,45.12735694033573 L -94.11469809032201,45.1273807852804 L -94.11460101714033,45.127395184726666 L -94.114503,45.127399999999994 L -94.11440498285967,45.127395184726666 L -94.11430790967799,45.1273807852804 L -94.11421271532275,45.12735694033573 L -94.11412031656764,45.12732387953251 L -94.11403160326317,45.12728192126435 L -94.11394742976698,45.1272314696123 L -94.11386860671584,45.12717301045336 L -94.1137958932188,45.12710710678118 L -94.11372998954664,45.12703439328416 L -94.11367153038769,45.126955570233015 L -94.11362107873565,45.126871396736824 L -94.11357912046749,45.12678268343236 L -94.11354605966427,45.12669028467725 L -94.1135222147196,45.12659509032201 L -94.11350781527332,45.12649801714033 L -94.113503,45.1264 z\" /><path fill-rule=\"evenodd\" fill=\"#66cc99\" stroke=\"#555555\" stroke-width=\"0.06126131520000001\" opacity=\"0.6\" d=\"M -94.115625,44.485786 L -94.11562981527332,44.485687982859666 L -94.1156442147196,44.48559090967798 L -94.11566805966427,44.48549571532274 L -94.11570112046749,44.485403316567634 L -94.11574307873565,44.48531460326317 L -94.11579353038769,44.48523042976698 L -94.11585198954664,44.48515160671583 L -94.1159178932188,44.48507889321881 L -94.11599060671584,44.48501298954663 L -94.11606942976698,44.4849545303877 L -94.11615360326317,44.484904078735646 L -94.11624231656764,44.48486212046748 L -94.11633471532275,44.484829059664264 L -94.11642990967799,44.48480521471959 L -94.11652698285967,44.48479081527333 L -94.116625,44.484786 L -94.11672301714033,44.48479081527333 L -94.11682009032201,44.48480521471959 L -94.11691528467725,44.484829059664264 L -94.11700768343236,44.48486212046748 L -94.11709639673683,44.484904078735646 L -94.11718057023302,44.4849545303877 L -94.11725939328416,44.48501298954663 L -94.11733210678119,44.48507889321881 L -94.11739801045336,44.48515160671583 L -94.1174564696123,44.48523042976698 L -94.11750692126435,44.48531460326317 L -94.1175488795325,44.485403316567634 L -94.11758194033573,44.48549571532274 L -94.1176057852804,44.48559090967798 L -94.11762018472668,44.485687982859666 L -94.117625,44.485786 L -94.11762018472668,44.48588401714033 L -94.1176057852804,44.485981090322014 L -94.11758194033573,44.48607628467725 L -94.1175488795325,44.48616868343236 L -94.11750692126435,44.486257396736825 L -94.1174564696123,44.486341570233016 L -94.11739801045336,44.48642039328416 L -94.11733210678119,44.48649310678118 L -94.11725939328416,44.48655901045336 L -94.11718057023302,44.4866174696123 L -94.11709639673683,44.48666792126435 L -94.11700768343236,44.48670987953251 L -94.11691528467725,44.48674294033573 L -94.11682009032201,44.4867667852804 L -94.11672301714033,44.48678118472667 L -94.116625,44.486785999999995 L -94.11652698285967,44.48678118472667 L -94.11642990967799,44.4867667852804 L -94.11633471532275,44.48674294033573 L -94.11624231656764,44.48670987953251 L -94.11615360326317,44.48666792126435 L -94.11606942976698,44.4866174696123 L -94.11599060671584,44.48655901045336 L -94.1159178932188,44.48649310678118 L -94.11585198954664,44.48642039328416 L -94.11579353038769,44.486341570233016 L -94.11574307873565,44.486257396736825 L -94.11570112046749,44.48616868343236 L -94.11566805966427,44.48607628467725 L -94.1156442147196,44.485981090322014 L -94.11562981527332,44.48588401714033 L -94.115625,44.485786 z\" /><path fill-rule=\"evenodd\" fill=\"#66cc99\" stroke=\"#555555\" stroke-width=\"0.06126131520000001\" opacity=\"0.6\" d=\"M -94.12149699999999,44.619847 L -94.12150181527332,44.61974898285967 L -94.12151621471959,44.619651909677984 L -94.12154005966427,44.619556715322744 L -94.12157312046749,44.61946431656764 L -94.12161507873564,44.61937560326317 L -94.12166553038769,44.61929142976698 L -94.12172398954664,44.619212606715834 L -94.1217898932188,44.619139893218815 L -94.12186260671584,44.619073989546635 L -94.12194142976698,44.6190155303877 L -94.12202560326317,44.61896507873565 L -94.12211431656763,44.618923120467485 L -94.12220671532275,44.61889005966427 L -94.12230190967799,44.618866214719596 L -94.12239898285966,44.61885181527333 L -94.122497,44.618847 L -94.12259501714033,44.61885181527333 L -94.122692090322,44.618866214719596 L -94.12278728467724,44.61889005966427 L -94.12287968343236,44.618923120467485 L -94.12296839673682,44.61896507873565 L -94.12305257023301,44.6190155303877 L -94.12313139328415,44.619073989546635 L -94.12320410678119,44.619139893218815 L -94.12327001045335,44.619212606715834 L -94.1233284696123,44.61929142976698 L -94.12337892126435,44.61937560326317 L -94.1234208795325,44.61946431656764 L -94.12345394033572,44.619556715322744 L -94.1234777852804,44.619651909677984 L -94.12349218472667,44.61974898285967 L -94.123497,44.619847 L -94.12349218472667,44.61994501714033 L -94.1234777852804,44.620042090322016 L -94.12345394033572,44.620137284677256 L -94.1234208795325,44.62022968343236 L -94.12337892126435,44.62031839673683 L -94.1233284696123,44.62040257023302 L -94.12327001045335,44.620481393284166 L -94.12320410678119,44.620554106781185 L -94.12313139328415,44.620620010453365 L -94.12305257023301,44.6206784696123 L -94.12296839673682,44.62072892126435 L -94.12287968343236,44.620770879532515 L -94.12278728467724,44.62080394033573 L -94.122692090322,44.620827785280404 L -94.12259501714033,44.62084218472667 L -94.122497,44.620847 L -94.12239898285966,44.62084218472667 L -94.12230190967799,44.620827785280404 L -94.12220671532275,44.62080394033573 L -94.12211431656763,44.620770879532515 L -94.12202560326317,44.62072892126435 L -94.12194142976698,44.6206784696123 L -94.12186260671584,44.620620010453365 L -94.1217898932188,44.620554106781185 L -94.12172398954664,44.620481393284166 L -94.12166553038769,44.62040257023302 L -94.12161507873564,44.62031839673683 L -94.12157312046749,44.62022968343236 L -94.12154005966427,44.620137284677256 L -94.12151621471959,44.620042090322016 L -94.12150181527332,44.61994501714033 L -94.12149699999999,44.619847 z\" /><path fill-rule=\"evenodd\" fill=\"#66cc99\" stroke=\"#555555\" stroke-width=\"0.06126131520000001\" opacity=\"0.6\" d=\"M -94.12900599999999,44.516981 L -94.12901081527332,44.51688298285967 L -94.12902521471959,44.516785909677985 L -94.12904905966427,44.516690715322746 L -94.12908212046749,44.51659831656764 L -94.12912407873564,44.516509603263174 L -94.12917453038769,44.51642542976698 L -94.12923298954664,44.516346606715835 L -94.1292988932188,44.516273893218816 L -94.12937160671584,44.516207989546636 L -94.12945042976698,44.5161495303877 L -94.12953460326317,44.51609907873565 L -94.12962331656763,44.51605712046749 L -94.12971571532275,44.51602405966427 L -94.12981090967799,44.5160002147196 L -94.12990798285966,44.51598581527333 L -94.130006,44.515981000000004 L -94.13010401714033,44.51598581527333 L -94.130201090322,44.5160002147196 L -94.13029628467724,44.51602405966427 L -94.13038868343236,44.51605712046749 L -94.13047739673682,44.51609907873565 L -94.13056157023301,44.5161495303877 L -94.13064039328415,44.516207989546636 L -94.13071310678119,44.516273893218816 L -94.13077901045335,44.516346606715835 L -94.1308374696123,44.51642542976698 L -94.13088792126435,44.516509603263174 L -94.1309298795325,44.51659831656764 L -94.13096294033572,44.516690715322746 L -94.1309867852804,44.516785909677985 L -94.13100118472667,44.51688298285967 L -94.131006,44.516981 L -94.13100118472667,44.51707901714033 L -94.1309867852804,44.51717609032202 L -94.13096294033572,44.51727128467726 L -94.1309298795325,44.517363683432364 L -94.13088792126435,44.51745239673683 L -94.1308374696123,44.51753657023302 L -94.13077901045335,44.51761539328417 L -94.13071310678119,44.517688106781186 L -94.13064039328415,44.517754010453366 L -94.13056157023301,44.5178124696123 L -94.13047739673682,44.51786292126435 L -94.13038868343236,44.517904879532516 L -94.13029628467724,44.517937940335734 L -94.130201090322,44.517961785280406 L -94.13010401714033,44.51797618472667 L -94.130006,44.517981 L -94.12990798285966,44.51797618472667 L -94.12981090967799,44.517961785280406 L -94.12971571532275,44.517937940335734 L -94.12962331656763,44.517904879532516 L -94.12953460326317,44.51786292126435 L -94.12945042976698,44.5178124696123 L -94.12937160671584,44.517754010453366 L -94.1292988932188,44.517688106781186 L -94.12923298954664,44.51761539328417 L -94.12917453038769,44.51753657023302 L -94.12912407873564,44.51745239673683 L -94.12908212046749,44.517363683432364 L -94.12904905966427,44.51727128467726 L -94.12902521471959,44.51717609032202 L -94.12901081527332,44.51707901714033 L -94.12900599999999,44.516981 z\" /><path fill-rule=\"evenodd\" fill=\"#66cc99\" stroke=\"#555555\" stroke-width=\"0.06126131520000001\" opacity=\"0.6\" d=\"M -94.133719,45.934075 L -94.13372381527333,45.93397698285967 L -94.1337382147196,45.933879909677984 L -94.13376205966428,45.933784715322744 L -94.1337951204675,45.93369231656764 L -94.13383707873565,45.93360360326317 L -94.1338875303877,45.93351942976698 L -94.13394598954665,45.933440606715834 L -94.13401189321881,45.933367893218815 L -94.13408460671585,45.933301989546635 L -94.13416342976699,45.9332435303877 L -94.13424760326318,45.93319307873565 L -94.13433631656764,45.933151120467485 L -94.13442871532276,45.93311805966427 L -94.134523909678,45.933094214719596 L -94.13462098285967,45.93307981527333 L -94.134719,45.933075 L -94.13481701714034,45.93307981527333 L -94.13491409032201,45.933094214719596 L -94.13500928467725,45.93311805966427 L -94.13510168343237,45.933151120467485 L -94.13519039673683,45.93319307873565 L -94.13527457023302,45.9332435303877 L -94.13535339328416,45.933301989546635 L -94.1354261067812,45.933367893218815 L -94.13549201045336,45.933440606715834 L -94.13555046961231,45.93351942976698 L -94.13560092126436,45.93360360326317 L -94.13564287953251,45.93369231656764 L -94.13567594033573,45.933784715322744 L -94.13569978528041,45.933879909677984 L -94.13571418472668,45.93397698285967 L -94.13571900000001,45.934075 L -94.13571418472668,45.93417301714033 L -94.13569978528041,45.934270090322016 L -94.13567594033573,45.934365284677256 L -94.13564287953251,45.93445768343236 L -94.13560092126436,45.93454639673683 L -94.13555046961231,45.93463057023302 L -94.13549201045336,45.934709393284166 L -94.1354261067812,45.934782106781185 L -94.13535339328416,45.934848010453365 L -94.13527457023302,45.9349064696123 L -94.13519039673683,45.93495692126435 L -94.13510168343237,45.934998879532515 L -94.13500928467725,45.93503194033573 L -94.13491409032201,45.935055785280404 L -94.13481701714034,45.93507018472667 L -94.134719,45.935075 L -94.13462098285967,45.93507018472667 L -94.134523909678,45.935055785280404 L -94.13442871532276,45.93503194033573 L -94.13433631656764,45.934998879532515 L -94.13424760326318,45.93495692126435 L -94.13416342976699,45.9349064696123 L -94.13408460671585,45.934848010453365 L -94.13401189321881,45.934782106781185 L -94.13394598954665,45.934709393284166 L -94.1338875303877,45.93463057023302 L -94.13383707873565,45.93454639673683 L -94.1337951204675,45.93445768343236 L -94.13376205966428,45.934365284677256 L -94.1337382147196,45.934270090322016 L -94.13372381527333,45.93417301714033 L -94.133719,45.934075 z\" /><path fill-rule=\"evenodd\" fill=\"#66cc99\" stroke=\"#555555\" stroke-width=\"0.06126131520000001\" opacity=\"0.6\" d=\"M -94.156172,45.268897 L -94.15617681527333,45.26879898285967 L -94.1561912147196,45.268701909677986 L -94.15621505966428,45.26860671532275 L -94.1562481204675,45.26851431656764 L -94.15629007873565,45.268425603263175 L -94.1563405303877,45.268341429766984 L -94.15639898954664,45.26826260671584 L -94.15646489321881,45.26818989321882 L -94.15653760671584,45.26812398954664 L -94.15661642976698,45.2680655303877 L -94.15670060326318,45.26801507873565 L -94.15678931656764,45.26797312046749 L -94.15688171532275,45.26794005966427 L -94.156976909678,45.2679162147196 L -94.15707398285967,45.26790181527333 L -94.157172,45.267897000000005 L -94.15727001714033,45.26790181527333 L -94.15736709032201,45.2679162147196 L -94.15746228467725,45.26794005966427 L -94.15755468343237,45.26797312046749 L -94.15764339673683,45.26801507873565 L -94.15772757023302,45.2680655303877 L -94.15780639328416,45.26812398954664 L -94.1578791067812,45.26818989321882 L -94.15794501045336,45.26826260671584 L -94.15800346961231,45.268341429766984 L -94.15805392126435,45.268425603263175 L -94.15809587953251,45.26851431656764 L -94.15812894033573,45.26860671532275 L -94.15815278528041,45.268701909677986 L -94.15816718472668,45.26879898285967 L -94.15817200000001,45.268897 L -94.15816718472668,45.268995017140334 L -94.15815278528041,45.26909209032202 L -94.15812894033573,45.26918728467726 L -94.15809587953251,45.269279683432366 L -94.15805392126435,45.26936839673683 L -94.15800346961231,45.26945257023302 L -94.15794501045336,45.26953139328417 L -94.1578791067812,45.26960410678119 L -94.15780639328416,45.26967001045337 L -94.15772757023302,45.2697284696123 L -94.15764339673683,45.269778921264354 L -94.15755468343237,45.26982087953252 L -94.15746228467725,45.269853940335736 L -94.15736709032201,45.26987778528041 L -94.15727001714033,45.26989218472667 L -94.157172,45.269897 L -94.15707398285967,45.26989218472667 L -94.156976909678,45.26987778528041 L -94.15688171532275,45.269853940335736 L -94.15678931656764,45.26982087953252 L -94.15670060326318,45.269778921264354 L -94.15661642976698,45.2697284696123 L -94.15653760671584,45.26967001045337 L -94.15646489321881,45.26960410678119 L -94.15639898954664,45.26953139328417 L -94.1563405303877,45.26945257023302 L -94.15629007873565,45.26936839673683 L -94.1562481204675,45.269279683432366 L -94.15621505966428,45.26918728467726 L -94.1561912147196,45.26909209032202 L -94.15617681527333,45.268995017140334 L -94.156172,45.268897 z\" /><path fill-rule=\"evenodd\" fill=\"#66cc99\" stroke=\"#555555\" stroke-width=\"0.06126131520000001\" opacity=\"0.6\" d=\"M -94.174933,45.802472 L -94.17493781527332,45.80237398285967 L -94.1749522147196,45.802276909677985 L -94.17497605966427,45.802181715322746 L -94.1750091204675,45.80208931656764 L -94.17505107873565,45.802000603263174 L -94.17510153038769,45.80191642976698 L -94.17515998954664,45.801837606715836 L -94.17522589321881,45.80176489321882 L -94.17529860671584,45.80169898954664 L -94.17537742976698,45.8016405303877 L -94.17546160326317,45.80159007873565 L -94.17555031656764,45.80154812046749 L -94.17564271532275,45.80151505966427 L -94.17573790967799,45.8014912147196 L -94.17583498285967,45.80147681527333 L -94.175933,45.801472000000004 L -94.17603101714033,45.80147681527333 L -94.17612809032201,45.8014912147196 L -94.17622328467725,45.80151505966427 L -94.17631568343236,45.80154812046749 L -94.17640439673683,45.80159007873565 L -94.17648857023302,45.8016405303877 L -94.17656739328416,45.80169898954664 L -94.17664010678119,45.80176489321882 L -94.17670601045336,45.801837606715836 L -94.17676446961231,45.80191642976698 L -94.17681492126435,45.802000603263174 L -94.17685687953251,45.80208931656764 L -94.17688994033573,45.802181715322746 L -94.1769137852804,45.802276909677985 L -94.17692818472668,45.80237398285967 L -94.176933,45.802472 L -94.17692818472668,45.80257001714033 L -94.1769137852804,45.80266709032202 L -94.17688994033573,45.80276228467726 L -94.17685687953251,45.802854683432365 L -94.17681492126435,45.80294339673683 L -94.17676446961231,45.80302757023302 L -94.17670601045336,45.80310639328417 L -94.17664010678119,45.80317910678119 L -94.17656739328416,45.80324501045337 L -94.17648857023302,45.8033034696123 L -94.17640439673683,45.80335392126435 L -94.17631568343236,45.803395879532516 L -94.17622328467725,45.803428940335735 L -94.17612809032201,45.803452785280406 L -94.17603101714033,45.80346718472667 L -94.175933,45.803472 L -94.17583498285967,45.80346718472667 L -94.17573790967799,45.803452785280406 L -94.17564271532275,45.803428940335735 L -94.17555031656764,45.803395879532516 L -94.17546160326317,45.80335392126435 L -94.17537742976698,45.8033034696123 L -94.17529860671584,45.80324501045337 L -94.17522589321881,45.80317910678119 L -94.17515998954664,45.80310639328417 L -94.17510153038769,45.80302757023302 L -94.17505107873565,45.80294339673683 L -94.1750091204675,45.802854683432365 L -94.17497605966427,45.80276228467726 L -94.1749522147196,45.80266709032202 L -94.17493781527332,45.80257001714033 L -94.174933,45.802472 z\" /><path fill-rule=\"evenodd\" fill=\"#66cc99\" stroke=\"#555555\" stroke-width=\"0.06126131520000001\" opacity=\"0.6\" d=\"M -94.187872,44.5713 L -94.18787681527333,44.57120198285967 L -94.1878912147196,44.571104909677985 L -94.18791505966428,44.571009715322745 L -94.1879481204675,44.57091731656764 L -94.18799007873565,44.57082860326317 L -94.1880405303877,44.57074442976698 L -94.18809898954665,44.570665606715835 L -94.18816489321881,44.570592893218816 L -94.18823760671584,44.570526989546636 L -94.18831642976699,44.5704685303877 L -94.18840060326318,44.57041807873565 L -94.18848931656764,44.570376120467486 L -94.18858171532275,44.57034305966427 L -94.188676909678,44.570319214719596 L -94.18877398285967,44.57030481527333 L -94.188872,44.5703 L -94.18897001714033,44.57030481527333 L -94.18906709032201,44.570319214719596 L -94.18916228467725,44.57034305966427 L -94.18925468343237,44.570376120467486 L -94.18934339673683,44.57041807873565 L -94.18942757023302,44.5704685303877 L -94.18950639328416,44.570526989546636 L -94.1895791067812,44.570592893218816 L -94.18964501045336,44.570665606715835 L -94.18970346961231,44.57074442976698 L -94.18975392126436,44.57082860326317 L -94.18979587953251,44.57091731656764 L -94.18982894033573,44.571009715322745 L -94.18985278528041,44.571104909677985 L -94.18986718472668,44.57120198285967 L -94.18987200000001,44.5713 L -94.18986718472668,44.57139801714033 L -94.18985278528041,44.57149509032202 L -94.18982894033573,44.57159028467726 L -94.18979587953251,44.571682683432364 L -94.18975392126436,44.57177139673683 L -94.18970346961231,44.57185557023302 L -94.18964501045336,44.57193439328417 L -94.1895791067812,44.572007106781186 L -94.18950639328416,44.572073010453366 L -94.18942757023302,44.5721314696123 L -94.18934339673683,44.57218192126435 L -94.18925468343237,44.572223879532515 L -94.18916228467725,44.572256940335734 L -94.18906709032201,44.572280785280405 L -94.18897001714033,44.57229518472667 L -94.188872,44.5723 L -94.18877398285967,44.57229518472667 L -94.188676909678,44.572280785280405 L -94.18858171532275,44.572256940335734 L -94.18848931656764,44.572223879532515 L -94.18840060326318,44.57218192126435 L -94.18831642976699,44.5721314696123 L -94.18823760671584,44.572073010453366 L -94.18816489321881,44.572007106781186 L -94.18809898954665,44.57193439328417 L -94.1880405303877,44.57185557023302 L -94.18799007873565,44.57177139673683 L -94.1879481204675,44.571682683432364 L -94.18791505966428,44.57159028467726 L -94.1878912147196,44.57149509032202 L -94.18787681527333,44.57139801714033 L -94.187872,44.5713 z\" /><path fill-rule=\"evenodd\" fill=\"#66cc99\" stroke=\"#555555\" stroke-width=\"0.06126131520000001\" opacity=\"0.6\" d=\"M -94.19213099999999,44.7174 L -94.19213581527332,44.71730198285967 L -94.19215021471959,44.71720490967798 L -94.19217405966427,44.71710971532274 L -94.19220712046749,44.717017316567635 L -94.19224907873564,44.71692860326317 L -94.19229953038769,44.71684442976698 L -94.19235798954664,44.71676560671583 L -94.1924238932188,44.71669289321881 L -94.19249660671584,44.71662698954663 L -94.19257542976698,44.7165685303877 L -94.19265960326317,44.716518078735646 L -94.19274831656763,44.71647612046748 L -94.19284071532275,44.716443059664265 L -94.19293590967798,44.71641921471959 L -94.19303298285966,44.71640481527333 L -94.193131,44.7164 L -94.19322901714033,44.71640481527333 L -94.193326090322,44.71641921471959 L -94.19342128467724,44.716443059664265 L -94.19351368343236,44.71647612046748 L -94.19360239673682,44.716518078735646 L -94.19368657023301,44.7165685303877 L -94.19376539328415,44.71662698954663 L -94.19383810678119,44.71669289321881 L -94.19390401045335,44.71676560671583 L -94.1939624696123,44.71684442976698 L -94.19401292126435,44.71692860326317 L -94.1940548795325,44.717017316567635 L -94.19408794033572,44.71710971532274 L -94.1941117852804,44.71720490967798 L -94.19412618472667,44.71730198285967 L -94.194131,44.7174 L -94.19412618472667,44.71749801714033 L -94.1941117852804,44.717595090322014 L -94.19408794033572,44.71769028467725 L -94.1940548795325,44.71778268343236 L -94.19401292126435,44.717871396736825 L -94.1939624696123,44.717955570233016 L -94.19390401045335,44.718034393284164 L -94.19383810678119,44.71810710678118 L -94.19376539328415,44.71817301045336 L -94.19368657023301,44.7182314696123 L -94.19360239673682,44.71828192126435 L -94.19351368343236,44.71832387953251 L -94.19342128467724,44.71835694033573 L -94.193326090322,44.7183807852804 L -94.19322901714033,44.71839518472667 L -94.193131,44.718399999999995 L -94.19303298285966,44.71839518472667 L -94.19293590967798,44.7183807852804 L -94.19284071532275,44.71835694033573 L -94.19274831656763,44.71832387953251 L -94.19265960326317,44.71828192126435 L -94.19257542976698,44.7182314696123 L -94.19249660671584,44.71817301045336 L -94.1924238932188,44.71810710678118 L -94.19235798954664,44.718034393284164 L -94.19229953038769,44.717955570233016 L -94.19224907873564,44.717871396736825 L -94.19220712046749,44.71778268343236 L -94.19217405966427,44.71769028467725 L -94.19215021471959,44.717595090322014 L -94.19213581527332,44.71749801714033 L -94.19213099999999,44.7174 z\" /><path fill-rule=\"evenodd\" fill=\"#66cc99\" stroke=\"#555555\" stroke-width=\"0.06126131520000001\" opacity=\"0.6\" d=\"M -94.20003299999999,45.830503 L -94.20003781527332,45.83040498285967 L -94.20005221471959,45.830307909677984 L -94.20007605966427,45.830212715322745 L -94.20010912046749,45.83012031656764 L -94.20015107873564,45.83003160326317 L -94.20020153038769,45.82994742976698 L -94.20025998954664,45.829868606715834 L -94.2003258932188,45.829795893218815 L -94.20039860671584,45.829729989546635 L -94.20047742976698,45.8296715303877 L -94.20056160326317,45.82962107873565 L -94.20065031656763,45.829579120467486 L -94.20074271532275,45.82954605966427 L -94.20083790967799,45.829522214719596 L -94.20093498285966,45.82950781527333 L -94.201033,45.829503 L -94.20113101714033,45.82950781527333 L -94.201228090322,45.829522214719596 L -94.20132328467724,45.82954605966427 L -94.20141568343236,45.829579120467486 L -94.20150439673682,45.82962107873565 L -94.20158857023301,45.8296715303877 L -94.20166739328415,45.829729989546635 L -94.20174010678119,45.829795893218815 L -94.20180601045335,45.829868606715834 L -94.2018644696123,45.82994742976698 L -94.20191492126435,45.83003160326317 L -94.2019568795325,45.83012031656764 L -94.20198994033572,45.830212715322745 L -94.2020137852804,45.830307909677984 L -94.20202818472667,45.83040498285967 L -94.202033,45.830503 L -94.20202818472667,45.83060101714033 L -94.2020137852804,45.83069809032202 L -94.20198994033572,45.830793284677256 L -94.2019568795325,45.83088568343236 L -94.20191492126435,45.83097439673683 L -94.2018644696123,45.83105857023302 L -94.20180601045335,45.831137393284166 L -94.20174010678119,45.831210106781185 L -94.20166739328415,45.831276010453365 L -94.20158857023301,45.8313344696123 L -94.20150439673682,45.83138492126435 L -94.20141568343236,45.831426879532515 L -94.20132328467724,45.83145994033573 L -94.201228090322,45.831483785280405 L -94.20113101714033,45.83149818472667 L -94.201033,45.831503 L -94.20093498285966,45.83149818472667 L -94.20083790967799,45.831483785280405 L -94.20074271532275,45.83145994033573 L -94.20065031656763,45.831426879532515 L -94.20056160326317,45.83138492126435 L -94.20047742976698,45.8313344696123 L -94.20039860671584,45.831276010453365 L -94.2003258932188,45.831210106781185 L -94.20025998954664,45.831137393284166 L -94.20020153038769,45.83105857023302 L -94.20015107873564,45.83097439673683 L -94.20010912046749,45.83088568343236 L -94.20007605966427,45.830793284677256 L -94.20005221471959,45.83069809032202 L -94.20003781527332,45.83060101714033 L -94.20003299999999,45.830503 z\" /><path fill-rule=\"evenodd\" fill=\"#66cc99\" stroke=\"#555555\" stroke-width=\"0.06126131520000001\" opacity=\"0.6\" d=\"M -94.20406399999999,45.763747 L -94.20406881527332,45.76364898285967 L -94.20408321471959,45.763551909677986 L -94.20410705966427,45.76345671532275 L -94.20414012046749,45.76336431656764 L -94.20418207873564,45.763275603263175 L -94.20423253038769,45.763191429766984 L -94.20429098954664,45.763112606715836 L -94.2043568932188,45.76303989321882 L -94.20442960671583,45.76297398954664 L -94.20450842976697,45.7629155303877 L -94.20459260326317,45.76286507873565 L -94.20468131656763,45.76282312046749 L -94.20477371532274,45.76279005966427 L -94.20486890967798,45.7627662147196 L -94.20496598285966,45.76275181527333 L -94.205064,45.762747000000005 L -94.20516201714032,45.76275181527333 L -94.205259090322,45.7627662147196 L -94.20535428467724,45.76279005966427 L -94.20544668343236,45.76282312046749 L -94.20553539673682,45.76286507873565 L -94.20561957023301,45.7629155303877 L -94.20569839328415,45.76297398954664 L -94.20577110678119,45.76303989321882 L -94.20583701045335,45.763112606715836 L -94.2058954696123,45.763191429766984 L -94.20594592126434,45.763275603263175 L -94.2059878795325,45.76336431656764 L -94.20602094033572,45.76345671532275 L -94.2060447852804,45.763551909677986 L -94.20605918472667,45.76364898285967 L -94.206064,45.763747 L -94.20605918472667,45.76384501714033 L -94.2060447852804,45.76394209032202 L -94.20602094033572,45.76403728467726 L -94.2059878795325,45.764129683432365 L -94.20594592126434,45.76421839673683 L -94.2058954696123,45.76430257023302 L -94.20583701045335,45.76438139328417 L -94.20577110678119,45.76445410678119 L -94.20569839328415,45.76452001045337 L -94.20561957023301,45.7645784696123 L -94.20553539673682,45.764628921264354 L -94.20544668343236,45.76467087953252 L -94.20535428467724,45.764703940335735 L -94.205259090322,45.76472778528041 L -94.20516201714032,45.76474218472667 L -94.205064,45.764747 L -94.20496598285966,45.76474218472667 L -94.20486890967798,45.76472778528041 L -94.20477371532274,45.764703940335735 L -94.20468131656763,45.76467087953252 L -94.20459260326317,45.764628921264354 L -94.20450842976697,45.7645784696123 L -94.20442960671583,45.76452001045337 L -94.2043568932188,45.76445410678119 L -94.20429098954664,45.76438139328417 L -94.20423253038769,45.76430257023302 L -94.20418207873564,45.76421839673683 L -94.20414012046749,45.764129683432365 L -94.20410705966427,45.76403728467726 L -94.20408321471959,45.76394209032202 L -94.20406881527332,45.76384501714033 L -94.20406399999999,45.763747 z\" /><path fill-rule=\"evenodd\" fill=\"#66cc99\" stroke=\"#555555\" stroke-width=\"0.06126131520000001\" opacity=\"0.6\" d=\"M -94.210128,45.316203 L -94.21013281527333,45.31610498285967 L -94.2101472147196,45.316007909677985 L -94.21017105966428,45.315912715322746 L -94.2102041204675,45.31582031656764 L -94.21024607873565,45.315731603263174 L -94.2102965303877,45.31564742976698 L -94.21035498954664,45.315568606715836 L -94.21042089321881,45.31549589321882 L -94.21049360671584,45.31542998954664 L -94.21057242976698,45.3153715303877 L -94.21065660326317,45.31532107873565 L -94.21074531656764,45.31527912046749 L -94.21083771532275,45.31524605966427 L -94.210932909678,45.3152222147196 L -94.21102998285967,45.31520781527333 L -94.211128,45.315203000000004 L -94.21122601714033,45.31520781527333 L -94.21132309032201,45.3152222147196 L -94.21141828467725,45.31524605966427 L -94.21151068343237,45.31527912046749 L -94.21159939673683,45.31532107873565 L -94.21168357023302,45.3153715303877 L -94.21176239328416,45.31542998954664 L -94.2118351067812,45.31549589321882 L -94.21190101045336,45.315568606715836 L -94.21195946961231,45.31564742976698 L -94.21200992126435,45.315731603263174 L -94.21205187953251,45.31582031656764 L -94.21208494033573,45.315912715322746 L -94.2121087852804,45.316007909677985 L -94.21212318472668,45.31610498285967 L -94.212128,45.316203 L -94.21212318472668,45.31630101714033 L -94.2121087852804,45.31639809032202 L -94.21208494033573,45.31649328467726 L -94.21205187953251,45.316585683432365 L -94.21200992126435,45.31667439673683 L -94.21195946961231,45.31675857023302 L -94.21190101045336,45.31683739328417 L -94.2118351067812,45.31691010678119 L -94.21176239328416,45.31697601045337 L -94.21168357023302,45.3170344696123 L -94.21159939673683,45.31708492126435 L -94.21151068343237,45.317126879532516 L -94.21141828467725,45.317159940335735 L -94.21132309032201,45.317183785280406 L -94.21122601714033,45.31719818472667 L -94.211128,45.317203 L -94.21102998285967,45.31719818472667 L -94.210932909678,45.317183785280406 L -94.21083771532275,45.317159940335735 L -94.21074531656764,45.317126879532516 L -94.21065660326317,45.31708492126435 L -94.21057242976698,45.3170344696123 L -94.21049360671584,45.31697601045337 L -94.21042089321881,45.31691010678119 L -94.21035498954664,45.31683739328417 L -94.2102965303877,45.31675857023302 L -94.21024607873565,45.31667439673683 L -94.2102041204675,45.316585683432365 L -94.21017105966428,45.31649328467726 L -94.2101472147196,45.31639809032202 L -94.21013281527333,45.31630101714033 L -94.210128,45.316203 z\" /><path fill-rule=\"evenodd\" fill=\"#66cc99\" stroke=\"#555555\" stroke-width=\"0.06126131520000001\" opacity=\"0.6\" d=\"M -94.2509,45.080211 L -94.25090481527333,45.08011298285967 L -94.2509192147196,45.08001590967798 L -94.25094305966428,45.07992071532274 L -94.2509761204675,45.079828316567635 L -94.25101807873565,45.07973960326317 L -94.2510685303877,45.07965542976698 L -94.25112698954665,45.07957660671583 L -94.25119289321881,45.07950389321881 L -94.25126560671585,45.07943798954663 L -94.25134442976699,45.0793795303877 L -94.25142860326318,45.07932907873565 L -94.25151731656764,45.079287120467484 L -94.25160971532276,45.079254059664265 L -94.251704909678,45.079230214719594 L -94.25180198285967,45.07921581527333 L -94.2519,45.079211 L -94.25199801714034,45.07921581527333 L -94.25209509032202,45.079230214719594 L -94.25219028467725,45.079254059664265 L -94.25228268343237,45.079287120467484 L -94.25237139673683,45.07932907873565 L -94.25245557023302,45.0793795303877 L -94.25253439328417,45.07943798954663 L -94.2526071067812,45.07950389321881 L -94.25267301045336,45.07957660671583 L -94.25273146961231,45.07965542976698 L -94.25278192126436,45.07973960326317 L -94.25282387953251,45.079828316567635 L -94.25285694033573,45.07992071532274 L -94.25288078528041,45.08001590967798 L -94.25289518472668,45.08011298285967 L -94.25290000000001,45.080211 L -94.25289518472668,45.08030901714033 L -94.25288078528041,45.080406090322015 L -94.25285694033573,45.080501284677254 L -94.25282387953251,45.08059368343236 L -94.25278192126436,45.080682396736826 L -94.25273146961231,45.08076657023302 L -94.25267301045336,45.080845393284164 L -94.2526071067812,45.08091810678118 L -94.25253439328417,45.08098401045336 L -94.25245557023302,45.0810424696123 L -94.25237139673683,45.08109292126435 L -94.25228268343237,45.08113487953251 L -94.25219028467725,45.08116794033573 L -94.25209509032202,45.0811917852804 L -94.25199801714034,45.08120618472667 L -94.2519,45.081210999999996 L -94.25180198285967,45.08120618472667 L -94.251704909678,45.0811917852804 L -94.25160971532276,45.08116794033573 L -94.25151731656764,45.08113487953251 L -94.25142860326318,45.08109292126435 L -94.25134442976699,45.0810424696123 L -94.25126560671585,45.08098401045336 L -94.25119289321881,45.08091810678118 L -94.25112698954665,45.080845393284164 L -94.2510685303877,45.08076657023302 L -94.25101807873565,45.080682396736826 L -94.2509761204675,45.08059368343236 L -94.25094305966428,45.080501284677254 L -94.2509192147196,45.080406090322015 L -94.25090481527333,45.08030901714033 L -94.2509,45.080211 z\" /><path fill-rule=\"evenodd\" fill=\"#66cc99\" stroke=\"#555555\" stroke-width=\"0.06126131520000001\" opacity=\"0.6\" d=\"M -94.258606,45.925622 L -94.25861081527333,45.925523982859666 L -94.2586252147196,45.92542690967798 L -94.25864905966428,45.92533171532274 L -94.2586821204675,45.925239316567634 L -94.25872407873565,45.92515060326317 L -94.2587745303877,45.92506642976698 L -94.25883298954665,45.92498760671583 L -94.25889889321881,45.92491489321881 L -94.25897160671585,45.92484898954663 L -94.25905042976699,45.924790530387696 L -94.25913460326318,45.924740078735645 L -94.25922331656764,45.92469812046748 L -94.25931571532276,45.924665059664264 L -94.259410909678,45.92464121471959 L -94.25950798285967,45.92462681527333 L -94.259606,45.924622 L -94.25970401714034,45.92462681527333 L -94.25980109032201,45.92464121471959 L -94.25989628467725,45.924665059664264 L -94.25998868343237,45.92469812046748 L -94.26007739673683,45.924740078735645 L -94.26016157023302,45.924790530387696 L -94.26024039328416,45.92484898954663 L -94.2603131067812,45.92491489321881 L -94.26037901045336,45.92498760671583 L -94.26043746961231,45.92506642976698 L -94.26048792126436,45.92515060326317 L -94.26052987953251,45.925239316567634 L -94.26056294033573,45.92533171532274 L -94.26058678528041,45.92542690967798 L -94.26060118472668,45.925523982859666 L -94.26060600000001,45.925622 L -94.26060118472668,45.92572001714033 L -94.26058678528041,45.92581709032201 L -94.26056294033573,45.92591228467725 L -94.26052987953251,45.92600468343236 L -94.26048792126436,45.926093396736825 L -94.26043746961231,45.926177570233016 L -94.26037901045336,45.92625639328416 L -94.2603131067812,45.92632910678118 L -94.26024039328416,45.92639501045336 L -94.26016157023302,45.9264534696123 L -94.26007739673683,45.92650392126435 L -94.25998868343237,45.92654587953251 L -94.25989628467725,45.92657894033573 L -94.25980109032201,45.9266027852804 L -94.25970401714034,45.926617184726666 L -94.259606,45.926621999999995 L -94.25950798285967,45.926617184726666 L -94.259410909678,45.9266027852804 L -94.25931571532276,45.92657894033573 L -94.25922331656764,45.92654587953251 L -94.25913460326318,45.92650392126435 L -94.25905042976699,45.9264534696123 L -94.25897160671585,45.92639501045336 L -94.25889889321881,45.92632910678118 L -94.25883298954665,45.92625639328416 L -94.2587745303877,45.926177570233016 L -94.25872407873565,45.926093396736825 L -94.2586821204675,45.92600468343236 L -94.25864905966428,45.92591228467725 L -94.2586252147196,45.92581709032201 L -94.25861081527333,45.92572001714033 L -94.258606,45.925622 z\" /><path fill-rule=\"evenodd\" fill=\"#66cc99\" stroke=\"#555555\" stroke-width=\"0.06126131520000001\" opacity=\"0.6\" d=\"M -94.28575,45.081264 L -94.28575481527332,45.081165982859666 L -94.2857692147196,45.08106890967798 L -94.28579305966427,45.08097371532274 L -94.28582612046749,45.080881316567634 L -94.28586807873565,45.08079260326317 L -94.28591853038769,45.08070842976698 L -94.28597698954664,45.08062960671583 L -94.2860428932188,45.08055689321881 L -94.28611560671584,45.08049098954663 L -94.28619442976698,45.0804325303877 L -94.28627860326317,45.080382078735646 L -94.28636731656763,45.08034012046748 L -94.28645971532275,45.080307059664264 L -94.28655490967799,45.08028321471959 L -94.28665198285967,45.08026881527333 L -94.28675,45.080264 L -94.28684801714033,45.08026881527333 L -94.286945090322,45.08028321471959 L -94.28704028467725,45.080307059664264 L -94.28713268343236,45.08034012046748 L -94.28722139673683,45.080382078735646 L -94.28730557023302,45.0804325303877 L -94.28738439328416,45.08049098954663 L -94.28745710678119,45.08055689321881 L -94.28752301045336,45.08062960671583 L -94.2875814696123,45.08070842976698 L -94.28763192126435,45.08079260326317 L -94.2876738795325,45.080881316567634 L -94.28770694033572,45.08097371532274 L -94.2877307852804,45.08106890967798 L -94.28774518472667,45.081165982859666 L -94.28775,45.081264 L -94.28774518472667,45.08136201714033 L -94.2877307852804,45.081459090322014 L -94.28770694033572,45.08155428467725 L -94.2876738795325,45.08164668343236 L -94.28763192126435,45.081735396736825 L -94.2875814696123,45.081819570233016 L -94.28752301045336,45.08189839328416 L -94.28745710678119,45.08197110678118 L -94.28738439328416,45.08203701045336 L -94.28730557023302,45.0820954696123 L -94.28722139673683,45.08214592126435 L -94.28713268343236,45.08218787953251 L -94.28704028467725,45.08222094033573 L -94.286945090322,45.0822447852804 L -94.28684801714033,45.08225918472667 L -94.28675,45.082263999999995 L -94.28665198285967,45.08225918472667 L -94.28655490967799,45.0822447852804 L -94.28645971532275,45.08222094033573 L -94.28636731656763,45.08218787953251 L -94.28627860326317,45.08214592126435 L -94.28619442976698,45.0820954696123 L -94.28611560671584,45.08203701045336 L -94.2860428932188,45.08197110678118 L -94.28597698954664,45.08189839328416 L -94.28591853038769,45.081819570233016 L -94.28586807873565,45.081735396736825 L -94.28582612046749,45.08164668343236 L -94.28579305966427,45.08155428467725 L -94.2857692147196,45.081459090322014 L -94.28575481527332,45.08136201714033 L -94.28575,45.081264 z\" /><path fill-rule=\"evenodd\" fill=\"#66cc99\" stroke=\"#555555\" stroke-width=\"0.06126131520000001\" opacity=\"0.6\" d=\"M -94.29382199999999,45.844703 L -94.29382681527332,45.84460498285967 L -94.29384121471959,45.844507909677986 L -94.29386505966427,45.84441271532275 L -94.29389812046749,45.84432031656764 L -94.29394007873564,45.844231603263175 L -94.29399053038769,45.844147429766984 L -94.29404898954664,45.84406860671584 L -94.2941148932188,45.84399589321882 L -94.29418760671584,45.84392998954664 L -94.29426642976698,45.8438715303877 L -94.29435060326317,45.84382107873565 L -94.29443931656763,45.84377912046749 L -94.29453171532275,45.84374605966427 L -94.29462690967799,45.8437222147196 L -94.29472398285967,45.84370781527333 L -94.294822,45.843703000000005 L -94.29492001714033,45.84370781527333 L -94.295017090322,45.8437222147196 L -94.29511228467724,45.84374605966427 L -94.29520468343236,45.84377912046749 L -94.29529339673682,45.84382107873565 L -94.29537757023301,45.8438715303877 L -94.29545639328416,45.84392998954664 L -94.29552910678119,45.84399589321882 L -94.29559501045335,45.84406860671584 L -94.2956534696123,45.844147429766984 L -94.29570392126435,45.844231603263175 L -94.2957458795325,45.84432031656764 L -94.29577894033572,45.84441271532275 L -94.2958027852804,45.844507909677986 L -94.29581718472667,45.84460498285967 L -94.295822,45.844703 L -94.29581718472667,45.844801017140334 L -94.2958027852804,45.84489809032202 L -94.29577894033572,45.84499328467726 L -94.2957458795325,45.845085683432366 L -94.29570392126435,45.84517439673683 L -94.2956534696123,45.84525857023302 L -94.29559501045335,45.84533739328417 L -94.29552910678119,45.84541010678119 L -94.29545639328416,45.84547601045337 L -94.29537757023301,45.8455344696123 L -94.29529339673682,45.845584921264354 L -94.29520468343236,45.84562687953252 L -94.29511228467724,45.845659940335736 L -94.295017090322,45.84568378528041 L -94.29492001714033,45.84569818472667 L -94.294822,45.845703 L -94.29472398285967,45.84569818472667 L -94.29462690967799,45.84568378528041 L -94.29453171532275,45.845659940335736 L -94.29443931656763,45.84562687953252 L -94.29435060326317,45.845584921264354 L -94.29426642976698,45.8455344696123 L -94.29418760671584,45.84547601045337 L -94.2941148932188,45.84541010678119 L -94.29404898954664,45.84533739328417 L -94.29399053038769,45.84525857023302 L -94.29394007873564,45.84517439673683 L -94.29389812046749,45.845085683432366 L -94.29386505966427,45.84499328467726 L -94.29384121471959,45.84489809032202 L -94.29382681527332,45.844801017140334 L -94.29382199999999,45.844703 z\" /><path fill-rule=\"evenodd\" fill=\"#66cc99\" stroke=\"#555555\" stroke-width=\"0.06126131520000001\" opacity=\"0.6\" d=\"M -94.295981,45.080608 L -94.29598581527333,45.08050998285967 L -94.2960002147196,45.08041290967798 L -94.29602405966428,45.08031771532274 L -94.2960571204675,45.080225316567635 L -94.29609907873565,45.08013660326317 L -94.2961495303877,45.08005242976698 L -94.29620798954664,45.07997360671583 L -94.29627389321881,45.07990089321881 L -94.29634660671584,45.07983498954663 L -94.29642542976698,45.0797765303877 L -94.29650960326317,45.079726078735646 L -94.29659831656764,45.07968412046748 L -94.29669071532275,45.079651059664265 L -94.296785909678,45.079627214719594 L -94.29688298285967,45.07961281527333 L -94.296981,45.079608 L -94.29707901714033,45.07961281527333 L -94.29717609032201,45.079627214719594 L -94.29727128467725,45.079651059664265 L -94.29736368343237,45.07968412046748 L -94.29745239673683,45.079726078735646 L -94.29753657023302,45.0797765303877 L -94.29761539328416,45.07983498954663 L -94.2976881067812,45.07990089321881 L -94.29775401045336,45.07997360671583 L -94.29781246961231,45.08005242976698 L -94.29786292126435,45.08013660326317 L -94.29790487953251,45.080225316567635 L -94.29793794033573,45.08031771532274 L -94.2979617852804,45.08041290967798 L -94.29797618472668,45.08050998285967 L -94.29798100000001,45.080608 L -94.29797618472668,45.08070601714033 L -94.2979617852804,45.080803090322014 L -94.29793794033573,45.080898284677254 L -94.29790487953251,45.08099068343236 L -94.29786292126435,45.081079396736826 L -94.29781246961231,45.08116357023302 L -94.29775401045336,45.081242393284164 L -94.2976881067812,45.08131510678118 L -94.29761539328416,45.08138101045336 L -94.29753657023302,45.0814394696123 L -94.29745239673683,45.08148992126435 L -94.29736368343237,45.08153187953251 L -94.29727128467725,45.08156494033573 L -94.29717609032201,45.0815887852804 L -94.29707901714033,45.08160318472667 L -94.296981,45.081607999999996 L -94.29688298285967,45.08160318472667 L -94.296785909678,45.0815887852804 L -94.29669071532275,45.08156494033573 L -94.29659831656764,45.08153187953251 L -94.29650960326317,45.08148992126435 L -94.29642542976698,45.0814394696123 L -94.29634660671584,45.08138101045336 L -94.29627389321881,45.08131510678118 L -94.29620798954664,45.081242393284164 L -94.2961495303877,45.08116357023302 L -94.29609907873565,45.081079396736826 L -94.2960571204675,45.08099068343236 L -94.29602405966428,45.080898284677254 L -94.2960002147196,45.080803090322014 L -94.29598581527333,45.08070601714033 L -94.295981,45.080608 z\" /><path fill-rule=\"evenodd\" fill=\"#66cc99\" stroke=\"#555555\" stroke-width=\"0.06126131520000001\" opacity=\"0.6\" d=\"M -94.314156,44.675964 L -94.31416081527333,44.67586598285967 L -94.3141752147196,44.675768909677984 L -94.31419905966428,44.675673715322745 L -94.3142321204675,44.67558131656764 L -94.31427407873565,44.67549260326317 L -94.3143245303877,44.67540842976698 L -94.31438298954664,44.675329606715835 L -94.31444889321881,44.675256893218815 L -94.31452160671584,44.675190989546635 L -94.31460042976698,44.6751325303877 L -94.31468460326317,44.67508207873565 L -94.31477331656764,44.675040120467486 L -94.31486571532275,44.67500705966427 L -94.31496090967799,44.674983214719596 L -94.31505798285967,44.67496881527333 L -94.315156,44.674964 L -94.31525401714033,44.67496881527333 L -94.31535109032201,44.674983214719596 L -94.31544628467725,44.67500705966427 L -94.31553868343237,44.675040120467486 L -94.31562739673683,44.67508207873565 L -94.31571157023302,44.6751325303877 L -94.31579039328416,44.675190989546635 L -94.3158631067812,44.675256893218815 L -94.31592901045336,44.675329606715835 L -94.31598746961231,44.67540842976698 L -94.31603792126435,44.67549260326317 L -94.31607987953251,44.67558131656764 L -94.31611294033573,44.675673715322745 L -94.3161367852804,44.675768909677984 L -94.31615118472668,44.67586598285967 L -94.316156,44.675964 L -94.31615118472668,44.67606201714033 L -94.3161367852804,44.67615909032202 L -94.31611294033573,44.676254284677256 L -94.31607987953251,44.676346683432364 L -94.31603792126435,44.67643539673683 L -94.31598746961231,44.67651957023302 L -94.31592901045336,44.676598393284166 L -94.3158631067812,44.676671106781185 L -94.31579039328416,44.676737010453365 L -94.31571157023302,44.6767954696123 L -94.31562739673683,44.67684592126435 L -94.31553868343237,44.676887879532515 L -94.31544628467725,44.676920940335734 L -94.31535109032201,44.676944785280405 L -94.31525401714033,44.67695918472667 L -94.315156,44.676964 L -94.31505798285967,44.67695918472667 L -94.31496090967799,44.676944785280405 L -94.31486571532275,44.676920940335734 L -94.31477331656764,44.676887879532515 L -94.31468460326317,44.67684592126435 L -94.31460042976698,44.6767954696123 L -94.31452160671584,44.676737010453365 L -94.31444889321881,44.676671106781185 L -94.31438298954664,44.676598393284166 L -94.3143245303877,44.67651957023302 L -94.31427407873565,44.67643539673683 L -94.3142321204675,44.676346683432364 L -94.31419905966428,44.676254284677256 L -94.3141752147196,44.67615909032202 L -94.31416081527333,44.67606201714033 L -94.314156,44.675964 z\" /><path fill-rule=\"evenodd\" fill=\"#66cc99\" stroke=\"#555555\" stroke-width=\"0.06126131520000001\" opacity=\"0.6\" d=\"M -94.33818099999999,43.974286 L -94.33818581527332,43.97418798285967 L -94.33820021471959,43.97409090967798 L -94.33822405966427,43.973995715322744 L -94.33825712046749,43.973903316567636 L -94.33829907873564,43.97381460326317 L -94.33834953038769,43.97373042976698 L -94.33840798954664,43.97365160671583 L -94.3384738932188,43.973578893218814 L -94.33854660671584,43.973512989546634 L -94.33862542976698,43.9734545303877 L -94.33870960326317,43.97340407873565 L -94.33879831656763,43.973362120467485 L -94.33889071532275,43.973329059664266 L -94.33898590967799,43.973305214719595 L -94.33908298285967,43.97329081527333 L -94.339181,43.973286 L -94.33927901714033,43.97329081527333 L -94.339376090322,43.973305214719595 L -94.33947128467724,43.973329059664266 L -94.33956368343236,43.973362120467485 L -94.33965239673682,43.97340407873565 L -94.33973657023301,43.9734545303877 L -94.33981539328416,43.973512989546634 L -94.33988810678119,43.973578893218814 L -94.33995401045335,43.97365160671583 L -94.3400124696123,43.97373042976698 L -94.34006292126435,43.97381460326317 L -94.3401048795325,43.973903316567636 L -94.34013794033572,43.973995715322744 L -94.3401617852804,43.97409090967798 L -94.34017618472667,43.97418798285967 L -94.340181,43.974286 L -94.34017618472667,43.97438401714033 L -94.3401617852804,43.974481090322016 L -94.34013794033572,43.974576284677255 L -94.3401048795325,43.97466868343236 L -94.34006292126435,43.97475739673683 L -94.3400124696123,43.97484157023302 L -94.33995401045335,43.974920393284165 L -94.33988810678119,43.974993106781184 L -94.33981539328416,43.975059010453364 L -94.33973657023301,43.9751174696123 L -94.33965239673682,43.97516792126435 L -94.33956368343236,43.975209879532514 L -94.33947128467724,43.97524294033573 L -94.339376090322,43.975266785280404 L -94.33927901714033,43.97528118472667 L -94.339181,43.975286 L -94.33908298285967,43.97528118472667 L -94.33898590967799,43.975266785280404 L -94.33889071532275,43.97524294033573 L -94.33879831656763,43.975209879532514 L -94.33870960326317,43.97516792126435 L -94.33862542976698,43.9751174696123 L -94.33854660671584,43.975059010453364 L -94.3384738932188,43.974993106781184 L -94.33840798954664,43.974920393284165 L -94.33834953038769,43.97484157023302 L -94.33829907873564,43.97475739673683 L -94.33825712046749,43.97466868343236 L -94.33822405966427,43.974576284677255 L -94.33820021471959,43.974481090322016 L -94.33818581527332,43.97438401714033 L -94.33818099999999,43.974286 z\" /><path fill-rule=\"evenodd\" fill=\"#66cc99\" stroke=\"#555555\" stroke-width=\"0.06126131520000001\" opacity=\"0.6\" d=\"M -94.356208,44.021308 L -94.35621281527332,44.021209982859666 L -94.3562272147196,44.02111290967798 L -94.35625105966427,44.02101771532274 L -94.35628412046749,44.020925316567634 L -94.35632607873565,44.02083660326317 L -94.35637653038769,44.02075242976698 L -94.35643498954664,44.02067360671583 L -94.35650089321881,44.02060089321881 L -94.35657360671584,44.02053498954663 L -94.35665242976698,44.0204765303877 L -94.35673660326317,44.020426078735646 L -94.35682531656764,44.02038412046748 L -94.35691771532275,44.020351059664264 L -94.35701290967799,44.02032721471959 L -94.35710998285967,44.02031281527333 L -94.357208,44.020308 L -94.35730601714033,44.02031281527333 L -94.35740309032201,44.02032721471959 L -94.35749828467725,44.020351059664264 L -94.35759068343236,44.02038412046748 L -94.35767939673683,44.020426078735646 L -94.35776357023302,44.0204765303877 L -94.35784239328416,44.02053498954663 L -94.35791510678119,44.02060089321881 L -94.35798101045336,44.02067360671583 L -94.35803946961231,44.02075242976698 L -94.35808992126435,44.02083660326317 L -94.35813187953251,44.020925316567634 L -94.35816494033573,44.02101771532274 L -94.3581887852804,44.02111290967798 L -94.35820318472668,44.021209982859666 L -94.358208,44.021308 L -94.35820318472668,44.02140601714033 L -94.3581887852804,44.021503090322014 L -94.35816494033573,44.02159828467725 L -94.35813187953251,44.02169068343236 L -94.35808992126435,44.021779396736825 L -94.35803946961231,44.021863570233016 L -94.35798101045336,44.021942393284164 L -94.35791510678119,44.02201510678118 L -94.35784239328416,44.02208101045336 L -94.35776357023302,44.0221394696123 L -94.35767939673683,44.02218992126435 L -94.35759068343236,44.02223187953251 L -94.35749828467725,44.02226494033573 L -94.35740309032201,44.0222887852804 L -94.35730601714033,44.02230318472667 L -94.357208,44.022307999999995 L -94.35710998285967,44.02230318472667 L -94.35701290967799,44.0222887852804 L -94.35691771532275,44.02226494033573 L -94.35682531656764,44.02223187953251 L -94.35673660326317,44.02218992126435 L -94.35665242976698,44.0221394696123 L -94.35657360671584,44.02208101045336 L -94.35650089321881,44.02201510678118 L -94.35643498954664,44.021942393284164 L -94.35637653038769,44.021863570233016 L -94.35632607873565,44.021779396736825 L -94.35628412046749,44.02169068343236 L -94.35625105966427,44.02159828467725 L -94.3562272147196,44.021503090322014 L -94.35621281527332,44.02140601714033 L -94.356208,44.021308 z\" /><path fill-rule=\"evenodd\" fill=\"#66cc99\" stroke=\"#555555\" stroke-width=\"0.06126131520000001\" opacity=\"0.6\" d=\"M -94.357986,45.085822 L -94.35799081527333,45.08572398285967 L -94.3580052147196,45.085626909677984 L -94.35802905966428,45.085531715322745 L -94.3580621204675,45.08543931656764 L -94.35810407873565,45.08535060326317 L -94.3581545303877,45.08526642976698 L -94.35821298954664,45.085187606715834 L -94.35827889321881,45.085114893218815 L -94.35835160671584,45.085048989546635 L -94.35843042976698,45.0849905303877 L -94.35851460326317,45.08494007873565 L -94.35860331656764,45.084898120467486 L -94.35869571532275,45.08486505966427 L -94.35879090967799,45.084841214719596 L -94.35888798285967,45.08482681527333 L -94.358986,45.084822 L -94.35908401714033,45.08482681527333 L -94.35918109032201,45.084841214719596 L -94.35927628467725,45.08486505966427 L -94.35936868343236,45.084898120467486 L -94.35945739673683,45.08494007873565 L -94.35954157023302,45.0849905303877 L -94.35962039328416,45.085048989546635 L -94.3596931067812,45.085114893218815 L -94.35975901045336,45.085187606715834 L -94.35981746961231,45.08526642976698 L -94.35986792126435,45.08535060326317 L -94.35990987953251,45.08543931656764 L -94.35994294033573,45.085531715322745 L -94.3599667852804,45.085626909677984 L -94.35998118472668,45.08572398285967 L -94.359986,45.085822 L -94.35998118472668,45.08592001714033 L -94.3599667852804,45.08601709032202 L -94.35994294033573,45.086112284677256 L -94.35990987953251,45.08620468343236 L -94.35986792126435,45.08629339673683 L -94.35981746961231,45.08637757023302 L -94.35975901045336,45.086456393284166 L -94.3596931067812,45.086529106781185 L -94.35962039328416,45.086595010453365 L -94.35954157023302,45.0866534696123 L -94.35945739673683,45.08670392126435 L -94.35936868343236,45.086745879532515 L -94.35927628467725,45.08677894033573 L -94.35918109032201,45.086802785280405 L -94.35908401714033,45.08681718472667 L -94.358986,45.086822 L -94.35888798285967,45.08681718472667 L -94.35879090967799,45.086802785280405 L -94.35869571532275,45.08677894033573 L -94.35860331656764,45.086745879532515 L -94.35851460326317,45.08670392126435 L -94.35843042976698,45.0866534696123 L -94.35835160671584,45.086595010453365 L -94.35827889321881,45.086529106781185 L -94.35821298954664,45.086456393284166 L -94.3581545303877,45.08637757023302 L -94.35810407873565,45.08629339673683 L -94.3580621204675,45.08620468343236 L -94.35802905966428,45.086112284677256 L -94.3580052147196,45.08601709032202 L -94.35799081527333,45.08592001714033 L -94.357986,45.085822 z\" /><path fill-rule=\"evenodd\" fill=\"#66cc99\" stroke=\"#555555\" stroke-width=\"0.06126131520000001\" opacity=\"0.6\" d=\"M -94.363839,45.526061 L -94.36384381527333,45.52596298285967 L -94.3638582147196,45.52586590967798 L -94.36388205966428,45.52577071532274 L -94.3639151204675,45.525678316567635 L -94.36395707873565,45.52558960326317 L -94.3640075303877,45.52550542976698 L -94.36406598954665,45.52542660671583 L -94.36413189321881,45.52535389321881 L -94.36420460671584,45.525287989546634 L -94.36428342976699,45.5252295303877 L -94.36436760326318,45.52517907873565 L -94.36445631656764,45.525137120467484 L -94.36454871532275,45.525104059664265 L -94.364643909678,45.525080214719594 L -94.36474098285967,45.52506581527333 L -94.364839,45.525061 L -94.36493701714033,45.52506581527333 L -94.36503409032201,45.525080214719594 L -94.36512928467725,45.525104059664265 L -94.36522168343237,45.525137120467484 L -94.36531039673683,45.52517907873565 L -94.36539457023302,45.5252295303877 L -94.36547339328416,45.525287989546634 L -94.3655461067812,45.52535389321881 L -94.36561201045336,45.52542660671583 L -94.36567046961231,45.52550542976698 L -94.36572092126436,45.52558960326317 L -94.36576287953251,45.525678316567635 L -94.36579594033573,45.52577071532274 L -94.36581978528041,45.52586590967798 L -94.36583418472668,45.52596298285967 L -94.36583900000001,45.526061 L -94.36583418472668,45.52615901714033 L -94.36581978528041,45.526256090322015 L -94.36579594033573,45.526351284677254 L -94.36576287953251,45.52644368343236 L -94.36572092126436,45.526532396736826 L -94.36567046961231,45.52661657023302 L -94.36561201045336,45.526695393284164 L -94.3655461067812,45.526768106781184 L -94.36547339328416,45.52683401045336 L -94.36539457023302,45.5268924696123 L -94.36531039673683,45.52694292126435 L -94.36522168343237,45.52698487953251 L -94.36512928467725,45.52701794033573 L -94.36503409032201,45.5270417852804 L -94.36493701714033,45.52705618472667 L -94.364839,45.527060999999996 L -94.36474098285967,45.52705618472667 L -94.364643909678,45.5270417852804 L -94.36454871532275,45.52701794033573 L -94.36445631656764,45.52698487953251 L -94.36436760326318,45.52694292126435 L -94.36428342976699,45.5268924696123 L -94.36420460671584,45.52683401045336 L -94.36413189321881,45.526768106781184 L -94.36406598954665,45.526695393284164 L -94.3640075303877,45.52661657023302 L -94.36395707873565,45.526532396736826 L -94.3639151204675,45.52644368343236 L -94.36388205966428,45.526351284677254 L -94.3638582147196,45.526256090322015 L -94.36384381527333,45.52615901714033 L -94.363839,45.526061 z\" /><path fill-rule=\"evenodd\" fill=\"#66cc99\" stroke=\"#555555\" stroke-width=\"0.06126131520000001\" opacity=\"0.6\" d=\"M -94.388161,45.918664 L -94.38816581527333,45.91856598285967 L -94.3881802147196,45.91846890967798 L -94.38820405966428,45.918373715322744 L -94.3882371204675,45.91828131656764 L -94.38827907873565,45.91819260326317 L -94.3883295303877,45.91810842976698 L -94.38838798954664,45.918029606715834 L -94.38845389321881,45.917956893218815 L -94.38852660671584,45.917890989546635 L -94.38860542976698,45.9178325303877 L -94.38868960326317,45.91778207873565 L -94.38877831656764,45.917740120467485 L -94.38887071532275,45.91770705966427 L -94.38896590967799,45.917683214719595 L -94.38906298285967,45.91766881527333 L -94.389161,45.917664 L -94.38925901714033,45.91766881527333 L -94.38935609032201,45.917683214719595 L -94.38945128467725,45.91770705966427 L -94.38954368343236,45.917740120467485 L -94.38963239673683,45.91778207873565 L -94.38971657023302,45.9178325303877 L -94.38979539328416,45.917890989546635 L -94.3898681067812,45.917956893218815 L -94.38993401045336,45.918029606715834 L -94.38999246961231,45.91810842976698 L -94.39004292126435,45.91819260326317 L -94.39008487953251,45.91828131656764 L -94.39011794033573,45.918373715322744 L -94.3901417852804,45.91846890967798 L -94.39015618472668,45.91856598285967 L -94.390161,45.918664 L -94.39015618472668,45.91876201714033 L -94.3901417852804,45.918859090322016 L -94.39011794033573,45.918954284677255 L -94.39008487953251,45.91904668343236 L -94.39004292126435,45.91913539673683 L -94.38999246961231,45.91921957023302 L -94.38993401045336,45.919298393284166 L -94.3898681067812,45.919371106781185 L -94.38979539328416,45.919437010453365 L -94.38971657023302,45.9194954696123 L -94.38963239673683,45.91954592126435 L -94.38954368343236,45.919587879532514 L -94.38945128467725,45.91962094033573 L -94.38935609032201,45.919644785280404 L -94.38925901714033,45.91965918472667 L -94.389161,45.919664 L -94.38906298285967,45.91965918472667 L -94.38896590967799,45.919644785280404 L -94.38887071532275,45.91962094033573 L -94.38877831656764,45.919587879532514 L -94.38868960326317,45.91954592126435 L -94.38860542976698,45.9194954696123 L -94.38852660671584,45.919437010453365 L -94.38845389321881,45.919371106781185 L -94.38838798954664,45.919298393284166 L -94.3883295303877,45.91921957023302 L -94.38827907873565,45.91913539673683 L -94.3882371204675,45.91904668343236 L -94.38820405966428,45.918954284677255 L -94.3881802147196,45.918859090322016 L -94.38816581527333,45.91876201714033 L -94.388161,45.918664 z\" /><path fill-rule=\"evenodd\" fill=\"#66cc99\" stroke=\"#555555\" stroke-width=\"0.06126131520000001\" opacity=\"0.6\" d=\"M -94.390031,45.952786 L -94.39003581527332,45.95268798285967 L -94.3900502147196,45.95259090967799 L -94.39007405966427,45.95249571532275 L -94.39010712046749,45.95240331656764 L -94.39014907873565,45.952314603263176 L -94.39019953038769,45.952230429766985 L -94.39025798954664,45.95215160671584 L -94.3903238932188,45.95207889321882 L -94.39039660671584,45.95201298954664 L -94.39047542976698,45.9519545303877 L -94.39055960326317,45.95190407873565 L -94.39064831656763,45.95186212046749 L -94.39074071532275,45.95182905966427 L -94.39083590967799,45.9518052147196 L -94.39093298285967,45.951790815273334 L -94.391031,45.951786000000006 L -94.39112901714033,45.951790815273334 L -94.39122609032201,45.9518052147196 L -94.39132128467725,45.95182905966427 L -94.39141368343236,45.95186212046749 L -94.39150239673683,45.95190407873565 L -94.39158657023302,45.9519545303877 L -94.39166539328416,45.95201298954664 L -94.39173810678119,45.95207889321882 L -94.39180401045336,45.95215160671584 L -94.3918624696123,45.952230429766985 L -94.39191292126435,45.952314603263176 L -94.3919548795325,45.95240331656764 L -94.39198794033572,45.95249571532275 L -94.3920117852804,45.95259090967799 L -94.39202618472667,45.95268798285967 L -94.392031,45.952786 L -94.39202618472667,45.952884017140335 L -94.3920117852804,45.95298109032202 L -94.39198794033572,45.95307628467726 L -94.3919548795325,45.95316868343237 L -94.39191292126435,45.95325739673683 L -94.3918624696123,45.95334157023302 L -94.39180401045336,45.95342039328417 L -94.39173810678119,45.95349310678119 L -94.39166539328416,45.95355901045337 L -94.39158657023302,45.953617469612304 L -94.39150239673683,45.953667921264355 L -94.39141368343236,45.95370987953252 L -94.39132128467725,45.95374294033574 L -94.39122609032201,45.95376678528041 L -94.39112901714033,45.95378118472667 L -94.391031,45.953786 L -94.39093298285967,45.95378118472667 L -94.39083590967799,45.95376678528041 L -94.39074071532275,45.95374294033574 L -94.39064831656763,45.95370987953252 L -94.39055960326317,45.953667921264355 L -94.39047542976698,45.953617469612304 L -94.39039660671584,45.95355901045337 L -94.3903238932188,45.95349310678119 L -94.39025798954664,45.95342039328417 L -94.39019953038769,45.95334157023302 L -94.39014907873565,45.95325739673683 L -94.39010712046749,45.95316868343237 L -94.39007405966427,45.95307628467726 L -94.3900502147196,45.95298109032202 L -94.39003581527332,45.952884017140335 L -94.390031,45.952786 z\" /><path fill-rule=\"evenodd\" fill=\"#66cc99\" stroke=\"#555555\" stroke-width=\"0.06126131520000001\" opacity=\"0.6\" d=\"M -94.392547,43.978506 L -94.39255181527332,43.97840798285967 L -94.3925662147196,43.97831090967799 L -94.39259005966427,43.97821571532275 L -94.39262312046749,43.97812331656764 L -94.39266507873565,43.978034603263175 L -94.39271553038769,43.977950429766985 L -94.39277398954664,43.97787160671584 L -94.3928398932188,43.97779889321882 L -94.39291260671584,43.97773298954664 L -94.39299142976698,43.9776745303877 L -94.39307560326317,43.97762407873565 L -94.39316431656763,43.97758212046749 L -94.39325671532275,43.97754905966427 L -94.39335190967799,43.9775252147196 L -94.39344898285967,43.977510815273334 L -94.393547,43.977506000000005 L -94.39364501714033,43.977510815273334 L -94.39374209032201,43.9775252147196 L -94.39383728467725,43.97754905966427 L -94.39392968343236,43.97758212046749 L -94.39401839673683,43.97762407873565 L -94.39410257023302,43.9776745303877 L -94.39418139328416,43.97773298954664 L -94.39425410678119,43.97779889321882 L -94.39432001045336,43.97787160671584 L -94.3943784696123,43.977950429766985 L -94.39442892126435,43.978034603263175 L -94.3944708795325,43.97812331656764 L -94.39450394033572,43.97821571532275 L -94.3945277852804,43.97831090967799 L -94.39454218472667,43.97840798285967 L -94.394547,43.978506 L -94.39454218472667,43.978604017140334 L -94.3945277852804,43.97870109032202 L -94.39450394033572,43.97879628467726 L -94.3944708795325,43.978888683432366 L -94.39442892126435,43.97897739673683 L -94.3943784696123,43.97906157023302 L -94.39432001045336,43.97914039328417 L -94.39425410678119,43.97921310678119 L -94.39418139328416,43.97927901045337 L -94.39410257023302,43.979337469612304 L -94.39401839673683,43.979387921264355 L -94.39392968343236,43.97942987953252 L -94.39383728467725,43.979462940335736 L -94.39374209032201,43.97948678528041 L -94.39364501714033,43.97950118472667 L -94.393547,43.979506 L -94.39344898285967,43.97950118472667 L -94.39335190967799,43.97948678528041 L -94.39325671532275,43.979462940335736 L -94.39316431656763,43.97942987953252 L -94.39307560326317,43.979387921264355 L -94.39299142976698,43.979337469612304 L -94.39291260671584,43.97927901045337 L -94.3928398932188,43.97921310678119 L -94.39277398954664,43.97914039328417 L -94.39271553038769,43.97906157023302 L -94.39266507873565,43.97897739673683 L -94.39262312046749,43.978888683432366 L -94.39259005966427,43.97879628467726 L -94.3925662147196,43.97870109032202 L -94.39255181527332,43.978604017140334 L -94.392547,43.978506 z\" /><path fill-rule=\"evenodd\" fill=\"#66cc99\" stroke=\"#555555\" stroke-width=\"0.06126131520000001\" opacity=\"0.6\" d=\"M -94.393067,44.187064 L -94.39307181527333,44.18696598285967 L -94.3930862147196,44.18686890967798 L -94.39311005966428,44.186773715322744 L -94.3931431204675,44.186681316567636 L -94.39318507873566,44.18659260326317 L -94.3932355303877,44.18650842976698 L -94.39329398954665,44.18642960671583 L -94.39335989321881,44.186356893218814 L -94.39343260671585,44.186290989546634 L -94.39351142976699,44.1862325303877 L -94.39359560326318,44.18618207873565 L -94.39368431656764,44.186140120467485 L -94.39377671532276,44.186107059664266 L -94.393871909678,44.186083214719595 L -94.39396898285968,44.18606881527333 L -94.394067,44.186064 L -94.39416501714034,44.18606881527333 L -94.39426209032202,44.186083214719595 L -94.39435728467726,44.186107059664266 L -94.39444968343237,44.186140120467485 L -94.39453839673683,44.18618207873565 L -94.39462257023303,44.1862325303877 L -94.39470139328417,44.186290989546634 L -94.3947741067812,44.186356893218814 L -94.39484001045336,44.18642960671583 L -94.39489846961231,44.18650842976698 L -94.39494892126436,44.18659260326317 L -94.39499087953251,44.186681316567636 L -94.39502394033573,44.186773715322744 L -94.39504778528041,44.18686890967798 L -94.39506218472668,44.18696598285967 L -94.39506700000001,44.187064 L -94.39506218472668,44.18716201714033 L -94.39504778528041,44.187259090322016 L -94.39502394033573,44.187354284677255 L -94.39499087953251,44.18744668343236 L -94.39494892126436,44.18753539673683 L -94.39489846961231,44.18761957023302 L -94.39484001045336,44.187698393284165 L -94.3947741067812,44.187771106781184 L -94.39470139328417,44.187837010453364 L -94.39462257023303,44.1878954696123 L -94.39453839673683,44.18794592126435 L -94.39444968343237,44.187987879532514 L -94.39435728467726,44.18802094033573 L -94.39426209032202,44.188044785280404 L -94.39416501714034,44.18805918472667 L -94.394067,44.188064 L -94.39396898285968,44.18805918472667 L -94.393871909678,44.188044785280404 L -94.39377671532276,44.18802094033573 L -94.39368431656764,44.187987879532514 L -94.39359560326318,44.18794592126435 L -94.39351142976699,44.1878954696123 L -94.39343260671585,44.187837010453364 L -94.39335989321881,44.187771106781184 L -94.39329398954665,44.187698393284165 L -94.3932355303877,44.18761957023302 L -94.39318507873566,44.18753539673683 L -94.3931431204675,44.18744668343236 L -94.39311005966428,44.187354284677255 L -94.3930862147196,44.187259090322016 L -94.39307181527333,44.18716201714033 L -94.393067,44.187064 z\" /><path fill-rule=\"evenodd\" fill=\"#66cc99\" stroke=\"#555555\" stroke-width=\"0.06126131520000001\" opacity=\"0.6\" d=\"M -94.407753,45.710756 L -94.40775781527333,45.71065798285967 L -94.4077722147196,45.71056090967799 L -94.40779605966428,45.71046571532275 L -94.4078291204675,45.71037331656764 L -94.40787107873565,45.710284603263176 L -94.4079215303877,45.710200429766985 L -94.40797998954665,45.71012160671584 L -94.40804589321881,45.71004889321882 L -94.40811860671585,45.70998298954664 L -94.40819742976699,45.7099245303877 L -94.40828160326318,45.70987407873565 L -94.40837031656764,45.70983212046749 L -94.40846271532276,45.70979905966427 L -94.408557909678,45.7097752147196 L -94.40865498285967,45.709760815273334 L -94.408753,45.709756000000006 L -94.40885101714034,45.709760815273334 L -94.40894809032201,45.7097752147196 L -94.40904328467725,45.70979905966427 L -94.40913568343237,45.70983212046749 L -94.40922439673683,45.70987407873565 L -94.40930857023302,45.7099245303877 L -94.40938739328416,45.70998298954664 L -94.4094601067812,45.71004889321882 L -94.40952601045336,45.71012160671584 L -94.40958446961231,45.710200429766985 L -94.40963492126436,45.710284603263176 L -94.40967687953251,45.71037331656764 L -94.40970994033573,45.71046571532275 L -94.40973378528041,45.71056090967799 L -94.40974818472668,45.71065798285967 L -94.40975300000001,45.710756 L -94.40974818472668,45.710854017140335 L -94.40973378528041,45.71095109032202 L -94.40970994033573,45.71104628467726 L -94.40967687953251,45.71113868343237 L -94.40963492126436,45.71122739673683 L -94.40958446961231,45.71131157023302 L -94.40952601045336,45.71139039328417 L -94.4094601067812,45.71146310678119 L -94.40938739328416,45.71152901045337 L -94.40930857023302,45.711587469612304 L -94.40922439673683,45.711637921264355 L -94.40913568343237,45.71167987953252 L -94.40904328467725,45.71171294033574 L -94.40894809032201,45.71173678528041 L -94.40885101714034,45.71175118472667 L -94.408753,45.711756 L -94.40865498285967,45.71175118472667 L -94.408557909678,45.71173678528041 L -94.40846271532276,45.71171294033574 L -94.40837031656764,45.71167987953252 L -94.40828160326318,45.711637921264355 L -94.40819742976699,45.711587469612304 L -94.40811860671585,45.71152901045337 L -94.40804589321881,45.71146310678119 L -94.40797998954665,45.71139039328417 L -94.4079215303877,45.71131157023302 L -94.40787107873565,45.71122739673683 L -94.4078291204675,45.71113868343237 L -94.40779605966428,45.71104628467726 L -94.4077722147196,45.71095109032202 L -94.40775781527333,45.710854017140335 L -94.407753,45.710756 z\" /><path fill-rule=\"evenodd\" fill=\"#66cc99\" stroke=\"#555555\" stroke-width=\"0.06126131520000001\" opacity=\"0.6\" d=\"M -94.413406,45.804475 L -94.41341081527332,45.804376982859665 L -94.4134252147196,45.80427990967798 L -94.41344905966427,45.80418471532274 L -94.41348212046749,45.80409231656763 L -94.41352407873565,45.80400360326317 L -94.41357453038769,45.80391942976698 L -94.41363298954664,45.80384060671583 L -94.41369889321881,45.80376789321881 L -94.41377160671584,45.80370198954663 L -94.41385042976698,45.803643530387696 L -94.41393460326317,45.803593078735645 L -94.41402331656764,45.80355112046748 L -94.41411571532275,45.80351805966426 L -94.41421090967799,45.80349421471959 L -94.41430798285967,45.80347981527333 L -94.414406,45.803475 L -94.41450401714033,45.80347981527333 L -94.41460109032201,45.80349421471959 L -94.41469628467725,45.80351805966426 L -94.41478868343236,45.80355112046748 L -94.41487739673683,45.803593078735645 L -94.41496157023302,45.803643530387696 L -94.41504039328416,45.80370198954663 L -94.41511310678119,45.80376789321881 L -94.41517901045336,45.80384060671583 L -94.41523746961231,45.80391942976698 L -94.41528792126435,45.80400360326317 L -94.41532987953251,45.80409231656763 L -94.41536294033573,45.80418471532274 L -94.4153867852804,45.80427990967798 L -94.41540118472668,45.804376982859665 L -94.415406,45.804475 L -94.41540118472668,45.80457301714033 L -94.4153867852804,45.80467009032201 L -94.41536294033573,45.80476528467725 L -94.41532987953251,45.80485768343236 L -94.41528792126435,45.804946396736824 L -94.41523746961231,45.805030570233015 L -94.41517901045336,45.80510939328416 L -94.41511310678119,45.80518210678118 L -94.41504039328416,45.80524801045336 L -94.41496157023302,45.8053064696123 L -94.41487739673683,45.80535692126435 L -94.41478868343236,45.80539887953251 L -94.41469628467725,45.80543194033573 L -94.41460109032201,45.8054557852804 L -94.41450401714033,45.805470184726666 L -94.414406,45.805474999999994 L -94.41430798285967,45.805470184726666 L -94.41421090967799,45.8054557852804 L -94.41411571532275,45.80543194033573 L -94.41402331656764,45.80539887953251 L -94.41393460326317,45.80535692126435 L -94.41385042976698,45.8053064696123 L -94.41377160671584,45.80524801045336 L -94.41369889321881,45.80518210678118 L -94.41363298954664,45.80510939328416 L -94.41357453038769,45.805030570233015 L -94.41352407873565,45.804946396736824 L -94.41348212046749,45.80485768343236 L -94.41344905966427,45.80476528467725 L -94.4134252147196,45.80467009032201 L -94.41341081527332,45.80457301714033 L -94.413406,45.804475 z\" /><path fill-rule=\"evenodd\" fill=\"#66cc99\" stroke=\"#555555\" stroke-width=\"0.06126131520000001\" opacity=\"0.6\" d=\"M -94.433675,45.819314 L -94.43367981527332,45.81921598285967 L -94.4336942147196,45.81911890967798 L -94.43371805966427,45.81902371532274 L -94.43375112046749,45.818931316567635 L -94.43379307873565,45.81884260326317 L -94.43384353038769,45.81875842976698 L -94.43390198954664,45.81867960671583 L -94.4339678932188,45.81860689321881 L -94.43404060671584,45.818540989546634 L -94.43411942976698,45.8184825303877 L -94.43420360326317,45.81843207873565 L -94.43429231656764,45.818390120467484 L -94.43438471532275,45.818357059664265 L -94.43447990967799,45.818333214719594 L -94.43457698285967,45.81831881527333 L -94.434675,45.818314 L -94.43477301714033,45.81831881527333 L -94.43487009032201,45.818333214719594 L -94.43496528467725,45.818357059664265 L -94.43505768343236,45.818390120467484 L -94.43514639673683,45.81843207873565 L -94.43523057023302,45.8184825303877 L -94.43530939328416,45.818540989546634 L -94.43538210678119,45.81860689321881 L -94.43544801045336,45.81867960671583 L -94.4355064696123,45.81875842976698 L -94.43555692126435,45.81884260326317 L -94.4355988795325,45.818931316567635 L -94.43563194033572,45.81902371532274 L -94.4356557852804,45.81911890967798 L -94.43567018472667,45.81921598285967 L -94.435675,45.819314 L -94.43567018472667,45.81941201714033 L -94.4356557852804,45.819509090322015 L -94.43563194033572,45.819604284677254 L -94.4355988795325,45.81969668343236 L -94.43555692126435,45.819785396736826 L -94.4355064696123,45.81986957023302 L -94.43544801045336,45.819948393284164 L -94.43538210678119,45.820021106781184 L -94.43530939328416,45.82008701045336 L -94.43523057023302,45.8201454696123 L -94.43514639673683,45.82019592126435 L -94.43505768343236,45.82023787953251 L -94.43496528467725,45.82027094033573 L -94.43487009032201,45.8202947852804 L -94.43477301714033,45.82030918472667 L -94.434675,45.820313999999996 L -94.43457698285967,45.82030918472667 L -94.43447990967799,45.8202947852804 L -94.43438471532275,45.82027094033573 L -94.43429231656764,45.82023787953251 L -94.43420360326317,45.82019592126435 L -94.43411942976698,45.8201454696123 L -94.43404060671584,45.82008701045336 L -94.4339678932188,45.820021106781184 L -94.43390198954664,45.819948393284164 L -94.43384353038769,45.81986957023302 L -94.43379307873565,45.819785396736826 L -94.43375112046749,45.81969668343236 L -94.43371805966427,45.819604284677254 L -94.4336942147196,45.819509090322015 L -94.43367981527332,45.81941201714033 L -94.433675,45.819314 z\" /><path fill-rule=\"evenodd\" fill=\"#66cc99\" stroke=\"#555555\" stroke-width=\"0.06126131520000001\" opacity=\"0.6\" d=\"M -94.46487499999999,44.327133 L -94.46487981527332,44.32703498285967 L -94.46489421471959,44.32693790967799 L -94.46491805966427,44.32684271532275 L -94.46495112046749,44.32675031656764 L -94.46499307873565,44.326661603263176 L -94.46504353038769,44.326577429766985 L -94.46510198954664,44.32649860671584 L -94.4651678932188,44.32642589321882 L -94.46524060671584,44.32635998954664 L -94.46531942976698,44.3263015303877 L -94.46540360326317,44.32625107873565 L -94.46549231656763,44.32620912046749 L -94.46558471532275,44.32617605966427 L -94.46567990967799,44.3261522147196 L -94.46577698285967,44.326137815273334 L -94.465875,44.326133000000006 L -94.46597301714033,44.326137815273334 L -94.466070090322,44.3261522147196 L -94.46616528467725,44.32617605966427 L -94.46625768343236,44.32620912046749 L -94.46634639673682,44.32625107873565 L -94.46643057023302,44.3263015303877 L -94.46650939328416,44.32635998954664 L -94.46658210678119,44.32642589321882 L -94.46664801045335,44.32649860671584 L -94.4667064696123,44.326577429766985 L -94.46675692126435,44.326661603263176 L -94.4667988795325,44.32675031656764 L -94.46683194033572,44.32684271532275 L -94.4668557852804,44.32693790967799 L -94.46687018472667,44.32703498285967 L -94.466875,44.327133 L -94.46687018472667,44.327231017140335 L -94.4668557852804,44.32732809032202 L -94.46683194033572,44.32742328467726 L -94.4667988795325,44.32751568343237 L -94.46675692126435,44.32760439673683 L -94.4667064696123,44.32768857023302 L -94.46664801045335,44.32776739328417 L -94.46658210678119,44.32784010678119 L -94.46650939328416,44.32790601045337 L -94.46643057023302,44.327964469612304 L -94.46634639673682,44.328014921264355 L -94.46625768343236,44.32805687953252 L -94.46616528467725,44.32808994033574 L -94.466070090322,44.32811378528041 L -94.46597301714033,44.32812818472667 L -94.465875,44.328133 L -94.46577698285967,44.32812818472667 L -94.46567990967799,44.32811378528041 L -94.46558471532275,44.32808994033574 L -94.46549231656763,44.32805687953252 L -94.46540360326317,44.328014921264355 L -94.46531942976698,44.327964469612304 L -94.46524060671584,44.32790601045337 L -94.4651678932188,44.32784010678119 L -94.46510198954664,44.32776739328417 L -94.46504353038769,44.32768857023302 L -94.46499307873565,44.32760439673683 L -94.46495112046749,44.32751568343237 L -94.46491805966427,44.32742328467726 L -94.46489421471959,44.32732809032202 L -94.46487981527332,44.327231017140335 L -94.46487499999999,44.327133 z\" /><path fill-rule=\"evenodd\" fill=\"#66cc99\" stroke=\"#555555\" stroke-width=\"0.06126131520000001\" opacity=\"0.6\" d=\"M -94.47160799999999,45.82265 L -94.47161281527332,45.82255198285967 L -94.47162721471959,45.82245490967799 L -94.47165105966427,45.82235971532275 L -94.47168412046749,45.82226731656764 L -94.47172607873564,45.822178603263175 L -94.47177653038769,45.822094429766985 L -94.47183498954664,45.82201560671584 L -94.4719008932188,45.82194289321882 L -94.47197360671584,45.82187698954664 L -94.47205242976698,45.8218185303877 L -94.47213660326317,45.82176807873565 L -94.47222531656763,45.82172612046749 L -94.47231771532275,45.82169305966427 L -94.47241290967798,45.8216692147196 L -94.47250998285966,45.821654815273334 L -94.472608,45.821650000000005 L -94.47270601714033,45.821654815273334 L -94.472803090322,45.8216692147196 L -94.47289828467724,45.82169305966427 L -94.47299068343236,45.82172612046749 L -94.47307939673682,45.82176807873565 L -94.47316357023301,45.8218185303877 L -94.47324239328415,45.82187698954664 L -94.47331510678119,45.82194289321882 L -94.47338101045335,45.82201560671584 L -94.4734394696123,45.822094429766985 L -94.47348992126435,45.822178603263175 L -94.4735318795325,45.82226731656764 L -94.47356494033572,45.82235971532275 L -94.4735887852804,45.82245490967799 L -94.47360318472667,45.82255198285967 L -94.473608,45.82265 L -94.47360318472667,45.822748017140334 L -94.4735887852804,45.82284509032202 L -94.47356494033572,45.82294028467726 L -94.4735318795325,45.823032683432366 L -94.47348992126435,45.82312139673683 L -94.4734394696123,45.82320557023302 L -94.47338101045335,45.82328439328417 L -94.47331510678119,45.82335710678119 L -94.47324239328415,45.82342301045337 L -94.47316357023301,45.823481469612304 L -94.47307939673682,45.823531921264355 L -94.47299068343236,45.82357387953252 L -94.47289828467724,45.823606940335736 L -94.472803090322,45.82363078528041 L -94.47270601714033,45.82364518472667 L -94.472608,45.82365 L -94.47250998285966,45.82364518472667 L -94.47241290967798,45.82363078528041 L -94.47231771532275,45.823606940335736 L -94.47222531656763,45.82357387953252 L -94.47213660326317,45.823531921264355 L -94.47205242976698,45.823481469612304 L -94.47197360671584,45.82342301045337 L -94.4719008932188,45.82335710678119 L -94.47183498954664,45.82328439328417 L -94.47177653038769,45.82320557023302 L -94.47172607873564,45.82312139673683 L -94.47168412046749,45.823032683432366 L -94.47165105966427,45.82294028467726 L -94.47162721471959,45.82284509032202 L -94.47161281527332,45.822748017140334 L -94.47160799999999,45.82265 z\" /><path fill-rule=\"evenodd\" fill=\"#66cc99\" stroke=\"#555555\" stroke-width=\"0.06126131520000001\" opacity=\"0.6\" d=\"M -94.484686,45.419097 L -94.48469081527332,45.41899898285967 L -94.4847052147196,45.418901909677984 L -94.48472905966428,45.418806715322745 L -94.4847621204675,45.41871431656764 L -94.48480407873565,45.41862560326317 L -94.4848545303877,45.41854142976698 L -94.48491298954664,45.418462606715835 L -94.48497889321881,45.418389893218816 L -94.48505160671584,45.418323989546636 L -94.48513042976698,45.4182655303877 L -94.48521460326317,45.41821507873565 L -94.48530331656764,45.418173120467486 L -94.48539571532275,45.41814005966427 L -94.48549090967799,45.418116214719596 L -94.48558798285967,45.41810181527333 L -94.485686,45.418097 L -94.48578401714033,45.41810181527333 L -94.48588109032201,45.418116214719596 L -94.48597628467725,45.41814005966427 L -94.48606868343236,45.418173120467486 L -94.48615739673683,45.41821507873565 L -94.48624157023302,45.4182655303877 L -94.48632039328416,45.418323989546636 L -94.4863931067812,45.418389893218816 L -94.48645901045336,45.418462606715835 L -94.48651746961231,45.41854142976698 L -94.48656792126435,45.41862560326317 L -94.48660987953251,45.41871431656764 L -94.48664294033573,45.418806715322745 L -94.4866667852804,45.418901909677984 L -94.48668118472668,45.41899898285967 L -94.486686,45.419097 L -94.48668118472668,45.41919501714033 L -94.4866667852804,45.41929209032202 L -94.48664294033573,45.419387284677256 L -94.48660987953251,45.419479683432364 L -94.48656792126435,45.41956839673683 L -94.48651746961231,45.41965257023302 L -94.48645901045336,45.41973139328417 L -94.4863931067812,45.419804106781186 L -94.48632039328416,45.419870010453366 L -94.48624157023302,45.4199284696123 L -94.48615739673683,45.41997892126435 L -94.48606868343236,45.420020879532515 L -94.48597628467725,45.420053940335734 L -94.48588109032201,45.420077785280405 L -94.48578401714033,45.42009218472667 L -94.485686,45.420097 L -94.48558798285967,45.42009218472667 L -94.48549090967799,45.420077785280405 L -94.48539571532275,45.420053940335734 L -94.48530331656764,45.420020879532515 L -94.48521460326317,45.41997892126435 L -94.48513042976698,45.4199284696123 L -94.48505160671584,45.419870010453366 L -94.48497889321881,45.419804106781186 L -94.48491298954664,45.41973139328417 L -94.4848545303877,45.41965257023302 L -94.48480407873565,45.41956839673683 L -94.4847621204675,45.419479683432364 L -94.48472905966428,45.419387284677256 L -94.4847052147196,45.41929209032202 L -94.48469081527332,45.41919501714033 L -94.484686,45.419097 z\" /><path fill-rule=\"evenodd\" fill=\"#66cc99\" stroke=\"#555555\" stroke-width=\"0.06126131520000001\" opacity=\"0.6\" d=\"M -94.492561,45.905608 L -94.49256581527332,45.90550998285967 L -94.4925802147196,45.905412909677985 L -94.49260405966427,45.905317715322745 L -94.49263712046749,45.90522531656764 L -94.49267907873565,45.90513660326317 L -94.49272953038769,45.90505242976698 L -94.49278798954664,45.904973606715835 L -94.49285389321881,45.904900893218816 L -94.49292660671584,45.904834989546636 L -94.49300542976698,45.9047765303877 L -94.49308960326317,45.90472607873565 L -94.49317831656764,45.904684120467486 L -94.49327071532275,45.90465105966427 L -94.49336590967799,45.904627214719596 L -94.49346298285967,45.90461281527333 L -94.493561,45.904608 L -94.49365901714033,45.90461281527333 L -94.49375609032201,45.904627214719596 L -94.49385128467725,45.90465105966427 L -94.49394368343236,45.904684120467486 L -94.49403239673683,45.90472607873565 L -94.49411657023302,45.9047765303877 L -94.49419539328416,45.904834989546636 L -94.49426810678119,45.904900893218816 L -94.49433401045336,45.904973606715835 L -94.49439246961231,45.90505242976698 L -94.49444292126435,45.90513660326317 L -94.49448487953251,45.90522531656764 L -94.49451794033573,45.905317715322745 L -94.4945417852804,45.905412909677985 L -94.49455618472668,45.90550998285967 L -94.494561,45.905608 L -94.49455618472668,45.90570601714033 L -94.4945417852804,45.90580309032202 L -94.49451794033573,45.90589828467726 L -94.49448487953251,45.905990683432364 L -94.49444292126435,45.90607939673683 L -94.49439246961231,45.90616357023302 L -94.49433401045336,45.90624239328417 L -94.49426810678119,45.906315106781186 L -94.49419539328416,45.906381010453366 L -94.49411657023302,45.9064394696123 L -94.49403239673683,45.90648992126435 L -94.49394368343236,45.906531879532515 L -94.49385128467725,45.906564940335734 L -94.49375609032201,45.906588785280405 L -94.49365901714033,45.90660318472667 L -94.493561,45.906608 L -94.49346298285967,45.90660318472667 L -94.49336590967799,45.906588785280405 L -94.49327071532275,45.906564940335734 L -94.49317831656764,45.906531879532515 L -94.49308960326317,45.90648992126435 L -94.49300542976698,45.9064394696123 L -94.49292660671584,45.906381010453366 L -94.49285389321881,45.906315106781186 L -94.49278798954664,45.90624239328417 L -94.49272953038769,45.90616357023302 L -94.49267907873565,45.90607939673683 L -94.49263712046749,45.905990683432364 L -94.49260405966427,45.90589828467726 L -94.4925802147196,45.90580309032202 L -94.49256581527332,45.90570601714033 L -94.492561,45.905608 z\" /><path fill-rule=\"evenodd\" fill=\"#66cc99\" stroke=\"#555555\" stroke-width=\"0.06126131520000001\" opacity=\"0.6\" d=\"M -94.548672,45.112497 L -94.54867681527332,45.112398982859666 L -94.5486912147196,45.11230190967798 L -94.54871505966427,45.11220671532274 L -94.5487481204675,45.112114316567634 L -94.54879007873565,45.11202560326317 L -94.5488405303877,45.11194142976698 L -94.54889898954664,45.11186260671583 L -94.54896489321881,45.11178989321881 L -94.54903760671584,45.11172398954663 L -94.54911642976698,45.1116655303877 L -94.54920060326317,45.111615078735646 L -94.54928931656764,45.11157312046748 L -94.54938171532275,45.111540059664264 L -94.54947690967799,45.11151621471959 L -94.54957398285967,45.11150181527333 L -94.549672,45.111497 L -94.54977001714033,45.11150181527333 L -94.54986709032201,45.11151621471959 L -94.54996228467725,45.111540059664264 L -94.55005468343236,45.11157312046748 L -94.55014339673683,45.111615078735646 L -94.55022757023302,45.1116655303877 L -94.55030639328416,45.11172398954663 L -94.5503791067812,45.11178989321881 L -94.55044501045336,45.11186260671583 L -94.55050346961231,45.11194142976698 L -94.55055392126435,45.11202560326317 L -94.55059587953251,45.112114316567634 L -94.55062894033573,45.11220671532274 L -94.5506527852804,45.11230190967798 L -94.55066718472668,45.112398982859666 L -94.550672,45.112497 L -94.55066718472668,45.11259501714033 L -94.5506527852804,45.112692090322014 L -94.55062894033573,45.11278728467725 L -94.55059587953251,45.11287968343236 L -94.55055392126435,45.112968396736825 L -94.55050346961231,45.113052570233016 L -94.55044501045336,45.11313139328416 L -94.5503791067812,45.11320410678118 L -94.55030639328416,45.11327001045336 L -94.55022757023302,45.1133284696123 L -94.55014339673683,45.11337892126435 L -94.55005468343236,45.11342087953251 L -94.54996228467725,45.11345394033573 L -94.54986709032201,45.1134777852804 L -94.54977001714033,45.11349218472667 L -94.549672,45.113496999999995 L -94.54957398285967,45.11349218472667 L -94.54947690967799,45.1134777852804 L -94.54938171532275,45.11345394033573 L -94.54928931656764,45.11342087953251 L -94.54920060326317,45.11337892126435 L -94.54911642976698,45.1133284696123 L -94.54903760671584,45.11327001045336 L -94.54896489321881,45.11320410678118 L -94.54889898954664,45.11313139328416 L -94.5488405303877,45.113052570233016 L -94.54879007873565,45.112968396736825 L -94.5487481204675,45.11287968343236 L -94.54871505966427,45.11278728467725 L -94.5486912147196,45.112692090322014 L -94.54867681527332,45.11259501714033 L -94.548672,45.112497 z\" /><path fill-rule=\"evenodd\" fill=\"#66cc99\" stroke=\"#555555\" stroke-width=\"0.06126131520000001\" opacity=\"0.6\" d=\"M -94.55084199999999,44.225133 L -94.55084681527332,44.22503498285967 L -94.55086121471959,44.22493790967798 L -94.55088505966427,44.224842715322744 L -94.55091812046749,44.224750316567636 L -94.55096007873564,44.22466160326317 L -94.55101053038769,44.22457742976698 L -94.55106898954664,44.224498606715834 L -94.5511348932188,44.224425893218815 L -94.55120760671583,44.224359989546635 L -94.55128642976698,44.2243015303877 L -94.55137060326317,44.22425107873565 L -94.55145931656763,44.224209120467485 L -94.55155171532274,44.224176059664266 L -94.55164690967798,44.224152214719595 L -94.55174398285966,44.22413781527333 L -94.551842,44.224133 L -94.55194001714032,44.22413781527333 L -94.552037090322,44.224152214719595 L -94.55213228467724,44.224176059664266 L -94.55222468343236,44.224209120467485 L -94.55231339673682,44.22425107873565 L -94.55239757023301,44.2243015303877 L -94.55247639328415,44.224359989546635 L -94.55254910678119,44.224425893218815 L -94.55261501045335,44.224498606715834 L -94.5526734696123,44.22457742976698 L -94.55272392126435,44.22466160326317 L -94.5527658795325,44.224750316567636 L -94.55279894033572,44.224842715322744 L -94.5528227852804,44.22493790967798 L -94.55283718472667,44.22503498285967 L -94.552842,44.225133 L -94.55283718472667,44.22523101714033 L -94.5528227852804,44.225328090322016 L -94.55279894033572,44.225423284677255 L -94.5527658795325,44.22551568343236 L -94.55272392126435,44.22560439673683 L -94.5526734696123,44.22568857023302 L -94.55261501045335,44.225767393284166 L -94.55254910678119,44.225840106781185 L -94.55247639328415,44.225906010453365 L -94.55239757023301,44.2259644696123 L -94.55231339673682,44.22601492126435 L -94.55222468343236,44.226056879532514 L -94.55213228467724,44.22608994033573 L -94.552037090322,44.226113785280404 L -94.55194001714032,44.22612818472667 L -94.551842,44.226133 L -94.55174398285966,44.22612818472667 L -94.55164690967798,44.226113785280404 L -94.55155171532274,44.22608994033573 L -94.55145931656763,44.226056879532514 L -94.55137060326317,44.22601492126435 L -94.55128642976698,44.2259644696123 L -94.55120760671583,44.225906010453365 L -94.5511348932188,44.225840106781185 L -94.55106898954664,44.225767393284166 L -94.55101053038769,44.22568857023302 L -94.55096007873564,44.22560439673683 L -94.55091812046749,44.22551568343236 L -94.55088505966427,44.225423284677255 L -94.55086121471959,44.225328090322016 L -94.55084681527332,44.22523101714033 L -94.55084199999999,44.225133 z\" /><path fill-rule=\"evenodd\" fill=\"#66cc99\" stroke=\"#555555\" stroke-width=\"0.06126131520000001\" opacity=\"0.6\" d=\"M -94.562294,44.960556 L -94.56229881527332,44.960457982859666 L -94.5623132147196,44.96036090967798 L -94.56233705966427,44.96026571532274 L -94.56237012046749,44.960173316567634 L -94.56241207873565,44.96008460326317 L -94.56246253038769,44.96000042976698 L -94.56252098954664,44.95992160671583 L -94.5625868932188,44.95984889321881 L -94.56265960671584,44.95978298954663 L -94.56273842976698,44.959724530387696 L -94.56282260326317,44.959674078735645 L -94.56291131656764,44.95963212046748 L -94.56300371532275,44.959599059664264 L -94.56309890967799,44.95957521471959 L -94.56319598285967,44.95956081527333 L -94.563294,44.959556 L -94.56339201714033,44.95956081527333 L -94.56348909032201,44.95957521471959 L -94.56358428467725,44.959599059664264 L -94.56367668343236,44.95963212046748 L -94.56376539673683,44.959674078735645 L -94.56384957023302,44.959724530387696 L -94.56392839328416,44.95978298954663 L -94.56400110678119,44.95984889321881 L -94.56406701045336,44.95992160671583 L -94.5641254696123,44.96000042976698 L -94.56417592126435,44.96008460326317 L -94.5642178795325,44.960173316567634 L -94.56425094033573,44.96026571532274 L -94.5642747852804,44.96036090967798 L -94.56428918472668,44.960457982859666 L -94.564294,44.960556 L -94.56428918472668,44.96065401714033 L -94.5642747852804,44.96075109032201 L -94.56425094033573,44.96084628467725 L -94.5642178795325,44.96093868343236 L -94.56417592126435,44.961027396736824 L -94.5641254696123,44.961111570233015 L -94.56406701045336,44.96119039328416 L -94.56400110678119,44.96126310678118 L -94.56392839328416,44.96132901045336 L -94.56384957023302,44.9613874696123 L -94.56376539673683,44.96143792126435 L -94.56367668343236,44.96147987953251 L -94.56358428467725,44.96151294033573 L -94.56348909032201,44.9615367852804 L -94.56339201714033,44.961551184726666 L -94.563294,44.961555999999995 L -94.56319598285967,44.961551184726666 L -94.56309890967799,44.9615367852804 L -94.56300371532275,44.96151294033573 L -94.56291131656764,44.96147987953251 L -94.56282260326317,44.96143792126435 L -94.56273842976698,44.9613874696123 L -94.56265960671584,44.96132901045336 L -94.5625868932188,44.96126310678118 L -94.56252098954664,44.96119039328416 L -94.56246253038769,44.961111570233015 L -94.56241207873565,44.961027396736824 L -94.56237012046749,44.96093868343236 L -94.56233705966427,44.96084628467725 L -94.5623132147196,44.96075109032201 L -94.56229881527332,44.96065401714033 L -94.562294,44.960556 z\" /><path fill-rule=\"evenodd\" fill=\"#66cc99\" stroke=\"#555555\" stroke-width=\"0.06126131520000001\" opacity=\"0.6\" d=\"M -94.57659199999999,45.259069 L -94.57659681527332,45.258970982859665 L -94.57661121471959,45.25887390967798 L -94.57663505966427,45.25877871532274 L -94.57666812046749,45.25868631656763 L -94.57671007873564,45.25859760326317 L -94.57676053038769,45.25851342976698 L -94.57681898954664,45.25843460671583 L -94.5768848932188,45.25836189321881 L -94.57695760671584,45.25829598954663 L -94.57703642976698,45.258237530387696 L -94.57712060326317,45.258187078735645 L -94.57720931656763,45.25814512046748 L -94.57730171532275,45.25811205966426 L -94.57739690967799,45.25808821471959 L -94.57749398285966,45.25807381527333 L -94.577592,45.258069 L -94.57769001714033,45.25807381527333 L -94.577787090322,45.25808821471959 L -94.57788228467724,45.25811205966426 L -94.57797468343236,45.25814512046748 L -94.57806339673682,45.258187078735645 L -94.57814757023301,45.258237530387696 L -94.57822639328415,45.25829598954663 L -94.57829910678119,45.25836189321881 L -94.57836501045335,45.25843460671583 L -94.5784234696123,45.25851342976698 L -94.57847392126435,45.25859760326317 L -94.5785158795325,45.25868631656763 L -94.57854894033572,45.25877871532274 L -94.5785727852804,45.25887390967798 L -94.57858718472667,45.258970982859665 L -94.578592,45.259069 L -94.57858718472667,45.25916701714033 L -94.5785727852804,45.25926409032201 L -94.57854894033572,45.25935928467725 L -94.5785158795325,45.25945168343236 L -94.57847392126435,45.259540396736824 L -94.5784234696123,45.259624570233015 L -94.57836501045335,45.25970339328416 L -94.57829910678119,45.25977610678118 L -94.57822639328415,45.25984201045336 L -94.57814757023301,45.2599004696123 L -94.57806339673682,45.25995092126435 L -94.57797468343236,45.25999287953251 L -94.57788228467724,45.26002594033573 L -94.577787090322,45.2600497852804 L -94.57769001714033,45.260064184726666 L -94.577592,45.260068999999994 L -94.57749398285966,45.260064184726666 L -94.57739690967799,45.2600497852804 L -94.57730171532275,45.26002594033573 L -94.57720931656763,45.25999287953251 L -94.57712060326317,45.25995092126435 L -94.57703642976698,45.2599004696123 L -94.57695760671584,45.25984201045336 L -94.5768848932188,45.25977610678118 L -94.57681898954664,45.25970339328416 L -94.57676053038769,45.259624570233015 L -94.57671007873564,45.259540396736824 L -94.57666812046749,45.25945168343236 L -94.57663505966427,45.25935928467725 L -94.57661121471959,45.25926409032201 L -94.57659681527332,45.25916701714033 L -94.57659199999999,45.259069 z\" /><path fill-rule=\"evenodd\" fill=\"#66cc99\" stroke=\"#555555\" stroke-width=\"0.06126131520000001\" opacity=\"0.6\" d=\"M -94.57844399999999,44.755386 L -94.57844881527332,44.75528798285967 L -94.57846321471959,44.755190909677985 L -94.57848705966427,44.755095715322746 L -94.57852012046749,44.75500331656764 L -94.57856207873564,44.754914603263174 L -94.57861253038769,44.75483042976698 L -94.57867098954664,44.754751606715836 L -94.5787368932188,44.754678893218816 L -94.57880960671584,44.75461298954664 L -94.57888842976698,44.7545545303877 L -94.57897260326317,44.75450407873565 L -94.57906131656763,44.75446212046749 L -94.57915371532275,44.75442905966427 L -94.57924890967799,44.7544052147196 L -94.57934598285966,44.75439081527333 L -94.579444,44.754386000000004 L -94.57954201714033,44.75439081527333 L -94.579639090322,44.7544052147196 L -94.57973428467724,44.75442905966427 L -94.57982668343236,44.75446212046749 L -94.57991539673682,44.75450407873565 L -94.57999957023301,44.7545545303877 L -94.58007839328415,44.75461298954664 L -94.58015110678119,44.754678893218816 L -94.58021701045335,44.754751606715836 L -94.5802754696123,44.75483042976698 L -94.58032592126435,44.754914603263174 L -94.5803678795325,44.75500331656764 L -94.58040094033572,44.755095715322746 L -94.5804247852804,44.755190909677985 L -94.58043918472667,44.75528798285967 L -94.580444,44.755386 L -94.58043918472667,44.75548401714033 L -94.5804247852804,44.75558109032202 L -94.58040094033572,44.75567628467726 L -94.5803678795325,44.755768683432365 L -94.58032592126435,44.75585739673683 L -94.5802754696123,44.75594157023302 L -94.58021701045335,44.75602039328417 L -94.58015110678119,44.75609310678119 L -94.58007839328415,44.756159010453366 L -94.57999957023301,44.7562174696123 L -94.57991539673682,44.75626792126435 L -94.57982668343236,44.756309879532516 L -94.57973428467724,44.756342940335735 L -94.579639090322,44.756366785280406 L -94.57954201714033,44.75638118472667 L -94.579444,44.756386 L -94.57934598285966,44.75638118472667 L -94.57924890967799,44.756366785280406 L -94.57915371532275,44.756342940335735 L -94.57906131656763,44.756309879532516 L -94.57897260326317,44.75626792126435 L -94.57888842976698,44.7562174696123 L -94.57880960671584,44.756159010453366 L -94.5787368932188,44.75609310678119 L -94.57867098954664,44.75602039328417 L -94.57861253038769,44.75594157023302 L -94.57856207873564,44.75585739673683 L -94.57852012046749,44.755768683432365 L -94.57848705966427,44.75567628467726 L -94.57846321471959,44.75558109032202 L -94.57844881527332,44.75548401714033 L -94.57844399999999,44.755386 z\" /><path fill-rule=\"evenodd\" fill=\"#66cc99\" stroke=\"#555555\" stroke-width=\"0.06126131520000001\" opacity=\"0.6\" d=\"M -94.587508,44.064022 L -94.58751281527333,44.06392398285967 L -94.5875272147196,44.063826909677985 L -94.58755105966428,44.063731715322746 L -94.5875841204675,44.06363931656764 L -94.58762607873565,44.063550603263174 L -94.5876765303877,44.06346642976698 L -94.58773498954665,44.063387606715835 L -94.58780089321881,44.063314893218816 L -94.58787360671585,44.063248989546636 L -94.58795242976699,44.0631905303877 L -94.58803660326318,44.06314007873565 L -94.58812531656764,44.06309812046749 L -94.58821771532276,44.06306505966427 L -94.588312909678,44.0630412147196 L -94.58840998285967,44.06302681527333 L -94.588508,44.063022000000004 L -94.58860601714034,44.06302681527333 L -94.58870309032201,44.0630412147196 L -94.58879828467725,44.06306505966427 L -94.58889068343237,44.06309812046749 L -94.58897939673683,44.06314007873565 L -94.58906357023302,44.0631905303877 L -94.58914239328416,44.063248989546636 L -94.5892151067812,44.063314893218816 L -94.58928101045336,44.063387606715835 L -94.58933946961231,44.06346642976698 L -94.58938992126436,44.063550603263174 L -94.58943187953251,44.06363931656764 L -94.58946494033573,44.063731715322746 L -94.58948878528041,44.063826909677985 L -94.58950318472668,44.06392398285967 L -94.58950800000001,44.064022 L -94.58950318472668,44.06412001714033 L -94.58948878528041,44.06421709032202 L -94.58946494033573,44.06431228467726 L -94.58943187953251,44.064404683432365 L -94.58938992126436,44.06449339673683 L -94.58933946961231,44.06457757023302 L -94.58928101045336,44.06465639328417 L -94.5892151067812,44.064729106781186 L -94.58914239328416,44.064795010453366 L -94.58906357023302,44.0648534696123 L -94.58897939673683,44.06490392126435 L -94.58889068343237,44.064945879532516 L -94.58879828467725,44.064978940335735 L -94.58870309032201,44.065002785280406 L -94.58860601714034,44.06501718472667 L -94.588508,44.065022 L -94.58840998285967,44.06501718472667 L -94.588312909678,44.065002785280406 L -94.58821771532276,44.064978940335735 L -94.58812531656764,44.064945879532516 L -94.58803660326318,44.06490392126435 L -94.58795242976699,44.0648534696123 L -94.58787360671585,44.064795010453366 L -94.58780089321881,44.064729106781186 L -94.58773498954665,44.06465639328417 L -94.5876765303877,44.06457757023302 L -94.58762607873565,44.06449339673683 L -94.5875841204675,44.064404683432365 L -94.58755105966428,44.06431228467726 L -94.5875272147196,44.06421709032202 L -94.58751281527333,44.06412001714033 L -94.587508,44.064022 z\" /><path fill-rule=\"evenodd\" fill=\"#66cc99\" stroke=\"#555555\" stroke-width=\"0.06126131520000001\" opacity=\"0.6\" d=\"M -94.592147,44.207272 L -94.59215181527333,44.20717398285967 L -94.5921662147196,44.20707690967799 L -94.59219005966428,44.20698171532275 L -94.5922231204675,44.20688931656764 L -94.59226507873565,44.206800603263176 L -94.5923155303877,44.206716429766985 L -94.59237398954664,44.20663760671584 L -94.59243989321881,44.20656489321882 L -94.59251260671584,44.20649898954664 L -94.59259142976698,44.2064405303877 L -94.59267560326317,44.20639007873565 L -94.59276431656764,44.20634812046749 L -94.59285671532275,44.20631505966427 L -94.59295190967799,44.2062912147196 L -94.59304898285967,44.206276815273334 L -94.593147,44.206272000000006 L -94.59324501714033,44.206276815273334 L -94.59334209032201,44.2062912147196 L -94.59343728467725,44.20631505966427 L -94.59352968343237,44.20634812046749 L -94.59361839673683,44.20639007873565 L -94.59370257023302,44.2064405303877 L -94.59378139328416,44.20649898954664 L -94.5938541067812,44.20656489321882 L -94.59392001045336,44.20663760671584 L -94.59397846961231,44.206716429766985 L -94.59402892126435,44.206800603263176 L -94.59407087953251,44.20688931656764 L -94.59410394033573,44.20698171532275 L -94.5941277852804,44.20707690967799 L -94.59414218472668,44.20717398285967 L -94.594147,44.207272 L -94.59414218472668,44.207370017140335 L -94.5941277852804,44.20746709032202 L -94.59410394033573,44.20756228467726 L -94.59407087953251,44.20765468343237 L -94.59402892126435,44.20774339673683 L -94.59397846961231,44.20782757023302 L -94.59392001045336,44.20790639328417 L -94.5938541067812,44.20797910678119 L -94.59378139328416,44.20804501045337 L -94.59370257023302,44.208103469612304 L -94.59361839673683,44.208153921264355 L -94.59352968343237,44.20819587953252 L -94.59343728467725,44.20822894033574 L -94.59334209032201,44.20825278528041 L -94.59324501714033,44.20826718472667 L -94.593147,44.208272 L -94.59304898285967,44.20826718472667 L -94.59295190967799,44.20825278528041 L -94.59285671532275,44.20822894033574 L -94.59276431656764,44.20819587953252 L -94.59267560326317,44.208153921264355 L -94.59259142976698,44.208103469612304 L -94.59251260671584,44.20804501045337 L -94.59243989321881,44.20797910678119 L -94.59237398954664,44.20790639328417 L -94.5923155303877,44.20782757023302 L -94.59226507873565,44.20774339673683 L -94.5922231204675,44.20765468343237 L -94.59219005966428,44.20756228467726 L -94.5921662147196,44.20746709032202 L -94.59215181527333,44.207370017140335 L -94.592147,44.207272 z\" /><path fill-rule=\"evenodd\" fill=\"#66cc99\" stroke=\"#555555\" stroke-width=\"0.06126131520000001\" opacity=\"0.6\" d=\"M -94.62299999999999,43.984661 L -94.62300481527332,43.98456298285967 L -94.62301921471959,43.984465909677986 L -94.62304305966427,43.98437071532275 L -94.62307612046749,43.98427831656764 L -94.62311807873564,43.984189603263175 L -94.62316853038769,43.984105429766984 L -94.62322698954664,43.98402660671584 L -94.6232928932188,43.98395389321882 L -94.62336560671584,43.98388798954664 L -94.62344442976698,43.9838295303877 L -94.62352860326317,43.98377907873565 L -94.62361731656763,43.98373712046749 L -94.62370971532275,43.98370405966427 L -94.62380490967799,43.9836802147196 L -94.62390198285966,43.98366581527333 L -94.624,43.983661000000005 L -94.62409801714033,43.98366581527333 L -94.624195090322,43.9836802147196 L -94.62429028467724,43.98370405966427 L -94.62438268343236,43.98373712046749 L -94.62447139673682,43.98377907873565 L -94.62455557023301,43.9838295303877 L -94.62463439328415,43.98388798954664 L -94.62470710678119,43.98395389321882 L -94.62477301045335,43.98402660671584 L -94.6248314696123,43.984105429766984 L -94.62488192126435,43.984189603263175 L -94.6249238795325,43.98427831656764 L -94.62495694033572,43.98437071532275 L -94.6249807852804,43.984465909677986 L -94.62499518472667,43.98456298285967 L -94.625,43.984661 L -94.62499518472667,43.984759017140334 L -94.6249807852804,43.98485609032202 L -94.62495694033572,43.98495128467726 L -94.6249238795325,43.985043683432366 L -94.62488192126435,43.98513239673683 L -94.6248314696123,43.98521657023302 L -94.62477301045335,43.98529539328417 L -94.62470710678119,43.98536810678119 L -94.62463439328415,43.98543401045337 L -94.62455557023301,43.9854924696123 L -94.62447139673682,43.985542921264354 L -94.62438268343236,43.98558487953252 L -94.62429028467724,43.985617940335736 L -94.624195090322,43.98564178528041 L -94.62409801714033,43.98565618472667 L -94.624,43.985661 L -94.62390198285966,43.98565618472667 L -94.62380490967799,43.98564178528041 L -94.62370971532275,43.985617940335736 L -94.62361731656763,43.98558487953252 L -94.62352860326317,43.985542921264354 L -94.62344442976698,43.9854924696123 L -94.62336560671584,43.98543401045337 L -94.6232928932188,43.98536810678119 L -94.62322698954664,43.98529539328417 L -94.62316853038769,43.98521657023302 L -94.62311807873564,43.98513239673683 L -94.62307612046749,43.985043683432366 L -94.62304305966427,43.98495128467726 L -94.62301921471959,43.98485609032202 L -94.62300481527332,43.984759017140334 L -94.62299999999999,43.984661 z\" /><path fill-rule=\"evenodd\" fill=\"#66cc99\" stroke=\"#555555\" stroke-width=\"0.06126131520000001\" opacity=\"0.6\" d=\"M -94.62838599999999,44.687711 L -94.62839081527332,44.68761298285967 L -94.62840521471959,44.687515909677984 L -94.62842905966427,44.687420715322745 L -94.62846212046749,44.68732831656764 L -94.62850407873565,44.68723960326317 L -94.62855453038769,44.68715542976698 L -94.62861298954664,44.687076606715834 L -94.6286788932188,44.687003893218815 L -94.62875160671584,44.686937989546635 L -94.62883042976698,44.6868795303877 L -94.62891460326317,44.68682907873565 L -94.62900331656763,44.686787120467486 L -94.62909571532275,44.68675405966427 L -94.62919090967799,44.686730214719596 L -94.62928798285967,44.68671581527333 L -94.629386,44.686711 L -94.62948401714033,44.68671581527333 L -94.629581090322,44.686730214719596 L -94.62967628467725,44.68675405966427 L -94.62976868343236,44.686787120467486 L -94.62985739673682,44.68682907873565 L -94.62994157023302,44.6868795303877 L -94.63002039328416,44.686937989546635 L -94.63009310678119,44.687003893218815 L -94.63015901045335,44.687076606715834 L -94.6302174696123,44.68715542976698 L -94.63026792126435,44.68723960326317 L -94.6303098795325,44.68732831656764 L -94.63034294033572,44.687420715322745 L -94.6303667852804,44.687515909677984 L -94.63038118472667,44.68761298285967 L -94.630386,44.687711 L -94.63038118472667,44.68780901714033 L -94.6303667852804,44.687906090322016 L -94.63034294033572,44.688001284677256 L -94.6303098795325,44.68809368343236 L -94.63026792126435,44.68818239673683 L -94.6302174696123,44.68826657023302 L -94.63015901045335,44.688345393284166 L -94.63009310678119,44.688418106781185 L -94.63002039328416,44.688484010453365 L -94.62994157023302,44.6885424696123 L -94.62985739673682,44.68859292126435 L -94.62976868343236,44.688634879532515 L -94.62967628467725,44.68866794033573 L -94.629581090322,44.688691785280405 L -94.62948401714033,44.68870618472667 L -94.629386,44.688711 L -94.62928798285967,44.68870618472667 L -94.62919090967799,44.688691785280405 L -94.62909571532275,44.68866794033573 L -94.62900331656763,44.688634879532515 L -94.62891460326317,44.68859292126435 L -94.62883042976698,44.6885424696123 L -94.62875160671584,44.688484010453365 L -94.6286788932188,44.688418106781185 L -94.62861298954664,44.688345393284166 L -94.62855453038769,44.68826657023302 L -94.62850407873565,44.68818239673683 L -94.62846212046749,44.68809368343236 L -94.62842905966427,44.688001284677256 L -94.62840521471959,44.687906090322016 L -94.62839081527332,44.68780901714033 L -94.62838599999999,44.687711 z\" /><path fill-rule=\"evenodd\" fill=\"#66cc99\" stroke=\"#555555\" stroke-width=\"0.06126131520000001\" opacity=\"0.6\" d=\"M -94.638983,45.441008 L -94.63898781527332,45.440909982859665 L -94.6390022147196,45.44081290967798 L -94.63902605966427,45.44071771532274 L -94.6390591204675,45.44062531656763 L -94.63910107873565,45.44053660326317 L -94.6391515303877,45.44045242976698 L -94.63920998954664,45.44037360671583 L -94.63927589321881,45.44030089321881 L -94.63934860671584,45.44023498954663 L -94.63942742976698,45.440176530387696 L -94.63951160326317,45.440126078735645 L -94.63960031656764,45.44008412046748 L -94.63969271532275,45.44005105966426 L -94.63978790967799,45.44002721471959 L -94.63988498285967,45.44001281527333 L -94.639983,45.440008 L -94.64008101714033,45.44001281527333 L -94.64017809032201,45.44002721471959 L -94.64027328467725,45.44005105966426 L -94.64036568343236,45.44008412046748 L -94.64045439673683,45.440126078735645 L -94.64053857023302,45.440176530387696 L -94.64061739328416,45.44023498954663 L -94.6406901067812,45.44030089321881 L -94.64075601045336,45.44037360671583 L -94.64081446961231,45.44045242976698 L -94.64086492126435,45.44053660326317 L -94.64090687953251,45.44062531656763 L -94.64093994033573,45.44071771532274 L -94.6409637852804,45.44081290967798 L -94.64097818472668,45.440909982859665 L -94.640983,45.441008 L -94.64097818472668,45.44110601714033 L -94.6409637852804,45.44120309032201 L -94.64093994033573,45.44129828467725 L -94.64090687953251,45.44139068343236 L -94.64086492126435,45.441479396736824 L -94.64081446961231,45.441563570233015 L -94.64075601045336,45.44164239328416 L -94.6406901067812,45.44171510678118 L -94.64061739328416,45.44178101045336 L -94.64053857023302,45.4418394696123 L -94.64045439673683,45.44188992126435 L -94.64036568343236,45.44193187953251 L -94.64027328467725,45.44196494033573 L -94.64017809032201,45.4419887852804 L -94.64008101714033,45.442003184726666 L -94.639983,45.442007999999994 L -94.63988498285967,45.442003184726666 L -94.63978790967799,45.4419887852804 L -94.63969271532275,45.44196494033573 L -94.63960031656764,45.44193187953251 L -94.63951160326317,45.44188992126435 L -94.63942742976698,45.4418394696123 L -94.63934860671584,45.44178101045336 L -94.63927589321881,45.44171510678118 L -94.63920998954664,45.44164239328416 L -94.6391515303877,45.441563570233015 L -94.63910107873565,45.441479396736824 L -94.6390591204675,45.44139068343236 L -94.63902605966427,45.44129828467725 L -94.6390022147196,45.44120309032201 L -94.63898781527332,45.44110601714033 L -94.638983,45.441008 z\" /></g></g></svg>",
      "text/plain": [
       "<shapely.geometry.multipolygon.MultiPolygon at 0x1b1a4028d90>"
      ]
     },
     "execution_count": 529,
     "metadata": {},
     "output_type": "execute_result"
    }
   ],
   "source": [
    "restristedPointList.buffer(0.001)"
   ]
  },
  {
   "cell_type": "code",
   "execution_count": 560,
   "metadata": {},
   "outputs": [
    {
     "name": "stderr",
     "output_type": "stream",
     "text": [
      "c:\\Users\\mingzhou\\anaconda3\\lib\\site-packages\\ipykernel\\ipkernel.py:287: DeprecationWarning:\n",
      "\n",
      "`should_run_async` will not call `transform_cell` automatically in the future. Please pass the result to `transformed_cell` argument and any exception that happen during thetransform in `preprocessing_exc_tuple` in IPython 7.17 and above.\n",
      "\n"
     ]
    }
   ],
   "source": [
    "# remove the segments intersected with restricted point\n",
    "def isBlackList(arraylike):\n",
    "    return (restristedPointList.intersects(arraylike['geometry'].buffer(0.0001))) "
   ]
  },
  {
   "cell_type": "code",
   "execution_count": 531,
   "metadata": {},
   "outputs": [
    {
     "name": "stderr",
     "output_type": "stream",
     "text": [
      "<ipython-input-531-3b8e569aaa6d>:1: ShapelyDeprecationWarning:\n",
      "\n",
      "__getitem__ for multi-part geometries is deprecated and will be removed in Shapely 2.0. Use the `geoms` property to access the constituent parts of a multi-part geometry.\n",
      "\n"
     ]
    },
    {
     "data": {
      "image/svg+xml": "<svg xmlns=\"http://www.w3.org/2000/svg\" xmlns:xlink=\"http://www.w3.org/1999/xlink\" width=\"100.0\" height=\"100.0\" viewBox=\"-94.417939 44.402922 2.0 2.0\" preserveAspectRatio=\"xMinYMin meet\"><g transform=\"matrix(1,0,0,-1,0,90.805844)\"><circle cx=\"-93.417939\" cy=\"45.402922\" r=\"0.06\" stroke=\"#555555\" stroke-width=\"0.02\" fill=\"#66cc99\" opacity=\"0.6\" /></g></svg>",
      "text/plain": [
       "<shapely.geometry.point.Point at 0x1b197e3a8e0>"
      ]
     },
     "execution_count": 531,
     "metadata": {},
     "output_type": "execute_result"
    }
   ],
   "source": [
    "restristedPointList[0]"
   ]
  },
  {
   "cell_type": "code",
   "execution_count": 563,
   "metadata": {},
   "outputs": [
    {
     "name": "stderr",
     "output_type": "stream",
     "text": [
      "c:\\Users\\mingzhou\\anaconda3\\lib\\site-packages\\ipykernel\\ipkernel.py:287: DeprecationWarning:\n",
      "\n",
      "`should_run_async` will not call `transform_cell` automatically in the future. Please pass the result to `transformed_cell` argument and any exception that happen during thetransform in `preprocessing_exc_tuple` in IPython 7.17 and above.\n",
      "\n"
     ]
    }
   ],
   "source": [
    "edges['isBlackList'] = edges.apply(isBlackList, axis=1)"
   ]
  },
  {
   "cell_type": "code",
   "execution_count": 564,
   "metadata": {},
   "outputs": [
    {
     "data": {
      "text/plain": [
       "595"
      ]
     },
     "execution_count": 564,
     "metadata": {},
     "output_type": "execute_result"
    }
   ],
   "source": [
    "len(edges[edges['isBlackList']])"
   ]
  },
  {
   "cell_type": "code",
   "execution_count": 567,
   "metadata": {},
   "outputs": [
    {
     "name": "stderr",
     "output_type": "stream",
     "text": [
      "c:\\Users\\mingzhou\\anaconda3\\lib\\site-packages\\ipykernel\\ipkernel.py:287: DeprecationWarning:\n",
      "\n",
      "`should_run_async` will not call `transform_cell` automatically in the future. Please pass the result to `transformed_cell` argument and any exception that happen during thetransform in `preprocessing_exc_tuple` in IPython 7.17 and above.\n",
      "\n"
     ]
    },
    {
     "data": {
      "text/plain": [
       "Int64Index([255, 257, 258, 259, 260], dtype='int64')"
      ]
     },
     "execution_count": 567,
     "metadata": {},
     "output_type": "execute_result"
    }
   ],
   "source": [
    "edges[edges['isBlackList']].head().index"
   ]
  },
  {
   "cell_type": "code",
   "execution_count": 574,
   "metadata": {},
   "outputs": [],
   "source": [
    "matchedSegList = [[x] for x in edges[edges['isBlackList']].index]"
   ]
  },
  {
   "cell_type": "code",
   "execution_count": 578,
   "metadata": {},
   "outputs": [
    {
     "name": "stderr",
     "output_type": "stream",
     "text": [
      "c:\\Users\\mingzhou\\anaconda3\\lib\\site-packages\\ipykernel\\ipkernel.py:287: DeprecationWarning:\n",
      "\n",
      "`should_run_async` will not call `transform_cell` automatically in the future. Please pass the result to `transformed_cell` argument and any exception that happen during thetransform in `preprocessing_exc_tuple` in IPython 7.17 and above.\n",
      "\n"
     ]
    }
   ],
   "source": [
    "blackSegSet_bridge = set(edges[edges['isBlackList']].index)"
   ]
  },
  {
   "cell_type": "code",
   "execution_count": 579,
   "metadata": {},
   "outputs": [
    {
     "name": "stderr",
     "output_type": "stream",
     "text": [
      "c:\\Users\\mingzhou\\anaconda3\\lib\\site-packages\\ipykernel\\ipkernel.py:287: DeprecationWarning:\n",
      "\n",
      "`should_run_async` will not call `transform_cell` automatically in the future. Please pass the result to `transformed_cell` argument and any exception that happen during thetransform in `preprocessing_exc_tuple` in IPython 7.17 and above.\n",
      "\n"
     ]
    },
    {
     "data": {
      "text/plain": [
       "595"
      ]
     },
     "execution_count": 579,
     "metadata": {},
     "output_type": "execute_result"
    }
   ],
   "source": [
    "len(blackSegSet_bridge)"
   ]
  },
  {
   "cell_type": "code",
   "execution_count": 575,
   "metadata": {},
   "outputs": [
    {
     "name": "stderr",
     "output_type": "stream",
     "text": [
      "c:\\Users\\mingzhou\\anaconda3\\lib\\site-packages\\ipykernel\\ipkernel.py:287: DeprecationWarning:\n",
      "\n",
      "`should_run_async` will not call `transform_cell` automatically in the future. Please pass the result to `transformed_cell` argument and any exception that happen during thetransform in `preprocessing_exc_tuple` in IPython 7.17 and above.\n",
      "\n"
     ]
    },
    {
     "data": {
      "text/plain": [
       "[[255],\n",
       " [257],\n",
       " [258],\n",
       " [259],\n",
       " [260],\n",
       " [559],\n",
       " [561],\n",
       " [726],\n",
       " [859],\n",
       " [918],\n",
       " [1308],\n",
       " [3157],\n",
       " [3259],\n",
       " [3320],\n",
       " [3342],\n",
       " [3473],\n",
       " [3476],\n",
       " [3668],\n",
       " [4321],\n",
       " [4375],\n",
       " [5123],\n",
       " [5152],\n",
       " [5158],\n",
       " [5183],\n",
       " [5276],\n",
       " [5279],\n",
       " [5464],\n",
       " [5676],\n",
       " [5679],\n",
       " [5842],\n",
       " [5939],\n",
       " [5944],\n",
       " [5971],\n",
       " [6101],\n",
       " [6133],\n",
       " [6148],\n",
       " [6327],\n",
       " [6364],\n",
       " [6382],\n",
       " [6406],\n",
       " [6410],\n",
       " [7725],\n",
       " [8688],\n",
       " [9076],\n",
       " [9077],\n",
       " [9378],\n",
       " [9949],\n",
       " [42384],\n",
       " [42388],\n",
       " [42435],\n",
       " [42438],\n",
       " [42451],\n",
       " [42455],\n",
       " [42490],\n",
       " [42495],\n",
       " [42890],\n",
       " [42896],\n",
       " [42990],\n",
       " [43186],\n",
       " [43559],\n",
       " [43575],\n",
       " [43591],\n",
       " [43763],\n",
       " [43776],\n",
       " [43877],\n",
       " [44029],\n",
       " [44173],\n",
       " [44491],\n",
       " [44556],\n",
       " [44569],\n",
       " [44628],\n",
       " [44703],\n",
       " [44741],\n",
       " [44816],\n",
       " [44838],\n",
       " [44849],\n",
       " [44853],\n",
       " [44929],\n",
       " [44932],\n",
       " [44974],\n",
       " [45022],\n",
       " [45057],\n",
       " [45180],\n",
       " [45212],\n",
       " [45385],\n",
       " [45491],\n",
       " [45593],\n",
       " [45741],\n",
       " [46263],\n",
       " [46542],\n",
       " [46564],\n",
       " [46568],\n",
       " [46710],\n",
       " [46767],\n",
       " [46772],\n",
       " [46914],\n",
       " [46991],\n",
       " [47115],\n",
       " [47465],\n",
       " [47574],\n",
       " [47597],\n",
       " [47651],\n",
       " [47851],\n",
       " [51376],\n",
       " [51453],\n",
       " [51456],\n",
       " [55086],\n",
       " [55760],\n",
       " [65026],\n",
       " [66201],\n",
       " [66340],\n",
       " [66724],\n",
       " [66908],\n",
       " [67477],\n",
       " [67586],\n",
       " [67676],\n",
       " [67894],\n",
       " [67908],\n",
       " [67915],\n",
       " [68353],\n",
       " [68793],\n",
       " [69094],\n",
       " [69429],\n",
       " [69528],\n",
       " [69933],\n",
       " [70264],\n",
       " [70267],\n",
       " [70338],\n",
       " [70537],\n",
       " [70694],\n",
       " [70909],\n",
       " [70914],\n",
       " [71039],\n",
       " [71124],\n",
       " [71126],\n",
       " [71418],\n",
       " [71480],\n",
       " [84799],\n",
       " [85524],\n",
       " [85527],\n",
       " [87365],\n",
       " [110097],\n",
       " [110101],\n",
       " [124303],\n",
       " [124353],\n",
       " [129792],\n",
       " [129942],\n",
       " [130093],\n",
       " [130208],\n",
       " [130495],\n",
       " [130497],\n",
       " [130772],\n",
       " [132058],\n",
       " [132064],\n",
       " [132357],\n",
       " [134581],\n",
       " [135072],\n",
       " [135075],\n",
       " [135389],\n",
       " [135479],\n",
       " [135889],\n",
       " [136538],\n",
       " [137222],\n",
       " [137458],\n",
       " [137720],\n",
       " [137768],\n",
       " [137806],\n",
       " [138302],\n",
       " [138385],\n",
       " [138389],\n",
       " [139061],\n",
       " [139064],\n",
       " [139246],\n",
       " [139677],\n",
       " [140930],\n",
       " [141840],\n",
       " [142463],\n",
       " [142700],\n",
       " [143035],\n",
       " [144878],\n",
       " [144889],\n",
       " [147170],\n",
       " [149871],\n",
       " [149872],\n",
       " [149874],\n",
       " [151457],\n",
       " [153394],\n",
       " [154403],\n",
       " [155422],\n",
       " [155748],\n",
       " [158289],\n",
       " [158737],\n",
       " [159687],\n",
       " [159706],\n",
       " [159806],\n",
       " [162191],\n",
       " [163369],\n",
       " [165517],\n",
       " [165520],\n",
       " [166153],\n",
       " [166624],\n",
       " [168616],\n",
       " [170331],\n",
       " [171801],\n",
       " [175998],\n",
       " [176509],\n",
       " [176510],\n",
       " [176512],\n",
       " [177653],\n",
       " [181130],\n",
       " [181132],\n",
       " [183593],\n",
       " [185403],\n",
       " [187926],\n",
       " [189731],\n",
       " [189780],\n",
       " [191139],\n",
       " [192528],\n",
       " [192701],\n",
       " [192750],\n",
       " [193797],\n",
       " [196138],\n",
       " [198362],\n",
       " [198432],\n",
       " [200279],\n",
       " [200579],\n",
       " [201871],\n",
       " [202011],\n",
       " [202262],\n",
       " [202898],\n",
       " [204597],\n",
       " [204684],\n",
       " [206303],\n",
       " [206534],\n",
       " [206562],\n",
       " [206625],\n",
       " [206746],\n",
       " [207808],\n",
       " [208247],\n",
       " [210543],\n",
       " [211598],\n",
       " [215624],\n",
       " [215879],\n",
       " [215897],\n",
       " [215898],\n",
       " [215899],\n",
       " [217881],\n",
       " [218681],\n",
       " [218799],\n",
       " [222124],\n",
       " [222399],\n",
       " [222805],\n",
       " [222851],\n",
       " [223521],\n",
       " [223540],\n",
       " [225908],\n",
       " [226724],\n",
       " [227351],\n",
       " [230088],\n",
       " [231001],\n",
       " [232006],\n",
       " [232769],\n",
       " [233790],\n",
       " [234326],\n",
       " [236213],\n",
       " [237013],\n",
       " [238762],\n",
       " [239155],\n",
       " [240696],\n",
       " [241935],\n",
       " [245064],\n",
       " [245184],\n",
       " [246844],\n",
       " [247667],\n",
       " [247697],\n",
       " [248814],\n",
       " [249082],\n",
       " [250427],\n",
       " [250476],\n",
       " [251070],\n",
       " [251633],\n",
       " [252228],\n",
       " [253585],\n",
       " [254884],\n",
       " [255531],\n",
       " [256494],\n",
       " [256714],\n",
       " [263218],\n",
       " [263222],\n",
       " [265949],\n",
       " [265953],\n",
       " [281656],\n",
       " [284571],\n",
       " [285450],\n",
       " [285827],\n",
       " [286425],\n",
       " [287517],\n",
       " [292300],\n",
       " [292627],\n",
       " [293334],\n",
       " [295600],\n",
       " [297796],\n",
       " [299864],\n",
       " [300639],\n",
       " [301012],\n",
       " [302414],\n",
       " [302753],\n",
       " [303391],\n",
       " [303842],\n",
       " [303864],\n",
       " [304708],\n",
       " [306300],\n",
       " [306303],\n",
       " [310143],\n",
       " [313771],\n",
       " [314906],\n",
       " [314921],\n",
       " [316495],\n",
       " [320587],\n",
       " [322037],\n",
       " [327924],\n",
       " [328303],\n",
       " [328311],\n",
       " [328721],\n",
       " [328727],\n",
       " [328869],\n",
       " [328932],\n",
       " [329844],\n",
       " [329850],\n",
       " [330534],\n",
       " [330535],\n",
       " [331138],\n",
       " [331139],\n",
       " [331746],\n",
       " [331748],\n",
       " [332310],\n",
       " [332502],\n",
       " [332509],\n",
       " [332513],\n",
       " [333650],\n",
       " [333661],\n",
       " [333804],\n",
       " [335811],\n",
       " [336247],\n",
       " [336935],\n",
       " [337934],\n",
       " [339153],\n",
       " [339162],\n",
       " [339308],\n",
       " [339326],\n",
       " [339327],\n",
       " [340396],\n",
       " [340558],\n",
       " [341237],\n",
       " [341788],\n",
       " [341895],\n",
       " [341898],\n",
       " [342914],\n",
       " [342915],\n",
       " [342924],\n",
       " [343887],\n",
       " [344496],\n",
       " [345602],\n",
       " [346951],\n",
       " [347242],\n",
       " [347353],\n",
       " [347475],\n",
       " [347476],\n",
       " [348055],\n",
       " [348150],\n",
       " [348251],\n",
       " [348440],\n",
       " [348744],\n",
       " [348763],\n",
       " [349324],\n",
       " [350346],\n",
       " [350676],\n",
       " [350686],\n",
       " [351803],\n",
       " [351925],\n",
       " [352022],\n",
       " [356342],\n",
       " [362366],\n",
       " [362384],\n",
       " [362427],\n",
       " [362814],\n",
       " [362816],\n",
       " [365404],\n",
       " [368132],\n",
       " [381095],\n",
       " [382928],\n",
       " [382931],\n",
       " [384106],\n",
       " [385684],\n",
       " [391142],\n",
       " [395312],\n",
       " [395857],\n",
       " [399598],\n",
       " [404647],\n",
       " [408142],\n",
       " [408536],\n",
       " [409908],\n",
       " [411146],\n",
       " [411178],\n",
       " [411421],\n",
       " [412402],\n",
       " [412405],\n",
       " [412648],\n",
       " [416565],\n",
       " [418047],\n",
       " [419607],\n",
       " [419611],\n",
       " [420497],\n",
       " [420500],\n",
       " [421309],\n",
       " [421330],\n",
       " [421493],\n",
       " [422126],\n",
       " [422176],\n",
       " [422221],\n",
       " [422820],\n",
       " [423095],\n",
       " [425661],\n",
       " [426063],\n",
       " [426073],\n",
       " [426078],\n",
       " [426750],\n",
       " [427130],\n",
       " [427830],\n",
       " [429836],\n",
       " [430649],\n",
       " [430855],\n",
       " [431818],\n",
       " [432208],\n",
       " [432278],\n",
       " [432371],\n",
       " [432937],\n",
       " [433093],\n",
       " [433236],\n",
       " [433247],\n",
       " [433270],\n",
       " [433347],\n",
       " [434291],\n",
       " [434977],\n",
       " [435210],\n",
       " [436450],\n",
       " [438395],\n",
       " [438622],\n",
       " [439384],\n",
       " [439491],\n",
       " [440953],\n",
       " [441257],\n",
       " [441654],\n",
       " [441990],\n",
       " [442010],\n",
       " [442082],\n",
       " [442087],\n",
       " [442225],\n",
       " [442441],\n",
       " [449449],\n",
       " [449842],\n",
       " [449881],\n",
       " [450763],\n",
       " [451229],\n",
       " [454978],\n",
       " [455958],\n",
       " [459166],\n",
       " [462827],\n",
       " [462830],\n",
       " [465993],\n",
       " [467015],\n",
       " [467021],\n",
       " [467072],\n",
       " [467108],\n",
       " [467590],\n",
       " [468702],\n",
       " [468855],\n",
       " [470381],\n",
       " [472537],\n",
       " [480273],\n",
       " [482726],\n",
       " [482957],\n",
       " [483599],\n",
       " [484137],\n",
       " [485142],\n",
       " [486131],\n",
       " [486194],\n",
       " [486198],\n",
       " [486203],\n",
       " [486209],\n",
       " [486212],\n",
       " [487254],\n",
       " [487283],\n",
       " [488183],\n",
       " [488187],\n",
       " [488508],\n",
       " [490655],\n",
       " [495945],\n",
       " [504273],\n",
       " [504277],\n",
       " [504435],\n",
       " [504440],\n",
       " [504708],\n",
       " [505313],\n",
       " [507483],\n",
       " [507972],\n",
       " [508771],\n",
       " [508776],\n",
       " [508862],\n",
       " [508982],\n",
       " [508986],\n",
       " [509167],\n",
       " [509168],\n",
       " [509405],\n",
       " [509511],\n",
       " [509542],\n",
       " [509586],\n",
       " [510476],\n",
       " [510480],\n",
       " [511041],\n",
       " [511320],\n",
       " [511324],\n",
       " [512426],\n",
       " [513405],\n",
       " [513431],\n",
       " [513632],\n",
       " [513848],\n",
       " [514503],\n",
       " [514659],\n",
       " [514660],\n",
       " [514768],\n",
       " [516295],\n",
       " [516715],\n",
       " [516718],\n",
       " [516798],\n",
       " [517101],\n",
       " [517369],\n",
       " [520452],\n",
       " [520456],\n",
       " [520479],\n",
       " [522471],\n",
       " [522737],\n",
       " [523162],\n",
       " [523538],\n",
       " [523542],\n",
       " [524763],\n",
       " [525592],\n",
       " [526065],\n",
       " [526288],\n",
       " [531293],\n",
       " [531296],\n",
       " [531332],\n",
       " [531440],\n",
       " [532364],\n",
       " [533254],\n",
       " [533676],\n",
       " [534363],\n",
       " [535169],\n",
       " [536284],\n",
       " [536791],\n",
       " [537229],\n",
       " [537556],\n",
       " [537896],\n",
       " [541524],\n",
       " [541706],\n",
       " [548720],\n",
       " [548723],\n",
       " [548999],\n",
       " [549631],\n",
       " [549853],\n",
       " [552840],\n",
       " [553306],\n",
       " [553645],\n",
       " [559575],\n",
       " [559579],\n",
       " [560001],\n",
       " [560003],\n",
       " [560643],\n",
       " [560710],\n",
       " [561415],\n",
       " [562190],\n",
       " [562275],\n",
       " [562278],\n",
       " [562535],\n",
       " [562714],\n",
       " [563091],\n",
       " [563129],\n",
       " [563135],\n",
       " [563160],\n",
       " [563335],\n",
       " [563693],\n",
       " [564043],\n",
       " [564392],\n",
       " [564443],\n",
       " [569925]]"
      ]
     },
     "execution_count": 575,
     "metadata": {},
     "output_type": "execute_result"
    }
   ],
   "source": [
    "matchedSegList"
   ]
  },
  {
   "cell_type": "code",
   "execution_count": 576,
   "metadata": {},
   "outputs": [],
   "source": [
    "GraphFunctions.plotRoutes(matchedSegList, edges, ['red' for _ in range(len(matchedSegList))], 'bridgeSeg.html')"
   ]
  },
  {
   "cell_type": "code",
   "execution_count": 460,
   "metadata": {},
   "outputs": [
    {
     "name": "stderr",
     "output_type": "stream",
     "text": [
      "c:\\Users\\mingzhou\\anaconda3\\lib\\site-packages\\ipykernel\\ipkernel.py:287: DeprecationWarning:\n",
      "\n",
      "`should_run_async` will not call `transform_cell` automatically in the future. Please pass the result to `transformed_cell` argument and any exception that happen during thetransform in `preprocessing_exc_tuple` in IPython 7.17 and above.\n",
      "\n"
     ]
    },
    {
     "data": {
      "text/html": [
       "<div>\n",
       "<style scoped>\n",
       "    .dataframe tbody tr th:only-of-type {\n",
       "        vertical-align: middle;\n",
       "    }\n",
       "\n",
       "    .dataframe tbody tr th {\n",
       "        vertical-align: top;\n",
       "    }\n",
       "\n",
       "    .dataframe thead th {\n",
       "        text-align: right;\n",
       "    }\n",
       "</style>\n",
       "<table border=\"1\" class=\"dataframe\">\n",
       "  <thead>\n",
       "    <tr style=\"text-align: right;\">\n",
       "      <th></th>\n",
       "      <th>BRKEY</th>\n",
       "      <th>ON_UNDER</th>\n",
       "      <th>FACILITY</th>\n",
       "      <th>ROADWAY_NAME</th>\n",
       "      <th>FEATURE_INTERSECTED</th>\n",
       "      <th>DISTRICT</th>\n",
       "      <th>COUNTY</th>\n",
       "      <th>CITY - TOWNSHIP</th>\n",
       "      <th>LOCATION DESC</th>\n",
       "      <th>OWNER</th>\n",
       "      <th>...</th>\n",
       "      <th>PERMIT_CODE_60K_CODE</th>\n",
       "      <th>PERMIT_CODE_60K_DESC</th>\n",
       "      <th>PERMIT_CODE_72K_CODE</th>\n",
       "      <th>PERMIT_CODE_72K_DESC</th>\n",
       "      <th>VEHICLE_POSTED_CAPACITY</th>\n",
       "      <th>SEMI_POSTED_CAPACITY</th>\n",
       "      <th>DOUBLE_POSTED_CAPACITY</th>\n",
       "      <th>LATITUDE</th>\n",
       "      <th>LONGITUDE</th>\n",
       "      <th>inBbox</th>\n",
       "    </tr>\n",
       "  </thead>\n",
       "  <tbody>\n",
       "  </tbody>\n",
       "</table>\n",
       "<p>0 rows × 26 columns</p>\n",
       "</div>"
      ],
      "text/plain": [
       "Empty DataFrame\n",
       "Columns: [BRKEY, ON_UNDER, FACILITY, ROADWAY_NAME, FEATURE_INTERSECTED, DISTRICT, COUNTY, CITY - TOWNSHIP, LOCATION DESC, OWNER, VERTICAL_CLR_RD1_FEET, VERTICAL_CLR_RD2_FEET, HORIZONTAL_CLR_RD1_FEET, HORIZONTAL_CLR_RD2_FEET, PERMIT_CODE_48K_CODE, PERMIT_CODE_48K_DESC, PERMIT_CODE_60K_CODE, PERMIT_CODE_60K_DESC, PERMIT_CODE_72K_CODE, PERMIT_CODE_72K_DESC, VEHICLE_POSTED_CAPACITY, SEMI_POSTED_CAPACITY, DOUBLE_POSTED_CAPACITY, LATITUDE, LONGITUDE, inBbox]\n",
       "Index: []\n",
       "\n",
       "[0 rows x 26 columns]"
      ]
     },
     "execution_count": 460,
     "metadata": {},
     "output_type": "execute_result"
    }
   ],
   "source": [
    "bridgeRestriction[bridgeRestriction['ON_UNDER']!=1]"
   ]
  },
  {
   "cell_type": "code",
   "execution_count": 442,
   "metadata": {},
   "outputs": [],
   "source": [
    "x,y = list(bridgeRestriction['LONGITUDE']), list(bridgeRestriction['LATITUDE'])"
   ]
  },
  {
   "cell_type": "code",
   "execution_count": 444,
   "metadata": {},
   "outputs": [
    {
     "data": {
      "text/plain": [
       "240"
      ]
     },
     "execution_count": 444,
     "metadata": {},
     "output_type": "execute_result"
    }
   ],
   "source": [
    "len(x)"
   ]
  },
  {
   "cell_type": "code",
   "execution_count": 445,
   "metadata": {},
   "outputs": [
    {
     "name": "stderr",
     "output_type": "stream",
     "text": [
      "c:\\Users\\mingzhou\\anaconda3\\lib\\site-packages\\osmnx\\distance.py:137: ResourceWarning:\n",
      "\n",
      "unclosed file <_io.TextIOWrapper name='output.txt' mode='r' encoding='cp936'>\n",
      "\n"
     ]
    }
   ],
   "source": [
    "bridgeNodes = ox.distance.get_nearest_nodes(osmGraphInBbox.graph, x, y)"
   ]
  },
  {
   "cell_type": "code",
   "execution_count": 449,
   "metadata": {},
   "outputs": [],
   "source": [
    "matchedNodesGdf = nodes.loc[bridgeNodes,:]"
   ]
  },
  {
   "cell_type": "code",
   "execution_count": 450,
   "metadata": {},
   "outputs": [
    {
     "name": "stderr",
     "output_type": "stream",
     "text": [
      "c:\\Users\\mingzhou\\anaconda3\\lib\\site-packages\\ipykernel\\ipkernel.py:287: DeprecationWarning:\n",
      "\n",
      "`should_run_async` will not call `transform_cell` automatically in the future. Please pass the result to `transformed_cell` argument and any exception that happen during thetransform in `preprocessing_exc_tuple` in IPython 7.17 and above.\n",
      "\n"
     ]
    },
    {
     "data": {
      "text/html": [
       "<div>\n",
       "<style scoped>\n",
       "    .dataframe tbody tr th:only-of-type {\n",
       "        vertical-align: middle;\n",
       "    }\n",
       "\n",
       "    .dataframe tbody tr th {\n",
       "        vertical-align: top;\n",
       "    }\n",
       "\n",
       "    .dataframe thead th {\n",
       "        text-align: right;\n",
       "    }\n",
       "</style>\n",
       "<table border=\"1\" class=\"dataframe\">\n",
       "  <thead>\n",
       "    <tr style=\"text-align: right;\">\n",
       "      <th></th>\n",
       "      <th>y</th>\n",
       "      <th>x</th>\n",
       "      <th>osmid</th>\n",
       "      <th>highway</th>\n",
       "      <th>ref</th>\n",
       "      <th>geometry</th>\n",
       "      <th>indexId</th>\n",
       "      <th>elevation</th>\n",
       "    </tr>\n",
       "  </thead>\n",
       "  <tbody>\n",
       "    <tr>\n",
       "      <th>186326540</th>\n",
       "      <td>45.402921</td>\n",
       "      <td>-93.420197</td>\n",
       "      <td>186326540</td>\n",
       "      <td>NaN</td>\n",
       "      <td>NaN</td>\n",
       "      <td>POINT (-93.42020 45.40292)</td>\n",
       "      <td>186326540</td>\n",
       "      <td>277.82056</td>\n",
       "    </tr>\n",
       "    <tr>\n",
       "      <th>250848922</th>\n",
       "      <td>45.192887</td>\n",
       "      <td>-93.195201</td>\n",
       "      <td>250848922</td>\n",
       "      <td>NaN</td>\n",
       "      <td>NaN</td>\n",
       "      <td>POINT (-93.19520 45.19289)</td>\n",
       "      <td>250848922</td>\n",
       "      <td>273.73999</td>\n",
       "    </tr>\n",
       "    <tr>\n",
       "      <th>250954085</th>\n",
       "      <td>45.182114</td>\n",
       "      <td>-93.195476</td>\n",
       "      <td>250954085</td>\n",
       "      <td>NaN</td>\n",
       "      <td>NaN</td>\n",
       "      <td>POINT (-93.19548 45.18211)</td>\n",
       "      <td>250954085</td>\n",
       "      <td>274.48001</td>\n",
       "    </tr>\n",
       "    <tr>\n",
       "      <th>186342826</th>\n",
       "      <td>45.807331</td>\n",
       "      <td>-93.824807</td>\n",
       "      <td>186342826</td>\n",
       "      <td>NaN</td>\n",
       "      <td>NaN</td>\n",
       "      <td>POINT (-93.82481 45.80733)</td>\n",
       "      <td>186342826</td>\n",
       "      <td>366.13788</td>\n",
       "    </tr>\n",
       "    <tr>\n",
       "      <th>186338047</th>\n",
       "      <td>45.764711</td>\n",
       "      <td>-94.203897</td>\n",
       "      <td>186338047</td>\n",
       "      <td>NaN</td>\n",
       "      <td>NaN</td>\n",
       "      <td>POINT (-94.20390 45.76471)</td>\n",
       "      <td>186338047</td>\n",
       "      <td>318.70837</td>\n",
       "    </tr>\n",
       "    <tr>\n",
       "      <th>...</th>\n",
       "      <td>...</td>\n",
       "      <td>...</td>\n",
       "      <td>...</td>\n",
       "      <td>...</td>\n",
       "      <td>...</td>\n",
       "      <td>...</td>\n",
       "      <td>...</td>\n",
       "      <td>...</td>\n",
       "    </tr>\n",
       "    <tr>\n",
       "      <th>187658463</th>\n",
       "      <td>44.107749</td>\n",
       "      <td>-92.318955</td>\n",
       "      <td>187658463</td>\n",
       "      <td>NaN</td>\n",
       "      <td>NaN</td>\n",
       "      <td>POINT (-92.31896 44.10775)</td>\n",
       "      <td>187658463</td>\n",
       "      <td>344.11563</td>\n",
       "    </tr>\n",
       "    <tr>\n",
       "      <th>187515327</th>\n",
       "      <td>45.692650</td>\n",
       "      <td>-93.740373</td>\n",
       "      <td>187515327</td>\n",
       "      <td>NaN</td>\n",
       "      <td>NaN</td>\n",
       "      <td>POINT (-93.74037 45.69265)</td>\n",
       "      <td>187515327</td>\n",
       "      <td>324.22049</td>\n",
       "    </tr>\n",
       "    <tr>\n",
       "      <th>7019937781</th>\n",
       "      <td>44.871453</td>\n",
       "      <td>-93.418711</td>\n",
       "      <td>7019937781</td>\n",
       "      <td>turning_circle</td>\n",
       "      <td>NaN</td>\n",
       "      <td>POINT (-93.41871 44.87145)</td>\n",
       "      <td>7019937781</td>\n",
       "      <td>266.17877</td>\n",
       "    </tr>\n",
       "    <tr>\n",
       "      <th>188034716</th>\n",
       "      <td>44.575313</td>\n",
       "      <td>-93.282150</td>\n",
       "      <td>188034716</td>\n",
       "      <td>NaN</td>\n",
       "      <td>NaN</td>\n",
       "      <td>POINT (-93.28215 44.57531)</td>\n",
       "      <td>188034716</td>\n",
       "      <td>330.54044</td>\n",
       "    </tr>\n",
       "    <tr>\n",
       "      <th>188034716</th>\n",
       "      <td>44.575313</td>\n",
       "      <td>-93.282150</td>\n",
       "      <td>188034716</td>\n",
       "      <td>NaN</td>\n",
       "      <td>NaN</td>\n",
       "      <td>POINT (-93.28215 44.57531)</td>\n",
       "      <td>188034716</td>\n",
       "      <td>330.54044</td>\n",
       "    </tr>\n",
       "  </tbody>\n",
       "</table>\n",
       "<p>240 rows × 8 columns</p>\n",
       "</div>"
      ],
      "text/plain": [
       "                    y          x       osmid         highway  ref  \\\n",
       "186326540   45.402921 -93.420197   186326540             NaN  NaN   \n",
       "250848922   45.192887 -93.195201   250848922             NaN  NaN   \n",
       "250954085   45.182114 -93.195476   250954085             NaN  NaN   \n",
       "186342826   45.807331 -93.824807   186342826             NaN  NaN   \n",
       "186338047   45.764711 -94.203897   186338047             NaN  NaN   \n",
       "...               ...        ...         ...             ...  ...   \n",
       "187658463   44.107749 -92.318955   187658463             NaN  NaN   \n",
       "187515327   45.692650 -93.740373   187515327             NaN  NaN   \n",
       "7019937781  44.871453 -93.418711  7019937781  turning_circle  NaN   \n",
       "188034716   44.575313 -93.282150   188034716             NaN  NaN   \n",
       "188034716   44.575313 -93.282150   188034716             NaN  NaN   \n",
       "\n",
       "                              geometry     indexId  elevation  \n",
       "186326540   POINT (-93.42020 45.40292)   186326540  277.82056  \n",
       "250848922   POINT (-93.19520 45.19289)   250848922  273.73999  \n",
       "250954085   POINT (-93.19548 45.18211)   250954085  274.48001  \n",
       "186342826   POINT (-93.82481 45.80733)   186342826  366.13788  \n",
       "186338047   POINT (-94.20390 45.76471)   186338047  318.70837  \n",
       "...                                ...         ...        ...  \n",
       "187658463   POINT (-92.31896 44.10775)   187658463  344.11563  \n",
       "187515327   POINT (-93.74037 45.69265)   187515327  324.22049  \n",
       "7019937781  POINT (-93.41871 44.87145)  7019937781  266.17877  \n",
       "188034716   POINT (-93.28215 44.57531)   188034716  330.54044  \n",
       "188034716   POINT (-93.28215 44.57531)   188034716  330.54044  \n",
       "\n",
       "[240 rows x 8 columns]"
      ]
     },
     "execution_count": 450,
     "metadata": {},
     "output_type": "execute_result"
    }
   ],
   "source": [
    "matchedNodesGdf"
   ]
  },
  {
   "cell_type": "code",
   "execution_count": 451,
   "metadata": {},
   "outputs": [
    {
     "name": "stderr",
     "output_type": "stream",
     "text": [
      "c:\\Users\\mingzhou\\anaconda3\\lib\\site-packages\\ipykernel\\ipkernel.py:287: DeprecationWarning:\n",
      "\n",
      "`should_run_async` will not call `transform_cell` automatically in the future. Please pass the result to `transformed_cell` argument and any exception that happen during thetransform in `preprocessing_exc_tuple` in IPython 7.17 and above.\n",
      "\n"
     ]
    }
   ],
   "source": [
    "matchedPointList = list(zip(list(matchedNodesGdf['y']), list(matchedNodesGdf['x'])))\n",
    "GraphFunctions.plotPointList({'restrict nodes':  matchedPointList}, ['red'], 'test.html')"
   ]
  },
  {
   "cell_type": "code",
   "execution_count": 580,
   "metadata": {},
   "outputs": [
    {
     "name": "stderr",
     "output_type": "stream",
     "text": [
      "c:\\Users\\mingzhou\\anaconda3\\lib\\site-packages\\ipykernel\\ipkernel.py:287: DeprecationWarning:\n",
      "\n",
      "`should_run_async` will not call `transform_cell` automatically in the future. Please pass the result to `transformed_cell` argument and any exception that happen during thetransform in `preprocessing_exc_tuple` in IPython 7.17 and above.\n",
      "\n"
     ]
    },
    {
     "ename": "TypeError",
     "evalue": "unsupported operand type(s) for +: 'set' and 'set'",
     "output_type": "error",
     "traceback": [
      "\u001b[1;31m---------------------------------------------------------------------------\u001b[0m",
      "\u001b[1;31mTypeError\u001b[0m                                 Traceback (most recent call last)",
      "\u001b[1;32m<ipython-input-580-65d52a19193b>\u001b[0m in \u001b[0;36m<module>\u001b[1;34m\u001b[0m\n\u001b[1;32m----> 1\u001b[1;33m \u001b[0mblackSegSet_bridge\u001b[0m\u001b[1;33m+\u001b[0m\u001b[0mblackSegSet\u001b[0m\u001b[1;33m\u001b[0m\u001b[1;33m\u001b[0m\u001b[0m\n\u001b[0m",
      "\u001b[1;31mTypeError\u001b[0m: unsupported operand type(s) for +: 'set' and 'set'"
     ]
    }
   ],
   "source": [
    "blackSegSet_bridge+blackSegSet"
   ]
  },
  {
   "cell_type": "code",
   "execution_count": 581,
   "metadata": {},
   "outputs": [
    {
     "name": "stderr",
     "output_type": "stream",
     "text": [
      "c:\\Users\\mingzhou\\anaconda3\\lib\\site-packages\\ipykernel\\ipkernel.py:287: DeprecationWarning:\n",
      "\n",
      "`should_run_async` will not call `transform_cell` automatically in the future. Please pass the result to `transformed_cell` argument and any exception that happen during thetransform in `preprocessing_exc_tuple` in IPython 7.17 and above.\n",
      "\n"
     ]
    }
   ],
   "source": [
    "blackList = blackSegSet_bridge.union(blackSegSet)"
   ]
  },
  {
   "cell_type": "code",
   "execution_count": 582,
   "metadata": {},
   "outputs": [
    {
     "data": {
      "text/plain": [
       "769"
      ]
     },
     "execution_count": 582,
     "metadata": {},
     "output_type": "execute_result"
    }
   ],
   "source": [
    "len(blackList)"
   ]
  },
  {
   "cell_type": "code",
   "execution_count": 583,
   "metadata": {},
   "outputs": [],
   "source": [
    "with open('blacklistSegments.txt','w') as f:\n",
    "   f.write(str(blackList))"
   ]
  },
  {
   "cell_type": "code",
   "execution_count": 584,
   "metadata": {},
   "outputs": [],
   "source": [
    "import ast\n",
    "with open('blacklistSegments.txt','r') as f:\n",
    "   blackList = ast.literal_eval(f.read())"
   ]
  },
  {
   "cell_type": "code",
   "execution_count": 585,
   "metadata": {},
   "outputs": [
    {
     "name": "stderr",
     "output_type": "stream",
     "text": [
      "c:\\Users\\mingzhou\\anaconda3\\lib\\site-packages\\ipykernel\\ipkernel.py:287: DeprecationWarning:\n",
      "\n",
      "`should_run_async` will not call `transform_cell` automatically in the future. Please pass the result to `transformed_cell` argument and any exception that happen during thetransform in `preprocessing_exc_tuple` in IPython 7.17 and above.\n",
      "\n"
     ]
    },
    {
     "data": {
      "text/plain": [
       "769"
      ]
     },
     "execution_count": 585,
     "metadata": {},
     "output_type": "execute_result"
    }
   ],
   "source": [
    "len(blackList)"
   ]
  },
  {
   "cell_type": "code",
   "execution_count": 588,
   "metadata": {},
   "outputs": [
    {
     "name": "stderr",
     "output_type": "stream",
     "text": [
      "c:\\Users\\mingzhou\\anaconda3\\lib\\site-packages\\ipykernel\\ipkernel.py:287: DeprecationWarning:\n",
      "\n",
      "`should_run_async` will not call `transform_cell` automatically in the future. Please pass the result to `transformed_cell` argument and any exception that happen during thetransform in `preprocessing_exc_tuple` in IPython 7.17 and above.\n",
      "\n"
     ]
    },
    {
     "data": {
      "text/plain": [
       "True"
      ]
     },
     "execution_count": 588,
     "metadata": {},
     "output_type": "execute_result"
    }
   ],
   "source": [
    "45057 in blackList"
   ]
  },
  {
   "cell_type": "code",
   "execution_count": null,
   "metadata": {},
   "outputs": [],
   "source": []
  }
 ],
 "metadata": {
  "kernelspec": {
   "display_name": "Python 3.8.8 ('base')",
   "language": "python",
   "name": "python3"
  },
  "language_info": {
   "codemirror_mode": {
    "name": "ipython",
    "version": 3
   },
   "file_extension": ".py",
   "mimetype": "text/x-python",
   "name": "python",
   "nbconvert_exporter": "python",
   "pygments_lexer": "ipython3",
   "version": "3.8.8"
  },
  "orig_nbformat": 4,
  "vscode": {
   "interpreter": {
    "hash": "81058d71a22c45eb97e5e6b75580fd654d8dce9bb5406f31da99e2d737e7fbff"
   }
  }
 },
 "nbformat": 4,
 "nbformat_minor": 2
}
