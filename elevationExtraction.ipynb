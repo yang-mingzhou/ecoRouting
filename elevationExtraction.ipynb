{
 "cells": [
  {
   "cell_type": "code",
   "execution_count": 2,
   "metadata": {},
   "outputs": [],
   "source": [
    "from utils.osmgraph import GraphFunctions\n",
    "from utils.spaitalShape import Point, OdPair, Box"
   ]
  },
  {
   "cell_type": "code",
   "execution_count": 12,
   "metadata": {},
   "outputs": [],
   "source": [
    "#large tx\n",
    "boundingBox = Box(-99.1445415,-97.34430425,26.236030749999998,31.1530685)"
   ]
  },
  {
   "cell_type": "code",
   "execution_count": 5,
   "metadata": {},
   "outputs": [],
   "source": [
    "# small tx\n",
    "boundingBox = Box(-98.7451, -98.1903, 29.1905, 29.6332)"
   ]
  },
  {
   "cell_type": "code",
   "execution_count": 13,
   "metadata": {},
   "outputs": [
    {
     "name": "stdout",
     "output_type": "stream",
     "text": [
      "Graphs/GraphDataInBbox-99.1445415,-97.34430425,26.236030749999998,31.1530685\n",
      "reloading graph..\n"
     ]
    }
   ],
   "source": [
    "osmGraphInBbox = GraphFunctions.extractGraphOf(boundingBox)"
   ]
  },
  {
   "cell_type": "code",
   "execution_count": 14,
   "metadata": {},
   "outputs": [],
   "source": [
    "nodes, edges = osmGraphInBbox.graphToGdfs()"
   ]
  },
  {
   "cell_type": "code",
   "execution_count": 15,
   "metadata": {},
   "outputs": [
    {
     "data": {
      "text/html": [
       "<div>\n",
       "<style scoped>\n",
       "    .dataframe tbody tr th:only-of-type {\n",
       "        vertical-align: middle;\n",
       "    }\n",
       "\n",
       "    .dataframe tbody tr th {\n",
       "        vertical-align: top;\n",
       "    }\n",
       "\n",
       "    .dataframe thead th {\n",
       "        text-align: right;\n",
       "    }\n",
       "</style>\n",
       "<table border=\"1\" class=\"dataframe\">\n",
       "  <thead>\n",
       "    <tr style=\"text-align: right;\">\n",
       "      <th></th>\n",
       "      <th>y</th>\n",
       "      <th>x</th>\n",
       "      <th>osmid</th>\n",
       "      <th>highway</th>\n",
       "      <th>ref</th>\n",
       "      <th>geometry</th>\n",
       "    </tr>\n",
       "  </thead>\n",
       "  <tbody>\n",
       "    <tr>\n",
       "      <th>228369319</th>\n",
       "      <td>26.392083</td>\n",
       "      <td>-98.917279</td>\n",
       "      <td>228369319</td>\n",
       "      <td>NaN</td>\n",
       "      <td>NaN</td>\n",
       "      <td>POINT (-98.91728 26.39208)</td>\n",
       "    </tr>\n",
       "    <tr>\n",
       "      <th>228369323</th>\n",
       "      <td>26.394025</td>\n",
       "      <td>-98.916927</td>\n",
       "      <td>228369323</td>\n",
       "      <td>NaN</td>\n",
       "      <td>NaN</td>\n",
       "      <td>POINT (-98.91693 26.39402)</td>\n",
       "    </tr>\n",
       "    <tr>\n",
       "      <th>228369390</th>\n",
       "      <td>26.405878</td>\n",
       "      <td>-99.014299</td>\n",
       "      <td>228369390</td>\n",
       "      <td>NaN</td>\n",
       "      <td>NaN</td>\n",
       "      <td>POINT (-99.01430 26.40588)</td>\n",
       "    </tr>\n",
       "    <tr>\n",
       "      <th>228369392</th>\n",
       "      <td>26.406276</td>\n",
       "      <td>-99.013503</td>\n",
       "      <td>228369392</td>\n",
       "      <td>NaN</td>\n",
       "      <td>NaN</td>\n",
       "      <td>POINT (-99.01350 26.40628)</td>\n",
       "    </tr>\n",
       "    <tr>\n",
       "      <th>228369398</th>\n",
       "      <td>26.406656</td>\n",
       "      <td>-99.012710</td>\n",
       "      <td>228369398</td>\n",
       "      <td>NaN</td>\n",
       "      <td>NaN</td>\n",
       "      <td>POINT (-99.01271 26.40666)</td>\n",
       "    </tr>\n",
       "  </tbody>\n",
       "</table>\n",
       "</div>"
      ],
      "text/plain": [
       "                   y          x      osmid highway  ref  \\\n",
       "228369319  26.392083 -98.917279  228369319     NaN  NaN   \n",
       "228369323  26.394025 -98.916927  228369323     NaN  NaN   \n",
       "228369390  26.405878 -99.014299  228369390     NaN  NaN   \n",
       "228369392  26.406276 -99.013503  228369392     NaN  NaN   \n",
       "228369398  26.406656 -99.012710  228369398     NaN  NaN   \n",
       "\n",
       "                             geometry  \n",
       "228369319  POINT (-98.91728 26.39208)  \n",
       "228369323  POINT (-98.91693 26.39402)  \n",
       "228369390  POINT (-99.01430 26.40588)  \n",
       "228369392  POINT (-99.01350 26.40628)  \n",
       "228369398  POINT (-99.01271 26.40666)  "
      ]
     },
     "execution_count": 15,
     "metadata": {},
     "output_type": "execute_result"
    }
   ],
   "source": [
    "nodes.head()"
   ]
  },
  {
   "cell_type": "code",
   "execution_count": 16,
   "metadata": {},
   "outputs": [],
   "source": [
    "nodes.to_csv(\"nodes_tx_large.csv\", columns= [\"y\", \"x\"])"
   ]
  },
  {
   "cell_type": "code",
   "execution_count": null,
   "metadata": {},
   "outputs": [],
   "source": []
  }
 ],
 "metadata": {
  "kernelspec": {
   "display_name": "base",
   "language": "python",
   "name": "python3"
  },
  "language_info": {
   "codemirror_mode": {
    "name": "ipython",
    "version": 3
   },
   "file_extension": ".py",
   "mimetype": "text/x-python",
   "name": "python",
   "nbconvert_exporter": "python",
   "pygments_lexer": "ipython3",
   "version": "3.8.8"
  }
 },
 "nbformat": 4,
 "nbformat_minor": 2
}
