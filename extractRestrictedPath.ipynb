{
 "cells": [
  {
   "cell_type": "code",
   "execution_count": 165,
   "metadata": {},
   "outputs": [
    {
     "name": "stderr",
     "output_type": "stream",
     "text": [
      "c:\\Users\\mingzhou\\anaconda3\\lib\\site-packages\\ipykernel\\ipkernel.py:287: DeprecationWarning:\n",
      "\n",
      "`should_run_async` will not call `transform_cell` automatically in the future. Please pass the result to `transformed_cell` argument and any exception that happen during thetransform in `preprocessing_exc_tuple` in IPython 7.17 and above.\n",
      "\n"
     ]
    }
   ],
   "source": [
    "import osmnx as ox\n",
    "import geopandas as gpd\n",
    "import os\n",
    "import pandas as pd\n",
    "from utils.osmgraph import GraphFunctions\n",
    "from utils.spaitalShape import Point, OdPair, Box\n",
    "import numpy as np\n",
    "import plotly.graph_objects as go\n",
    "import plotly"
   ]
  },
  {
   "cell_type": "code",
   "execution_count": 18,
   "metadata": {},
   "outputs": [
    {
     "data": {
      "text/plain": [
       "'0.16.1'"
      ]
     },
     "execution_count": 18,
     "metadata": {},
     "output_type": "execute_result"
    }
   ],
   "source": [
    "ox.__version__"
   ]
  },
  {
   "cell_type": "code",
   "execution_count": 19,
   "metadata": {},
   "outputs": [],
   "source": [
    "roadRestrictionFilefolder = 'data/restrictionByMnDoT/'"
   ]
  },
  {
   "cell_type": "code",
   "execution_count": 45,
   "metadata": {},
   "outputs": [
    {
     "name": "stderr",
     "output_type": "stream",
     "text": [
      "c:\\Users\\mingzhou\\anaconda3\\lib\\site-packages\\ipykernel\\ipkernel.py:287: DeprecationWarning: `should_run_async` will not call `transform_cell` automatically in the future. Please pass the result to `transformed_cell` argument and any exception that happen during thetransform in `preprocessing_exc_tuple` in IPython 7.17 and above.\n",
      "  and should_run_async(code)\n"
     ]
    }
   ],
   "source": [
    "#read gdfs\n",
    "gdf = None\n",
    "for root, dirs, files in os.walk(roadRestrictionFilefolder):\n",
    "    for file in files:\n",
    "        if file[-5] == '7' or file[-5] == '5':\n",
    "            filepath = os.path.join(root, file)\n",
    "            if gdf is None:\n",
    "                gdf = ox.geometries.geometries_from_xml(filepath)\n",
    "            else:\n",
    "                gdf = gpd.GeoDataFrame(pd.concat([gdf, ox.geometries.geometries_from_xml(filepath)], ignore_index=True), crs=gdf.crs)   \n",
    "roadRestriction = gdf.dropna(subset=['length_m']).reset_index(drop=True)         "
   ]
  },
  {
   "cell_type": "code",
   "execution_count": 46,
   "metadata": {},
   "outputs": [
    {
     "name": "stderr",
     "output_type": "stream",
     "text": [
      "c:\\Users\\mingzhou\\anaconda3\\lib\\site-packages\\ipykernel\\ipkernel.py:287: DeprecationWarning: `should_run_async` will not call `transform_cell` automatically in the future. Please pass the result to `transformed_cell` argument and any exception that happen during thetransform in `preprocessing_exc_tuple` in IPython 7.17 and above.\n",
      "  and should_run_async(code)\n"
     ]
    },
    {
     "data": {
      "text/html": [
       "<div>\n",
       "<style scoped>\n",
       "    .dataframe tbody tr th:only-of-type {\n",
       "        vertical-align: middle;\n",
       "    }\n",
       "\n",
       "    .dataframe tbody tr th {\n",
       "        vertical-align: top;\n",
       "    }\n",
       "\n",
       "    .dataframe thead th {\n",
       "        text-align: right;\n",
       "    }\n",
       "</style>\n",
       "<table border=\"1\" class=\"dataframe\">\n",
       "  <thead>\n",
       "    <tr style=\"text-align: right;\">\n",
       "      <th></th>\n",
       "      <th>unique_id</th>\n",
       "      <th>osmid</th>\n",
       "      <th>element_type</th>\n",
       "      <th>nodes</th>\n",
       "      <th>DELETE</th>\n",
       "      <th>sort</th>\n",
       "      <th>from_tm</th>\n",
       "      <th>to_tm</th>\n",
       "      <th>sll_zone</th>\n",
       "      <th>name</th>\n",
       "      <th>from_rp</th>\n",
       "      <th>to_rp</th>\n",
       "      <th>description</th>\n",
       "      <th>posting_ton</th>\n",
       "      <th>length_m</th>\n",
       "      <th>geometry</th>\n",
       "      <th>sll_znoe</th>\n",
       "      <th>id</th>\n",
       "    </tr>\n",
       "  </thead>\n",
       "  <tbody>\n",
       "    <tr>\n",
       "      <th>0</th>\n",
       "      <td>way/-97459856</td>\n",
       "      <td>-97459856</td>\n",
       "      <td>way</td>\n",
       "      <td>[-99379200, -99380400, -99378360, -99378840, -...</td>\n",
       "      <td>5</td>\n",
       "      <td>0300000000000117-I</td>\n",
       "      <td>0.00000000000</td>\n",
       "      <td>1.79800000000</td>\n",
       "      <td>CENTRAL</td>\n",
       "      <td>MN 117 (7 ton)</td>\n",
       "      <td>0+00.000</td>\n",
       "      <td>1+00.797</td>\n",
       "      <td>MN 117 from ND-MN state line to Jct. MN 27</td>\n",
       "      <td>7</td>\n",
       "      <td>2894.31901029000</td>\n",
       "      <td>LINESTRING (-96.63923 45.76899, -96.63373 45.7...</td>\n",
       "      <td>NaN</td>\n",
       "      <td>NaN</td>\n",
       "    </tr>\n",
       "    <tr>\n",
       "      <th>1</th>\n",
       "      <td>way/-97461512</td>\n",
       "      <td>-97461512</td>\n",
       "      <td>way</td>\n",
       "      <td>[-111202800, -111203280, -111203400, -11120244...</td>\n",
       "      <td>13</td>\n",
       "      <td>0300000000000007-I</td>\n",
       "      <td>0.00000000000</td>\n",
       "      <td>24.08600000000</td>\n",
       "      <td>CENTRAL</td>\n",
       "      <td>MN 7 (7 ton)</td>\n",
       "      <td>0+00.000</td>\n",
       "      <td>24+00.173</td>\n",
       "      <td>MN 7 from Jct. MN 28 to Golf Club Road</td>\n",
       "      <td>7</td>\n",
       "      <td>38762.59877150000</td>\n",
       "      <td>LINESTRING (-96.70002 45.55872, -96.70002 45.5...</td>\n",
       "      <td>NaN</td>\n",
       "      <td>NaN</td>\n",
       "    </tr>\n",
       "    <tr>\n",
       "      <th>2</th>\n",
       "      <td>way/-97460072</td>\n",
       "      <td>-97460072</td>\n",
       "      <td>way</td>\n",
       "      <td>[-111470112, -111468672, -111470832, -11146771...</td>\n",
       "      <td>23</td>\n",
       "      <td>0300000000000022-I</td>\n",
       "      <td>157.15400000000</td>\n",
       "      <td>162.61500000000</td>\n",
       "      <td>CENTRAL</td>\n",
       "      <td>MN 22 (7 ton)</td>\n",
       "      <td>156+00.901</td>\n",
       "      <td>162+00.372</td>\n",
       "      <td>MN 22 from MN 55 (Eden Valley) to Stearns CSAH-9</td>\n",
       "      <td>7</td>\n",
       "      <td>8788.95858247000</td>\n",
       "      <td>LINESTRING (-94.54656 45.32252, -94.54657 45.3...</td>\n",
       "      <td>NaN</td>\n",
       "      <td>NaN</td>\n",
       "    </tr>\n",
       "    <tr>\n",
       "      <th>3</th>\n",
       "      <td>way/-97345512</td>\n",
       "      <td>-97345512</td>\n",
       "      <td>way</td>\n",
       "      <td>[-112343096, -112333616, -112333736, -11233385...</td>\n",
       "      <td>1</td>\n",
       "      <td>0300000000000210-I</td>\n",
       "      <td>218.62500000000</td>\n",
       "      <td>227.85500000000</td>\n",
       "      <td>NORTH-CENTRAL</td>\n",
       "      <td>MN 210 (7 ton)</td>\n",
       "      <td>218+00.558</td>\n",
       "      <td>227+000.790</td>\n",
       "      <td>MN 210 from MN 45 (Carlton) to west MN 23 (Dul...</td>\n",
       "      <td>7</td>\n",
       "      <td>14853.70816620000</td>\n",
       "      <td>LINESTRING (-92.42485 46.66397, -92.42266 46.6...</td>\n",
       "      <td>NaN</td>\n",
       "      <td>NaN</td>\n",
       "    </tr>\n",
       "    <tr>\n",
       "      <th>4</th>\n",
       "      <td>way/-97345728</td>\n",
       "      <td>-97345728</td>\n",
       "      <td>way</td>\n",
       "      <td>[-114610464, -114611064, -114610584, -11461070...</td>\n",
       "      <td>16</td>\n",
       "      <td>0300000000000123-I</td>\n",
       "      <td>0.00000000000</td>\n",
       "      <td>8.04100000000</td>\n",
       "      <td>NORTH-CENTRAL</td>\n",
       "      <td>MN 123 (7 ton)</td>\n",
       "      <td>0+00.000</td>\n",
       "      <td>8+00.054</td>\n",
       "      <td>MN 123 from south Jct. MN 23 (Sandstone) to no...</td>\n",
       "      <td>7</td>\n",
       "      <td>12941.01403050000</td>\n",
       "      <td>LINESTRING (-92.87985 46.12517, -92.87555 46.1...</td>\n",
       "      <td>NaN</td>\n",
       "      <td>NaN</td>\n",
       "    </tr>\n",
       "  </tbody>\n",
       "</table>\n",
       "</div>"
      ],
      "text/plain": [
       "       unique_id     osmid element_type  \\\n",
       "0  way/-97459856 -97459856          way   \n",
       "1  way/-97461512 -97461512          way   \n",
       "2  way/-97460072 -97460072          way   \n",
       "3  way/-97345512 -97345512          way   \n",
       "4  way/-97345728 -97345728          way   \n",
       "\n",
       "                                               nodes DELETE  \\\n",
       "0  [-99379200, -99380400, -99378360, -99378840, -...      5   \n",
       "1  [-111202800, -111203280, -111203400, -11120244...     13   \n",
       "2  [-111470112, -111468672, -111470832, -11146771...     23   \n",
       "3  [-112343096, -112333616, -112333736, -11233385...      1   \n",
       "4  [-114610464, -114611064, -114610584, -11461070...     16   \n",
       "\n",
       "                 sort          from_tm            to_tm       sll_zone  \\\n",
       "0  0300000000000117-I    0.00000000000    1.79800000000        CENTRAL   \n",
       "1  0300000000000007-I    0.00000000000   24.08600000000        CENTRAL   \n",
       "2  0300000000000022-I  157.15400000000  162.61500000000        CENTRAL   \n",
       "3  0300000000000210-I  218.62500000000  227.85500000000  NORTH-CENTRAL   \n",
       "4  0300000000000123-I    0.00000000000    8.04100000000  NORTH-CENTRAL   \n",
       "\n",
       "             name     from_rp        to_rp  \\\n",
       "0  MN 117 (7 ton)    0+00.000     1+00.797   \n",
       "1    MN 7 (7 ton)    0+00.000    24+00.173   \n",
       "2   MN 22 (7 ton)  156+00.901   162+00.372   \n",
       "3  MN 210 (7 ton)  218+00.558  227+000.790   \n",
       "4  MN 123 (7 ton)    0+00.000     8+00.054   \n",
       "\n",
       "                                         description posting_ton  \\\n",
       "0         MN 117 from ND-MN state line to Jct. MN 27           7   \n",
       "1             MN 7 from Jct. MN 28 to Golf Club Road           7   \n",
       "2   MN 22 from MN 55 (Eden Valley) to Stearns CSAH-9           7   \n",
       "3  MN 210 from MN 45 (Carlton) to west MN 23 (Dul...           7   \n",
       "4  MN 123 from south Jct. MN 23 (Sandstone) to no...           7   \n",
       "\n",
       "            length_m                                           geometry  \\\n",
       "0   2894.31901029000  LINESTRING (-96.63923 45.76899, -96.63373 45.7...   \n",
       "1  38762.59877150000  LINESTRING (-96.70002 45.55872, -96.70002 45.5...   \n",
       "2   8788.95858247000  LINESTRING (-94.54656 45.32252, -94.54657 45.3...   \n",
       "3  14853.70816620000  LINESTRING (-92.42485 46.66397, -92.42266 46.6...   \n",
       "4  12941.01403050000  LINESTRING (-92.87985 46.12517, -92.87555 46.1...   \n",
       "\n",
       "  sll_znoe   id  \n",
       "0      NaN  NaN  \n",
       "1      NaN  NaN  \n",
       "2      NaN  NaN  \n",
       "3      NaN  NaN  \n",
       "4      NaN  NaN  "
      ]
     },
     "execution_count": 46,
     "metadata": {},
     "output_type": "execute_result"
    }
   ],
   "source": [
    "roadRestriction.head()"
   ]
  },
  {
   "cell_type": "code",
   "execution_count": 48,
   "metadata": {},
   "outputs": [
    {
     "name": "stdout",
     "output_type": "stream",
     "text": [
      "-94.65258355209289,-91.7879164479071,43.96958146789451,45.995818532105496\n"
     ]
    },
    {
     "name": "stderr",
     "output_type": "stream",
     "text": [
      "c:\\Users\\mingzhou\\anaconda3\\lib\\site-packages\\ipykernel\\ipkernel.py:287: DeprecationWarning: `should_run_async` will not call `transform_cell` automatically in the future. Please pass the result to `transformed_cell` argument and any exception that happen during thetransform in `preprocessing_exc_tuple` in IPython 7.17 and above.\n",
      "  and should_run_async(code)\n"
     ]
    }
   ],
   "source": [
    "distance = 70\n",
    "distance = distance*1609.34 # mile->km\n",
    "bbox = ox.utils_geo.bbox_from_point((44.9827, -93.22025), dist=distance, project_utm = False, return_crs = False)\n",
    "boundingBox = Box(bbox[-1], bbox[-2], bbox[-3], bbox[-4])\n",
    "print(boundingBox)"
   ]
  },
  {
   "cell_type": "code",
   "execution_count": 49,
   "metadata": {},
   "outputs": [
    {
     "name": "stdout",
     "output_type": "stream",
     "text": [
      "Graphs/GraphDataInBbox-94.65258355209289,-91.7879164479071,43.96958146789451,45.995818532105496\n",
      "reloading graph..\n"
     ]
    }
   ],
   "source": [
    "osmGraphInBbox = GraphFunctions.extractGraphOf(boundingBox)"
   ]
  },
  {
   "cell_type": "code",
   "execution_count": 51,
   "metadata": {},
   "outputs": [],
   "source": [
    "nodes, edges = osmGraphInBbox.graphToGdfs()"
   ]
  },
  {
   "cell_type": "code",
   "execution_count": 55,
   "metadata": {},
   "outputs": [
    {
     "name": "stderr",
     "output_type": "stream",
     "text": [
      "c:\\Users\\mingzhou\\anaconda3\\lib\\site-packages\\ipykernel\\ipkernel.py:287: DeprecationWarning: `should_run_async` will not call `transform_cell` automatically in the future. Please pass the result to `transformed_cell` argument and any exception that happen during thetransform in `preprocessing_exc_tuple` in IPython 7.17 and above.\n",
      "  and should_run_async(code)\n"
     ]
    },
    {
     "data": {
      "text/plain": [
       "223490"
      ]
     },
     "execution_count": 55,
     "metadata": {},
     "output_type": "execute_result"
    }
   ],
   "source": [
    "len(nodes)"
   ]
  },
  {
   "cell_type": "code",
   "execution_count": 56,
   "metadata": {},
   "outputs": [
    {
     "name": "stderr",
     "output_type": "stream",
     "text": [
      "c:\\Users\\mingzhou\\anaconda3\\lib\\site-packages\\ipykernel\\ipkernel.py:287: DeprecationWarning: `should_run_async` will not call `transform_cell` automatically in the future. Please pass the result to `transformed_cell` argument and any exception that happen during thetransform in `preprocessing_exc_tuple` in IPython 7.17 and above.\n",
      "  and should_run_async(code)\n"
     ]
    },
    {
     "data": {
      "text/plain": [
       "570087"
      ]
     },
     "execution_count": 56,
     "metadata": {},
     "output_type": "execute_result"
    }
   ],
   "source": [
    "len(edges)"
   ]
  },
  {
   "cell_type": "code",
   "execution_count": 60,
   "metadata": {},
   "outputs": [],
   "source": [
    "pathlist = list(roadRestriction['geometry'])"
   ]
  },
  {
   "cell_type": "code",
   "execution_count": 71,
   "metadata": {},
   "outputs": [],
   "source": [
    "pathListInBbox = []\n",
    "for path in pathlist:\n",
    "    if path.covered_by(boundingBox.polygon()):\n",
    "        pathListInBbox.append(path)"
   ]
  },
  {
   "cell_type": "code",
   "execution_count": 72,
   "metadata": {},
   "outputs": [
    {
     "data": {
      "text/plain": [
       "10"
      ]
     },
     "execution_count": 72,
     "metadata": {},
     "output_type": "execute_result"
    }
   ],
   "source": [
    "len(pathListInBbox)"
   ]
  },
  {
   "cell_type": "code",
   "execution_count": 97,
   "metadata": {},
   "outputs": [
    {
     "name": "stderr",
     "output_type": "stream",
     "text": [
      "c:\\Users\\mingzhou\\anaconda3\\lib\\site-packages\\ipykernel\\ipkernel.py:287: DeprecationWarning: `should_run_async` will not call `transform_cell` automatically in the future. Please pass the result to `transformed_cell` argument and any exception that happen during thetransform in `preprocessing_exc_tuple` in IPython 7.17 and above.\n",
      "  and should_run_async(code)\n"
     ]
    },
    {
     "data": {
      "text/plain": [
       "53"
      ]
     },
     "execution_count": 97,
     "metadata": {},
     "output_type": "execute_result"
    }
   ],
   "source": [
    "len(list(pathListInBbox[0].coords))"
   ]
  },
  {
   "cell_type": "code",
   "execution_count": 76,
   "metadata": {},
   "outputs": [
    {
     "name": "stderr",
     "output_type": "stream",
     "text": [
      "c:\\Users\\mingzhou\\anaconda3\\lib\\site-packages\\ipykernel\\ipkernel.py:287: DeprecationWarning: `should_run_async` will not call `transform_cell` automatically in the future. Please pass the result to `transformed_cell` argument and any exception that happen during thetransform in `preprocessing_exc_tuple` in IPython 7.17 and above.\n",
      "  and should_run_async(code)\n"
     ]
    }
   ],
   "source": [
    "bridgeRestrictionDF = pd.read_excel('data/Bridge_Restrictions.xlsx')"
   ]
  },
  {
   "cell_type": "code",
   "execution_count": 77,
   "metadata": {},
   "outputs": [
    {
     "data": {
      "text/html": [
       "<div>\n",
       "<style scoped>\n",
       "    .dataframe tbody tr th:only-of-type {\n",
       "        vertical-align: middle;\n",
       "    }\n",
       "\n",
       "    .dataframe tbody tr th {\n",
       "        vertical-align: top;\n",
       "    }\n",
       "\n",
       "    .dataframe thead th {\n",
       "        text-align: right;\n",
       "    }\n",
       "</style>\n",
       "<table border=\"1\" class=\"dataframe\">\n",
       "  <thead>\n",
       "    <tr style=\"text-align: right;\">\n",
       "      <th></th>\n",
       "      <th>BRKEY</th>\n",
       "      <th>ON_UNDER</th>\n",
       "      <th>FACILITY</th>\n",
       "      <th>ROADWAY_NAME</th>\n",
       "      <th>FEATURE_INTERSECTED</th>\n",
       "      <th>DISTRICT</th>\n",
       "      <th>COUNTY</th>\n",
       "      <th>CITY - TOWNSHIP</th>\n",
       "      <th>LOCATION DESC</th>\n",
       "      <th>OWNER</th>\n",
       "      <th>...</th>\n",
       "      <th>PERMIT_CODE_48K_DESC</th>\n",
       "      <th>PERMIT_CODE_60K_CODE</th>\n",
       "      <th>PERMIT_CODE_60K_DESC</th>\n",
       "      <th>PERMIT_CODE_72K_CODE</th>\n",
       "      <th>PERMIT_CODE_72K_DESC</th>\n",
       "      <th>VEHICLE_POSTED_CAPACITY</th>\n",
       "      <th>SEMI_POSTED_CAPACITY</th>\n",
       "      <th>DOUBLE_POSTED_CAPACITY</th>\n",
       "      <th>LATITUDE</th>\n",
       "      <th>LONGITUDE</th>\n",
       "    </tr>\n",
       "  </thead>\n",
       "  <tbody>\n",
       "    <tr>\n",
       "      <th>0</th>\n",
       "      <td>01002</td>\n",
       "      <td>1</td>\n",
       "      <td>MN 200</td>\n",
       "      <td>MN 200</td>\n",
       "      <td>HILL LAKE CHANNEL</td>\n",
       "      <td>01</td>\n",
       "      <td>AITKIN</td>\n",
       "      <td>HILL LAKE (TOWNSHIP OF)</td>\n",
       "      <td>0.8 MI E OF JCT TH 169</td>\n",
       "      <td>STATE HIGHWAY AGENCY</td>\n",
       "      <td>...</td>\n",
       "      <td>NO RESTRICTION</td>\n",
       "      <td>1</td>\n",
       "      <td>NO RESTRICTION</td>\n",
       "      <td>1</td>\n",
       "      <td>NO RESTRICTION</td>\n",
       "      <td>NaN</td>\n",
       "      <td>NaN</td>\n",
       "      <td>NaN</td>\n",
       "      <td>46.987514</td>\n",
       "      <td>-93.588928</td>\n",
       "    </tr>\n",
       "    <tr>\n",
       "      <th>1</th>\n",
       "      <td>01004</td>\n",
       "      <td>1</td>\n",
       "      <td>US 169</td>\n",
       "      <td>US 169</td>\n",
       "      <td>MISSISSIPPI RIVER</td>\n",
       "      <td>03</td>\n",
       "      <td>AITKIN</td>\n",
       "      <td>MORRISON (TOWNSHIP OF)</td>\n",
       "      <td>2.9 MI N OF N JCT TH 210</td>\n",
       "      <td>STATE HIGHWAY AGENCY</td>\n",
       "      <td>...</td>\n",
       "      <td>NO RESTRICTION</td>\n",
       "      <td>1</td>\n",
       "      <td>NO RESTRICTION</td>\n",
       "      <td>1</td>\n",
       "      <td>NO RESTRICTION</td>\n",
       "      <td>NaN</td>\n",
       "      <td>NaN</td>\n",
       "      <td>NaN</td>\n",
       "      <td>46.651128</td>\n",
       "      <td>-93.612747</td>\n",
       "    </tr>\n",
       "    <tr>\n",
       "      <th>2</th>\n",
       "      <td>01005</td>\n",
       "      <td>1</td>\n",
       "      <td>MN 210</td>\n",
       "      <td>MN 210</td>\n",
       "      <td>RIPPLE RIVER</td>\n",
       "      <td>03</td>\n",
       "      <td>AITKIN</td>\n",
       "      <td>AITKIN</td>\n",
       "      <td>0.2 MI E OF W JCT TH 169</td>\n",
       "      <td>STATE HIGHWAY AGENCY</td>\n",
       "      <td>...</td>\n",
       "      <td>NO RESTRICTION</td>\n",
       "      <td>1</td>\n",
       "      <td>NO RESTRICTION</td>\n",
       "      <td>1</td>\n",
       "      <td>NO RESTRICTION</td>\n",
       "      <td>NaN</td>\n",
       "      <td>NaN</td>\n",
       "      <td>NaN</td>\n",
       "      <td>46.533364</td>\n",
       "      <td>-93.702469</td>\n",
       "    </tr>\n",
       "    <tr>\n",
       "      <th>3</th>\n",
       "      <td>01006</td>\n",
       "      <td>1</td>\n",
       "      <td>MN 210</td>\n",
       "      <td>MN 210</td>\n",
       "      <td>RICE RIVER</td>\n",
       "      <td>03</td>\n",
       "      <td>AITKIN</td>\n",
       "      <td>MORRISON (TOWNSHIP OF)</td>\n",
       "      <td>7.4 MI NE OF JCT TH 169</td>\n",
       "      <td>STATE HIGHWAY AGENCY</td>\n",
       "      <td>...</td>\n",
       "      <td>NO RESTRICTION</td>\n",
       "      <td>1</td>\n",
       "      <td>NO RESTRICTION</td>\n",
       "      <td>1</td>\n",
       "      <td>NO RESTRICTION</td>\n",
       "      <td>NaN</td>\n",
       "      <td>NaN</td>\n",
       "      <td>NaN</td>\n",
       "      <td>46.598764</td>\n",
       "      <td>-93.612883</td>\n",
       "    </tr>\n",
       "    <tr>\n",
       "      <th>4</th>\n",
       "      <td>01007</td>\n",
       "      <td>1</td>\n",
       "      <td>MN 210</td>\n",
       "      <td>MN 210</td>\n",
       "      <td>BNSF RR</td>\n",
       "      <td>01</td>\n",
       "      <td>AITKIN</td>\n",
       "      <td>MCGREGOR</td>\n",
       "      <td>0.5 MI E OF W JCT TH 65</td>\n",
       "      <td>STATE HIGHWAY AGENCY</td>\n",
       "      <td>...</td>\n",
       "      <td>NO RESTRICTION</td>\n",
       "      <td>1</td>\n",
       "      <td>NO RESTRICTION</td>\n",
       "      <td>1</td>\n",
       "      <td>NO RESTRICTION</td>\n",
       "      <td>NaN</td>\n",
       "      <td>NaN</td>\n",
       "      <td>NaN</td>\n",
       "      <td>46.609233</td>\n",
       "      <td>-93.307086</td>\n",
       "    </tr>\n",
       "  </tbody>\n",
       "</table>\n",
       "<p>5 rows × 25 columns</p>\n",
       "</div>"
      ],
      "text/plain": [
       "   BRKEY ON_UNDER FACILITY ROADWAY_NAME FEATURE_INTERSECTED DISTRICT  COUNTY  \\\n",
       "0  01002        1   MN 200       MN 200   HILL LAKE CHANNEL       01  AITKIN   \n",
       "1  01004        1   US 169       US 169   MISSISSIPPI RIVER       03  AITKIN   \n",
       "2  01005        1   MN 210       MN 210        RIPPLE RIVER       03  AITKIN   \n",
       "3  01006        1   MN 210       MN 210          RICE RIVER       03  AITKIN   \n",
       "4  01007        1   MN 210       MN 210             BNSF RR       01  AITKIN   \n",
       "\n",
       "           CITY - TOWNSHIP             LOCATION DESC                 OWNER  \\\n",
       "0  HILL LAKE (TOWNSHIP OF)    0.8 MI E OF JCT TH 169  STATE HIGHWAY AGENCY   \n",
       "1   MORRISON (TOWNSHIP OF)  2.9 MI N OF N JCT TH 210  STATE HIGHWAY AGENCY   \n",
       "2                   AITKIN  0.2 MI E OF W JCT TH 169  STATE HIGHWAY AGENCY   \n",
       "3   MORRISON (TOWNSHIP OF)   7.4 MI NE OF JCT TH 169  STATE HIGHWAY AGENCY   \n",
       "4                 MCGREGOR   0.5 MI E OF W JCT TH 65  STATE HIGHWAY AGENCY   \n",
       "\n",
       "   ...  PERMIT_CODE_48K_DESC  PERMIT_CODE_60K_CODE  PERMIT_CODE_60K_DESC  \\\n",
       "0  ...        NO RESTRICTION                     1        NO RESTRICTION   \n",
       "1  ...        NO RESTRICTION                     1        NO RESTRICTION   \n",
       "2  ...        NO RESTRICTION                     1        NO RESTRICTION   \n",
       "3  ...        NO RESTRICTION                     1        NO RESTRICTION   \n",
       "4  ...        NO RESTRICTION                     1        NO RESTRICTION   \n",
       "\n",
       "   PERMIT_CODE_72K_CODE PERMIT_CODE_72K_DESC VEHICLE_POSTED_CAPACITY  \\\n",
       "0                     1       NO RESTRICTION                     NaN   \n",
       "1                     1       NO RESTRICTION                     NaN   \n",
       "2                     1       NO RESTRICTION                     NaN   \n",
       "3                     1       NO RESTRICTION                     NaN   \n",
       "4                     1       NO RESTRICTION                     NaN   \n",
       "\n",
       "  SEMI_POSTED_CAPACITY DOUBLE_POSTED_CAPACITY   LATITUDE  LONGITUDE  \n",
       "0                  NaN                    NaN  46.987514 -93.588928  \n",
       "1                  NaN                    NaN  46.651128 -93.612747  \n",
       "2                  NaN                    NaN  46.533364 -93.702469  \n",
       "3                  NaN                    NaN  46.598764 -93.612883  \n",
       "4                  NaN                    NaN  46.609233 -93.307086  \n",
       "\n",
       "[5 rows x 25 columns]"
      ]
     },
     "execution_count": 77,
     "metadata": {},
     "output_type": "execute_result"
    }
   ],
   "source": [
    "bridgeRestrictionDF.head()"
   ]
  },
  {
   "cell_type": "code",
   "execution_count": 84,
   "metadata": {},
   "outputs": [
    {
     "name": "stderr",
     "output_type": "stream",
     "text": [
      "c:\\Users\\mingzhou\\anaconda3\\lib\\site-packages\\ipykernel\\ipkernel.py:287: DeprecationWarning: `should_run_async` will not call `transform_cell` automatically in the future. Please pass the result to `transformed_cell` argument and any exception that happen during thetransform in `preprocessing_exc_tuple` in IPython 7.17 and above.\n",
      "  and should_run_async(code)\n"
     ]
    },
    {
     "data": {
      "text/plain": [
       "0         NaN\n",
       "1         NaN\n",
       "2         NaN\n",
       "3         NaN\n",
       "4         NaN\n",
       "         ... \n",
       "24381     NaN\n",
       "24382    18.0\n",
       "24383    18.0\n",
       "24384     NaN\n",
       "24385    17.4\n",
       "Name: VERTICAL_CLR_RD1_FEET, Length: 24386, dtype: float64"
      ]
     },
     "execution_count": 84,
     "metadata": {},
     "output_type": "execute_result"
    }
   ],
   "source": [
    "bridgeRestrictionDF['VERTICAL_CLR_RD1_FEET']"
   ]
  },
  {
   "cell_type": "code",
   "execution_count": 89,
   "metadata": {},
   "outputs": [
    {
     "name": "stderr",
     "output_type": "stream",
     "text": [
      "c:\\Users\\mingzhou\\anaconda3\\lib\\site-packages\\ipykernel\\ipkernel.py:287: DeprecationWarning: `should_run_async` will not call `transform_cell` automatically in the future. Please pass the result to `transformed_cell` argument and any exception that happen during thetransform in `preprocessing_exc_tuple` in IPython 7.17 and above.\n",
      "  and should_run_async(code)\n"
     ]
    }
   ],
   "source": [
    "values = {\"VERTICAL_CLR_RD1_FEET\": 100, \"VERTICAL_CLR_RD2_FEET\": 100, \"HORIZONTAL_CLR_RD1_FEET\": 100, \"HORIZONTAL_CLR_RD2_FEET\": 100}\n",
    "bridgeRestrictionDF = bridgeRestrictionDF.fillna(value=values)"
   ]
  },
  {
   "cell_type": "code",
   "execution_count": 90,
   "metadata": {},
   "outputs": [
    {
     "name": "stderr",
     "output_type": "stream",
     "text": [
      "c:\\Users\\mingzhou\\anaconda3\\lib\\site-packages\\ipykernel\\ipkernel.py:287: DeprecationWarning: `should_run_async` will not call `transform_cell` automatically in the future. Please pass the result to `transformed_cell` argument and any exception that happen during thetransform in `preprocessing_exc_tuple` in IPython 7.17 and above.\n",
      "  and should_run_async(code)\n"
     ]
    },
    {
     "data": {
      "text/plain": [
       "BRKEY                                        01002\n",
       "ON_UNDER                                         1\n",
       "FACILITY                                    MN 200\n",
       "ROADWAY_NAME                                MN 200\n",
       "FEATURE_INTERSECTED              HILL LAKE CHANNEL\n",
       "DISTRICT                                        01\n",
       "COUNTY                                      AITKIN\n",
       "CITY - TOWNSHIP            HILL LAKE (TOWNSHIP OF)\n",
       "LOCATION DESC               0.8 MI E OF JCT TH 169\n",
       "OWNER                         STATE HIGHWAY AGENCY\n",
       "VERTICAL_CLR_RD1_FEET                        100.0\n",
       "VERTICAL_CLR_RD2_FEET                        100.0\n",
       "HORIZONTAL_CLR_RD1_FEET                       45.9\n",
       "HORIZONTAL_CLR_RD2_FEET                      100.0\n",
       "PERMIT_CODE_48K_CODE                             1\n",
       "PERMIT_CODE_48K_DESC                NO RESTRICTION\n",
       "PERMIT_CODE_60K_CODE                             1\n",
       "PERMIT_CODE_60K_DESC                NO RESTRICTION\n",
       "PERMIT_CODE_72K_CODE                             1\n",
       "PERMIT_CODE_72K_DESC                NO RESTRICTION\n",
       "VEHICLE_POSTED_CAPACITY                        NaN\n",
       "SEMI_POSTED_CAPACITY                           NaN\n",
       "DOUBLE_POSTED_CAPACITY                         NaN\n",
       "LATITUDE                                 46.987514\n",
       "LONGITUDE                               -93.588928\n",
       "Name: 0, dtype: object"
      ]
     },
     "execution_count": 90,
     "metadata": {},
     "output_type": "execute_result"
    }
   ],
   "source": [
    "bridgeRestrictionDF.iloc[0]"
   ]
  },
  {
   "cell_type": "code",
   "execution_count": 135,
   "metadata": {},
   "outputs": [
    {
     "name": "stderr",
     "output_type": "stream",
     "text": [
      "c:\\Users\\mingzhou\\anaconda3\\lib\\site-packages\\ipykernel\\ipkernel.py:287: DeprecationWarning: `should_run_async` will not call `transform_cell` automatically in the future. Please pass the result to `transformed_cell` argument and any exception that happen during thetransform in `preprocessing_exc_tuple` in IPython 7.17 and above.\n",
      "  and should_run_async(code)\n"
     ]
    }
   ],
   "source": [
    "bridgeRestriction = bridgeRestrictionDF[(bridgeRestrictionDF['PERMIT_CODE_72K_CODE']=='X') \n",
    "                    | ((bridgeRestrictionDF['VERTICAL_CLR_RD1_FEET'] < 13.5) & (bridgeRestrictionDF['VERTICAL_CLR_RD1_FEET'] >0.1 ))\n",
    "                    | ((bridgeRestrictionDF['VERTICAL_CLR_RD2_FEET'] < 13.5) & (bridgeRestrictionDF['VERTICAL_CLR_RD2_FEET'] >0.1 ))\n",
    "                    | ((bridgeRestrictionDF['HORIZONTAL_CLR_RD1_FEET'] < 8.5) & (bridgeRestrictionDF['HORIZONTAL_CLR_RD1_FEET'] >0.1 ))\n",
    "                    | ((bridgeRestrictionDF['HORIZONTAL_CLR_RD2_FEET'] < 8.5) & (bridgeRestrictionDF['HORIZONTAL_CLR_RD2_FEET'] >0.1 ))]"
   ]
  },
  {
   "cell_type": "code",
   "execution_count": 136,
   "metadata": {},
   "outputs": [
    {
     "name": "stderr",
     "output_type": "stream",
     "text": [
      "c:\\Users\\mingzhou\\anaconda3\\lib\\site-packages\\ipykernel\\ipkernel.py:287: DeprecationWarning: `should_run_async` will not call `transform_cell` automatically in the future. Please pass the result to `transformed_cell` argument and any exception that happen during thetransform in `preprocessing_exc_tuple` in IPython 7.17 and above.\n",
      "  and should_run_async(code)\n"
     ]
    },
    {
     "data": {
      "text/plain": [
       "957"
      ]
     },
     "execution_count": 136,
     "metadata": {},
     "output_type": "execute_result"
    }
   ],
   "source": [
    "len(bridgeRestriction)"
   ]
  },
  {
   "cell_type": "code",
   "execution_count": 137,
   "metadata": {},
   "outputs": [],
   "source": [
    "def isInBbox(arraylike):\n",
    "    point = Point(arraylike['LONGITUDE'], arraylike['LATITUDE'])\n",
    "    if point.isContained(boundingBox):\n",
    "        return True\n",
    "    return False"
   ]
  },
  {
   "cell_type": "code",
   "execution_count": 138,
   "metadata": {},
   "outputs": [
    {
     "name": "stderr",
     "output_type": "stream",
     "text": [
      "<ipython-input-138-71c82ce07507>:1: SettingWithCopyWarning: \n",
      "A value is trying to be set on a copy of a slice from a DataFrame.\n",
      "Try using .loc[row_indexer,col_indexer] = value instead\n",
      "\n",
      "See the caveats in the documentation: https://pandas.pydata.org/pandas-docs/stable/user_guide/indexing.html#returning-a-view-versus-a-copy\n",
      "  bridgeRestriction['inBbox'] = bridgeRestriction.apply(isInBbox, axis=1)\n"
     ]
    }
   ],
   "source": [
    "bridgeRestriction['inBbox'] = bridgeRestriction.apply(isInBbox, axis=1)"
   ]
  },
  {
   "cell_type": "code",
   "execution_count": 139,
   "metadata": {},
   "outputs": [
    {
     "data": {
      "text/html": [
       "<div>\n",
       "<style scoped>\n",
       "    .dataframe tbody tr th:only-of-type {\n",
       "        vertical-align: middle;\n",
       "    }\n",
       "\n",
       "    .dataframe tbody tr th {\n",
       "        vertical-align: top;\n",
       "    }\n",
       "\n",
       "    .dataframe thead th {\n",
       "        text-align: right;\n",
       "    }\n",
       "</style>\n",
       "<table border=\"1\" class=\"dataframe\">\n",
       "  <thead>\n",
       "    <tr style=\"text-align: right;\">\n",
       "      <th></th>\n",
       "      <th>BRKEY</th>\n",
       "      <th>ON_UNDER</th>\n",
       "      <th>FACILITY</th>\n",
       "      <th>ROADWAY_NAME</th>\n",
       "      <th>FEATURE_INTERSECTED</th>\n",
       "      <th>DISTRICT</th>\n",
       "      <th>COUNTY</th>\n",
       "      <th>CITY - TOWNSHIP</th>\n",
       "      <th>LOCATION DESC</th>\n",
       "      <th>OWNER</th>\n",
       "      <th>...</th>\n",
       "      <th>PERMIT_CODE_60K_CODE</th>\n",
       "      <th>PERMIT_CODE_60K_DESC</th>\n",
       "      <th>PERMIT_CODE_72K_CODE</th>\n",
       "      <th>PERMIT_CODE_72K_DESC</th>\n",
       "      <th>VEHICLE_POSTED_CAPACITY</th>\n",
       "      <th>SEMI_POSTED_CAPACITY</th>\n",
       "      <th>DOUBLE_POSTED_CAPACITY</th>\n",
       "      <th>LATITUDE</th>\n",
       "      <th>LONGITUDE</th>\n",
       "      <th>inBbox</th>\n",
       "    </tr>\n",
       "  </thead>\n",
       "  <tbody>\n",
       "    <tr>\n",
       "      <th>12</th>\n",
       "      <td>01502</td>\n",
       "      <td>1</td>\n",
       "      <td>CSAH 22</td>\n",
       "      <td>CSAH 22 (400TH ST)</td>\n",
       "      <td>WAKEFIELD BROOK</td>\n",
       "      <td>03</td>\n",
       "      <td>AITKIN</td>\n",
       "      <td>AITKIN (TOWNSHIP OF)</td>\n",
       "      <td>1.2 MI W OF JCT CSAH 24</td>\n",
       "      <td>COUNTY HIGHWAY AGENCY</td>\n",
       "      <td>...</td>\n",
       "      <td>1</td>\n",
       "      <td>NO RESTRICTION</td>\n",
       "      <td>X</td>\n",
       "      <td>DENIED</td>\n",
       "      <td>NaN</td>\n",
       "      <td>NaN</td>\n",
       "      <td>NaN</td>\n",
       "      <td>46.593289</td>\n",
       "      <td>-93.777664</td>\n",
       "      <td>False</td>\n",
       "    </tr>\n",
       "    <tr>\n",
       "      <th>165</th>\n",
       "      <td>02502</td>\n",
       "      <td>1</td>\n",
       "      <td>CSAH 28</td>\n",
       "      <td>CSAH 28</td>\n",
       "      <td>SEELYE BROOK</td>\n",
       "      <td>METRO</td>\n",
       "      <td>ANOKA</td>\n",
       "      <td>ST FRANCIS</td>\n",
       "      <td>0.1 MI W OF JCT CR 71</td>\n",
       "      <td>COUNTY HIGHWAY AGENCY</td>\n",
       "      <td>...</td>\n",
       "      <td>X</td>\n",
       "      <td>DENIED</td>\n",
       "      <td>X</td>\n",
       "      <td>DENIED</td>\n",
       "      <td>32.0</td>\n",
       "      <td>NaN</td>\n",
       "      <td>NaN</td>\n",
       "      <td>45.402922</td>\n",
       "      <td>-93.417939</td>\n",
       "      <td>True</td>\n",
       "    </tr>\n",
       "    <tr>\n",
       "      <th>288</th>\n",
       "      <td>02J26</td>\n",
       "      <td>1</td>\n",
       "      <td>MSAS 143</td>\n",
       "      <td>LAKES PKWY NE</td>\n",
       "      <td>LAKE CHANNEL</td>\n",
       "      <td>METRO</td>\n",
       "      <td>ANOKA</td>\n",
       "      <td>BLAINE</td>\n",
       "      <td>0.9 MI E OF JCT CSAH 52</td>\n",
       "      <td>CITY OR MUNICIPAL HIGHWA</td>\n",
       "      <td>...</td>\n",
       "      <td>X</td>\n",
       "      <td>DENIED</td>\n",
       "      <td>X</td>\n",
       "      <td>DENIED</td>\n",
       "      <td>NaN</td>\n",
       "      <td>NaN</td>\n",
       "      <td>NaN</td>\n",
       "      <td>45.192647</td>\n",
       "      <td>-93.195672</td>\n",
       "      <td>True</td>\n",
       "    </tr>\n",
       "    <tr>\n",
       "      <th>290</th>\n",
       "      <td>02J28</td>\n",
       "      <td>1</td>\n",
       "      <td>MUN 1053</td>\n",
       "      <td>EDISON ST</td>\n",
       "      <td>LAKE CHANNEL</td>\n",
       "      <td>METRO</td>\n",
       "      <td>ANOKA</td>\n",
       "      <td>BLAINE</td>\n",
       "      <td>0.1 MI S OF LAKE BLVD</td>\n",
       "      <td>CITY OR MUNICIPAL HIGHWA</td>\n",
       "      <td>...</td>\n",
       "      <td>X</td>\n",
       "      <td>DENIED</td>\n",
       "      <td>X</td>\n",
       "      <td>DENIED</td>\n",
       "      <td>NaN</td>\n",
       "      <td>NaN</td>\n",
       "      <td>NaN</td>\n",
       "      <td>45.180892</td>\n",
       "      <td>-93.195700</td>\n",
       "      <td>True</td>\n",
       "    </tr>\n",
       "    <tr>\n",
       "      <th>324</th>\n",
       "      <td>03504</td>\n",
       "      <td>1</td>\n",
       "      <td>T 676</td>\n",
       "      <td>150TH AVE</td>\n",
       "      <td>BUFFALO RIVER</td>\n",
       "      <td>04</td>\n",
       "      <td>BECKER</td>\n",
       "      <td>CUBA (TOWNSHIP OF)</td>\n",
       "      <td>1.0 MI N OF JCT CSAH 12</td>\n",
       "      <td>TOWN OR TOWNSHIP HIGHWAY</td>\n",
       "      <td>...</td>\n",
       "      <td>1</td>\n",
       "      <td>NO RESTRICTION</td>\n",
       "      <td>X</td>\n",
       "      <td>DENIED</td>\n",
       "      <td>NaN</td>\n",
       "      <td>NaN</td>\n",
       "      <td>NaN</td>\n",
       "      <td>46.948506</td>\n",
       "      <td>-96.090844</td>\n",
       "      <td>False</td>\n",
       "    </tr>\n",
       "  </tbody>\n",
       "</table>\n",
       "<p>5 rows × 26 columns</p>\n",
       "</div>"
      ],
      "text/plain": [
       "     BRKEY ON_UNDER  FACILITY        ROADWAY_NAME FEATURE_INTERSECTED  \\\n",
       "12   01502        1   CSAH 22  CSAH 22 (400TH ST)     WAKEFIELD BROOK   \n",
       "165  02502        1   CSAH 28             CSAH 28        SEELYE BROOK   \n",
       "288  02J26        1  MSAS 143       LAKES PKWY NE        LAKE CHANNEL   \n",
       "290  02J28        1  MUN 1053           EDISON ST        LAKE CHANNEL   \n",
       "324  03504        1     T 676           150TH AVE       BUFFALO RIVER   \n",
       "\n",
       "    DISTRICT  COUNTY       CITY - TOWNSHIP            LOCATION DESC  \\\n",
       "12        03  AITKIN  AITKIN (TOWNSHIP OF)  1.2 MI W OF JCT CSAH 24   \n",
       "165    METRO   ANOKA            ST FRANCIS    0.1 MI W OF JCT CR 71   \n",
       "288    METRO   ANOKA                BLAINE  0.9 MI E OF JCT CSAH 52   \n",
       "290    METRO   ANOKA                BLAINE    0.1 MI S OF LAKE BLVD   \n",
       "324       04  BECKER    CUBA (TOWNSHIP OF)  1.0 MI N OF JCT CSAH 12   \n",
       "\n",
       "                        OWNER  ...  PERMIT_CODE_60K_CODE  \\\n",
       "12      COUNTY HIGHWAY AGENCY  ...                     1   \n",
       "165     COUNTY HIGHWAY AGENCY  ...                     X   \n",
       "288  CITY OR MUNICIPAL HIGHWA  ...                     X   \n",
       "290  CITY OR MUNICIPAL HIGHWA  ...                     X   \n",
       "324  TOWN OR TOWNSHIP HIGHWAY  ...                     1   \n",
       "\n",
       "     PERMIT_CODE_60K_DESC  PERMIT_CODE_72K_CODE  PERMIT_CODE_72K_DESC  \\\n",
       "12         NO RESTRICTION                     X                DENIED   \n",
       "165                DENIED                     X                DENIED   \n",
       "288                DENIED                     X                DENIED   \n",
       "290                DENIED                     X                DENIED   \n",
       "324        NO RESTRICTION                     X                DENIED   \n",
       "\n",
       "    VEHICLE_POSTED_CAPACITY SEMI_POSTED_CAPACITY DOUBLE_POSTED_CAPACITY  \\\n",
       "12                      NaN                  NaN                    NaN   \n",
       "165                    32.0                  NaN                    NaN   \n",
       "288                     NaN                  NaN                    NaN   \n",
       "290                     NaN                  NaN                    NaN   \n",
       "324                     NaN                  NaN                    NaN   \n",
       "\n",
       "      LATITUDE  LONGITUDE inBbox  \n",
       "12   46.593289 -93.777664  False  \n",
       "165  45.402922 -93.417939   True  \n",
       "288  45.192647 -93.195672   True  \n",
       "290  45.180892 -93.195700   True  \n",
       "324  46.948506 -96.090844  False  \n",
       "\n",
       "[5 rows x 26 columns]"
      ]
     },
     "execution_count": 139,
     "metadata": {},
     "output_type": "execute_result"
    }
   ],
   "source": [
    "bridgeRestriction.head()"
   ]
  },
  {
   "cell_type": "code",
   "execution_count": 140,
   "metadata": {},
   "outputs": [
    {
     "name": "stdout",
     "output_type": "stream",
     "text": [
      "-94.65258355209289,-91.7879164479071,43.96958146789451,45.995818532105496\n"
     ]
    },
    {
     "name": "stderr",
     "output_type": "stream",
     "text": [
      "c:\\Users\\mingzhou\\anaconda3\\lib\\site-packages\\ipykernel\\ipkernel.py:287: DeprecationWarning: `should_run_async` will not call `transform_cell` automatically in the future. Please pass the result to `transformed_cell` argument and any exception that happen during thetransform in `preprocessing_exc_tuple` in IPython 7.17 and above.\n",
      "  and should_run_async(code)\n"
     ]
    }
   ],
   "source": [
    "print(boundingBox)"
   ]
  },
  {
   "cell_type": "code",
   "execution_count": 141,
   "metadata": {},
   "outputs": [],
   "source": [
    "bridgeRestriction = bridgeRestriction[bridgeRestriction['inBbox']]"
   ]
  },
  {
   "cell_type": "code",
   "execution_count": 142,
   "metadata": {},
   "outputs": [
    {
     "data": {
      "text/plain": [
       "240"
      ]
     },
     "execution_count": 142,
     "metadata": {},
     "output_type": "execute_result"
    }
   ],
   "source": [
    "len(bridgeRestriction)"
   ]
  },
  {
   "cell_type": "code",
   "execution_count": 143,
   "metadata": {},
   "outputs": [
    {
     "data": {
      "text/html": [
       "<div>\n",
       "<style scoped>\n",
       "    .dataframe tbody tr th:only-of-type {\n",
       "        vertical-align: middle;\n",
       "    }\n",
       "\n",
       "    .dataframe tbody tr th {\n",
       "        vertical-align: top;\n",
       "    }\n",
       "\n",
       "    .dataframe thead th {\n",
       "        text-align: right;\n",
       "    }\n",
       "</style>\n",
       "<table border=\"1\" class=\"dataframe\">\n",
       "  <thead>\n",
       "    <tr style=\"text-align: right;\">\n",
       "      <th></th>\n",
       "      <th>VERTICAL_CLR_RD1_FEET</th>\n",
       "      <th>VERTICAL_CLR_RD2_FEET</th>\n",
       "      <th>HORIZONTAL_CLR_RD1_FEET</th>\n",
       "      <th>HORIZONTAL_CLR_RD2_FEET</th>\n",
       "      <th>VEHICLE_POSTED_CAPACITY</th>\n",
       "      <th>SEMI_POSTED_CAPACITY</th>\n",
       "      <th>DOUBLE_POSTED_CAPACITY</th>\n",
       "      <th>LATITUDE</th>\n",
       "      <th>LONGITUDE</th>\n",
       "    </tr>\n",
       "  </thead>\n",
       "  <tbody>\n",
       "    <tr>\n",
       "      <th>count</th>\n",
       "      <td>240.000000</td>\n",
       "      <td>240.0</td>\n",
       "      <td>240.000000</td>\n",
       "      <td>240.000000</td>\n",
       "      <td>185.000000</td>\n",
       "      <td>137.000000</td>\n",
       "      <td>137.000000</td>\n",
       "      <td>240.000000</td>\n",
       "      <td>240.000000</td>\n",
       "    </tr>\n",
       "    <tr>\n",
       "      <th>mean</th>\n",
       "      <td>98.487083</td>\n",
       "      <td>100.0</td>\n",
       "      <td>30.183750</td>\n",
       "      <td>98.750000</td>\n",
       "      <td>25.281081</td>\n",
       "      <td>35.591241</td>\n",
       "      <td>35.605839</td>\n",
       "      <td>44.760023</td>\n",
       "      <td>-93.341723</td>\n",
       "    </tr>\n",
       "    <tr>\n",
       "      <th>std</th>\n",
       "      <td>11.649410</td>\n",
       "      <td>0.0</td>\n",
       "      <td>12.325343</td>\n",
       "      <td>9.836105</td>\n",
       "      <td>9.188658</td>\n",
       "      <td>6.648258</td>\n",
       "      <td>6.669022</td>\n",
       "      <td>0.545344</td>\n",
       "      <td>0.651383</td>\n",
       "    </tr>\n",
       "    <tr>\n",
       "      <th>min</th>\n",
       "      <td>7.600000</td>\n",
       "      <td>100.0</td>\n",
       "      <td>8.000000</td>\n",
       "      <td>0.000000</td>\n",
       "      <td>3.000000</td>\n",
       "      <td>14.000000</td>\n",
       "      <td>14.000000</td>\n",
       "      <td>43.974286</td>\n",
       "      <td>-94.639983</td>\n",
       "    </tr>\n",
       "    <tr>\n",
       "      <th>25%</th>\n",
       "      <td>100.000000</td>\n",
       "      <td>100.0</td>\n",
       "      <td>24.000000</td>\n",
       "      <td>100.000000</td>\n",
       "      <td>20.000000</td>\n",
       "      <td>32.000000</td>\n",
       "      <td>32.000000</td>\n",
       "      <td>44.288313</td>\n",
       "      <td>-93.831548</td>\n",
       "    </tr>\n",
       "    <tr>\n",
       "      <th>50%</th>\n",
       "      <td>100.000000</td>\n",
       "      <td>100.0</td>\n",
       "      <td>28.000000</td>\n",
       "      <td>100.000000</td>\n",
       "      <td>26.000000</td>\n",
       "      <td>40.000000</td>\n",
       "      <td>40.000000</td>\n",
       "      <td>44.717263</td>\n",
       "      <td>-93.285110</td>\n",
       "    </tr>\n",
       "    <tr>\n",
       "      <th>75%</th>\n",
       "      <td>100.000000</td>\n",
       "      <td>100.0</td>\n",
       "      <td>32.000000</td>\n",
       "      <td>100.000000</td>\n",
       "      <td>32.000000</td>\n",
       "      <td>40.000000</td>\n",
       "      <td>40.000000</td>\n",
       "      <td>45.035478</td>\n",
       "      <td>-92.899417</td>\n",
       "    </tr>\n",
       "    <tr>\n",
       "      <th>max</th>\n",
       "      <td>100.000000</td>\n",
       "      <td>100.0</td>\n",
       "      <td>100.000000</td>\n",
       "      <td>100.000000</td>\n",
       "      <td>40.000000</td>\n",
       "      <td>40.000000</td>\n",
       "      <td>40.000000</td>\n",
       "      <td>45.976231</td>\n",
       "      <td>-91.805811</td>\n",
       "    </tr>\n",
       "  </tbody>\n",
       "</table>\n",
       "</div>"
      ],
      "text/plain": [
       "       VERTICAL_CLR_RD1_FEET  VERTICAL_CLR_RD2_FEET  HORIZONTAL_CLR_RD1_FEET  \\\n",
       "count             240.000000                  240.0               240.000000   \n",
       "mean               98.487083                  100.0                30.183750   \n",
       "std                11.649410                    0.0                12.325343   \n",
       "min                 7.600000                  100.0                 8.000000   \n",
       "25%               100.000000                  100.0                24.000000   \n",
       "50%               100.000000                  100.0                28.000000   \n",
       "75%               100.000000                  100.0                32.000000   \n",
       "max               100.000000                  100.0               100.000000   \n",
       "\n",
       "       HORIZONTAL_CLR_RD2_FEET  VEHICLE_POSTED_CAPACITY  SEMI_POSTED_CAPACITY  \\\n",
       "count               240.000000               185.000000            137.000000   \n",
       "mean                 98.750000                25.281081             35.591241   \n",
       "std                   9.836105                 9.188658              6.648258   \n",
       "min                   0.000000                 3.000000             14.000000   \n",
       "25%                 100.000000                20.000000             32.000000   \n",
       "50%                 100.000000                26.000000             40.000000   \n",
       "75%                 100.000000                32.000000             40.000000   \n",
       "max                 100.000000                40.000000             40.000000   \n",
       "\n",
       "       DOUBLE_POSTED_CAPACITY    LATITUDE   LONGITUDE  \n",
       "count              137.000000  240.000000  240.000000  \n",
       "mean                35.605839   44.760023  -93.341723  \n",
       "std                  6.669022    0.545344    0.651383  \n",
       "min                 14.000000   43.974286  -94.639983  \n",
       "25%                 32.000000   44.288313  -93.831548  \n",
       "50%                 40.000000   44.717263  -93.285110  \n",
       "75%                 40.000000   45.035478  -92.899417  \n",
       "max                 40.000000   45.976231  -91.805811  "
      ]
     },
     "execution_count": 143,
     "metadata": {},
     "output_type": "execute_result"
    }
   ],
   "source": [
    "bridgeRestriction.describe(include=[np.number])"
   ]
  },
  {
   "cell_type": "code",
   "execution_count": 147,
   "metadata": {},
   "outputs": [
    {
     "data": {
      "text/plain": [
       "(-94.54655583, 45.32252174)"
      ]
     },
     "execution_count": 147,
     "metadata": {},
     "output_type": "execute_result"
    }
   ],
   "source": [
    "pathListInBbox[0].coords[0]"
   ]
  },
  {
   "cell_type": "code",
   "execution_count": 152,
   "metadata": {},
   "outputs": [
    {
     "name": "stderr",
     "output_type": "stream",
     "text": [
      "c:\\Users\\mingzhou\\anaconda3\\lib\\site-packages\\ipykernel\\ipkernel.py:287: DeprecationWarning: `should_run_async` will not call `transform_cell` automatically in the future. Please pass the result to `transformed_cell` argument and any exception that happen during thetransform in `preprocessing_exc_tuple` in IPython 7.17 and above.\n",
      "  and should_run_async(code)\n"
     ]
    }
   ],
   "source": [
    "restristedPointList = list(zip(list(bridgeRestriction['LATITUDE']), list(bridgeRestriction['LONGITUDE'])))"
   ]
  },
  {
   "cell_type": "code",
   "execution_count": 153,
   "metadata": {},
   "outputs": [
    {
     "data": {
      "text/plain": [
       "(45.402922, -93.417939)"
      ]
     },
     "execution_count": 153,
     "metadata": {},
     "output_type": "execute_result"
    }
   ],
   "source": [
    "restristedPointList[0]"
   ]
  },
  {
   "cell_type": "code",
   "execution_count": 155,
   "metadata": {},
   "outputs": [
    {
     "name": "stderr",
     "output_type": "stream",
     "text": [
      "c:\\Users\\mingzhou\\anaconda3\\lib\\site-packages\\ipykernel\\ipkernel.py:287: DeprecationWarning:\n",
      "\n",
      "`should_run_async` will not call `transform_cell` automatically in the future. Please pass the result to `transformed_cell` argument and any exception that happen during thetransform in `preprocessing_exc_tuple` in IPython 7.17 and above.\n",
      "\n"
     ]
    }
   ],
   "source": [
    "GraphFunctions.plotPointList({'restrict nodes':  restristedPointList}, ['red'], 'test.html')"
   ]
  },
  {
   "cell_type": "code",
   "execution_count": 160,
   "metadata": {},
   "outputs": [
    {
     "name": "stdout",
     "output_type": "stream",
     "text": [
      "10\n",
      "53\n"
     ]
    },
    {
     "data": {
      "text/plain": [
       "(None, None)"
      ]
     },
     "execution_count": 160,
     "metadata": {},
     "output_type": "execute_result"
    }
   ],
   "source": [
    "trajList = []\n",
    "for i in pathListInBbox:\n",
    "    trajList.append(list(i.coords))\n",
    "print(len(trajList)), print(len(trajList[0]))"
   ]
  },
  {
   "cell_type": "code",
   "execution_count": 161,
   "metadata": {},
   "outputs": [
    {
     "name": "stdout",
     "output_type": "stream",
     "text": [
      "[(-94.54655583, 45.32252174), (-94.54656984, 45.32390502), (-94.54655619, 45.32427189), (-94.54657932, 45.32512165), (-94.54659109, 45.32598824), (-94.54659314, 45.32718583), (-94.5465619, 45.32811682), (-94.54655397, 45.3283355), (-94.54651701, 45.32935598), (-94.54641734, 45.33291583), (-94.5462951, 45.33468286), (-94.54624518, 45.33604311), (-94.54613328, 45.33994672), (-94.54650922, 45.36152701), (-94.54684036, 45.36723391), (-94.54677746, 45.36798637), (-94.54646379, 45.36833718), (-94.54643228, 45.36837194), (-94.54587602, 45.36864668), (-94.54515965, 45.36873289), (-94.53913402, 45.36884577), (-94.53904943, 45.36888183), (-94.53850917, 45.36911495), (-94.53812391, 45.36947598), (-94.53786733, 45.37015453), (-94.53780221, 45.37106455), (-94.53755982, 45.37186893), (-94.53708973, 45.37220832), (-94.53654328, 45.3723822), (-94.53559427, 45.3724122), (-94.53480911, 45.37243702), (-94.53421645, 45.3725845), (-94.53375401, 45.37288326), (-94.53346826, 45.37340019), (-94.53350677, 45.37410177), (-94.53380297, 45.37497542), (-94.53458921, 45.37645009), (-94.53445667, 45.37696495), (-94.53396981, 45.37785362), (-94.53326447, 45.37873623), (-94.53294739, 45.37932107), (-94.53279226, 45.38065536), (-94.53259944, 45.38096399), (-94.53215969, 45.38135245), (-94.53080836, 45.38268381), (-94.5302784, 45.38315768), (-94.52958023, 45.38353655), (-94.5292419, 45.38361239), (-94.52871167, 45.3837362), (-94.52619871, 45.38379963), (-94.51698845, 45.38382334), (-94.51646339, 45.38382393), (-94.51595325, 45.38384684)]\n"
     ]
    },
    {
     "name": "stderr",
     "output_type": "stream",
     "text": [
      "c:\\Users\\mingzhou\\anaconda3\\lib\\site-packages\\ipykernel\\ipkernel.py:287: DeprecationWarning:\n",
      "\n",
      "`should_run_async` will not call `transform_cell` automatically in the future. Please pass the result to `transformed_cell` argument and any exception that happen during thetransform in `preprocessing_exc_tuple` in IPython 7.17 and above.\n",
      "\n"
     ]
    }
   ],
   "source": [
    "print(trajList[0])"
   ]
  },
  {
   "cell_type": "code",
   "execution_count": 168,
   "metadata": {},
   "outputs": [],
   "source": [
    "class GraphFunctionTest():\n",
    "    @staticmethod\n",
    "    def __initGoFigure(lat, long, type='markers', label='default', size=5, color='red'):\n",
    "        '''\n",
    "        type = 'markers' or 'lines'\n",
    "        lat/long: list, if 'type == lines'; float, else\n",
    "        '''\n",
    "        fig = go.Figure(go.Scattermapbox(\n",
    "            name=label,\n",
    "            mode=type,\n",
    "            lon=long,\n",
    "            lat=lat,\n",
    "            marker={'size': size, 'color': color}))\n",
    "        return fig\n",
    "\n",
    "    @staticmethod\n",
    "    def __addTrace(fig, lat, long, type='markers', label='default', size=5, color='red'):\n",
    "        fig.add_trace(go.Scattermapbox(\n",
    "            name=label,\n",
    "            mode=type,\n",
    "            lon=long,\n",
    "            lat=lat,\n",
    "            marker={'size': size, 'color': color}))\n",
    "        return fig\n",
    "\n",
    "    @staticmethod\n",
    "    def __plotFigAndSave(fig, lat_center, long_center, filename):\n",
    "        fig.update_layout(mapbox_style=\"stamen-terrain\",\n",
    "                          mapbox_center_lat=30, mapbox_center_lon=-80)\n",
    "        fig.update_layout(margin={\"r\": 0, \"t\": 0, \"l\": 0, \"b\": 0},\n",
    "                          mapbox={\n",
    "                              'center': {'lat': lat_center,\n",
    "                                         'lon': long_center},\n",
    "                              'zoom': 9.5})\n",
    "        plotly.offline.plot(fig, filename=filename, auto_open=False)\n",
    "        return\n",
    "\n",
    "    @staticmethod\n",
    "    def plotTrajList(trajList, color, label, filename, order = 0):\n",
    "        '''\n",
    "        filename: string end with \".html\"\n",
    "        order: 0=>(lat, lon), 1=>(lon,lat)\n",
    "        '''\n",
    "                \n",
    "        i = 0\n",
    "        for traj in trajList:\n",
    "            if order == 0:\n",
    "                lat, long = zip(*traj)\n",
    "            else:\n",
    "                long, lat = zip(*traj)\n",
    "            # adding the lines joining the nodes\n",
    "            if i == 0:\n",
    "                fig = GraphFunctionTest.__initGoFigure(lat, long, type='lines', label=label, size=5, color=color)\n",
    "\n",
    "            else:\n",
    "                fig = GraphFunctionTest.__addTrace(fig, lat, long, type='lines', label=label, size=5, color=color)\n",
    "            i += 1\n",
    "        # getting center for plots:\n",
    "        lat_center = np.mean(lat)\n",
    "        long_center = np.mean(long)\n",
    "        GraphFunctionTest.__plotFigAndSave(fig, lat_center, long_center, filename)"
   ]
  },
  {
   "cell_type": "code",
   "execution_count": 169,
   "metadata": {},
   "outputs": [
    {
     "name": "stdout",
     "output_type": "stream",
     "text": [
      "red\n",
      "red\n",
      "red\n",
      "red\n",
      "red\n",
      "red\n",
      "red\n",
      "red\n",
      "red\n"
     ]
    }
   ],
   "source": [
    "GraphFunctionTest.plotTrajList(trajList, 'red', 'restrictedPath', 'restrictedPath.html',1)"
   ]
  },
  {
   "cell_type": "code",
   "execution_count": null,
   "metadata": {},
   "outputs": [],
   "source": []
  }
 ],
 "metadata": {
  "kernelspec": {
   "display_name": "Python 3.8.8 ('base')",
   "language": "python",
   "name": "python3"
  },
  "language_info": {
   "codemirror_mode": {
    "name": "ipython",
    "version": 3
   },
   "file_extension": ".py",
   "mimetype": "text/x-python",
   "name": "python",
   "nbconvert_exporter": "python",
   "pygments_lexer": "ipython3",
   "version": "3.8.8"
  },
  "orig_nbformat": 4,
  "vscode": {
   "interpreter": {
    "hash": "81058d71a22c45eb97e5e6b75580fd654d8dce9bb5406f31da99e2d737e7fbff"
   }
  }
 },
 "nbformat": 4,
 "nbformat_minor": 2
}
